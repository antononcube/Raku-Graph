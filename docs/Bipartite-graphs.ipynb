{
 "cells": [
  {
   "cell_type": "markdown",
   "metadata": {},
   "source": [
    "# Bipartite graphs"
   ]
  },
  {
   "cell_type": "markdown",
   "metadata": {},
   "source": [
    "-----\n",
    "\n",
    "## Setup"
   ]
  },
  {
   "cell_type": "markdown",
   "metadata": {},
   "source": [
    "Here are loaded the packages used in the rest of notebook:"
   ]
  },
  {
   "cell_type": "code",
   "execution_count": 1,
   "metadata": {},
   "outputs": [],
   "source": [
    "use Graph;\n",
    "use Graph::Circulant;\n",
    "use Graph::Complete;\n",
    "use Graph::CompleteKaryTree;\n",
    "use Graph::Cycle;\n",
    "use Graph::Grid;\n",
    "use Graph::Hypercube;\n",
    "use Graph::KnightTour;\n",
    "use Graph::Star;\n",
    "use Graph::Wheel;\n",
    "use Graph::Path;\n",
    "use Graph::Petersen;\n",
    "\n",
    "use Graph::Distribution;\n",
    "use Graph::Random;\n",
    "\n",
    "use Data::Reshapers;\n",
    "use Data::Summarizers;\n",
    "\n",
    "use JavaScript::D3;\n",
    "use WWW::MermaidInk;"
   ]
  },
  {
   "cell_type": "markdown",
   "metadata": {},
   "source": [
    "### JavaScript"
   ]
  },
  {
   "cell_type": "markdown",
   "metadata": {},
   "source": [
    "Here we prepare the notebook to visualize with JavaScript:"
   ]
  },
  {
   "cell_type": "code",
   "execution_count": 2,
   "metadata": {},
   "outputs": [
    {
     "data": {
      "application/javascript": "require.config({\n     paths: {\n     d3: 'https://d3js.org/d3.v7.min'\n}});\n\nrequire(['d3'], function(d3) {\n     console.log(d3);\n});"
     },
     "execution_count": 2,
     "metadata": {},
     "output_type": "execute_result"
    }
   ],
   "source": [
    "#% javascript\n",
    "require.config({\n",
    "     paths: {\n",
    "     d3: 'https://d3js.org/d3.v7.min'\n",
    "}});\n",
    "\n",
    "require(['d3'], function(d3) {\n",
    "     console.log(d3);\n",
    "});"
   ]
  },
  {
   "cell_type": "markdown",
   "metadata": {},
   "source": [
    "Verification:"
   ]
  },
  {
   "cell_type": "code",
   "execution_count": 3,
   "metadata": {},
   "outputs": [
    {
     "data": {
      "application/javascript": "(function(element) { require(['d3'], function(d3) {\n\n// set the dimensions and margins of the graph\nvar margin = {\"bottom\":40,\"right\":40,\"left\":40,\"top\":40},\n    width = 600 - margin.left - margin.right,\n    height = 400 - margin.top - margin.bottom;\n\n// append the svg object to the body of the page\nvar svg = d3\n   .select(element.get(0))\n  .append(\"svg\")\n    .attr(\"width\", width + margin.left + margin.right)\n    .attr(\"height\", height + margin.top + margin.bottom)\n    .style(\"background\", \"none\")\n  .append(\"g\")\n    .attr(\"transform\",\n          \"translate(\" + margin.left + \",\" + margin.top + \")\")\n\n// Obtain title\nvar title = \"\"\nvar titleFontSize = 16\n\nif ( title.length > 0 ) {\n    svg.append(\"text\")\n        .attr(\"x\", (width / 2))\n        .attr(\"y\", 0 - (margin.top / 2))\n        .attr(\"text-anchor\", \"middle\")\n        .style(\"font-size\", titleFontSize.toString() + \"px\")\n        .style(\"fill\", \"Black\")\n        .text(title);\n}\n\n// Obtain x-axis label\nvar xAxisLabel = \"\"\nvar xAxisLabelFontSize = 12\n\nif ( xAxisLabel.length > 0 ) {\n    svg.append(\"text\")\n        .attr(\"x\", (width / 2))\n        .attr(\"y\", height + margin.bottom - xAxisLabelFontSize/2)\n        .attr(\"text-anchor\", \"middle\")\n        .style(\"font-size\", xAxisLabelFontSize.toString() + \"px\")\n        .style(\"fill\", \"Black\")\n        .text(xAxisLabel);\n}\n\n// Obtain y-axis label\nvar yAxisLabel = \"\"\nvar yAxisLabelFontSize = 12\n\nif ( yAxisLabel.length > 0 ) {\n    svg.append(\"text\")\n        .attr(\"transform\", \"rotate(-90)\")\n        .attr(\"x\", - (height / 2))\n        .attr(\"y\", 0 - margin.left + yAxisLabelFontSize)\n        .attr(\"text-anchor\", \"middle\")\n        .style(\"font-size\", yAxisLabelFontSize.toString() + \"px\")\n        .style(\"fill\", \"Black\")\n        .text(yAxisLabel);\n}\n\n\n// Obtain data\nvar data = [{\"x\":1,\"y\":1.8058683975185297e0},{\"y\":9.182935216240713e0,\"x\":2},{\"x\":3,\"y\":5.295324448154929e0},{\"x\":4,\"y\":0.33954364970984807e0},{\"x\":5,\"y\":4.809391911748728e0},{\"x\":6,\"y\":4.028041012724159e0},{\"x\":7,\"y\":4.605183770309043e0},{\"y\":0.17185260503645328e0,\"x\":8},{\"x\":9,\"y\":7.853473758868442e0},{\"x\":10,\"y\":8.490085023552288e0},{\"y\":5.2186799117961735e0,\"x\":11},{\"y\":1.304658477594487e0,\"x\":12},{\"y\":7.347568429672161e0,\"x\":13},{\"x\":14,\"y\":6.312855389929118e0},{\"x\":15,\"y\":2.468888577889582e0},{\"x\":16,\"y\":4.589082607754081e0},{\"x\":17,\"y\":7.5081404710233945e0},{\"y\":8.556789910485668e0,\"x\":18},{\"x\":19,\"y\":4.252582055516672e0},{\"y\":9.916539690982363e0,\"x\":20},{\"y\":4.8520703214670755e0,\"x\":21},{\"y\":6.077892404641974e0,\"x\":22},{\"y\":7.43977554012441e0,\"x\":23},{\"x\":24,\"y\":0.13284752561869895e0},{\"x\":25,\"y\":0.2830137154109047e0},{\"y\":0.5053756505237506e0,\"x\":26},{\"y\":6.651677727138605e0,\"x\":27},{\"x\":28,\"y\":4.094528850255372e0},{\"y\":2.127642715585709e0,\"x\":29},{\"x\":30,\"y\":5.833457190406255e0},{\"x\":31,\"y\":3.982086795129053e0},{\"y\":6.236780830942901e0,\"x\":32},{\"x\":33,\"y\":4.859872228677231e0},{\"y\":1.7181565511505337e0,\"x\":34},{\"x\":35,\"y\":9.022352780864386e0},{\"x\":36,\"y\":3.16982202210927e0},{\"y\":6.813297364708778e0,\"x\":37},{\"y\":5.905555146863668e0,\"x\":38},{\"x\":39,\"y\":5.29782140946258e0},{\"y\":3.281388343959412e0,\"x\":40}]\n\nvar xMin = Math.min.apply(Math, data.map(function(o) { return o.x; }))\nvar xMax = Math.max.apply(Math, data.map(function(o) { return o.x; }))\n\nvar yMin = Math.min.apply(Math, data.map(function(o) { return o.y; }))\nvar yMax = Math.max.apply(Math, data.map(function(o) { return o.y; }))\n\n// X scale and Axis\nvar x = d3.scaleLinear()\n    .domain([xMin, xMax])\n    .range([0, width]);\n\n// Y scale and Axis\nvar y = d3.scaleLinear()\n    .domain([yMin, yMax])\n    .range([height, 0]);\n\nsvg\n  .append('g')\n  .attr(\"transform\", \"translate(0,\" + height + \")\")\n  .call(d3.axisBottom(x))\n\nsvg\n  .append('g')\n  .call(d3.axisLeft(y));\n\n// prepare a helper function\nvar lineFunc = d3.line()\n  .x(function(d) { return x(d.x) })\n  .y(function(d) { return y(d.y) })\n\n// Add the path using this helper function\nsvg.append('path')\n  .attr('d', lineFunc(data))\n  .attr(\"stroke-width\", 2)\n  .attr('stroke', \"steelblue\")\n  .attr('fill', 'none');\n\n}) })(element);\n"
     },
     "execution_count": 3,
     "metadata": {},
     "output_type": "execute_result"
    }
   ],
   "source": [
    "#% js\n",
    "js-d3-list-line-plot(10.rand xx 40, background => 'none', stroke-width => 2)"
   ]
  },
  {
   "cell_type": "markdown",
   "metadata": {},
   "source": [
    "Here we set a collection of visualization variables:"
   ]
  },
  {
   "cell_type": "code",
   "execution_count": 4,
   "metadata": {},
   "outputs": [
    {
     "data": {
      "text/plain": [
       "{charge => {iterations => 4, strength => -30}, collision => {iterations => 4, radius => 50}, link => {distance => 30}}"
      ]
     },
     "execution_count": 4,
     "metadata": {},
     "output_type": "execute_result"
    }
   ],
   "source": [
    "my $title-color = 'Ivory';\n",
    "my $stroke-color = 'SlateGray';\n",
    "my $tooltip-color = 'LightBlue';\n",
    "my $tooltip-background-color = 'none';\n",
    "my $background = '1F1F1F';\n",
    "my $color-scheme = 'schemeTableau10';\n",
    "my $edge-thickness = 3;\n",
    "my $vertex-size = 6;\n",
    "my $mmd-theme = q:to/END/;\n",
    "%%{\n",
    "  init: {\n",
    "    'theme': 'forest',\n",
    "    'themeVariables': {\n",
    "      'lineColor': 'Ivory'\n",
    "    }\n",
    "  }\n",
    "}%%\n",
    "END\n",
    "my %force = collision => {iterations => 0, radius => 10},link => {distance => 180};\n",
    "my %force2 = charge => {strength => -30, iterations => 4}, collision => {radius => 50, iterations => 4}, link => {distance => 30};"
   ]
  },
  {
   "cell_type": "markdown",
   "metadata": {},
   "source": [
    "-----\n",
    "\n",
    "## Grid graph"
   ]
  },
  {
   "cell_type": "code",
   "execution_count": 5,
   "metadata": {},
   "outputs": [
    {
     "data": {
      "text/plain": [
       "True"
      ]
     },
     "execution_count": 5,
     "metadata": {},
     "output_type": "execute_result"
    }
   ],
   "source": [
    "my $g = Graph::Grid.new(5,8);\n",
    "\n",
    "$g.is-bipartite"
   ]
  },
  {
   "cell_type": "code",
   "execution_count": 6,
   "metadata": {},
   "outputs": [
    {
     "data": {
      "text/plain": [
       "{0_0 => 0, 0_1 => 1, 0_2 => 0, 0_3 => 1, 0_4 => 0, 0_5 => 1, 0_6 => 0, 0_7 => 1, 1_0 => 1, 1_1 => 0, 1_2 => 1, 1_3 => 0, 1_4 => 1, 1_5 => 0, 1_6 => 1, 1_7 => 0, 2_0 => 0, 2_1 => 1, 2_2 => 0, 2_3 => 1, 2_4 => 0, 2_5 => 1, 2_6 => 0, 2_7 => 1, 3_0 => 1, 3_1 => 0, 3_2 => 1, 3_3 => 0, 3_4 => 1, 3_5 => 0, 3_6 => 1, 3_7 => 0, 4_0 => 0, 4_1 => 1, 4_2 => 0, 4_3 => 1, 4_4 => 0, 4_5 => 1, 4_6 => 0, 4_7 => 1}"
      ]
     },
     "execution_count": 6,
     "metadata": {},
     "output_type": "execute_result"
    }
   ],
   "source": [
    "$g.bipartite-coloring"
   ]
  },
  {
   "cell_type": "code",
   "execution_count": 7,
   "metadata": {},
   "outputs": [
    {
     "data": {
      "text/plain": [
       "[0_1 0_3 0_5 0_7 1_0 1_2 1_4 1_6 2_1 2_3 2_5 2_7 3_0 3_2 3_4 3_6 4_1 4_3 4_5 4_7]"
      ]
     },
     "execution_count": 7,
     "metadata": {},
     "output_type": "execute_result"
    }
   ],
   "source": [
    "my @side = $g.vertex-list.grep({ $_.split('_')».Int.sum % 2 })"
   ]
  },
  {
   "cell_type": "code",
   "execution_count": 8,
   "metadata": {},
   "outputs": [
    {
     "data": {
      "application/javascript": "(function(element) { require(['d3'], function(d3) {\n\n// set the dimensions and margins of the graph\nvar margin = {\"bottom\":40,\"top\":40,\"left\":40,\"right\":40},\n    width = 700 - margin.left - margin.right,\n    height = 432.63288 - margin.top - margin.bottom;\n\n// append the svg object to the body of the page\nvar svg = d3\n   .select(element.get(0))\n  .append(\"svg\")\n    .attr(\"width\", width + margin.left + margin.right)\n    .attr(\"height\", height + margin.top + margin.bottom)\n    .style(\"background\", \"1F1F1F\")\n  .append(\"g\")\n    .attr(\"transform\",\n          \"translate(\" + margin.left + \",\" + margin.top + \")\")\n\n// Obtain title\nvar title = \"\"\nvar titleFontSize = 16\n\nif ( title.length > 0 ) {\n    svg.append(\"text\")\n        .attr(\"x\", (width / 2))\n        .attr(\"y\", 0 - (margin.top / 2))\n        .attr(\"text-anchor\", \"middle\")\n        .style(\"font-size\", titleFontSize.toString() + \"px\")\n        .style(\"fill\", \"Ivory\")\n        .text(title);\n}\n\nconst edges = [{\"label\":\"\",\"to\":\"0_3\",\"from\":\"0_2\",\"weight\":1},{\"to\":\"0_1\",\"from\":\"0_2\",\"weight\":1,\"label\":\"\"},{\"label\":\"\",\"to\":\"1_2\",\"weight\":1,\"from\":\"0_2\"},{\"to\":\"4_7\",\"from\":\"3_7\",\"label\":\"\",\"weight\":1},{\"label\":\"\",\"to\":\"2_7\",\"weight\":1,\"from\":\"3_7\"},{\"weight\":1,\"from\":\"3_7\",\"label\":\"\",\"to\":\"3_6\"},{\"from\":\"1_1\",\"label\":\"\",\"to\":\"1_0\",\"weight\":1},{\"from\":\"1_1\",\"to\":\"1_2\",\"weight\":1,\"label\":\"\"},{\"to\":\"0_1\",\"label\":\"\",\"from\":\"1_1\",\"weight\":1},{\"from\":\"1_1\",\"label\":\"\",\"to\":\"2_1\",\"weight\":1},{\"to\":\"0_5\",\"label\":\"\",\"weight\":1,\"from\":\"0_4\"},{\"to\":\"1_4\",\"from\":\"0_4\",\"weight\":1,\"label\":\"\"},{\"from\":\"0_4\",\"to\":\"0_3\",\"weight\":1,\"label\":\"\"},{\"weight\":1,\"label\":\"\",\"to\":\"0_0\",\"from\":\"1_0\"},{\"from\":\"1_0\",\"weight\":1,\"label\":\"\",\"to\":\"2_0\"},{\"label\":\"\",\"to\":\"1_7\",\"from\":\"1_6\",\"weight\":1},{\"to\":\"2_6\",\"from\":\"1_6\",\"label\":\"\",\"weight\":1},{\"weight\":1,\"label\":\"\",\"from\":\"1_6\",\"to\":\"0_6\"},{\"from\":\"1_6\",\"to\":\"1_5\",\"label\":\"\",\"weight\":1},{\"weight\":1,\"label\":\"\",\"from\":\"4_5\",\"to\":\"3_5\"},{\"from\":\"4_5\",\"weight\":1,\"to\":\"4_6\",\"label\":\"\"},{\"label\":\"\",\"to\":\"4_4\",\"from\":\"4_5\",\"weight\":1},{\"from\":\"1_4\",\"label\":\"\",\"weight\":1,\"to\":\"1_3\"},{\"from\":\"1_4\",\"weight\":1,\"label\":\"\",\"to\":\"2_4\"},{\"weight\":1,\"to\":\"1_5\",\"from\":\"1_4\",\"label\":\"\"},{\"weight\":1,\"from\":\"0_6\",\"label\":\"\",\"to\":\"0_5\"},{\"label\":\"\",\"weight\":1,\"to\":\"0_7\",\"from\":\"0_6\"},{\"label\":\"\",\"from\":\"2_0\",\"to\":\"2_1\",\"weight\":1},{\"weight\":1,\"label\":\"\",\"to\":\"3_0\",\"from\":\"2_0\"},{\"to\":\"1_7\",\"label\":\"\",\"weight\":1,\"from\":\"0_7\"},{\"from\":\"0_1\",\"to\":\"0_0\",\"label\":\"\",\"weight\":1},{\"weight\":1,\"from\":\"3_6\",\"label\":\"\",\"to\":\"4_6\"},{\"to\":\"2_6\",\"label\":\"\",\"from\":\"3_6\",\"weight\":1},{\"weight\":1,\"label\":\"\",\"from\":\"3_6\",\"to\":\"3_5\"},{\"label\":\"\",\"from\":\"4_4\",\"weight\":1,\"to\":\"4_3\"},{\"weight\":1,\"from\":\"4_4\",\"to\":\"3_4\",\"label\":\"\"},{\"from\":\"2_7\",\"label\":\"\",\"to\":\"1_7\",\"weight\":1},{\"from\":\"2_7\",\"label\":\"\",\"to\":\"2_6\",\"weight\":1},{\"from\":\"2_4\",\"label\":\"\",\"weight\":1,\"to\":\"2_5\"},{\"weight\":1,\"to\":\"3_4\",\"from\":\"2_4\",\"label\":\"\"},{\"from\":\"2_4\",\"weight\":1,\"label\":\"\",\"to\":\"2_3\"},{\"to\":\"2_5\",\"weight\":1,\"label\":\"\",\"from\":\"1_5\"},{\"to\":\"0_5\",\"label\":\"\",\"weight\":1,\"from\":\"1_5\"},{\"from\":\"3_0\",\"to\":\"3_1\",\"weight\":1,\"label\":\"\"},{\"to\":\"4_0\",\"label\":\"\",\"weight\":1,\"from\":\"3_0\"},{\"from\":\"1_3\",\"label\":\"\",\"weight\":1,\"to\":\"2_3\"},{\"from\":\"1_3\",\"weight\":1,\"to\":\"0_3\",\"label\":\"\"},{\"weight\":1,\"to\":\"1_2\",\"label\":\"\",\"from\":\"1_3\"},{\"label\":\"\",\"weight\":1,\"from\":\"1_2\",\"to\":\"2_2\"},{\"label\":\"\",\"from\":\"4_3\",\"weight\":1,\"to\":\"3_3\"},{\"label\":\"\",\"weight\":1,\"from\":\"4_3\",\"to\":\"4_2\"},{\"label\":\"\",\"to\":\"4_6\",\"from\":\"4_7\",\"weight\":1},{\"label\":\"\",\"weight\":1,\"to\":\"2_2\",\"from\":\"2_1\"},{\"label\":\"\",\"from\":\"2_1\",\"to\":\"3_1\",\"weight\":1},{\"weight\":1,\"from\":\"3_3\",\"to\":\"2_3\",\"label\":\"\"},{\"weight\":1,\"from\":\"3_3\",\"to\":\"3_2\",\"label\":\"\"},{\"to\":\"3_4\",\"from\":\"3_3\",\"weight\":1,\"label\":\"\"},{\"to\":\"2_2\",\"from\":\"2_3\",\"label\":\"\",\"weight\":1},{\"from\":\"4_1\",\"label\":\"\",\"weight\":1,\"to\":\"4_0\"},{\"weight\":1,\"from\":\"4_1\",\"label\":\"\",\"to\":\"4_2\"},{\"label\":\"\",\"from\":\"4_1\",\"weight\":1,\"to\":\"3_1\"},{\"to\":\"3_5\",\"weight\":1,\"from\":\"3_4\",\"label\":\"\"},{\"weight\":1,\"to\":\"3_2\",\"from\":\"3_1\",\"label\":\"\"},{\"to\":\"2_5\",\"from\":\"3_5\",\"weight\":1,\"label\":\"\"},{\"weight\":1,\"label\":\"\",\"to\":\"3_2\",\"from\":\"4_2\"},{\"label\":\"\",\"weight\":1,\"from\":\"2_2\",\"to\":\"3_2\"},{\"weight\":1,\"label\":\"\",\"from\":\"2_6\",\"to\":\"2_5\"}];\n\nconst nodes = Array.from(new Set(edges.flatMap(e => [e.from, e.to])), id => ({id}));\n\nconst highlightNodes = new Set([\"0_1\", \"0_3\", \"2_7\", \"0_7\", \"4_7\", \"3_2\", \"0_5\", \"4_5\", \"1_4\", \"3_0\", \"1_2\", \"3_6\", \"4_3\", \"3_4\", \"1_6\", \"4_1\", \"2_1\", \"2_5\", \"2_3\", \"1_0\"]);\n\nconst highlightLinkNodes = new Set([]);\n\nconst links = edges.map(e => ({\n  source: e.from,\n  target: e.to,\n  weight: e.weight,\n  label: e.label,\n  highlight: highlightLinkNodes.has(e.from + \"-\" + e.to)\n}));\n\n//.force(\"link\", d3.forceLink(links).id(d => d.id).distance(d => Math.max(d.weight * 20, 6 * 4)))\nconst simulation = d3.forceSimulation(nodes)\n    .force(\"link\", d3.forceLink(links).id(d => d.id).iterations(1))\n    .force(\"charge\", d3.forceManyBody().strength(-200).distanceMin(1).distanceMax(2000))\n    .force(\"x\", d3.forceX())\n    .force(\"y\", d3.forceY())\n    .force(\"collision\", d3.forceCollide())\n    .force(\"center\", d3.forceCenter(width / 2, height / 2));\n\nsvg.append('defs').append('marker')\n    .attr(\"id\",'arrowhead')\n    .attr('viewBox','-0 -5 10 10') //the bound of the SVG viewport for the current SVG fragment. defines a coordinate system 10 wide and 10 high starting on (0,-5)\n     .attr('refX', 16) // x coordinate for the reference point of the marker. If circle is bigger, this need to be bigger.\n     .attr('refY',0)\n     .attr('orient','auto')\n        .attr('markerWidth', 5)\n        .attr('markerHeight', 5)\n        .attr('xoverflow','visible')\n    .append('svg:path')\n    .attr('d', 'M 0,-5 L 10 ,0 L 0,5')\n    .attr('fill', \"SteelBlue\")\n    .style('stroke','none');\n\nconst link = svg.append(\"g\")\n    .attr(\"class\", \"links\")\n  .selectAll(\"line\")\n  .data(links)\n  .enter().append(\"line\")\n    .attr(\"class\", \"link\")\n    .attr(\"stroke\", d => d.highlight ? \"Orange\" : \"SteelBlue\")\n    .attr(\"stroke-width\", 3)\n    \n\nconst node = svg.append(\"g\")\n    .attr(\"class\", \"nodes\")\n  .selectAll(\"circle\")\n  .data(nodes)\n  .enter().append(\"circle\")\n    .attr(\"class\", \"node\")\n    .attr(\"r\", 6)\n    .attr(\"stroke\", d => highlightNodes.has(d.id) ? \"Orange\" : \"SteelBlue\")\n    .attr(\"fill\", d => highlightNodes.has(d.id) ?  \"Orange\" : \"SteelBlue\")\n    .call(drag(simulation));\n\nnode.append(\"title\")\n    .text(d => d.id);\n\nconst nodeLabel = svg.append(\"g\")\n    .attr(\"class\", \"node-labels\")\n  .selectAll(\"text\")\n  .data(nodes)\n  .enter().append(\"text\")\n    .attr(\"class\", \"node-label\")\n    .style(\"font-size\", 13)\n    .attr(\"font-family\", \"Courier New\")\n    .attr(\"font-weight\", 100)\n    .attr(\"dy\", -10)\n    .attr('fill', \"Ivory\")\n    .attr('stroke', \"Ivory\")\n    .text(d => d.id);\n\nconst linkLabel = svg.append(\"g\")\n    .attr(\"class\", \"link-labels\")\n  .selectAll(\"text\")\n  .data(links)\n  .enter().append(\"text\")\n    .filter(d => d.label !== \"\")\n    .attr(\"class\", \"link-label\")\n    .style(\"font-size\", 13)\n    .attr(\"font-family\", \"Courier\")\n    .attr('fill', \"Ivory\")\n    .attr('stroke', \"Ivory\")\n    .text(d => d.label);\n\nsimulation.on(\"tick\", () => {\n  link\n      .attr(\"x1\", d => d.source.x)\n      .attr(\"y1\", d => d.source.y)\n      .attr(\"x2\", d => d.target.x)\n      .attr(\"y2\", d => d.target.y);\n\n  node\n      .attr(\"cx\", d => d.x)\n      .attr(\"cy\", d => d.y);\n\n  nodeLabel\n      .attr(\"x\", d => d.x)\n      .attr(\"y\", d => d.y);\n\n  linkLabel\n      .attr(\"x\", d => (d.source.x + d.target.x) / 2)\n      .attr(\"y\", d => (d.source.y + d.target.y) / 2);\n});\n\nfunction drag(simulation) {\n  function dragstarted(event, d) {\n    if (!event.active) simulation.alphaTarget(0.3).restart();\n    d.fx = d.x;\n    d.fy = d.y;\n  }\n\n  function dragged(event, d) {\n    d.fx = event.x;\n    d.fy = event.y;\n  }\n\n  function dragended(event, d) {\n    if (!event.active) simulation.alphaTarget(0);\n    d.fx = null;\n    d.fy = null;\n  }\n\n  return d3.drag()\n      .on(\"start\", dragstarted)\n      .on(\"drag\", dragged)\n      .on(\"end\", dragended);\n}\n\n}) })(element);\n"
     },
     "execution_count": 8,
     "metadata": {},
     "output_type": "execute_result"
    }
   ],
   "source": [
    "#% js\n",
    "$g.edges(:dataset) \n",
    "==> js-d3-graph-plot(            \n",
    "        highlight => $g.bipartite-coloring.grep(*.value)».key,\n",
    "        :$background, \n",
    "        :$title-color, \n",
    "        width => 700, \n",
    "        :$edge-thickness,\n",
    "        :$vertex-size,\n",
    "        force => {charge => {strength => -200}}\n",
    "    )"
   ]
  },
  {
   "cell_type": "markdown",
   "metadata": {},
   "source": [
    "-------\n",
    "\n",
    "## Cycle graph"
   ]
  },
  {
   "cell_type": "code",
   "execution_count": 9,
   "metadata": {},
   "outputs": [
    {
     "data": {
      "text/plain": [
       "Graph(vertexes => 12, edges => 12, directed => False)"
      ]
     },
     "execution_count": 9,
     "metadata": {},
     "output_type": "execute_result"
    }
   ],
   "source": [
    "my $g2 = Graph::Cycle.new(12);"
   ]
  },
  {
   "cell_type": "code",
   "execution_count": 10,
   "metadata": {},
   "outputs": [
    {
     "data": {
      "text/plain": [
       "True"
      ]
     },
     "execution_count": 10,
     "metadata": {},
     "output_type": "execute_result"
    }
   ],
   "source": [
    "$g2.is-bipartite"
   ]
  },
  {
   "cell_type": "code",
   "execution_count": 11,
   "metadata": {},
   "outputs": [
    {
     "data": {
      "application/javascript": "(function(element) { require(['d3'], function(d3) {\n\n// set the dimensions and margins of the graph\nvar margin = {\"top\":40,\"left\":40,\"bottom\":40,\"right\":40},\n    width = 500 - margin.left - margin.right,\n    height = 309.023486 - margin.top - margin.bottom;\n\n// append the svg object to the body of the page\nvar svg = d3\n   .select(element.get(0))\n  .append(\"svg\")\n    .attr(\"width\", width + margin.left + margin.right)\n    .attr(\"height\", height + margin.top + margin.bottom)\n    .style(\"background\", \"1F1F1F\")\n  .append(\"g\")\n    .attr(\"transform\",\n          \"translate(\" + margin.left + \",\" + margin.top + \")\")\n\n// Obtain title\nvar title = \"\"\nvar titleFontSize = 16\n\nif ( title.length > 0 ) {\n    svg.append(\"text\")\n        .attr(\"x\", (width / 2))\n        .attr(\"y\", 0 - (margin.top / 2))\n        .attr(\"text-anchor\", \"middle\")\n        .style(\"font-size\", titleFontSize.toString() + \"px\")\n        .style(\"fill\", \"Ivory\")\n        .text(title);\n}\n\nconst edges = [{\"from\":\"9\",\"weight\":1,\"to\":\"10\",\"label\":\"\"},{\"from\":\"9\",\"label\":\"\",\"to\":\"8\",\"weight\":1},{\"to\":\"7\",\"weight\":1,\"label\":\"\",\"from\":\"8\"},{\"label\":\"\",\"from\":\"10\",\"to\":\"11\",\"weight\":1},{\"to\":\"6\",\"label\":\"\",\"weight\":1,\"from\":\"7\"},{\"from\":\"5\",\"label\":\"\",\"to\":\"6\",\"weight\":1},{\"from\":\"5\",\"to\":\"4\",\"label\":\"\",\"weight\":1},{\"label\":\"\",\"to\":\"0\",\"from\":\"1\",\"weight\":1},{\"from\":\"1\",\"weight\":1,\"to\":\"2\",\"label\":\"\"},{\"to\":\"4\",\"label\":\"\",\"from\":\"3\",\"weight\":1},{\"to\":\"2\",\"weight\":1,\"label\":\"\",\"from\":\"3\"},{\"weight\":1,\"from\":\"11\",\"to\":\"0\",\"label\":\"\"}];\n\nconst nodes = Array.from(new Set(edges.flatMap(e => [e.from, e.to])), id => ({id}));\n\nconst highlightNodes = new Set([\"2\", \"8\", \"6\", \"0\", \"10\", \"4\"]);\n\nconst highlightLinkNodes = new Set([]);\n\nconst links = edges.map(e => ({\n  source: e.from,\n  target: e.to,\n  weight: e.weight,\n  label: e.label,\n  highlight: highlightLinkNodes.has(e.from + \"-\" + e.to)\n}));\n\n//.force(\"link\", d3.forceLink(links).id(d => d.id).distance(d => Math.max(d.weight * 20, 6 * 4)))\nconst simulation = d3.forceSimulation(nodes)\n    .force(\"link\", d3.forceLink(links).id(d => d.id).iterations(1))\n    .force(\"charge\", d3.forceManyBody().strength(-200).distanceMin(1).distanceMax(2000))\n    .force(\"x\", d3.forceX())\n    .force(\"y\", d3.forceY())\n    .force(\"collision\", d3.forceCollide())\n    .force(\"center\", d3.forceCenter(width / 2, height / 2));\n\nsvg.append('defs').append('marker')\n    .attr(\"id\",'arrowhead')\n    .attr('viewBox','-0 -5 10 10') //the bound of the SVG viewport for the current SVG fragment. defines a coordinate system 10 wide and 10 high starting on (0,-5)\n     .attr('refX', 16) // x coordinate for the reference point of the marker. If circle is bigger, this need to be bigger.\n     .attr('refY',0)\n     .attr('orient','auto')\n        .attr('markerWidth', 5)\n        .attr('markerHeight', 5)\n        .attr('xoverflow','visible')\n    .append('svg:path')\n    .attr('d', 'M 0,-5 L 10 ,0 L 0,5')\n    .attr('fill', \"SteelBlue\")\n    .style('stroke','none');\n\nconst link = svg.append(\"g\")\n    .attr(\"class\", \"links\")\n  .selectAll(\"line\")\n  .data(links)\n  .enter().append(\"line\")\n    .attr(\"class\", \"link\")\n    .attr(\"stroke\", d => d.highlight ? \"Orange\" : \"SteelBlue\")\n    .attr(\"stroke-width\", 3)\n    \n\nconst node = svg.append(\"g\")\n    .attr(\"class\", \"nodes\")\n  .selectAll(\"circle\")\n  .data(nodes)\n  .enter().append(\"circle\")\n    .attr(\"class\", \"node\")\n    .attr(\"r\", 6)\n    .attr(\"stroke\", d => highlightNodes.has(d.id) ? \"Orange\" : \"SteelBlue\")\n    .attr(\"fill\", d => highlightNodes.has(d.id) ?  \"Orange\" : \"SteelBlue\")\n    .call(drag(simulation));\n\nnode.append(\"title\")\n    .text(d => d.id);\n\nconst nodeLabel = svg.append(\"g\")\n    .attr(\"class\", \"node-labels\")\n  .selectAll(\"text\")\n  .data(nodes)\n  .enter().append(\"text\")\n    .attr(\"class\", \"node-label\")\n    .style(\"font-size\", 13)\n    .attr(\"font-family\", \"Courier New\")\n    .attr(\"font-weight\", 100)\n    .attr(\"dy\", -10)\n    .attr('fill', \"Ivory\")\n    .attr('stroke', \"Ivory\")\n    .text(d => d.id);\n\nconst linkLabel = svg.append(\"g\")\n    .attr(\"class\", \"link-labels\")\n  .selectAll(\"text\")\n  .data(links)\n  .enter().append(\"text\")\n    .filter(d => d.label !== \"\")\n    .attr(\"class\", \"link-label\")\n    .style(\"font-size\", 13)\n    .attr(\"font-family\", \"Courier\")\n    .attr('fill', \"Ivory\")\n    .attr('stroke', \"Ivory\")\n    .text(d => d.label);\n\nsimulation.on(\"tick\", () => {\n  link\n      .attr(\"x1\", d => d.source.x)\n      .attr(\"y1\", d => d.source.y)\n      .attr(\"x2\", d => d.target.x)\n      .attr(\"y2\", d => d.target.y);\n\n  node\n      .attr(\"cx\", d => d.x)\n      .attr(\"cy\", d => d.y);\n\n  nodeLabel\n      .attr(\"x\", d => d.x)\n      .attr(\"y\", d => d.y);\n\n  linkLabel\n      .attr(\"x\", d => (d.source.x + d.target.x) / 2)\n      .attr(\"y\", d => (d.source.y + d.target.y) / 2);\n});\n\nfunction drag(simulation) {\n  function dragstarted(event, d) {\n    if (!event.active) simulation.alphaTarget(0.3).restart();\n    d.fx = d.x;\n    d.fy = d.y;\n  }\n\n  function dragged(event, d) {\n    d.fx = event.x;\n    d.fy = event.y;\n  }\n\n  function dragended(event, d) {\n    if (!event.active) simulation.alphaTarget(0);\n    d.fx = null;\n    d.fy = null;\n  }\n\n  return d3.drag()\n      .on(\"start\", dragstarted)\n      .on(\"drag\", dragged)\n      .on(\"end\", dragended);\n}\n\n}) })(element);\n"
     },
     "execution_count": 11,
     "metadata": {},
     "output_type": "execute_result"
    }
   ],
   "source": [
    "#% js\n",
    "$g2.edges(:dataset) \n",
    "==> js-d3-graph-plot(            \n",
    "        highlight => $g2.bipartite-coloring.grep(*.value)».key,\n",
    "        :$background, \n",
    "        :$title-color, \n",
    "        width => 500, \n",
    "        :$edge-thickness,\n",
    "        :$vertex-size,\n",
    "        force => {charge => {strength => -200}}\n",
    "    )"
   ]
  }
 ],
 "metadata": {
  "kernelspec": {
   "display_name": "RakuChatbook",
   "language": "raku",
   "name": "raku"
  },
  "language_info": {
   "file_extension": ".raku",
   "mimetype": "text/x-raku",
   "name": "raku",
   "version": "6.d"
  }
 },
 "nbformat": 4,
 "nbformat_minor": 2
}
