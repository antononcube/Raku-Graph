{
 "cells": [
  {
   "cell_type": "markdown",
   "metadata": {},
   "source": [
    "# Connected components"
   ]
  },
  {
   "cell_type": "markdown",
   "metadata": {},
   "source": [
    "-----\n",
    "\n",
    "## Setup"
   ]
  },
  {
   "cell_type": "markdown",
   "metadata": {},
   "source": [
    "Here are loaded the packages used in the rest of notebook:"
   ]
  },
  {
   "cell_type": "code",
   "execution_count": null,
   "metadata": {},
   "outputs": [],
   "source": [
    "use Graph;\n",
    "use Graph::Circulant;\n",
    "use Graph::Complete;\n",
    "use Graph::CompleteKaryTree;\n",
    "use Graph::Cycle;\n",
    "use Graph::Grid;\n",
    "use Graph::Hypercube;\n",
    "use Graph::KnightTour;\n",
    "use Graph::Star;\n",
    "use Graph::Wheel;\n",
    "use Graph::Path;\n",
    "use Graph::Petersen;\n",
    "\n",
    "use Graph::Distribution;\n",
    "use Graph::Random;\n",
    "\n",
    "use Data::Reshapers;\n",
    "use Data::Summarizers;\n",
    "use Data::Generators;\n",
    "use Math::DistanceFunctions;\n",
    "\n",
    "use JavaScript::D3;\n",
    "use WWW::MermaidInk;"
   ]
  },
  {
   "cell_type": "markdown",
   "metadata": {},
   "source": [
    "### JavaScript"
   ]
  },
  {
   "cell_type": "markdown",
   "metadata": {},
   "source": [
    "Here we prepare the notebook to visualize with JavaScript:"
   ]
  },
  {
   "cell_type": "code",
   "execution_count": null,
   "metadata": {},
   "outputs": [],
   "source": [
    "#% javascript\n",
    "require.config({\n",
    "     paths: {\n",
    "     d3: 'https://d3js.org/d3.v7.min'\n",
    "}});\n",
    "\n",
    "require(['d3'], function(d3) {\n",
    "     console.log(d3);\n",
    "});"
   ]
  },
  {
   "cell_type": "markdown",
   "metadata": {},
   "source": [
    "Verification:"
   ]
  },
  {
   "cell_type": "code",
   "execution_count": null,
   "metadata": {},
   "outputs": [],
   "source": [
    "#% js\n",
    "js-d3-list-line-plot(10.rand xx 40, background => 'none', stroke-width => 2)"
   ]
  },
  {
   "cell_type": "markdown",
   "metadata": {},
   "source": [
    "Here we set a collection of visualization variables:"
   ]
  },
  {
   "cell_type": "code",
   "execution_count": null,
   "metadata": {},
   "outputs": [],
   "source": [
    "my $title-color = 'Ivory';\n",
    "my $stroke-color = 'SlateGray';\n",
    "my $tooltip-color = 'LightBlue';\n",
    "my $tooltip-background-color = 'none';\n",
    "my $background = '1F1F1F';\n",
    "my $color-scheme = 'schemeTableau10';\n",
    "my $edge-thickness = 3;\n",
    "my $vertex-size = 6;\n",
    "my $mmd-theme = q:to/END/;\n",
    "%%{\n",
    "  init: {\n",
    "    'theme': 'forest',\n",
    "    'themeVariables': {\n",
    "      'lineColor': 'Ivory'\n",
    "    }\n",
    "  }\n",
    "}%%\n",
    "END\n",
    "my %force = collision => {iterations => 0, radius => 10},link => {distance => 180};\n",
    "my %force2 = charge => {strength => -30, iterations => 4}, collision => {radius => 50, iterations => 4}, link => {distance => 30};"
   ]
  },
  {
   "cell_type": "markdown",
   "metadata": {},
   "source": [
    "------\n",
    "\n",
    "## Highlight connected components"
   ]
  },
  {
   "cell_type": "markdown",
   "metadata": {},
   "source": [
    "Make a grid graph with randomly directed edges:"
   ]
  },
  {
   "cell_type": "code",
   "execution_count": null,
   "metadata": {},
   "outputs": [],
   "source": [
    "my $g = Graph::Grid.new(10, 20, :!directed);\n",
    "my $g2 = $g.directed-graph(method => 'random');"
   ]
  },
  {
   "cell_type": "markdown",
   "metadata": {},
   "source": [
    "Find the connected components in the graph:"
   ]
  },
  {
   "cell_type": "code",
   "execution_count": null,
   "metadata": {},
   "outputs": [],
   "source": [
    "my @components = $g2.connected-components.grep(*.elems - 1);\n",
    "@components».elems;"
   ]
  },
  {
   "cell_type": "markdown",
   "metadata": {},
   "source": [
    "Highlight the connected components in a graph:"
   ]
  },
  {
   "cell_type": "code",
   "execution_count": null,
   "metadata": {},
   "outputs": [],
   "source": [
    "#% js\n",
    "my %vertex-coordinates = $g.vertex-list.map({ $_ => $_.split('_').reverse».Int });\n",
    "\n",
    "$g2.edges(:dataset) ==> \n",
    "js-d3-graph-plot(\n",
    "    :%vertex-coordinates,\n",
    "    highlight => @components,\n",
    "    directed => $g2.directed,\n",
    "    :$background, \n",
    "    :$title-color, \n",
    "    width => 1200, \n",
    "    height => 600, \n",
    "    vertex-label-color => 'none',\n",
    "    :$edge-thickness,\n",
    "    vertex-size => 12, \n",
    "    force => {charge => {strength => -200, iterations => 2}, collision => {radius => 30, iterations => 6}, link => {minDistance => 1}}\n",
    ")"
   ]
  },
  {
   "cell_type": "markdown",
   "metadata": {},
   "source": [
    "--------\n",
    "\n",
    "## Lily pond frog jumping"
   ]
  },
  {
   "cell_type": "markdown",
   "metadata": {},
   "source": [
    "A frog in a lily pond is able to jump 0.75 meters to get from one of the 25 lily pads to another. Model the frog's jumping network from the lily leaf density and [`SpatialGraphDistribution`](http://reference.wolfram.com/language/ref/SpatialGraphDistribution.html):"
   ]
  },
  {
   "cell_type": "code",
   "execution_count": null,
   "metadata": {},
   "outputs": [],
   "source": [
    "# Assumming the pond is 10x10 meters.\n",
    "my $g = Graph::Random.new(Graph::Distribution::Spatial.new(30, 0.75 / 10))"
   ]
  },
  {
   "cell_type": "code",
   "execution_count": null,
   "metadata": {},
   "outputs": [],
   "source": [
    "my @points;\n",
    "@points.append([random-variate(NormalDistribution.new(0, 1)), random-variate(NormalDistribution.new(0, 1))] xx 10);\n",
    "@points.append([random-variate(NormalDistribution.new(-1, 1)), random-variate(NormalDistribution.new(4, 1))] xx 10);\n",
    "@points.append([random-variate(NormalDistribution.new(4, 1)), random-variate(NormalDistribution.new(4, 1))] xx 10);\n",
    "\n",
    "@points.elems;"
   ]
  },
  {
   "cell_type": "code",
   "execution_count": null,
   "metadata": {},
   "outputs": [],
   "source": [
    "my $g = Graph::Random.new(Graph::Distribution::Spatial.new(@points.elems, 0));\n",
    "$g.vertex-coordinates = (@points.kv).Hash;\n",
    "for ($g.vertex-coordinates.keys X $g.vertex-coordinates.keys) -> $p {\n",
    "    if $p.head ne $p.tail && euclidean-distance($g.vertex-coordinates{$p.head}, $g.vertex-coordinates{$p.tail}) < 1.2 {\n",
    "        $g.add-edge($p.head, $p.tail)\n",
    "    }\n",
    "}"
   ]
  },
  {
   "cell_type": "code",
   "execution_count": null,
   "metadata": {},
   "outputs": [],
   "source": [
    "#% js\n",
    "$g.edges(:dataset) ==> \n",
    "js-d3-graph-plot(\n",
    "    highlight => $g.connected-components,\n",
    "    vertex-coordinates => $g.vertex-coordinates,\n",
    "    directed => $g.directed,\n",
    "    background => 'Teal', \n",
    "    :$title-color, \n",
    "    width => 600, \n",
    "    height => 600, \n",
    "    edge-thickness => 0,\n",
    "    edge-color => 'Silver',\n",
    "    vertex-size => 8,\n",
    "    vertex-color => 'Green',\n",
    "    vertex-label-color => 'none',\n",
    "    force => {charge => {strength => -200, iterations => 2}, collision => {radius => 30, iterations => 6}, link => {minDistance => 1}}\n",
    ")"
   ]
  },
  {
   "cell_type": "markdown",
   "metadata": {},
   "source": [
    "------\n",
    "\n",
    "## Topological sorting (via Tarjan's algorithm)"
   ]
  },
  {
   "cell_type": "markdown",
   "metadata": {},
   "source": [
    "Tarjan's strongly connected components algorithm can be used to find topological sorting. "
   ]
  },
  {
   "cell_type": "markdown",
   "metadata": {},
   "source": [
    "Here is a graph from Wikipedia's article [\"Topological sorting\"](https://en.wikipedia.org/wiki/Topological_sorting):"
   ]
  },
  {
   "cell_type": "code",
   "execution_count": null,
   "metadata": {},
   "outputs": [],
   "source": [
    "my @edges = '1_1' => '2_1', '1_2' => '2_1', '2_1' => '3_1', '2_1' => '3_2', '2_1' => '3_3', '1_2' => '2_2', '1_3' => '2_2', '1_3' => '2_2', '2_2' => '3_2';\n",
    "@edges .= map({ $_.key.Str => $_.value.Str }); \n",
    "my $g = Graph.new(@edges, :directed);\n",
    "\n",
    "my %vertex-coordinates = $g.vertex-list.map({ $_ => $_.split('_').reverse».Int });\n"
   ]
  },
  {
   "cell_type": "code",
   "execution_count": null,
   "metadata": {},
   "outputs": [],
   "source": [
    "#% js\n",
    "$g.edges(:dataset) ==> \n",
    "js-d3-graph-plot(\n",
    "    #:%vertex-coordinates,\n",
    "    directed => $g.directed,\n",
    "    :$background, \n",
    "    :$title-color, \n",
    "    width => 600, \n",
    "    height => 400, \n",
    "    :$edge-thickness,\n",
    "    vertex-size => 12, \n",
    "    force => {charge => {strength => -200, iterations => 2}, collision => {radius => 30, iterations => 6}, link => {minDistance => 1}}\n",
    ")"
   ]
  },
  {
   "cell_type": "code",
   "execution_count": null,
   "metadata": {},
   "outputs": [],
   "source": [
    "$g.topological-sort"
   ]
  },
  {
   "cell_type": "code",
   "execution_count": null,
   "metadata": {},
   "outputs": [],
   "source": []
  }
 ],
 "metadata": {
  "kernelspec": {
   "display_name": "RakuChatbook",
   "language": "raku",
   "name": "raku"
  },
  "language_info": {
   "file_extension": ".raku",
   "mimetype": "text/x-raku",
   "name": "raku",
   "version": "6.d"
  }
 },
 "nbformat": 4,
 "nbformat_minor": 2
}
