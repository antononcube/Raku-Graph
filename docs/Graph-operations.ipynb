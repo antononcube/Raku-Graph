{
 "cells": [
  {
   "cell_type": "markdown",
   "metadata": {},
   "source": [
    "# Graph operations"
   ]
  },
  {
   "cell_type": "markdown",
   "metadata": {},
   "source": [
    "----\n",
    "\n",
    "## Setup"
   ]
  },
  {
   "cell_type": "code",
   "execution_count": 1,
   "metadata": {},
   "outputs": [],
   "source": [
    "use Graph;\n",
    "\n",
    "use Graph::Circulant;\n",
    "use Graph::Complete;\n",
    "use Graph::CompleteKaryTree;\n",
    "use Graph::Cycle;\n",
    "use Graph::Grid;\n",
    "use Graph::Hypercube;\n",
    "use Graph::Indexed;\n",
    "use Graph::KnightTour;\n",
    "use Graph::Star;\n",
    "use Graph::Path;\n",
    "use Graph::Petersen;\n",
    "use Graph::Wheel;\n",
    "\n",
    "use Graph::Distribution;\n",
    "use Graph::Random;\n",
    "\n",
    "use Data::Reshapers;\n",
    "use Data::Summarizers;\n",
    "use Data::TypeSystem;\n",
    "use Data::Translators;\n",
    "use Data::Geographics;\n",
    "use Math::DistanceFunctions;\n",
    "use Math::Nearest;\n",
    "use Hash::Merge;\n",
    "\n",
    "use JavaScript::D3;\n",
    "use WWW::MermaidInk;"
   ]
  },
  {
   "cell_type": "code",
   "execution_count": 2,
   "metadata": {},
   "outputs": [
    {
     "data": {
      "application/javascript": "require.config({\n     paths: {\n     d3: 'https://d3js.org/d3.v7.min'\n}});\n\nrequire(['d3'], function(d3) {\n     console.log(d3);\n});"
     },
     "execution_count": 2,
     "metadata": {},
     "output_type": "execute_result"
    }
   ],
   "source": [
    "#% javascript\n",
    "require.config({\n",
    "     paths: {\n",
    "     d3: 'https://d3js.org/d3.v7.min'\n",
    "}});\n",
    "\n",
    "require(['d3'], function(d3) {\n",
    "     console.log(d3);\n",
    "});"
   ]
  },
  {
   "cell_type": "code",
   "execution_count": 3,
   "metadata": {},
   "outputs": [
    {
     "data": {
      "application/javascript": "(function(element) { require(['d3'], function(d3) {\n\n// set the dimensions and margins of the graph\nvar margin = {\"left\":40,\"top\":40,\"bottom\":40,\"right\":40},\n    width = 600 - margin.left - margin.right,\n    height = 400 - margin.top - margin.bottom;\n\n// append the svg object to the body of the page\nvar svg = d3\n   .select(element.get(0))\n  .append(\"svg\")\n    .attr(\"width\", width + margin.left + margin.right)\n    .attr(\"height\", height + margin.top + margin.bottom)\n    .style(\"background\", \"none\")\n  .append(\"g\")\n    .attr(\"transform\",\n          \"translate(\" + margin.left + \",\" + margin.top + \")\")\n\n// Obtain title\nvar title = \"\"\nvar titleFontSize = 16\n\nif ( title.length > 0 ) {\n    svg.append(\"text\")\n        .attr(\"x\", (width / 2))\n        .attr(\"y\", 0 - (margin.top / 2))\n        .attr(\"text-anchor\", \"middle\")\n        .style(\"font-size\", titleFontSize.toString() + \"px\")\n        .style(\"fill\", \"Black\")\n        .text(title);\n}\n\n// Obtain x-axis label\nvar xAxisLabel = \"\"\nvar xAxisLabelFontSize = 12\n\nif ( xAxisLabel.length > 0 ) {\n    svg.append(\"text\")\n        .attr(\"x\", (width / 2))\n        .attr(\"y\", height + margin.bottom - xAxisLabelFontSize/2)\n        .attr(\"text-anchor\", \"middle\")\n        .style(\"font-size\", xAxisLabelFontSize.toString() + \"px\")\n        .style(\"fill\", \"Black\")\n        .text(xAxisLabel);\n}\n\n// Obtain y-axis label\nvar yAxisLabel = \"\"\nvar yAxisLabelFontSize = 12\n\nif ( yAxisLabel.length > 0 ) {\n    svg.append(\"text\")\n        .attr(\"transform\", \"rotate(-90)\")\n        .attr(\"x\", - (height / 2))\n        .attr(\"y\", 0 - margin.left + yAxisLabelFontSize)\n        .attr(\"text-anchor\", \"middle\")\n        .style(\"font-size\", yAxisLabelFontSize.toString() + \"px\")\n        .style(\"fill\", \"Black\")\n        .text(yAxisLabel);\n}\n\n\n// Obtain data\nvar data = [{\"y\":4.309342260154606e0,\"x\":1},{\"y\":3.6110201185294857e0,\"x\":2},{\"x\":3,\"y\":5.023653322910986e0},{\"y\":2.5151886103060264e0,\"x\":4},{\"x\":5,\"y\":1.5281651516413441e0},{\"x\":6,\"y\":6.509485573393912e0},{\"y\":5.017150256800711e0,\"x\":7},{\"y\":5.500453973084984e0,\"x\":8},{\"y\":5.194356322874398e0,\"x\":9},{\"x\":10,\"y\":5.9853284106535165e0},{\"x\":11,\"y\":1.7028511912227384e0},{\"x\":12,\"y\":6.342928054107471e0},{\"x\":13,\"y\":5.886097798871489e0},{\"y\":9.521223812637565e0,\"x\":14},{\"y\":9.72861221835016e0,\"x\":15},{\"x\":16,\"y\":3.3955083707704348e0},{\"x\":17,\"y\":1.731872324745659e0},{\"y\":5.787004270599322e0,\"x\":18},{\"x\":19,\"y\":3.349342893331259e0},{\"x\":20,\"y\":9.163648621091674e0},{\"y\":6.931181942574267e0,\"x\":21},{\"y\":5.36628309540432e0,\"x\":22},{\"y\":3.100104699640757e0,\"x\":23},{\"y\":6.697471546714411e0,\"x\":24},{\"y\":8.041719184087041e0,\"x\":25},{\"y\":5.258801608194753e0,\"x\":26},{\"x\":27,\"y\":1.6495952542255932e0},{\"y\":0.6080355145332239e0,\"x\":28},{\"y\":2.1006925118027375e0,\"x\":29},{\"y\":5.764166474609915e0,\"x\":30},{\"x\":31,\"y\":0.7787309178857704e0},{\"y\":7.772400025678382e0,\"x\":32},{\"x\":33,\"y\":5.722530072037015e0},{\"x\":34,\"y\":9.57240779457352e0},{\"x\":35,\"y\":6.158513969430016e0},{\"x\":36,\"y\":5.142915575840302e0},{\"x\":37,\"y\":6.26847056665926e0},{\"x\":38,\"y\":3.384098140802354e0},{\"y\":4.944941169829004e0,\"x\":39},{\"y\":3.157935183926571e0,\"x\":40}]\n\nvar xMin = Math.min.apply(Math, data.map(function(o) { return o.x; }))\nvar xMax = Math.max.apply(Math, data.map(function(o) { return o.x; }))\n\nvar yMin = Math.min.apply(Math, data.map(function(o) { return o.y; }))\nvar yMax = Math.max.apply(Math, data.map(function(o) { return o.y; }))\n\n// X scale and Axis\nvar x = d3.scaleLinear()\n    .domain([xMin, xMax])\n    .range([0, width]);\n\n// Y scale and Axis\nvar y = d3.scaleLinear()\n    .domain([yMin, yMax])\n    .range([height, 0]);\n\nsvg\n  .append('g')\n  .attr(\"transform\", \"translate(0,\" + height + \")\")\n  .call(d3.axisBottom(x))\n\nsvg\n  .append('g')\n  .call(d3.axisLeft(y));\n\n// prepare a helper function\nvar lineFunc = d3.line()\n  .x(function(d) { return x(d.x) })\n  .y(function(d) { return y(d.y) })\n\n// Add the path using this helper function\nsvg.append('path')\n  .attr('d', lineFunc(data))\n  .attr(\"stroke-width\", 2)\n  .attr('stroke', \"steelblue\")\n  .attr('fill', 'none');\n\n}) })(element);\n"
     },
     "execution_count": 3,
     "metadata": {},
     "output_type": "execute_result"
    }
   ],
   "source": [
    "#% js\n",
    "js-d3-list-line-plot(10.rand xx 40, background => 'none', stroke-width => 2)"
   ]
  },
  {
   "cell_type": "code",
   "execution_count": 4,
   "metadata": {},
   "outputs": [
    {
     "data": {
      "text/plain": [
       "{background => #1F1F1F, edge-thickness => 3, title-color => Silver, vertex-size => 6}"
      ]
     },
     "execution_count": 4,
     "metadata": {},
     "output_type": "execute_result"
    }
   ],
   "source": [
    "my $title-color = 'Silver';\n",
    "my $stroke-color = 'SlateGray';\n",
    "my $tooltip-color = 'LightBlue';\n",
    "my $tooltip-background-color = 'none';\n",
    "my $background = '#1F1F1F';\n",
    "my $color-scheme = 'schemeTableau10';\n",
    "my $edge-thickness = 3;\n",
    "my $vertex-size = 6;\n",
    "my $engine = 'neato';\n",
    "my $mmd-theme = q:to/END/;\n",
    "%%{\n",
    "  init: {\n",
    "    'theme': 'forest',\n",
    "    'themeVariables': {\n",
    "      'lineColor': 'Ivory'\n",
    "    }\n",
    "  }\n",
    "}%%\n",
    "END\n",
    "my %force = collision => {iterations => 0, radius => 10},link => {distance => 180};\n",
    "my %force2 = charge => {strength => -30, iterations => 4}, collision => {radius => 50, iterations => 4}, link => {distance => 30};\n",
    "\n",
    "my %opts = :$background, :$title-color, :$edge-thickness, :$vertex-size;"
   ]
  },
  {
   "cell_type": "markdown",
   "metadata": {},
   "source": [
    "-----\n",
    "\n",
    "## Unary graph operations"
   ]
  },
  {
   "cell_type": "markdown",
   "metadata": {},
   "source": [
    "### Complement"
   ]
  },
  {
   "cell_type": "code",
   "execution_count": 5,
   "metadata": {},
   "outputs": [
    {
     "data": {
      "application/javascript": "(function(element) { require(['d3'], function(d3) {\n\n// set the dimensions and margins of the graph\nvar margin = {\"left\":40,\"top\":40,\"bottom\":40,\"right\":40},\n    width = 400 - margin.left - margin.right,\n    height = 247 - margin.top - margin.bottom;\n\n// append the svg object to the body of the page\nvar svg = d3\n   .select(element.get(0))\n  .append(\"svg\")\n    .attr(\"width\", width + margin.left + margin.right)\n    .attr(\"height\", height + margin.top + margin.bottom)\n    .style(\"background\", \"#1F1F1F\")\n  .append(\"g\")\n    .attr(\"transform\",\n          \"translate(\" + margin.left + \",\" + margin.top + \")\")\n\n// Obtain title\nvar title = \"\"\nvar titleFontSize = 16\n\nif ( title.length > 0 ) {\n    svg.append(\"text\")\n        .attr(\"x\", (width / 2))\n        .attr(\"y\", 0 - (margin.top / 2))\n        .attr(\"text-anchor\", \"middle\")\n        .style(\"font-size\", titleFontSize.toString() + \"px\")\n        .style(\"fill\", \"Silver\")\n        .text(title);\n}\n\nconst edges = [{\"to\":\"4\",\"label\":\"\",\"weight\":1,\"from\":\"3\"},{\"label\":\"\",\"from\":\"4\",\"to\":\"5\",\"weight\":1},{\"to\":\"2\",\"weight\":1,\"from\":\"1\",\"label\":\"\"},{\"to\":\"1\",\"label\":\"\",\"weight\":1,\"from\":\"0\"},{\"from\":\"2\",\"weight\":1,\"label\":\"\",\"to\":\"3\"},{\"label\":\"\",\"from\":\"0\",\"to\":\"5\",\"weight\":1}];\n\nconst nodes = Array.from(new Set(edges.flatMap(e => [e.from, e.to])), id => ({id}));\n\nconst highlightSpecs = {};\n\nconst links = edges.map(e => ({\n  source: e.from,\n  target: e.to,\n  weight: e.weight,\n  label: e.label,\n}));\n\n//.force(\"link\", d3.forceLink(links).id(d => d.id).distance(d => Math.max(d.weight * 20, 6 * 4)))\nconst simulation = d3.forceSimulation(nodes)\n    .force(\"link\", d3.forceLink(links).id(d => d.id).iterations(1))\n    .force(\"charge\", d3.forceManyBody().strength(-600).distanceMin(1).distanceMax(2000))\n    .force(\"x\", d3.forceX())\n    .force(\"y\", d3.forceY())\n    .force(\"collision\", d3.forceCollide().radius(50))\n    .force(\"center\", d3.forceCenter(width / 2, height / 2));\n\nsvg.append('defs').append('marker')\n    .attr(\"id\",'arrowhead')\n    .attr('viewBox','-0 -5 10 10') //the bound of the SVG viewport for the current SVG fragment. defines a coordinate system 10 wide and 10 high starting on (0,-5)\n     .attr('refX', 16) // x coordinate for the reference point of the marker. If circle is bigger, this need to be bigger.\n     .attr('refY',0)\n     .attr('orient','auto')\n        .attr('markerWidth', 5)\n        .attr('markerHeight', 5)\n        .attr('xoverflow','visible')\n    .append('svg:path')\n    .attr('d', 'M 0,-5 L 10 ,0 L 0,5')\n    .attr('fill', \"SteelBlue\")\n    .style('stroke','none');\n\nconst link = svg.append(\"g\")\n    .attr(\"class\", \"links\")\n  .selectAll(\"line\")\n  .data(links)\n  .enter().append(\"line\")\n    .attr(\"class\", \"link\")\n    .attr(\"stroke\", d => {\n        for (const [color, items] of Object.entries(highlightSpecs)) {\n            if (items.some(item => Array.isArray(item) && item[0] === d.source.id && item[1] === d.target.id)) {\n                return color;\n            }\n        }\n        return \"SteelBlue\";\n    })\n    .attr(\"stroke-width\", 3)\n    \n\nconst node = svg.append(\"g\")\n    .attr(\"class\", \"nodes\")\n  .selectAll(\"circle\")\n  .data(nodes)\n  .enter().append(\"circle\")\n    .attr(\"class\", \"node\")\n    .attr(\"r\", 6)\n    .attr(\"stroke\", d => {\n       for (const [color, items] of Object.entries(highlightSpecs)) {\n         if (items.includes(d.id)) {\n            return color;\n         }\n       }\n       return \"SteelBlue\";\n    })\n    .attr(\"fill\", d => {\n       for (const [color, items] of Object.entries(highlightSpecs)) {\n         if (items.includes(d.id)) {\n            return color;\n         }\n       }\n       return \"SteelBlue\";\n    })\n    .call(drag(simulation));\n\nnode.append(\"title\")\n    .text(d => d.id);\n\nconst nodeLabel = svg.append(\"g\")\n    .attr(\"class\", \"node-labels\")\n  .selectAll(\"text\")\n  .data(nodes)\n  .enter().append(\"text\")\n    .attr(\"class\", \"node-label\")\n    .style(\"font-size\", 13)\n    .attr(\"font-family\", \"Courier New\")\n    .attr(\"font-weight\", 100)\n    .attr(\"dy\", -10)\n    .attr('fill', \"Silver\")\n    .attr('stroke', \"Silver\")\n    .text(d => d.id);\n\nconst linkLabel = svg.append(\"g\")\n    .attr(\"class\", \"link-labels\")\n  .selectAll(\"text\")\n  .data(links)\n  .enter().append(\"text\")\n    .filter(d => d.label !== \"\")\n    .attr(\"class\", \"link-label\")\n    .style(\"font-size\", 13)\n    .attr(\"font-family\", \"Courier\")\n    .attr('fill', \"Silver\")\n    .attr('stroke', \"Silver\")\n    .text(d => d.label);\n\nsimulation.on(\"tick\", () => {\n  link\n      .attr(\"x1\", d => d.source.x)\n      .attr(\"y1\", d => d.source.y)\n      .attr(\"x2\", d => d.target.x)\n      .attr(\"y2\", d => d.target.y);\n\n  node\n      .attr(\"cx\", d => d.x)\n      .attr(\"cy\", d => d.y);\n\n  nodeLabel\n      .attr(\"x\", d => d.x)\n      .attr(\"y\", d => d.y);\n\n  linkLabel\n      .attr(\"x\", d => (d.source.x + d.target.x) / 2)\n      .attr(\"y\", d => (d.source.y + d.target.y) / 2);\n});\n\nfunction drag(simulation) {\n  function dragstarted(event, d) {\n    if (!event.active) simulation.alphaTarget(0.3).restart();\n    d.fx = d.x;\n    d.fy = d.y;\n  }\n\n  function dragged(event, d) {\n    d.fx = event.x;\n    d.fy = event.y;\n  }\n\n  function dragended(event, d) {\n    if (!event.active) simulation.alphaTarget(0);\n    d.fx = null;\n    d.fy = null;\n  }\n\n  return d3.drag()\n      .on(\"start\", dragstarted)\n      .on(\"drag\", dragged)\n      .on(\"end\", dragended);\n}\n\n}) })(element);\n"
     },
     "execution_count": 5,
     "metadata": {},
     "output_type": "execute_result"
    }
   ],
   "source": [
    "#% js\n",
    "my $g1 = Graph::Cycle.new(6, :!directed);\n",
    "\n",
    "$g1.edges(:dataset)\n",
    "==> js-d3-graph-plot(\n",
    "    :$background, :$title-color, :$edge-thickness, :$vertex-size,\n",
    "    directed => $g1.directed,\n",
    "    force => {charge => { strength => -600}, collision => {radius => 50}, link => {minDistance => 40}}\n",
    "    )\n"
   ]
  },
  {
   "cell_type": "code",
   "execution_count": 6,
   "metadata": {},
   "outputs": [
    {
     "data": {
      "application/javascript": "(function(element) { require(['d3'], function(d3) {\n\n// set the dimensions and margins of the graph\nvar margin = {\"left\":40,\"bottom\":40,\"top\":40,\"right\":40},\n    width = 400 - margin.left - margin.right,\n    height = 247 - margin.top - margin.bottom;\n\n// append the svg object to the body of the page\nvar svg = d3\n   .select(element.get(0))\n  .append(\"svg\")\n    .attr(\"width\", width + margin.left + margin.right)\n    .attr(\"height\", height + margin.top + margin.bottom)\n    .style(\"background\", \"#1F1F1F\")\n  .append(\"g\")\n    .attr(\"transform\",\n          \"translate(\" + margin.left + \",\" + margin.top + \")\")\n\n// Obtain title\nvar title = \"\"\nvar titleFontSize = 16\n\nif ( title.length > 0 ) {\n    svg.append(\"text\")\n        .attr(\"x\", (width / 2))\n        .attr(\"y\", 0 - (margin.top / 2))\n        .attr(\"text-anchor\", \"middle\")\n        .style(\"font-size\", titleFontSize.toString() + \"px\")\n        .style(\"fill\", \"Silver\")\n        .text(title);\n}\n\nconst edges = [{\"weight\":1,\"label\":\"\",\"to\":\"3\",\"from\":\"0\"},{\"weight\":1,\"to\":\"2\",\"from\":\"0\",\"label\":\"\"},{\"label\":\"\",\"from\":\"0\",\"to\":\"0\",\"weight\":1},{\"from\":\"0\",\"label\":\"\",\"to\":\"4\",\"weight\":1},{\"weight\":1,\"from\":\"2\",\"label\":\"\",\"to\":\"4\"},{\"from\":\"2\",\"to\":\"5\",\"label\":\"\",\"weight\":1},{\"from\":\"2\",\"to\":\"2\",\"label\":\"\",\"weight\":1},{\"label\":\"\",\"from\":\"1\",\"weight\":1,\"to\":\"1\"},{\"label\":\"\",\"to\":\"4\",\"weight\":1,\"from\":\"1\"},{\"weight\":1,\"from\":\"1\",\"to\":\"5\",\"label\":\"\"},{\"to\":\"3\",\"from\":\"1\",\"label\":\"\",\"weight\":1},{\"label\":\"\",\"to\":\"3\",\"from\":\"3\",\"weight\":1},{\"from\":\"3\",\"weight\":1,\"label\":\"\",\"to\":\"5\"},{\"from\":\"5\",\"weight\":1,\"to\":\"5\",\"label\":\"\"},{\"to\":\"4\",\"weight\":1,\"from\":\"4\",\"label\":\"\"}];\n\nconst nodes = Array.from(new Set(edges.flatMap(e => [e.from, e.to])), id => ({id}));\n\nconst highlightSpecs = {};\n\nconst links = edges.map(e => ({\n  source: e.from,\n  target: e.to,\n  weight: e.weight,\n  label: e.label,\n}));\n\n//.force(\"link\", d3.forceLink(links).id(d => d.id).distance(d => Math.max(d.weight * 20, 6 * 4)))\nconst simulation = d3.forceSimulation(nodes)\n    .force(\"link\", d3.forceLink(links).id(d => d.id).distance(180).iterations(1))\n    .force(\"charge\", d3.forceManyBody().distanceMin(1).distanceMax(2000))\n    .force(\"x\", d3.forceX())\n    .force(\"y\", d3.forceY())\n    .force(\"collision\", d3.forceCollide().radius(10))\n    .force(\"center\", d3.forceCenter(width / 2, height / 2));\n\nsvg.append('defs').append('marker')\n    .attr(\"id\",'arrowhead')\n    .attr('viewBox','-0 -5 10 10') //the bound of the SVG viewport for the current SVG fragment. defines a coordinate system 10 wide and 10 high starting on (0,-5)\n     .attr('refX', 16) // x coordinate for the reference point of the marker. If circle is bigger, this need to be bigger.\n     .attr('refY',0)\n     .attr('orient','auto')\n        .attr('markerWidth', 5)\n        .attr('markerHeight', 5)\n        .attr('xoverflow','visible')\n    .append('svg:path')\n    .attr('d', 'M 0,-5 L 10 ,0 L 0,5')\n    .attr('fill', \"SteelBlue\")\n    .style('stroke','none');\n\nconst link = svg.append(\"g\")\n    .attr(\"class\", \"links\")\n  .selectAll(\"line\")\n  .data(links)\n  .enter().append(\"line\")\n    .attr(\"class\", \"link\")\n    .attr(\"stroke\", d => {\n        for (const [color, items] of Object.entries(highlightSpecs)) {\n            if (items.some(item => Array.isArray(item) && item[0] === d.source.id && item[1] === d.target.id)) {\n                return color;\n            }\n        }\n        return \"SteelBlue\";\n    })\n    .attr(\"stroke-width\", 3)\n    \n\nconst node = svg.append(\"g\")\n    .attr(\"class\", \"nodes\")\n  .selectAll(\"circle\")\n  .data(nodes)\n  .enter().append(\"circle\")\n    .attr(\"class\", \"node\")\n    .attr(\"r\", 6)\n    .attr(\"stroke\", d => {\n       for (const [color, items] of Object.entries(highlightSpecs)) {\n         if (items.includes(d.id)) {\n            return color;\n         }\n       }\n       return \"SteelBlue\";\n    })\n    .attr(\"fill\", d => {\n       for (const [color, items] of Object.entries(highlightSpecs)) {\n         if (items.includes(d.id)) {\n            return color;\n         }\n       }\n       return \"SteelBlue\";\n    })\n    .call(drag(simulation));\n\nnode.append(\"title\")\n    .text(d => d.id);\n\nconst nodeLabel = svg.append(\"g\")\n    .attr(\"class\", \"node-labels\")\n  .selectAll(\"text\")\n  .data(nodes)\n  .enter().append(\"text\")\n    .attr(\"class\", \"node-label\")\n    .style(\"font-size\", 13)\n    .attr(\"font-family\", \"Courier New\")\n    .attr(\"font-weight\", 100)\n    .attr(\"dy\", -10)\n    .attr('fill', \"Silver\")\n    .attr('stroke', \"Silver\")\n    .text(d => d.id);\n\nconst linkLabel = svg.append(\"g\")\n    .attr(\"class\", \"link-labels\")\n  .selectAll(\"text\")\n  .data(links)\n  .enter().append(\"text\")\n    .filter(d => d.label !== \"\")\n    .attr(\"class\", \"link-label\")\n    .style(\"font-size\", 13)\n    .attr(\"font-family\", \"Courier\")\n    .attr('fill', \"Silver\")\n    .attr('stroke', \"Silver\")\n    .text(d => d.label);\n\nsimulation.on(\"tick\", () => {\n  link\n      .attr(\"x1\", d => d.source.x)\n      .attr(\"y1\", d => d.source.y)\n      .attr(\"x2\", d => d.target.x)\n      .attr(\"y2\", d => d.target.y);\n\n  node\n      .attr(\"cx\", d => d.x)\n      .attr(\"cy\", d => d.y);\n\n  nodeLabel\n      .attr(\"x\", d => d.x)\n      .attr(\"y\", d => d.y);\n\n  linkLabel\n      .attr(\"x\", d => (d.source.x + d.target.x) / 2)\n      .attr(\"y\", d => (d.source.y + d.target.y) / 2);\n});\n\nfunction drag(simulation) {\n  function dragstarted(event, d) {\n    if (!event.active) simulation.alphaTarget(0.3).restart();\n    d.fx = d.x;\n    d.fy = d.y;\n  }\n\n  function dragged(event, d) {\n    d.fx = event.x;\n    d.fy = event.y;\n  }\n\n  function dragended(event, d) {\n    if (!event.active) simulation.alphaTarget(0);\n    d.fx = null;\n    d.fy = null;\n  }\n\n  return d3.drag()\n      .on(\"start\", dragstarted)\n      .on(\"drag\", dragged)\n      .on(\"end\", dragended);\n}\n\n}) })(element);\n"
     },
     "execution_count": 6,
     "metadata": {},
     "output_type": "execute_result"
    }
   ],
   "source": [
    "#% js\n",
    "my $g2 = $g1.complement;\n",
    "\n",
    "$g2.edges(:dataset)\n",
    "==> js-d3-graph-plot(\n",
    "    :$background, :$title-color, :$edge-thickness, :$vertex-size,\n",
    "    directed => $g2.directed,\n",
    "    #force => {charge => { strength => -300}, collision => {radius => 50}}\n",
    "    :%force\n",
    "    )"
   ]
  },
  {
   "cell_type": "markdown",
   "metadata": {},
   "source": [
    "### Reverse"
   ]
  },
  {
   "cell_type": "code",
   "execution_count": 7,
   "metadata": {},
   "outputs": [
    {
     "data": {
      "application/javascript": "(function(element) { require(['d3'], function(d3) {\n\n// set the dimensions and margins of the graph\nvar margin = {\"bottom\":40,\"top\":40,\"right\":40,\"left\":40},\n    width = 400 - margin.left - margin.right,\n    height = 247 - margin.top - margin.bottom;\n\n// append the svg object to the body of the page\nvar svg = d3\n   .select(element.get(0))\n  .append(\"svg\")\n    .attr(\"width\", width + margin.left + margin.right)\n    .attr(\"height\", height + margin.top + margin.bottom)\n    .style(\"background\", \"#1F1F1F\")\n  .append(\"g\")\n    .attr(\"transform\",\n          \"translate(\" + margin.left + \",\" + margin.top + \")\")\n\n// Obtain title\nvar title = \"\"\nvar titleFontSize = 16\n\nif ( title.length > 0 ) {\n    svg.append(\"text\")\n        .attr(\"x\", (width / 2))\n        .attr(\"y\", 0 - (margin.top / 2))\n        .attr(\"text-anchor\", \"middle\")\n        .style(\"font-size\", titleFontSize.toString() + \"px\")\n        .style(\"fill\", \"Silver\")\n        .text(title);\n}\n\nconst edges = [{\"to\":\"0\",\"from\":\"4\",\"weight\":1,\"label\":\"\"},{\"from\":\"0\",\"weight\":1,\"to\":\"1\",\"label\":\"\"},{\"from\":\"3\",\"to\":\"4\",\"label\":\"\",\"weight\":1},{\"weight\":1,\"to\":\"3\",\"from\":\"2\",\"label\":\"\"},{\"weight\":1,\"label\":\"\",\"to\":\"2\",\"from\":\"1\"}];\n\nconst nodes = Array.from(new Set(edges.flatMap(e => [e.from, e.to])), id => ({id}));\n\nconst highlightSpecs = {};\n\nconst links = edges.map(e => ({\n  source: e.from,\n  target: e.to,\n  weight: e.weight,\n  label: e.label,\n}));\n\n//.force(\"link\", d3.forceLink(links).id(d => d.id).distance(d => Math.max(d.weight * 20, 6 * 4)))\nconst simulation = d3.forceSimulation(nodes)\n    .force(\"link\", d3.forceLink(links).id(d => d.id).iterations(1))\n    .force(\"charge\", d3.forceManyBody().strength(-800).distanceMin(1).distanceMax(2000))\n    .force(\"x\", d3.forceX())\n    .force(\"y\", d3.forceY())\n    .force(\"collision\", d3.forceCollide().radius(50))\n    .force(\"center\", d3.forceCenter(width / 2, height / 2));\n\nsvg.append('defs').append('marker')\n    .attr(\"id\",'arrowhead')\n    .attr('viewBox','-0 -5 10 10') //the bound of the SVG viewport for the current SVG fragment. defines a coordinate system 10 wide and 10 high starting on (0,-5)\n     .attr('refX', 16) // x coordinate for the reference point of the marker. If circle is bigger, this need to be bigger.\n     .attr('refY',0)\n     .attr('orient','auto')\n        .attr('markerWidth', 5)\n        .attr('markerHeight', 5)\n        .attr('xoverflow','visible')\n    .append('svg:path')\n    .attr('d', 'M 0,-5 L 10 ,0 L 0,5')\n    .attr('fill', \"SteelBlue\")\n    .style('stroke','none');\n\nconst link = svg.append(\"g\")\n    .attr(\"class\", \"links\")\n  .selectAll(\"line\")\n  .data(links)\n  .enter().append(\"line\")\n    .attr(\"class\", \"link\")\n    .attr(\"stroke\", d => {\n        for (const [color, items] of Object.entries(highlightSpecs)) {\n            if (items.some(item => Array.isArray(item) && item[0] === d.source.id && item[1] === d.target.id)) {\n                return color;\n            }\n        }\n        return \"SteelBlue\";\n    })\n    .attr(\"stroke-width\", 3)\n    .attr('marker-end','url(#arrowhead)')\n\nconst node = svg.append(\"g\")\n    .attr(\"class\", \"nodes\")\n  .selectAll(\"circle\")\n  .data(nodes)\n  .enter().append(\"circle\")\n    .attr(\"class\", \"node\")\n    .attr(\"r\", 6)\n    .attr(\"stroke\", d => {\n       for (const [color, items] of Object.entries(highlightSpecs)) {\n         if (items.includes(d.id)) {\n            return color;\n         }\n       }\n       return \"SteelBlue\";\n    })\n    .attr(\"fill\", d => {\n       for (const [color, items] of Object.entries(highlightSpecs)) {\n         if (items.includes(d.id)) {\n            return color;\n         }\n       }\n       return \"SteelBlue\";\n    })\n    .call(drag(simulation));\n\nnode.append(\"title\")\n    .text(d => d.id);\n\nconst nodeLabel = svg.append(\"g\")\n    .attr(\"class\", \"node-labels\")\n  .selectAll(\"text\")\n  .data(nodes)\n  .enter().append(\"text\")\n    .attr(\"class\", \"node-label\")\n    .style(\"font-size\", 13)\n    .attr(\"font-family\", \"Courier New\")\n    .attr(\"font-weight\", 100)\n    .attr(\"dy\", -10)\n    .attr('fill', \"Silver\")\n    .attr('stroke', \"Silver\")\n    .text(d => d.id);\n\nconst linkLabel = svg.append(\"g\")\n    .attr(\"class\", \"link-labels\")\n  .selectAll(\"text\")\n  .data(links)\n  .enter().append(\"text\")\n    .filter(d => d.label !== \"\")\n    .attr(\"class\", \"link-label\")\n    .style(\"font-size\", 13)\n    .attr(\"font-family\", \"Courier\")\n    .attr('fill', \"Silver\")\n    .attr('stroke', \"Silver\")\n    .text(d => d.label);\n\nsimulation.on(\"tick\", () => {\n  link\n      .attr(\"x1\", d => d.source.x)\n      .attr(\"y1\", d => d.source.y)\n      .attr(\"x2\", d => d.target.x)\n      .attr(\"y2\", d => d.target.y);\n\n  node\n      .attr(\"cx\", d => d.x)\n      .attr(\"cy\", d => d.y);\n\n  nodeLabel\n      .attr(\"x\", d => d.x)\n      .attr(\"y\", d => d.y);\n\n  linkLabel\n      .attr(\"x\", d => (d.source.x + d.target.x) / 2)\n      .attr(\"y\", d => (d.source.y + d.target.y) / 2);\n});\n\nfunction drag(simulation) {\n  function dragstarted(event, d) {\n    if (!event.active) simulation.alphaTarget(0.3).restart();\n    d.fx = d.x;\n    d.fy = d.y;\n  }\n\n  function dragged(event, d) {\n    d.fx = event.x;\n    d.fy = event.y;\n  }\n\n  function dragended(event, d) {\n    if (!event.active) simulation.alphaTarget(0);\n    d.fx = null;\n    d.fy = null;\n  }\n\n  return d3.drag()\n      .on(\"start\", dragstarted)\n      .on(\"drag\", dragged)\n      .on(\"end\", dragended);\n}\n\n}) })(element);\n"
     },
     "execution_count": 7,
     "metadata": {},
     "output_type": "execute_result"
    }
   ],
   "source": [
    "#% js\n",
    "my $g1 = Graph::Cycle.new(5, :directed);\n",
    "\n",
    "$g1.edges(:dataset)\n",
    "==> js-d3-graph-plot(\n",
    "    directed => $g1.directed,\n",
    "    :$background, :$title-color, :$edge-thickness, :$vertex-size,\n",
    "    force => {charge => { strength => -800}, collision => {radius => 50}}\n",
    "    )"
   ]
  },
  {
   "cell_type": "code",
   "execution_count": 8,
   "metadata": {},
   "outputs": [
    {
     "data": {
      "text/plain": [
       "[0 => 4 1 => 0 2 => 1 3 => 2 4 => 3]"
      ]
     },
     "execution_count": 8,
     "metadata": {},
     "output_type": "execute_result"
    }
   ],
   "source": [
    "$g1.reverse.edges"
   ]
  },
  {
   "cell_type": "code",
   "execution_count": 9,
   "metadata": {},
   "outputs": [
    {
     "data": {
      "application/javascript": "(function(element) { require(['d3'], function(d3) {\n\n// set the dimensions and margins of the graph\nvar margin = {\"right\":40,\"top\":40,\"left\":40,\"bottom\":40},\n    width = 400 - margin.left - margin.right,\n    height = 247 - margin.top - margin.bottom;\n\n// append the svg object to the body of the page\nvar svg = d3\n   .select(element.get(0))\n  .append(\"svg\")\n    .attr(\"width\", width + margin.left + margin.right)\n    .attr(\"height\", height + margin.top + margin.bottom)\n    .style(\"background\", \"#1F1F1F\")\n  .append(\"g\")\n    .attr(\"transform\",\n          \"translate(\" + margin.left + \",\" + margin.top + \")\")\n\n// Obtain title\nvar title = \"\"\nvar titleFontSize = 16\n\nif ( title.length > 0 ) {\n    svg.append(\"text\")\n        .attr(\"x\", (width / 2))\n        .attr(\"y\", 0 - (margin.top / 2))\n        .attr(\"text-anchor\", \"middle\")\n        .style(\"font-size\", titleFontSize.toString() + \"px\")\n        .style(\"fill\", \"Silver\")\n        .text(title);\n}\n\nconst edges = [{\"label\":\"\",\"weight\":1,\"to\":\"0\",\"from\":\"1\"},{\"label\":\"\",\"from\":\"2\",\"weight\":1,\"to\":\"1\"},{\"weight\":1,\"from\":\"3\",\"to\":\"2\",\"label\":\"\"},{\"weight\":1,\"label\":\"\",\"to\":\"4\",\"from\":\"0\"},{\"label\":\"\",\"from\":\"4\",\"weight\":1,\"to\":\"3\"}];\n\nconst nodes = Array.from(new Set(edges.flatMap(e => [e.from, e.to])), id => ({id}));\n\nconst highlightSpecs = {};\n\nconst links = edges.map(e => ({\n  source: e.from,\n  target: e.to,\n  weight: e.weight,\n  label: e.label,\n}));\n\n//.force(\"link\", d3.forceLink(links).id(d => d.id).distance(d => Math.max(d.weight * 20, 6 * 4)))\nconst simulation = d3.forceSimulation(nodes)\n    .force(\"link\", d3.forceLink(links).id(d => d.id).iterations(1))\n    .force(\"charge\", d3.forceManyBody().strength(-800).distanceMin(1).distanceMax(2000))\n    .force(\"x\", d3.forceX())\n    .force(\"y\", d3.forceY())\n    .force(\"collision\", d3.forceCollide().radius(50))\n    .force(\"center\", d3.forceCenter(width / 2, height / 2));\n\nsvg.append('defs').append('marker')\n    .attr(\"id\",'arrowhead')\n    .attr('viewBox','-0 -5 10 10') //the bound of the SVG viewport for the current SVG fragment. defines a coordinate system 10 wide and 10 high starting on (0,-5)\n     .attr('refX', 16) // x coordinate for the reference point of the marker. If circle is bigger, this need to be bigger.\n     .attr('refY',0)\n     .attr('orient','auto')\n        .attr('markerWidth', 5)\n        .attr('markerHeight', 5)\n        .attr('xoverflow','visible')\n    .append('svg:path')\n    .attr('d', 'M 0,-5 L 10 ,0 L 0,5')\n    .attr('fill', \"SteelBlue\")\n    .style('stroke','none');\n\nconst link = svg.append(\"g\")\n    .attr(\"class\", \"links\")\n  .selectAll(\"line\")\n  .data(links)\n  .enter().append(\"line\")\n    .attr(\"class\", \"link\")\n    .attr(\"stroke\", d => {\n        for (const [color, items] of Object.entries(highlightSpecs)) {\n            if (items.some(item => Array.isArray(item) && item[0] === d.source.id && item[1] === d.target.id)) {\n                return color;\n            }\n        }\n        return \"SteelBlue\";\n    })\n    .attr(\"stroke-width\", 3)\n    .attr('marker-end','url(#arrowhead)')\n\nconst node = svg.append(\"g\")\n    .attr(\"class\", \"nodes\")\n  .selectAll(\"circle\")\n  .data(nodes)\n  .enter().append(\"circle\")\n    .attr(\"class\", \"node\")\n    .attr(\"r\", 6)\n    .attr(\"stroke\", d => {\n       for (const [color, items] of Object.entries(highlightSpecs)) {\n         if (items.includes(d.id)) {\n            return color;\n         }\n       }\n       return \"SteelBlue\";\n    })\n    .attr(\"fill\", d => {\n       for (const [color, items] of Object.entries(highlightSpecs)) {\n         if (items.includes(d.id)) {\n            return color;\n         }\n       }\n       return \"SteelBlue\";\n    })\n    .call(drag(simulation));\n\nnode.append(\"title\")\n    .text(d => d.id);\n\nconst nodeLabel = svg.append(\"g\")\n    .attr(\"class\", \"node-labels\")\n  .selectAll(\"text\")\n  .data(nodes)\n  .enter().append(\"text\")\n    .attr(\"class\", \"node-label\")\n    .style(\"font-size\", 13)\n    .attr(\"font-family\", \"Courier New\")\n    .attr(\"font-weight\", 100)\n    .attr(\"dy\", -10)\n    .attr('fill', \"Silver\")\n    .attr('stroke', \"Silver\")\n    .text(d => d.id);\n\nconst linkLabel = svg.append(\"g\")\n    .attr(\"class\", \"link-labels\")\n  .selectAll(\"text\")\n  .data(links)\n  .enter().append(\"text\")\n    .filter(d => d.label !== \"\")\n    .attr(\"class\", \"link-label\")\n    .style(\"font-size\", 13)\n    .attr(\"font-family\", \"Courier\")\n    .attr('fill', \"Silver\")\n    .attr('stroke', \"Silver\")\n    .text(d => d.label);\n\nsimulation.on(\"tick\", () => {\n  link\n      .attr(\"x1\", d => d.source.x)\n      .attr(\"y1\", d => d.source.y)\n      .attr(\"x2\", d => d.target.x)\n      .attr(\"y2\", d => d.target.y);\n\n  node\n      .attr(\"cx\", d => d.x)\n      .attr(\"cy\", d => d.y);\n\n  nodeLabel\n      .attr(\"x\", d => d.x)\n      .attr(\"y\", d => d.y);\n\n  linkLabel\n      .attr(\"x\", d => (d.source.x + d.target.x) / 2)\n      .attr(\"y\", d => (d.source.y + d.target.y) / 2);\n});\n\nfunction drag(simulation) {\n  function dragstarted(event, d) {\n    if (!event.active) simulation.alphaTarget(0.3).restart();\n    d.fx = d.x;\n    d.fy = d.y;\n  }\n\n  function dragged(event, d) {\n    d.fx = event.x;\n    d.fy = event.y;\n  }\n\n  function dragended(event, d) {\n    if (!event.active) simulation.alphaTarget(0);\n    d.fx = null;\n    d.fy = null;\n  }\n\n  return d3.drag()\n      .on(\"start\", dragstarted)\n      .on(\"drag\", dragged)\n      .on(\"end\", dragended);\n}\n\n}) })(element);\n"
     },
     "execution_count": 9,
     "metadata": {},
     "output_type": "execute_result"
    }
   ],
   "source": [
    "#% js\n",
    "$g1.reverse.edges(:dataset)\n",
    "==> js-d3-graph-plot(\n",
    "    directed => $g1.directed,\n",
    "    :$background, :$title-color, :$edge-thickness, :$vertex-size,\n",
    "    force => {charge => { strength => -800}, collision => {radius => 50}}\n",
    "    )"
   ]
  },
  {
   "cell_type": "markdown",
   "metadata": {},
   "source": [
    "-------\n",
    "\n",
    "## Vertex removal"
   ]
  },
  {
   "cell_type": "code",
   "execution_count": 10,
   "metadata": {},
   "outputs": [
    {
     "data": {
      "application/javascript": "(function(element) { require(['d3'], function(d3) {\n\n// set the dimensions and margins of the graph\nvar margin = {\"right\":40,\"bottom\":40,\"top\":40,\"left\":40},\n    width = 400 - margin.left - margin.right,\n    height = 247 - margin.top - margin.bottom;\n\n// append the svg object to the body of the page\nvar svg = d3\n   .select(element.get(0))\n  .append(\"svg\")\n    .attr(\"width\", width + margin.left + margin.right)\n    .attr(\"height\", height + margin.top + margin.bottom)\n    .style(\"background\", \"#1F1F1F\")\n  .append(\"g\")\n    .attr(\"transform\",\n          \"translate(\" + margin.left + \",\" + margin.top + \")\")\n\n// Obtain title\nvar title = \"\"\nvar titleFontSize = 16\n\nif ( title.length > 0 ) {\n    svg.append(\"text\")\n        .attr(\"x\", (width / 2))\n        .attr(\"y\", 0 - (margin.top / 2))\n        .attr(\"text-anchor\", \"middle\")\n        .style(\"font-size\", titleFontSize.toString() + \"px\")\n        .style(\"fill\", \"Silver\")\n        .text(title);\n}\n\nconst edges = [{\"to\":\"1\",\"label\":\"\",\"weight\":1,\"from\":\"0\"},{\"to\":\"2\",\"label\":\"\",\"from\":\"1\",\"weight\":1},{\"to\":\"3\",\"label\":\"\",\"weight\":1,\"from\":\"2\"},{\"weight\":1,\"from\":\"3\",\"label\":\"\",\"to\":\"4\"},{\"to\":\"0\",\"weight\":1,\"label\":\"\",\"from\":\"4\"}];\n\nconst nodes = Array.from(new Set(edges.flatMap(e => [e.from, e.to])), id => ({id}));\n\nconst highlightSpecs = {};\n\nconst links = edges.map(e => ({\n  source: e.from,\n  target: e.to,\n  weight: e.weight,\n  label: e.label,\n}));\n\n//.force(\"link\", d3.forceLink(links).id(d => d.id).distance(d => Math.max(d.weight * 20, 6 * 4)))\nconst simulation = d3.forceSimulation(nodes)\n    .force(\"link\", d3.forceLink(links).id(d => d.id).iterations(1))\n    .force(\"charge\", d3.forceManyBody().strength(-800).distanceMin(1).distanceMax(2000))\n    .force(\"x\", d3.forceX())\n    .force(\"y\", d3.forceY())\n    .force(\"collision\", d3.forceCollide().radius(50))\n    .force(\"center\", d3.forceCenter(width / 2, height / 2));\n\nsvg.append('defs').append('marker')\n    .attr(\"id\",'arrowhead')\n    .attr('viewBox','-0 -5 10 10') //the bound of the SVG viewport for the current SVG fragment. defines a coordinate system 10 wide and 10 high starting on (0,-5)\n     .attr('refX', 16) // x coordinate for the reference point of the marker. If circle is bigger, this need to be bigger.\n     .attr('refY',0)\n     .attr('orient','auto')\n        .attr('markerWidth', 5)\n        .attr('markerHeight', 5)\n        .attr('xoverflow','visible')\n    .append('svg:path')\n    .attr('d', 'M 0,-5 L 10 ,0 L 0,5')\n    .attr('fill', \"SteelBlue\")\n    .style('stroke','none');\n\nconst link = svg.append(\"g\")\n    .attr(\"class\", \"links\")\n  .selectAll(\"line\")\n  .data(links)\n  .enter().append(\"line\")\n    .attr(\"class\", \"link\")\n    .attr(\"stroke\", d => {\n        for (const [color, items] of Object.entries(highlightSpecs)) {\n            if (items.some(item => Array.isArray(item) && item[0] === d.source.id && item[1] === d.target.id)) {\n                return color;\n            }\n        }\n        return \"SteelBlue\";\n    })\n    .attr(\"stroke-width\", 3)\n    .attr('marker-end','url(#arrowhead)')\n\nconst node = svg.append(\"g\")\n    .attr(\"class\", \"nodes\")\n  .selectAll(\"circle\")\n  .data(nodes)\n  .enter().append(\"circle\")\n    .attr(\"class\", \"node\")\n    .attr(\"r\", 6)\n    .attr(\"stroke\", d => {\n       for (const [color, items] of Object.entries(highlightSpecs)) {\n         if (items.includes(d.id)) {\n            return color;\n         }\n       }\n       return \"SteelBlue\";\n    })\n    .attr(\"fill\", d => {\n       for (const [color, items] of Object.entries(highlightSpecs)) {\n         if (items.includes(d.id)) {\n            return color;\n         }\n       }\n       return \"SteelBlue\";\n    })\n    .call(drag(simulation));\n\nnode.append(\"title\")\n    .text(d => d.id);\n\nconst nodeLabel = svg.append(\"g\")\n    .attr(\"class\", \"node-labels\")\n  .selectAll(\"text\")\n  .data(nodes)\n  .enter().append(\"text\")\n    .attr(\"class\", \"node-label\")\n    .style(\"font-size\", 13)\n    .attr(\"font-family\", \"Courier New\")\n    .attr(\"font-weight\", 100)\n    .attr(\"dy\", -10)\n    .attr('fill', \"Silver\")\n    .attr('stroke', \"Silver\")\n    .text(d => d.id);\n\nconst linkLabel = svg.append(\"g\")\n    .attr(\"class\", \"link-labels\")\n  .selectAll(\"text\")\n  .data(links)\n  .enter().append(\"text\")\n    .filter(d => d.label !== \"\")\n    .attr(\"class\", \"link-label\")\n    .style(\"font-size\", 13)\n    .attr(\"font-family\", \"Courier\")\n    .attr('fill', \"Silver\")\n    .attr('stroke', \"Silver\")\n    .text(d => d.label);\n\nsimulation.on(\"tick\", () => {\n  link\n      .attr(\"x1\", d => d.source.x)\n      .attr(\"y1\", d => d.source.y)\n      .attr(\"x2\", d => d.target.x)\n      .attr(\"y2\", d => d.target.y);\n\n  node\n      .attr(\"cx\", d => d.x)\n      .attr(\"cy\", d => d.y);\n\n  nodeLabel\n      .attr(\"x\", d => d.x)\n      .attr(\"y\", d => d.y);\n\n  linkLabel\n      .attr(\"x\", d => (d.source.x + d.target.x) / 2)\n      .attr(\"y\", d => (d.source.y + d.target.y) / 2);\n});\n\nfunction drag(simulation) {\n  function dragstarted(event, d) {\n    if (!event.active) simulation.alphaTarget(0.3).restart();\n    d.fx = d.x;\n    d.fy = d.y;\n  }\n\n  function dragged(event, d) {\n    d.fx = event.x;\n    d.fy = event.y;\n  }\n\n  function dragended(event, d) {\n    if (!event.active) simulation.alphaTarget(0);\n    d.fx = null;\n    d.fy = null;\n  }\n\n  return d3.drag()\n      .on(\"start\", dragstarted)\n      .on(\"drag\", dragged)\n      .on(\"end\", dragended);\n}\n\n}) })(element);\n\n(function(element) { require(['d3'], function(d3) {\n\n// set the dimensions and margins of the graph\nvar margin = {\"top\":40,\"left\":40,\"right\":40,\"bottom\":40},\n    width = 400 - margin.left - margin.right,\n    height = 247 - margin.top - margin.bottom;\n\n// append the svg object to the body of the page\nvar svg = d3\n   .select(element.get(0))\n  .append(\"svg\")\n    .attr(\"width\", width + margin.left + margin.right)\n    .attr(\"height\", height + margin.top + margin.bottom)\n    .style(\"background\", \"#1F1F1F\")\n  .append(\"g\")\n    .attr(\"transform\",\n          \"translate(\" + margin.left + \",\" + margin.top + \")\")\n\n// Obtain title\nvar title = \"\"\nvar titleFontSize = 16\n\nif ( title.length > 0 ) {\n    svg.append(\"text\")\n        .attr(\"x\", (width / 2))\n        .attr(\"y\", 0 - (margin.top / 2))\n        .attr(\"text-anchor\", \"middle\")\n        .style(\"font-size\", titleFontSize.toString() + \"px\")\n        .style(\"fill\", \"Silver\")\n        .text(title);\n}\n\nconst edges = [{\"to\":\"4\",\"weight\":1,\"from\":\"3\",\"label\":\"\"},{\"from\":\"4\",\"label\":\"\",\"weight\":1,\"to\":\"0\"}];\n\nconst nodes = Array.from(new Set(edges.flatMap(e => [e.from, e.to])), id => ({id}));\n\nconst highlightSpecs = {};\n\nconst links = edges.map(e => ({\n  source: e.from,\n  target: e.to,\n  weight: e.weight,\n  label: e.label,\n}));\n\n//.force(\"link\", d3.forceLink(links).id(d => d.id).distance(d => Math.max(d.weight * 20, 6 * 4)))\nconst simulation = d3.forceSimulation(nodes)\n    .force(\"link\", d3.forceLink(links).id(d => d.id).iterations(1))\n    .force(\"charge\", d3.forceManyBody().strength(-800).distanceMin(1).distanceMax(2000))\n    .force(\"x\", d3.forceX())\n    .force(\"y\", d3.forceY())\n    .force(\"collision\", d3.forceCollide().radius(50))\n    .force(\"center\", d3.forceCenter(width / 2, height / 2));\n\nsvg.append('defs').append('marker')\n    .attr(\"id\",'arrowhead')\n    .attr('viewBox','-0 -5 10 10') //the bound of the SVG viewport for the current SVG fragment. defines a coordinate system 10 wide and 10 high starting on (0,-5)\n     .attr('refX', 16) // x coordinate for the reference point of the marker. If circle is bigger, this need to be bigger.\n     .attr('refY',0)\n     .attr('orient','auto')\n        .attr('markerWidth', 5)\n        .attr('markerHeight', 5)\n        .attr('xoverflow','visible')\n    .append('svg:path')\n    .attr('d', 'M 0,-5 L 10 ,0 L 0,5')\n    .attr('fill', \"SteelBlue\")\n    .style('stroke','none');\n\nconst link = svg.append(\"g\")\n    .attr(\"class\", \"links\")\n  .selectAll(\"line\")\n  .data(links)\n  .enter().append(\"line\")\n    .attr(\"class\", \"link\")\n    .attr(\"stroke\", d => {\n        for (const [color, items] of Object.entries(highlightSpecs)) {\n            if (items.some(item => Array.isArray(item) && item[0] === d.source.id && item[1] === d.target.id)) {\n                return color;\n            }\n        }\n        return \"SteelBlue\";\n    })\n    .attr(\"stroke-width\", 3)\n    .attr('marker-end','url(#arrowhead)')\n\nconst node = svg.append(\"g\")\n    .attr(\"class\", \"nodes\")\n  .selectAll(\"circle\")\n  .data(nodes)\n  .enter().append(\"circle\")\n    .attr(\"class\", \"node\")\n    .attr(\"r\", 6)\n    .attr(\"stroke\", d => {\n       for (const [color, items] of Object.entries(highlightSpecs)) {\n         if (items.includes(d.id)) {\n            return color;\n         }\n       }\n       return \"SteelBlue\";\n    })\n    .attr(\"fill\", d => {\n       for (const [color, items] of Object.entries(highlightSpecs)) {\n         if (items.includes(d.id)) {\n            return color;\n         }\n       }\n       return \"SteelBlue\";\n    })\n    .call(drag(simulation));\n\nnode.append(\"title\")\n    .text(d => d.id);\n\nconst nodeLabel = svg.append(\"g\")\n    .attr(\"class\", \"node-labels\")\n  .selectAll(\"text\")\n  .data(nodes)\n  .enter().append(\"text\")\n    .attr(\"class\", \"node-label\")\n    .style(\"font-size\", 13)\n    .attr(\"font-family\", \"Courier New\")\n    .attr(\"font-weight\", 100)\n    .attr(\"dy\", -10)\n    .attr('fill', \"Silver\")\n    .attr('stroke', \"Silver\")\n    .text(d => d.id);\n\nconst linkLabel = svg.append(\"g\")\n    .attr(\"class\", \"link-labels\")\n  .selectAll(\"text\")\n  .data(links)\n  .enter().append(\"text\")\n    .filter(d => d.label !== \"\")\n    .attr(\"class\", \"link-label\")\n    .style(\"font-size\", 13)\n    .attr(\"font-family\", \"Courier\")\n    .attr('fill', \"Silver\")\n    .attr('stroke', \"Silver\")\n    .text(d => d.label);\n\nsimulation.on(\"tick\", () => {\n  link\n      .attr(\"x1\", d => d.source.x)\n      .attr(\"y1\", d => d.source.y)\n      .attr(\"x2\", d => d.target.x)\n      .attr(\"y2\", d => d.target.y);\n\n  node\n      .attr(\"cx\", d => d.x)\n      .attr(\"cy\", d => d.y);\n\n  nodeLabel\n      .attr(\"x\", d => d.x)\n      .attr(\"y\", d => d.y);\n\n  linkLabel\n      .attr(\"x\", d => (d.source.x + d.target.x) / 2)\n      .attr(\"y\", d => (d.source.y + d.target.y) / 2);\n});\n\nfunction drag(simulation) {\n  function dragstarted(event, d) {\n    if (!event.active) simulation.alphaTarget(0.3).restart();\n    d.fx = d.x;\n    d.fy = d.y;\n  }\n\n  function dragged(event, d) {\n    d.fx = event.x;\n    d.fy = event.y;\n  }\n\n  function dragended(event, d) {\n    if (!event.active) simulation.alphaTarget(0);\n    d.fx = null;\n    d.fy = null;\n  }\n\n  return d3.drag()\n      .on(\"start\", dragstarted)\n      .on(\"drag\", dragged)\n      .on(\"end\", dragended);\n}\n\n}) })(element);\n"
     },
     "execution_count": 10,
     "metadata": {},
     "output_type": "execute_result"
    }
   ],
   "source": [
    "#% js\n",
    "my $g1 = Graph::Cycle.new(5, :directed);\n",
    "my $g2 = $g1.clone.vertex-delete(<1 2>);\n",
    "\n",
    "[$g1, $g2].map({\n",
    "    js-d3-graph-plot($_.edges,\n",
    "    directed => $_.directed,\n",
    "    :$background, :$title-color, :$edge-thickness, :$vertex-size,\n",
    "    force => {charge => { strength => -800}, collision => {radius => 50}}\n",
    "    )\n",
    "}).join(\"\\n\")"
   ]
  },
  {
   "cell_type": "markdown",
   "metadata": {},
   "source": [
    "------\n",
    "\n",
    "## Edges removal"
   ]
  },
  {
   "cell_type": "code",
   "execution_count": 11,
   "metadata": {},
   "outputs": [
    {
     "data": {
      "application/javascript": "(function(element) { require(['d3'], function(d3) {\n\n// set the dimensions and margins of the graph\nvar margin = {\"top\":40,\"left\":40,\"right\":40,\"bottom\":40},\n    width = 400 - margin.left - margin.right,\n    height = 247 - margin.top - margin.bottom;\n\n// append the svg object to the body of the page\nvar svg = d3\n   .select(element.get(0))\n  .append(\"svg\")\n    .attr(\"width\", width + margin.left + margin.right)\n    .attr(\"height\", height + margin.top + margin.bottom)\n    .style(\"background\", \"#1F1F1F\")\n  .append(\"g\")\n    .attr(\"transform\",\n          \"translate(\" + margin.left + \",\" + margin.top + \")\")\n\n// Obtain title\nvar title = \"\"\nvar titleFontSize = 16\n\nif ( title.length > 0 ) {\n    svg.append(\"text\")\n        .attr(\"x\", (width / 2))\n        .attr(\"y\", 0 - (margin.top / 2))\n        .attr(\"text-anchor\", \"middle\")\n        .style(\"font-size\", titleFontSize.toString() + \"px\")\n        .style(\"fill\", \"Silver\")\n        .text(title);\n}\n\nconst edges = [{\"from\":\"1\",\"weight\":1,\"to\":\"2\",\"label\":\"\"},{\"to\":\"3\",\"label\":\"\",\"weight\":1,\"from\":\"1\"},{\"to\":\"4\",\"label\":\"\",\"weight\":1,\"from\":\"1\"},{\"weight\":1,\"label\":\"\",\"to\":\"5\",\"from\":\"1\"},{\"weight\":1,\"from\":\"2\",\"to\":\"3\",\"label\":\"\"},{\"from\":\"2\",\"label\":\"\",\"to\":\"4\",\"weight\":1},{\"from\":\"2\",\"to\":\"5\",\"label\":\"\",\"weight\":1},{\"to\":\"4\",\"weight\":1,\"label\":\"\",\"from\":\"3\"},{\"from\":\"3\",\"to\":\"5\",\"label\":\"\",\"weight\":1},{\"weight\":1,\"from\":\"4\",\"label\":\"\",\"to\":\"5\"}];\n\nconst nodes = Array.from(new Set(edges.flatMap(e => [e.from, e.to])), id => ({id}));\n\nconst highlightSpecs = {};\n\nconst links = edges.map(e => ({\n  source: e.from,\n  target: e.to,\n  weight: e.weight,\n  label: e.label,\n}));\n\n//.force(\"link\", d3.forceLink(links).id(d => d.id).distance(d => Math.max(d.weight * 20, 6 * 4)))\nconst simulation = d3.forceSimulation(nodes)\n    .force(\"link\", d3.forceLink(links).id(d => d.id).distance(180).iterations(1))\n    .force(\"charge\", d3.forceManyBody().distanceMin(1).distanceMax(2000))\n    .force(\"x\", d3.forceX())\n    .force(\"y\", d3.forceY())\n    .force(\"collision\", d3.forceCollide().radius(10))\n    .force(\"center\", d3.forceCenter(width / 2, height / 2));\n\nsvg.append('defs').append('marker')\n    .attr(\"id\",'arrowhead')\n    .attr('viewBox','-0 -5 10 10') //the bound of the SVG viewport for the current SVG fragment. defines a coordinate system 10 wide and 10 high starting on (0,-5)\n     .attr('refX', 16) // x coordinate for the reference point of the marker. If circle is bigger, this need to be bigger.\n     .attr('refY',0)\n     .attr('orient','auto')\n        .attr('markerWidth', 5)\n        .attr('markerHeight', 5)\n        .attr('xoverflow','visible')\n    .append('svg:path')\n    .attr('d', 'M 0,-5 L 10 ,0 L 0,5')\n    .attr('fill', \"SteelBlue\")\n    .style('stroke','none');\n\nconst link = svg.append(\"g\")\n    .attr(\"class\", \"links\")\n  .selectAll(\"line\")\n  .data(links)\n  .enter().append(\"line\")\n    .attr(\"class\", \"link\")\n    .attr(\"stroke\", d => {\n        for (const [color, items] of Object.entries(highlightSpecs)) {\n            if (items.some(item => Array.isArray(item) && item[0] === d.source.id && item[1] === d.target.id)) {\n                return color;\n            }\n        }\n        return \"SteelBlue\";\n    })\n    .attr(\"stroke-width\", 3)\n    \n\nconst node = svg.append(\"g\")\n    .attr(\"class\", \"nodes\")\n  .selectAll(\"circle\")\n  .data(nodes)\n  .enter().append(\"circle\")\n    .attr(\"class\", \"node\")\n    .attr(\"r\", 6)\n    .attr(\"stroke\", d => {\n       for (const [color, items] of Object.entries(highlightSpecs)) {\n         if (items.includes(d.id)) {\n            return color;\n         }\n       }\n       return \"SteelBlue\";\n    })\n    .attr(\"fill\", d => {\n       for (const [color, items] of Object.entries(highlightSpecs)) {\n         if (items.includes(d.id)) {\n            return color;\n         }\n       }\n       return \"SteelBlue\";\n    })\n    .call(drag(simulation));\n\nnode.append(\"title\")\n    .text(d => d.id);\n\nconst nodeLabel = svg.append(\"g\")\n    .attr(\"class\", \"node-labels\")\n  .selectAll(\"text\")\n  .data(nodes)\n  .enter().append(\"text\")\n    .attr(\"class\", \"node-label\")\n    .style(\"font-size\", 13)\n    .attr(\"font-family\", \"Courier New\")\n    .attr(\"font-weight\", 100)\n    .attr(\"dy\", -10)\n    .attr('fill', \"Silver\")\n    .attr('stroke', \"Silver\")\n    .text(d => d.id);\n\nconst linkLabel = svg.append(\"g\")\n    .attr(\"class\", \"link-labels\")\n  .selectAll(\"text\")\n  .data(links)\n  .enter().append(\"text\")\n    .filter(d => d.label !== \"\")\n    .attr(\"class\", \"link-label\")\n    .style(\"font-size\", 13)\n    .attr(\"font-family\", \"Courier\")\n    .attr('fill', \"Silver\")\n    .attr('stroke', \"Silver\")\n    .text(d => d.label);\n\nsimulation.on(\"tick\", () => {\n  link\n      .attr(\"x1\", d => d.source.x)\n      .attr(\"y1\", d => d.source.y)\n      .attr(\"x2\", d => d.target.x)\n      .attr(\"y2\", d => d.target.y);\n\n  node\n      .attr(\"cx\", d => d.x)\n      .attr(\"cy\", d => d.y);\n\n  nodeLabel\n      .attr(\"x\", d => d.x)\n      .attr(\"y\", d => d.y);\n\n  linkLabel\n      .attr(\"x\", d => (d.source.x + d.target.x) / 2)\n      .attr(\"y\", d => (d.source.y + d.target.y) / 2);\n});\n\nfunction drag(simulation) {\n  function dragstarted(event, d) {\n    if (!event.active) simulation.alphaTarget(0.3).restart();\n    d.fx = d.x;\n    d.fy = d.y;\n  }\n\n  function dragged(event, d) {\n    d.fx = event.x;\n    d.fy = event.y;\n  }\n\n  function dragended(event, d) {\n    if (!event.active) simulation.alphaTarget(0);\n    d.fx = null;\n    d.fy = null;\n  }\n\n  return d3.drag()\n      .on(\"start\", dragstarted)\n      .on(\"drag\", dragged)\n      .on(\"end\", dragended);\n}\n\n}) })(element);\n\n(function(element) { require(['d3'], function(d3) {\n\n// set the dimensions and margins of the graph\nvar margin = {\"right\":40,\"left\":40,\"bottom\":40,\"top\":40},\n    width = 400 - margin.left - margin.right,\n    height = 247 - margin.top - margin.bottom;\n\n// append the svg object to the body of the page\nvar svg = d3\n   .select(element.get(0))\n  .append(\"svg\")\n    .attr(\"width\", width + margin.left + margin.right)\n    .attr(\"height\", height + margin.top + margin.bottom)\n    .style(\"background\", \"#1F1F1F\")\n  .append(\"g\")\n    .attr(\"transform\",\n          \"translate(\" + margin.left + \",\" + margin.top + \")\")\n\n// Obtain title\nvar title = \"\"\nvar titleFontSize = 16\n\nif ( title.length > 0 ) {\n    svg.append(\"text\")\n        .attr(\"x\", (width / 2))\n        .attr(\"y\", 0 - (margin.top / 2))\n        .attr(\"text-anchor\", \"middle\")\n        .style(\"font-size\", titleFontSize.toString() + \"px\")\n        .style(\"fill\", \"Silver\")\n        .text(title);\n}\n\nconst edges = [{\"from\":\"1\",\"weight\":1,\"to\":\"3\",\"label\":\"\"},{\"to\":\"4\",\"from\":\"1\",\"weight\":1,\"label\":\"\"},{\"to\":\"5\",\"label\":\"\",\"from\":\"1\",\"weight\":1},{\"weight\":1,\"from\":\"2\",\"label\":\"\",\"to\":\"3\"},{\"weight\":1,\"to\":\"4\",\"label\":\"\",\"from\":\"2\"},{\"label\":\"\",\"from\":\"2\",\"to\":\"5\",\"weight\":1},{\"weight\":1,\"label\":\"\",\"to\":\"4\",\"from\":\"3\"},{\"weight\":1,\"label\":\"\",\"from\":\"3\",\"to\":\"5\"},{\"to\":\"5\",\"label\":\"\",\"from\":\"4\",\"weight\":1}];\n\nconst nodes = Array.from(new Set(edges.flatMap(e => [e.from, e.to])), id => ({id}));\n\nconst highlightSpecs = {};\n\nconst links = edges.map(e => ({\n  source: e.from,\n  target: e.to,\n  weight: e.weight,\n  label: e.label,\n}));\n\n//.force(\"link\", d3.forceLink(links).id(d => d.id).distance(d => Math.max(d.weight * 20, 6 * 4)))\nconst simulation = d3.forceSimulation(nodes)\n    .force(\"link\", d3.forceLink(links).id(d => d.id).distance(180).iterations(1))\n    .force(\"charge\", d3.forceManyBody().distanceMin(1).distanceMax(2000))\n    .force(\"x\", d3.forceX())\n    .force(\"y\", d3.forceY())\n    .force(\"collision\", d3.forceCollide().radius(10))\n    .force(\"center\", d3.forceCenter(width / 2, height / 2));\n\nsvg.append('defs').append('marker')\n    .attr(\"id\",'arrowhead')\n    .attr('viewBox','-0 -5 10 10') //the bound of the SVG viewport for the current SVG fragment. defines a coordinate system 10 wide and 10 high starting on (0,-5)\n     .attr('refX', 16) // x coordinate for the reference point of the marker. If circle is bigger, this need to be bigger.\n     .attr('refY',0)\n     .attr('orient','auto')\n        .attr('markerWidth', 5)\n        .attr('markerHeight', 5)\n        .attr('xoverflow','visible')\n    .append('svg:path')\n    .attr('d', 'M 0,-5 L 10 ,0 L 0,5')\n    .attr('fill', \"SteelBlue\")\n    .style('stroke','none');\n\nconst link = svg.append(\"g\")\n    .attr(\"class\", \"links\")\n  .selectAll(\"line\")\n  .data(links)\n  .enter().append(\"line\")\n    .attr(\"class\", \"link\")\n    .attr(\"stroke\", d => {\n        for (const [color, items] of Object.entries(highlightSpecs)) {\n            if (items.some(item => Array.isArray(item) && item[0] === d.source.id && item[1] === d.target.id)) {\n                return color;\n            }\n        }\n        return \"SteelBlue\";\n    })\n    .attr(\"stroke-width\", 3)\n    \n\nconst node = svg.append(\"g\")\n    .attr(\"class\", \"nodes\")\n  .selectAll(\"circle\")\n  .data(nodes)\n  .enter().append(\"circle\")\n    .attr(\"class\", \"node\")\n    .attr(\"r\", 6)\n    .attr(\"stroke\", d => {\n       for (const [color, items] of Object.entries(highlightSpecs)) {\n         if (items.includes(d.id)) {\n            return color;\n         }\n       }\n       return \"SteelBlue\";\n    })\n    .attr(\"fill\", d => {\n       for (const [color, items] of Object.entries(highlightSpecs)) {\n         if (items.includes(d.id)) {\n            return color;\n         }\n       }\n       return \"SteelBlue\";\n    })\n    .call(drag(simulation));\n\nnode.append(\"title\")\n    .text(d => d.id);\n\nconst nodeLabel = svg.append(\"g\")\n    .attr(\"class\", \"node-labels\")\n  .selectAll(\"text\")\n  .data(nodes)\n  .enter().append(\"text\")\n    .attr(\"class\", \"node-label\")\n    .style(\"font-size\", 13)\n    .attr(\"font-family\", \"Courier New\")\n    .attr(\"font-weight\", 100)\n    .attr(\"dy\", -10)\n    .attr('fill', \"Silver\")\n    .attr('stroke', \"Silver\")\n    .text(d => d.id);\n\nconst linkLabel = svg.append(\"g\")\n    .attr(\"class\", \"link-labels\")\n  .selectAll(\"text\")\n  .data(links)\n  .enter().append(\"text\")\n    .filter(d => d.label !== \"\")\n    .attr(\"class\", \"link-label\")\n    .style(\"font-size\", 13)\n    .attr(\"font-family\", \"Courier\")\n    .attr('fill', \"Silver\")\n    .attr('stroke', \"Silver\")\n    .text(d => d.label);\n\nsimulation.on(\"tick\", () => {\n  link\n      .attr(\"x1\", d => d.source.x)\n      .attr(\"y1\", d => d.source.y)\n      .attr(\"x2\", d => d.target.x)\n      .attr(\"y2\", d => d.target.y);\n\n  node\n      .attr(\"cx\", d => d.x)\n      .attr(\"cy\", d => d.y);\n\n  nodeLabel\n      .attr(\"x\", d => d.x)\n      .attr(\"y\", d => d.y);\n\n  linkLabel\n      .attr(\"x\", d => (d.source.x + d.target.x) / 2)\n      .attr(\"y\", d => (d.source.y + d.target.y) / 2);\n});\n\nfunction drag(simulation) {\n  function dragstarted(event, d) {\n    if (!event.active) simulation.alphaTarget(0.3).restart();\n    d.fx = d.x;\n    d.fy = d.y;\n  }\n\n  function dragged(event, d) {\n    d.fx = event.x;\n    d.fy = event.y;\n  }\n\n  function dragended(event, d) {\n    if (!event.active) simulation.alphaTarget(0);\n    d.fx = null;\n    d.fy = null;\n  }\n\n  return d3.drag()\n      .on(\"start\", dragstarted)\n      .on(\"drag\", dragged)\n      .on(\"end\", dragended);\n}\n\n}) })(element);\n"
     },
     "execution_count": 11,
     "metadata": {},
     "output_type": "execute_result"
    }
   ],
   "source": [
    "#% js\n",
    "my $g1 = Graph::Complete.new(5);\n",
    "my $g2 = $g1.clone.edge-delete([ '1' => '2' ]);\n",
    "\n",
    "[$g1, $g2].map({\n",
    "    js-d3-graph-plot($_.edges,\n",
    "    directed => $_.directed,\n",
    "    :$background, :$title-color, :$edge-thickness, :$vertex-size,\n",
    "    :%force\n",
    "    )\n",
    "}).join(\"\\n\")"
   ]
  },
  {
   "cell_type": "code",
   "execution_count": 12,
   "metadata": {},
   "outputs": [
    {
     "data": {
      "application/javascript": "(function(element) { require(['d3'], function(d3) {\n\n// set the dimensions and margins of the graph\nvar margin = {\"bottom\":40,\"top\":40,\"left\":40,\"right\":40},\n    width = 400 - margin.left - margin.right,\n    height = 247 - margin.top - margin.bottom;\n\n// append the svg object to the body of the page\nvar svg = d3\n   .select(element.get(0))\n  .append(\"svg\")\n    .attr(\"width\", width + margin.left + margin.right)\n    .attr(\"height\", height + margin.top + margin.bottom)\n    .style(\"background\", \"#1F1F1F\")\n  .append(\"g\")\n    .attr(\"transform\",\n          \"translate(\" + margin.left + \",\" + margin.top + \")\")\n\n// Obtain title\nvar title = \"\"\nvar titleFontSize = 16\n\nif ( title.length > 0 ) {\n    svg.append(\"text\")\n        .attr(\"x\", (width / 2))\n        .attr(\"y\", 0 - (margin.top / 2))\n        .attr(\"text-anchor\", \"middle\")\n        .style(\"font-size\", titleFontSize.toString() + \"px\")\n        .style(\"fill\", \"Silver\")\n        .text(title);\n}\n\nconst edges = [{\"to\":\"1\",\"label\":\"\",\"from\":\"0\",\"weight\":1},{\"to\":\"4\",\"weight\":1,\"label\":\"\",\"from\":\"0\"},{\"from\":\"1\",\"weight\":1,\"to\":\"2\",\"label\":\"\"},{\"from\":\"2\",\"weight\":1,\"to\":\"3\",\"label\":\"\"},{\"weight\":1,\"from\":\"3\",\"to\":\"4\",\"label\":\"\"}];\n\nconst nodes = Array.from(new Set(edges.flatMap(e => [e.from, e.to])), id => ({id}));\n\nconst highlightSpecs = {};\n\nconst links = edges.map(e => ({\n  source: e.from,\n  target: e.to,\n  weight: e.weight,\n  label: e.label,\n}));\n\n//.force(\"link\", d3.forceLink(links).id(d => d.id).distance(d => Math.max(d.weight * 20, 6 * 4)))\nconst simulation = d3.forceSimulation(nodes)\n    .force(\"link\", d3.forceLink(links).id(d => d.id).distance(180).iterations(1))\n    .force(\"charge\", d3.forceManyBody().distanceMin(1).distanceMax(2000))\n    .force(\"x\", d3.forceX())\n    .force(\"y\", d3.forceY())\n    .force(\"collision\", d3.forceCollide().radius(10))\n    .force(\"center\", d3.forceCenter(width / 2, height / 2));\n\nsvg.append('defs').append('marker')\n    .attr(\"id\",'arrowhead')\n    .attr('viewBox','-0 -5 10 10') //the bound of the SVG viewport for the current SVG fragment. defines a coordinate system 10 wide and 10 high starting on (0,-5)\n     .attr('refX', 16) // x coordinate for the reference point of the marker. If circle is bigger, this need to be bigger.\n     .attr('refY',0)\n     .attr('orient','auto')\n        .attr('markerWidth', 5)\n        .attr('markerHeight', 5)\n        .attr('xoverflow','visible')\n    .append('svg:path')\n    .attr('d', 'M 0,-5 L 10 ,0 L 0,5')\n    .attr('fill', \"SteelBlue\")\n    .style('stroke','none');\n\nconst link = svg.append(\"g\")\n    .attr(\"class\", \"links\")\n  .selectAll(\"line\")\n  .data(links)\n  .enter().append(\"line\")\n    .attr(\"class\", \"link\")\n    .attr(\"stroke\", d => {\n        for (const [color, items] of Object.entries(highlightSpecs)) {\n            if (items.some(item => Array.isArray(item) && item[0] === d.source.id && item[1] === d.target.id)) {\n                return color;\n            }\n        }\n        return \"SteelBlue\";\n    })\n    .attr(\"stroke-width\", 3)\n    \n\nconst node = svg.append(\"g\")\n    .attr(\"class\", \"nodes\")\n  .selectAll(\"circle\")\n  .data(nodes)\n  .enter().append(\"circle\")\n    .attr(\"class\", \"node\")\n    .attr(\"r\", 6)\n    .attr(\"stroke\", d => {\n       for (const [color, items] of Object.entries(highlightSpecs)) {\n         if (items.includes(d.id)) {\n            return color;\n         }\n       }\n       return \"SteelBlue\";\n    })\n    .attr(\"fill\", d => {\n       for (const [color, items] of Object.entries(highlightSpecs)) {\n         if (items.includes(d.id)) {\n            return color;\n         }\n       }\n       return \"SteelBlue\";\n    })\n    .call(drag(simulation));\n\nnode.append(\"title\")\n    .text(d => d.id);\n\nconst nodeLabel = svg.append(\"g\")\n    .attr(\"class\", \"node-labels\")\n  .selectAll(\"text\")\n  .data(nodes)\n  .enter().append(\"text\")\n    .attr(\"class\", \"node-label\")\n    .style(\"font-size\", 13)\n    .attr(\"font-family\", \"Courier New\")\n    .attr(\"font-weight\", 100)\n    .attr(\"dy\", -10)\n    .attr('fill', \"Silver\")\n    .attr('stroke', \"Silver\")\n    .text(d => d.id);\n\nconst linkLabel = svg.append(\"g\")\n    .attr(\"class\", \"link-labels\")\n  .selectAll(\"text\")\n  .data(links)\n  .enter().append(\"text\")\n    .filter(d => d.label !== \"\")\n    .attr(\"class\", \"link-label\")\n    .style(\"font-size\", 13)\n    .attr(\"font-family\", \"Courier\")\n    .attr('fill', \"Silver\")\n    .attr('stroke', \"Silver\")\n    .text(d => d.label);\n\nsimulation.on(\"tick\", () => {\n  link\n      .attr(\"x1\", d => d.source.x)\n      .attr(\"y1\", d => d.source.y)\n      .attr(\"x2\", d => d.target.x)\n      .attr(\"y2\", d => d.target.y);\n\n  node\n      .attr(\"cx\", d => d.x)\n      .attr(\"cy\", d => d.y);\n\n  nodeLabel\n      .attr(\"x\", d => d.x)\n      .attr(\"y\", d => d.y);\n\n  linkLabel\n      .attr(\"x\", d => (d.source.x + d.target.x) / 2)\n      .attr(\"y\", d => (d.source.y + d.target.y) / 2);\n});\n\nfunction drag(simulation) {\n  function dragstarted(event, d) {\n    if (!event.active) simulation.alphaTarget(0.3).restart();\n    d.fx = d.x;\n    d.fy = d.y;\n  }\n\n  function dragged(event, d) {\n    d.fx = event.x;\n    d.fy = event.y;\n  }\n\n  function dragended(event, d) {\n    if (!event.active) simulation.alphaTarget(0);\n    d.fx = null;\n    d.fy = null;\n  }\n\n  return d3.drag()\n      .on(\"start\", dragstarted)\n      .on(\"drag\", dragged)\n      .on(\"end\", dragended);\n}\n\n}) })(element);\n\n(function(element) { require(['d3'], function(d3) {\n\n// set the dimensions and margins of the graph\nvar margin = {\"top\":40,\"right\":40,\"left\":40,\"bottom\":40},\n    width = 400 - margin.left - margin.right,\n    height = 247 - margin.top - margin.bottom;\n\n// append the svg object to the body of the page\nvar svg = d3\n   .select(element.get(0))\n  .append(\"svg\")\n    .attr(\"width\", width + margin.left + margin.right)\n    .attr(\"height\", height + margin.top + margin.bottom)\n    .style(\"background\", \"#1F1F1F\")\n  .append(\"g\")\n    .attr(\"transform\",\n          \"translate(\" + margin.left + \",\" + margin.top + \")\")\n\n// Obtain title\nvar title = \"\"\nvar titleFontSize = 16\n\nif ( title.length > 0 ) {\n    svg.append(\"text\")\n        .attr(\"x\", (width / 2))\n        .attr(\"y\", 0 - (margin.top / 2))\n        .attr(\"text-anchor\", \"middle\")\n        .style(\"font-size\", titleFontSize.toString() + \"px\")\n        .style(\"fill\", \"Silver\")\n        .text(title);\n}\n\nconst edges = [{\"from\":\"0\",\"weight\":1,\"to\":\"1\",\"label\":\"\"},{\"to\":\"4\",\"label\":\"\",\"weight\":1,\"from\":\"0\"},{\"weight\":1,\"from\":\"3\",\"to\":\"4\",\"label\":\"\"}];\n\nconst nodes = Array.from(new Set(edges.flatMap(e => [e.from, e.to])), id => ({id}));\n\nconst highlightSpecs = {};\n\nconst links = edges.map(e => ({\n  source: e.from,\n  target: e.to,\n  weight: e.weight,\n  label: e.label,\n}));\n\n//.force(\"link\", d3.forceLink(links).id(d => d.id).distance(d => Math.max(d.weight * 20, 6 * 4)))\nconst simulation = d3.forceSimulation(nodes)\n    .force(\"link\", d3.forceLink(links).id(d => d.id).distance(180).iterations(1))\n    .force(\"charge\", d3.forceManyBody().distanceMin(1).distanceMax(2000))\n    .force(\"x\", d3.forceX())\n    .force(\"y\", d3.forceY())\n    .force(\"collision\", d3.forceCollide().radius(10))\n    .force(\"center\", d3.forceCenter(width / 2, height / 2));\n\nsvg.append('defs').append('marker')\n    .attr(\"id\",'arrowhead')\n    .attr('viewBox','-0 -5 10 10') //the bound of the SVG viewport for the current SVG fragment. defines a coordinate system 10 wide and 10 high starting on (0,-5)\n     .attr('refX', 16) // x coordinate for the reference point of the marker. If circle is bigger, this need to be bigger.\n     .attr('refY',0)\n     .attr('orient','auto')\n        .attr('markerWidth', 5)\n        .attr('markerHeight', 5)\n        .attr('xoverflow','visible')\n    .append('svg:path')\n    .attr('d', 'M 0,-5 L 10 ,0 L 0,5')\n    .attr('fill', \"SteelBlue\")\n    .style('stroke','none');\n\nconst link = svg.append(\"g\")\n    .attr(\"class\", \"links\")\n  .selectAll(\"line\")\n  .data(links)\n  .enter().append(\"line\")\n    .attr(\"class\", \"link\")\n    .attr(\"stroke\", d => {\n        for (const [color, items] of Object.entries(highlightSpecs)) {\n            if (items.some(item => Array.isArray(item) && item[0] === d.source.id && item[1] === d.target.id)) {\n                return color;\n            }\n        }\n        return \"SteelBlue\";\n    })\n    .attr(\"stroke-width\", 3)\n    \n\nconst node = svg.append(\"g\")\n    .attr(\"class\", \"nodes\")\n  .selectAll(\"circle\")\n  .data(nodes)\n  .enter().append(\"circle\")\n    .attr(\"class\", \"node\")\n    .attr(\"r\", 6)\n    .attr(\"stroke\", d => {\n       for (const [color, items] of Object.entries(highlightSpecs)) {\n         if (items.includes(d.id)) {\n            return color;\n         }\n       }\n       return \"SteelBlue\";\n    })\n    .attr(\"fill\", d => {\n       for (const [color, items] of Object.entries(highlightSpecs)) {\n         if (items.includes(d.id)) {\n            return color;\n         }\n       }\n       return \"SteelBlue\";\n    })\n    .call(drag(simulation));\n\nnode.append(\"title\")\n    .text(d => d.id);\n\nconst nodeLabel = svg.append(\"g\")\n    .attr(\"class\", \"node-labels\")\n  .selectAll(\"text\")\n  .data(nodes)\n  .enter().append(\"text\")\n    .attr(\"class\", \"node-label\")\n    .style(\"font-size\", 13)\n    .attr(\"font-family\", \"Courier New\")\n    .attr(\"font-weight\", 100)\n    .attr(\"dy\", -10)\n    .attr('fill', \"Silver\")\n    .attr('stroke', \"Silver\")\n    .text(d => d.id);\n\nconst linkLabel = svg.append(\"g\")\n    .attr(\"class\", \"link-labels\")\n  .selectAll(\"text\")\n  .data(links)\n  .enter().append(\"text\")\n    .filter(d => d.label !== \"\")\n    .attr(\"class\", \"link-label\")\n    .style(\"font-size\", 13)\n    .attr(\"font-family\", \"Courier\")\n    .attr('fill', \"Silver\")\n    .attr('stroke', \"Silver\")\n    .text(d => d.label);\n\nsimulation.on(\"tick\", () => {\n  link\n      .attr(\"x1\", d => d.source.x)\n      .attr(\"y1\", d => d.source.y)\n      .attr(\"x2\", d => d.target.x)\n      .attr(\"y2\", d => d.target.y);\n\n  node\n      .attr(\"cx\", d => d.x)\n      .attr(\"cy\", d => d.y);\n\n  nodeLabel\n      .attr(\"x\", d => d.x)\n      .attr(\"y\", d => d.y);\n\n  linkLabel\n      .attr(\"x\", d => (d.source.x + d.target.x) / 2)\n      .attr(\"y\", d => (d.source.y + d.target.y) / 2);\n});\n\nfunction drag(simulation) {\n  function dragstarted(event, d) {\n    if (!event.active) simulation.alphaTarget(0.3).restart();\n    d.fx = d.x;\n    d.fy = d.y;\n  }\n\n  function dragged(event, d) {\n    d.fx = event.x;\n    d.fy = event.y;\n  }\n\n  function dragended(event, d) {\n    if (!event.active) simulation.alphaTarget(0);\n    d.fx = null;\n    d.fy = null;\n  }\n\n  return d3.drag()\n      .on(\"start\", dragstarted)\n      .on(\"drag\", dragged)\n      .on(\"end\", dragended);\n}\n\n}) })(element);\n"
     },
     "execution_count": 12,
     "metadata": {},
     "output_type": "execute_result"
    }
   ],
   "source": [
    "#% js\n",
    "my $g1 = Graph::Cycle.new(5);\n",
    "my $g2 = $g1.clone.edge-delete([ '1' => '2', '2' => '3' ]);\n",
    "\n",
    "[$g1, $g2].map({\n",
    "    js-d3-graph-plot($_.edges,\n",
    "    directed => $_.directed,\n",
    "    :$background, :$title-color, :$edge-thickness, :$vertex-size,\n",
    "    :%force\n",
    "    )\n",
    "}).join(\"\\n\")"
   ]
  },
  {
   "cell_type": "code",
   "execution_count": 13,
   "metadata": {},
   "outputs": [
    {
     "data": {
      "text/plain": [
       "(0 1 2 3 4)"
      ]
     },
     "execution_count": 13,
     "metadata": {},
     "output_type": "execute_result"
    }
   ],
   "source": [
    "$g2.vertex-list"
   ]
  },
  {
   "cell_type": "markdown",
   "metadata": {},
   "source": [
    "-----\n",
    "\n",
    "## Union"
   ]
  },
  {
   "cell_type": "code",
   "execution_count": 14,
   "metadata": {},
   "outputs": [
    {
     "data": {
      "text/plain": [
       "Graph(vertexes => 6, edges => 5, directed => False)"
      ]
     },
     "execution_count": 14,
     "metadata": {},
     "output_type": "execute_result"
    }
   ],
   "source": [
    "my $g = Graph.new([%('from'=>'1','to'=>'2','weight'=>1),%('from'=>'1','to'=>'6','weight'=>1),%('from'=>'2','to'=>'3','weight'=>1),%('from'=>'3','to'=>'4','weight'=>1),%('from'=>'4','to'=>'5','weight'=>1),%('from'=>'5','to'=>'6','weight'=>1)]);\n",
    "\n",
    "my $h = Graph.new([%('from'=>'1','to'=>'2','weight'=>1),%('from'=>'1','to'=>'3','weight'=>1),%('from'=>'1','to'=>'4','weight'=>1),%('from'=>'1','to'=>'5','weight'=>1),%('from'=>'1','to'=>'6','weight'=>1)]);\n"
   ]
  },
  {
   "cell_type": "code",
   "execution_count": 15,
   "metadata": {},
   "outputs": [
    {
     "data": {
      "text/plain": [
       "[1 => 2 1 => 6 2 => 3 3 => 4 4 => 5 5 => 6]"
      ]
     },
     "execution_count": 15,
     "metadata": {},
     "output_type": "execute_result"
    }
   ],
   "source": [
    "$g.edge-list"
   ]
  },
  {
   "cell_type": "code",
   "execution_count": 16,
   "metadata": {},
   "outputs": [
    {
     "data": {
      "text/plain": [
       "[1 => 2 1 => 3 1 => 4 1 => 5 1 => 6]"
      ]
     },
     "execution_count": 16,
     "metadata": {},
     "output_type": "execute_result"
    }
   ],
   "source": [
    "$h.edge-list"
   ]
  },
  {
   "cell_type": "code",
   "execution_count": 17,
   "metadata": {},
   "outputs": [
    {
     "data": {
      "text/html": [
       "(<?xml version=\"1.0\" encoding=\"UTF-8\" standalone=\"no\"?>\n",
       "<!DOCTYPE svg PUBLIC \"-//W3C//DTD SVG 1.1//EN\"\n",
       " \"http://www.w3.org/Graphics/SVG/1.1/DTD/svg11.dtd\">\n",
       "<!-- Generated by graphviz version 11.0.0 (20240428.1522)\n",
       " -->\n",
       "<!-- Pages: 1 -->\n",
       "<svg width=\"173pt\" height=\"217pt\"\n",
       " viewBox=\"0.00 0.00 172.90 216.93\" xmlns=\"http://www.w3.org/2000/svg\" xmlns:xlink=\"http://www.w3.org/1999/xlink\">\n",
       "<g id=\"graph0\" class=\"graph\" transform=\"scale(1 1) rotate(0) translate(4 212.93)\">\n",
       "<polygon fill=\"#1f1f1f\" stroke=\"none\" points=\"-4,4 -4,-212.93 168.9,-212.93 168.9,4 -4,4\"/>\n",
       "<text text-anchor=\"middle\" x=\"82.45\" y=\"-189.73\" font-family=\"Times,serif\" font-size=\"16.00\" fill=\"White\">g</text>\n",
       "<!-- 1 -->\n",
       "<g id=\"node1\" class=\"node\">\n",
       "<title>1</title>\n",
       "<ellipse fill=\"SteelBlue\" stroke=\"Black\" cx=\"10.8\" cy=\"-55.22\" rx=\"10.8\" ry=\"10.8\"/>\n",
       "<text text-anchor=\"middle\" x=\"10.8\" y=\"-50.94\" font-family=\"Times,serif\" font-size=\"12.00\" fill=\"White\">1</text>\n",
       "</g>\n",
       "<!-- 2 -->\n",
       "<g id=\"node2\" class=\"node\">\n",
       "<title>2</title>\n",
       "<ellipse fill=\"SteelBlue\" stroke=\"Black\" cx=\"77.69\" cy=\"-10.8\" rx=\"10.8\" ry=\"10.8\"/>\n",
       "<text text-anchor=\"middle\" x=\"77.69\" y=\"-6.52\" font-family=\"Times,serif\" font-size=\"12.00\" fill=\"White\">2</text>\n",
       "</g>\n",
       "<!-- 1&#45;&#45;2 -->\n",
       "<g id=\"edge6\" class=\"edge\">\n",
       "<title>1&#45;&#45;2</title>\n",
       "<path fill=\"none\" stroke=\"SteelBlue\" stroke-width=\"2\" d=\"M20.1,-49.04C32.88,-40.55 55.73,-25.38 68.47,-16.92\"/>\n",
       "</g>\n",
       "<!-- 6 -->\n",
       "<g id=\"node6\" class=\"node\">\n",
       "<title>6</title>\n",
       "<ellipse fill=\"SteelBlue\" stroke=\"Black\" cx=\"15.5\" cy=\"-135.38\" rx=\"10.8\" ry=\"10.8\"/>\n",
       "<text text-anchor=\"middle\" x=\"15.5\" y=\"-131.1\" font-family=\"Times,serif\" font-size=\"12.00\" fill=\"White\">6</text>\n",
       "</g>\n",
       "<!-- 1&#45;&#45;6 -->\n",
       "<g id=\"edge4\" class=\"edge\">\n",
       "<title>1&#45;&#45;6</title>\n",
       "<path fill=\"none\" stroke=\"SteelBlue\" stroke-width=\"2\" d=\"M11.45,-66.36C12.35,-81.68 13.95,-109.06 14.85,-124.33\"/>\n",
       "</g>\n",
       "<!-- 3 -->\n",
       "<g id=\"node3\" class=\"node\">\n",
       "<title>3</title>\n",
       "<ellipse fill=\"SteelBlue\" stroke=\"Black\" cx=\"149.49\" cy=\"-46.72\" rx=\"10.8\" ry=\"10.8\"/>\n",
       "<text text-anchor=\"middle\" x=\"149.49\" y=\"-42.44\" font-family=\"Times,serif\" font-size=\"12.00\" fill=\"White\">3</text>\n",
       "</g>\n",
       "<!-- 2&#45;&#45;3 -->\n",
       "<g id=\"edge2\" class=\"edge\">\n",
       "<title>2&#45;&#45;3</title>\n",
       "<path fill=\"none\" stroke=\"SteelBlue\" stroke-width=\"2\" d=\"M87.68,-15.79C101.39,-22.66 125.92,-34.93 139.59,-41.77\"/>\n",
       "</g>\n",
       "<!-- 4 -->\n",
       "<g id=\"node4\" class=\"node\">\n",
       "<title>4</title>\n",
       "<ellipse fill=\"SteelBlue\" stroke=\"Black\" cx=\"154.1\" cy=\"-126.88\" rx=\"10.8\" ry=\"10.8\"/>\n",
       "<text text-anchor=\"middle\" x=\"154.1\" y=\"-122.61\" font-family=\"Times,serif\" font-size=\"12.00\" fill=\"White\">4</text>\n",
       "</g>\n",
       "<!-- 3&#45;&#45;4 -->\n",
       "<g id=\"edge1\" class=\"edge\">\n",
       "<title>3&#45;&#45;4</title>\n",
       "<path fill=\"none\" stroke=\"SteelBlue\" stroke-width=\"2\" d=\"M150.13,-57.86C151.01,-73.18 152.59,-100.57 153.46,-115.83\"/>\n",
       "</g>\n",
       "<!-- 5 -->\n",
       "<g id=\"node5\" class=\"node\">\n",
       "<title>5</title>\n",
       "<ellipse fill=\"SteelBlue\" stroke=\"Black\" cx=\"87.26\" cy=\"-171.38\" rx=\"10.8\" ry=\"10.8\"/>\n",
       "<text text-anchor=\"middle\" x=\"87.26\" y=\"-167.1\" font-family=\"Times,serif\" font-size=\"12.00\" fill=\"White\">5</text>\n",
       "</g>\n",
       "<!-- 4&#45;&#45;5 -->\n",
       "<g id=\"edge5\" class=\"edge\">\n",
       "<title>4&#45;&#45;5</title>\n",
       "<path fill=\"none\" stroke=\"SteelBlue\" stroke-width=\"2\" d=\"M144.8,-133.07C132.03,-141.57 109.2,-156.77 96.47,-165.24\"/>\n",
       "</g>\n",
       "<!-- 5&#45;&#45;6 -->\n",
       "<g id=\"edge3\" class=\"edge\">\n",
       "<title>5&#45;&#45;6</title>\n",
       "<path fill=\"none\" stroke=\"SteelBlue\" stroke-width=\"2\" d=\"M77.28,-166.37C63.57,-159.49 39.05,-147.2 25.39,-140.34\"/>\n",
       "</g>\n",
       "</g>\n",
       "</svg>\n",
       " <?xml version=\"1.0\" encoding=\"UTF-8\" standalone=\"no\"?>\n",
       "<!DOCTYPE svg PUBLIC \"-//W3C//DTD SVG 1.1//EN\"\n",
       " \"http://www.w3.org/Graphics/SVG/1.1/DTD/svg11.dtd\">\n",
       "<!-- Generated by graphviz version 11.0.0 (20240428.1522)\n",
       " -->\n",
       "<!-- Pages: 1 -->\n",
       "<svg width=\"184pt\" height=\"206pt\"\n",
       " viewBox=\"0.00 0.00 183.73 205.91\" xmlns=\"http://www.w3.org/2000/svg\" xmlns:xlink=\"http://www.w3.org/1999/xlink\">\n",
       "<g id=\"graph0\" class=\"graph\" transform=\"scale(1 1) rotate(0) translate(4 201.91)\">\n",
       "<polygon fill=\"#1f1f1f\" stroke=\"none\" points=\"-4,4 -4,-201.91 179.73,-201.91 179.73,4 -4,4\"/>\n",
       "<text text-anchor=\"middle\" x=\"87.86\" y=\"-178.71\" font-family=\"Times,serif\" font-size=\"16.00\" fill=\"White\">h</text>\n",
       "<!-- 1 -->\n",
       "<g id=\"node1\" class=\"node\">\n",
       "<title>1</title>\n",
       "<ellipse fill=\"SteelBlue\" stroke=\"Black\" cx=\"89.14\" cy=\"-79.18\" rx=\"10.8\" ry=\"10.8\"/>\n",
       "<text text-anchor=\"middle\" x=\"89.14\" y=\"-74.9\" font-family=\"Times,serif\" font-size=\"12.00\" fill=\"White\">1</text>\n",
       "</g>\n",
       "<!-- 2 -->\n",
       "<g id=\"node2\" class=\"node\">\n",
       "<title>2</title>\n",
       "<ellipse fill=\"SteelBlue\" stroke=\"Black\" cx=\"141\" cy=\"-16.63\" rx=\"10.8\" ry=\"10.8\"/>\n",
       "<text text-anchor=\"middle\" x=\"141\" y=\"-12.36\" font-family=\"Times,serif\" font-size=\"12.00\" fill=\"White\">2</text>\n",
       "</g>\n",
       "<!-- 1&#45;&#45;2 -->\n",
       "<g id=\"edge4\" class=\"edge\">\n",
       "<title>1&#45;&#45;2</title>\n",
       "<path fill=\"none\" stroke=\"SteelBlue\" stroke-width=\"2\" d=\"M96.35,-70.48C106.26,-58.53 123.98,-37.17 133.85,-25.26\"/>\n",
       "</g>\n",
       "<!-- 3 -->\n",
       "<g id=\"node3\" class=\"node\">\n",
       "<title>3</title>\n",
       "<ellipse fill=\"SteelBlue\" stroke=\"Black\" cx=\"45.38\" cy=\"-10.8\" rx=\"10.8\" ry=\"10.8\"/>\n",
       "<text text-anchor=\"middle\" x=\"45.38\" y=\"-6.52\" font-family=\"Times,serif\" font-size=\"12.00\" fill=\"White\">3</text>\n",
       "</g>\n",
       "<!-- 1&#45;&#45;3 -->\n",
       "<g id=\"edge5\" class=\"edge\">\n",
       "<title>1&#45;&#45;3</title>\n",
       "<path fill=\"none\" stroke=\"SteelBlue\" stroke-width=\"2\" d=\"M83.06,-69.67C74.7,-56.61 59.75,-33.25 51.42,-20.23\"/>\n",
       "</g>\n",
       "<!-- 4 -->\n",
       "<g id=\"node4\" class=\"node\">\n",
       "<title>4</title>\n",
       "<ellipse fill=\"SteelBlue\" stroke=\"Black\" cx=\"10.8\" cy=\"-100.52\" rx=\"10.8\" ry=\"10.8\"/>\n",
       "<text text-anchor=\"middle\" x=\"10.8\" y=\"-96.25\" font-family=\"Times,serif\" font-size=\"12.00\" fill=\"White\">4</text>\n",
       "</g>\n",
       "<!-- 1&#45;&#45;4 -->\n",
       "<g id=\"edge3\" class=\"edge\">\n",
       "<title>1&#45;&#45;4</title>\n",
       "<path fill=\"none\" stroke=\"SteelBlue\" stroke-width=\"2\" d=\"M78.25,-82.15C63.28,-86.22 36.52,-93.52 21.6,-97.58\"/>\n",
       "</g>\n",
       "<!-- 5 -->\n",
       "<g id=\"node5\" class=\"node\">\n",
       "<title>5</title>\n",
       "<ellipse fill=\"SteelBlue\" stroke=\"Black\" cx=\"164.93\" cy=\"-108.64\" rx=\"10.8\" ry=\"10.8\"/>\n",
       "<text text-anchor=\"middle\" x=\"164.93\" y=\"-104.36\" font-family=\"Times,serif\" font-size=\"12.00\" fill=\"White\">5</text>\n",
       "</g>\n",
       "<!-- 1&#45;&#45;5 -->\n",
       "<g id=\"edge2\" class=\"edge\">\n",
       "<title>1&#45;&#45;5</title>\n",
       "<path fill=\"none\" stroke=\"SteelBlue\" stroke-width=\"2\" d=\"M99.36,-83.15C113.91,-88.81 140.41,-99.11 154.87,-104.73\"/>\n",
       "</g>\n",
       "<!-- 6 -->\n",
       "<g id=\"node6\" class=\"node\">\n",
       "<title>6</title>\n",
       "<ellipse fill=\"SteelBlue\" stroke=\"Black\" cx=\"85.31\" cy=\"-160.36\" rx=\"10.8\" ry=\"10.8\"/>\n",
       "<text text-anchor=\"middle\" x=\"85.31\" y=\"-156.09\" font-family=\"Times,serif\" font-size=\"12.00\" fill=\"White\">6</text>\n",
       "</g>\n",
       "<!-- 1&#45;&#45;6 -->\n",
       "<g id=\"edge1\" class=\"edge\">\n",
       "<title>1&#45;&#45;6</title>\n",
       "<path fill=\"none\" stroke=\"SteelBlue\" stroke-width=\"2\" d=\"M88.62,-90.13C87.89,-105.62 86.56,-133.79 85.83,-149.33\"/>\n",
       "</g>\n",
       "</g>\n",
       "</svg>\n",
       ")"
      ]
     },
     "execution_count": 17,
     "metadata": {},
     "output_type": "execute_result"
    }
   ],
   "source": [
    "#% html\n",
    "$g.dot(:$background, :$engine, label => 'g'):svg , $h.dot(:$background, :$engine, label => 'h'):svg"
   ]
  },
  {
   "cell_type": "code",
   "execution_count": 18,
   "metadata": {},
   "outputs": [
    {
     "data": {
      "text/html": [
       "<?xml version=\"1.0\" encoding=\"UTF-8\" standalone=\"no\"?>\n",
       "<!DOCTYPE svg PUBLIC \"-//W3C//DTD SVG 1.1//EN\"\n",
       " \"http://www.w3.org/Graphics/SVG/1.1/DTD/svg11.dtd\">\n",
       "<!-- Generated by graphviz version 11.0.0 (20240428.1522)\n",
       " -->\n",
       "<!-- Pages: 1 -->\n",
       "<svg width=\"267pt\" height=\"177pt\"\n",
       " viewBox=\"0.00 0.00 266.92 176.96\" xmlns=\"http://www.w3.org/2000/svg\" xmlns:xlink=\"http://www.w3.org/1999/xlink\">\n",
       "<g id=\"graph0\" class=\"graph\" transform=\"scale(1 1) rotate(0) translate(4 172.96)\">\n",
       "<polygon fill=\"#1f1f1f\" stroke=\"none\" points=\"-4,4 -4,-172.96 262.92,-172.96 262.92,4 -4,4\"/>\n",
       "<!-- 1 -->\n",
       "<g id=\"node1\" class=\"node\">\n",
       "<title>1</title>\n",
       "<ellipse fill=\"SteelBlue\" stroke=\"Black\" cx=\"129.41\" cy=\"-55.37\" rx=\"10.8\" ry=\"10.8\"/>\n",
       "<text text-anchor=\"middle\" x=\"129.41\" y=\"-51.1\" font-family=\"Times,serif\" font-size=\"12.00\" fill=\"White\">1</text>\n",
       "</g>\n",
       "<!-- 2 -->\n",
       "<g id=\"node2\" class=\"node\">\n",
       "<title>2</title>\n",
       "<ellipse fill=\"SteelBlue\" stroke=\"Black\" cx=\"248.12\" cy=\"-10.87\" rx=\"10.8\" ry=\"10.8\"/>\n",
       "<text text-anchor=\"middle\" x=\"248.12\" y=\"-6.6\" font-family=\"Times,serif\" font-size=\"12.00\" fill=\"White\">2</text>\n",
       "</g>\n",
       "<!-- 1&#45;&#45;2 -->\n",
       "<g id=\"edge1\" class=\"edge\">\n",
       "<title>1&#45;&#45;2</title>\n",
       "<path fill=\"none\" stroke=\"SteelBlue\" stroke-width=\"2\" d=\"M139.95,-51.42C162.53,-42.96 215.37,-23.15 237.78,-14.75\"/>\n",
       "</g>\n",
       "<!-- 3 -->\n",
       "<g id=\"node3\" class=\"node\">\n",
       "<title>3</title>\n",
       "<ellipse fill=\"SteelBlue\" stroke=\"Black\" cx=\"225.54\" cy=\"-106.9\" rx=\"10.8\" ry=\"10.8\"/>\n",
       "<text text-anchor=\"middle\" x=\"225.54\" y=\"-102.62\" font-family=\"Times,serif\" font-size=\"12.00\" fill=\"White\">3</text>\n",
       "</g>\n",
       "<!-- 1&#45;&#45;3 -->\n",
       "<g id=\"edge5\" class=\"edge\">\n",
       "<title>1&#45;&#45;3</title>\n",
       "<path fill=\"none\" stroke=\"SteelBlue\" stroke-width=\"2\" d=\"M139.34,-60.69C157.85,-70.62 197.44,-91.84 215.81,-101.68\"/>\n",
       "</g>\n",
       "<!-- 4 -->\n",
       "<g id=\"node4\" class=\"node\">\n",
       "<title>4</title>\n",
       "<ellipse fill=\"SteelBlue\" stroke=\"Black\" cx=\"129.34\" cy=\"-158.16\" rx=\"10.8\" ry=\"10.8\"/>\n",
       "<text text-anchor=\"middle\" x=\"129.34\" y=\"-153.88\" font-family=\"Times,serif\" font-size=\"12.00\" fill=\"White\">4</text>\n",
       "</g>\n",
       "<!-- 1&#45;&#45;4 -->\n",
       "<g id=\"edge6\" class=\"edge\">\n",
       "<title>1&#45;&#45;4</title>\n",
       "<path fill=\"none\" stroke=\"SteelBlue\" stroke-width=\"2\" d=\"M129.41,-66.37C129.39,-86.05 129.36,-127.08 129.34,-146.93\"/>\n",
       "</g>\n",
       "<!-- 5 -->\n",
       "<g id=\"node5\" class=\"node\">\n",
       "<title>5</title>\n",
       "<ellipse fill=\"SteelBlue\" stroke=\"Black\" cx=\"33.24\" cy=\"-106.84\" rx=\"10.8\" ry=\"10.8\"/>\n",
       "<text text-anchor=\"middle\" x=\"33.24\" y=\"-102.57\" font-family=\"Times,serif\" font-size=\"12.00\" fill=\"White\">5</text>\n",
       "</g>\n",
       "<!-- 1&#45;&#45;5 -->\n",
       "<g id=\"edge3\" class=\"edge\">\n",
       "<title>1&#45;&#45;5</title>\n",
       "<path fill=\"none\" stroke=\"SteelBlue\" stroke-width=\"2\" d=\"M119.48,-60.69C100.96,-70.6 61.35,-91.8 42.97,-101.64\"/>\n",
       "</g>\n",
       "<!-- 6 -->\n",
       "<g id=\"node6\" class=\"node\">\n",
       "<title>6</title>\n",
       "<ellipse fill=\"SteelBlue\" stroke=\"Black\" cx=\"10.8\" cy=\"-10.8\" rx=\"10.8\" ry=\"10.8\"/>\n",
       "<text text-anchor=\"middle\" x=\"10.8\" y=\"-6.53\" font-family=\"Times,serif\" font-size=\"12.00\" fill=\"White\">6</text>\n",
       "</g>\n",
       "<!-- 1&#45;&#45;6 -->\n",
       "<g id=\"edge4\" class=\"edge\">\n",
       "<title>1&#45;&#45;6</title>\n",
       "<path fill=\"none\" stroke=\"SteelBlue\" stroke-width=\"2\" d=\"M118.89,-51.42C96.32,-42.94 43.53,-23.1 21.13,-14.68\"/>\n",
       "</g>\n",
       "<!-- 2&#45;&#45;3 -->\n",
       "<g id=\"edge2\" class=\"edge\">\n",
       "<title>2&#45;&#45;3</title>\n",
       "<path fill=\"none\" stroke=\"SteelBlue\" stroke-width=\"2\" d=\"M245.61,-21.52C241.3,-39.88 232.49,-77.32 228.12,-95.91\"/>\n",
       "</g>\n",
       "<!-- 3&#45;&#45;4 -->\n",
       "<g id=\"edge9\" class=\"edge\">\n",
       "<title>3&#45;&#45;4</title>\n",
       "<path fill=\"none\" stroke=\"SteelBlue\" stroke-width=\"2\" d=\"M215.6,-112.19C197.07,-122.06 157.45,-143.18 139.07,-152.97\"/>\n",
       "</g>\n",
       "<!-- 4&#45;&#45;5 -->\n",
       "<g id=\"edge7\" class=\"edge\">\n",
       "<title>4&#45;&#45;5</title>\n",
       "<path fill=\"none\" stroke=\"SteelBlue\" stroke-width=\"2\" d=\"M119.41,-152.86C100.9,-142.98 61.33,-121.84 42.97,-112.04\"/>\n",
       "</g>\n",
       "<!-- 5&#45;&#45;6 -->\n",
       "<g id=\"edge8\" class=\"edge\">\n",
       "<title>5&#45;&#45;6</title>\n",
       "<path fill=\"none\" stroke=\"SteelBlue\" stroke-width=\"2\" d=\"M30.75,-96.2C26.46,-77.84 17.71,-40.39 13.37,-21.79\"/>\n",
       "</g>\n",
       "</g>\n",
       "</svg>\n"
      ]
     },
     "execution_count": 18,
     "metadata": {},
     "output_type": "execute_result"
    }
   ],
   "source": [
    "#% html\n",
    "my $u = $g.union($h);\n",
    "$u.dot(:$background, engine => 'sfdp'):svg"
   ]
  },
  {
   "cell_type": "code",
   "execution_count": 20,
   "metadata": {},
   "outputs": [
    {
     "data": {
      "text/html": [
       "<?xml version=\"1.0\" encoding=\"UTF-8\" standalone=\"no\"?>\n",
       "<!DOCTYPE svg PUBLIC \"-//W3C//DTD SVG 1.1//EN\"\n",
       " \"http://www.w3.org/Graphics/SVG/1.1/DTD/svg11.dtd\">\n",
       "<!-- Generated by graphviz version 11.0.0 (20240428.1522)\n",
       " -->\n",
       "<!-- Pages: 1 -->\n",
       "<svg width=\"267pt\" height=\"177pt\"\n",
       " viewBox=\"0.00 0.00 266.92 176.96\" xmlns=\"http://www.w3.org/2000/svg\" xmlns:xlink=\"http://www.w3.org/1999/xlink\">\n",
       "<g id=\"graph0\" class=\"graph\" transform=\"scale(1 1) rotate(0) translate(4 172.96)\">\n",
       "<polygon fill=\"#1f1f1f\" stroke=\"none\" points=\"-4,4 -4,-172.96 262.92,-172.96 262.92,4 -4,4\"/>\n",
       "<!-- 10 -->\n",
       "<g id=\"node1\" class=\"node\">\n",
       "<title>10</title>\n",
       "<ellipse fill=\"SteelBlue\" stroke=\"Black\" cx=\"129.41\" cy=\"-55.37\" rx=\"10.8\" ry=\"10.8\"/>\n",
       "<text text-anchor=\"middle\" x=\"129.41\" y=\"-51.1\" font-family=\"Times,serif\" font-size=\"12.00\" fill=\"White\">10</text>\n",
       "</g>\n",
       "<!-- 11 -->\n",
       "<g id=\"node2\" class=\"node\">\n",
       "<title>11</title>\n",
       "<ellipse fill=\"SteelBlue\" stroke=\"Black\" cx=\"248.12\" cy=\"-10.87\" rx=\"10.8\" ry=\"10.8\"/>\n",
       "<text text-anchor=\"middle\" x=\"248.12\" y=\"-6.6\" font-family=\"Times,serif\" font-size=\"12.00\" fill=\"White\">11</text>\n",
       "</g>\n",
       "<!-- 10&#45;&#45;11 -->\n",
       "<g id=\"edge5\" class=\"edge\">\n",
       "<title>10&#45;&#45;11</title>\n",
       "<path fill=\"none\" stroke=\"SteelBlue\" stroke-width=\"2\" d=\"M139.95,-51.42C162.53,-42.96 215.37,-23.15 237.78,-14.75\"/>\n",
       "</g>\n",
       "<!-- 12 -->\n",
       "<g id=\"node3\" class=\"node\">\n",
       "<title>12</title>\n",
       "<ellipse fill=\"SteelBlue\" stroke=\"Black\" cx=\"225.54\" cy=\"-106.9\" rx=\"10.8\" ry=\"10.8\"/>\n",
       "<text text-anchor=\"middle\" x=\"225.54\" y=\"-102.62\" font-family=\"Times,serif\" font-size=\"12.00\" fill=\"White\">12</text>\n",
       "</g>\n",
       "<!-- 10&#45;&#45;12 -->\n",
       "<g id=\"edge3\" class=\"edge\">\n",
       "<title>10&#45;&#45;12</title>\n",
       "<path fill=\"none\" stroke=\"SteelBlue\" stroke-width=\"2\" d=\"M139.34,-60.69C157.85,-70.62 197.44,-91.84 215.81,-101.68\"/>\n",
       "</g>\n",
       "<!-- 13 -->\n",
       "<g id=\"node4\" class=\"node\">\n",
       "<title>13</title>\n",
       "<ellipse fill=\"SteelBlue\" stroke=\"Black\" cx=\"129.34\" cy=\"-158.16\" rx=\"10.8\" ry=\"10.8\"/>\n",
       "<text text-anchor=\"middle\" x=\"129.34\" y=\"-153.88\" font-family=\"Times,serif\" font-size=\"12.00\" fill=\"White\">13</text>\n",
       "</g>\n",
       "<!-- 10&#45;&#45;13 -->\n",
       "<g id=\"edge6\" class=\"edge\">\n",
       "<title>10&#45;&#45;13</title>\n",
       "<path fill=\"none\" stroke=\"SteelBlue\" stroke-width=\"2\" d=\"M129.41,-66.37C129.39,-86.05 129.36,-127.08 129.34,-146.93\"/>\n",
       "</g>\n",
       "<!-- 14 -->\n",
       "<g id=\"node5\" class=\"node\">\n",
       "<title>14</title>\n",
       "<ellipse fill=\"SteelBlue\" stroke=\"Black\" cx=\"33.24\" cy=\"-106.84\" rx=\"10.8\" ry=\"10.8\"/>\n",
       "<text text-anchor=\"middle\" x=\"33.24\" y=\"-102.57\" font-family=\"Times,serif\" font-size=\"12.00\" fill=\"White\">14</text>\n",
       "</g>\n",
       "<!-- 10&#45;&#45;14 -->\n",
       "<g id=\"edge4\" class=\"edge\">\n",
       "<title>10&#45;&#45;14</title>\n",
       "<path fill=\"none\" stroke=\"SteelBlue\" stroke-width=\"2\" d=\"M119.48,-60.69C100.96,-70.6 61.35,-91.8 42.97,-101.64\"/>\n",
       "</g>\n",
       "<!-- 15 -->\n",
       "<g id=\"node6\" class=\"node\">\n",
       "<title>15</title>\n",
       "<ellipse fill=\"SteelBlue\" stroke=\"Black\" cx=\"10.8\" cy=\"-10.8\" rx=\"10.8\" ry=\"10.8\"/>\n",
       "<text text-anchor=\"middle\" x=\"10.8\" y=\"-6.53\" font-family=\"Times,serif\" font-size=\"12.00\" fill=\"White\">15</text>\n",
       "</g>\n",
       "<!-- 10&#45;&#45;15 -->\n",
       "<g id=\"edge7\" class=\"edge\">\n",
       "<title>10&#45;&#45;15</title>\n",
       "<path fill=\"none\" stroke=\"SteelBlue\" stroke-width=\"2\" d=\"M118.89,-51.42C96.32,-42.94 43.53,-23.1 21.13,-14.68\"/>\n",
       "</g>\n",
       "<!-- 11&#45;&#45;12 -->\n",
       "<g id=\"edge9\" class=\"edge\">\n",
       "<title>11&#45;&#45;12</title>\n",
       "<path fill=\"none\" stroke=\"SteelBlue\" stroke-width=\"2\" d=\"M245.61,-21.52C241.3,-39.88 232.49,-77.32 228.12,-95.91\"/>\n",
       "</g>\n",
       "<!-- 12&#45;&#45;13 -->\n",
       "<g id=\"edge8\" class=\"edge\">\n",
       "<title>12&#45;&#45;13</title>\n",
       "<path fill=\"none\" stroke=\"SteelBlue\" stroke-width=\"2\" d=\"M215.6,-112.19C197.07,-122.06 157.45,-143.18 139.07,-152.97\"/>\n",
       "</g>\n",
       "<!-- 13&#45;&#45;14 -->\n",
       "<g id=\"edge2\" class=\"edge\">\n",
       "<title>13&#45;&#45;14</title>\n",
       "<path fill=\"none\" stroke=\"SteelBlue\" stroke-width=\"2\" d=\"M119.41,-152.86C100.9,-142.98 61.33,-121.84 42.97,-112.04\"/>\n",
       "</g>\n",
       "<!-- 14&#45;&#45;15 -->\n",
       "<g id=\"edge1\" class=\"edge\">\n",
       "<title>14&#45;&#45;15</title>\n",
       "<path fill=\"none\" stroke=\"SteelBlue\" stroke-width=\"2\" d=\"M30.75,-96.2C26.46,-77.84 17.71,-40.39 13.37,-21.79\"/>\n",
       "</g>\n",
       "</g>\n",
       "</svg>\n"
      ]
     },
     "execution_count": 20,
     "metadata": {},
     "output_type": "execute_result"
    }
   ],
   "source": [
    "#% html\n",
    "Graph::Indexed.new($u,10).dot(:$background, engine => 'sfdp'):svg"
   ]
  }
 ],
 "metadata": {
  "kernelspec": {
   "display_name": "RakuChatbook",
   "language": "raku",
   "name": "raku"
  },
  "language_info": {
   "file_extension": ".raku",
   "mimetype": "text/x-raku",
   "name": "raku",
   "version": "6.d"
  }
 },
 "nbformat": 4,
 "nbformat_minor": 2
}
