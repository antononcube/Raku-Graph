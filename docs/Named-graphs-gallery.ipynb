{
 "cells": [
  {
   "cell_type": "markdown",
   "metadata": {},
   "source": [
    "# Named graphs gallery\n",
    "### in Raku\n",
    "\n",
    "Anton Antonov  \n",
    "[RakuForPrediction at WordPress](https://rakuforprediction.wordpress.com)   \n",
    "[RakuForPrediction-book at GitHub](https://github.com/antononcube/RakuForPrediction-book)      \n",
    "June 2024  "
   ]
  },
  {
   "cell_type": "markdown",
   "metadata": {},
   "source": [
    "-----\n",
    "\n",
    "## Introduction"
   ]
  },
  {
   "cell_type": "markdown",
   "metadata": {},
   "source": [
    "This notebook has a gallery of graphs that can be created with the Raku package [\"Graph\"](https://raku.land/zef:antononcube/Graph) and \n",
    "displayed with the Raku package [\"JavaScript::D3\"](https://raku.land/zef:antononcube/JavaScript:D3)."
   ]
  },
  {
   "cell_type": "markdown",
   "metadata": {},
   "source": [
    "------\n",
    "\n",
    "## Setup"
   ]
  },
  {
   "cell_type": "markdown",
   "metadata": {},
   "source": [
    "Here are loaded the packages used in the rest of notebook:"
   ]
  },
  {
   "cell_type": "code",
   "execution_count": null,
   "metadata": {},
   "outputs": [],
   "source": [
    "use Graph;\n",
    "use Graph::Complete;\n",
    "use Graph::CompleteKaryTree;\n",
    "use Graph::Cycle;\n",
    "use Graph::Grid;\n",
    "use Graph::Hypercube;\n",
    "use Graph::KnightTour;\n",
    "use Graph::Star;\n",
    "use Graph::Wheel;\n",
    "use Graph::Path;\n",
    "use Graph::Petersen;\n",
    "use Graph::Random;\n",
    "\n",
    "use Data::Reshapers;\n",
    "use Data::Summarizers;\n",
    "\n",
    "use JavaScript::D3;\n",
    "use WWW::MermaidInk;"
   ]
  },
  {
   "cell_type": "markdown",
   "metadata": {},
   "source": [
    "### JavaScript"
   ]
  },
  {
   "cell_type": "markdown",
   "metadata": {},
   "source": [
    "Here we prepare the notebook to visualize with JavaScript:"
   ]
  },
  {
   "cell_type": "code",
   "execution_count": null,
   "metadata": {},
   "outputs": [],
   "source": [
    "#% javascript\n",
    "require.config({\n",
    "     paths: {\n",
    "     d3: 'https://d3js.org/d3.v7.min'\n",
    "}});\n",
    "\n",
    "require(['d3'], function(d3) {\n",
    "     console.log(d3);\n",
    "});"
   ]
  },
  {
   "cell_type": "markdown",
   "metadata": {},
   "source": [
    "Verification:"
   ]
  },
  {
   "cell_type": "code",
   "execution_count": null,
   "metadata": {},
   "outputs": [],
   "source": [
    "#% js\n",
    "js-d3-list-line-plot(10.rand xx 40, background => 'none', stroke-width => 2)"
   ]
  },
  {
   "cell_type": "markdown",
   "metadata": {},
   "source": [
    "Here we set a collection of visualization variables:"
   ]
  },
  {
   "cell_type": "code",
   "execution_count": null,
   "metadata": {},
   "outputs": [],
   "source": [
    "my $title-color = 'Ivory';\n",
    "my $stroke-color = 'SlateGray';\n",
    "my $tooltip-color = 'LightBlue';\n",
    "my $tooltip-background-color = 'none';\n",
    "my $background = '1F1F1F';\n",
    "my $color-scheme = 'schemeTableau10';\n",
    "my $edge-thickness = 3;\n",
    "my $vertex-size = 6;\n",
    "my $mmd-theme = q:to/END/;\n",
    "%%{\n",
    "  init: {\n",
    "    'theme': 'forest',\n",
    "    'themeVariables': {\n",
    "      'lineColor': 'Ivory'\n",
    "    }\n",
    "  }\n",
    "}%%\n",
    "END\n",
    "my %force = collision => {iterations => 0, radius => 10},link => {distance => 180};\n",
    "my %force2 = charge => {strength => -30, iterations => 4}, collision => {radius => 50, iterations => 4}, link => {distance => 30};"
   ]
  },
  {
   "cell_type": "markdown",
   "metadata": {},
   "source": [
    "### LLM graph assistant"
   ]
  },
  {
   "cell_type": "code",
   "execution_count": null,
   "metadata": {},
   "outputs": [],
   "source": [
    "#% chat ge prompt, model=gpt-3.5-turbo\n",
    "You are very knowledgeable expert on Graph theory,\n",
    "You know the Graph theory Wikipedia pages better than anyone.\n",
    "Your answers to Graph theory related questions are concise and clear.\n",
    "You provide clear examples if relevant to your answers.\n",
    "If specifically requested you can provide code for making or displaying Graphs.\n",
    "Unless specifically specified otherwise, you use Wolfram Language (aka Mathematica) for your code examples.\n",
    "Unless specifically requested, you do not include code in your answers."
   ]
  },
  {
   "cell_type": "markdown",
   "metadata": {},
   "source": [
    "------\n",
    "\n",
    "## All graphs"
   ]
  },
  {
   "cell_type": "code",
   "execution_count": null,
   "metadata": {},
   "outputs": [],
   "source": [
    "my %namedGraphs = \n",
    "    Complete => Graph::Complete.new(5),\n",
    "    CompleteKaryTree => Graph::CompleteKaryTree.new(3,3),\n",
    "    Cycle => Graph::Cycle.new(8),\n",
    "    Grid => Graph::Grid.new(4,3),\n",
    "    Hypercube => Graph::Hypercube.new(2),\n",
    "    KnightTour => Graph::KnightTour.new(6,4),\n",
    "    Path => Graph::Path.new('a'..'g', :directed),\n",
    "    Petersen => Graph::Petersen.new(),\n",
    "    Random => Graph::Random.new(10,11),\n",
    "    Star => Graph::Star.new(5),\n",
    "    Wheel => Graph::Wheel.new(7, :directed);\n",
    "\n",
    ".say for %namedGraphs"
   ]
  },
  {
   "cell_type": "code",
   "execution_count": null,
   "metadata": {},
   "outputs": [],
   "source": [
    "#%js\n",
    "%namedGraphs.pairs.sort(*.key).map({ \n",
    "    js-d3-graph-plot(\n",
    "        $_.value.edges(:dataset),\n",
    "        title => $_.key,\n",
    "        :$background, \n",
    "        :$title-color, \n",
    "        width => 400, \n",
    "        :$edge-thickness,\n",
    "        :$vertex-size,\n",
    "        directed => $_.value.directed,\n",
    "        force => {charge => {strength => -200}, link => {minDistance => 40}}\n",
    "    )\n",
    " }).join(\"\\n\")"
   ]
  },
  {
   "cell_type": "markdown",
   "metadata": {},
   "source": [
    "------\n",
    "\n",
    "## Complete graph"
   ]
  },
  {
   "cell_type": "code",
   "execution_count": null,
   "metadata": {},
   "outputs": [],
   "source": [
    "#%js\n",
    "my $g = Graph::Complete.new(5,'node:');\n",
    "\n",
    "#%js\n",
    "$g.edges(:dataset) \n",
    "==> js-d3-graph-plot(\n",
    "        :$background, \n",
    "        :$title-color, \n",
    "        width => 700, \n",
    "        :$edge-thickness,\n",
    "        :$vertex-size,\n",
    "        force => {charge => {strength => -1800, iterations => 2}, collision => {radius => 40, iterations => 10}, link => {distance => 310}}\n",
    "    )"
   ]
  },
  {
   "cell_type": "code",
   "execution_count": null,
   "metadata": {},
   "outputs": [],
   "source": [
    "mermaid-ink($mmd-theme ~ \"\\n\" ~ $g.mermaid, background => '1F1F1F', format => 'svg')"
   ]
  },
  {
   "cell_type": "markdown",
   "metadata": {},
   "source": [
    "------\n",
    "\n",
    "## Complete K-ary tree"
   ]
  },
  {
   "cell_type": "code",
   "execution_count": null,
   "metadata": {},
   "outputs": [],
   "source": [
    "#%js\n",
    "my $g = Graph::CompleteKaryTree.new(n => 4, k => 3, prefix => '', :directed);\n",
    "\n",
    "$g.edges(:dataset) \n",
    "==> js-d3-graph-plot(\n",
    "        :$background, \n",
    "        title-color => 'none',  \n",
    "        width => 600, \n",
    "        :$edge-thickness,\n",
    "        :$vertex-size,\n",
    "        vertex-color => 'SlateBlue',\n",
    "        :directed,\n",
    "        force => {charge => {strength => -120, iterations => 2}, collision => {radius => 4, iterations => 1}, link => {minDistance => 10}}\n",
    "    )"
   ]
  },
  {
   "cell_type": "markdown",
   "metadata": {},
   "source": [
    "-----\n",
    "\n",
    "## Cycle graph"
   ]
  },
  {
   "cell_type": "code",
   "execution_count": null,
   "metadata": {},
   "outputs": [],
   "source": [
    "#%js\n",
    "my $g = Graph::Cycle.new(9);\n",
    "\n",
    "$g.edges(:dataset) \n",
    "==> js-d3-graph-plot(\n",
    "        :$background, \n",
    "        :$title-color, \n",
    "        width => 700, \n",
    "        :$edge-thickness,\n",
    "        :$vertex-size, \n",
    "        force => {charge => {strength => -1200, iterations => 2}, collision => {radius => 50, iterations => 1}, link => {minDistance => 30}}\n",
    "    )"
   ]
  },
  {
   "cell_type": "markdown",
   "metadata": {},
   "source": [
    "-----\n",
    "\n",
    "## Grid graph"
   ]
  },
  {
   "cell_type": "code",
   "execution_count": null,
   "metadata": {},
   "outputs": [],
   "source": [
    "#%js\n",
    "my $g = Graph::Grid.new(rows => 5, columns => 7):d;\n",
    "\n",
    "$g.edges(:dataset) \n",
    "==> js-d3-graph-plot(\n",
    "    :$background, \n",
    "    :$title-color, \n",
    "    width => 800, \n",
    "    :$edge-thickness,\n",
    "    :$vertex-size,\n",
    "    force => {charge => {strength => -400, iterations => 2}, collision => {radius => 4, iterations => 1}, link => {distance => 0}}\n",
    "):d"
   ]
  },
  {
   "cell_type": "markdown",
   "metadata": {},
   "source": [
    "-----\n",
    "\n",
    "## Hypercube"
   ]
  },
  {
   "cell_type": "code",
   "execution_count": null,
   "metadata": {},
   "outputs": [],
   "source": [
    "#%js\n",
    "my $g = Graph::Hypercube.new(3);\n",
    "\n",
    "$g.edges(:dataset) \n",
    "==> js-d3-graph-plot(\n",
    "    :$background, \n",
    "    :$title-color, \n",
    "    width => 600, \n",
    "    :$edge-thickness,\n",
    "    :$vertex-size,\n",
    "    force => {charge => {strength => -2000, iterations => 2}, collision => {radius => 60, iterations => 1}, link => {distance => 0}}\n",
    ")"
   ]
  },
  {
   "cell_type": "markdown",
   "metadata": {},
   "source": [
    "-----\n",
    "\n",
    "## Knight tour"
   ]
  },
  {
   "cell_type": "code",
   "execution_count": null,
   "metadata": {},
   "outputs": [],
   "source": [
    "#%js\n",
    "my $g = Graph::KnightTour.new(6, 4, 'node:');\n",
    "\n",
    "$g.edges(:dataset) \n",
    "==> js-d3-graph-plot(\n",
    "        :$background, \n",
    "        :$title-color, \n",
    "        height => 800, \n",
    "        :$edge-thickness, \n",
    "        :$vertex-size, \n",
    "        force => {x => {strength => .1}, y => {strength => .1}, charge => {strength => -300}, collision => {radius => 20}}\n",
    "    )"
   ]
  },
  {
   "cell_type": "markdown",
   "metadata": {},
   "source": [
    "-----\n",
    "\n",
    "## Path graph"
   ]
  },
  {
   "cell_type": "code",
   "execution_count": null,
   "metadata": {},
   "outputs": [],
   "source": [
    "#%js\n",
    "my $g = Graph::Path.new('a'..'h', prefix => '', :directed);\n",
    "\n",
    "$g.edges(:dataset) \n",
    "==> js-d3-graph-plot(\n",
    "        :$background, \n",
    "        :$title-color, \n",
    "        width => 500, \n",
    "        :$edge-thickness,\n",
    "        :$vertex-size,\n",
    "        directed => $g.directed,\n",
    "        force => {charge => {strength => -600}, link => {minDistance => 40}}\n",
    "    )"
   ]
  },
  {
   "cell_type": "markdown",
   "metadata": {},
   "source": [
    "-----\n",
    "\n",
    "## Petersen graph"
   ]
  },
  {
   "cell_type": "code",
   "execution_count": null,
   "metadata": {},
   "outputs": [],
   "source": [
    "#%js\n",
    "my $g = Graph::Petersen.new(prefix => '');\n",
    "\n",
    "$g.edges(:dataset) \n",
    "==> js-d3-graph-plot(\n",
    "        :$background, \n",
    "        :$title-color, \n",
    "        width => 500, \n",
    "        :$edge-thickness,\n",
    "        :$vertex-size,\n",
    "        :!directed,\n",
    "        force => {charge => {strength => -600}, link => {minDistance => 40}}\n",
    "    )"
   ]
  },
  {
   "cell_type": "markdown",
   "metadata": {},
   "source": [
    "### Properties"
   ]
  },
  {
   "cell_type": "markdown",
   "metadata": {},
   "source": [
    "- Has radius 2 and diameter 2. It is the largest cubic graph with diameter 2."
   ]
  },
  {
   "cell_type": "code",
   "execution_count": null,
   "metadata": {},
   "outputs": [],
   "source": [
    "say <radius diameter>.map({ $_ => $g.\"$_\"() })"
   ]
  },
  {
   "cell_type": "markdown",
   "metadata": {},
   "source": [
    "- The Petersen graph has a Hamiltonian path but no Hamiltonian cycle. It is the smallest bridgeless cubic graph with no Hamiltonian cycle. It is hypohamiltonian, meaning that although it has no Hamiltonian cycle, deleting any vertex makes it Hamiltonian, and is the smallest hypohamiltonian graph.\n",
    "(See [[Wk-Petersen](https://en.wikipedia.org/wiki/Petersen_graph)].)"
   ]
  },
  {
   "cell_type": "code",
   "execution_count": null,
   "metadata": {},
   "outputs": [],
   "source": [
    "$g.find-hamiltonian-path('0','6')"
   ]
  },
  {
   "cell_type": "code",
   "execution_count": null,
   "metadata": {},
   "outputs": [],
   "source": [
    "#%js\n",
    "\n",
    "$g.edges(:dataset) \n",
    "==> js-d3-graph-plot(\n",
    "        :$background, \n",
    "        :$title-color, \n",
    "        width => 700, \n",
    "        :$edge-thickness,\n",
    "        :$vertex-size,\n",
    "        highlight => $g.find-hamiltonian-path('0', '6').rotor(2=>-1).map({$_.head => $_.tail }),\n",
    "        force => {charge => {strength => -1400, iterations => 2}, collision => {radius => 1, iterations => 1}, link => {distance => 1}})"
   ]
  },
  {
   "cell_type": "markdown",
   "metadata": {},
   "source": [
    "### Verify configuration"
   ]
  },
  {
   "cell_type": "markdown",
   "metadata": {},
   "source": [
    "To display with Mathematica:\n",
    "\n",
    "```raku\n",
    "Graph::Petersen.new.wl;\n",
    "```\n",
    "\n",
    "```mathematica\n",
    "aCoords = \n",
    " Join[\n",
    "  Table[ToString[i - 1] -> {Cos[i*2 Pi/5], -Sin[i*2 Pi/5]}, {i, 5}], \n",
    "  Table[ToString[i + 5 - 1] -> 2*{Cos[i*2 Pi/5], -Sin[i*2 Pi/5]}, {i, 5}]\n",
    "]\n",
    "\n",
    "gr = REPLACE\n",
    "GraphPlot[gr, VertexLabels -> \"Name\", VertexCoordinates -> aCoords]\n",
    "```"
   ]
  },
  {
   "cell_type": "markdown",
   "metadata": {},
   "source": [
    "------\n",
    "\n",
    "## Random graph"
   ]
  },
  {
   "cell_type": "markdown",
   "metadata": {},
   "source": [
    "Create random graph with `600` vertexes and `500` edges:"
   ]
  },
  {
   "cell_type": "code",
   "execution_count": null,
   "metadata": {},
   "outputs": [],
   "source": [
    "my $tstart = now;\n",
    "\n",
    "my $gl = Graph::Random.new(100, 200, :!directed);\n",
    "\n",
    "my $tend = now;\n",
    "say \"Time to generate: {$tend - $tstart}\";\n",
    "say $gl;"
   ]
  },
  {
   "cell_type": "markdown",
   "metadata": {},
   "source": [
    "Visualize the random graph:"
   ]
  },
  {
   "cell_type": "code",
   "execution_count": null,
   "metadata": {},
   "outputs": [],
   "source": [
    "#%js\n",
    "$gl.edges(:dataset) \n",
    "==> js-d3-graph-plot(\n",
    "    :$background, \n",
    "    :$title-color, \n",
    "    width => 1200, \n",
    "    :$vertex-size, \n",
    "    :$edge-thickness, \n",
    "    force => {charge => {strength => -180, iterations => 2}, collision => {radius => 6, iterations => 10}, link => {distance => 4}}\n",
    ")"
   ]
  },
  {
   "cell_type": "markdown",
   "metadata": {},
   "source": [
    "### Vertex degree distribution"
   ]
  },
  {
   "cell_type": "code",
   "execution_count": null,
   "metadata": {},
   "outputs": [],
   "source": [
    "my %degrees = $gl.vertex-list.map({ $_ => $gl.vertex-degree($_) });\n",
    "\n",
    "sink records-summary(%degrees.values.List)"
   ]
  },
  {
   "cell_type": "code",
   "execution_count": null,
   "metadata": {},
   "outputs": [],
   "source": [
    "#%js\n",
    "js-d3-histogram(%degrees.values, :$background)"
   ]
  },
  {
   "cell_type": "markdown",
   "metadata": {},
   "source": [
    "### Multiple random graphs"
   ]
  },
  {
   "cell_type": "code",
   "execution_count": null,
   "metadata": {},
   "outputs": [],
   "source": [
    "#% js\n",
    "my %opts = :$title-color, :$background, force => {charge => {strength => -140}, link => {minDistance => 130}}, width => 500;\n",
    "(Graph::Random.new((10..40).pick, (20..100).pick, :!directed) xx 6).map({ js-d3-graph-plot($_.edges(:dataset), |%opts) }).join(\"\\n\")"
   ]
  },
  {
   "cell_type": "markdown",
   "metadata": {},
   "source": [
    "-----\n",
    "\n",
    "## Star"
   ]
  },
  {
   "cell_type": "code",
   "execution_count": null,
   "metadata": {},
   "outputs": [],
   "source": [
    "#%js\n",
    "my $g = Graph::Star.new(rays => 7, center => 'hub', prefix => 's:', :directed);\n",
    "\n",
    "$g.edges(:dataset) \n",
    "==> js-d3-graph-plot(\n",
    "        :$background, \n",
    "        :$title-color, \n",
    "        width => 400, \n",
    "        :$edge-thickness,\n",
    "        :$vertex-size,\n",
    "        :directed,\n",
    "        force => {charge => {strength => -1800, iterations => 2}, collision => {radius => 10, iterations => 1}, link => {minDistance => 30}}\n",
    "    )"
   ]
  },
  {
   "cell_type": "markdown",
   "metadata": {},
   "source": [
    "------\n",
    "## Wheel graph"
   ]
  },
  {
   "cell_type": "code",
   "execution_count": null,
   "metadata": {},
   "outputs": [],
   "source": [
    "#%js\n",
    "my $g = Graph::Wheel.new(spokes => 9, center => 'hub', prefix => 's:', :!directed);\n",
    "\n",
    "$g.edges(:dataset) \n",
    "==> js-d3-graph-plot(\n",
    "        :$background, \n",
    "        :$title-color, \n",
    "        width => 700, \n",
    "        :$edge-thickness,\n",
    "        :$vertex-size,\n",
    "        :!directed,\n",
    "        force => {charge => {strength => -1800, iterations => 2}, collision => {radius => 10, iterations => 1}, link => {minDistance => 3}}\n",
    "    )"
   ]
  },
  {
   "cell_type": "markdown",
   "metadata": {},
   "source": [
    "Wheel graphs are Hamiltonian:"
   ]
  },
  {
   "cell_type": "code",
   "execution_count": null,
   "metadata": {},
   "outputs": [],
   "source": [
    "$g.find-hamiltonian-path('hub', 's:1').push('hub')"
   ]
  }
 ],
 "metadata": {
  "kernelspec": {
   "display_name": "RakuChatbook",
   "language": "raku",
   "name": "raku"
  },
  "language_info": {
   "file_extension": ".raku",
   "mimetype": "text/x-raku",
   "name": "raku",
   "version": "6.d"
  }
 },
 "nbformat": 4,
 "nbformat_minor": 2
}
