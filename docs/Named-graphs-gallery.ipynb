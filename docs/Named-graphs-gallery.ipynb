{
 "cells": [
  {
   "cell_type": "markdown",
   "metadata": {},
   "source": [
    "# Named graphs gallery\n",
    "### in Raku\n",
    "\n",
    "Anton Antonov  \n",
    "[RakuForPrediction at WordPress](https://rakuforprediction.wordpress.com)   \n",
    "[RakuForPrediction-book at GitHub](https://github.com/antononcube/RakuForPrediction-book)      \n",
    "June 2024  "
   ]
  },
  {
   "cell_type": "markdown",
   "metadata": {},
   "source": [
    "-----\n",
    "\n",
    "## Introduction"
   ]
  },
  {
   "cell_type": "markdown",
   "metadata": {},
   "source": [
    "This notebook has a gallery of graphs that can be created with the Raku package [\"Graph\"](https://raku.land/zef:antononcube/Graph) and \n",
    "displayed with the Raku package [\"JavaScript::D3\"](https://raku.land/zef:antononcube/JavaScript:D3)."
   ]
  },
  {
   "cell_type": "markdown",
   "metadata": {},
   "source": [
    "------\n",
    "\n",
    "## Setup"
   ]
  },
  {
   "cell_type": "markdown",
   "metadata": {},
   "source": [
    "Here are loaded the packages used in the rest of notebook:"
   ]
  },
  {
   "cell_type": "code",
   "execution_count": 7,
   "metadata": {},
   "outputs": [],
   "source": [
    "use Graph;\n",
    "use Graph::Circulant;\n",
    "use Graph::Complete;\n",
    "use Graph::CompleteKaryTree;\n",
    "use Graph::Cycle;\n",
    "use Graph::Grid;\n",
    "use Graph::Hypercube;\n",
    "use Graph::KnightTour;\n",
    "use Graph::Star;\n",
    "use Graph::Wheel;\n",
    "use Graph::Path;\n",
    "use Graph::Petersen;\n",
    "\n",
    "use Graph::Distribution;\n",
    "use Graph::Random;\n",
    "\n",
    "use Data::Reshapers;\n",
    "use Data::Summarizers;\n",
    "\n",
    "use JavaScript::D3;\n",
    "use WWW::MermaidInk;"
   ]
  },
  {
   "cell_type": "markdown",
   "metadata": {},
   "source": [
    "### JavaScript"
   ]
  },
  {
   "cell_type": "markdown",
   "metadata": {},
   "source": [
    "Here we prepare the notebook to visualize with JavaScript:"
   ]
  },
  {
   "cell_type": "code",
   "execution_count": 2,
   "metadata": {},
   "outputs": [
    {
     "data": {
      "application/javascript": "require.config({\n     paths: {\n     d3: 'https://d3js.org/d3.v7.min'\n}});\n\nrequire(['d3'], function(d3) {\n     console.log(d3);\n});"
     },
     "execution_count": 2,
     "metadata": {},
     "output_type": "execute_result"
    }
   ],
   "source": [
    "#% javascript\n",
    "require.config({\n",
    "     paths: {\n",
    "     d3: 'https://d3js.org/d3.v7.min'\n",
    "}});\n",
    "\n",
    "require(['d3'], function(d3) {\n",
    "     console.log(d3);\n",
    "});"
   ]
  },
  {
   "cell_type": "markdown",
   "metadata": {},
   "source": [
    "Verification:"
   ]
  },
  {
   "cell_type": "code",
   "execution_count": 3,
   "metadata": {},
   "outputs": [
    {
     "data": {
      "application/javascript": "(function(element) { require(['d3'], function(d3) {\n\n// set the dimensions and margins of the graph\nvar margin = {\"bottom\":40,\"top\":40,\"left\":40,\"right\":40},\n    width = 600 - margin.left - margin.right,\n    height = 400 - margin.top - margin.bottom;\n\n// append the svg object to the body of the page\nvar svg = d3\n   .select(element.get(0))\n  .append(\"svg\")\n    .attr(\"width\", width + margin.left + margin.right)\n    .attr(\"height\", height + margin.top + margin.bottom)\n    .style(\"background\", \"none\")\n  .append(\"g\")\n    .attr(\"transform\",\n          \"translate(\" + margin.left + \",\" + margin.top + \")\")\n\n// Obtain title\nvar title = \"\"\nvar titleFontSize = 16\n\nif ( title.length > 0 ) {\n    svg.append(\"text\")\n        .attr(\"x\", (width / 2))\n        .attr(\"y\", 0 - (margin.top / 2))\n        .attr(\"text-anchor\", \"middle\")\n        .style(\"font-size\", titleFontSize.toString() + \"px\")\n        .style(\"fill\", \"Black\")\n        .text(title);\n}\n\n// Obtain x-axis label\nvar xAxisLabel = \"\"\nvar xAxisLabelFontSize = 12\n\nif ( xAxisLabel.length > 0 ) {\n    svg.append(\"text\")\n        .attr(\"x\", (width / 2))\n        .attr(\"y\", height + margin.bottom - xAxisLabelFontSize/2)\n        .attr(\"text-anchor\", \"middle\")\n        .style(\"font-size\", xAxisLabelFontSize.toString() + \"px\")\n        .style(\"fill\", \"Black\")\n        .text(xAxisLabel);\n}\n\n// Obtain y-axis label\nvar yAxisLabel = \"\"\nvar yAxisLabelFontSize = 12\n\nif ( yAxisLabel.length > 0 ) {\n    svg.append(\"text\")\n        .attr(\"transform\", \"rotate(-90)\")\n        .attr(\"x\", - (height / 2))\n        .attr(\"y\", 0 - margin.left + yAxisLabelFontSize)\n        .attr(\"text-anchor\", \"middle\")\n        .style(\"font-size\", yAxisLabelFontSize.toString() + \"px\")\n        .style(\"fill\", \"Black\")\n        .text(yAxisLabel);\n}\n\n\n// Obtain data\nvar data = [{\"x\":1,\"y\":4.260694492359667e0},{\"x\":2,\"y\":1.903081916558177e0},{\"y\":5.987395473802439e0,\"x\":3},{\"x\":4,\"y\":4.852886874816874e0},{\"y\":1.2449976559594733e0,\"x\":5},{\"x\":6,\"y\":3.2306021801716733e0},{\"x\":7,\"y\":8.259381940332938e0},{\"x\":8,\"y\":9.769150591481399e0},{\"y\":2.0443736738784435e0,\"x\":9},{\"x\":10,\"y\":5.631089994161147e0},{\"x\":11,\"y\":6.595227627083489e0},{\"y\":3.6712787999087446e0,\"x\":12},{\"y\":9.90212856201145e0,\"x\":13},{\"x\":14,\"y\":4.99269197964765e0},{\"x\":15,\"y\":3.622639344072507e0},{\"y\":4.16030132675305e0,\"x\":16},{\"x\":17,\"y\":0.23209824513437227e0},{\"y\":3.8841960485606073e0,\"x\":18},{\"y\":4.37856584711647e0,\"x\":19},{\"y\":4.349386325269037e0,\"x\":20},{\"y\":0.27582260075741827e0,\"x\":21},{\"x\":22,\"y\":4.028056912368056e0},{\"y\":7.640585487526364e0,\"x\":23},{\"y\":6.542232199578105e0,\"x\":24},{\"y\":7.206006234548733e0,\"x\":25},{\"y\":5.679281075843821e0,\"x\":26},{\"y\":0.8921616906550456e0,\"x\":27},{\"y\":1.6880830967831606e0,\"x\":28},{\"x\":29,\"y\":5.960563905076039e0},{\"y\":2.9741139167074095e0,\"x\":30},{\"y\":4.856969361928484e0,\"x\":31},{\"x\":32,\"y\":2.3178831849014414e0},{\"x\":33,\"y\":4.833366376352341e0},{\"x\":34,\"y\":1.3988236478781302e0},{\"y\":4.056022102268121e0,\"x\":35},{\"x\":36,\"y\":6.971144418501977e0},{\"x\":37,\"y\":1.011421701089995e0},{\"y\":3.682203046684316e0,\"x\":38},{\"x\":39,\"y\":1.9833627794225084e0},{\"y\":1.020315111669845e0,\"x\":40}]\n\nvar xMin = Math.min.apply(Math, data.map(function(o) { return o.x; }))\nvar xMax = Math.max.apply(Math, data.map(function(o) { return o.x; }))\n\nvar yMin = Math.min.apply(Math, data.map(function(o) { return o.y; }))\nvar yMax = Math.max.apply(Math, data.map(function(o) { return o.y; }))\n\n// X scale and Axis\nvar x = d3.scaleLinear()\n    .domain([xMin, xMax])\n    .range([0, width]);\n\n// Y scale and Axis\nvar y = d3.scaleLinear()\n    .domain([yMin, yMax])\n    .range([height, 0]);\n\nsvg\n  .append('g')\n  .attr(\"transform\", \"translate(0,\" + height + \")\")\n  .call(d3.axisBottom(x))\n\nsvg\n  .append('g')\n  .call(d3.axisLeft(y));\n\n// prepare a helper function\nvar lineFunc = d3.line()\n  .x(function(d) { return x(d.x) })\n  .y(function(d) { return y(d.y) })\n\n// Add the path using this helper function\nsvg.append('path')\n  .attr('d', lineFunc(data))\n  .attr(\"stroke-width\", 2)\n  .attr('stroke', \"steelblue\")\n  .attr('fill', 'none');\n\n}) })(element);\n"
     },
     "execution_count": 3,
     "metadata": {},
     "output_type": "execute_result"
    }
   ],
   "source": [
    "#% js\n",
    "js-d3-list-line-plot(10.rand xx 40, background => 'none', stroke-width => 2)"
   ]
  },
  {
   "cell_type": "markdown",
   "metadata": {},
   "source": [
    "Here we set a collection of visualization variables:"
   ]
  },
  {
   "cell_type": "code",
   "execution_count": 4,
   "metadata": {},
   "outputs": [
    {
     "data": {
      "text/plain": [
       "{charge => {iterations => 4, strength => -30}, collision => {iterations => 4, radius => 50}, link => {distance => 30}}"
      ]
     },
     "execution_count": 4,
     "metadata": {},
     "output_type": "execute_result"
    }
   ],
   "source": [
    "my $title-color = 'Ivory';\n",
    "my $stroke-color = 'SlateGray';\n",
    "my $tooltip-color = 'LightBlue';\n",
    "my $tooltip-background-color = 'none';\n",
    "my $background = '1F1F1F';\n",
    "my $color-scheme = 'schemeTableau10';\n",
    "my $edge-thickness = 3;\n",
    "my $vertex-size = 6;\n",
    "my $mmd-theme = q:to/END/;\n",
    "%%{\n",
    "  init: {\n",
    "    'theme': 'forest',\n",
    "    'themeVariables': {\n",
    "      'lineColor': 'Ivory'\n",
    "    }\n",
    "  }\n",
    "}%%\n",
    "END\n",
    "my %force = collision => {iterations => 0, radius => 10},link => {distance => 180};\n",
    "my %force2 = charge => {strength => -30, iterations => 4}, collision => {radius => 50, iterations => 4}, link => {distance => 30};"
   ]
  },
  {
   "cell_type": "markdown",
   "metadata": {},
   "source": [
    "### LLM graph assistant"
   ]
  },
  {
   "cell_type": "code",
   "execution_count": 5,
   "metadata": {},
   "outputs": [
    {
     "data": {
      "text/plain": [
       "Chat object created with ID : ge."
      ]
     },
     "execution_count": 5,
     "metadata": {},
     "output_type": "execute_result"
    }
   ],
   "source": [
    "#% chat ge prompt, model=gpt-3.5-turbo\n",
    "You are very knowledgeable expert on Graph theory,\n",
    "You know the Graph theory Wikipedia pages better than anyone.\n",
    "Your answers to Graph theory related questions are concise and clear.\n",
    "You provide clear examples if relevant to your answers.\n",
    "If specifically requested you can provide code for making or displaying Graphs.\n",
    "Unless specifically specified otherwise, you use Wolfram Language (aka Mathematica) for your code examples.\n",
    "Unless specifically requested, you do not include code in your answers."
   ]
  },
  {
   "cell_type": "markdown",
   "metadata": {},
   "source": [
    "------\n",
    "\n",
    "## All graphs"
   ]
  },
  {
   "cell_type": "code",
   "execution_count": 14,
   "metadata": {},
   "outputs": [
    {
     "name": "stdout",
     "output_type": "stream",
     "text": [
      "Watts-Strogatz => Graph(vertexes => 20, edges => 41, directed => False)\n",
      "Star => Graph(vertexes => 6, edges => 5, directed => False)\n",
      "Cycle => Graph(vertexes => 8, edges => 8, directed => False)\n",
      "Petersen => Graph(vertexes => 10, edges => 15, directed => False)\n",
      "Path => Graph(vertexes => 7, edges => 6, directed => True)\n",
      "Grid => Graph(vertexes => 12, edges => 17, directed => False)\n",
      "Hypercube => Graph(vertexes => 4, edges => 4, directed => False)\n",
      "Circulant => Graph(vertexes => 7, edges => 7, directed => False)\n",
      "Random => Graph(vertexes => 10, edges => 11, directed => False)\n",
      "Barabasi-Albert => Graph(vertexes => 20, edges => 36, directed => False)\n",
      "CompleteKaryTree => Graph(vertexes => 13, edges => 12, directed => False)\n",
      "Wheel => Graph(vertexes => 8, edges => 14, directed => True)\n",
      "Complete => Graph(vertexes => 5, edges => 10, directed => False)\n",
      "KnightTour => Graph(vertexes => 24, edges => 44, directed => False)\n",
      "Price's model => Graph(vertexes => 14, edges => 23, directed => True)\n"
     ]
    }
   ],
   "source": [
    "my %namedGraphs = \n",
    "    Barabasi-Albert => Graph::Random.new(Graph::Distribution::BarabasiAlbert.new(20, 2)),\n",
    "    Circulant => Graph::Circulant.new(7,4),\n",
    "    Complete => Graph::Complete.new(5),\n",
    "    CompleteKaryTree => Graph::CompleteKaryTree.new(3,3),\n",
    "    Cycle => Graph::Cycle.new(8),\n",
    "    Grid => Graph::Grid.new(4,3),\n",
    "    Hypercube => Graph::Hypercube.new(2),\n",
    "    KnightTour => Graph::KnightTour.new(6,4),\n",
    "    Path => Graph::Path.new('a'..'g', :directed),\n",
    "    \"Price's model\" => Graph::Random.new(Graph::Distribution::Price.new(14, 2, 1)),\n",
    "    Petersen => Graph::Petersen.new(),\n",
    "    Random => Graph::Random.new(10,11),\n",
    "    Star => Graph::Star.new(5),\n",
    "    Watts-Strogatz => Graph::Random.new(Graph::Distribution::WattsStrogatz.new(20,0.07)),\n",
    "    Wheel => Graph::Wheel.new(7, :directed);\n",
    "\n",
    ".say for %namedGraphs"
   ]
  },
  {
   "cell_type": "code",
   "execution_count": 15,
   "metadata": {},
   "outputs": [
    {
     "data": {
      "application/javascript": "(function(element) { require(['d3'], function(d3) {\n\n// set the dimensions and margins of the graph\nvar margin = {\"right\":40,\"top\":40,\"bottom\":40,\"left\":40},\n    width = 400 - margin.left - margin.right,\n    height = 247.218789 - margin.top - margin.bottom;\n\n// append the svg object to the body of the page\nvar svg = d3\n   .select(element.get(0))\n  .append(\"svg\")\n    .attr(\"width\", width + margin.left + margin.right)\n    .attr(\"height\", height + margin.top + margin.bottom)\n    .style(\"background\", \"1F1F1F\")\n  .append(\"g\")\n    .attr(\"transform\",\n          \"translate(\" + margin.left + \",\" + margin.top + \")\")\n\n// Obtain title\nvar title = \"Barabasi-Albert\"\nvar titleFontSize = 16\n\nif ( title.length > 0 ) {\n    svg.append(\"text\")\n        .attr(\"x\", (width / 2))\n        .attr(\"y\", 0 - (margin.top / 2))\n        .attr(\"text-anchor\", \"middle\")\n        .style(\"font-size\", titleFontSize.toString() + \"px\")\n        .style(\"fill\", \"Ivory\")\n        .text(title);\n}\n\nconst edges = [{\"weight\":1,\"to\":\"4\",\"from\":\"15\",\"label\":\"\"},{\"to\":\"13\",\"label\":\"\",\"from\":\"15\",\"weight\":1},{\"label\":\"\",\"from\":\"19\",\"weight\":1,\"to\":\"12\"},{\"from\":\"19\",\"to\":\"3\",\"label\":\"\",\"weight\":1},{\"label\":\"\",\"to\":\"10\",\"from\":\"16\",\"weight\":1},{\"to\":\"14\",\"weight\":1,\"from\":\"16\",\"label\":\"\"},{\"from\":\"14\",\"label\":\"\",\"to\":\"17\",\"weight\":1},{\"weight\":1,\"to\":\"5\",\"from\":\"14\",\"label\":\"\"},{\"from\":\"14\",\"weight\":1,\"to\":\"1\",\"label\":\"\"},{\"from\":\"4\",\"label\":\"\",\"to\":\"1\",\"weight\":1},{\"to\":\"6\",\"from\":\"4\",\"weight\":1,\"label\":\"\"},{\"from\":\"4\",\"to\":\"0\",\"label\":\"\",\"weight\":1},{\"weight\":1,\"label\":\"\",\"to\":\"7\",\"from\":\"4\"},{\"to\":\"5\",\"from\":\"4\",\"label\":\"\",\"weight\":1},{\"to\":\"13\",\"weight\":1,\"from\":\"4\",\"label\":\"\"},{\"from\":\"4\",\"weight\":1,\"label\":\"\",\"to\":\"8\"},{\"to\":\"18\",\"from\":\"8\",\"weight\":1,\"label\":\"\"},{\"from\":\"8\",\"to\":\"12\",\"label\":\"\",\"weight\":1},{\"to\":\"0\",\"weight\":1,\"label\":\"\",\"from\":\"8\"},{\"label\":\"\",\"to\":\"10\",\"from\":\"8\",\"weight\":1},{\"weight\":1,\"label\":\"\",\"from\":\"10\",\"to\":\"13\"},{\"to\":\"1\",\"from\":\"10\",\"label\":\"\",\"weight\":1},{\"to\":\"17\",\"weight\":1,\"from\":\"2\",\"label\":\"\"},{\"label\":\"\",\"weight\":1,\"to\":\"6\",\"from\":\"2\"},{\"to\":\"1\",\"weight\":1,\"from\":\"2\",\"label\":\"\"},{\"from\":\"2\",\"to\":\"0\",\"label\":\"\",\"weight\":1},{\"weight\":1,\"from\":\"11\",\"label\":\"\",\"to\":\"3\"},{\"label\":\"\",\"weight\":1,\"from\":\"11\",\"to\":\"0\"},{\"label\":\"\",\"from\":\"3\",\"to\":\"0\",\"weight\":1},{\"weight\":1,\"from\":\"3\",\"label\":\"\",\"to\":\"5\"},{\"weight\":1,\"from\":\"18\",\"label\":\"\",\"to\":\"12\"},{\"from\":\"9\",\"weight\":1,\"to\":\"1\",\"label\":\"\"},{\"label\":\"\",\"from\":\"9\",\"weight\":1,\"to\":\"5\"},{\"to\":\"1\",\"weight\":1,\"label\":\"\",\"from\":\"7\"},{\"weight\":1,\"from\":\"12\",\"to\":\"5\",\"label\":\"\"},{\"from\":\"1\",\"to\":\"0\",\"weight\":1,\"label\":\"\"}];\n\nconst nodes = Array.from(new Set(edges.flatMap(e => [e.from, e.to])), id => ({id}));\n\nconst highlightNodes = new Set([]);\n\nconst highlightLinkNodes = new Set([]);\n\nconst links = edges.map(e => ({\n  source: e.from,\n  target: e.to,\n  weight: e.weight,\n  label: e.label,\n  highlight: highlightLinkNodes.has(e.from + \"-\" + e.to)\n}));\n\n//.force(\"link\", d3.forceLink(links).id(d => d.id).distance(d => Math.max(d.weight * 20, 3 * 4)))\nconst simulation = d3.forceSimulation(nodes)\n    .force(\"link\", d3.forceLink(links).id(d => d.id).iterations(1))\n    .force(\"charge\", d3.forceManyBody().strength(-200).distanceMin(1).distanceMax(2000))\n    .force(\"x\", d3.forceX())\n    .force(\"y\", d3.forceY())\n    .force(\"collision\", d3.forceCollide())\n    .force(\"center\", d3.forceCenter(width / 2, height / 2));\n\nsvg.append('defs').append('marker')\n    .attr(\"id\",'arrowhead')\n    .attr('viewBox','-0 -5 10 10') //the bound of the SVG viewport for the current SVG fragment. defines a coordinate system 10 wide and 10 high starting on (0,-5)\n     .attr('refX', 11) // x coordinate for the reference point of the marker. If circle is bigger, this need to be bigger.\n     .attr('refY',0)\n     .attr('orient','auto')\n        .attr('markerWidth', 4)\n        .attr('markerHeight', 4)\n        .attr('xoverflow','visible')\n    .append('svg:path')\n    .attr('d', 'M 0,-5 L 10 ,0 L 0,5')\n    .attr('fill', \"SteelBlue\")\n    .style('stroke','none');\n\nconst link = svg.append(\"g\")\n    .attr(\"class\", \"links\")\n  .selectAll(\"line\")\n  .data(links)\n  .enter().append(\"line\")\n    .attr(\"class\", \"link\")\n    .attr(\"stroke\", d => d.highlight ? \"Orange\" : \"SteelBlue\")\n    .attr(\"stroke-width\", 2)\n    \n\nconst node = svg.append(\"g\")\n    .attr(\"class\", \"nodes\")\n  .selectAll(\"circle\")\n  .data(nodes)\n  .enter().append(\"circle\")\n    .attr(\"class\", \"node\")\n    .attr(\"r\", 3)\n    .attr(\"stroke\", d => highlightNodes.has(d.id) ? \"Orange\" : \"SteelBlue\")\n    .attr(\"fill\", d => highlightNodes.has(d.id) ?  \"Orange\" : \"SteelBlue\")\n    .call(drag(simulation));\n\nnode.append(\"title\")\n    .text(d => d.id);\n\nconst nodeLabel = svg.append(\"g\")\n    .attr(\"class\", \"node-labels\")\n  .selectAll(\"text\")\n  .data(nodes)\n  .enter().append(\"text\")\n    .attr(\"class\", \"node-label\")\n    .style(\"font-size\", 13)\n    .attr(\"font-family\", \"Courier\")\n    .attr(\"dy\", -10)\n    .attr('fill', \"Ivory\")\n    .attr('stroke', \"Ivory\")\n    .text(d => d.id);\n\nconst linkLabel = svg.append(\"g\")\n    .attr(\"class\", \"link-labels\")\n  .selectAll(\"text\")\n  .data(links)\n  .enter().append(\"text\")\n    .filter(d => d.label !== \"\")\n    .attr(\"class\", \"link-label\")\n    .style(\"font-size\", 13)\n    .attr(\"font-family\", \"Courier\")\n    .attr('fill', \"Ivory\")\n    .attr('stroke', \"Ivory\")\n    .text(d => d.label);\n\nsimulation.on(\"tick\", () => {\n  link\n      .attr(\"x1\", d => d.source.x)\n      .attr(\"y1\", d => d.source.y)\n      .attr(\"x2\", d => d.target.x)\n      .attr(\"y2\", d => d.target.y);\n\n  node\n      .attr(\"cx\", d => d.x)\n      .attr(\"cy\", d => d.y);\n\n  nodeLabel\n      .attr(\"x\", d => d.x)\n      .attr(\"y\", d => d.y);\n\n  linkLabel\n      .attr(\"x\", d => (d.source.x + d.target.x) / 2)\n      .attr(\"y\", d => (d.source.y + d.target.y) / 2);\n});\n\nfunction drag(simulation) {\n  function dragstarted(event, d) {\n    if (!event.active) simulation.alphaTarget(0.3).restart();\n    d.fx = d.x;\n    d.fy = d.y;\n  }\n\n  function dragged(event, d) {\n    d.fx = event.x;\n    d.fy = event.y;\n  }\n\n  function dragended(event, d) {\n    if (!event.active) simulation.alphaTarget(0);\n    d.fx = null;\n    d.fy = null;\n  }\n\n  return d3.drag()\n      .on(\"start\", dragstarted)\n      .on(\"drag\", dragged)\n      .on(\"end\", dragended);\n}\n\n}) })(element);\n\n(function(element) { require(['d3'], function(d3) {\n\n// set the dimensions and margins of the graph\nvar margin = {\"left\":40,\"right\":40,\"top\":40,\"bottom\":40},\n    width = 400 - margin.left - margin.right,\n    height = 247.218789 - margin.top - margin.bottom;\n\n// append the svg object to the body of the page\nvar svg = d3\n   .select(element.get(0))\n  .append(\"svg\")\n    .attr(\"width\", width + margin.left + margin.right)\n    .attr(\"height\", height + margin.top + margin.bottom)\n    .style(\"background\", \"1F1F1F\")\n  .append(\"g\")\n    .attr(\"transform\",\n          \"translate(\" + margin.left + \",\" + margin.top + \")\")\n\n// Obtain title\nvar title = \"Circulant\"\nvar titleFontSize = 16\n\nif ( title.length > 0 ) {\n    svg.append(\"text\")\n        .attr(\"x\", (width / 2))\n        .attr(\"y\", 0 - (margin.top / 2))\n        .attr(\"text-anchor\", \"middle\")\n        .style(\"font-size\", titleFontSize.toString() + \"px\")\n        .style(\"fill\", \"Ivory\")\n        .text(title);\n}\n\nconst edges = [{\"to\":\"1\",\"weight\":1,\"label\":\"\",\"from\":\"4\"},{\"to\":\"0\",\"label\":\"\",\"weight\":1,\"from\":\"4\"},{\"from\":\"5\",\"to\":\"2\",\"label\":\"\",\"weight\":1},{\"weight\":1,\"from\":\"5\",\"to\":\"1\",\"label\":\"\"},{\"label\":\"\",\"to\":\"3\",\"weight\":1,\"from\":\"6\"},{\"to\":\"2\",\"from\":\"6\",\"label\":\"\",\"weight\":1},{\"from\":\"0\",\"weight\":1,\"to\":\"3\",\"label\":\"\"}];\n\nconst nodes = Array.from(new Set(edges.flatMap(e => [e.from, e.to])), id => ({id}));\n\nconst highlightNodes = new Set([]);\n\nconst highlightLinkNodes = new Set([]);\n\nconst links = edges.map(e => ({\n  source: e.from,\n  target: e.to,\n  weight: e.weight,\n  label: e.label,\n  highlight: highlightLinkNodes.has(e.from + \"-\" + e.to)\n}));\n\n//.force(\"link\", d3.forceLink(links).id(d => d.id).distance(d => Math.max(d.weight * 20, 3 * 4)))\nconst simulation = d3.forceSimulation(nodes)\n    .force(\"link\", d3.forceLink(links).id(d => d.id).iterations(1))\n    .force(\"charge\", d3.forceManyBody().strength(-200).distanceMin(1).distanceMax(2000))\n    .force(\"x\", d3.forceX())\n    .force(\"y\", d3.forceY())\n    .force(\"collision\", d3.forceCollide())\n    .force(\"center\", d3.forceCenter(width / 2, height / 2));\n\nsvg.append('defs').append('marker')\n    .attr(\"id\",'arrowhead')\n    .attr('viewBox','-0 -5 10 10') //the bound of the SVG viewport for the current SVG fragment. defines a coordinate system 10 wide and 10 high starting on (0,-5)\n     .attr('refX', 11) // x coordinate for the reference point of the marker. If circle is bigger, this need to be bigger.\n     .attr('refY',0)\n     .attr('orient','auto')\n        .attr('markerWidth', 4)\n        .attr('markerHeight', 4)\n        .attr('xoverflow','visible')\n    .append('svg:path')\n    .attr('d', 'M 0,-5 L 10 ,0 L 0,5')\n    .attr('fill', \"SteelBlue\")\n    .style('stroke','none');\n\nconst link = svg.append(\"g\")\n    .attr(\"class\", \"links\")\n  .selectAll(\"line\")\n  .data(links)\n  .enter().append(\"line\")\n    .attr(\"class\", \"link\")\n    .attr(\"stroke\", d => d.highlight ? \"Orange\" : \"SteelBlue\")\n    .attr(\"stroke-width\", 2)\n    \n\nconst node = svg.append(\"g\")\n    .attr(\"class\", \"nodes\")\n  .selectAll(\"circle\")\n  .data(nodes)\n  .enter().append(\"circle\")\n    .attr(\"class\", \"node\")\n    .attr(\"r\", 3)\n    .attr(\"stroke\", d => highlightNodes.has(d.id) ? \"Orange\" : \"SteelBlue\")\n    .attr(\"fill\", d => highlightNodes.has(d.id) ?  \"Orange\" : \"SteelBlue\")\n    .call(drag(simulation));\n\nnode.append(\"title\")\n    .text(d => d.id);\n\nconst nodeLabel = svg.append(\"g\")\n    .attr(\"class\", \"node-labels\")\n  .selectAll(\"text\")\n  .data(nodes)\n  .enter().append(\"text\")\n    .attr(\"class\", \"node-label\")\n    .style(\"font-size\", 13)\n    .attr(\"font-family\", \"Courier\")\n    .attr(\"dy\", -10)\n    .attr('fill', \"Ivory\")\n    .attr('stroke', \"Ivory\")\n    .text(d => d.id);\n\nconst linkLabel = svg.append(\"g\")\n    .attr(\"class\", \"link-labels\")\n  .selectAll(\"text\")\n  .data(links)\n  .enter().append(\"text\")\n    .filter(d => d.label !== \"\")\n    .attr(\"class\", \"link-label\")\n    .style(\"font-size\", 13)\n    .attr(\"font-family\", \"Courier\")\n    .attr('fill', \"Ivory\")\n    .attr('stroke', \"Ivory\")\n    .text(d => d.label);\n\nsimulation.on(\"tick\", () => {\n  link\n      .attr(\"x1\", d => d.source.x)\n      .attr(\"y1\", d => d.source.y)\n      .attr(\"x2\", d => d.target.x)\n      .attr(\"y2\", d => d.target.y);\n\n  node\n      .attr(\"cx\", d => d.x)\n      .attr(\"cy\", d => d.y);\n\n  nodeLabel\n      .attr(\"x\", d => d.x)\n      .attr(\"y\", d => d.y);\n\n  linkLabel\n      .attr(\"x\", d => (d.source.x + d.target.x) / 2)\n      .attr(\"y\", d => (d.source.y + d.target.y) / 2);\n});\n\nfunction drag(simulation) {\n  function dragstarted(event, d) {\n    if (!event.active) simulation.alphaTarget(0.3).restart();\n    d.fx = d.x;\n    d.fy = d.y;\n  }\n\n  function dragged(event, d) {\n    d.fx = event.x;\n    d.fy = event.y;\n  }\n\n  function dragended(event, d) {\n    if (!event.active) simulation.alphaTarget(0);\n    d.fx = null;\n    d.fy = null;\n  }\n\n  return d3.drag()\n      .on(\"start\", dragstarted)\n      .on(\"drag\", dragged)\n      .on(\"end\", dragended);\n}\n\n}) })(element);\n\n(function(element) { require(['d3'], function(d3) {\n\n// set the dimensions and margins of the graph\nvar margin = {\"right\":40,\"bottom\":40,\"top\":40,\"left\":40},\n    width = 400 - margin.left - margin.right,\n    height = 247.218789 - margin.top - margin.bottom;\n\n// append the svg object to the body of the page\nvar svg = d3\n   .select(element.get(0))\n  .append(\"svg\")\n    .attr(\"width\", width + margin.left + margin.right)\n    .attr(\"height\", height + margin.top + margin.bottom)\n    .style(\"background\", \"1F1F1F\")\n  .append(\"g\")\n    .attr(\"transform\",\n          \"translate(\" + margin.left + \",\" + margin.top + \")\")\n\n// Obtain title\nvar title = \"Complete\"\nvar titleFontSize = 16\n\nif ( title.length > 0 ) {\n    svg.append(\"text\")\n        .attr(\"x\", (width / 2))\n        .attr(\"y\", 0 - (margin.top / 2))\n        .attr(\"text-anchor\", \"middle\")\n        .style(\"font-size\", titleFontSize.toString() + \"px\")\n        .style(\"fill\", \"Ivory\")\n        .text(title);\n}\n\nconst edges = [{\"weight\":1,\"label\":\"\",\"from\":\"3\",\"to\":\"2\"},{\"to\":\"5\",\"label\":\"\",\"weight\":1,\"from\":\"3\"},{\"to\":\"4\",\"weight\":1,\"label\":\"\",\"from\":\"3\"},{\"to\":\"1\",\"from\":\"3\",\"label\":\"\",\"weight\":1},{\"weight\":1,\"label\":\"\",\"to\":\"4\",\"from\":\"2\"},{\"weight\":1,\"from\":\"2\",\"label\":\"\",\"to\":\"1\"},{\"to\":\"5\",\"weight\":1,\"from\":\"2\",\"label\":\"\"},{\"label\":\"\",\"from\":\"5\",\"weight\":1,\"to\":\"1\"},{\"label\":\"\",\"from\":\"5\",\"weight\":1,\"to\":\"4\"},{\"label\":\"\",\"from\":\"1\",\"weight\":1,\"to\":\"4\"}];\n\nconst nodes = Array.from(new Set(edges.flatMap(e => [e.from, e.to])), id => ({id}));\n\nconst highlightNodes = new Set([]);\n\nconst highlightLinkNodes = new Set([]);\n\nconst links = edges.map(e => ({\n  source: e.from,\n  target: e.to,\n  weight: e.weight,\n  label: e.label,\n  highlight: highlightLinkNodes.has(e.from + \"-\" + e.to)\n}));\n\n//.force(\"link\", d3.forceLink(links).id(d => d.id).distance(d => Math.max(d.weight * 20, 3 * 4)))\nconst simulation = d3.forceSimulation(nodes)\n    .force(\"link\", d3.forceLink(links).id(d => d.id).iterations(1))\n    .force(\"charge\", d3.forceManyBody().strength(-200).distanceMin(1).distanceMax(2000))\n    .force(\"x\", d3.forceX())\n    .force(\"y\", d3.forceY())\n    .force(\"collision\", d3.forceCollide())\n    .force(\"center\", d3.forceCenter(width / 2, height / 2));\n\nsvg.append('defs').append('marker')\n    .attr(\"id\",'arrowhead')\n    .attr('viewBox','-0 -5 10 10') //the bound of the SVG viewport for the current SVG fragment. defines a coordinate system 10 wide and 10 high starting on (0,-5)\n     .attr('refX', 11) // x coordinate for the reference point of the marker. If circle is bigger, this need to be bigger.\n     .attr('refY',0)\n     .attr('orient','auto')\n        .attr('markerWidth', 4)\n        .attr('markerHeight', 4)\n        .attr('xoverflow','visible')\n    .append('svg:path')\n    .attr('d', 'M 0,-5 L 10 ,0 L 0,5')\n    .attr('fill', \"SteelBlue\")\n    .style('stroke','none');\n\nconst link = svg.append(\"g\")\n    .attr(\"class\", \"links\")\n  .selectAll(\"line\")\n  .data(links)\n  .enter().append(\"line\")\n    .attr(\"class\", \"link\")\n    .attr(\"stroke\", d => d.highlight ? \"Orange\" : \"SteelBlue\")\n    .attr(\"stroke-width\", 2)\n    \n\nconst node = svg.append(\"g\")\n    .attr(\"class\", \"nodes\")\n  .selectAll(\"circle\")\n  .data(nodes)\n  .enter().append(\"circle\")\n    .attr(\"class\", \"node\")\n    .attr(\"r\", 3)\n    .attr(\"stroke\", d => highlightNodes.has(d.id) ? \"Orange\" : \"SteelBlue\")\n    .attr(\"fill\", d => highlightNodes.has(d.id) ?  \"Orange\" : \"SteelBlue\")\n    .call(drag(simulation));\n\nnode.append(\"title\")\n    .text(d => d.id);\n\nconst nodeLabel = svg.append(\"g\")\n    .attr(\"class\", \"node-labels\")\n  .selectAll(\"text\")\n  .data(nodes)\n  .enter().append(\"text\")\n    .attr(\"class\", \"node-label\")\n    .style(\"font-size\", 13)\n    .attr(\"font-family\", \"Courier\")\n    .attr(\"dy\", -10)\n    .attr('fill', \"Ivory\")\n    .attr('stroke', \"Ivory\")\n    .text(d => d.id);\n\nconst linkLabel = svg.append(\"g\")\n    .attr(\"class\", \"link-labels\")\n  .selectAll(\"text\")\n  .data(links)\n  .enter().append(\"text\")\n    .filter(d => d.label !== \"\")\n    .attr(\"class\", \"link-label\")\n    .style(\"font-size\", 13)\n    .attr(\"font-family\", \"Courier\")\n    .attr('fill', \"Ivory\")\n    .attr('stroke', \"Ivory\")\n    .text(d => d.label);\n\nsimulation.on(\"tick\", () => {\n  link\n      .attr(\"x1\", d => d.source.x)\n      .attr(\"y1\", d => d.source.y)\n      .attr(\"x2\", d => d.target.x)\n      .attr(\"y2\", d => d.target.y);\n\n  node\n      .attr(\"cx\", d => d.x)\n      .attr(\"cy\", d => d.y);\n\n  nodeLabel\n      .attr(\"x\", d => d.x)\n      .attr(\"y\", d => d.y);\n\n  linkLabel\n      .attr(\"x\", d => (d.source.x + d.target.x) / 2)\n      .attr(\"y\", d => (d.source.y + d.target.y) / 2);\n});\n\nfunction drag(simulation) {\n  function dragstarted(event, d) {\n    if (!event.active) simulation.alphaTarget(0.3).restart();\n    d.fx = d.x;\n    d.fy = d.y;\n  }\n\n  function dragged(event, d) {\n    d.fx = event.x;\n    d.fy = event.y;\n  }\n\n  function dragended(event, d) {\n    if (!event.active) simulation.alphaTarget(0);\n    d.fx = null;\n    d.fy = null;\n  }\n\n  return d3.drag()\n      .on(\"start\", dragstarted)\n      .on(\"drag\", dragged)\n      .on(\"end\", dragended);\n}\n\n}) })(element);\n\n(function(element) { require(['d3'], function(d3) {\n\n// set the dimensions and margins of the graph\nvar margin = {\"left\":40,\"bottom\":40,\"top\":40,\"right\":40},\n    width = 400 - margin.left - margin.right,\n    height = 247.218789 - margin.top - margin.bottom;\n\n// append the svg object to the body of the page\nvar svg = d3\n   .select(element.get(0))\n  .append(\"svg\")\n    .attr(\"width\", width + margin.left + margin.right)\n    .attr(\"height\", height + margin.top + margin.bottom)\n    .style(\"background\", \"1F1F1F\")\n  .append(\"g\")\n    .attr(\"transform\",\n          \"translate(\" + margin.left + \",\" + margin.top + \")\")\n\n// Obtain title\nvar title = \"CompleteKaryTree\"\nvar titleFontSize = 16\n\nif ( title.length > 0 ) {\n    svg.append(\"text\")\n        .attr(\"x\", (width / 2))\n        .attr(\"y\", 0 - (margin.top / 2))\n        .attr(\"text-anchor\", \"middle\")\n        .style(\"font-size\", titleFontSize.toString() + \"px\")\n        .style(\"fill\", \"Ivory\")\n        .text(title);\n}\n\nconst edges = [{\"label\":\"\",\"weight\":1,\"from\":\"3\",\"to\":\"11\"},{\"label\":\"\",\"weight\":1,\"to\":\"10\",\"from\":\"3\"},{\"label\":\"\",\"from\":\"3\",\"weight\":1,\"to\":\"0\"},{\"from\":\"3\",\"label\":\"\",\"to\":\"12\",\"weight\":1},{\"label\":\"\",\"weight\":1,\"from\":\"8\",\"to\":\"2\"},{\"weight\":1,\"from\":\"5\",\"label\":\"\",\"to\":\"1\"},{\"from\":\"7\",\"label\":\"\",\"weight\":1,\"to\":\"2\"},{\"weight\":1,\"label\":\"\",\"from\":\"9\",\"to\":\"2\"},{\"from\":\"4\",\"weight\":1,\"label\":\"\",\"to\":\"1\"},{\"label\":\"\",\"from\":\"6\",\"weight\":1,\"to\":\"1\"},{\"to\":\"0\",\"weight\":1,\"from\":\"2\",\"label\":\"\"},{\"from\":\"1\",\"label\":\"\",\"to\":\"0\",\"weight\":1}];\n\nconst nodes = Array.from(new Set(edges.flatMap(e => [e.from, e.to])), id => ({id}));\n\nconst highlightNodes = new Set([]);\n\nconst highlightLinkNodes = new Set([]);\n\nconst links = edges.map(e => ({\n  source: e.from,\n  target: e.to,\n  weight: e.weight,\n  label: e.label,\n  highlight: highlightLinkNodes.has(e.from + \"-\" + e.to)\n}));\n\n//.force(\"link\", d3.forceLink(links).id(d => d.id).distance(d => Math.max(d.weight * 20, 3 * 4)))\nconst simulation = d3.forceSimulation(nodes)\n    .force(\"link\", d3.forceLink(links).id(d => d.id).iterations(1))\n    .force(\"charge\", d3.forceManyBody().strength(-200).distanceMin(1).distanceMax(2000))\n    .force(\"x\", d3.forceX())\n    .force(\"y\", d3.forceY())\n    .force(\"collision\", d3.forceCollide())\n    .force(\"center\", d3.forceCenter(width / 2, height / 2));\n\nsvg.append('defs').append('marker')\n    .attr(\"id\",'arrowhead')\n    .attr('viewBox','-0 -5 10 10') //the bound of the SVG viewport for the current SVG fragment. defines a coordinate system 10 wide and 10 high starting on (0,-5)\n     .attr('refX', 11) // x coordinate for the reference point of the marker. If circle is bigger, this need to be bigger.\n     .attr('refY',0)\n     .attr('orient','auto')\n        .attr('markerWidth', 4)\n        .attr('markerHeight', 4)\n        .attr('xoverflow','visible')\n    .append('svg:path')\n    .attr('d', 'M 0,-5 L 10 ,0 L 0,5')\n    .attr('fill', \"SteelBlue\")\n    .style('stroke','none');\n\nconst link = svg.append(\"g\")\n    .attr(\"class\", \"links\")\n  .selectAll(\"line\")\n  .data(links)\n  .enter().append(\"line\")\n    .attr(\"class\", \"link\")\n    .attr(\"stroke\", d => d.highlight ? \"Orange\" : \"SteelBlue\")\n    .attr(\"stroke-width\", 2)\n    \n\nconst node = svg.append(\"g\")\n    .attr(\"class\", \"nodes\")\n  .selectAll(\"circle\")\n  .data(nodes)\n  .enter().append(\"circle\")\n    .attr(\"class\", \"node\")\n    .attr(\"r\", 3)\n    .attr(\"stroke\", d => highlightNodes.has(d.id) ? \"Orange\" : \"SteelBlue\")\n    .attr(\"fill\", d => highlightNodes.has(d.id) ?  \"Orange\" : \"SteelBlue\")\n    .call(drag(simulation));\n\nnode.append(\"title\")\n    .text(d => d.id);\n\nconst nodeLabel = svg.append(\"g\")\n    .attr(\"class\", \"node-labels\")\n  .selectAll(\"text\")\n  .data(nodes)\n  .enter().append(\"text\")\n    .attr(\"class\", \"node-label\")\n    .style(\"font-size\", 13)\n    .attr(\"font-family\", \"Courier\")\n    .attr(\"dy\", -10)\n    .attr('fill', \"Ivory\")\n    .attr('stroke', \"Ivory\")\n    .text(d => d.id);\n\nconst linkLabel = svg.append(\"g\")\n    .attr(\"class\", \"link-labels\")\n  .selectAll(\"text\")\n  .data(links)\n  .enter().append(\"text\")\n    .filter(d => d.label !== \"\")\n    .attr(\"class\", \"link-label\")\n    .style(\"font-size\", 13)\n    .attr(\"font-family\", \"Courier\")\n    .attr('fill', \"Ivory\")\n    .attr('stroke', \"Ivory\")\n    .text(d => d.label);\n\nsimulation.on(\"tick\", () => {\n  link\n      .attr(\"x1\", d => d.source.x)\n      .attr(\"y1\", d => d.source.y)\n      .attr(\"x2\", d => d.target.x)\n      .attr(\"y2\", d => d.target.y);\n\n  node\n      .attr(\"cx\", d => d.x)\n      .attr(\"cy\", d => d.y);\n\n  nodeLabel\n      .attr(\"x\", d => d.x)\n      .attr(\"y\", d => d.y);\n\n  linkLabel\n      .attr(\"x\", d => (d.source.x + d.target.x) / 2)\n      .attr(\"y\", d => (d.source.y + d.target.y) / 2);\n});\n\nfunction drag(simulation) {\n  function dragstarted(event, d) {\n    if (!event.active) simulation.alphaTarget(0.3).restart();\n    d.fx = d.x;\n    d.fy = d.y;\n  }\n\n  function dragged(event, d) {\n    d.fx = event.x;\n    d.fy = event.y;\n  }\n\n  function dragended(event, d) {\n    if (!event.active) simulation.alphaTarget(0);\n    d.fx = null;\n    d.fy = null;\n  }\n\n  return d3.drag()\n      .on(\"start\", dragstarted)\n      .on(\"drag\", dragged)\n      .on(\"end\", dragended);\n}\n\n}) })(element);\n\n(function(element) { require(['d3'], function(d3) {\n\n// set the dimensions and margins of the graph\nvar margin = {\"right\":40,\"bottom\":40,\"top\":40,\"left\":40},\n    width = 400 - margin.left - margin.right,\n    height = 247.218789 - margin.top - margin.bottom;\n\n// append the svg object to the body of the page\nvar svg = d3\n   .select(element.get(0))\n  .append(\"svg\")\n    .attr(\"width\", width + margin.left + margin.right)\n    .attr(\"height\", height + margin.top + margin.bottom)\n    .style(\"background\", \"1F1F1F\")\n  .append(\"g\")\n    .attr(\"transform\",\n          \"translate(\" + margin.left + \",\" + margin.top + \")\")\n\n// Obtain title\nvar title = \"Cycle\"\nvar titleFontSize = 16\n\nif ( title.length > 0 ) {\n    svg.append(\"text\")\n        .attr(\"x\", (width / 2))\n        .attr(\"y\", 0 - (margin.top / 2))\n        .attr(\"text-anchor\", \"middle\")\n        .style(\"font-size\", titleFontSize.toString() + \"px\")\n        .style(\"fill\", \"Ivory\")\n        .text(title);\n}\n\nconst edges = [{\"weight\":1,\"label\":\"\",\"to\":\"2\",\"from\":\"1\"},{\"from\":\"1\",\"label\":\"\",\"weight\":1,\"to\":\"0\"},{\"weight\":1,\"to\":\"6\",\"from\":\"7\",\"label\":\"\"},{\"to\":\"0\",\"weight\":1,\"label\":\"\",\"from\":\"7\"},{\"weight\":1,\"to\":\"3\",\"from\":\"4\",\"label\":\"\"},{\"to\":\"5\",\"label\":\"\",\"from\":\"4\",\"weight\":1},{\"from\":\"2\",\"label\":\"\",\"weight\":1,\"to\":\"3\"},{\"from\":\"6\",\"to\":\"5\",\"label\":\"\",\"weight\":1}];\n\nconst nodes = Array.from(new Set(edges.flatMap(e => [e.from, e.to])), id => ({id}));\n\nconst highlightNodes = new Set([]);\n\nconst highlightLinkNodes = new Set([]);\n\nconst links = edges.map(e => ({\n  source: e.from,\n  target: e.to,\n  weight: e.weight,\n  label: e.label,\n  highlight: highlightLinkNodes.has(e.from + \"-\" + e.to)\n}));\n\n//.force(\"link\", d3.forceLink(links).id(d => d.id).distance(d => Math.max(d.weight * 20, 3 * 4)))\nconst simulation = d3.forceSimulation(nodes)\n    .force(\"link\", d3.forceLink(links).id(d => d.id).iterations(1))\n    .force(\"charge\", d3.forceManyBody().strength(-200).distanceMin(1).distanceMax(2000))\n    .force(\"x\", d3.forceX())\n    .force(\"y\", d3.forceY())\n    .force(\"collision\", d3.forceCollide())\n    .force(\"center\", d3.forceCenter(width / 2, height / 2));\n\nsvg.append('defs').append('marker')\n    .attr(\"id\",'arrowhead')\n    .attr('viewBox','-0 -5 10 10') //the bound of the SVG viewport for the current SVG fragment. defines a coordinate system 10 wide and 10 high starting on (0,-5)\n     .attr('refX', 11) // x coordinate for the reference point of the marker. If circle is bigger, this need to be bigger.\n     .attr('refY',0)\n     .attr('orient','auto')\n        .attr('markerWidth', 4)\n        .attr('markerHeight', 4)\n        .attr('xoverflow','visible')\n    .append('svg:path')\n    .attr('d', 'M 0,-5 L 10 ,0 L 0,5')\n    .attr('fill', \"SteelBlue\")\n    .style('stroke','none');\n\nconst link = svg.append(\"g\")\n    .attr(\"class\", \"links\")\n  .selectAll(\"line\")\n  .data(links)\n  .enter().append(\"line\")\n    .attr(\"class\", \"link\")\n    .attr(\"stroke\", d => d.highlight ? \"Orange\" : \"SteelBlue\")\n    .attr(\"stroke-width\", 2)\n    \n\nconst node = svg.append(\"g\")\n    .attr(\"class\", \"nodes\")\n  .selectAll(\"circle\")\n  .data(nodes)\n  .enter().append(\"circle\")\n    .attr(\"class\", \"node\")\n    .attr(\"r\", 3)\n    .attr(\"stroke\", d => highlightNodes.has(d.id) ? \"Orange\" : \"SteelBlue\")\n    .attr(\"fill\", d => highlightNodes.has(d.id) ?  \"Orange\" : \"SteelBlue\")\n    .call(drag(simulation));\n\nnode.append(\"title\")\n    .text(d => d.id);\n\nconst nodeLabel = svg.append(\"g\")\n    .attr(\"class\", \"node-labels\")\n  .selectAll(\"text\")\n  .data(nodes)\n  .enter().append(\"text\")\n    .attr(\"class\", \"node-label\")\n    .style(\"font-size\", 13)\n    .attr(\"font-family\", \"Courier\")\n    .attr(\"dy\", -10)\n    .attr('fill', \"Ivory\")\n    .attr('stroke', \"Ivory\")\n    .text(d => d.id);\n\nconst linkLabel = svg.append(\"g\")\n    .attr(\"class\", \"link-labels\")\n  .selectAll(\"text\")\n  .data(links)\n  .enter().append(\"text\")\n    .filter(d => d.label !== \"\")\n    .attr(\"class\", \"link-label\")\n    .style(\"font-size\", 13)\n    .attr(\"font-family\", \"Courier\")\n    .attr('fill', \"Ivory\")\n    .attr('stroke', \"Ivory\")\n    .text(d => d.label);\n\nsimulation.on(\"tick\", () => {\n  link\n      .attr(\"x1\", d => d.source.x)\n      .attr(\"y1\", d => d.source.y)\n      .attr(\"x2\", d => d.target.x)\n      .attr(\"y2\", d => d.target.y);\n\n  node\n      .attr(\"cx\", d => d.x)\n      .attr(\"cy\", d => d.y);\n\n  nodeLabel\n      .attr(\"x\", d => d.x)\n      .attr(\"y\", d => d.y);\n\n  linkLabel\n      .attr(\"x\", d => (d.source.x + d.target.x) / 2)\n      .attr(\"y\", d => (d.source.y + d.target.y) / 2);\n});\n\nfunction drag(simulation) {\n  function dragstarted(event, d) {\n    if (!event.active) simulation.alphaTarget(0.3).restart();\n    d.fx = d.x;\n    d.fy = d.y;\n  }\n\n  function dragged(event, d) {\n    d.fx = event.x;\n    d.fy = event.y;\n  }\n\n  function dragended(event, d) {\n    if (!event.active) simulation.alphaTarget(0);\n    d.fx = null;\n    d.fy = null;\n  }\n\n  return d3.drag()\n      .on(\"start\", dragstarted)\n      .on(\"drag\", dragged)\n      .on(\"end\", dragended);\n}\n\n}) })(element);\n\n(function(element) { require(['d3'], function(d3) {\n\n// set the dimensions and margins of the graph\nvar margin = {\"bottom\":40,\"left\":40,\"top\":40,\"right\":40},\n    width = 400 - margin.left - margin.right,\n    height = 247.218789 - margin.top - margin.bottom;\n\n// append the svg object to the body of the page\nvar svg = d3\n   .select(element.get(0))\n  .append(\"svg\")\n    .attr(\"width\", width + margin.left + margin.right)\n    .attr(\"height\", height + margin.top + margin.bottom)\n    .style(\"background\", \"1F1F1F\")\n  .append(\"g\")\n    .attr(\"transform\",\n          \"translate(\" + margin.left + \",\" + margin.top + \")\")\n\n// Obtain title\nvar title = \"Grid\"\nvar titleFontSize = 16\n\nif ( title.length > 0 ) {\n    svg.append(\"text\")\n        .attr(\"x\", (width / 2))\n        .attr(\"y\", 0 - (margin.top / 2))\n        .attr(\"text-anchor\", \"middle\")\n        .style(\"font-size\", titleFontSize.toString() + \"px\")\n        .style(\"fill\", \"Ivory\")\n        .text(title);\n}\n\nconst edges = [{\"from\":\"1_0\",\"to\":\"2_0\",\"label\":\"\",\"weight\":1},{\"weight\":1,\"to\":\"0_0\",\"from\":\"1_0\",\"label\":\"\"},{\"to\":\"1_1\",\"from\":\"1_0\",\"label\":\"\",\"weight\":1},{\"to\":\"3_1\",\"weight\":1,\"from\":\"2_1\",\"label\":\"\"},{\"to\":\"2_0\",\"weight\":1,\"label\":\"\",\"from\":\"2_1\"},{\"to\":\"1_1\",\"weight\":1,\"from\":\"2_1\",\"label\":\"\"},{\"to\":\"2_2\",\"weight\":1,\"label\":\"\",\"from\":\"2_1\"},{\"to\":\"3_0\",\"from\":\"3_1\",\"weight\":1,\"label\":\"\"},{\"label\":\"\",\"weight\":1,\"from\":\"3_1\",\"to\":\"3_2\"},{\"to\":\"0_2\",\"label\":\"\",\"from\":\"0_1\",\"weight\":1},{\"label\":\"\",\"from\":\"0_1\",\"to\":\"0_0\",\"weight\":1},{\"to\":\"1_1\",\"from\":\"0_1\",\"weight\":1,\"label\":\"\"},{\"to\":\"3_2\",\"label\":\"\",\"weight\":1,\"from\":\"2_2\"},{\"label\":\"\",\"weight\":1,\"from\":\"2_2\",\"to\":\"1_2\"},{\"weight\":1,\"to\":\"0_2\",\"label\":\"\",\"from\":\"1_2\"},{\"from\":\"1_2\",\"weight\":1,\"to\":\"1_1\",\"label\":\"\"},{\"from\":\"3_0\",\"weight\":1,\"to\":\"2_0\",\"label\":\"\"}];\n\nconst nodes = Array.from(new Set(edges.flatMap(e => [e.from, e.to])), id => ({id}));\n\nconst highlightNodes = new Set([]);\n\nconst highlightLinkNodes = new Set([]);\n\nconst links = edges.map(e => ({\n  source: e.from,\n  target: e.to,\n  weight: e.weight,\n  label: e.label,\n  highlight: highlightLinkNodes.has(e.from + \"-\" + e.to)\n}));\n\n//.force(\"link\", d3.forceLink(links).id(d => d.id).distance(d => Math.max(d.weight * 20, 3 * 4)))\nconst simulation = d3.forceSimulation(nodes)\n    .force(\"link\", d3.forceLink(links).id(d => d.id).iterations(1))\n    .force(\"charge\", d3.forceManyBody().strength(-200).distanceMin(1).distanceMax(2000))\n    .force(\"x\", d3.forceX())\n    .force(\"y\", d3.forceY())\n    .force(\"collision\", d3.forceCollide())\n    .force(\"center\", d3.forceCenter(width / 2, height / 2));\n\nsvg.append('defs').append('marker')\n    .attr(\"id\",'arrowhead')\n    .attr('viewBox','-0 -5 10 10') //the bound of the SVG viewport for the current SVG fragment. defines a coordinate system 10 wide and 10 high starting on (0,-5)\n     .attr('refX', 11) // x coordinate for the reference point of the marker. If circle is bigger, this need to be bigger.\n     .attr('refY',0)\n     .attr('orient','auto')\n        .attr('markerWidth', 4)\n        .attr('markerHeight', 4)\n        .attr('xoverflow','visible')\n    .append('svg:path')\n    .attr('d', 'M 0,-5 L 10 ,0 L 0,5')\n    .attr('fill', \"SteelBlue\")\n    .style('stroke','none');\n\nconst link = svg.append(\"g\")\n    .attr(\"class\", \"links\")\n  .selectAll(\"line\")\n  .data(links)\n  .enter().append(\"line\")\n    .attr(\"class\", \"link\")\n    .attr(\"stroke\", d => d.highlight ? \"Orange\" : \"SteelBlue\")\n    .attr(\"stroke-width\", 2)\n    \n\nconst node = svg.append(\"g\")\n    .attr(\"class\", \"nodes\")\n  .selectAll(\"circle\")\n  .data(nodes)\n  .enter().append(\"circle\")\n    .attr(\"class\", \"node\")\n    .attr(\"r\", 3)\n    .attr(\"stroke\", d => highlightNodes.has(d.id) ? \"Orange\" : \"SteelBlue\")\n    .attr(\"fill\", d => highlightNodes.has(d.id) ?  \"Orange\" : \"SteelBlue\")\n    .call(drag(simulation));\n\nnode.append(\"title\")\n    .text(d => d.id);\n\nconst nodeLabel = svg.append(\"g\")\n    .attr(\"class\", \"node-labels\")\n  .selectAll(\"text\")\n  .data(nodes)\n  .enter().append(\"text\")\n    .attr(\"class\", \"node-label\")\n    .style(\"font-size\", 13)\n    .attr(\"font-family\", \"Courier\")\n    .attr(\"dy\", -10)\n    .attr('fill', \"Ivory\")\n    .attr('stroke', \"Ivory\")\n    .text(d => d.id);\n\nconst linkLabel = svg.append(\"g\")\n    .attr(\"class\", \"link-labels\")\n  .selectAll(\"text\")\n  .data(links)\n  .enter().append(\"text\")\n    .filter(d => d.label !== \"\")\n    .attr(\"class\", \"link-label\")\n    .style(\"font-size\", 13)\n    .attr(\"font-family\", \"Courier\")\n    .attr('fill', \"Ivory\")\n    .attr('stroke', \"Ivory\")\n    .text(d => d.label);\n\nsimulation.on(\"tick\", () => {\n  link\n      .attr(\"x1\", d => d.source.x)\n      .attr(\"y1\", d => d.source.y)\n      .attr(\"x2\", d => d.target.x)\n      .attr(\"y2\", d => d.target.y);\n\n  node\n      .attr(\"cx\", d => d.x)\n      .attr(\"cy\", d => d.y);\n\n  nodeLabel\n      .attr(\"x\", d => d.x)\n      .attr(\"y\", d => d.y);\n\n  linkLabel\n      .attr(\"x\", d => (d.source.x + d.target.x) / 2)\n      .attr(\"y\", d => (d.source.y + d.target.y) / 2);\n});\n\nfunction drag(simulation) {\n  function dragstarted(event, d) {\n    if (!event.active) simulation.alphaTarget(0.3).restart();\n    d.fx = d.x;\n    d.fy = d.y;\n  }\n\n  function dragged(event, d) {\n    d.fx = event.x;\n    d.fy = event.y;\n  }\n\n  function dragended(event, d) {\n    if (!event.active) simulation.alphaTarget(0);\n    d.fx = null;\n    d.fy = null;\n  }\n\n  return d3.drag()\n      .on(\"start\", dragstarted)\n      .on(\"drag\", dragged)\n      .on(\"end\", dragended);\n}\n\n}) })(element);\n\n(function(element) { require(['d3'], function(d3) {\n\n// set the dimensions and margins of the graph\nvar margin = {\"right\":40,\"bottom\":40,\"top\":40,\"left\":40},\n    width = 400 - margin.left - margin.right,\n    height = 247.218789 - margin.top - margin.bottom;\n\n// append the svg object to the body of the page\nvar svg = d3\n   .select(element.get(0))\n  .append(\"svg\")\n    .attr(\"width\", width + margin.left + margin.right)\n    .attr(\"height\", height + margin.top + margin.bottom)\n    .style(\"background\", \"1F1F1F\")\n  .append(\"g\")\n    .attr(\"transform\",\n          \"translate(\" + margin.left + \",\" + margin.top + \")\")\n\n// Obtain title\nvar title = \"Hypercube\"\nvar titleFontSize = 16\n\nif ( title.length > 0 ) {\n    svg.append(\"text\")\n        .attr(\"x\", (width / 2))\n        .attr(\"y\", 0 - (margin.top / 2))\n        .attr(\"text-anchor\", \"middle\")\n        .style(\"font-size\", titleFontSize.toString() + \"px\")\n        .style(\"fill\", \"Ivory\")\n        .text(title);\n}\n\nconst edges = [{\"label\":\"\",\"to\":\"11\",\"from\":\"01\",\"weight\":1},{\"to\":\"00\",\"weight\":1,\"label\":\"\",\"from\":\"01\"},{\"label\":\"\",\"from\":\"00\",\"to\":\"10\",\"weight\":1},{\"weight\":1,\"to\":\"11\",\"from\":\"10\",\"label\":\"\"}];\n\nconst nodes = Array.from(new Set(edges.flatMap(e => [e.from, e.to])), id => ({id}));\n\nconst highlightNodes = new Set([]);\n\nconst highlightLinkNodes = new Set([]);\n\nconst links = edges.map(e => ({\n  source: e.from,\n  target: e.to,\n  weight: e.weight,\n  label: e.label,\n  highlight: highlightLinkNodes.has(e.from + \"-\" + e.to)\n}));\n\n//.force(\"link\", d3.forceLink(links).id(d => d.id).distance(d => Math.max(d.weight * 20, 3 * 4)))\nconst simulation = d3.forceSimulation(nodes)\n    .force(\"link\", d3.forceLink(links).id(d => d.id).iterations(1))\n    .force(\"charge\", d3.forceManyBody().strength(-200).distanceMin(1).distanceMax(2000))\n    .force(\"x\", d3.forceX())\n    .force(\"y\", d3.forceY())\n    .force(\"collision\", d3.forceCollide())\n    .force(\"center\", d3.forceCenter(width / 2, height / 2));\n\nsvg.append('defs').append('marker')\n    .attr(\"id\",'arrowhead')\n    .attr('viewBox','-0 -5 10 10') //the bound of the SVG viewport for the current SVG fragment. defines a coordinate system 10 wide and 10 high starting on (0,-5)\n     .attr('refX', 11) // x coordinate for the reference point of the marker. If circle is bigger, this need to be bigger.\n     .attr('refY',0)\n     .attr('orient','auto')\n        .attr('markerWidth', 4)\n        .attr('markerHeight', 4)\n        .attr('xoverflow','visible')\n    .append('svg:path')\n    .attr('d', 'M 0,-5 L 10 ,0 L 0,5')\n    .attr('fill', \"SteelBlue\")\n    .style('stroke','none');\n\nconst link = svg.append(\"g\")\n    .attr(\"class\", \"links\")\n  .selectAll(\"line\")\n  .data(links)\n  .enter().append(\"line\")\n    .attr(\"class\", \"link\")\n    .attr(\"stroke\", d => d.highlight ? \"Orange\" : \"SteelBlue\")\n    .attr(\"stroke-width\", 2)\n    \n\nconst node = svg.append(\"g\")\n    .attr(\"class\", \"nodes\")\n  .selectAll(\"circle\")\n  .data(nodes)\n  .enter().append(\"circle\")\n    .attr(\"class\", \"node\")\n    .attr(\"r\", 3)\n    .attr(\"stroke\", d => highlightNodes.has(d.id) ? \"Orange\" : \"SteelBlue\")\n    .attr(\"fill\", d => highlightNodes.has(d.id) ?  \"Orange\" : \"SteelBlue\")\n    .call(drag(simulation));\n\nnode.append(\"title\")\n    .text(d => d.id);\n\nconst nodeLabel = svg.append(\"g\")\n    .attr(\"class\", \"node-labels\")\n  .selectAll(\"text\")\n  .data(nodes)\n  .enter().append(\"text\")\n    .attr(\"class\", \"node-label\")\n    .style(\"font-size\", 13)\n    .attr(\"font-family\", \"Courier\")\n    .attr(\"dy\", -10)\n    .attr('fill', \"Ivory\")\n    .attr('stroke', \"Ivory\")\n    .text(d => d.id);\n\nconst linkLabel = svg.append(\"g\")\n    .attr(\"class\", \"link-labels\")\n  .selectAll(\"text\")\n  .data(links)\n  .enter().append(\"text\")\n    .filter(d => d.label !== \"\")\n    .attr(\"class\", \"link-label\")\n    .style(\"font-size\", 13)\n    .attr(\"font-family\", \"Courier\")\n    .attr('fill', \"Ivory\")\n    .attr('stroke', \"Ivory\")\n    .text(d => d.label);\n\nsimulation.on(\"tick\", () => {\n  link\n      .attr(\"x1\", d => d.source.x)\n      .attr(\"y1\", d => d.source.y)\n      .attr(\"x2\", d => d.target.x)\n      .attr(\"y2\", d => d.target.y);\n\n  node\n      .attr(\"cx\", d => d.x)\n      .attr(\"cy\", d => d.y);\n\n  nodeLabel\n      .attr(\"x\", d => d.x)\n      .attr(\"y\", d => d.y);\n\n  linkLabel\n      .attr(\"x\", d => (d.source.x + d.target.x) / 2)\n      .attr(\"y\", d => (d.source.y + d.target.y) / 2);\n});\n\nfunction drag(simulation) {\n  function dragstarted(event, d) {\n    if (!event.active) simulation.alphaTarget(0.3).restart();\n    d.fx = d.x;\n    d.fy = d.y;\n  }\n\n  function dragged(event, d) {\n    d.fx = event.x;\n    d.fy = event.y;\n  }\n\n  function dragended(event, d) {\n    if (!event.active) simulation.alphaTarget(0);\n    d.fx = null;\n    d.fy = null;\n  }\n\n  return d3.drag()\n      .on(\"start\", dragstarted)\n      .on(\"drag\", dragged)\n      .on(\"end\", dragended);\n}\n\n}) })(element);\n\n(function(element) { require(['d3'], function(d3) {\n\n// set the dimensions and margins of the graph\nvar margin = {\"top\":40,\"right\":40,\"bottom\":40,\"left\":40},\n    width = 400 - margin.left - margin.right,\n    height = 247.218789 - margin.top - margin.bottom;\n\n// append the svg object to the body of the page\nvar svg = d3\n   .select(element.get(0))\n  .append(\"svg\")\n    .attr(\"width\", width + margin.left + margin.right)\n    .attr(\"height\", height + margin.top + margin.bottom)\n    .style(\"background\", \"1F1F1F\")\n  .append(\"g\")\n    .attr(\"transform\",\n          \"translate(\" + margin.left + \",\" + margin.top + \")\")\n\n// Obtain title\nvar title = \"KnightTour\"\nvar titleFontSize = 16\n\nif ( title.length > 0 ) {\n    svg.append(\"text\")\n        .attr(\"x\", (width / 2))\n        .attr(\"y\", 0 - (margin.top / 2))\n        .attr(\"text-anchor\", \"middle\")\n        .style(\"font-size\", titleFontSize.toString() + \"px\")\n        .style(\"fill\", \"Ivory\")\n        .text(title);\n}\n\nconst edges = [{\"from\":\"2_1\",\"to\":\"1_3\",\"weight\":1,\"label\":\"\"},{\"to\":\"0_0\",\"weight\":1,\"label\":\"\",\"from\":\"2_1\"},{\"to\":\"0_2\",\"from\":\"2_1\",\"weight\":1,\"label\":\"\"},{\"to\":\"3_3\",\"from\":\"2_1\",\"weight\":1,\"label\":\"\"},{\"label\":\"\",\"from\":\"2_4\",\"to\":\"0_3\",\"weight\":1},{\"label\":\"\",\"to\":\"3_2\",\"weight\":1,\"from\":\"2_4\"},{\"label\":\"\",\"to\":\"0_5\",\"weight\":1,\"from\":\"2_4\"},{\"to\":\"1_2\",\"from\":\"2_4\",\"weight\":1,\"label\":\"\"},{\"label\":\"\",\"to\":\"1_3\",\"weight\":1,\"from\":\"0_5\"},{\"label\":\"\",\"from\":\"3_2\",\"to\":\"1_3\",\"weight\":1},{\"to\":\"2_0\",\"label\":\"\",\"weight\":1,\"from\":\"3_2\"},{\"label\":\"\",\"to\":\"1_1\",\"from\":\"3_2\",\"weight\":1},{\"label\":\"\",\"from\":\"1_5\",\"to\":\"3_4\",\"weight\":1},{\"weight\":1,\"to\":\"0_3\",\"label\":\"\",\"from\":\"1_5\"},{\"label\":\"\",\"to\":\"2_3\",\"from\":\"1_5\",\"weight\":1},{\"weight\":1,\"label\":\"\",\"to\":\"3_1\",\"from\":\"2_3\"},{\"label\":\"\",\"from\":\"2_3\",\"to\":\"0_2\",\"weight\":1},{\"weight\":1,\"from\":\"2_3\",\"to\":\"3_5\",\"label\":\"\"},{\"from\":\"2_3\",\"to\":\"1_1\",\"label\":\"\",\"weight\":1},{\"from\":\"2_3\",\"label\":\"\",\"weight\":1,\"to\":\"0_4\"},{\"label\":\"\",\"to\":\"0_4\",\"weight\":1,\"from\":\"1_2\"},{\"from\":\"1_2\",\"label\":\"\",\"weight\":1,\"to\":\"3_3\"},{\"weight\":1,\"from\":\"1_2\",\"to\":\"0_0\",\"label\":\"\"},{\"weight\":1,\"label\":\"\",\"from\":\"1_2\",\"to\":\"3_1\"},{\"from\":\"1_2\",\"weight\":1,\"label\":\"\",\"to\":\"2_0\"},{\"weight\":1,\"label\":\"\",\"from\":\"0_2\",\"to\":\"1_0\"},{\"label\":\"\",\"from\":\"0_2\",\"weight\":1,\"to\":\"1_4\"},{\"to\":\"0_1\",\"label\":\"\",\"weight\":1,\"from\":\"1_3\"},{\"label\":\"\",\"from\":\"1_3\",\"weight\":1,\"to\":\"3_4\"},{\"label\":\"\",\"to\":\"2_5\",\"weight\":1,\"from\":\"1_3\"},{\"from\":\"0_1\",\"to\":\"2_2\",\"weight\":1,\"label\":\"\"},{\"to\":\"2_0\",\"label\":\"\",\"weight\":1,\"from\":\"0_1\"},{\"to\":\"2_5\",\"label\":\"\",\"from\":\"3_3\",\"weight\":1},{\"to\":\"1_4\",\"label\":\"\",\"from\":\"3_3\",\"weight\":1},{\"from\":\"2_2\",\"label\":\"\",\"to\":\"3_0\",\"weight\":1},{\"from\":\"2_2\",\"weight\":1,\"label\":\"\",\"to\":\"0_3\"},{\"to\":\"1_0\",\"from\":\"2_2\",\"weight\":1,\"label\":\"\"},{\"weight\":1,\"label\":\"\",\"from\":\"2_2\",\"to\":\"3_4\"},{\"to\":\"1_4\",\"weight\":1,\"label\":\"\",\"from\":\"2_2\"},{\"weight\":1,\"from\":\"1_4\",\"label\":\"\",\"to\":\"3_5\"},{\"label\":\"\",\"weight\":1,\"to\":\"0_4\",\"from\":\"2_5\"},{\"to\":\"1_1\",\"label\":\"\",\"from\":\"3_0\",\"weight\":1},{\"from\":\"0_3\",\"label\":\"\",\"weight\":1,\"to\":\"1_1\"},{\"label\":\"\",\"from\":\"3_1\",\"weight\":1,\"to\":\"1_0\"}];\n\nconst nodes = Array.from(new Set(edges.flatMap(e => [e.from, e.to])), id => ({id}));\n\nconst highlightNodes = new Set([]);\n\nconst highlightLinkNodes = new Set([]);\n\nconst links = edges.map(e => ({\n  source: e.from,\n  target: e.to,\n  weight: e.weight,\n  label: e.label,\n  highlight: highlightLinkNodes.has(e.from + \"-\" + e.to)\n}));\n\n//.force(\"link\", d3.forceLink(links).id(d => d.id).distance(d => Math.max(d.weight * 20, 3 * 4)))\nconst simulation = d3.forceSimulation(nodes)\n    .force(\"link\", d3.forceLink(links).id(d => d.id).iterations(1))\n    .force(\"charge\", d3.forceManyBody().strength(-200).distanceMin(1).distanceMax(2000))\n    .force(\"x\", d3.forceX())\n    .force(\"y\", d3.forceY())\n    .force(\"collision\", d3.forceCollide())\n    .force(\"center\", d3.forceCenter(width / 2, height / 2));\n\nsvg.append('defs').append('marker')\n    .attr(\"id\",'arrowhead')\n    .attr('viewBox','-0 -5 10 10') //the bound of the SVG viewport for the current SVG fragment. defines a coordinate system 10 wide and 10 high starting on (0,-5)\n     .attr('refX', 11) // x coordinate for the reference point of the marker. If circle is bigger, this need to be bigger.\n     .attr('refY',0)\n     .attr('orient','auto')\n        .attr('markerWidth', 4)\n        .attr('markerHeight', 4)\n        .attr('xoverflow','visible')\n    .append('svg:path')\n    .attr('d', 'M 0,-5 L 10 ,0 L 0,5')\n    .attr('fill', \"SteelBlue\")\n    .style('stroke','none');\n\nconst link = svg.append(\"g\")\n    .attr(\"class\", \"links\")\n  .selectAll(\"line\")\n  .data(links)\n  .enter().append(\"line\")\n    .attr(\"class\", \"link\")\n    .attr(\"stroke\", d => d.highlight ? \"Orange\" : \"SteelBlue\")\n    .attr(\"stroke-width\", 2)\n    \n\nconst node = svg.append(\"g\")\n    .attr(\"class\", \"nodes\")\n  .selectAll(\"circle\")\n  .data(nodes)\n  .enter().append(\"circle\")\n    .attr(\"class\", \"node\")\n    .attr(\"r\", 3)\n    .attr(\"stroke\", d => highlightNodes.has(d.id) ? \"Orange\" : \"SteelBlue\")\n    .attr(\"fill\", d => highlightNodes.has(d.id) ?  \"Orange\" : \"SteelBlue\")\n    .call(drag(simulation));\n\nnode.append(\"title\")\n    .text(d => d.id);\n\nconst nodeLabel = svg.append(\"g\")\n    .attr(\"class\", \"node-labels\")\n  .selectAll(\"text\")\n  .data(nodes)\n  .enter().append(\"text\")\n    .attr(\"class\", \"node-label\")\n    .style(\"font-size\", 13)\n    .attr(\"font-family\", \"Courier\")\n    .attr(\"dy\", -10)\n    .attr('fill', \"Ivory\")\n    .attr('stroke', \"Ivory\")\n    .text(d => d.id);\n\nconst linkLabel = svg.append(\"g\")\n    .attr(\"class\", \"link-labels\")\n  .selectAll(\"text\")\n  .data(links)\n  .enter().append(\"text\")\n    .filter(d => d.label !== \"\")\n    .attr(\"class\", \"link-label\")\n    .style(\"font-size\", 13)\n    .attr(\"font-family\", \"Courier\")\n    .attr('fill', \"Ivory\")\n    .attr('stroke', \"Ivory\")\n    .text(d => d.label);\n\nsimulation.on(\"tick\", () => {\n  link\n      .attr(\"x1\", d => d.source.x)\n      .attr(\"y1\", d => d.source.y)\n      .attr(\"x2\", d => d.target.x)\n      .attr(\"y2\", d => d.target.y);\n\n  node\n      .attr(\"cx\", d => d.x)\n      .attr(\"cy\", d => d.y);\n\n  nodeLabel\n      .attr(\"x\", d => d.x)\n      .attr(\"y\", d => d.y);\n\n  linkLabel\n      .attr(\"x\", d => (d.source.x + d.target.x) / 2)\n      .attr(\"y\", d => (d.source.y + d.target.y) / 2);\n});\n\nfunction drag(simulation) {\n  function dragstarted(event, d) {\n    if (!event.active) simulation.alphaTarget(0.3).restart();\n    d.fx = d.x;\n    d.fy = d.y;\n  }\n\n  function dragged(event, d) {\n    d.fx = event.x;\n    d.fy = event.y;\n  }\n\n  function dragended(event, d) {\n    if (!event.active) simulation.alphaTarget(0);\n    d.fx = null;\n    d.fy = null;\n  }\n\n  return d3.drag()\n      .on(\"start\", dragstarted)\n      .on(\"drag\", dragged)\n      .on(\"end\", dragended);\n}\n\n}) })(element);\n\n(function(element) { require(['d3'], function(d3) {\n\n// set the dimensions and margins of the graph\nvar margin = {\"top\":40,\"left\":40,\"bottom\":40,\"right\":40},\n    width = 400 - margin.left - margin.right,\n    height = 247.218789 - margin.top - margin.bottom;\n\n// append the svg object to the body of the page\nvar svg = d3\n   .select(element.get(0))\n  .append(\"svg\")\n    .attr(\"width\", width + margin.left + margin.right)\n    .attr(\"height\", height + margin.top + margin.bottom)\n    .style(\"background\", \"1F1F1F\")\n  .append(\"g\")\n    .attr(\"transform\",\n          \"translate(\" + margin.left + \",\" + margin.top + \")\")\n\n// Obtain title\nvar title = \"Path\"\nvar titleFontSize = 16\n\nif ( title.length > 0 ) {\n    svg.append(\"text\")\n        .attr(\"x\", (width / 2))\n        .attr(\"y\", 0 - (margin.top / 2))\n        .attr(\"text-anchor\", \"middle\")\n        .style(\"font-size\", titleFontSize.toString() + \"px\")\n        .style(\"fill\", \"Ivory\")\n        .text(title);\n}\n\nconst edges = [{\"from\":\"e\",\"to\":\"f\",\"label\":\"\",\"weight\":1},{\"from\":\"f\",\"weight\":1,\"to\":\"g\",\"label\":\"\"},{\"weight\":1,\"to\":\"e\",\"from\":\"d\",\"label\":\"\"},{\"from\":\"a\",\"weight\":1,\"to\":\"b\",\"label\":\"\"},{\"from\":\"c\",\"label\":\"\",\"weight\":1,\"to\":\"d\"},{\"from\":\"b\",\"weight\":1,\"label\":\"\",\"to\":\"c\"}];\n\nconst nodes = Array.from(new Set(edges.flatMap(e => [e.from, e.to])), id => ({id}));\n\nconst highlightNodes = new Set([]);\n\nconst highlightLinkNodes = new Set([]);\n\nconst links = edges.map(e => ({\n  source: e.from,\n  target: e.to,\n  weight: e.weight,\n  label: e.label,\n  highlight: highlightLinkNodes.has(e.from + \"-\" + e.to)\n}));\n\n//.force(\"link\", d3.forceLink(links).id(d => d.id).distance(d => Math.max(d.weight * 20, 3 * 4)))\nconst simulation = d3.forceSimulation(nodes)\n    .force(\"link\", d3.forceLink(links).id(d => d.id).iterations(1))\n    .force(\"charge\", d3.forceManyBody().strength(-200).distanceMin(1).distanceMax(2000))\n    .force(\"x\", d3.forceX())\n    .force(\"y\", d3.forceY())\n    .force(\"collision\", d3.forceCollide())\n    .force(\"center\", d3.forceCenter(width / 2, height / 2));\n\nsvg.append('defs').append('marker')\n    .attr(\"id\",'arrowhead')\n    .attr('viewBox','-0 -5 10 10') //the bound of the SVG viewport for the current SVG fragment. defines a coordinate system 10 wide and 10 high starting on (0,-5)\n     .attr('refX', 11) // x coordinate for the reference point of the marker. If circle is bigger, this need to be bigger.\n     .attr('refY',0)\n     .attr('orient','auto')\n        .attr('markerWidth', 4)\n        .attr('markerHeight', 4)\n        .attr('xoverflow','visible')\n    .append('svg:path')\n    .attr('d', 'M 0,-5 L 10 ,0 L 0,5')\n    .attr('fill', \"SteelBlue\")\n    .style('stroke','none');\n\nconst link = svg.append(\"g\")\n    .attr(\"class\", \"links\")\n  .selectAll(\"line\")\n  .data(links)\n  .enter().append(\"line\")\n    .attr(\"class\", \"link\")\n    .attr(\"stroke\", d => d.highlight ? \"Orange\" : \"SteelBlue\")\n    .attr(\"stroke-width\", 2)\n    .attr('marker-end','url(#arrowhead)')\n\nconst node = svg.append(\"g\")\n    .attr(\"class\", \"nodes\")\n  .selectAll(\"circle\")\n  .data(nodes)\n  .enter().append(\"circle\")\n    .attr(\"class\", \"node\")\n    .attr(\"r\", 3)\n    .attr(\"stroke\", d => highlightNodes.has(d.id) ? \"Orange\" : \"SteelBlue\")\n    .attr(\"fill\", d => highlightNodes.has(d.id) ?  \"Orange\" : \"SteelBlue\")\n    .call(drag(simulation));\n\nnode.append(\"title\")\n    .text(d => d.id);\n\nconst nodeLabel = svg.append(\"g\")\n    .attr(\"class\", \"node-labels\")\n  .selectAll(\"text\")\n  .data(nodes)\n  .enter().append(\"text\")\n    .attr(\"class\", \"node-label\")\n    .style(\"font-size\", 13)\n    .attr(\"font-family\", \"Courier\")\n    .attr(\"dy\", -10)\n    .attr('fill', \"Ivory\")\n    .attr('stroke', \"Ivory\")\n    .text(d => d.id);\n\nconst linkLabel = svg.append(\"g\")\n    .attr(\"class\", \"link-labels\")\n  .selectAll(\"text\")\n  .data(links)\n  .enter().append(\"text\")\n    .filter(d => d.label !== \"\")\n    .attr(\"class\", \"link-label\")\n    .style(\"font-size\", 13)\n    .attr(\"font-family\", \"Courier\")\n    .attr('fill', \"Ivory\")\n    .attr('stroke', \"Ivory\")\n    .text(d => d.label);\n\nsimulation.on(\"tick\", () => {\n  link\n      .attr(\"x1\", d => d.source.x)\n      .attr(\"y1\", d => d.source.y)\n      .attr(\"x2\", d => d.target.x)\n      .attr(\"y2\", d => d.target.y);\n\n  node\n      .attr(\"cx\", d => d.x)\n      .attr(\"cy\", d => d.y);\n\n  nodeLabel\n      .attr(\"x\", d => d.x)\n      .attr(\"y\", d => d.y);\n\n  linkLabel\n      .attr(\"x\", d => (d.source.x + d.target.x) / 2)\n      .attr(\"y\", d => (d.source.y + d.target.y) / 2);\n});\n\nfunction drag(simulation) {\n  function dragstarted(event, d) {\n    if (!event.active) simulation.alphaTarget(0.3).restart();\n    d.fx = d.x;\n    d.fy = d.y;\n  }\n\n  function dragged(event, d) {\n    d.fx = event.x;\n    d.fy = event.y;\n  }\n\n  function dragended(event, d) {\n    if (!event.active) simulation.alphaTarget(0);\n    d.fx = null;\n    d.fy = null;\n  }\n\n  return d3.drag()\n      .on(\"start\", dragstarted)\n      .on(\"drag\", dragged)\n      .on(\"end\", dragended);\n}\n\n}) })(element);\n\n(function(element) { require(['d3'], function(d3) {\n\n// set the dimensions and margins of the graph\nvar margin = {\"right\":40,\"bottom\":40,\"left\":40,\"top\":40},\n    width = 400 - margin.left - margin.right,\n    height = 247.218789 - margin.top - margin.bottom;\n\n// append the svg object to the body of the page\nvar svg = d3\n   .select(element.get(0))\n  .append(\"svg\")\n    .attr(\"width\", width + margin.left + margin.right)\n    .attr(\"height\", height + margin.top + margin.bottom)\n    .style(\"background\", \"1F1F1F\")\n  .append(\"g\")\n    .attr(\"transform\",\n          \"translate(\" + margin.left + \",\" + margin.top + \")\")\n\n// Obtain title\nvar title = \"Petersen\"\nvar titleFontSize = 16\n\nif ( title.length > 0 ) {\n    svg.append(\"text\")\n        .attr(\"x\", (width / 2))\n        .attr(\"y\", 0 - (margin.top / 2))\n        .attr(\"text-anchor\", \"middle\")\n        .style(\"font-size\", titleFontSize.toString() + \"px\")\n        .style(\"fill\", \"Ivory\")\n        .text(title);\n}\n\nconst edges = [{\"from\":\"5\",\"weight\":1,\"label\":\"\",\"to\":\"9\"},{\"to\":\"6\",\"from\":\"5\",\"weight\":1,\"label\":\"\"},{\"from\":\"5\",\"label\":\"\",\"to\":\"0\",\"weight\":1},{\"label\":\"\",\"weight\":1,\"to\":\"4\",\"from\":\"1\"},{\"to\":\"3\",\"label\":\"\",\"weight\":1,\"from\":\"1\"},{\"weight\":1,\"from\":\"1\",\"to\":\"6\",\"label\":\"\"},{\"to\":\"8\",\"label\":\"\",\"from\":\"9\",\"weight\":1},{\"from\":\"9\",\"to\":\"4\",\"label\":\"\",\"weight\":1},{\"label\":\"\",\"from\":\"8\",\"weight\":1,\"to\":\"7\"},{\"to\":\"3\",\"weight\":1,\"label\":\"\",\"from\":\"8\"},{\"label\":\"\",\"from\":\"0\",\"weight\":1,\"to\":\"2\"},{\"label\":\"\",\"from\":\"0\",\"to\":\"3\",\"weight\":1},{\"to\":\"2\",\"from\":\"4\",\"label\":\"\",\"weight\":1},{\"label\":\"\",\"weight\":1,\"from\":\"6\",\"to\":\"7\"},{\"weight\":1,\"from\":\"7\",\"to\":\"2\",\"label\":\"\"}];\n\nconst nodes = Array.from(new Set(edges.flatMap(e => [e.from, e.to])), id => ({id}));\n\nconst highlightNodes = new Set([]);\n\nconst highlightLinkNodes = new Set([]);\n\nconst links = edges.map(e => ({\n  source: e.from,\n  target: e.to,\n  weight: e.weight,\n  label: e.label,\n  highlight: highlightLinkNodes.has(e.from + \"-\" + e.to)\n}));\n\n//.force(\"link\", d3.forceLink(links).id(d => d.id).distance(d => Math.max(d.weight * 20, 3 * 4)))\nconst simulation = d3.forceSimulation(nodes)\n    .force(\"link\", d3.forceLink(links).id(d => d.id).iterations(1))\n    .force(\"charge\", d3.forceManyBody().strength(-200).distanceMin(1).distanceMax(2000))\n    .force(\"x\", d3.forceX())\n    .force(\"y\", d3.forceY())\n    .force(\"collision\", d3.forceCollide())\n    .force(\"center\", d3.forceCenter(width / 2, height / 2));\n\nsvg.append('defs').append('marker')\n    .attr(\"id\",'arrowhead')\n    .attr('viewBox','-0 -5 10 10') //the bound of the SVG viewport for the current SVG fragment. defines a coordinate system 10 wide and 10 high starting on (0,-5)\n     .attr('refX', 11) // x coordinate for the reference point of the marker. If circle is bigger, this need to be bigger.\n     .attr('refY',0)\n     .attr('orient','auto')\n        .attr('markerWidth', 4)\n        .attr('markerHeight', 4)\n        .attr('xoverflow','visible')\n    .append('svg:path')\n    .attr('d', 'M 0,-5 L 10 ,0 L 0,5')\n    .attr('fill', \"SteelBlue\")\n    .style('stroke','none');\n\nconst link = svg.append(\"g\")\n    .attr(\"class\", \"links\")\n  .selectAll(\"line\")\n  .data(links)\n  .enter().append(\"line\")\n    .attr(\"class\", \"link\")\n    .attr(\"stroke\", d => d.highlight ? \"Orange\" : \"SteelBlue\")\n    .attr(\"stroke-width\", 2)\n    \n\nconst node = svg.append(\"g\")\n    .attr(\"class\", \"nodes\")\n  .selectAll(\"circle\")\n  .data(nodes)\n  .enter().append(\"circle\")\n    .attr(\"class\", \"node\")\n    .attr(\"r\", 3)\n    .attr(\"stroke\", d => highlightNodes.has(d.id) ? \"Orange\" : \"SteelBlue\")\n    .attr(\"fill\", d => highlightNodes.has(d.id) ?  \"Orange\" : \"SteelBlue\")\n    .call(drag(simulation));\n\nnode.append(\"title\")\n    .text(d => d.id);\n\nconst nodeLabel = svg.append(\"g\")\n    .attr(\"class\", \"node-labels\")\n  .selectAll(\"text\")\n  .data(nodes)\n  .enter().append(\"text\")\n    .attr(\"class\", \"node-label\")\n    .style(\"font-size\", 13)\n    .attr(\"font-family\", \"Courier\")\n    .attr(\"dy\", -10)\n    .attr('fill', \"Ivory\")\n    .attr('stroke', \"Ivory\")\n    .text(d => d.id);\n\nconst linkLabel = svg.append(\"g\")\n    .attr(\"class\", \"link-labels\")\n  .selectAll(\"text\")\n  .data(links)\n  .enter().append(\"text\")\n    .filter(d => d.label !== \"\")\n    .attr(\"class\", \"link-label\")\n    .style(\"font-size\", 13)\n    .attr(\"font-family\", \"Courier\")\n    .attr('fill', \"Ivory\")\n    .attr('stroke', \"Ivory\")\n    .text(d => d.label);\n\nsimulation.on(\"tick\", () => {\n  link\n      .attr(\"x1\", d => d.source.x)\n      .attr(\"y1\", d => d.source.y)\n      .attr(\"x2\", d => d.target.x)\n      .attr(\"y2\", d => d.target.y);\n\n  node\n      .attr(\"cx\", d => d.x)\n      .attr(\"cy\", d => d.y);\n\n  nodeLabel\n      .attr(\"x\", d => d.x)\n      .attr(\"y\", d => d.y);\n\n  linkLabel\n      .attr(\"x\", d => (d.source.x + d.target.x) / 2)\n      .attr(\"y\", d => (d.source.y + d.target.y) / 2);\n});\n\nfunction drag(simulation) {\n  function dragstarted(event, d) {\n    if (!event.active) simulation.alphaTarget(0.3).restart();\n    d.fx = d.x;\n    d.fy = d.y;\n  }\n\n  function dragged(event, d) {\n    d.fx = event.x;\n    d.fy = event.y;\n  }\n\n  function dragended(event, d) {\n    if (!event.active) simulation.alphaTarget(0);\n    d.fx = null;\n    d.fy = null;\n  }\n\n  return d3.drag()\n      .on(\"start\", dragstarted)\n      .on(\"drag\", dragged)\n      .on(\"end\", dragended);\n}\n\n}) })(element);\n\n(function(element) { require(['d3'], function(d3) {\n\n// set the dimensions and margins of the graph\nvar margin = {\"left\":40,\"right\":40,\"bottom\":40,\"top\":40},\n    width = 400 - margin.left - margin.right,\n    height = 247.218789 - margin.top - margin.bottom;\n\n// append the svg object to the body of the page\nvar svg = d3\n   .select(element.get(0))\n  .append(\"svg\")\n    .attr(\"width\", width + margin.left + margin.right)\n    .attr(\"height\", height + margin.top + margin.bottom)\n    .style(\"background\", \"1F1F1F\")\n  .append(\"g\")\n    .attr(\"transform\",\n          \"translate(\" + margin.left + \",\" + margin.top + \")\")\n\n// Obtain title\nvar title = \"Price's model\"\nvar titleFontSize = 16\n\nif ( title.length > 0 ) {\n    svg.append(\"text\")\n        .attr(\"x\", (width / 2))\n        .attr(\"y\", 0 - (margin.top / 2))\n        .attr(\"text-anchor\", \"middle\")\n        .style(\"font-size\", titleFontSize.toString() + \"px\")\n        .style(\"fill\", \"Ivory\")\n        .text(title);\n}\n\nconst edges = [{\"weight\":1,\"to\":\"0\",\"from\":\"4\",\"label\":\"\"},{\"to\":\"0\",\"from\":\"2\",\"label\":\"\",\"weight\":1},{\"label\":\"\",\"weight\":1,\"from\":\"13\",\"to\":\"7\"},{\"label\":\"\",\"weight\":1,\"to\":\"0\",\"from\":\"13\"},{\"from\":\"5\",\"to\":\"0\",\"label\":\"\",\"weight\":1},{\"weight\":1,\"to\":\"4\",\"from\":\"5\",\"label\":\"\"},{\"weight\":1,\"label\":\"\",\"to\":\"5\",\"from\":\"11\"},{\"to\":\"7\",\"from\":\"12\",\"label\":\"\",\"weight\":1},{\"label\":\"\",\"from\":\"12\",\"to\":\"2\",\"weight\":1},{\"to\":\"5\",\"label\":\"\",\"weight\":1,\"from\":\"8\"},{\"from\":\"8\",\"to\":\"3\",\"weight\":1,\"label\":\"\"},{\"weight\":1,\"from\":\"9\",\"label\":\"\",\"to\":\"0\"},{\"weight\":1,\"label\":\"\",\"to\":\"7\",\"from\":\"9\"},{\"to\":\"5\",\"weight\":1,\"label\":\"\",\"from\":\"7\"},{\"weight\":1,\"label\":\"\",\"to\":\"2\",\"from\":\"7\"},{\"from\":\"14\",\"to\":\"4\",\"weight\":1,\"label\":\"\"},{\"label\":\"\",\"weight\":1,\"to\":\"7\",\"from\":\"14\"},{\"label\":\"\",\"to\":\"3\",\"weight\":1,\"from\":\"6\"},{\"to\":\"4\",\"label\":\"\",\"weight\":1,\"from\":\"6\"},{\"label\":\"\",\"weight\":1,\"to\":\"0\",\"from\":\"3\"},{\"from\":\"3\",\"label\":\"\",\"to\":\"2\",\"weight\":1},{\"weight\":1,\"label\":\"\",\"from\":\"10\",\"to\":\"7\"},{\"label\":\"\",\"from\":\"10\",\"weight\":1,\"to\":\"5\"}];\n\nconst nodes = Array.from(new Set(edges.flatMap(e => [e.from, e.to])), id => ({id}));\n\nconst highlightNodes = new Set([]);\n\nconst highlightLinkNodes = new Set([]);\n\nconst links = edges.map(e => ({\n  source: e.from,\n  target: e.to,\n  weight: e.weight,\n  label: e.label,\n  highlight: highlightLinkNodes.has(e.from + \"-\" + e.to)\n}));\n\n//.force(\"link\", d3.forceLink(links).id(d => d.id).distance(d => Math.max(d.weight * 20, 3 * 4)))\nconst simulation = d3.forceSimulation(nodes)\n    .force(\"link\", d3.forceLink(links).id(d => d.id).iterations(1))\n    .force(\"charge\", d3.forceManyBody().strength(-200).distanceMin(1).distanceMax(2000))\n    .force(\"x\", d3.forceX())\n    .force(\"y\", d3.forceY())\n    .force(\"collision\", d3.forceCollide())\n    .force(\"center\", d3.forceCenter(width / 2, height / 2));\n\nsvg.append('defs').append('marker')\n    .attr(\"id\",'arrowhead')\n    .attr('viewBox','-0 -5 10 10') //the bound of the SVG viewport for the current SVG fragment. defines a coordinate system 10 wide and 10 high starting on (0,-5)\n     .attr('refX', 11) // x coordinate for the reference point of the marker. If circle is bigger, this need to be bigger.\n     .attr('refY',0)\n     .attr('orient','auto')\n        .attr('markerWidth', 4)\n        .attr('markerHeight', 4)\n        .attr('xoverflow','visible')\n    .append('svg:path')\n    .attr('d', 'M 0,-5 L 10 ,0 L 0,5')\n    .attr('fill', \"SteelBlue\")\n    .style('stroke','none');\n\nconst link = svg.append(\"g\")\n    .attr(\"class\", \"links\")\n  .selectAll(\"line\")\n  .data(links)\n  .enter().append(\"line\")\n    .attr(\"class\", \"link\")\n    .attr(\"stroke\", d => d.highlight ? \"Orange\" : \"SteelBlue\")\n    .attr(\"stroke-width\", 2)\n    .attr('marker-end','url(#arrowhead)')\n\nconst node = svg.append(\"g\")\n    .attr(\"class\", \"nodes\")\n  .selectAll(\"circle\")\n  .data(nodes)\n  .enter().append(\"circle\")\n    .attr(\"class\", \"node\")\n    .attr(\"r\", 3)\n    .attr(\"stroke\", d => highlightNodes.has(d.id) ? \"Orange\" : \"SteelBlue\")\n    .attr(\"fill\", d => highlightNodes.has(d.id) ?  \"Orange\" : \"SteelBlue\")\n    .call(drag(simulation));\n\nnode.append(\"title\")\n    .text(d => d.id);\n\nconst nodeLabel = svg.append(\"g\")\n    .attr(\"class\", \"node-labels\")\n  .selectAll(\"text\")\n  .data(nodes)\n  .enter().append(\"text\")\n    .attr(\"class\", \"node-label\")\n    .style(\"font-size\", 13)\n    .attr(\"font-family\", \"Courier\")\n    .attr(\"dy\", -10)\n    .attr('fill', \"Ivory\")\n    .attr('stroke', \"Ivory\")\n    .text(d => d.id);\n\nconst linkLabel = svg.append(\"g\")\n    .attr(\"class\", \"link-labels\")\n  .selectAll(\"text\")\n  .data(links)\n  .enter().append(\"text\")\n    .filter(d => d.label !== \"\")\n    .attr(\"class\", \"link-label\")\n    .style(\"font-size\", 13)\n    .attr(\"font-family\", \"Courier\")\n    .attr('fill', \"Ivory\")\n    .attr('stroke', \"Ivory\")\n    .text(d => d.label);\n\nsimulation.on(\"tick\", () => {\n  link\n      .attr(\"x1\", d => d.source.x)\n      .attr(\"y1\", d => d.source.y)\n      .attr(\"x2\", d => d.target.x)\n      .attr(\"y2\", d => d.target.y);\n\n  node\n      .attr(\"cx\", d => d.x)\n      .attr(\"cy\", d => d.y);\n\n  nodeLabel\n      .attr(\"x\", d => d.x)\n      .attr(\"y\", d => d.y);\n\n  linkLabel\n      .attr(\"x\", d => (d.source.x + d.target.x) / 2)\n      .attr(\"y\", d => (d.source.y + d.target.y) / 2);\n});\n\nfunction drag(simulation) {\n  function dragstarted(event, d) {\n    if (!event.active) simulation.alphaTarget(0.3).restart();\n    d.fx = d.x;\n    d.fy = d.y;\n  }\n\n  function dragged(event, d) {\n    d.fx = event.x;\n    d.fy = event.y;\n  }\n\n  function dragended(event, d) {\n    if (!event.active) simulation.alphaTarget(0);\n    d.fx = null;\n    d.fy = null;\n  }\n\n  return d3.drag()\n      .on(\"start\", dragstarted)\n      .on(\"drag\", dragged)\n      .on(\"end\", dragended);\n}\n\n}) })(element);\n\n(function(element) { require(['d3'], function(d3) {\n\n// set the dimensions and margins of the graph\nvar margin = {\"bottom\":40,\"top\":40,\"right\":40,\"left\":40},\n    width = 400 - margin.left - margin.right,\n    height = 247.218789 - margin.top - margin.bottom;\n\n// append the svg object to the body of the page\nvar svg = d3\n   .select(element.get(0))\n  .append(\"svg\")\n    .attr(\"width\", width + margin.left + margin.right)\n    .attr(\"height\", height + margin.top + margin.bottom)\n    .style(\"background\", \"1F1F1F\")\n  .append(\"g\")\n    .attr(\"transform\",\n          \"translate(\" + margin.left + \",\" + margin.top + \")\")\n\n// Obtain title\nvar title = \"Random\"\nvar titleFontSize = 16\n\nif ( title.length > 0 ) {\n    svg.append(\"text\")\n        .attr(\"x\", (width / 2))\n        .attr(\"y\", 0 - (margin.top / 2))\n        .attr(\"text-anchor\", \"middle\")\n        .style(\"font-size\", titleFontSize.toString() + \"px\")\n        .style(\"fill\", \"Ivory\")\n        .text(title);\n}\n\nconst edges = [{\"weight\":1,\"from\":\"6\",\"to\":\"10\",\"label\":\"\"},{\"to\":\"1\",\"label\":\"\",\"from\":\"4\",\"weight\":1},{\"from\":\"7\",\"weight\":1,\"label\":\"\",\"to\":\"2\"},{\"from\":\"7\",\"weight\":1,\"to\":\"8\",\"label\":\"\"},{\"from\":\"8\",\"weight\":1,\"to\":\"9\",\"label\":\"\"},{\"from\":\"8\",\"to\":\"3\",\"label\":\"\",\"weight\":1},{\"label\":\"\",\"weight\":1,\"to\":\"2\",\"from\":\"5\"},{\"from\":\"2\",\"weight\":1,\"to\":\"3\",\"label\":\"\"},{\"to\":\"1\",\"weight\":1,\"from\":\"2\",\"label\":\"\"},{\"to\":\"9\",\"from\":\"1\",\"label\":\"\",\"weight\":1},{\"from\":\"3\",\"label\":\"\",\"weight\":1,\"to\":\"10\"}];\n\nconst nodes = Array.from(new Set(edges.flatMap(e => [e.from, e.to])), id => ({id}));\n\nconst highlightNodes = new Set([]);\n\nconst highlightLinkNodes = new Set([]);\n\nconst links = edges.map(e => ({\n  source: e.from,\n  target: e.to,\n  weight: e.weight,\n  label: e.label,\n  highlight: highlightLinkNodes.has(e.from + \"-\" + e.to)\n}));\n\n//.force(\"link\", d3.forceLink(links).id(d => d.id).distance(d => Math.max(d.weight * 20, 3 * 4)))\nconst simulation = d3.forceSimulation(nodes)\n    .force(\"link\", d3.forceLink(links).id(d => d.id).iterations(1))\n    .force(\"charge\", d3.forceManyBody().strength(-200).distanceMin(1).distanceMax(2000))\n    .force(\"x\", d3.forceX())\n    .force(\"y\", d3.forceY())\n    .force(\"collision\", d3.forceCollide())\n    .force(\"center\", d3.forceCenter(width / 2, height / 2));\n\nsvg.append('defs').append('marker')\n    .attr(\"id\",'arrowhead')\n    .attr('viewBox','-0 -5 10 10') //the bound of the SVG viewport for the current SVG fragment. defines a coordinate system 10 wide and 10 high starting on (0,-5)\n     .attr('refX', 11) // x coordinate for the reference point of the marker. If circle is bigger, this need to be bigger.\n     .attr('refY',0)\n     .attr('orient','auto')\n        .attr('markerWidth', 4)\n        .attr('markerHeight', 4)\n        .attr('xoverflow','visible')\n    .append('svg:path')\n    .attr('d', 'M 0,-5 L 10 ,0 L 0,5')\n    .attr('fill', \"SteelBlue\")\n    .style('stroke','none');\n\nconst link = svg.append(\"g\")\n    .attr(\"class\", \"links\")\n  .selectAll(\"line\")\n  .data(links)\n  .enter().append(\"line\")\n    .attr(\"class\", \"link\")\n    .attr(\"stroke\", d => d.highlight ? \"Orange\" : \"SteelBlue\")\n    .attr(\"stroke-width\", 2)\n    \n\nconst node = svg.append(\"g\")\n    .attr(\"class\", \"nodes\")\n  .selectAll(\"circle\")\n  .data(nodes)\n  .enter().append(\"circle\")\n    .attr(\"class\", \"node\")\n    .attr(\"r\", 3)\n    .attr(\"stroke\", d => highlightNodes.has(d.id) ? \"Orange\" : \"SteelBlue\")\n    .attr(\"fill\", d => highlightNodes.has(d.id) ?  \"Orange\" : \"SteelBlue\")\n    .call(drag(simulation));\n\nnode.append(\"title\")\n    .text(d => d.id);\n\nconst nodeLabel = svg.append(\"g\")\n    .attr(\"class\", \"node-labels\")\n  .selectAll(\"text\")\n  .data(nodes)\n  .enter().append(\"text\")\n    .attr(\"class\", \"node-label\")\n    .style(\"font-size\", 13)\n    .attr(\"font-family\", \"Courier\")\n    .attr(\"dy\", -10)\n    .attr('fill', \"Ivory\")\n    .attr('stroke', \"Ivory\")\n    .text(d => d.id);\n\nconst linkLabel = svg.append(\"g\")\n    .attr(\"class\", \"link-labels\")\n  .selectAll(\"text\")\n  .data(links)\n  .enter().append(\"text\")\n    .filter(d => d.label !== \"\")\n    .attr(\"class\", \"link-label\")\n    .style(\"font-size\", 13)\n    .attr(\"font-family\", \"Courier\")\n    .attr('fill', \"Ivory\")\n    .attr('stroke', \"Ivory\")\n    .text(d => d.label);\n\nsimulation.on(\"tick\", () => {\n  link\n      .attr(\"x1\", d => d.source.x)\n      .attr(\"y1\", d => d.source.y)\n      .attr(\"x2\", d => d.target.x)\n      .attr(\"y2\", d => d.target.y);\n\n  node\n      .attr(\"cx\", d => d.x)\n      .attr(\"cy\", d => d.y);\n\n  nodeLabel\n      .attr(\"x\", d => d.x)\n      .attr(\"y\", d => d.y);\n\n  linkLabel\n      .attr(\"x\", d => (d.source.x + d.target.x) / 2)\n      .attr(\"y\", d => (d.source.y + d.target.y) / 2);\n});\n\nfunction drag(simulation) {\n  function dragstarted(event, d) {\n    if (!event.active) simulation.alphaTarget(0.3).restart();\n    d.fx = d.x;\n    d.fy = d.y;\n  }\n\n  function dragged(event, d) {\n    d.fx = event.x;\n    d.fy = event.y;\n  }\n\n  function dragended(event, d) {\n    if (!event.active) simulation.alphaTarget(0);\n    d.fx = null;\n    d.fy = null;\n  }\n\n  return d3.drag()\n      .on(\"start\", dragstarted)\n      .on(\"drag\", dragged)\n      .on(\"end\", dragended);\n}\n\n}) })(element);\n\n(function(element) { require(['d3'], function(d3) {\n\n// set the dimensions and margins of the graph\nvar margin = {\"right\":40,\"bottom\":40,\"left\":40,\"top\":40},\n    width = 400 - margin.left - margin.right,\n    height = 247.218789 - margin.top - margin.bottom;\n\n// append the svg object to the body of the page\nvar svg = d3\n   .select(element.get(0))\n  .append(\"svg\")\n    .attr(\"width\", width + margin.left + margin.right)\n    .attr(\"height\", height + margin.top + margin.bottom)\n    .style(\"background\", \"1F1F1F\")\n  .append(\"g\")\n    .attr(\"transform\",\n          \"translate(\" + margin.left + \",\" + margin.top + \")\")\n\n// Obtain title\nvar title = \"Star\"\nvar titleFontSize = 16\n\nif ( title.length > 0 ) {\n    svg.append(\"text\")\n        .attr(\"x\", (width / 2))\n        .attr(\"y\", 0 - (margin.top / 2))\n        .attr(\"text-anchor\", \"middle\")\n        .style(\"font-size\", titleFontSize.toString() + \"px\")\n        .style(\"fill\", \"Ivory\")\n        .text(title);\n}\n\nconst edges = [{\"label\":\"\",\"to\":\"0\",\"from\":\"4\",\"weight\":1},{\"from\":\"5\",\"to\":\"0\",\"label\":\"\",\"weight\":1},{\"to\":\"0\",\"from\":\"2\",\"label\":\"\",\"weight\":1},{\"to\":\"1\",\"weight\":1,\"from\":\"0\",\"label\":\"\"},{\"label\":\"\",\"weight\":1,\"to\":\"3\",\"from\":\"0\"}];\n\nconst nodes = Array.from(new Set(edges.flatMap(e => [e.from, e.to])), id => ({id}));\n\nconst highlightNodes = new Set([]);\n\nconst highlightLinkNodes = new Set([]);\n\nconst links = edges.map(e => ({\n  source: e.from,\n  target: e.to,\n  weight: e.weight,\n  label: e.label,\n  highlight: highlightLinkNodes.has(e.from + \"-\" + e.to)\n}));\n\n//.force(\"link\", d3.forceLink(links).id(d => d.id).distance(d => Math.max(d.weight * 20, 3 * 4)))\nconst simulation = d3.forceSimulation(nodes)\n    .force(\"link\", d3.forceLink(links).id(d => d.id).iterations(1))\n    .force(\"charge\", d3.forceManyBody().strength(-200).distanceMin(1).distanceMax(2000))\n    .force(\"x\", d3.forceX())\n    .force(\"y\", d3.forceY())\n    .force(\"collision\", d3.forceCollide())\n    .force(\"center\", d3.forceCenter(width / 2, height / 2));\n\nsvg.append('defs').append('marker')\n    .attr(\"id\",'arrowhead')\n    .attr('viewBox','-0 -5 10 10') //the bound of the SVG viewport for the current SVG fragment. defines a coordinate system 10 wide and 10 high starting on (0,-5)\n     .attr('refX', 11) // x coordinate for the reference point of the marker. If circle is bigger, this need to be bigger.\n     .attr('refY',0)\n     .attr('orient','auto')\n        .attr('markerWidth', 4)\n        .attr('markerHeight', 4)\n        .attr('xoverflow','visible')\n    .append('svg:path')\n    .attr('d', 'M 0,-5 L 10 ,0 L 0,5')\n    .attr('fill', \"SteelBlue\")\n    .style('stroke','none');\n\nconst link = svg.append(\"g\")\n    .attr(\"class\", \"links\")\n  .selectAll(\"line\")\n  .data(links)\n  .enter().append(\"line\")\n    .attr(\"class\", \"link\")\n    .attr(\"stroke\", d => d.highlight ? \"Orange\" : \"SteelBlue\")\n    .attr(\"stroke-width\", 2)\n    \n\nconst node = svg.append(\"g\")\n    .attr(\"class\", \"nodes\")\n  .selectAll(\"circle\")\n  .data(nodes)\n  .enter().append(\"circle\")\n    .attr(\"class\", \"node\")\n    .attr(\"r\", 3)\n    .attr(\"stroke\", d => highlightNodes.has(d.id) ? \"Orange\" : \"SteelBlue\")\n    .attr(\"fill\", d => highlightNodes.has(d.id) ?  \"Orange\" : \"SteelBlue\")\n    .call(drag(simulation));\n\nnode.append(\"title\")\n    .text(d => d.id);\n\nconst nodeLabel = svg.append(\"g\")\n    .attr(\"class\", \"node-labels\")\n  .selectAll(\"text\")\n  .data(nodes)\n  .enter().append(\"text\")\n    .attr(\"class\", \"node-label\")\n    .style(\"font-size\", 13)\n    .attr(\"font-family\", \"Courier\")\n    .attr(\"dy\", -10)\n    .attr('fill', \"Ivory\")\n    .attr('stroke', \"Ivory\")\n    .text(d => d.id);\n\nconst linkLabel = svg.append(\"g\")\n    .attr(\"class\", \"link-labels\")\n  .selectAll(\"text\")\n  .data(links)\n  .enter().append(\"text\")\n    .filter(d => d.label !== \"\")\n    .attr(\"class\", \"link-label\")\n    .style(\"font-size\", 13)\n    .attr(\"font-family\", \"Courier\")\n    .attr('fill', \"Ivory\")\n    .attr('stroke', \"Ivory\")\n    .text(d => d.label);\n\nsimulation.on(\"tick\", () => {\n  link\n      .attr(\"x1\", d => d.source.x)\n      .attr(\"y1\", d => d.source.y)\n      .attr(\"x2\", d => d.target.x)\n      .attr(\"y2\", d => d.target.y);\n\n  node\n      .attr(\"cx\", d => d.x)\n      .attr(\"cy\", d => d.y);\n\n  nodeLabel\n      .attr(\"x\", d => d.x)\n      .attr(\"y\", d => d.y);\n\n  linkLabel\n      .attr(\"x\", d => (d.source.x + d.target.x) / 2)\n      .attr(\"y\", d => (d.source.y + d.target.y) / 2);\n});\n\nfunction drag(simulation) {\n  function dragstarted(event, d) {\n    if (!event.active) simulation.alphaTarget(0.3).restart();\n    d.fx = d.x;\n    d.fy = d.y;\n  }\n\n  function dragged(event, d) {\n    d.fx = event.x;\n    d.fy = event.y;\n  }\n\n  function dragended(event, d) {\n    if (!event.active) simulation.alphaTarget(0);\n    d.fx = null;\n    d.fy = null;\n  }\n\n  return d3.drag()\n      .on(\"start\", dragstarted)\n      .on(\"drag\", dragged)\n      .on(\"end\", dragended);\n}\n\n}) })(element);\n\n(function(element) { require(['d3'], function(d3) {\n\n// set the dimensions and margins of the graph\nvar margin = {\"right\":40,\"top\":40,\"bottom\":40,\"left\":40},\n    width = 400 - margin.left - margin.right,\n    height = 247.218789 - margin.top - margin.bottom;\n\n// append the svg object to the body of the page\nvar svg = d3\n   .select(element.get(0))\n  .append(\"svg\")\n    .attr(\"width\", width + margin.left + margin.right)\n    .attr(\"height\", height + margin.top + margin.bottom)\n    .style(\"background\", \"1F1F1F\")\n  .append(\"g\")\n    .attr(\"transform\",\n          \"translate(\" + margin.left + \",\" + margin.top + \")\")\n\n// Obtain title\nvar title = \"Watts-Strogatz\"\nvar titleFontSize = 16\n\nif ( title.length > 0 ) {\n    svg.append(\"text\")\n        .attr(\"x\", (width / 2))\n        .attr(\"y\", 0 - (margin.top / 2))\n        .attr(\"text-anchor\", \"middle\")\n        .style(\"font-size\", titleFontSize.toString() + \"px\")\n        .style(\"fill\", \"Ivory\")\n        .text(title);\n}\n\nconst edges = [{\"weight\":1,\"to\":\"16\",\"from\":\"18\",\"label\":\"\"},{\"to\":\"19\",\"from\":\"18\",\"weight\":1,\"label\":\"\"},{\"label\":\"\",\"weight\":1,\"to\":\"17\",\"from\":\"18\"},{\"label\":\"\",\"to\":\"0\",\"weight\":1,\"from\":\"18\"},{\"weight\":1,\"label\":\"\",\"from\":\"6\",\"to\":\"7\"},{\"label\":\"\",\"from\":\"6\",\"to\":\"4\",\"weight\":1},{\"label\":\"\",\"to\":\"5\",\"weight\":1,\"from\":\"6\"},{\"from\":\"6\",\"to\":\"8\",\"label\":\"\",\"weight\":1},{\"from\":\"12\",\"label\":\"\",\"weight\":1,\"to\":\"13\"},{\"weight\":1,\"label\":\"\",\"from\":\"12\",\"to\":\"10\"},{\"weight\":1,\"from\":\"12\",\"to\":\"11\",\"label\":\"\"},{\"weight\":1,\"from\":\"12\",\"to\":\"14\",\"label\":\"\"},{\"weight\":1,\"to\":\"8\",\"label\":\"\",\"from\":\"7\"},{\"from\":\"7\",\"to\":\"5\",\"label\":\"\",\"weight\":1},{\"weight\":1,\"from\":\"7\",\"to\":\"9\",\"label\":\"\"},{\"label\":\"\",\"to\":\"15\",\"weight\":1,\"from\":\"13\"},{\"weight\":1,\"from\":\"13\",\"label\":\"\",\"to\":\"14\"},{\"weight\":1,\"to\":\"11\",\"from\":\"13\",\"label\":\"\"},{\"from\":\"0\",\"to\":\"1\",\"weight\":1,\"label\":\"\"},{\"from\":\"0\",\"to\":\"2\",\"weight\":1,\"label\":\"\"},{\"weight\":1,\"from\":\"0\",\"to\":\"19\",\"label\":\"\"},{\"from\":\"2\",\"label\":\"\",\"to\":\"1\",\"weight\":1},{\"from\":\"2\",\"weight\":1,\"to\":\"3\",\"label\":\"\"},{\"weight\":1,\"from\":\"2\",\"label\":\"\",\"to\":\"4\"},{\"weight\":1,\"label\":\"\",\"from\":\"16\",\"to\":\"15\"},{\"label\":\"\",\"from\":\"16\",\"weight\":1,\"to\":\"17\"},{\"label\":\"\",\"weight\":1,\"to\":\"14\",\"from\":\"16\"},{\"to\":\"15\",\"label\":\"\",\"from\":\"14\",\"weight\":1},{\"weight\":1,\"from\":\"4\",\"to\":\"5\",\"label\":\"\"},{\"weight\":1,\"label\":\"\",\"from\":\"4\",\"to\":\"3\"},{\"weight\":1,\"label\":\"\",\"from\":\"9\",\"to\":\"11\"},{\"from\":\"9\",\"weight\":1,\"to\":\"10\",\"label\":\"\"},{\"label\":\"\",\"to\":\"8\",\"from\":\"9\",\"weight\":1},{\"weight\":1,\"to\":\"11\",\"label\":\"\",\"from\":\"5\"},{\"weight\":1,\"to\":\"3\",\"label\":\"\",\"from\":\"5\"},{\"from\":\"17\",\"label\":\"\",\"weight\":1,\"to\":\"19\"},{\"to\":\"15\",\"from\":\"17\",\"label\":\"\",\"weight\":1},{\"from\":\"8\",\"weight\":1,\"label\":\"\",\"to\":\"10\"},{\"from\":\"10\",\"to\":\"11\",\"label\":\"\",\"weight\":1},{\"weight\":1,\"from\":\"19\",\"label\":\"\",\"to\":\"1\"},{\"to\":\"1\",\"label\":\"\",\"from\":\"3\",\"weight\":1}];\n\nconst nodes = Array.from(new Set(edges.flatMap(e => [e.from, e.to])), id => ({id}));\n\nconst highlightNodes = new Set([]);\n\nconst highlightLinkNodes = new Set([]);\n\nconst links = edges.map(e => ({\n  source: e.from,\n  target: e.to,\n  weight: e.weight,\n  label: e.label,\n  highlight: highlightLinkNodes.has(e.from + \"-\" + e.to)\n}));\n\n//.force(\"link\", d3.forceLink(links).id(d => d.id).distance(d => Math.max(d.weight * 20, 3 * 4)))\nconst simulation = d3.forceSimulation(nodes)\n    .force(\"link\", d3.forceLink(links).id(d => d.id).iterations(1))\n    .force(\"charge\", d3.forceManyBody().strength(-200).distanceMin(1).distanceMax(2000))\n    .force(\"x\", d3.forceX())\n    .force(\"y\", d3.forceY())\n    .force(\"collision\", d3.forceCollide())\n    .force(\"center\", d3.forceCenter(width / 2, height / 2));\n\nsvg.append('defs').append('marker')\n    .attr(\"id\",'arrowhead')\n    .attr('viewBox','-0 -5 10 10') //the bound of the SVG viewport for the current SVG fragment. defines a coordinate system 10 wide and 10 high starting on (0,-5)\n     .attr('refX', 11) // x coordinate for the reference point of the marker. If circle is bigger, this need to be bigger.\n     .attr('refY',0)\n     .attr('orient','auto')\n        .attr('markerWidth', 4)\n        .attr('markerHeight', 4)\n        .attr('xoverflow','visible')\n    .append('svg:path')\n    .attr('d', 'M 0,-5 L 10 ,0 L 0,5')\n    .attr('fill', \"SteelBlue\")\n    .style('stroke','none');\n\nconst link = svg.append(\"g\")\n    .attr(\"class\", \"links\")\n  .selectAll(\"line\")\n  .data(links)\n  .enter().append(\"line\")\n    .attr(\"class\", \"link\")\n    .attr(\"stroke\", d => d.highlight ? \"Orange\" : \"SteelBlue\")\n    .attr(\"stroke-width\", 2)\n    \n\nconst node = svg.append(\"g\")\n    .attr(\"class\", \"nodes\")\n  .selectAll(\"circle\")\n  .data(nodes)\n  .enter().append(\"circle\")\n    .attr(\"class\", \"node\")\n    .attr(\"r\", 3)\n    .attr(\"stroke\", d => highlightNodes.has(d.id) ? \"Orange\" : \"SteelBlue\")\n    .attr(\"fill\", d => highlightNodes.has(d.id) ?  \"Orange\" : \"SteelBlue\")\n    .call(drag(simulation));\n\nnode.append(\"title\")\n    .text(d => d.id);\n\nconst nodeLabel = svg.append(\"g\")\n    .attr(\"class\", \"node-labels\")\n  .selectAll(\"text\")\n  .data(nodes)\n  .enter().append(\"text\")\n    .attr(\"class\", \"node-label\")\n    .style(\"font-size\", 13)\n    .attr(\"font-family\", \"Courier\")\n    .attr(\"dy\", -10)\n    .attr('fill', \"Ivory\")\n    .attr('stroke', \"Ivory\")\n    .text(d => d.id);\n\nconst linkLabel = svg.append(\"g\")\n    .attr(\"class\", \"link-labels\")\n  .selectAll(\"text\")\n  .data(links)\n  .enter().append(\"text\")\n    .filter(d => d.label !== \"\")\n    .attr(\"class\", \"link-label\")\n    .style(\"font-size\", 13)\n    .attr(\"font-family\", \"Courier\")\n    .attr('fill', \"Ivory\")\n    .attr('stroke', \"Ivory\")\n    .text(d => d.label);\n\nsimulation.on(\"tick\", () => {\n  link\n      .attr(\"x1\", d => d.source.x)\n      .attr(\"y1\", d => d.source.y)\n      .attr(\"x2\", d => d.target.x)\n      .attr(\"y2\", d => d.target.y);\n\n  node\n      .attr(\"cx\", d => d.x)\n      .attr(\"cy\", d => d.y);\n\n  nodeLabel\n      .attr(\"x\", d => d.x)\n      .attr(\"y\", d => d.y);\n\n  linkLabel\n      .attr(\"x\", d => (d.source.x + d.target.x) / 2)\n      .attr(\"y\", d => (d.source.y + d.target.y) / 2);\n});\n\nfunction drag(simulation) {\n  function dragstarted(event, d) {\n    if (!event.active) simulation.alphaTarget(0.3).restart();\n    d.fx = d.x;\n    d.fy = d.y;\n  }\n\n  function dragged(event, d) {\n    d.fx = event.x;\n    d.fy = event.y;\n  }\n\n  function dragended(event, d) {\n    if (!event.active) simulation.alphaTarget(0);\n    d.fx = null;\n    d.fy = null;\n  }\n\n  return d3.drag()\n      .on(\"start\", dragstarted)\n      .on(\"drag\", dragged)\n      .on(\"end\", dragended);\n}\n\n}) })(element);\n\n(function(element) { require(['d3'], function(d3) {\n\n// set the dimensions and margins of the graph\nvar margin = {\"bottom\":40,\"left\":40,\"top\":40,\"right\":40},\n    width = 400 - margin.left - margin.right,\n    height = 247.218789 - margin.top - margin.bottom;\n\n// append the svg object to the body of the page\nvar svg = d3\n   .select(element.get(0))\n  .append(\"svg\")\n    .attr(\"width\", width + margin.left + margin.right)\n    .attr(\"height\", height + margin.top + margin.bottom)\n    .style(\"background\", \"1F1F1F\")\n  .append(\"g\")\n    .attr(\"transform\",\n          \"translate(\" + margin.left + \",\" + margin.top + \")\")\n\n// Obtain title\nvar title = \"Wheel\"\nvar titleFontSize = 16\n\nif ( title.length > 0 ) {\n    svg.append(\"text\")\n        .attr(\"x\", (width / 2))\n        .attr(\"y\", 0 - (margin.top / 2))\n        .attr(\"text-anchor\", \"middle\")\n        .style(\"font-size\", titleFontSize.toString() + \"px\")\n        .style(\"fill\", \"Ivory\")\n        .text(title);\n}\n\nconst edges = [{\"label\":\"\",\"to\":\"4\",\"from\":\"3\",\"weight\":1},{\"to\":\"2\",\"from\":\"1\",\"weight\":1,\"label\":\"\"},{\"from\":\"0\",\"weight\":1,\"to\":\"4\",\"label\":\"\"},{\"to\":\"7\",\"from\":\"0\",\"weight\":1,\"label\":\"\"},{\"weight\":1,\"from\":\"0\",\"to\":\"1\",\"label\":\"\"},{\"from\":\"0\",\"label\":\"\",\"weight\":1,\"to\":\"3\"},{\"weight\":1,\"to\":\"6\",\"label\":\"\",\"from\":\"0\"},{\"from\":\"0\",\"label\":\"\",\"weight\":1,\"to\":\"5\"},{\"weight\":1,\"to\":\"2\",\"from\":\"0\",\"label\":\"\"},{\"weight\":1,\"label\":\"\",\"from\":\"2\",\"to\":\"3\"},{\"to\":\"1\",\"label\":\"\",\"weight\":1,\"from\":\"7\"},{\"to\":\"7\",\"label\":\"\",\"from\":\"6\",\"weight\":1},{\"label\":\"\",\"from\":\"5\",\"weight\":1,\"to\":\"6\"},{\"to\":\"5\",\"weight\":1,\"label\":\"\",\"from\":\"4\"}];\n\nconst nodes = Array.from(new Set(edges.flatMap(e => [e.from, e.to])), id => ({id}));\n\nconst highlightNodes = new Set([]);\n\nconst highlightLinkNodes = new Set([]);\n\nconst links = edges.map(e => ({\n  source: e.from,\n  target: e.to,\n  weight: e.weight,\n  label: e.label,\n  highlight: highlightLinkNodes.has(e.from + \"-\" + e.to)\n}));\n\n//.force(\"link\", d3.forceLink(links).id(d => d.id).distance(d => Math.max(d.weight * 20, 3 * 4)))\nconst simulation = d3.forceSimulation(nodes)\n    .force(\"link\", d3.forceLink(links).id(d => d.id).iterations(1))\n    .force(\"charge\", d3.forceManyBody().strength(-200).distanceMin(1).distanceMax(2000))\n    .force(\"x\", d3.forceX())\n    .force(\"y\", d3.forceY())\n    .force(\"collision\", d3.forceCollide())\n    .force(\"center\", d3.forceCenter(width / 2, height / 2));\n\nsvg.append('defs').append('marker')\n    .attr(\"id\",'arrowhead')\n    .attr('viewBox','-0 -5 10 10') //the bound of the SVG viewport for the current SVG fragment. defines a coordinate system 10 wide and 10 high starting on (0,-5)\n     .attr('refX', 11) // x coordinate for the reference point of the marker. If circle is bigger, this need to be bigger.\n     .attr('refY',0)\n     .attr('orient','auto')\n        .attr('markerWidth', 4)\n        .attr('markerHeight', 4)\n        .attr('xoverflow','visible')\n    .append('svg:path')\n    .attr('d', 'M 0,-5 L 10 ,0 L 0,5')\n    .attr('fill', \"SteelBlue\")\n    .style('stroke','none');\n\nconst link = svg.append(\"g\")\n    .attr(\"class\", \"links\")\n  .selectAll(\"line\")\n  .data(links)\n  .enter().append(\"line\")\n    .attr(\"class\", \"link\")\n    .attr(\"stroke\", d => d.highlight ? \"Orange\" : \"SteelBlue\")\n    .attr(\"stroke-width\", 2)\n    .attr('marker-end','url(#arrowhead)')\n\nconst node = svg.append(\"g\")\n    .attr(\"class\", \"nodes\")\n  .selectAll(\"circle\")\n  .data(nodes)\n  .enter().append(\"circle\")\n    .attr(\"class\", \"node\")\n    .attr(\"r\", 3)\n    .attr(\"stroke\", d => highlightNodes.has(d.id) ? \"Orange\" : \"SteelBlue\")\n    .attr(\"fill\", d => highlightNodes.has(d.id) ?  \"Orange\" : \"SteelBlue\")\n    .call(drag(simulation));\n\nnode.append(\"title\")\n    .text(d => d.id);\n\nconst nodeLabel = svg.append(\"g\")\n    .attr(\"class\", \"node-labels\")\n  .selectAll(\"text\")\n  .data(nodes)\n  .enter().append(\"text\")\n    .attr(\"class\", \"node-label\")\n    .style(\"font-size\", 13)\n    .attr(\"font-family\", \"Courier\")\n    .attr(\"dy\", -10)\n    .attr('fill', \"Ivory\")\n    .attr('stroke', \"Ivory\")\n    .text(d => d.id);\n\nconst linkLabel = svg.append(\"g\")\n    .attr(\"class\", \"link-labels\")\n  .selectAll(\"text\")\n  .data(links)\n  .enter().append(\"text\")\n    .filter(d => d.label !== \"\")\n    .attr(\"class\", \"link-label\")\n    .style(\"font-size\", 13)\n    .attr(\"font-family\", \"Courier\")\n    .attr('fill', \"Ivory\")\n    .attr('stroke', \"Ivory\")\n    .text(d => d.label);\n\nsimulation.on(\"tick\", () => {\n  link\n      .attr(\"x1\", d => d.source.x)\n      .attr(\"y1\", d => d.source.y)\n      .attr(\"x2\", d => d.target.x)\n      .attr(\"y2\", d => d.target.y);\n\n  node\n      .attr(\"cx\", d => d.x)\n      .attr(\"cy\", d => d.y);\n\n  nodeLabel\n      .attr(\"x\", d => d.x)\n      .attr(\"y\", d => d.y);\n\n  linkLabel\n      .attr(\"x\", d => (d.source.x + d.target.x) / 2)\n      .attr(\"y\", d => (d.source.y + d.target.y) / 2);\n});\n\nfunction drag(simulation) {\n  function dragstarted(event, d) {\n    if (!event.active) simulation.alphaTarget(0.3).restart();\n    d.fx = d.x;\n    d.fy = d.y;\n  }\n\n  function dragged(event, d) {\n    d.fx = event.x;\n    d.fy = event.y;\n  }\n\n  function dragended(event, d) {\n    if (!event.active) simulation.alphaTarget(0);\n    d.fx = null;\n    d.fy = null;\n  }\n\n  return d3.drag()\n      .on(\"start\", dragstarted)\n      .on(\"drag\", dragged)\n      .on(\"end\", dragended);\n}\n\n}) })(element);\n"
     },
     "execution_count": 15,
     "metadata": {},
     "output_type": "execute_result"
    }
   ],
   "source": [
    "#%js\n",
    "%namedGraphs.pairs.sort(*.key).map({ \n",
    "    js-d3-graph-plot(\n",
    "        $_.value.edges(:dataset),\n",
    "        title => $_.key,\n",
    "        :$background, \n",
    "        :$title-color, \n",
    "        width => 400, \n",
    "        edge-thickness => 2,\n",
    "        vertex-size => 3,\n",
    "        directed => $_.value.directed,\n",
    "        force => {charge => {strength => -200}, link => {minDistance => 40}}\n",
    "    )\n",
    " }).join(\"\\n\")"
   ]
  },
  {
   "cell_type": "markdown",
   "metadata": {},
   "source": [
    "-------\n",
    "\n",
    "## Circulant graph"
   ]
  },
  {
   "cell_type": "code",
   "execution_count": 25,
   "metadata": {},
   "outputs": [
    {
     "data": {
      "application/javascript": "(function(element) { require(['d3'], function(d3) {\n\n// set the dimensions and margins of the graph\nvar margin = {\"bottom\":40,\"right\":40,\"top\":40,\"left\":40},\n    width = 700 - margin.left - margin.right,\n    height = 432.63288 - margin.top - margin.bottom;\n\n// append the svg object to the body of the page\nvar svg = d3\n   .select(element.get(0))\n  .append(\"svg\")\n    .attr(\"width\", width + margin.left + margin.right)\n    .attr(\"height\", height + margin.top + margin.bottom)\n    .style(\"background\", \"1F1F1F\")\n  .append(\"g\")\n    .attr(\"transform\",\n          \"translate(\" + margin.left + \",\" + margin.top + \")\")\n\n// Obtain title\nvar title = \"\"\nvar titleFontSize = 16\n\nif ( title.length > 0 ) {\n    svg.append(\"text\")\n        .attr(\"x\", (width / 2))\n        .attr(\"y\", 0 - (margin.top / 2))\n        .attr(\"text-anchor\", \"middle\")\n        .style(\"font-size\", titleFontSize.toString() + \"px\")\n        .style(\"fill\", \"Ivory\")\n        .text(title);\n}\n\nconst edges = [{\"from\":\"6\",\"to\":\"3\",\"label\":\"\",\"weight\":1},{\"weight\":1,\"from\":\"6\",\"to\":\"2\",\"label\":\"\"},{\"from\":\"2\",\"weight\":1,\"to\":\"5\",\"label\":\"\"},{\"label\":\"\",\"to\":\"1\",\"from\":\"5\",\"weight\":1},{\"weight\":1,\"to\":\"4\",\"from\":\"0\",\"label\":\"\"},{\"weight\":1,\"label\":\"\",\"to\":\"3\",\"from\":\"0\"},{\"to\":\"4\",\"label\":\"\",\"from\":\"1\",\"weight\":1}];\n\nconst nodes = Array.from(new Set(edges.flatMap(e => [e.from, e.to])), id => ({id}));\n\nconst highlightNodes = new Set([]);\n\nconst highlightLinkNodes = new Set([]);\n\nconst links = edges.map(e => ({\n  source: e.from,\n  target: e.to,\n  weight: e.weight,\n  label: e.label,\n  highlight: highlightLinkNodes.has(e.from + \"-\" + e.to)\n}));\n\n//.force(\"link\", d3.forceLink(links).id(d => d.id).distance(d => Math.max(d.weight * 20, 6 * 4)))\nconst simulation = d3.forceSimulation(nodes)\n    .force(\"link\", d3.forceLink(links).id(d => d.id).distance(60).iterations(1))\n    .force(\"charge\", d3.forceManyBody().strength(-10).distanceMin(1).distanceMax(2000))\n    .force(\"x\", d3.forceX())\n    .force(\"y\", d3.forceY())\n    .force(\"collision\", d3.forceCollide().radius(40))\n    .force(\"center\", d3.forceCenter(width / 2, height / 2));\n\nsvg.append('defs').append('marker')\n    .attr(\"id\",'arrowhead')\n    .attr('viewBox','-0 -5 10 10') //the bound of the SVG viewport for the current SVG fragment. defines a coordinate system 10 wide and 10 high starting on (0,-5)\n     .attr('refX', 16) // x coordinate for the reference point of the marker. If circle is bigger, this need to be bigger.\n     .attr('refY',0)\n     .attr('orient','auto')\n        .attr('markerWidth', 5)\n        .attr('markerHeight', 5)\n        .attr('xoverflow','visible')\n    .append('svg:path')\n    .attr('d', 'M 0,-5 L 10 ,0 L 0,5')\n    .attr('fill', \"SteelBlue\")\n    .style('stroke','none');\n\nconst link = svg.append(\"g\")\n    .attr(\"class\", \"links\")\n  .selectAll(\"line\")\n  .data(links)\n  .enter().append(\"line\")\n    .attr(\"class\", \"link\")\n    .attr(\"stroke\", d => d.highlight ? \"Orange\" : \"SteelBlue\")\n    .attr(\"stroke-width\", 3)\n    \n\nconst node = svg.append(\"g\")\n    .attr(\"class\", \"nodes\")\n  .selectAll(\"circle\")\n  .data(nodes)\n  .enter().append(\"circle\")\n    .attr(\"class\", \"node\")\n    .attr(\"r\", 6)\n    .attr(\"stroke\", d => highlightNodes.has(d.id) ? \"Orange\" : \"SteelBlue\")\n    .attr(\"fill\", d => highlightNodes.has(d.id) ?  \"Orange\" : \"SteelBlue\")\n    .call(drag(simulation));\n\nnode.append(\"title\")\n    .text(d => d.id);\n\nconst nodeLabel = svg.append(\"g\")\n    .attr(\"class\", \"node-labels\")\n  .selectAll(\"text\")\n  .data(nodes)\n  .enter().append(\"text\")\n    .attr(\"class\", \"node-label\")\n    .style(\"font-size\", 13)\n    .attr(\"font-family\", \"Courier\")\n    .attr(\"dy\", -10)\n    .attr('fill', \"Ivory\")\n    .attr('stroke', \"Ivory\")\n    .text(d => d.id);\n\nconst linkLabel = svg.append(\"g\")\n    .attr(\"class\", \"link-labels\")\n  .selectAll(\"text\")\n  .data(links)\n  .enter().append(\"text\")\n    .filter(d => d.label !== \"\")\n    .attr(\"class\", \"link-label\")\n    .style(\"font-size\", 13)\n    .attr(\"font-family\", \"Courier\")\n    .attr('fill', \"Ivory\")\n    .attr('stroke', \"Ivory\")\n    .text(d => d.label);\n\nsimulation.on(\"tick\", () => {\n  link\n      .attr(\"x1\", d => d.source.x)\n      .attr(\"y1\", d => d.source.y)\n      .attr(\"x2\", d => d.target.x)\n      .attr(\"y2\", d => d.target.y);\n\n  node\n      .attr(\"cx\", d => d.x)\n      .attr(\"cy\", d => d.y);\n\n  nodeLabel\n      .attr(\"x\", d => d.x)\n      .attr(\"y\", d => d.y);\n\n  linkLabel\n      .attr(\"x\", d => (d.source.x + d.target.x) / 2)\n      .attr(\"y\", d => (d.source.y + d.target.y) / 2);\n});\n\nfunction drag(simulation) {\n  function dragstarted(event, d) {\n    if (!event.active) simulation.alphaTarget(0.3).restart();\n    d.fx = d.x;\n    d.fy = d.y;\n  }\n\n  function dragged(event, d) {\n    d.fx = event.x;\n    d.fy = event.y;\n  }\n\n  function dragended(event, d) {\n    if (!event.active) simulation.alphaTarget(0);\n    d.fx = null;\n    d.fy = null;\n  }\n\n  return d3.drag()\n      .on(\"start\", dragstarted)\n      .on(\"drag\", dragged)\n      .on(\"end\", dragended);\n}\n\n}) })(element);\n"
     },
     "execution_count": 25,
     "metadata": {},
     "output_type": "execute_result"
    }
   ],
   "source": [
    "#%js\n",
    "my $g = Graph::Circulant.new(7,3);\n",
    "\n",
    "#%js\n",
    "$g.edges(:dataset) \n",
    "==> js-d3-graph-plot(\n",
    "        :$background, \n",
    "        :$title-color, \n",
    "        width => 700, \n",
    "        :$edge-thickness,\n",
    "        :$vertex-size,\n",
    "        force => {charge => {strength => -10, iterations => 2}, collision => {radius => 40, iterations => 10}, link => {distance => 60}}\n",
    "    )"
   ]
  },
  {
   "cell_type": "markdown",
   "metadata": {},
   "source": [
    "------\n",
    "\n",
    "## Complete graph"
   ]
  },
  {
   "cell_type": "code",
   "execution_count": null,
   "metadata": {},
   "outputs": [],
   "source": [
    "#%js\n",
    "my $g = Graph::Complete.new(5,'node:');\n",
    "\n",
    "#%js\n",
    "$g.edges(:dataset) \n",
    "==> js-d3-graph-plot(\n",
    "        :$background, \n",
    "        :$title-color, \n",
    "        width => 700, \n",
    "        :$edge-thickness,\n",
    "        :$vertex-size,\n",
    "        force => {charge => {strength => -1800, iterations => 2}, collision => {radius => 40, iterations => 10}, link => {distance => 310}}\n",
    "    )"
   ]
  },
  {
   "cell_type": "code",
   "execution_count": null,
   "metadata": {},
   "outputs": [],
   "source": [
    "mermaid-ink($mmd-theme ~ \"\\n\" ~ $g.mermaid, background => '1F1F1F', format => 'svg')"
   ]
  },
  {
   "cell_type": "markdown",
   "metadata": {},
   "source": [
    "------\n",
    "\n",
    "## Complete K-ary tree"
   ]
  },
  {
   "cell_type": "code",
   "execution_count": null,
   "metadata": {},
   "outputs": [],
   "source": [
    "#%js\n",
    "my $g = Graph::CompleteKaryTree.new(n => 4, k => 3, prefix => '', :directed);\n",
    "\n",
    "$g.edges(:dataset) \n",
    "==> js-d3-graph-plot(\n",
    "        :$background, \n",
    "        title-color => 'none',  \n",
    "        width => 600, \n",
    "        :$edge-thickness,\n",
    "        :$vertex-size,\n",
    "        vertex-color => 'SlateBlue',\n",
    "        :directed,\n",
    "        force => {charge => {strength => -120, iterations => 2}, collision => {radius => 4, iterations => 1}, link => {minDistance => 10}}\n",
    "    )"
   ]
  },
  {
   "cell_type": "markdown",
   "metadata": {},
   "source": [
    "-----\n",
    "\n",
    "## Cycle graph"
   ]
  },
  {
   "cell_type": "code",
   "execution_count": null,
   "metadata": {},
   "outputs": [],
   "source": [
    "#%js\n",
    "my $g = Graph::Cycle.new(9);\n",
    "\n",
    "$g.edges(:dataset) \n",
    "==> js-d3-graph-plot(\n",
    "        :$background, \n",
    "        :$title-color, \n",
    "        width => 700, \n",
    "        :$edge-thickness,\n",
    "        :$vertex-size, \n",
    "        force => {charge => {strength => -1200, iterations => 2}, collision => {radius => 50, iterations => 1}, link => {minDistance => 30}}\n",
    "    )"
   ]
  },
  {
   "cell_type": "markdown",
   "metadata": {},
   "source": [
    "-----\n",
    "\n",
    "## Grid graph"
   ]
  },
  {
   "cell_type": "code",
   "execution_count": null,
   "metadata": {},
   "outputs": [],
   "source": [
    "#%js\n",
    "my $g = Graph::Grid.new(rows => 5, columns => 7):d;\n",
    "\n",
    "$g.edges(:dataset) \n",
    "==> js-d3-graph-plot(\n",
    "    :$background, \n",
    "    :$title-color, \n",
    "    width => 800, \n",
    "    :$edge-thickness,\n",
    "    :$vertex-size,\n",
    "    force => {charge => {strength => -400, iterations => 2}, collision => {radius => 4, iterations => 1}, link => {distance => 0}}\n",
    "):d"
   ]
  },
  {
   "cell_type": "markdown",
   "metadata": {},
   "source": [
    "-----\n",
    "\n",
    "## Hypercube"
   ]
  },
  {
   "cell_type": "code",
   "execution_count": null,
   "metadata": {},
   "outputs": [],
   "source": [
    "#%js\n",
    "my $g = Graph::Hypercube.new(3);\n",
    "\n",
    "$g.edges(:dataset) \n",
    "==> js-d3-graph-plot(\n",
    "    :$background, \n",
    "    :$title-color, \n",
    "    width => 600, \n",
    "    :$edge-thickness,\n",
    "    :$vertex-size,\n",
    "    force => {charge => {strength => -2000, iterations => 2}, collision => {radius => 60, iterations => 1}, link => {distance => 0}}\n",
    ")"
   ]
  },
  {
   "cell_type": "markdown",
   "metadata": {},
   "source": [
    "-----\n",
    "\n",
    "## Knight tour"
   ]
  },
  {
   "cell_type": "code",
   "execution_count": null,
   "metadata": {},
   "outputs": [],
   "source": [
    "#%js\n",
    "my $g = Graph::KnightTour.new(6, 4, 'node:');\n",
    "\n",
    "$g.edges(:dataset) \n",
    "==> js-d3-graph-plot(\n",
    "        :$background, \n",
    "        :$title-color, \n",
    "        height => 800, \n",
    "        :$edge-thickness, \n",
    "        :$vertex-size, \n",
    "        force => {x => {strength => .1}, y => {strength => .1}, charge => {strength => -300}, collision => {radius => 20}}\n",
    "    )"
   ]
  },
  {
   "cell_type": "markdown",
   "metadata": {},
   "source": [
    "-----\n",
    "\n",
    "## Path graph"
   ]
  },
  {
   "cell_type": "code",
   "execution_count": null,
   "metadata": {},
   "outputs": [],
   "source": [
    "#%js\n",
    "my $g = Graph::Path.new('a'..'h', prefix => '', :directed);\n",
    "\n",
    "$g.edges(:dataset) \n",
    "==> js-d3-graph-plot(\n",
    "        :$background, \n",
    "        :$title-color, \n",
    "        width => 500, \n",
    "        :$edge-thickness,\n",
    "        :$vertex-size,\n",
    "        directed => $g.directed,\n",
    "        force => {charge => {strength => -600}, link => {minDistance => 40}}\n",
    "    )"
   ]
  },
  {
   "cell_type": "markdown",
   "metadata": {},
   "source": [
    "-----\n",
    "\n",
    "## Petersen graph"
   ]
  },
  {
   "cell_type": "code",
   "execution_count": null,
   "metadata": {},
   "outputs": [],
   "source": [
    "#%js\n",
    "my $g = Graph::Petersen.new(prefix => '');\n",
    "\n",
    "$g.edges(:dataset) \n",
    "==> js-d3-graph-plot(\n",
    "        :$background, \n",
    "        :$title-color, \n",
    "        width => 500, \n",
    "        :$edge-thickness,\n",
    "        :$vertex-size,\n",
    "        :!directed,\n",
    "        force => {charge => {strength => -600}, link => {minDistance => 40}}\n",
    "    )"
   ]
  },
  {
   "cell_type": "markdown",
   "metadata": {},
   "source": [
    "### Properties"
   ]
  },
  {
   "cell_type": "markdown",
   "metadata": {},
   "source": [
    "- Has radius 2 and diameter 2. It is the largest cubic graph with diameter 2."
   ]
  },
  {
   "cell_type": "code",
   "execution_count": null,
   "metadata": {},
   "outputs": [],
   "source": [
    "say <radius diameter>.map({ $_ => $g.\"$_\"() })"
   ]
  },
  {
   "cell_type": "markdown",
   "metadata": {},
   "source": [
    "- The Petersen graph has a Hamiltonian path but no Hamiltonian cycle. It is the smallest bridgeless cubic graph with no Hamiltonian cycle. It is hypohamiltonian, meaning that although it has no Hamiltonian cycle, deleting any vertex makes it Hamiltonian, and is the smallest hypohamiltonian graph.\n",
    "(See [[Wk-Petersen](https://en.wikipedia.org/wiki/Petersen_graph)].)"
   ]
  },
  {
   "cell_type": "code",
   "execution_count": null,
   "metadata": {},
   "outputs": [],
   "source": [
    "$g.find-hamiltonian-path('0','6')"
   ]
  },
  {
   "cell_type": "code",
   "execution_count": null,
   "metadata": {},
   "outputs": [],
   "source": [
    "#%js\n",
    "\n",
    "$g.edges(:dataset) \n",
    "==> js-d3-graph-plot(\n",
    "        :$background, \n",
    "        :$title-color, \n",
    "        width => 700, \n",
    "        :$edge-thickness,\n",
    "        :$vertex-size,\n",
    "        highlight => $g.find-hamiltonian-path('0', '6').rotor(2=>-1).map({$_.head => $_.tail }),\n",
    "        force => {charge => {strength => -1400, iterations => 2}, collision => {radius => 1, iterations => 1}, link => {distance => 1}})"
   ]
  },
  {
   "cell_type": "markdown",
   "metadata": {},
   "source": [
    "### Verify configuration"
   ]
  },
  {
   "cell_type": "markdown",
   "metadata": {},
   "source": [
    "To display with Mathematica:\n",
    "\n",
    "```raku\n",
    "Graph::Petersen.new.wl;\n",
    "```\n",
    "\n",
    "```mathematica\n",
    "aCoords = \n",
    " Join[\n",
    "  Table[ToString[i - 1] -> {Cos[i*2 Pi/5], -Sin[i*2 Pi/5]}, {i, 5}], \n",
    "  Table[ToString[i + 5 - 1] -> 2*{Cos[i*2 Pi/5], -Sin[i*2 Pi/5]}, {i, 5}]\n",
    "]\n",
    "\n",
    "gr = REPLACE\n",
    "GraphPlot[gr, VertexLabels -> \"Name\", VertexCoordinates -> aCoords]\n",
    "```"
   ]
  },
  {
   "cell_type": "markdown",
   "metadata": {},
   "source": [
    "------\n",
    "\n",
    "## Random graph"
   ]
  },
  {
   "cell_type": "markdown",
   "metadata": {},
   "source": [
    "Create random graph with `600` vertexes and `500` edges:"
   ]
  },
  {
   "cell_type": "code",
   "execution_count": null,
   "metadata": {},
   "outputs": [],
   "source": [
    "my $tstart = now;\n",
    "\n",
    "my $gl = Graph::Random.new(100, 200, :!directed);\n",
    "\n",
    "my $tend = now;\n",
    "say \"Time to generate: {$tend - $tstart}\";\n",
    "say $gl;"
   ]
  },
  {
   "cell_type": "markdown",
   "metadata": {},
   "source": [
    "Visualize the random graph:"
   ]
  },
  {
   "cell_type": "code",
   "execution_count": null,
   "metadata": {},
   "outputs": [],
   "source": [
    "#%js\n",
    "$gl.edges(:dataset) \n",
    "==> js-d3-graph-plot(\n",
    "    :$background, \n",
    "    :$title-color, \n",
    "    width => 1200, \n",
    "    :$vertex-size, \n",
    "    :$edge-thickness, \n",
    "    force => {charge => {strength => -180, iterations => 2}, collision => {radius => 6, iterations => 10}, link => {distance => 4}}\n",
    ")"
   ]
  },
  {
   "cell_type": "markdown",
   "metadata": {},
   "source": [
    "### Vertex degree distribution"
   ]
  },
  {
   "cell_type": "code",
   "execution_count": null,
   "metadata": {},
   "outputs": [],
   "source": [
    "my %degrees = $gl.vertex-list.map({ $_ => $gl.vertex-degree($_) });\n",
    "\n",
    "sink records-summary(%degrees.values.List)"
   ]
  },
  {
   "cell_type": "code",
   "execution_count": null,
   "metadata": {},
   "outputs": [],
   "source": [
    "#%js\n",
    "js-d3-histogram(%degrees.values, :$background)"
   ]
  },
  {
   "cell_type": "markdown",
   "metadata": {},
   "source": [
    "-----\n",
    "\n",
    "## Random graphs by distribution specs"
   ]
  },
  {
   "cell_type": "markdown",
   "metadata": {},
   "source": [
    "Here we use graph distribution specifications:"
   ]
  },
  {
   "cell_type": "code",
   "execution_count": 26,
   "metadata": {},
   "outputs": [
    {
     "data": {
      "text/plain": [
       "[Graph::Distribution::Uniform.new(vertex-count => 27, edges-count => 55) Graph::Distribution::Uniform.new(vertex-count => 38, edges-count => 71) Graph::Distribution::BarabasiAlbert.new(vertex-count => 20, edges-count => 2) Graph::Distribution::Bernoulli.new(vertex-count => 16, p => 0.6) Graph::Distribution::Bernoulli.new(vertex-count => 20, p => 0.3) Graph::Distribution::WattsStrogatz.new(vertex-count => 20, p => 0.07) Graph::Distribution::Price.new(vertex-count => 20, edges-count => 2, attractiveness => 1)]"
      ]
     },
     "execution_count": 26,
     "metadata": {},
     "output_type": "execute_result"
    }
   ],
   "source": [
    "my @dists =\n",
    "    |(Graph::Distribution::Uniform.new((10..40).pick, (20..100).pick) xx 2), \n",
    "    Graph::Distribution::BarabasiAlbert.new(20,2),\n",
    "    Graph::Distribution::Bernoulli.new(16,0.6),\n",
    "    Graph::Distribution::Bernoulli.new(20,0.3),\n",
    "    Graph::Distribution::WattsStrogatz.new(20,0.07),\n",
    "    Graph::Distribution::Price.new(20, 2, 1);"
   ]
  },
  {
   "cell_type": "code",
   "execution_count": 27,
   "metadata": {},
   "outputs": [
    {
     "data": {
      "application/javascript": "(function(element) { require(['d3'], function(d3) {\n\n// set the dimensions and margins of the graph\nvar margin = {\"bottom\":40,\"top\":40,\"left\":40,\"right\":40},\n    width = 600 - margin.left - margin.right,\n    height = 370.828183 - margin.top - margin.bottom;\n\n// append the svg object to the body of the page\nvar svg = d3\n   .select(element.get(0))\n  .append(\"svg\")\n    .attr(\"width\", width + margin.left + margin.right)\n    .attr(\"height\", height + margin.top + margin.bottom)\n    .style(\"background\", \"1F1F1F\")\n  .append(\"g\")\n    .attr(\"transform\",\n          \"translate(\" + margin.left + \",\" + margin.top + \")\")\n\n// Obtain title\nvar title = \"Graph::Distribution::Uniform.new(vertex-count => 27, edges-count => 55)\"\nvar titleFontSize = 16\n\nif ( title.length > 0 ) {\n    svg.append(\"text\")\n        .attr(\"x\", (width / 2))\n        .attr(\"y\", 0 - (margin.top / 2))\n        .attr(\"text-anchor\", \"middle\")\n        .style(\"font-size\", titleFontSize.toString() + \"px\")\n        .style(\"fill\", \"Ivory\")\n        .text(title);\n}\n\nconst edges = [{\"from\":\"14\",\"to\":\"1\",\"label\":\"\",\"weight\":1},{\"weight\":1,\"to\":\"24\",\"label\":\"\",\"from\":\"14\"},{\"label\":\"\",\"weight\":1,\"from\":\"18\",\"to\":\"12\"},{\"to\":\"22\",\"label\":\"\",\"weight\":1,\"from\":\"18\"},{\"label\":\"\",\"weight\":1,\"to\":\"11\",\"from\":\"18\"},{\"from\":\"18\",\"to\":\"5\",\"label\":\"\",\"weight\":1},{\"to\":\"8\",\"weight\":1,\"from\":\"18\",\"label\":\"\"},{\"label\":\"\",\"from\":\"18\",\"weight\":1,\"to\":\"3\"},{\"weight\":1,\"to\":\"20\",\"label\":\"\",\"from\":\"9\"},{\"to\":\"10\",\"label\":\"\",\"from\":\"9\",\"weight\":1},{\"weight\":1,\"to\":\"1\",\"label\":\"\",\"from\":\"9\"},{\"label\":\"\",\"to\":\"15\",\"from\":\"9\",\"weight\":1},{\"label\":\"\",\"to\":\"2\",\"weight\":1,\"from\":\"9\"},{\"weight\":1,\"to\":\"13\",\"from\":\"9\",\"label\":\"\"},{\"to\":\"19\",\"weight\":1,\"from\":\"9\",\"label\":\"\"},{\"weight\":1,\"label\":\"\",\"to\":\"12\",\"from\":\"17\"},{\"from\":\"17\",\"weight\":1,\"to\":\"8\",\"label\":\"\"},{\"label\":\"\",\"to\":\"23\",\"weight\":1,\"from\":\"17\"},{\"weight\":1,\"label\":\"\",\"from\":\"17\",\"to\":\"16\"},{\"from\":\"17\",\"label\":\"\",\"weight\":1,\"to\":\"2\"},{\"to\":\"15\",\"from\":\"16\",\"label\":\"\",\"weight\":1},{\"to\":\"25\",\"label\":\"\",\"weight\":1,\"from\":\"16\"},{\"from\":\"16\",\"label\":\"\",\"to\":\"20\",\"weight\":1},{\"weight\":1,\"label\":\"\",\"to\":\"24\",\"from\":\"13\"},{\"to\":\"8\",\"weight\":1,\"label\":\"\",\"from\":\"13\"},{\"weight\":1,\"label\":\"\",\"from\":\"13\",\"to\":\"20\"},{\"label\":\"\",\"from\":\"13\",\"weight\":1,\"to\":\"25\"},{\"weight\":1,\"label\":\"\",\"from\":\"8\",\"to\":\"21\"},{\"weight\":1,\"from\":\"8\",\"to\":\"11\",\"label\":\"\"},{\"weight\":1,\"from\":\"8\",\"label\":\"\",\"to\":\"10\"},{\"label\":\"\",\"from\":\"6\",\"weight\":1,\"to\":\"7\"},{\"to\":\"4\",\"label\":\"\",\"from\":\"6\",\"weight\":1},{\"from\":\"4\",\"to\":\"26\",\"label\":\"\",\"weight\":1},{\"label\":\"\",\"to\":\"12\",\"from\":\"4\",\"weight\":1},{\"label\":\"\",\"to\":\"1\",\"from\":\"4\",\"weight\":1},{\"to\":\"15\",\"weight\":1,\"label\":\"\",\"from\":\"12\"},{\"from\":\"12\",\"label\":\"\",\"to\":\"24\",\"weight\":1},{\"from\":\"12\",\"weight\":1,\"to\":\"3\",\"label\":\"\"},{\"label\":\"\",\"weight\":1,\"from\":\"7\",\"to\":\"15\"},{\"weight\":1,\"label\":\"\",\"to\":\"22\",\"from\":\"7\"},{\"from\":\"20\",\"weight\":1,\"label\":\"\",\"to\":\"26\"},{\"label\":\"\",\"weight\":1,\"from\":\"20\",\"to\":\"23\"},{\"from\":\"1\",\"to\":\"15\",\"weight\":1,\"label\":\"\"},{\"from\":\"11\",\"to\":\"21\",\"label\":\"\",\"weight\":1},{\"weight\":1,\"from\":\"15\",\"to\":\"25\",\"label\":\"\"},{\"from\":\"3\",\"weight\":1,\"label\":\"\",\"to\":\"10\"},{\"from\":\"3\",\"weight\":1,\"to\":\"26\",\"label\":\"\"},{\"label\":\"\",\"to\":\"25\",\"weight\":1,\"from\":\"5\"},{\"label\":\"\",\"to\":\"27\",\"weight\":1,\"from\":\"5\"},{\"weight\":1,\"label\":\"\",\"to\":\"25\",\"from\":\"2\"},{\"weight\":1,\"to\":\"23\",\"from\":\"2\",\"label\":\"\"},{\"from\":\"2\",\"label\":\"\",\"weight\":1,\"to\":\"26\"},{\"to\":\"26\",\"label\":\"\",\"weight\":1,\"from\":\"10\"},{\"weight\":1,\"to\":\"27\",\"from\":\"21\",\"label\":\"\"}];\n\nconst nodes = Array.from(new Set(edges.flatMap(e => [e.from, e.to])), id => ({id}));\n\nconst highlightNodes = new Set([]);\n\nconst highlightLinkNodes = new Set([]);\n\nconst links = edges.map(e => ({\n  source: e.from,\n  target: e.to,\n  weight: e.weight,\n  label: e.label,\n  highlight: highlightLinkNodes.has(e.from + \"-\" + e.to)\n}));\n\n//.force(\"link\", d3.forceLink(links).id(d => d.id).distance(d => Math.max(d.weight * 20, 2 * 4)))\nconst simulation = d3.forceSimulation(nodes)\n    .force(\"link\", d3.forceLink(links).id(d => d.id).iterations(1))\n    .force(\"charge\", d3.forceManyBody().strength(-120).distanceMin(1).distanceMax(2000))\n    .force(\"x\", d3.forceX())\n    .force(\"y\", d3.forceY())\n    .force(\"collision\", d3.forceCollide())\n    .force(\"center\", d3.forceCenter(width / 2, height / 2));\n\nsvg.append('defs').append('marker')\n    .attr(\"id\",'arrowhead')\n    .attr('viewBox','-0 -5 10 10') //the bound of the SVG viewport for the current SVG fragment. defines a coordinate system 10 wide and 10 high starting on (0,-5)\n     .attr('refX', 8) // x coordinate for the reference point of the marker. If circle is bigger, this need to be bigger.\n     .attr('refY',0)\n     .attr('orient','auto')\n        .attr('markerWidth', 3)\n        .attr('markerHeight', 3)\n        .attr('xoverflow','visible')\n    .append('svg:path')\n    .attr('d', 'M 0,-5 L 10 ,0 L 0,5')\n    .attr('fill', \"SteelBlue\")\n    .style('stroke','none');\n\nconst link = svg.append(\"g\")\n    .attr(\"class\", \"links\")\n  .selectAll(\"line\")\n  .data(links)\n  .enter().append(\"line\")\n    .attr(\"class\", \"link\")\n    .attr(\"stroke\", d => d.highlight ? \"Orange\" : \"SteelBlue\")\n    .attr(\"stroke-width\", 1)\n    \n\nconst node = svg.append(\"g\")\n    .attr(\"class\", \"nodes\")\n  .selectAll(\"circle\")\n  .data(nodes)\n  .enter().append(\"circle\")\n    .attr(\"class\", \"node\")\n    .attr(\"r\", 2)\n    .attr(\"stroke\", d => highlightNodes.has(d.id) ? \"Orange\" : \"SteelBlue\")\n    .attr(\"fill\", d => highlightNodes.has(d.id) ?  \"Orange\" : \"SteelBlue\")\n    .call(drag(simulation));\n\nnode.append(\"title\")\n    .text(d => d.id);\n\nconst nodeLabel = svg.append(\"g\")\n    .attr(\"class\", \"node-labels\")\n  .selectAll(\"text\")\n  .data(nodes)\n  .enter().append(\"text\")\n    .attr(\"class\", \"node-label\")\n    .style(\"font-size\", 13)\n    .attr(\"font-family\", \"Courier\")\n    .attr(\"dy\", -10)\n    .attr('fill', \"Ivory\")\n    .attr('stroke', \"Ivory\")\n    .text(d => d.id);\n\nconst linkLabel = svg.append(\"g\")\n    .attr(\"class\", \"link-labels\")\n  .selectAll(\"text\")\n  .data(links)\n  .enter().append(\"text\")\n    .filter(d => d.label !== \"\")\n    .attr(\"class\", \"link-label\")\n    .style(\"font-size\", 13)\n    .attr(\"font-family\", \"Courier\")\n    .attr('fill', \"Ivory\")\n    .attr('stroke', \"Ivory\")\n    .text(d => d.label);\n\nsimulation.on(\"tick\", () => {\n  link\n      .attr(\"x1\", d => d.source.x)\n      .attr(\"y1\", d => d.source.y)\n      .attr(\"x2\", d => d.target.x)\n      .attr(\"y2\", d => d.target.y);\n\n  node\n      .attr(\"cx\", d => d.x)\n      .attr(\"cy\", d => d.y);\n\n  nodeLabel\n      .attr(\"x\", d => d.x)\n      .attr(\"y\", d => d.y);\n\n  linkLabel\n      .attr(\"x\", d => (d.source.x + d.target.x) / 2)\n      .attr(\"y\", d => (d.source.y + d.target.y) / 2);\n});\n\nfunction drag(simulation) {\n  function dragstarted(event, d) {\n    if (!event.active) simulation.alphaTarget(0.3).restart();\n    d.fx = d.x;\n    d.fy = d.y;\n  }\n\n  function dragged(event, d) {\n    d.fx = event.x;\n    d.fy = event.y;\n  }\n\n  function dragended(event, d) {\n    if (!event.active) simulation.alphaTarget(0);\n    d.fx = null;\n    d.fy = null;\n  }\n\n  return d3.drag()\n      .on(\"start\", dragstarted)\n      .on(\"drag\", dragged)\n      .on(\"end\", dragended);\n}\n\n}) })(element);\n\n(function(element) { require(['d3'], function(d3) {\n\n// set the dimensions and margins of the graph\nvar margin = {\"left\":40,\"right\":40,\"bottom\":40,\"top\":40},\n    width = 600 - margin.left - margin.right,\n    height = 370.828183 - margin.top - margin.bottom;\n\n// append the svg object to the body of the page\nvar svg = d3\n   .select(element.get(0))\n  .append(\"svg\")\n    .attr(\"width\", width + margin.left + margin.right)\n    .attr(\"height\", height + margin.top + margin.bottom)\n    .style(\"background\", \"1F1F1F\")\n  .append(\"g\")\n    .attr(\"transform\",\n          \"translate(\" + margin.left + \",\" + margin.top + \")\")\n\n// Obtain title\nvar title = \"Graph::Distribution::Uniform.new(vertex-count => 38, edges-count => 71)\"\nvar titleFontSize = 16\n\nif ( title.length > 0 ) {\n    svg.append(\"text\")\n        .attr(\"x\", (width / 2))\n        .attr(\"y\", 0 - (margin.top / 2))\n        .attr(\"text-anchor\", \"middle\")\n        .style(\"font-size\", titleFontSize.toString() + \"px\")\n        .style(\"fill\", \"Ivory\")\n        .text(title);\n}\n\nconst edges = [{\"from\":\"2\",\"to\":\"14\",\"weight\":1,\"label\":\"\"},{\"to\":\"4\",\"from\":\"2\",\"weight\":1,\"label\":\"\"},{\"weight\":1,\"label\":\"\",\"to\":\"38\",\"from\":\"2\"},{\"label\":\"\",\"to\":\"9\",\"from\":\"2\",\"weight\":1},{\"weight\":1,\"from\":\"2\",\"label\":\"\",\"to\":\"13\"},{\"from\":\"2\",\"to\":\"33\",\"weight\":1,\"label\":\"\"},{\"weight\":1,\"label\":\"\",\"from\":\"3\",\"to\":\"4\"},{\"to\":\"27\",\"weight\":1,\"label\":\"\",\"from\":\"3\"},{\"label\":\"\",\"from\":\"3\",\"weight\":1,\"to\":\"20\"},{\"from\":\"3\",\"weight\":1,\"label\":\"\",\"to\":\"31\"},{\"label\":\"\",\"to\":\"14\",\"from\":\"3\",\"weight\":1},{\"weight\":1,\"label\":\"\",\"from\":\"16\",\"to\":\"18\"},{\"from\":\"16\",\"weight\":1,\"to\":\"17\",\"label\":\"\"},{\"weight\":1,\"to\":\"28\",\"label\":\"\",\"from\":\"16\"},{\"to\":\"31\",\"weight\":1,\"from\":\"19\",\"label\":\"\"},{\"to\":\"1\",\"weight\":1,\"label\":\"\",\"from\":\"19\"},{\"label\":\"\",\"to\":\"18\",\"weight\":1,\"from\":\"19\"},{\"weight\":1,\"to\":\"20\",\"label\":\"\",\"from\":\"12\"},{\"from\":\"12\",\"label\":\"\",\"to\":\"18\",\"weight\":1},{\"from\":\"12\",\"weight\":1,\"label\":\"\",\"to\":\"38\"},{\"from\":\"12\",\"to\":\"11\",\"weight\":1,\"label\":\"\"},{\"to\":\"36\",\"label\":\"\",\"weight\":1,\"from\":\"11\"},{\"to\":\"15\",\"weight\":1,\"label\":\"\",\"from\":\"25\"},{\"from\":\"18\",\"weight\":1,\"label\":\"\",\"to\":\"34\"},{\"from\":\"6\",\"to\":\"33\",\"weight\":1,\"label\":\"\"},{\"weight\":1,\"label\":\"\",\"to\":\"36\",\"from\":\"6\"},{\"to\":\"21\",\"label\":\"\",\"weight\":1,\"from\":\"6\"},{\"to\":\"27\",\"from\":\"13\",\"label\":\"\",\"weight\":1},{\"from\":\"13\",\"label\":\"\",\"weight\":1,\"to\":\"28\"},{\"from\":\"13\",\"label\":\"\",\"to\":\"7\",\"weight\":1},{\"label\":\"\",\"to\":\"33\",\"from\":\"13\",\"weight\":1},{\"weight\":1,\"to\":\"17\",\"label\":\"\",\"from\":\"13\"},{\"weight\":1,\"label\":\"\",\"from\":\"13\",\"to\":\"8\"},{\"from\":\"13\",\"weight\":1,\"to\":\"36\",\"label\":\"\"},{\"to\":\"31\",\"from\":\"13\",\"weight\":1,\"label\":\"\"},{\"from\":\"1\",\"weight\":1,\"label\":\"\",\"to\":\"31\"},{\"label\":\"\",\"to\":\"37\",\"weight\":1,\"from\":\"1\"},{\"weight\":1,\"from\":\"1\",\"label\":\"\",\"to\":\"7\"},{\"from\":\"1\",\"label\":\"\",\"weight\":1,\"to\":\"24\"},{\"weight\":1,\"from\":\"1\",\"to\":\"29\",\"label\":\"\"},{\"weight\":1,\"label\":\"\",\"to\":\"21\",\"from\":\"9\"},{\"label\":\"\",\"to\":\"27\",\"from\":\"29\",\"weight\":1},{\"label\":\"\",\"to\":\"34\",\"weight\":1,\"from\":\"29\"},{\"to\":\"24\",\"from\":\"34\",\"weight\":1,\"label\":\"\"},{\"to\":\"36\",\"weight\":1,\"label\":\"\",\"from\":\"34\"},{\"to\":\"32\",\"weight\":1,\"label\":\"\",\"from\":\"34\"},{\"label\":\"\",\"to\":\"10\",\"weight\":1,\"from\":\"22\"},{\"to\":\"14\",\"from\":\"22\",\"weight\":1,\"label\":\"\"},{\"weight\":1,\"to\":\"37\",\"from\":\"22\",\"label\":\"\"},{\"from\":\"27\",\"to\":\"23\",\"weight\":1,\"label\":\"\"},{\"weight\":1,\"to\":\"17\",\"from\":\"27\",\"label\":\"\"},{\"label\":\"\",\"from\":\"14\",\"to\":\"26\",\"weight\":1},{\"from\":\"14\",\"to\":\"28\",\"label\":\"\",\"weight\":1},{\"from\":\"14\",\"to\":\"38\",\"label\":\"\",\"weight\":1},{\"from\":\"17\",\"label\":\"\",\"weight\":1,\"to\":\"32\"},{\"label\":\"\",\"to\":\"35\",\"from\":\"17\",\"weight\":1},{\"weight\":1,\"from\":\"17\",\"label\":\"\",\"to\":\"37\"},{\"weight\":1,\"from\":\"28\",\"label\":\"\",\"to\":\"21\"},{\"from\":\"28\",\"weight\":1,\"label\":\"\",\"to\":\"35\"},{\"to\":\"30\",\"from\":\"8\",\"weight\":1,\"label\":\"\"},{\"label\":\"\",\"weight\":1,\"from\":\"30\",\"to\":\"31\"},{\"weight\":1,\"to\":\"38\",\"from\":\"30\",\"label\":\"\"},{\"label\":\"\",\"from\":\"35\",\"weight\":1,\"to\":\"24\"},{\"label\":\"\",\"to\":\"10\",\"from\":\"35\",\"weight\":1},{\"to\":\"36\",\"from\":\"35\",\"label\":\"\",\"weight\":1},{\"from\":\"35\",\"weight\":1,\"label\":\"\",\"to\":\"26\"},{\"label\":\"\",\"weight\":1,\"to\":\"24\",\"from\":\"33\"},{\"label\":\"\",\"to\":\"21\",\"from\":\"23\",\"weight\":1},{\"label\":\"\",\"from\":\"4\",\"to\":\"36\",\"weight\":1}];\n\nconst nodes = Array.from(new Set(edges.flatMap(e => [e.from, e.to])), id => ({id}));\n\nconst highlightNodes = new Set([]);\n\nconst highlightLinkNodes = new Set([]);\n\nconst links = edges.map(e => ({\n  source: e.from,\n  target: e.to,\n  weight: e.weight,\n  label: e.label,\n  highlight: highlightLinkNodes.has(e.from + \"-\" + e.to)\n}));\n\n//.force(\"link\", d3.forceLink(links).id(d => d.id).distance(d => Math.max(d.weight * 20, 2 * 4)))\nconst simulation = d3.forceSimulation(nodes)\n    .force(\"link\", d3.forceLink(links).id(d => d.id).iterations(1))\n    .force(\"charge\", d3.forceManyBody().strength(-120).distanceMin(1).distanceMax(2000))\n    .force(\"x\", d3.forceX())\n    .force(\"y\", d3.forceY())\n    .force(\"collision\", d3.forceCollide())\n    .force(\"center\", d3.forceCenter(width / 2, height / 2));\n\nsvg.append('defs').append('marker')\n    .attr(\"id\",'arrowhead')\n    .attr('viewBox','-0 -5 10 10') //the bound of the SVG viewport for the current SVG fragment. defines a coordinate system 10 wide and 10 high starting on (0,-5)\n     .attr('refX', 8) // x coordinate for the reference point of the marker. If circle is bigger, this need to be bigger.\n     .attr('refY',0)\n     .attr('orient','auto')\n        .attr('markerWidth', 3)\n        .attr('markerHeight', 3)\n        .attr('xoverflow','visible')\n    .append('svg:path')\n    .attr('d', 'M 0,-5 L 10 ,0 L 0,5')\n    .attr('fill', \"SteelBlue\")\n    .style('stroke','none');\n\nconst link = svg.append(\"g\")\n    .attr(\"class\", \"links\")\n  .selectAll(\"line\")\n  .data(links)\n  .enter().append(\"line\")\n    .attr(\"class\", \"link\")\n    .attr(\"stroke\", d => d.highlight ? \"Orange\" : \"SteelBlue\")\n    .attr(\"stroke-width\", 1)\n    \n\nconst node = svg.append(\"g\")\n    .attr(\"class\", \"nodes\")\n  .selectAll(\"circle\")\n  .data(nodes)\n  .enter().append(\"circle\")\n    .attr(\"class\", \"node\")\n    .attr(\"r\", 2)\n    .attr(\"stroke\", d => highlightNodes.has(d.id) ? \"Orange\" : \"SteelBlue\")\n    .attr(\"fill\", d => highlightNodes.has(d.id) ?  \"Orange\" : \"SteelBlue\")\n    .call(drag(simulation));\n\nnode.append(\"title\")\n    .text(d => d.id);\n\nconst nodeLabel = svg.append(\"g\")\n    .attr(\"class\", \"node-labels\")\n  .selectAll(\"text\")\n  .data(nodes)\n  .enter().append(\"text\")\n    .attr(\"class\", \"node-label\")\n    .style(\"font-size\", 13)\n    .attr(\"font-family\", \"Courier\")\n    .attr(\"dy\", -10)\n    .attr('fill', \"Ivory\")\n    .attr('stroke', \"Ivory\")\n    .text(d => d.id);\n\nconst linkLabel = svg.append(\"g\")\n    .attr(\"class\", \"link-labels\")\n  .selectAll(\"text\")\n  .data(links)\n  .enter().append(\"text\")\n    .filter(d => d.label !== \"\")\n    .attr(\"class\", \"link-label\")\n    .style(\"font-size\", 13)\n    .attr(\"font-family\", \"Courier\")\n    .attr('fill', \"Ivory\")\n    .attr('stroke', \"Ivory\")\n    .text(d => d.label);\n\nsimulation.on(\"tick\", () => {\n  link\n      .attr(\"x1\", d => d.source.x)\n      .attr(\"y1\", d => d.source.y)\n      .attr(\"x2\", d => d.target.x)\n      .attr(\"y2\", d => d.target.y);\n\n  node\n      .attr(\"cx\", d => d.x)\n      .attr(\"cy\", d => d.y);\n\n  nodeLabel\n      .attr(\"x\", d => d.x)\n      .attr(\"y\", d => d.y);\n\n  linkLabel\n      .attr(\"x\", d => (d.source.x + d.target.x) / 2)\n      .attr(\"y\", d => (d.source.y + d.target.y) / 2);\n});\n\nfunction drag(simulation) {\n  function dragstarted(event, d) {\n    if (!event.active) simulation.alphaTarget(0.3).restart();\n    d.fx = d.x;\n    d.fy = d.y;\n  }\n\n  function dragged(event, d) {\n    d.fx = event.x;\n    d.fy = event.y;\n  }\n\n  function dragended(event, d) {\n    if (!event.active) simulation.alphaTarget(0);\n    d.fx = null;\n    d.fy = null;\n  }\n\n  return d3.drag()\n      .on(\"start\", dragstarted)\n      .on(\"drag\", dragged)\n      .on(\"end\", dragended);\n}\n\n}) })(element);\n\n(function(element) { require(['d3'], function(d3) {\n\n// set the dimensions and margins of the graph\nvar margin = {\"bottom\":40,\"left\":40,\"top\":40,\"right\":40},\n    width = 600 - margin.left - margin.right,\n    height = 370.828183 - margin.top - margin.bottom;\n\n// append the svg object to the body of the page\nvar svg = d3\n   .select(element.get(0))\n  .append(\"svg\")\n    .attr(\"width\", width + margin.left + margin.right)\n    .attr(\"height\", height + margin.top + margin.bottom)\n    .style(\"background\", \"1F1F1F\")\n  .append(\"g\")\n    .attr(\"transform\",\n          \"translate(\" + margin.left + \",\" + margin.top + \")\")\n\n// Obtain title\nvar title = \"Graph::Distribution::BarabasiAlbert.new(vertex-count => 20, edges-count => 2)\"\nvar titleFontSize = 16\n\nif ( title.length > 0 ) {\n    svg.append(\"text\")\n        .attr(\"x\", (width / 2))\n        .attr(\"y\", 0 - (margin.top / 2))\n        .attr(\"text-anchor\", \"middle\")\n        .style(\"font-size\", titleFontSize.toString() + \"px\")\n        .style(\"fill\", \"Ivory\")\n        .text(title);\n}\n\nconst edges = [{\"to\":\"6\",\"weight\":1,\"from\":\"19\",\"label\":\"\"},{\"from\":\"19\",\"label\":\"\",\"to\":\"13\",\"weight\":1},{\"label\":\"\",\"weight\":1,\"from\":\"2\",\"to\":\"8\"},{\"from\":\"2\",\"label\":\"\",\"to\":\"1\",\"weight\":1},{\"label\":\"\",\"from\":\"2\",\"to\":\"11\",\"weight\":1},{\"to\":\"0\",\"weight\":1,\"from\":\"2\",\"label\":\"\"},{\"weight\":1,\"label\":\"\",\"to\":\"3\",\"from\":\"2\"},{\"to\":\"0\",\"from\":\"1\",\"label\":\"\",\"weight\":1},{\"weight\":1,\"label\":\"\",\"to\":\"6\",\"from\":\"1\"},{\"weight\":1,\"label\":\"\",\"to\":\"9\",\"from\":\"1\"},{\"to\":\"14\",\"label\":\"\",\"weight\":1,\"from\":\"6\"},{\"from\":\"6\",\"label\":\"\",\"weight\":1,\"to\":\"0\"},{\"to\":\"3\",\"from\":\"12\",\"label\":\"\",\"weight\":1},{\"label\":\"\",\"weight\":1,\"to\":\"9\",\"from\":\"12\"},{\"label\":\"\",\"from\":\"10\",\"weight\":1,\"to\":\"7\"},{\"from\":\"10\",\"label\":\"\",\"to\":\"0\",\"weight\":1},{\"label\":\"\",\"from\":\"5\",\"weight\":1,\"to\":\"17\"},{\"weight\":1,\"label\":\"\",\"from\":\"5\",\"to\":\"4\"},{\"weight\":1,\"from\":\"5\",\"to\":\"3\",\"label\":\"\"},{\"weight\":1,\"from\":\"8\",\"to\":\"7\",\"label\":\"\"},{\"weight\":1,\"to\":\"3\",\"label\":\"\",\"from\":\"14\"},{\"weight\":1,\"from\":\"14\",\"label\":\"\",\"to\":\"15\"},{\"weight\":1,\"label\":\"\",\"to\":\"7\",\"from\":\"4\"},{\"weight\":1,\"label\":\"\",\"from\":\"4\",\"to\":\"18\"},{\"to\":\"0\",\"from\":\"4\",\"label\":\"\",\"weight\":1},{\"weight\":1,\"label\":\"\",\"from\":\"4\",\"to\":\"3\"},{\"to\":\"16\",\"label\":\"\",\"from\":\"18\",\"weight\":1},{\"label\":\"\",\"from\":\"11\",\"weight\":1,\"to\":\"16\"},{\"from\":\"11\",\"weight\":1,\"label\":\"\",\"to\":\"9\"},{\"from\":\"0\",\"label\":\"\",\"to\":\"17\",\"weight\":1},{\"from\":\"0\",\"label\":\"\",\"weight\":1,\"to\":\"3\"},{\"weight\":1,\"to\":\"16\",\"label\":\"\",\"from\":\"0\"},{\"weight\":1,\"label\":\"\",\"from\":\"0\",\"to\":\"7\"},{\"from\":\"15\",\"to\":\"3\",\"weight\":1,\"label\":\"\"},{\"to\":\"13\",\"weight\":1,\"label\":\"\",\"from\":\"3\"},{\"from\":\"3\",\"to\":\"9\",\"label\":\"\",\"weight\":1},{\"from\":\"9\",\"to\":\"13\",\"weight\":1,\"label\":\"\"}];\n\nconst nodes = Array.from(new Set(edges.flatMap(e => [e.from, e.to])), id => ({id}));\n\nconst highlightNodes = new Set([]);\n\nconst highlightLinkNodes = new Set([]);\n\nconst links = edges.map(e => ({\n  source: e.from,\n  target: e.to,\n  weight: e.weight,\n  label: e.label,\n  highlight: highlightLinkNodes.has(e.from + \"-\" + e.to)\n}));\n\n//.force(\"link\", d3.forceLink(links).id(d => d.id).distance(d => Math.max(d.weight * 20, 2 * 4)))\nconst simulation = d3.forceSimulation(nodes)\n    .force(\"link\", d3.forceLink(links).id(d => d.id).iterations(1))\n    .force(\"charge\", d3.forceManyBody().strength(-120).distanceMin(1).distanceMax(2000))\n    .force(\"x\", d3.forceX())\n    .force(\"y\", d3.forceY())\n    .force(\"collision\", d3.forceCollide())\n    .force(\"center\", d3.forceCenter(width / 2, height / 2));\n\nsvg.append('defs').append('marker')\n    .attr(\"id\",'arrowhead')\n    .attr('viewBox','-0 -5 10 10') //the bound of the SVG viewport for the current SVG fragment. defines a coordinate system 10 wide and 10 high starting on (0,-5)\n     .attr('refX', 8) // x coordinate for the reference point of the marker. If circle is bigger, this need to be bigger.\n     .attr('refY',0)\n     .attr('orient','auto')\n        .attr('markerWidth', 3)\n        .attr('markerHeight', 3)\n        .attr('xoverflow','visible')\n    .append('svg:path')\n    .attr('d', 'M 0,-5 L 10 ,0 L 0,5')\n    .attr('fill', \"SteelBlue\")\n    .style('stroke','none');\n\nconst link = svg.append(\"g\")\n    .attr(\"class\", \"links\")\n  .selectAll(\"line\")\n  .data(links)\n  .enter().append(\"line\")\n    .attr(\"class\", \"link\")\n    .attr(\"stroke\", d => d.highlight ? \"Orange\" : \"SteelBlue\")\n    .attr(\"stroke-width\", 1)\n    \n\nconst node = svg.append(\"g\")\n    .attr(\"class\", \"nodes\")\n  .selectAll(\"circle\")\n  .data(nodes)\n  .enter().append(\"circle\")\n    .attr(\"class\", \"node\")\n    .attr(\"r\", 2)\n    .attr(\"stroke\", d => highlightNodes.has(d.id) ? \"Orange\" : \"SteelBlue\")\n    .attr(\"fill\", d => highlightNodes.has(d.id) ?  \"Orange\" : \"SteelBlue\")\n    .call(drag(simulation));\n\nnode.append(\"title\")\n    .text(d => d.id);\n\nconst nodeLabel = svg.append(\"g\")\n    .attr(\"class\", \"node-labels\")\n  .selectAll(\"text\")\n  .data(nodes)\n  .enter().append(\"text\")\n    .attr(\"class\", \"node-label\")\n    .style(\"font-size\", 13)\n    .attr(\"font-family\", \"Courier\")\n    .attr(\"dy\", -10)\n    .attr('fill', \"Ivory\")\n    .attr('stroke', \"Ivory\")\n    .text(d => d.id);\n\nconst linkLabel = svg.append(\"g\")\n    .attr(\"class\", \"link-labels\")\n  .selectAll(\"text\")\n  .data(links)\n  .enter().append(\"text\")\n    .filter(d => d.label !== \"\")\n    .attr(\"class\", \"link-label\")\n    .style(\"font-size\", 13)\n    .attr(\"font-family\", \"Courier\")\n    .attr('fill', \"Ivory\")\n    .attr('stroke', \"Ivory\")\n    .text(d => d.label);\n\nsimulation.on(\"tick\", () => {\n  link\n      .attr(\"x1\", d => d.source.x)\n      .attr(\"y1\", d => d.source.y)\n      .attr(\"x2\", d => d.target.x)\n      .attr(\"y2\", d => d.target.y);\n\n  node\n      .attr(\"cx\", d => d.x)\n      .attr(\"cy\", d => d.y);\n\n  nodeLabel\n      .attr(\"x\", d => d.x)\n      .attr(\"y\", d => d.y);\n\n  linkLabel\n      .attr(\"x\", d => (d.source.x + d.target.x) / 2)\n      .attr(\"y\", d => (d.source.y + d.target.y) / 2);\n});\n\nfunction drag(simulation) {\n  function dragstarted(event, d) {\n    if (!event.active) simulation.alphaTarget(0.3).restart();\n    d.fx = d.x;\n    d.fy = d.y;\n  }\n\n  function dragged(event, d) {\n    d.fx = event.x;\n    d.fy = event.y;\n  }\n\n  function dragended(event, d) {\n    if (!event.active) simulation.alphaTarget(0);\n    d.fx = null;\n    d.fy = null;\n  }\n\n  return d3.drag()\n      .on(\"start\", dragstarted)\n      .on(\"drag\", dragged)\n      .on(\"end\", dragended);\n}\n\n}) })(element);\n\n(function(element) { require(['d3'], function(d3) {\n\n// set the dimensions and margins of the graph\nvar margin = {\"bottom\":40,\"right\":40,\"top\":40,\"left\":40},\n    width = 600 - margin.left - margin.right,\n    height = 370.828183 - margin.top - margin.bottom;\n\n// append the svg object to the body of the page\nvar svg = d3\n   .select(element.get(0))\n  .append(\"svg\")\n    .attr(\"width\", width + margin.left + margin.right)\n    .attr(\"height\", height + margin.top + margin.bottom)\n    .style(\"background\", \"1F1F1F\")\n  .append(\"g\")\n    .attr(\"transform\",\n          \"translate(\" + margin.left + \",\" + margin.top + \")\")\n\n// Obtain title\nvar title = \"Graph::Distribution::Bernoulli.new(vertex-count => 16, p => 0.6)\"\nvar titleFontSize = 16\n\nif ( title.length > 0 ) {\n    svg.append(\"text\")\n        .attr(\"x\", (width / 2))\n        .attr(\"y\", 0 - (margin.top / 2))\n        .attr(\"text-anchor\", \"middle\")\n        .style(\"font-size\", titleFontSize.toString() + \"px\")\n        .style(\"fill\", \"Ivory\")\n        .text(title);\n}\n\nconst edges = [{\"weight\":1,\"to\":\"9\",\"from\":\"11\",\"label\":\"\"},{\"label\":\"\",\"from\":\"11\",\"to\":\"3\",\"weight\":1},{\"from\":\"11\",\"weight\":1,\"to\":\"6\",\"label\":\"\"},{\"weight\":1,\"to\":\"12\",\"label\":\"\",\"from\":\"11\"},{\"from\":\"11\",\"weight\":1,\"to\":\"7\",\"label\":\"\"},{\"label\":\"\",\"weight\":1,\"from\":\"11\",\"to\":\"8\"},{\"weight\":1,\"from\":\"11\",\"label\":\"\",\"to\":\"2\"},{\"to\":\"13\",\"from\":\"11\",\"label\":\"\",\"weight\":1},{\"from\":\"11\",\"weight\":1,\"label\":\"\",\"to\":\"15\"},{\"to\":\"15\",\"weight\":1,\"from\":\"13\",\"label\":\"\"},{\"from\":\"13\",\"to\":\"12\",\"weight\":1,\"label\":\"\"},{\"label\":\"\",\"weight\":1,\"to\":\"16\",\"from\":\"13\"},{\"from\":\"13\",\"weight\":1,\"label\":\"\",\"to\":\"5\"},{\"to\":\"4\",\"weight\":1,\"from\":\"16\",\"label\":\"\"},{\"weight\":1,\"from\":\"16\",\"label\":\"\",\"to\":\"6\"},{\"from\":\"16\",\"weight\":1,\"to\":\"8\",\"label\":\"\"},{\"label\":\"\",\"weight\":1,\"from\":\"10\",\"to\":\"8\"},{\"label\":\"\",\"weight\":1,\"from\":\"10\",\"to\":\"5\"},{\"label\":\"\",\"to\":\"15\",\"from\":\"10\",\"weight\":1},{\"from\":\"10\",\"weight\":1,\"label\":\"\",\"to\":\"14\"},{\"label\":\"\",\"to\":\"6\",\"weight\":1,\"from\":\"10\"},{\"label\":\"\",\"from\":\"7\",\"to\":\"12\",\"weight\":1},{\"label\":\"\",\"from\":\"7\",\"weight\":1,\"to\":\"5\"},{\"to\":\"9\",\"from\":\"7\",\"weight\":1,\"label\":\"\"},{\"to\":\"8\",\"from\":\"7\",\"weight\":1,\"label\":\"\"},{\"weight\":1,\"label\":\"\",\"from\":\"7\",\"to\":\"3\"},{\"from\":\"7\",\"label\":\"\",\"weight\":1,\"to\":\"15\"},{\"to\":\"4\",\"label\":\"\",\"from\":\"7\",\"weight\":1},{\"from\":\"7\",\"label\":\"\",\"weight\":1,\"to\":\"1\"},{\"weight\":1,\"to\":\"14\",\"label\":\"\",\"from\":\"7\"},{\"label\":\"\",\"from\":\"12\",\"weight\":1,\"to\":\"4\"},{\"label\":\"\",\"weight\":1,\"to\":\"6\",\"from\":\"12\"},{\"from\":\"12\",\"weight\":1,\"label\":\"\",\"to\":\"2\"},{\"to\":\"1\",\"weight\":1,\"from\":\"12\",\"label\":\"\"},{\"to\":\"8\",\"from\":\"12\",\"label\":\"\",\"weight\":1},{\"from\":\"12\",\"weight\":1,\"to\":\"3\",\"label\":\"\"},{\"from\":\"1\",\"weight\":1,\"to\":\"2\",\"label\":\"\"},{\"weight\":1,\"from\":\"1\",\"label\":\"\",\"to\":\"4\"},{\"to\":\"3\",\"label\":\"\",\"weight\":1,\"from\":\"1\"},{\"label\":\"\",\"to\":\"6\",\"from\":\"1\",\"weight\":1},{\"weight\":1,\"from\":\"1\",\"label\":\"\",\"to\":\"9\"},{\"weight\":1,\"label\":\"\",\"to\":\"14\",\"from\":\"1\"},{\"to\":\"8\",\"weight\":1,\"from\":\"1\",\"label\":\"\"},{\"to\":\"6\",\"weight\":1,\"label\":\"\",\"from\":\"15\"},{\"label\":\"\",\"from\":\"15\",\"to\":\"5\",\"weight\":1},{\"label\":\"\",\"weight\":1,\"to\":\"4\",\"from\":\"15\"},{\"to\":\"8\",\"from\":\"15\",\"label\":\"\",\"weight\":1},{\"label\":\"\",\"from\":\"4\",\"weight\":1,\"to\":\"14\"},{\"to\":\"3\",\"label\":\"\",\"from\":\"14\",\"weight\":1},{\"label\":\"\",\"from\":\"14\",\"to\":\"5\",\"weight\":1},{\"label\":\"\",\"from\":\"14\",\"to\":\"9\",\"weight\":1},{\"weight\":1,\"label\":\"\",\"from\":\"14\",\"to\":\"8\"},{\"label\":\"\",\"weight\":1,\"from\":\"8\",\"to\":\"9\"},{\"label\":\"\",\"to\":\"2\",\"weight\":1,\"from\":\"8\"},{\"weight\":1,\"from\":\"8\",\"label\":\"\",\"to\":\"6\"},{\"label\":\"\",\"to\":\"9\",\"from\":\"3\",\"weight\":1},{\"to\":\"6\",\"weight\":1,\"from\":\"3\",\"label\":\"\"},{\"label\":\"\",\"from\":\"3\",\"weight\":1,\"to\":\"5\"},{\"to\":\"6\",\"weight\":1,\"label\":\"\",\"from\":\"5\"},{\"from\":\"6\",\"weight\":1,\"to\":\"9\",\"label\":\"\"},{\"label\":\"\",\"to\":\"2\",\"from\":\"9\",\"weight\":1}];\n\nconst nodes = Array.from(new Set(edges.flatMap(e => [e.from, e.to])), id => ({id}));\n\nconst highlightNodes = new Set([]);\n\nconst highlightLinkNodes = new Set([]);\n\nconst links = edges.map(e => ({\n  source: e.from,\n  target: e.to,\n  weight: e.weight,\n  label: e.label,\n  highlight: highlightLinkNodes.has(e.from + \"-\" + e.to)\n}));\n\n//.force(\"link\", d3.forceLink(links).id(d => d.id).distance(d => Math.max(d.weight * 20, 2 * 4)))\nconst simulation = d3.forceSimulation(nodes)\n    .force(\"link\", d3.forceLink(links).id(d => d.id).iterations(1))\n    .force(\"charge\", d3.forceManyBody().strength(-120).distanceMin(1).distanceMax(2000))\n    .force(\"x\", d3.forceX())\n    .force(\"y\", d3.forceY())\n    .force(\"collision\", d3.forceCollide())\n    .force(\"center\", d3.forceCenter(width / 2, height / 2));\n\nsvg.append('defs').append('marker')\n    .attr(\"id\",'arrowhead')\n    .attr('viewBox','-0 -5 10 10') //the bound of the SVG viewport for the current SVG fragment. defines a coordinate system 10 wide and 10 high starting on (0,-5)\n     .attr('refX', 8) // x coordinate for the reference point of the marker. If circle is bigger, this need to be bigger.\n     .attr('refY',0)\n     .attr('orient','auto')\n        .attr('markerWidth', 3)\n        .attr('markerHeight', 3)\n        .attr('xoverflow','visible')\n    .append('svg:path')\n    .attr('d', 'M 0,-5 L 10 ,0 L 0,5')\n    .attr('fill', \"SteelBlue\")\n    .style('stroke','none');\n\nconst link = svg.append(\"g\")\n    .attr(\"class\", \"links\")\n  .selectAll(\"line\")\n  .data(links)\n  .enter().append(\"line\")\n    .attr(\"class\", \"link\")\n    .attr(\"stroke\", d => d.highlight ? \"Orange\" : \"SteelBlue\")\n    .attr(\"stroke-width\", 1)\n    \n\nconst node = svg.append(\"g\")\n    .attr(\"class\", \"nodes\")\n  .selectAll(\"circle\")\n  .data(nodes)\n  .enter().append(\"circle\")\n    .attr(\"class\", \"node\")\n    .attr(\"r\", 2)\n    .attr(\"stroke\", d => highlightNodes.has(d.id) ? \"Orange\" : \"SteelBlue\")\n    .attr(\"fill\", d => highlightNodes.has(d.id) ?  \"Orange\" : \"SteelBlue\")\n    .call(drag(simulation));\n\nnode.append(\"title\")\n    .text(d => d.id);\n\nconst nodeLabel = svg.append(\"g\")\n    .attr(\"class\", \"node-labels\")\n  .selectAll(\"text\")\n  .data(nodes)\n  .enter().append(\"text\")\n    .attr(\"class\", \"node-label\")\n    .style(\"font-size\", 13)\n    .attr(\"font-family\", \"Courier\")\n    .attr(\"dy\", -10)\n    .attr('fill', \"Ivory\")\n    .attr('stroke', \"Ivory\")\n    .text(d => d.id);\n\nconst linkLabel = svg.append(\"g\")\n    .attr(\"class\", \"link-labels\")\n  .selectAll(\"text\")\n  .data(links)\n  .enter().append(\"text\")\n    .filter(d => d.label !== \"\")\n    .attr(\"class\", \"link-label\")\n    .style(\"font-size\", 13)\n    .attr(\"font-family\", \"Courier\")\n    .attr('fill', \"Ivory\")\n    .attr('stroke', \"Ivory\")\n    .text(d => d.label);\n\nsimulation.on(\"tick\", () => {\n  link\n      .attr(\"x1\", d => d.source.x)\n      .attr(\"y1\", d => d.source.y)\n      .attr(\"x2\", d => d.target.x)\n      .attr(\"y2\", d => d.target.y);\n\n  node\n      .attr(\"cx\", d => d.x)\n      .attr(\"cy\", d => d.y);\n\n  nodeLabel\n      .attr(\"x\", d => d.x)\n      .attr(\"y\", d => d.y);\n\n  linkLabel\n      .attr(\"x\", d => (d.source.x + d.target.x) / 2)\n      .attr(\"y\", d => (d.source.y + d.target.y) / 2);\n});\n\nfunction drag(simulation) {\n  function dragstarted(event, d) {\n    if (!event.active) simulation.alphaTarget(0.3).restart();\n    d.fx = d.x;\n    d.fy = d.y;\n  }\n\n  function dragged(event, d) {\n    d.fx = event.x;\n    d.fy = event.y;\n  }\n\n  function dragended(event, d) {\n    if (!event.active) simulation.alphaTarget(0);\n    d.fx = null;\n    d.fy = null;\n  }\n\n  return d3.drag()\n      .on(\"start\", dragstarted)\n      .on(\"drag\", dragged)\n      .on(\"end\", dragended);\n}\n\n}) })(element);\n\n(function(element) { require(['d3'], function(d3) {\n\n// set the dimensions and margins of the graph\nvar margin = {\"top\":40,\"left\":40,\"right\":40,\"bottom\":40},\n    width = 600 - margin.left - margin.right,\n    height = 370.828183 - margin.top - margin.bottom;\n\n// append the svg object to the body of the page\nvar svg = d3\n   .select(element.get(0))\n  .append(\"svg\")\n    .attr(\"width\", width + margin.left + margin.right)\n    .attr(\"height\", height + margin.top + margin.bottom)\n    .style(\"background\", \"1F1F1F\")\n  .append(\"g\")\n    .attr(\"transform\",\n          \"translate(\" + margin.left + \",\" + margin.top + \")\")\n\n// Obtain title\nvar title = \"Graph::Distribution::Bernoulli.new(vertex-count => 20, p => 0.3)\"\nvar titleFontSize = 16\n\nif ( title.length > 0 ) {\n    svg.append(\"text\")\n        .attr(\"x\", (width / 2))\n        .attr(\"y\", 0 - (margin.top / 2))\n        .attr(\"text-anchor\", \"middle\")\n        .style(\"font-size\", titleFontSize.toString() + \"px\")\n        .style(\"fill\", \"Ivory\")\n        .text(title);\n}\n\nconst edges = [{\"weight\":1,\"from\":\"17\",\"to\":\"16\",\"label\":\"\"},{\"weight\":1,\"label\":\"\",\"to\":\"20\",\"from\":\"17\"},{\"label\":\"\",\"from\":\"17\",\"to\":\"1\",\"weight\":1},{\"label\":\"\",\"weight\":1,\"from\":\"17\",\"to\":\"8\"},{\"weight\":1,\"to\":\"15\",\"from\":\"19\",\"label\":\"\"},{\"weight\":1,\"label\":\"\",\"from\":\"19\",\"to\":\"3\"},{\"to\":\"20\",\"label\":\"\",\"from\":\"19\",\"weight\":1},{\"to\":\"13\",\"from\":\"19\",\"weight\":1,\"label\":\"\"},{\"weight\":1,\"to\":\"14\",\"from\":\"16\",\"label\":\"\"},{\"from\":\"16\",\"label\":\"\",\"to\":\"3\",\"weight\":1},{\"label\":\"\",\"from\":\"16\",\"to\":\"8\",\"weight\":1},{\"label\":\"\",\"to\":\"20\",\"from\":\"16\",\"weight\":1},{\"weight\":1,\"from\":\"16\",\"to\":\"13\",\"label\":\"\"},{\"weight\":1,\"to\":\"1\",\"label\":\"\",\"from\":\"15\"},{\"to\":\"4\",\"from\":\"15\",\"weight\":1,\"label\":\"\"},{\"to\":\"18\",\"weight\":1,\"from\":\"15\",\"label\":\"\"},{\"to\":\"7\",\"label\":\"\",\"from\":\"15\",\"weight\":1},{\"label\":\"\",\"weight\":1,\"to\":\"8\",\"from\":\"14\"},{\"from\":\"14\",\"weight\":1,\"label\":\"\",\"to\":\"12\"},{\"weight\":1,\"to\":\"10\",\"label\":\"\",\"from\":\"14\"},{\"label\":\"\",\"to\":\"13\",\"weight\":1,\"from\":\"14\"},{\"label\":\"\",\"from\":\"14\",\"to\":\"6\",\"weight\":1},{\"from\":\"14\",\"weight\":1,\"label\":\"\",\"to\":\"4\"},{\"to\":\"1\",\"from\":\"9\",\"label\":\"\",\"weight\":1},{\"label\":\"\",\"from\":\"9\",\"weight\":1,\"to\":\"11\"},{\"weight\":1,\"to\":\"5\",\"from\":\"9\",\"label\":\"\"},{\"to\":\"3\",\"weight\":1,\"label\":\"\",\"from\":\"9\"},{\"to\":\"7\",\"label\":\"\",\"from\":\"9\",\"weight\":1},{\"label\":\"\",\"to\":\"10\",\"weight\":1,\"from\":\"9\"},{\"to\":\"20\",\"label\":\"\",\"weight\":1,\"from\":\"11\"},{\"to\":\"8\",\"from\":\"11\",\"label\":\"\",\"weight\":1},{\"label\":\"\",\"weight\":1,\"to\":\"12\",\"from\":\"11\"},{\"label\":\"\",\"weight\":1,\"from\":\"11\",\"to\":\"1\"},{\"weight\":1,\"label\":\"\",\"from\":\"2\",\"to\":\"7\"},{\"label\":\"\",\"to\":\"1\",\"from\":\"2\",\"weight\":1},{\"to\":\"20\",\"label\":\"\",\"from\":\"1\",\"weight\":1},{\"weight\":1,\"label\":\"\",\"from\":\"1\",\"to\":\"8\"},{\"label\":\"\",\"to\":\"3\",\"weight\":1,\"from\":\"18\"},{\"label\":\"\",\"to\":\"8\",\"from\":\"18\",\"weight\":1},{\"label\":\"\",\"to\":\"6\",\"from\":\"18\",\"weight\":1},{\"to\":\"5\",\"weight\":1,\"from\":\"18\",\"label\":\"\"},{\"from\":\"7\",\"label\":\"\",\"to\":\"8\",\"weight\":1},{\"weight\":1,\"to\":\"5\",\"label\":\"\",\"from\":\"3\"},{\"to\":\"20\",\"label\":\"\",\"weight\":1,\"from\":\"3\"},{\"label\":\"\",\"weight\":1,\"from\":\"13\",\"to\":\"10\"},{\"from\":\"13\",\"weight\":1,\"label\":\"\",\"to\":\"5\"},{\"from\":\"4\",\"weight\":1,\"label\":\"\",\"to\":\"20\"},{\"weight\":1,\"from\":\"8\",\"to\":\"20\",\"label\":\"\"},{\"label\":\"\",\"from\":\"6\",\"weight\":1,\"to\":\"12\"},{\"label\":\"\",\"from\":\"6\",\"weight\":1,\"to\":\"20\"},{\"label\":\"\",\"from\":\"12\",\"to\":\"10\",\"weight\":1}];\n\nconst nodes = Array.from(new Set(edges.flatMap(e => [e.from, e.to])), id => ({id}));\n\nconst highlightNodes = new Set([]);\n\nconst highlightLinkNodes = new Set([]);\n\nconst links = edges.map(e => ({\n  source: e.from,\n  target: e.to,\n  weight: e.weight,\n  label: e.label,\n  highlight: highlightLinkNodes.has(e.from + \"-\" + e.to)\n}));\n\n//.force(\"link\", d3.forceLink(links).id(d => d.id).distance(d => Math.max(d.weight * 20, 2 * 4)))\nconst simulation = d3.forceSimulation(nodes)\n    .force(\"link\", d3.forceLink(links).id(d => d.id).iterations(1))\n    .force(\"charge\", d3.forceManyBody().strength(-120).distanceMin(1).distanceMax(2000))\n    .force(\"x\", d3.forceX())\n    .force(\"y\", d3.forceY())\n    .force(\"collision\", d3.forceCollide())\n    .force(\"center\", d3.forceCenter(width / 2, height / 2));\n\nsvg.append('defs').append('marker')\n    .attr(\"id\",'arrowhead')\n    .attr('viewBox','-0 -5 10 10') //the bound of the SVG viewport for the current SVG fragment. defines a coordinate system 10 wide and 10 high starting on (0,-5)\n     .attr('refX', 8) // x coordinate for the reference point of the marker. If circle is bigger, this need to be bigger.\n     .attr('refY',0)\n     .attr('orient','auto')\n        .attr('markerWidth', 3)\n        .attr('markerHeight', 3)\n        .attr('xoverflow','visible')\n    .append('svg:path')\n    .attr('d', 'M 0,-5 L 10 ,0 L 0,5')\n    .attr('fill', \"SteelBlue\")\n    .style('stroke','none');\n\nconst link = svg.append(\"g\")\n    .attr(\"class\", \"links\")\n  .selectAll(\"line\")\n  .data(links)\n  .enter().append(\"line\")\n    .attr(\"class\", \"link\")\n    .attr(\"stroke\", d => d.highlight ? \"Orange\" : \"SteelBlue\")\n    .attr(\"stroke-width\", 1)\n    \n\nconst node = svg.append(\"g\")\n    .attr(\"class\", \"nodes\")\n  .selectAll(\"circle\")\n  .data(nodes)\n  .enter().append(\"circle\")\n    .attr(\"class\", \"node\")\n    .attr(\"r\", 2)\n    .attr(\"stroke\", d => highlightNodes.has(d.id) ? \"Orange\" : \"SteelBlue\")\n    .attr(\"fill\", d => highlightNodes.has(d.id) ?  \"Orange\" : \"SteelBlue\")\n    .call(drag(simulation));\n\nnode.append(\"title\")\n    .text(d => d.id);\n\nconst nodeLabel = svg.append(\"g\")\n    .attr(\"class\", \"node-labels\")\n  .selectAll(\"text\")\n  .data(nodes)\n  .enter().append(\"text\")\n    .attr(\"class\", \"node-label\")\n    .style(\"font-size\", 13)\n    .attr(\"font-family\", \"Courier\")\n    .attr(\"dy\", -10)\n    .attr('fill', \"Ivory\")\n    .attr('stroke', \"Ivory\")\n    .text(d => d.id);\n\nconst linkLabel = svg.append(\"g\")\n    .attr(\"class\", \"link-labels\")\n  .selectAll(\"text\")\n  .data(links)\n  .enter().append(\"text\")\n    .filter(d => d.label !== \"\")\n    .attr(\"class\", \"link-label\")\n    .style(\"font-size\", 13)\n    .attr(\"font-family\", \"Courier\")\n    .attr('fill', \"Ivory\")\n    .attr('stroke', \"Ivory\")\n    .text(d => d.label);\n\nsimulation.on(\"tick\", () => {\n  link\n      .attr(\"x1\", d => d.source.x)\n      .attr(\"y1\", d => d.source.y)\n      .attr(\"x2\", d => d.target.x)\n      .attr(\"y2\", d => d.target.y);\n\n  node\n      .attr(\"cx\", d => d.x)\n      .attr(\"cy\", d => d.y);\n\n  nodeLabel\n      .attr(\"x\", d => d.x)\n      .attr(\"y\", d => d.y);\n\n  linkLabel\n      .attr(\"x\", d => (d.source.x + d.target.x) / 2)\n      .attr(\"y\", d => (d.source.y + d.target.y) / 2);\n});\n\nfunction drag(simulation) {\n  function dragstarted(event, d) {\n    if (!event.active) simulation.alphaTarget(0.3).restart();\n    d.fx = d.x;\n    d.fy = d.y;\n  }\n\n  function dragged(event, d) {\n    d.fx = event.x;\n    d.fy = event.y;\n  }\n\n  function dragended(event, d) {\n    if (!event.active) simulation.alphaTarget(0);\n    d.fx = null;\n    d.fy = null;\n  }\n\n  return d3.drag()\n      .on(\"start\", dragstarted)\n      .on(\"drag\", dragged)\n      .on(\"end\", dragended);\n}\n\n}) })(element);\n\n(function(element) { require(['d3'], function(d3) {\n\n// set the dimensions and margins of the graph\nvar margin = {\"top\":40,\"bottom\":40,\"left\":40,\"right\":40},\n    width = 600 - margin.left - margin.right,\n    height = 370.828183 - margin.top - margin.bottom;\n\n// append the svg object to the body of the page\nvar svg = d3\n   .select(element.get(0))\n  .append(\"svg\")\n    .attr(\"width\", width + margin.left + margin.right)\n    .attr(\"height\", height + margin.top + margin.bottom)\n    .style(\"background\", \"1F1F1F\")\n  .append(\"g\")\n    .attr(\"transform\",\n          \"translate(\" + margin.left + \",\" + margin.top + \")\")\n\n// Obtain title\nvar title = \"Graph::Distribution::WattsStrogatz.new(vertex-count => 20, p => 0.07)\"\nvar titleFontSize = 16\n\nif ( title.length > 0 ) {\n    svg.append(\"text\")\n        .attr(\"x\", (width / 2))\n        .attr(\"y\", 0 - (margin.top / 2))\n        .attr(\"text-anchor\", \"middle\")\n        .style(\"font-size\", titleFontSize.toString() + \"px\")\n        .style(\"fill\", \"Ivory\")\n        .text(title);\n}\n\nconst edges = [{\"to\":\"7\",\"label\":\"\",\"from\":\"6\",\"weight\":1},{\"from\":\"6\",\"to\":\"8\",\"weight\":1,\"label\":\"\"},{\"from\":\"6\",\"weight\":1,\"to\":\"5\",\"label\":\"\"},{\"weight\":1,\"from\":\"6\",\"label\":\"\",\"to\":\"4\"},{\"label\":\"\",\"from\":\"4\",\"to\":\"3\",\"weight\":1},{\"from\":\"4\",\"to\":\"2\",\"label\":\"\",\"weight\":1},{\"weight\":1,\"from\":\"4\",\"label\":\"\",\"to\":\"14\"},{\"weight\":1,\"from\":\"4\",\"label\":\"\",\"to\":\"5\"},{\"weight\":1,\"to\":\"0\",\"label\":\"\",\"from\":\"1\"},{\"from\":\"1\",\"weight\":1,\"label\":\"\",\"to\":\"2\"},{\"label\":\"\",\"from\":\"1\",\"weight\":1,\"to\":\"3\"},{\"weight\":1,\"from\":\"1\",\"label\":\"\",\"to\":\"19\"},{\"from\":\"12\",\"weight\":1,\"label\":\"\",\"to\":\"13\"},{\"from\":\"12\",\"weight\":1,\"to\":\"11\",\"label\":\"\"},{\"weight\":1,\"from\":\"12\",\"to\":\"14\",\"label\":\"\"},{\"from\":\"12\",\"weight\":1,\"to\":\"10\",\"label\":\"\"},{\"label\":\"\",\"to\":\"5\",\"from\":\"3\",\"weight\":1},{\"to\":\"2\",\"from\":\"3\",\"weight\":1,\"label\":\"\"},{\"from\":\"7\",\"weight\":1,\"to\":\"9\",\"label\":\"\"},{\"label\":\"\",\"from\":\"7\",\"to\":\"8\",\"weight\":1},{\"label\":\"\",\"to\":\"5\",\"weight\":1,\"from\":\"7\"},{\"weight\":1,\"label\":\"\",\"from\":\"9\",\"to\":\"10\"},{\"label\":\"\",\"from\":\"9\",\"to\":\"8\",\"weight\":1},{\"from\":\"9\",\"weight\":1,\"label\":\"\",\"to\":\"11\"},{\"weight\":1,\"from\":\"17\",\"to\":\"15\",\"label\":\"\"},{\"weight\":1,\"to\":\"19\",\"from\":\"17\",\"label\":\"\"},{\"from\":\"17\",\"label\":\"\",\"to\":\"16\",\"weight\":1},{\"label\":\"\",\"from\":\"17\",\"to\":\"18\",\"weight\":1},{\"label\":\"\",\"weight\":1,\"to\":\"15\",\"from\":\"13\"},{\"label\":\"\",\"from\":\"13\",\"to\":\"11\",\"weight\":1},{\"label\":\"\",\"from\":\"13\",\"to\":\"14\",\"weight\":1},{\"to\":\"10\",\"label\":\"\",\"from\":\"11\",\"weight\":1},{\"from\":\"0\",\"to\":\"18\",\"label\":\"\",\"weight\":1},{\"weight\":1,\"to\":\"2\",\"from\":\"0\",\"label\":\"\"},{\"weight\":1,\"to\":\"19\",\"from\":\"0\",\"label\":\"\"},{\"from\":\"14\",\"label\":\"\",\"to\":\"15\",\"weight\":1},{\"label\":\"\",\"from\":\"14\",\"to\":\"16\",\"weight\":1},{\"from\":\"8\",\"label\":\"\",\"to\":\"10\",\"weight\":1},{\"to\":\"18\",\"label\":\"\",\"weight\":1,\"from\":\"19\"},{\"label\":\"\",\"weight\":1,\"to\":\"16\",\"from\":\"18\"},{\"to\":\"15\",\"from\":\"16\",\"weight\":1,\"label\":\"\"},{\"from\":\"16\",\"weight\":1,\"label\":\"\",\"to\":\"5\"}];\n\nconst nodes = Array.from(new Set(edges.flatMap(e => [e.from, e.to])), id => ({id}));\n\nconst highlightNodes = new Set([]);\n\nconst highlightLinkNodes = new Set([]);\n\nconst links = edges.map(e => ({\n  source: e.from,\n  target: e.to,\n  weight: e.weight,\n  label: e.label,\n  highlight: highlightLinkNodes.has(e.from + \"-\" + e.to)\n}));\n\n//.force(\"link\", d3.forceLink(links).id(d => d.id).distance(d => Math.max(d.weight * 20, 2 * 4)))\nconst simulation = d3.forceSimulation(nodes)\n    .force(\"link\", d3.forceLink(links).id(d => d.id).iterations(1))\n    .force(\"charge\", d3.forceManyBody().strength(-120).distanceMin(1).distanceMax(2000))\n    .force(\"x\", d3.forceX())\n    .force(\"y\", d3.forceY())\n    .force(\"collision\", d3.forceCollide())\n    .force(\"center\", d3.forceCenter(width / 2, height / 2));\n\nsvg.append('defs').append('marker')\n    .attr(\"id\",'arrowhead')\n    .attr('viewBox','-0 -5 10 10') //the bound of the SVG viewport for the current SVG fragment. defines a coordinate system 10 wide and 10 high starting on (0,-5)\n     .attr('refX', 8) // x coordinate for the reference point of the marker. If circle is bigger, this need to be bigger.\n     .attr('refY',0)\n     .attr('orient','auto')\n        .attr('markerWidth', 3)\n        .attr('markerHeight', 3)\n        .attr('xoverflow','visible')\n    .append('svg:path')\n    .attr('d', 'M 0,-5 L 10 ,0 L 0,5')\n    .attr('fill', \"SteelBlue\")\n    .style('stroke','none');\n\nconst link = svg.append(\"g\")\n    .attr(\"class\", \"links\")\n  .selectAll(\"line\")\n  .data(links)\n  .enter().append(\"line\")\n    .attr(\"class\", \"link\")\n    .attr(\"stroke\", d => d.highlight ? \"Orange\" : \"SteelBlue\")\n    .attr(\"stroke-width\", 1)\n    \n\nconst node = svg.append(\"g\")\n    .attr(\"class\", \"nodes\")\n  .selectAll(\"circle\")\n  .data(nodes)\n  .enter().append(\"circle\")\n    .attr(\"class\", \"node\")\n    .attr(\"r\", 2)\n    .attr(\"stroke\", d => highlightNodes.has(d.id) ? \"Orange\" : \"SteelBlue\")\n    .attr(\"fill\", d => highlightNodes.has(d.id) ?  \"Orange\" : \"SteelBlue\")\n    .call(drag(simulation));\n\nnode.append(\"title\")\n    .text(d => d.id);\n\nconst nodeLabel = svg.append(\"g\")\n    .attr(\"class\", \"node-labels\")\n  .selectAll(\"text\")\n  .data(nodes)\n  .enter().append(\"text\")\n    .attr(\"class\", \"node-label\")\n    .style(\"font-size\", 13)\n    .attr(\"font-family\", \"Courier\")\n    .attr(\"dy\", -10)\n    .attr('fill', \"Ivory\")\n    .attr('stroke', \"Ivory\")\n    .text(d => d.id);\n\nconst linkLabel = svg.append(\"g\")\n    .attr(\"class\", \"link-labels\")\n  .selectAll(\"text\")\n  .data(links)\n  .enter().append(\"text\")\n    .filter(d => d.label !== \"\")\n    .attr(\"class\", \"link-label\")\n    .style(\"font-size\", 13)\n    .attr(\"font-family\", \"Courier\")\n    .attr('fill', \"Ivory\")\n    .attr('stroke', \"Ivory\")\n    .text(d => d.label);\n\nsimulation.on(\"tick\", () => {\n  link\n      .attr(\"x1\", d => d.source.x)\n      .attr(\"y1\", d => d.source.y)\n      .attr(\"x2\", d => d.target.x)\n      .attr(\"y2\", d => d.target.y);\n\n  node\n      .attr(\"cx\", d => d.x)\n      .attr(\"cy\", d => d.y);\n\n  nodeLabel\n      .attr(\"x\", d => d.x)\n      .attr(\"y\", d => d.y);\n\n  linkLabel\n      .attr(\"x\", d => (d.source.x + d.target.x) / 2)\n      .attr(\"y\", d => (d.source.y + d.target.y) / 2);\n});\n\nfunction drag(simulation) {\n  function dragstarted(event, d) {\n    if (!event.active) simulation.alphaTarget(0.3).restart();\n    d.fx = d.x;\n    d.fy = d.y;\n  }\n\n  function dragged(event, d) {\n    d.fx = event.x;\n    d.fy = event.y;\n  }\n\n  function dragended(event, d) {\n    if (!event.active) simulation.alphaTarget(0);\n    d.fx = null;\n    d.fy = null;\n  }\n\n  return d3.drag()\n      .on(\"start\", dragstarted)\n      .on(\"drag\", dragged)\n      .on(\"end\", dragended);\n}\n\n}) })(element);\n\n(function(element) { require(['d3'], function(d3) {\n\n// set the dimensions and margins of the graph\nvar margin = {\"right\":40,\"left\":40,\"bottom\":40,\"top\":40},\n    width = 600 - margin.left - margin.right,\n    height = 370.828183 - margin.top - margin.bottom;\n\n// append the svg object to the body of the page\nvar svg = d3\n   .select(element.get(0))\n  .append(\"svg\")\n    .attr(\"width\", width + margin.left + margin.right)\n    .attr(\"height\", height + margin.top + margin.bottom)\n    .style(\"background\", \"1F1F1F\")\n  .append(\"g\")\n    .attr(\"transform\",\n          \"translate(\" + margin.left + \",\" + margin.top + \")\")\n\n// Obtain title\nvar title = \"Graph::Distribution::Price.new(vertex-count => 20, edges-count => 2, attractiveness => 1)\"\nvar titleFontSize = 16\n\nif ( title.length > 0 ) {\n    svg.append(\"text\")\n        .attr(\"x\", (width / 2))\n        .attr(\"y\", 0 - (margin.top / 2))\n        .attr(\"text-anchor\", \"middle\")\n        .style(\"font-size\", titleFontSize.toString() + \"px\")\n        .style(\"fill\", \"Ivory\")\n        .text(title);\n}\n\nconst edges = [{\"label\":\"\",\"weight\":1,\"to\":\"2\",\"from\":\"7\"},{\"to\":\"5\",\"weight\":1,\"label\":\"\",\"from\":\"7\"},{\"from\":\"2\",\"label\":\"\",\"to\":\"0\",\"weight\":1},{\"to\":\"0\",\"from\":\"19\",\"weight\":1,\"label\":\"\"},{\"weight\":1,\"to\":\"2\",\"from\":\"19\",\"label\":\"\"},{\"weight\":1,\"from\":\"15\",\"label\":\"\",\"to\":\"9\"},{\"to\":\"2\",\"weight\":1,\"label\":\"\",\"from\":\"15\"},{\"weight\":1,\"label\":\"\",\"from\":\"12\",\"to\":\"7\"},{\"from\":\"12\",\"label\":\"\",\"to\":\"9\",\"weight\":1},{\"to\":\"4\",\"label\":\"\",\"from\":\"8\",\"weight\":1},{\"label\":\"\",\"weight\":1,\"to\":\"7\",\"from\":\"8\"},{\"from\":\"18\",\"to\":\"0\",\"weight\":1,\"label\":\"\"},{\"to\":\"6\",\"label\":\"\",\"from\":\"18\",\"weight\":1},{\"to\":\"0\",\"from\":\"3\",\"label\":\"\",\"weight\":1},{\"label\":\"\",\"from\":\"20\",\"to\":\"13\",\"weight\":1},{\"label\":\"\",\"to\":\"6\",\"weight\":1,\"from\":\"20\"},{\"to\":\"0\",\"from\":\"4\",\"label\":\"\",\"weight\":1},{\"to\":\"0\",\"weight\":1,\"label\":\"\",\"from\":\"5\"},{\"label\":\"\",\"from\":\"9\",\"weight\":1,\"to\":\"3\"},{\"from\":\"9\",\"to\":\"0\",\"label\":\"\",\"weight\":1},{\"to\":\"4\",\"from\":\"13\",\"weight\":1,\"label\":\"\"},{\"weight\":1,\"from\":\"13\",\"to\":\"2\",\"label\":\"\"},{\"weight\":1,\"to\":\"2\",\"from\":\"17\",\"label\":\"\"},{\"weight\":1,\"from\":\"17\",\"label\":\"\",\"to\":\"7\"},{\"to\":\"8\",\"label\":\"\",\"from\":\"16\",\"weight\":1},{\"label\":\"\",\"to\":\"0\",\"from\":\"16\",\"weight\":1},{\"weight\":1,\"label\":\"\",\"from\":\"11\",\"to\":\"0\"},{\"weight\":1,\"to\":\"0\",\"label\":\"\",\"from\":\"6\"},{\"to\":\"5\",\"label\":\"\",\"from\":\"6\",\"weight\":1},{\"label\":\"\",\"to\":\"11\",\"from\":\"14\",\"weight\":1},{\"to\":\"0\",\"from\":\"14\",\"weight\":1,\"label\":\"\"},{\"label\":\"\",\"to\":\"7\",\"from\":\"10\",\"weight\":1},{\"from\":\"10\",\"to\":\"0\",\"label\":\"\",\"weight\":1}];\n\nconst nodes = Array.from(new Set(edges.flatMap(e => [e.from, e.to])), id => ({id}));\n\nconst highlightNodes = new Set([]);\n\nconst highlightLinkNodes = new Set([]);\n\nconst links = edges.map(e => ({\n  source: e.from,\n  target: e.to,\n  weight: e.weight,\n  label: e.label,\n  highlight: highlightLinkNodes.has(e.from + \"-\" + e.to)\n}));\n\n//.force(\"link\", d3.forceLink(links).id(d => d.id).distance(d => Math.max(d.weight * 20, 2 * 4)))\nconst simulation = d3.forceSimulation(nodes)\n    .force(\"link\", d3.forceLink(links).id(d => d.id).iterations(1))\n    .force(\"charge\", d3.forceManyBody().strength(-120).distanceMin(1).distanceMax(2000))\n    .force(\"x\", d3.forceX())\n    .force(\"y\", d3.forceY())\n    .force(\"collision\", d3.forceCollide())\n    .force(\"center\", d3.forceCenter(width / 2, height / 2));\n\nsvg.append('defs').append('marker')\n    .attr(\"id\",'arrowhead')\n    .attr('viewBox','-0 -5 10 10') //the bound of the SVG viewport for the current SVG fragment. defines a coordinate system 10 wide and 10 high starting on (0,-5)\n     .attr('refX', 8) // x coordinate for the reference point of the marker. If circle is bigger, this need to be bigger.\n     .attr('refY',0)\n     .attr('orient','auto')\n        .attr('markerWidth', 3)\n        .attr('markerHeight', 3)\n        .attr('xoverflow','visible')\n    .append('svg:path')\n    .attr('d', 'M 0,-5 L 10 ,0 L 0,5')\n    .attr('fill', \"SteelBlue\")\n    .style('stroke','none');\n\nconst link = svg.append(\"g\")\n    .attr(\"class\", \"links\")\n  .selectAll(\"line\")\n  .data(links)\n  .enter().append(\"line\")\n    .attr(\"class\", \"link\")\n    .attr(\"stroke\", d => d.highlight ? \"Orange\" : \"SteelBlue\")\n    .attr(\"stroke-width\", 1)\n    .attr('marker-end','url(#arrowhead)')\n\nconst node = svg.append(\"g\")\n    .attr(\"class\", \"nodes\")\n  .selectAll(\"circle\")\n  .data(nodes)\n  .enter().append(\"circle\")\n    .attr(\"class\", \"node\")\n    .attr(\"r\", 2)\n    .attr(\"stroke\", d => highlightNodes.has(d.id) ? \"Orange\" : \"SteelBlue\")\n    .attr(\"fill\", d => highlightNodes.has(d.id) ?  \"Orange\" : \"SteelBlue\")\n    .call(drag(simulation));\n\nnode.append(\"title\")\n    .text(d => d.id);\n\nconst nodeLabel = svg.append(\"g\")\n    .attr(\"class\", \"node-labels\")\n  .selectAll(\"text\")\n  .data(nodes)\n  .enter().append(\"text\")\n    .attr(\"class\", \"node-label\")\n    .style(\"font-size\", 13)\n    .attr(\"font-family\", \"Courier\")\n    .attr(\"dy\", -10)\n    .attr('fill', \"Ivory\")\n    .attr('stroke', \"Ivory\")\n    .text(d => d.id);\n\nconst linkLabel = svg.append(\"g\")\n    .attr(\"class\", \"link-labels\")\n  .selectAll(\"text\")\n  .data(links)\n  .enter().append(\"text\")\n    .filter(d => d.label !== \"\")\n    .attr(\"class\", \"link-label\")\n    .style(\"font-size\", 13)\n    .attr(\"font-family\", \"Courier\")\n    .attr('fill', \"Ivory\")\n    .attr('stroke', \"Ivory\")\n    .text(d => d.label);\n\nsimulation.on(\"tick\", () => {\n  link\n      .attr(\"x1\", d => d.source.x)\n      .attr(\"y1\", d => d.source.y)\n      .attr(\"x2\", d => d.target.x)\n      .attr(\"y2\", d => d.target.y);\n\n  node\n      .attr(\"cx\", d => d.x)\n      .attr(\"cy\", d => d.y);\n\n  nodeLabel\n      .attr(\"x\", d => d.x)\n      .attr(\"y\", d => d.y);\n\n  linkLabel\n      .attr(\"x\", d => (d.source.x + d.target.x) / 2)\n      .attr(\"y\", d => (d.source.y + d.target.y) / 2);\n});\n\nfunction drag(simulation) {\n  function dragstarted(event, d) {\n    if (!event.active) simulation.alphaTarget(0.3).restart();\n    d.fx = d.x;\n    d.fy = d.y;\n  }\n\n  function dragged(event, d) {\n    d.fx = event.x;\n    d.fy = event.y;\n  }\n\n  function dragended(event, d) {\n    if (!event.active) simulation.alphaTarget(0);\n    d.fx = null;\n    d.fy = null;\n  }\n\n  return d3.drag()\n      .on(\"start\", dragstarted)\n      .on(\"drag\", dragged)\n      .on(\"end\", dragended);\n}\n\n}) })(element);\n"
     },
     "execution_count": 27,
     "metadata": {},
     "output_type": "execute_result"
    }
   ],
   "source": [
    "#% js\n",
    "my %opts = :$title-color, :$background, force => {charge => {strength => -120}, link => {minDistance => 10}}, width => 600;\n",
    "@dists\n",
    "    .map({Graph::Random.new($_)})\n",
    "    .map({ js-d3-graph-plot($_.edges(:dataset), |%opts, directed => $_.directed, title => $_.dist.gist) }).join(\"\\n\")"
   ]
  },
  {
   "cell_type": "markdown",
   "metadata": {},
   "source": [
    "-----\n",
    "\n",
    "## Star"
   ]
  },
  {
   "cell_type": "code",
   "execution_count": null,
   "metadata": {},
   "outputs": [],
   "source": [
    "#%js\n",
    "my $g = Graph::Star.new(rays => 7, center => 'hub', prefix => 's:', :directed);\n",
    "\n",
    "$g.edges(:dataset) \n",
    "==> js-d3-graph-plot(\n",
    "        :$background, \n",
    "        :$title-color, \n",
    "        width => 400, \n",
    "        :$edge-thickness,\n",
    "        :$vertex-size,\n",
    "        :directed,\n",
    "        force => {charge => {strength => -1800, iterations => 2}, collision => {radius => 10, iterations => 1}, link => {minDistance => 30}}\n",
    "    )"
   ]
  },
  {
   "cell_type": "markdown",
   "metadata": {},
   "source": [
    "------\n",
    "## Wheel graph"
   ]
  },
  {
   "cell_type": "code",
   "execution_count": null,
   "metadata": {},
   "outputs": [],
   "source": [
    "#%js\n",
    "my $g = Graph::Wheel.new(spokes => 9, center => 'hub', prefix => 's:', :!directed);\n",
    "\n",
    "$g.edges(:dataset) \n",
    "==> js-d3-graph-plot(\n",
    "        :$background, \n",
    "        :$title-color, \n",
    "        width => 700, \n",
    "        :$edge-thickness,\n",
    "        :$vertex-size,\n",
    "        :!directed,\n",
    "        force => {charge => {strength => -1800, iterations => 2}, collision => {radius => 10, iterations => 1}, link => {minDistance => 3}}\n",
    "    )"
   ]
  },
  {
   "cell_type": "markdown",
   "metadata": {},
   "source": [
    "Wheel graphs are Hamiltonian:"
   ]
  },
  {
   "cell_type": "code",
   "execution_count": null,
   "metadata": {},
   "outputs": [],
   "source": [
    "$g.find-hamiltonian-path('hub', 's:1').push('hub')"
   ]
  }
 ],
 "metadata": {
  "kernelspec": {
   "display_name": "RakuChatbook",
   "language": "raku",
   "name": "raku"
  },
  "language_info": {
   "file_extension": ".raku",
   "mimetype": "text/x-raku",
   "name": "raku",
   "version": "6.d"
  }
 },
 "nbformat": 4,
 "nbformat_minor": 2
}
