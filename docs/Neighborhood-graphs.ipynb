{
 "cells": [
  {
   "cell_type": "markdown",
   "metadata": {},
   "source": [
    "# Neighborhood graphs"
   ]
  },
  {
   "cell_type": "markdown",
   "metadata": {},
   "source": [
    "-----\n",
    "\n",
    "## Setup"
   ]
  },
  {
   "cell_type": "markdown",
   "metadata": {},
   "source": [
    "Here are loaded the packages used in the rest of notebook:"
   ]
  },
  {
   "cell_type": "code",
   "execution_count": null,
   "metadata": {},
   "outputs": [],
   "source": [
    "use Graph;\n",
    "use Graph::Circulant;\n",
    "use Graph::Complete;\n",
    "use Graph::CompleteKaryTree;\n",
    "use Graph::Cycle;\n",
    "use Graph::Grid;\n",
    "use Graph::Hypercube;\n",
    "use Graph::KnightTour;\n",
    "use Graph::Star;\n",
    "use Graph::Wheel;\n",
    "use Graph::Path;\n",
    "use Graph::Petersen;\n",
    "\n",
    "use Graph::Distribution;\n",
    "use Graph::Random;\n",
    "\n",
    "use Data::Reshapers;\n",
    "use Data::Summarizers;\n",
    "\n",
    "use JavaScript::D3;\n",
    "use WWW::MermaidInk;"
   ]
  },
  {
   "cell_type": "markdown",
   "metadata": {},
   "source": [
    "### JavaScript"
   ]
  },
  {
   "cell_type": "markdown",
   "metadata": {},
   "source": [
    "Here we prepare the notebook to visualize with JavaScript:"
   ]
  },
  {
   "cell_type": "code",
   "execution_count": null,
   "metadata": {},
   "outputs": [],
   "source": [
    "#% javascript\n",
    "require.config({\n",
    "     paths: {\n",
    "     d3: 'https://d3js.org/d3.v7.min'\n",
    "}});\n",
    "\n",
    "require(['d3'], function(d3) {\n",
    "     console.log(d3);\n",
    "});"
   ]
  },
  {
   "cell_type": "markdown",
   "metadata": {},
   "source": [
    "Verification:"
   ]
  },
  {
   "cell_type": "code",
   "execution_count": null,
   "metadata": {},
   "outputs": [],
   "source": [
    "#% js\n",
    "js-d3-list-line-plot(10.rand xx 40, background => 'none', stroke-width => 2)"
   ]
  },
  {
   "cell_type": "markdown",
   "metadata": {},
   "source": [
    "Here we set a collection of visualization variables:"
   ]
  },
  {
   "cell_type": "code",
   "execution_count": null,
   "metadata": {},
   "outputs": [],
   "source": [
    "my $title-color = 'Ivory';\n",
    "my $stroke-color = 'SlateGray';\n",
    "my $tooltip-color = 'LightBlue';\n",
    "my $tooltip-background-color = 'none';\n",
    "my $background = '1F1F1F';\n",
    "my $color-scheme = 'schemeTableau10';\n",
    "my $edge-thickness = 3;\n",
    "my $vertex-size = 6;\n",
    "my $mmd-theme = q:to/END/;\n",
    "%%{\n",
    "  init: {\n",
    "    'theme': 'forest',\n",
    "    'themeVariables': {\n",
    "      'lineColor': 'Ivory'\n",
    "    }\n",
    "  }\n",
    "}%%\n",
    "END\n",
    "my %force = collision => {iterations => 0, radius => 10},link => {distance => 180};\n",
    "my %force2 = charge => {strength => -30, iterations => 4}, collision => {radius => 50, iterations => 4}, link => {distance => 30};"
   ]
  },
  {
   "cell_type": "markdown",
   "metadata": {},
   "source": [
    "------\n",
    "\n",
    "## Undirected grid graph"
   ]
  },
  {
   "cell_type": "code",
   "execution_count": null,
   "metadata": {},
   "outputs": [],
   "source": [
    "#% js\n",
    "my $g = Graph::Grid.new(4, 6);\n",
    "\n",
    "$g.edges(:dataset) \n",
    "==> js-d3-graph-plot(\n",
    "        :$background, \n",
    "        :$title-color, \n",
    "        width => 700, \n",
    "        :$edge-thickness,\n",
    "        :$vertex-size, \n",
    "        force => {charge => {strength => -300, iterations => 2}, collision => {radius => 10, iterations => 1}, link => {minDistance => 10}}\n",
    "    )"
   ]
  },
  {
   "cell_type": "code",
   "execution_count": null,
   "metadata": {},
   "outputs": [],
   "source": [
    "my $g2 = $g.neighborhood-graph(['2_1'], d => 2)"
   ]
  },
  {
   "cell_type": "code",
   "execution_count": null,
   "metadata": {},
   "outputs": [],
   "source": [
    "#% js\n",
    "$g2.edges(:dataset) \n",
    "==> js-d3-graph-plot(\n",
    "        :$background, \n",
    "        :$title-color, \n",
    "        width => 700, \n",
    "        :$edge-thickness,\n",
    "        :$vertex-size, \n",
    "        force => {charge => {strength => -300, iterations => 2}, collision => {radius => 10, iterations => 1}, link => {minDistance => 10}}\n",
    "    )"
   ]
  },
  {
   "cell_type": "markdown",
   "metadata": {},
   "source": [
    "------\n",
    "\n",
    "## Directed grid graph"
   ]
  },
  {
   "cell_type": "code",
   "execution_count": null,
   "metadata": {},
   "outputs": [],
   "source": [
    "#% js\n",
    "my $g = Graph::Grid.new(3, 4, :directed);\n",
    "\n",
    "$g.edges(:dataset) \n",
    "==> js-d3-graph-plot(\n",
    "        :$background, \n",
    "        :$title-color, \n",
    "        width => 700, \n",
    "        directed => $g.directed,\n",
    "        :$edge-thickness,\n",
    "        :$vertex-size, \n",
    "        force => {charge => {strength => -300, iterations => 2}, collision => {radius => 10, iterations => 1}, link => {minDistance => 10}}\n",
    "    )"
   ]
  },
  {
   "cell_type": "code",
   "execution_count": null,
   "metadata": {},
   "outputs": [],
   "source": [
    "my $g2 = $g.neighborhood-graph(['0_0', '1_3'], d => 1)"
   ]
  },
  {
   "cell_type": "code",
   "execution_count": null,
   "metadata": {},
   "outputs": [],
   "source": [
    "$g2.vertex-list"
   ]
  },
  {
   "cell_type": "code",
   "execution_count": null,
   "metadata": {},
   "outputs": [],
   "source": [
    "$g2.edges"
   ]
  },
  {
   "cell_type": "code",
   "execution_count": null,
   "metadata": {},
   "outputs": [],
   "source": [
    "#% js\n",
    "$g.edges(:dataset) \n",
    "==> js-d3-graph-plot(\n",
    "        highlight => [|$g2.vertex-list, |$g2.edges],\n",
    "        :$background, \n",
    "        :$title-color, \n",
    "        width => 700, \n",
    "        directed => $g.directed,\n",
    "        :$edge-thickness,\n",
    "        :$vertex-size, \n",
    "        force => {charge => {strength => -300, iterations => 2}, collision => {radius => 10, iterations => 1}, link => {minDistance => 10}}\n",
    "    )"
   ]
  },
  {
   "cell_type": "markdown",
   "metadata": {},
   "source": [
    "------\n",
    "\n",
    "## In a Petersen graph"
   ]
  },
  {
   "cell_type": "code",
   "execution_count": null,
   "metadata": {},
   "outputs": [],
   "source": [
    "#% js\n",
    "my $g = Graph::Petersen.new;\n",
    "\n",
    "$g.edges(:dataset) \n",
    "==> js-d3-graph-plot(\n",
    "        :$background, \n",
    "        :$title-color, \n",
    "        width => 700, \n",
    "        :$edge-thickness,\n",
    "        :$vertex-size, \n",
    "        force => {charge => {strength => -300, iterations => 2}, collision => {radius => 10, iterations => 1}, link => {minDistance => 10}}\n",
    "    )"
   ]
  },
  {
   "cell_type": "code",
   "execution_count": null,
   "metadata": {},
   "outputs": [],
   "source": [
    "my $g2 = $g.neighborhood-graph([\"0\", \"1\"], d => 1)"
   ]
  },
  {
   "cell_type": "code",
   "execution_count": null,
   "metadata": {},
   "outputs": [],
   "source": [
    "#%js\n",
    "$g.edges(:dataset) \n",
    "==> js-d3-graph-plot(\n",
    "        highlight => [|$g2.vertex-list, |$g2.edges],\n",
    "        :$background, \n",
    "        :$title-color, \n",
    "        width => 700, \n",
    "        :$edge-thickness,\n",
    "        :$vertex-size, \n",
    "        force => {charge => {strength => -300, iterations => 2}, collision => {radius => 10, iterations => 1}, link => {minDistance => 10}}\n",
    "    )"
   ]
  },
  {
   "cell_type": "markdown",
   "metadata": {},
   "source": [
    "-----\n",
    "\n",
    "## Neat examples"
   ]
  },
  {
   "cell_type": "markdown",
   "metadata": {},
   "source": [
    "### Pick out random neighborhoods from a grid"
   ]
  },
  {
   "cell_type": "code",
   "execution_count": null,
   "metadata": {},
   "outputs": [],
   "source": [
    "my $g = Graph::Grid.new(80, 80);\n",
    "\n",
    "my $g2 = $g.neighborhood-graph($g.vertex-list.pick(80), d => 1)"
   ]
  },
  {
   "cell_type": "code",
   "execution_count": null,
   "metadata": {},
   "outputs": [],
   "source": [
    "my $nc = $g2.weakly-connected-components.elems;\n",
    "say \"numbef of connected components: $nc\";\n",
    "my @comps = $g2.weakly-connected-components.pick($nc/3);\n",
    "my @gs = @comps.map({ $g2.subgraph($_) });\n",
    "my @highlight = @gs.map({ [|$_.vertex-list, |$_.edges].Slip });\n",
    "@highlight.elems"
   ]
  },
  {
   "cell_type": "code",
   "execution_count": null,
   "metadata": {},
   "outputs": [],
   "source": [
    "#%js\n",
    "$g2.edges(:dataset) \n",
    "==> js-d3-graph-plot(\n",
    "        highlight => { Salmon => @highlight[0 .. @highlight.elems div 2], Moccasin => @highlight[@highlight.elems div 2 .. *]},\n",
    "        :$background, \n",
    "        title-color => 'none', \n",
    "        width => 800, \n",
    "        height => 800,\n",
    "        vertex-color => 'LightSkyBlue',\n",
    "        edge-color => 'RoyalBlue',\n",
    "        edge-thickness => 3,\n",
    "        vertex-size => 4, \n",
    "        force => {charge => {strength => -30, iterations => 2}, collision => {radius => 10, iterations => 1}, link => {minDistance => 10}}\n",
    "    )"
   ]
  },
  {
   "cell_type": "code",
   "execution_count": null,
   "metadata": {},
   "outputs": [],
   "source": [
    "my %vertex-coordinates = $g.vertex-list.map({ $_ => $_.split('_')».Int });\n",
    "%vertex-coordinates.elems"
   ]
  },
  {
   "cell_type": "code",
   "execution_count": null,
   "metadata": {},
   "outputs": [],
   "source": [
    "#%js\n",
    "$g2.edges(:dataset) \n",
    "==> js-d3-graph-plot(\n",
    "        vertex-coordinates => ($g2.vertex-list Z=> %vertex-coordinates{$g2.vertex-list}).Hash,\n",
    "        :$background, \n",
    "        title-color => 'none', \n",
    "        width => 800, \n",
    "        height => 800,\n",
    "        edge-thickness => 3,\n",
    "        vertex-size => 0, \n",
    "    )"
   ]
  },
  {
   "cell_type": "markdown",
   "metadata": {},
   "source": [
    "### Subtract random neighborhoods from a grid"
   ]
  },
  {
   "cell_type": "code",
   "execution_count": null,
   "metadata": {},
   "outputs": [],
   "source": [
    "my $g = Graph::Grid.new(60, 30);\n",
    "my %vertex-coordinates = $g.vertex-list.map({ $_ => $_.split('_')».Int });\n",
    "\n",
    "my $vset = $g.vertex-list (-) $g.neighborhood-graph($g.vertex-list.pick(60), d => 1).vertex-list;\n",
    "\n",
    "my $g2 = $g.subgraph($vset.keys)"
   ]
  },
  {
   "cell_type": "code",
   "execution_count": null,
   "metadata": {},
   "outputs": [],
   "source": [
    "my $g3 = $g.neighborhood-graph($g.vertex-list.pick(60), d => 2);\n",
    "my $nc = $g3.weakly-connected-components.elems;\n",
    "my @comps = $g3.weakly-connected-components;\n",
    "my @gs = @comps.map({ $g3.subgraph($_) });\n",
    "my @highlight = @gs.map({ [|$_.vertex-list, |$_.edges].Slip });\n",
    "$nc"
   ]
  },
  {
   "cell_type": "code",
   "execution_count": null,
   "metadata": {},
   "outputs": [],
   "source": [
    "#%js\n",
    "$g2.edges(:dataset) \n",
    "==> js-d3-graph-plot(\n",
    "        :%vertex-coordinates,\n",
    "        :@highlight,\n",
    "        highlight-color => 'Ivory',\n",
    "        :$background, \n",
    "        title-color => 'none', \n",
    "        width => 1000, \n",
    "        height => 500,\n",
    "        edge-thickness => 4,\n",
    "        edge-color => 'Gray',\n",
    "        vertex-size => 0,\n",
    "        vertex-color => 'Ivory',\n",
    "        force => {charge => {strength => -30, iterations => 2}, y => {strength => 0.2}, collision => {radius => 1, iterations => 1}, link => {minDistance => 1}}\n",
    "    )"
   ]
  },
  {
   "cell_type": "code",
   "execution_count": null,
   "metadata": {},
   "outputs": [],
   "source": []
  }
 ],
 "metadata": {
  "kernelspec": {
   "display_name": "RakuChatbook",
   "language": "raku",
   "name": "raku"
  },
  "language_info": {
   "file_extension": ".raku",
   "mimetype": "text/x-raku",
   "name": "raku",
   "version": "6.d"
  }
 },
 "nbformat": 4,
 "nbformat_minor": 2
}
