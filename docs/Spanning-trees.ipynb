{
 "cells": [
  {
   "cell_type": "markdown",
   "metadata": {},
   "source": [
    "# Spanning trees\n",
    "\n",
    "Anton Antonov   \n",
    "July 2024"
   ]
  },
  {
   "cell_type": "markdown",
   "metadata": {},
   "source": [
    "----\n",
    "\n",
    "## Setup"
   ]
  },
  {
   "cell_type": "code",
   "execution_count": 1,
   "metadata": {},
   "outputs": [],
   "source": [
    "use Graph;\n",
    "\n",
    "use Graph::Circulant;\n",
    "use Graph::Complete;\n",
    "use Graph::CompleteKaryTree;\n",
    "use Graph::Cycle;\n",
    "use Graph::Grid;\n",
    "use Graph::Hypercube;\n",
    "use Graph::KnightTour;\n",
    "use Graph::Star;\n",
    "use Graph::Path;\n",
    "use Graph::Petersen;\n",
    "use Graph::Wheel;\n",
    "\n",
    "use Graph::Distribution;\n",
    "use Graph::Random;\n",
    "\n",
    "use Data::Reshapers;\n",
    "use Data::Summarizers;\n",
    "use Data::TypeSystem;\n",
    "use Data::Translators;\n",
    "use Data::Geographics;\n",
    "use Math::DistanceFunctions;\n",
    "use Math::Nearest;\n",
    "use Hash::Merge;\n",
    "\n",
    "use JavaScript::D3;\n",
    "use WWW::MermaidInk;"
   ]
  },
  {
   "cell_type": "code",
   "execution_count": 2,
   "metadata": {},
   "outputs": [
    {
     "data": {
      "application/javascript": "require.config({\n     paths: {\n     d3: 'https://d3js.org/d3.v7.min'\n}});\n\nrequire(['d3'], function(d3) {\n     console.log(d3);\n});"
     },
     "execution_count": 2,
     "metadata": {},
     "output_type": "execute_result"
    }
   ],
   "source": [
    "#% javascript\n",
    "require.config({\n",
    "     paths: {\n",
    "     d3: 'https://d3js.org/d3.v7.min'\n",
    "}});\n",
    "\n",
    "require(['d3'], function(d3) {\n",
    "     console.log(d3);\n",
    "});"
   ]
  },
  {
   "cell_type": "code",
   "execution_count": 3,
   "metadata": {},
   "outputs": [
    {
     "data": {
      "application/javascript": "(function(element) { require(['d3'], function(d3) {\n\n// set the dimensions and margins of the graph\nvar margin = {\"bottom\":40,\"top\":40,\"right\":40,\"left\":40},\n    width = 600 - margin.left - margin.right,\n    height = 400 - margin.top - margin.bottom;\n\n// append the svg object to the body of the page\nvar svg = d3\n   .select(element.get(0))\n  .append(\"svg\")\n    .attr(\"width\", width + margin.left + margin.right)\n    .attr(\"height\", height + margin.top + margin.bottom)\n    .style(\"background\", \"none\")\n  .append(\"g\")\n    .attr(\"transform\",\n          \"translate(\" + margin.left + \",\" + margin.top + \")\")\n\n// Obtain title\nvar title = \"\"\nvar titleFontSize = 16\n\nif ( title.length > 0 ) {\n    svg.append(\"text\")\n        .attr(\"x\", (width / 2))\n        .attr(\"y\", 0 - (margin.top / 2))\n        .attr(\"text-anchor\", \"middle\")\n        .style(\"font-size\", titleFontSize.toString() + \"px\")\n        .style(\"fill\", \"Black\")\n        .text(title);\n}\n\n// Obtain x-axis label\nvar xAxisLabel = \"\"\nvar xAxisLabelFontSize = 12\n\nif ( xAxisLabel.length > 0 ) {\n    svg.append(\"text\")\n        .attr(\"x\", (width / 2))\n        .attr(\"y\", height + margin.bottom - xAxisLabelFontSize/2)\n        .attr(\"text-anchor\", \"middle\")\n        .style(\"font-size\", xAxisLabelFontSize.toString() + \"px\")\n        .style(\"fill\", \"Black\")\n        .text(xAxisLabel);\n}\n\n// Obtain y-axis label\nvar yAxisLabel = \"\"\nvar yAxisLabelFontSize = 12\n\nif ( yAxisLabel.length > 0 ) {\n    svg.append(\"text\")\n        .attr(\"transform\", \"rotate(-90)\")\n        .attr(\"x\", - (height / 2))\n        .attr(\"y\", 0 - margin.left + yAxisLabelFontSize)\n        .attr(\"text-anchor\", \"middle\")\n        .style(\"font-size\", yAxisLabelFontSize.toString() + \"px\")\n        .style(\"fill\", \"Black\")\n        .text(yAxisLabel);\n}\n\n\n// Obtain data\nvar data = [{\"y\":5.0322111598596155e0,\"x\":1},{\"x\":2,\"y\":9.991826406343833e0},{\"x\":3,\"y\":2.5850500786197506e0},{\"x\":4,\"y\":8.549726957410751e0},{\"y\":3.598558992527656e0,\"x\":5},{\"y\":7.300243403235747e0,\"x\":6},{\"y\":5.004365490984598e0,\"x\":7},{\"x\":8,\"y\":7.671543355281046e0},{\"y\":9.58622183938481e0,\"x\":9},{\"x\":10,\"y\":0.014849022851989302e0},{\"x\":11,\"y\":9.377558637257131e0},{\"x\":12,\"y\":4.877361112313907e0},{\"x\":13,\"y\":6.847739003818276e0},{\"y\":5.611098899820149e0,\"x\":14},{\"y\":7.744513125599645e0,\"x\":15},{\"x\":16,\"y\":6.152686804544034e0},{\"y\":6.632946256547347e0,\"x\":17},{\"x\":18,\"y\":1.4275549936670828e0},{\"y\":6.659419932106038e0,\"x\":19},{\"x\":20,\"y\":6.078460224826467e0},{\"y\":6.72790769432999e0,\"x\":21},{\"y\":9.207656067866553e0,\"x\":22},{\"y\":6.685943828979553e0,\"x\":23},{\"y\":5.352227933429923e0,\"x\":24},{\"x\":25,\"y\":9.455264742814322e0},{\"y\":8.031525118634494e0,\"x\":26},{\"y\":9.734710888707633e0,\"x\":27},{\"y\":8.812142408344544e0,\"x\":28},{\"x\":29,\"y\":8.66026084895564e0},{\"y\":6.526362676734894e0,\"x\":30},{\"x\":31,\"y\":4.101203194997066e0},{\"y\":0.583971305450901e0,\"x\":32},{\"x\":33,\"y\":7.347399933056808e0},{\"y\":0.016338117613503567e0,\"x\":34},{\"x\":35,\"y\":1.4637087344148636e0},{\"x\":36,\"y\":2.5184404865478083e0},{\"y\":7.14053785437727e0,\"x\":37},{\"y\":7.580100326081938e0,\"x\":38},{\"y\":3.261748549990121e0,\"x\":39},{\"x\":40,\"y\":0.6829023658498035e0}]\n\nvar xMin = Math.min.apply(Math, data.map(function(o) { return o.x; }))\nvar xMax = Math.max.apply(Math, data.map(function(o) { return o.x; }))\n\nvar yMin = Math.min.apply(Math, data.map(function(o) { return o.y; }))\nvar yMax = Math.max.apply(Math, data.map(function(o) { return o.y; }))\n\n// X scale and Axis\nvar x = d3.scaleLinear()\n    .domain([xMin, xMax])\n    .range([0, width]);\n\n// Y scale and Axis\nvar y = d3.scaleLinear()\n    .domain([yMin, yMax])\n    .range([height, 0]);\n\nsvg\n  .append('g')\n  .attr(\"transform\", \"translate(0,\" + height + \")\")\n  .call(d3.axisBottom(x))\n\nsvg\n  .append('g')\n  .call(d3.axisLeft(y));\n\n// prepare a helper function\nvar lineFunc = d3.line()\n  .x(function(d) { return x(d.x) })\n  .y(function(d) { return y(d.y) })\n\n// Add the path using this helper function\nsvg.append('path')\n  .attr('d', lineFunc(data))\n  .attr(\"stroke-width\", 2)\n  .attr('stroke', \"steelblue\")\n  .attr('fill', 'none');\n\n}) })(element);\n"
     },
     "execution_count": 3,
     "metadata": {},
     "output_type": "execute_result"
    }
   ],
   "source": [
    "#% js\n",
    "js-d3-list-line-plot(10.rand xx 40, background => 'none', stroke-width => 2)"
   ]
  },
  {
   "cell_type": "code",
   "execution_count": 4,
   "metadata": {},
   "outputs": [
    {
     "data": {
      "text/plain": [
       "{background => 1F1F1F, edge-thickness => 3, title-color => Silver, vertex-size => 6}"
      ]
     },
     "execution_count": 4,
     "metadata": {},
     "output_type": "execute_result"
    }
   ],
   "source": [
    "my $title-color = 'Silver';\n",
    "my $stroke-color = 'SlateGray';\n",
    "my $tooltip-color = 'LightBlue';\n",
    "my $tooltip-background-color = 'none';\n",
    "my $background = '1F1F1F';\n",
    "my $color-scheme = 'schemeTableau10';\n",
    "my $edge-thickness = 3;\n",
    "my $vertex-size = 6;\n",
    "my $mmd-theme = q:to/END/;\n",
    "%%{\n",
    "  init: {\n",
    "    'theme': 'forest',\n",
    "    'themeVariables': {\n",
    "      'lineColor': 'Ivory'\n",
    "    }\n",
    "  }\n",
    "}%%\n",
    "END\n",
    "my %force = collision => {iterations => 0, radius => 10},link => {distance => 180};\n",
    "my %force2 = charge => {strength => -30, iterations => 4}, collision => {radius => 50, iterations => 4}, link => {distance => 30};\n",
    "\n",
    "my %opts = :$background, :$title-color, :$edge-thickness, :$vertex-size;"
   ]
  },
  {
   "cell_type": "markdown",
   "metadata": {},
   "source": [
    "-----\n",
    "\n",
    "## Small Geo-points set"
   ]
  },
  {
   "cell_type": "markdown",
   "metadata": {},
   "source": [
    "A company is planning a fiber network for a number of Chicago suburbs. It only has the right of way for its fiber along certain corridors. Some of those corridors might be more expensive. Find the subgraph of connection corridors that connect every suburb with the lowest total cost:"
   ]
  },
  {
   "cell_type": "code",
   "execution_count": 5,
   "metadata": {},
   "outputs": [
    {
     "data": {
      "text/plain": [
       "Vector(Struct([from, to, weight], [Str, Str, Int]), 15)"
      ]
     },
     "execution_count": 5,
     "metadata": {},
     "output_type": "execute_result"
    }
   ],
   "source": [
    "my @dsEdges =\n",
    "        %('from'=>'Maywood','to'=>'Downers','weight'=>14),\n",
    "        %('from'=>'Maywood','to'=>'Oakbrook','weight'=>28),\n",
    "        %('from'=>'Maywood','to'=>'Addison','weight'=>10),\n",
    "        %('from'=>'Downers','to'=>'Grove','weight'=>25),\n",
    "        %('from'=>'Downers','to'=>'Stickney','weight'=>23),\n",
    "        %('from'=>'Downers','to'=>'Wheaton','weight'=>20),\n",
    "        %('from'=>'Downers','to'=>'Oakbrook','weight'=>27),\n",
    "        %('from'=>'Oakbrook','to'=>'Stickney','weight'=>11),\n",
    "        %('from'=>'Oakbrook','to'=>'Addison','weight'=>17),\n",
    "        %('from'=>'Addison','to'=>'McCook','weight'=>21),\n",
    "        %('from'=>'Grove','to'=>'Wheaton','weight'=>10),\n",
    "        %('from'=>'Stickney','to'=>'Wheaton','weight'=>15),\n",
    "        %('from'=>'Stickney','to'=>'Bellwood','weight'=>20),\n",
    "        %('from'=>'Wheaton','to'=>'Bellwood','weight'=>10),\n",
    "        %('from'=>'Bellwood','to'=>'McCook','weight'=>28);\n",
    "\n",
    "deduce-type(@dsEdges)"
   ]
  },
  {
   "cell_type": "code",
   "execution_count": 6,
   "metadata": {},
   "outputs": [
    {
     "data": {
      "text/plain": [
       "Graph(vertexes => 9, edges => 15, directed => False)"
      ]
     },
     "execution_count": 6,
     "metadata": {},
     "output_type": "execute_result"
    }
   ],
   "source": [
    "my $g = Graph.new(@dsEdges)"
   ]
  },
  {
   "cell_type": "code",
   "execution_count": 7,
   "metadata": {},
   "outputs": [
    {
     "data": {
      "application/javascript": "(function(element) { require(['d3'], function(d3) {\n\n// set the dimensions and margins of the graph\nvar margin = {\"top\":40,\"bottom\":40,\"right\":40,\"left\":40},\n    width = 800 - margin.left - margin.right,\n    height = 494.437577 - margin.top - margin.bottom;\n\n// append the svg object to the body of the page\nvar svg = d3\n   .select(element.get(0))\n  .append(\"svg\")\n    .attr(\"width\", width + margin.left + margin.right)\n    .attr(\"height\", height + margin.top + margin.bottom)\n    .style(\"background\", \"1F1F1F\")\n  .append(\"g\")\n    .attr(\"transform\",\n          \"translate(\" + margin.left + \",\" + margin.top + \")\")\n\n// Obtain title\nvar title = \"\"\nvar titleFontSize = 16\n\nif ( title.length > 0 ) {\n    svg.append(\"text\")\n        .attr(\"x\", (width / 2))\n        .attr(\"y\", 0 - (margin.top / 2))\n        .attr(\"text-anchor\", \"middle\")\n        .style(\"font-size\", titleFontSize.toString() + \"px\")\n        .style(\"fill\", \"Silver\")\n        .text(title);\n}\n\nconst edges = [{\"label\":\"\",\"to\":\"McCook\",\"from\":\"Bellwood\",\"weight\":28},{\"to\":\"Stickney\",\"label\":\"\",\"weight\":20,\"from\":\"Bellwood\"},{\"label\":\"\",\"from\":\"Bellwood\",\"weight\":10,\"to\":\"Wheaton\"},{\"from\":\"Downers\",\"to\":\"Grove\",\"weight\":25,\"label\":\"\"},{\"weight\":27,\"label\":\"\",\"to\":\"Oakbrook\",\"from\":\"Downers\"},{\"weight\":20,\"label\":\"\",\"to\":\"Wheaton\",\"from\":\"Downers\"},{\"from\":\"Downers\",\"label\":\"\",\"to\":\"Maywood\",\"weight\":14},{\"label\":\"\",\"weight\":23,\"from\":\"Downers\",\"to\":\"Stickney\"},{\"label\":\"\",\"to\":\"Addison\",\"from\":\"Maywood\",\"weight\":10},{\"label\":\"\",\"from\":\"Maywood\",\"weight\":28,\"to\":\"Oakbrook\"},{\"label\":\"\",\"from\":\"McCook\",\"weight\":21,\"to\":\"Addison\"},{\"from\":\"Grove\",\"weight\":10,\"label\":\"\",\"to\":\"Wheaton\"},{\"to\":\"Wheaton\",\"label\":\"\",\"from\":\"Stickney\",\"weight\":15},{\"to\":\"Oakbrook\",\"label\":\"\",\"weight\":11,\"from\":\"Stickney\"},{\"weight\":17,\"from\":\"Addison\",\"to\":\"Oakbrook\",\"label\":\"\"}];\n\nconst nodes = Array.from(new Set(edges.flatMap(e => [e.from, e.to])), id => ({id}));\n\nconst highlightNodes = new Set([]);\n\nconst highlightLinkNodes = new Set([]);\n\nconst links = edges.map(e => ({\n  source: e.from,\n  target: e.to,\n  weight: e.weight,\n  label: e.label,\n  highlight: highlightLinkNodes.has(e.from + \"-\" + e.to)\n}));\n\n//.force(\"link\", d3.forceLink(links).id(d => d.id).distance(d => Math.max(d.weight * 20, 6 * 4)))\nconst simulation = d3.forceSimulation(nodes)\n    .force(\"link\", d3.forceLink(links).id(d => d.id).iterations(1))\n    .force(\"charge\", d3.forceManyBody().strength(-800).distanceMin(1).distanceMax(2000))\n    .force(\"x\", d3.forceX())\n    .force(\"y\", d3.forceY())\n    .force(\"collision\", d3.forceCollide().radius(50))\n    .force(\"center\", d3.forceCenter(width / 2, height / 2));\n\nsvg.append('defs').append('marker')\n    .attr(\"id\",'arrowhead')\n    .attr('viewBox','-0 -5 10 10') //the bound of the SVG viewport for the current SVG fragment. defines a coordinate system 10 wide and 10 high starting on (0,-5)\n     .attr('refX', 16) // x coordinate for the reference point of the marker. If circle is bigger, this need to be bigger.\n     .attr('refY',0)\n     .attr('orient','auto')\n        .attr('markerWidth', 5)\n        .attr('markerHeight', 5)\n        .attr('xoverflow','visible')\n    .append('svg:path')\n    .attr('d', 'M 0,-5 L 10 ,0 L 0,5')\n    .attr('fill', \"SteelBlue\")\n    .style('stroke','none');\n\nconst link = svg.append(\"g\")\n    .attr(\"class\", \"links\")\n  .selectAll(\"line\")\n  .data(links)\n  .enter().append(\"line\")\n    .attr(\"class\", \"link\")\n    .attr(\"stroke\", d => d.highlight ? \"Orange\" : \"SteelBlue\")\n    .attr(\"stroke-width\", 3)\n    \n\nconst node = svg.append(\"g\")\n    .attr(\"class\", \"nodes\")\n  .selectAll(\"circle\")\n  .data(nodes)\n  .enter().append(\"circle\")\n    .attr(\"class\", \"node\")\n    .attr(\"r\", 6)\n    .attr(\"stroke\", d => highlightNodes.has(d.id) ? \"Orange\" : \"SteelBlue\")\n    .attr(\"fill\", d => highlightNodes.has(d.id) ?  \"Orange\" : \"SteelBlue\")\n    .call(drag(simulation));\n\nnode.append(\"title\")\n    .text(d => d.id);\n\nconst nodeLabel = svg.append(\"g\")\n    .attr(\"class\", \"node-labels\")\n  .selectAll(\"text\")\n  .data(nodes)\n  .enter().append(\"text\")\n    .attr(\"class\", \"node-label\")\n    .style(\"font-size\", 13)\n    .attr(\"font-family\", \"Courier\")\n    .attr(\"dy\", -10)\n    .attr('fill', \"Silver\")\n    .attr('stroke', \"Silver\")\n    .text(d => d.id);\n\nconst linkLabel = svg.append(\"g\")\n    .attr(\"class\", \"link-labels\")\n  .selectAll(\"text\")\n  .data(links)\n  .enter().append(\"text\")\n    .filter(d => d.label !== \"\")\n    .attr(\"class\", \"link-label\")\n    .style(\"font-size\", 13)\n    .attr(\"font-family\", \"Courier\")\n    .attr('fill', \"Silver\")\n    .attr('stroke', \"Silver\")\n    .text(d => d.label);\n\nsimulation.on(\"tick\", () => {\n  link\n      .attr(\"x1\", d => d.source.x)\n      .attr(\"y1\", d => d.source.y)\n      .attr(\"x2\", d => d.target.x)\n      .attr(\"y2\", d => d.target.y);\n\n  node\n      .attr(\"cx\", d => d.x)\n      .attr(\"cy\", d => d.y);\n\n  nodeLabel\n      .attr(\"x\", d => d.x)\n      .attr(\"y\", d => d.y);\n\n  linkLabel\n      .attr(\"x\", d => (d.source.x + d.target.x) / 2)\n      .attr(\"y\", d => (d.source.y + d.target.y) / 2);\n});\n\nfunction drag(simulation) {\n  function dragstarted(event, d) {\n    if (!event.active) simulation.alphaTarget(0.3).restart();\n    d.fx = d.x;\n    d.fy = d.y;\n  }\n\n  function dragged(event, d) {\n    d.fx = event.x;\n    d.fy = event.y;\n  }\n\n  function dragended(event, d) {\n    if (!event.active) simulation.alphaTarget(0);\n    d.fx = null;\n    d.fy = null;\n  }\n\n  return d3.drag()\n      .on(\"start\", dragstarted)\n      .on(\"drag\", dragged)\n      .on(\"end\", dragended);\n}\n\n}) })(element);\n"
     },
     "execution_count": 7,
     "metadata": {},
     "output_type": "execute_result"
    }
   ],
   "source": [
    "#% js\n",
    "$g.edges(:dataset)\n",
    "==> js-d3-graph-plot(\n",
    "    width => 800,\n",
    "    :$background, :$title-color, :$edge-thickness, :$vertex-size,\n",
    "    force => {charge => { strength => -800}, collision => {radius => 50}}\n",
    "    )"
   ]
  },
  {
   "cell_type": "code",
   "execution_count": 8,
   "metadata": {},
   "outputs": [
    {
     "data": {
      "text/plain": [
       "Graph(vertexes => 9, edges => 8, directed => False)"
      ]
     },
     "execution_count": 8,
     "metadata": {},
     "output_type": "execute_result"
    }
   ],
   "source": [
    "my $stree = $g.find-spanning-tree;"
   ]
  },
  {
   "cell_type": "code",
   "execution_count": 9,
   "metadata": {},
   "outputs": [
    {
     "data": {
      "application/javascript": "(function(element) { require(['d3'], function(d3) {\n\n// set the dimensions and margins of the graph\nvar margin = {\"right\":40,\"left\":40,\"top\":40,\"bottom\":40},\n    width = 800 - margin.left - margin.right,\n    height = 494.437577 - margin.top - margin.bottom;\n\n// append the svg object to the body of the page\nvar svg = d3\n   .select(element.get(0))\n  .append(\"svg\")\n    .attr(\"width\", width + margin.left + margin.right)\n    .attr(\"height\", height + margin.top + margin.bottom)\n    .style(\"background\", \"1F1F1F\")\n  .append(\"g\")\n    .attr(\"transform\",\n          \"translate(\" + margin.left + \",\" + margin.top + \")\")\n\n// Obtain title\nvar title = \"\"\nvar titleFontSize = 16\n\nif ( title.length > 0 ) {\n    svg.append(\"text\")\n        .attr(\"x\", (width / 2))\n        .attr(\"y\", 0 - (margin.top / 2))\n        .attr(\"text-anchor\", \"middle\")\n        .style(\"font-size\", titleFontSize.toString() + \"px\")\n        .style(\"fill\", \"Silver\")\n        .text(title);\n}\n\nconst edges = [{\"to\":\"McCook\",\"from\":\"Bellwood\",\"label\":\"\",\"weight\":1},{\"label\":\"\",\"to\":\"Stickney\",\"from\":\"Bellwood\",\"weight\":1},{\"to\":\"Wheaton\",\"label\":\"\",\"from\":\"Bellwood\",\"weight\":1},{\"weight\":1,\"from\":\"Downers\",\"to\":\"Grove\",\"label\":\"\"},{\"label\":\"\",\"from\":\"Downers\",\"to\":\"Oakbrook\",\"weight\":1},{\"weight\":1,\"label\":\"\",\"from\":\"Downers\",\"to\":\"Wheaton\"},{\"from\":\"Downers\",\"to\":\"Maywood\",\"weight\":1,\"label\":\"\"},{\"weight\":1,\"to\":\"Stickney\",\"label\":\"\",\"from\":\"Downers\"},{\"weight\":1,\"from\":\"Maywood\",\"label\":\"\",\"to\":\"Addison\"},{\"label\":\"\",\"to\":\"Oakbrook\",\"from\":\"Maywood\",\"weight\":1},{\"to\":\"Addison\",\"weight\":1,\"label\":\"\",\"from\":\"McCook\"},{\"weight\":1,\"from\":\"Grove\",\"to\":\"Wheaton\",\"label\":\"\"},{\"to\":\"Wheaton\",\"from\":\"Stickney\",\"label\":\"\",\"weight\":1},{\"from\":\"Stickney\",\"weight\":1,\"to\":\"Oakbrook\",\"label\":\"\"},{\"to\":\"Oakbrook\",\"label\":\"\",\"from\":\"Addison\",\"weight\":1}];\n\nconst nodes = Array.from(new Set(edges.flatMap(e => [e.from, e.to])), id => ({id}));\n\nconst highlightNodes = new Set([]);\n\nconst highlightLinkNodes = new Set([\"Wheaton-Stickney\", \"Wheaton-Grove\", \"Wheaton-Bellwood\", \"Oakbrook-Stickney\", \"Oakbrook-Addison\", \"Addison-Maywood\", \"Addison-McCook\", \"Downers-Maywood\", \"Stickney-Wheaton\", \"Grove-Wheaton\", \"Bellwood-Wheaton\", \"Stickney-Oakbrook\", \"Addison-Oakbrook\", \"Maywood-Addison\", \"McCook-Addison\", \"Maywood-Downers\"]);\n\nconst links = edges.map(e => ({\n  source: e.from,\n  target: e.to,\n  weight: e.weight,\n  label: e.label,\n  highlight: highlightLinkNodes.has(e.from + \"-\" + e.to)\n}));\n\n//.force(\"link\", d3.forceLink(links).id(d => d.id).distance(d => Math.max(d.weight * 20, 6 * 4)))\nconst simulation = d3.forceSimulation(nodes)\n    .force(\"link\", d3.forceLink(links).id(d => d.id).iterations(1))\n    .force(\"charge\", d3.forceManyBody().strength(-800).distanceMin(1).distanceMax(2000))\n    .force(\"x\", d3.forceX())\n    .force(\"y\", d3.forceY())\n    .force(\"collision\", d3.forceCollide().radius(50))\n    .force(\"center\", d3.forceCenter(width / 2, height / 2));\n\nsvg.append('defs').append('marker')\n    .attr(\"id\",'arrowhead')\n    .attr('viewBox','-0 -5 10 10') //the bound of the SVG viewport for the current SVG fragment. defines a coordinate system 10 wide and 10 high starting on (0,-5)\n     .attr('refX', 16) // x coordinate for the reference point of the marker. If circle is bigger, this need to be bigger.\n     .attr('refY',0)\n     .attr('orient','auto')\n        .attr('markerWidth', 5)\n        .attr('markerHeight', 5)\n        .attr('xoverflow','visible')\n    .append('svg:path')\n    .attr('d', 'M 0,-5 L 10 ,0 L 0,5')\n    .attr('fill', \"SteelBlue\")\n    .style('stroke','none');\n\nconst link = svg.append(\"g\")\n    .attr(\"class\", \"links\")\n  .selectAll(\"line\")\n  .data(links)\n  .enter().append(\"line\")\n    .attr(\"class\", \"link\")\n    .attr(\"stroke\", d => d.highlight ? \"Orange\" : \"SteelBlue\")\n    .attr(\"stroke-width\", 3)\n    \n\nconst node = svg.append(\"g\")\n    .attr(\"class\", \"nodes\")\n  .selectAll(\"circle\")\n  .data(nodes)\n  .enter().append(\"circle\")\n    .attr(\"class\", \"node\")\n    .attr(\"r\", 6)\n    .attr(\"stroke\", d => highlightNodes.has(d.id) ? \"Orange\" : \"SteelBlue\")\n    .attr(\"fill\", d => highlightNodes.has(d.id) ?  \"Orange\" : \"SteelBlue\")\n    .call(drag(simulation));\n\nnode.append(\"title\")\n    .text(d => d.id);\n\nconst nodeLabel = svg.append(\"g\")\n    .attr(\"class\", \"node-labels\")\n  .selectAll(\"text\")\n  .data(nodes)\n  .enter().append(\"text\")\n    .attr(\"class\", \"node-label\")\n    .style(\"font-size\", 13)\n    .attr(\"font-family\", \"Courier\")\n    .attr(\"dy\", -10)\n    .attr('fill', \"Silver\")\n    .attr('stroke', \"Silver\")\n    .text(d => d.id);\n\nconst linkLabel = svg.append(\"g\")\n    .attr(\"class\", \"link-labels\")\n  .selectAll(\"text\")\n  .data(links)\n  .enter().append(\"text\")\n    .filter(d => d.label !== \"\")\n    .attr(\"class\", \"link-label\")\n    .style(\"font-size\", 13)\n    .attr(\"font-family\", \"Courier\")\n    .attr('fill', \"Silver\")\n    .attr('stroke', \"Silver\")\n    .text(d => d.label);\n\nsimulation.on(\"tick\", () => {\n  link\n      .attr(\"x1\", d => d.source.x)\n      .attr(\"y1\", d => d.source.y)\n      .attr(\"x2\", d => d.target.x)\n      .attr(\"y2\", d => d.target.y);\n\n  node\n      .attr(\"cx\", d => d.x)\n      .attr(\"cy\", d => d.y);\n\n  nodeLabel\n      .attr(\"x\", d => d.x)\n      .attr(\"y\", d => d.y);\n\n  linkLabel\n      .attr(\"x\", d => (d.source.x + d.target.x) / 2)\n      .attr(\"y\", d => (d.source.y + d.target.y) / 2);\n});\n\nfunction drag(simulation) {\n  function dragstarted(event, d) {\n    if (!event.active) simulation.alphaTarget(0.3).restart();\n    d.fx = d.x;\n    d.fy = d.y;\n  }\n\n  function dragged(event, d) {\n    d.fx = event.x;\n    d.fy = event.y;\n  }\n\n  function dragended(event, d) {\n    if (!event.active) simulation.alphaTarget(0);\n    d.fx = null;\n    d.fy = null;\n  }\n\n  return d3.drag()\n      .on(\"start\", dragstarted)\n      .on(\"drag\", dragged)\n      .on(\"end\", dragended);\n}\n\n}) })(element);\n"
     },
     "execution_count": 9,
     "metadata": {},
     "output_type": "execute_result"
    }
   ],
   "source": [
    "#% js\n",
    "$g.edges\n",
    "==> js-d3-graph-plot(\n",
    "    highlight => $stree.edges,\n",
    "    width => 800,\n",
    "    :$background, :$title-color, :$edge-thickness, :$vertex-size,\n",
    "    force => {charge => { strength => -800}, collision => {radius => 50}}\n",
    "    )"
   ]
  },
  {
   "cell_type": "markdown",
   "metadata": {},
   "source": [
    "-------\n",
    "\n",
    "## Grid graph"
   ]
  },
  {
   "cell_type": "code",
   "execution_count": 26,
   "metadata": {},
   "outputs": [
    {
     "data": {
      "text/plain": [
       "Graph(vertexes => 24, edges => 38, directed => False)"
      ]
     },
     "execution_count": 26,
     "metadata": {},
     "output_type": "execute_result"
    }
   ],
   "source": [
    "my $g = Graph::Grid.new(n => 4, m => 6)"
   ]
  },
  {
   "cell_type": "code",
   "execution_count": 27,
   "metadata": {},
   "outputs": [
    {
     "data": {
      "text/plain": [
       "Graph(vertexes => 24, edges => 23, directed => False)"
      ]
     },
     "execution_count": 27,
     "metadata": {},
     "output_type": "execute_result"
    }
   ],
   "source": [
    "my $stree = $g.find-spanning-tree"
   ]
  },
  {
   "cell_type": "code",
   "execution_count": 30,
   "metadata": {},
   "outputs": [
    {
     "data": {
      "application/javascript": "(function(element) { require(['d3'], function(d3) {\n\n// set the dimensions and margins of the graph\nvar margin = {\"bottom\":40,\"right\":40,\"top\":40,\"left\":40},\n    width = 500 - margin.left - margin.right,\n    height = 309.023486 - margin.top - margin.bottom;\n\n// append the svg object to the body of the page\nvar svg = d3\n   .select(element.get(0))\n  .append(\"svg\")\n    .attr(\"width\", width + margin.left + margin.right)\n    .attr(\"height\", height + margin.top + margin.bottom)\n    .style(\"background\", \"1F1F1F\")\n  .append(\"g\")\n    .attr(\"transform\",\n          \"translate(\" + margin.left + \",\" + margin.top + \")\")\n\n// Obtain title\nvar title = \"\"\nvar titleFontSize = 16\n\nif ( title.length > 0 ) {\n    svg.append(\"text\")\n        .attr(\"x\", (width / 2))\n        .attr(\"y\", 0 - (margin.top / 2))\n        .attr(\"text-anchor\", \"middle\")\n        .style(\"font-size\", titleFontSize.toString() + \"px\")\n        .style(\"fill\", \"Silver\")\n        .text(title);\n}\n\nconst edges = [{\"label\":\"\",\"weight\":1,\"from\":\"5_0\",\"to\":\"4_0\"},{\"from\":\"5_0\",\"label\":\"\",\"to\":\"5_1\",\"weight\":1},{\"weight\":1,\"to\":\"3_1\",\"from\":\"4_1\",\"label\":\"\"},{\"to\":\"4_2\",\"weight\":1,\"label\":\"\",\"from\":\"4_1\"},{\"from\":\"4_1\",\"to\":\"4_0\",\"label\":\"\",\"weight\":1},{\"weight\":1,\"to\":\"5_1\",\"label\":\"\",\"from\":\"4_1\"},{\"weight\":1,\"to\":\"3_2\",\"label\":\"\",\"from\":\"4_2\"},{\"to\":\"5_2\",\"weight\":1,\"from\":\"4_2\",\"label\":\"\"},{\"label\":\"\",\"from\":\"4_2\",\"weight\":1,\"to\":\"4_3\"},{\"to\":\"5_2\",\"from\":\"5_1\",\"label\":\"\",\"weight\":1},{\"weight\":1,\"from\":\"0_0\",\"to\":\"1_0\",\"label\":\"\"},{\"from\":\"0_0\",\"label\":\"\",\"weight\":1,\"to\":\"0_1\"},{\"weight\":1,\"to\":\"3_2\",\"from\":\"3_1\",\"label\":\"\"},{\"to\":\"2_1\",\"weight\":1,\"label\":\"\",\"from\":\"3_1\"},{\"to\":\"3_0\",\"weight\":1,\"label\":\"\",\"from\":\"3_1\"},{\"to\":\"2_2\",\"label\":\"\",\"from\":\"2_1\",\"weight\":1},{\"from\":\"2_1\",\"to\":\"1_1\",\"label\":\"\",\"weight\":1},{\"from\":\"2_1\",\"to\":\"2_0\",\"weight\":1,\"label\":\"\"},{\"weight\":1,\"label\":\"\",\"to\":\"1_3\",\"from\":\"0_3\"},{\"weight\":1,\"label\":\"\",\"to\":\"0_2\",\"from\":\"0_3\"},{\"label\":\"\",\"to\":\"3_3\",\"from\":\"4_3\",\"weight\":1},{\"to\":\"5_3\",\"weight\":1,\"from\":\"4_3\",\"label\":\"\"},{\"from\":\"1_0\",\"label\":\"\",\"weight\":1,\"to\":\"1_1\"},{\"to\":\"2_0\",\"from\":\"1_0\",\"weight\":1,\"label\":\"\"},{\"weight\":1,\"from\":\"2_0\",\"label\":\"\",\"to\":\"3_0\"},{\"to\":\"4_0\",\"weight\":1,\"from\":\"3_0\",\"label\":\"\"},{\"weight\":1,\"from\":\"0_2\",\"to\":\"0_1\",\"label\":\"\"},{\"to\":\"1_2\",\"weight\":1,\"from\":\"0_2\",\"label\":\"\"},{\"weight\":1,\"label\":\"\",\"to\":\"2_2\",\"from\":\"3_2\"},{\"label\":\"\",\"from\":\"3_2\",\"weight\":1,\"to\":\"3_3\"},{\"label\":\"\",\"from\":\"1_1\",\"to\":\"0_1\",\"weight\":1},{\"weight\":1,\"to\":\"1_2\",\"from\":\"1_1\",\"label\":\"\"},{\"to\":\"1_3\",\"weight\":1,\"from\":\"1_2\",\"label\":\"\"},{\"label\":\"\",\"weight\":1,\"from\":\"1_2\",\"to\":\"2_2\"},{\"from\":\"5_3\",\"weight\":1,\"to\":\"5_2\",\"label\":\"\"},{\"weight\":1,\"label\":\"\",\"to\":\"2_3\",\"from\":\"2_2\"},{\"weight\":1,\"to\":\"2_3\",\"label\":\"\",\"from\":\"1_3\"},{\"weight\":1,\"to\":\"2_3\",\"from\":\"3_3\",\"label\":\"\"}];\n\nconst nodes = Array.from(new Set(edges.flatMap(e => [e.from, e.to])), id => ({id}));\n\nconst highlightNodes = new Set([\"0_0\", \"0_1\", \"0_2\", \"0_3\", \"1_0\", \"1_1\", \"1_2\", \"1_3\", \"2_0\", \"2_1\", \"2_2\", \"2_3\", \"3_0\", \"3_1\", \"3_2\", \"3_3\", \"4_0\", \"4_1\", \"4_2\", \"4_3\", \"5_0\", \"5_1\", \"5_2\", \"5_3\"]);\n\nconst highlightLinkNodes = new Set([\"4_2-4_3\", \"4_2-3_2\", \"4_2-5_2\", \"4_2-4_1\", \"4_3-3_3\", \"4_3-5_3\", \"2_2-2_3\", \"2_2-2_1\", \"3_1-2_1\", \"3_1-3_0\", \"3_1-4_1\", \"2_1-2_0\", \"2_1-1_1\", \"1_1-1_0\", \"4_0-5_0\", \"4_0-4_1\", \"1_3-0_3\", \"0_3-0_2\", \"5_1-5_0\", \"0_1-0_2\", \"0_1-0_0\", \"0_2-1_2\", \"0_0-1_0\", \"4_3-4_2\", \"3_2-4_2\", \"5_2-4_2\", \"4_1-4_2\", \"3_3-4_3\", \"5_3-4_3\", \"2_3-2_2\", \"2_1-2_2\", \"2_1-3_1\", \"3_0-3_1\", \"4_1-3_1\", \"2_0-2_1\", \"1_1-2_1\", \"1_0-1_1\", \"5_0-4_0\", \"4_1-4_0\", \"0_3-1_3\", \"0_2-0_3\", \"5_0-5_1\", \"0_2-0_1\", \"0_0-0_1\", \"1_2-0_2\", \"1_0-0_0\"]);\n\nconst links = edges.map(e => ({\n  source: e.from,\n  target: e.to,\n  weight: e.weight,\n  label: e.label,\n  highlight: highlightLinkNodes.has(e.from + \"-\" + e.to)\n}));\n\n//.force(\"link\", d3.forceLink(links).id(d => d.id).distance(d => Math.max(d.weight * 20, 6 * 4)))\nconst simulation = d3.forceSimulation(nodes)\n    .force(\"link\", d3.forceLink(links).id(d => d.id).distance(0).iterations(1))\n    .force(\"charge\", d3.forceManyBody().strength(-160).distanceMin(1).distanceMax(2000))\n    .force(\"x\", d3.forceX())\n    .force(\"y\", d3.forceY())\n    .force(\"collision\", d3.forceCollide().radius(4))\n    .force(\"center\", d3.forceCenter(width / 2, height / 2));\n\nsvg.append('defs').append('marker')\n    .attr(\"id\",'arrowhead')\n    .attr('viewBox','-0 -5 10 10') //the bound of the SVG viewport for the current SVG fragment. defines a coordinate system 10 wide and 10 high starting on (0,-5)\n     .attr('refX', 16) // x coordinate for the reference point of the marker. If circle is bigger, this need to be bigger.\n     .attr('refY',0)\n     .attr('orient','auto')\n        .attr('markerWidth', 5)\n        .attr('markerHeight', 5)\n        .attr('xoverflow','visible')\n    .append('svg:path')\n    .attr('d', 'M 0,-5 L 10 ,0 L 0,5')\n    .attr('fill', \"SteelBlue\")\n    .style('stroke','none');\n\nconst link = svg.append(\"g\")\n    .attr(\"class\", \"links\")\n  .selectAll(\"line\")\n  .data(links)\n  .enter().append(\"line\")\n    .attr(\"class\", \"link\")\n    .attr(\"stroke\", d => d.highlight ? \"Orange\" : \"SteelBlue\")\n    .attr(\"stroke-width\", 3)\n    \n\nconst node = svg.append(\"g\")\n    .attr(\"class\", \"nodes\")\n  .selectAll(\"circle\")\n  .data(nodes)\n  .enter().append(\"circle\")\n    .attr(\"class\", \"node\")\n    .attr(\"r\", 6)\n    .attr(\"stroke\", d => highlightNodes.has(d.id) ? \"Orange\" : \"SteelBlue\")\n    .attr(\"fill\", d => highlightNodes.has(d.id) ?  \"Orange\" : \"SteelBlue\")\n    .call(drag(simulation));\n\nnode.append(\"title\")\n    .text(d => d.id);\n\nconst nodeLabel = svg.append(\"g\")\n    .attr(\"class\", \"node-labels\")\n  .selectAll(\"text\")\n  .data(nodes)\n  .enter().append(\"text\")\n    .attr(\"class\", \"node-label\")\n    .style(\"font-size\", 13)\n    .attr(\"font-family\", \"Courier\")\n    .attr(\"dy\", -10)\n    .attr('fill', \"Silver\")\n    .attr('stroke', \"Silver\")\n    .text(d => d.id);\n\nconst linkLabel = svg.append(\"g\")\n    .attr(\"class\", \"link-labels\")\n  .selectAll(\"text\")\n  .data(links)\n  .enter().append(\"text\")\n    .filter(d => d.label !== \"\")\n    .attr(\"class\", \"link-label\")\n    .style(\"font-size\", 13)\n    .attr(\"font-family\", \"Courier\")\n    .attr('fill', \"Silver\")\n    .attr('stroke', \"Silver\")\n    .text(d => d.label);\n\nsimulation.on(\"tick\", () => {\n  link\n      .attr(\"x1\", d => d.source.x)\n      .attr(\"y1\", d => d.source.y)\n      .attr(\"x2\", d => d.target.x)\n      .attr(\"y2\", d => d.target.y);\n\n  node\n      .attr(\"cx\", d => d.x)\n      .attr(\"cy\", d => d.y);\n\n  nodeLabel\n      .attr(\"x\", d => d.x)\n      .attr(\"y\", d => d.y);\n\n  linkLabel\n      .attr(\"x\", d => (d.source.x + d.target.x) / 2)\n      .attr(\"y\", d => (d.source.y + d.target.y) / 2);\n});\n\nfunction drag(simulation) {\n  function dragstarted(event, d) {\n    if (!event.active) simulation.alphaTarget(0.3).restart();\n    d.fx = d.x;\n    d.fy = d.y;\n  }\n\n  function dragged(event, d) {\n    d.fx = event.x;\n    d.fy = event.y;\n  }\n\n  function dragended(event, d) {\n    if (!event.active) simulation.alphaTarget(0);\n    d.fx = null;\n    d.fy = null;\n  }\n\n  return d3.drag()\n      .on(\"start\", dragstarted)\n      .on(\"drag\", dragged)\n      .on(\"end\", dragended);\n}\n\n}) })(element);\n"
     },
     "execution_count": 30,
     "metadata": {},
     "output_type": "execute_result"
    }
   ],
   "source": [
    "#% js\n",
    "$g.edges\n",
    "==> js-d3-graph-plot(\n",
    "    highlight => [|$stree.vertex-list, |$stree.edges],\n",
    "    width => 500,\n",
    "    :$background, :$title-color, :$edge-thickness, :$vertex-size,\n",
    "    force => {charge => {strength => -160, iterations => 2}, collision => {radius => 4, iterations => 1}, link => {distance => 0}}\n",
    "    )"
   ]
  },
  {
   "cell_type": "markdown",
   "metadata": {},
   "source": [
    "-----\n",
    "\n",
    "## Florida cities"
   ]
  },
  {
   "cell_type": "markdown",
   "metadata": {},
   "source": [
    "Build an interstate highway system joining the cities of the state of Florida, USA."
   ]
  },
  {
   "cell_type": "markdown",
   "metadata": {},
   "source": [
    "Here is a dataset of large enough cities:"
   ]
  },
  {
   "cell_type": "code",
   "execution_count": 59,
   "metadata": {},
   "outputs": [
    {
     "data": {
      "text/plain": [
       "84"
      ]
     },
     "execution_count": 59,
     "metadata": {},
     "output_type": "execute_result"
    }
   ],
   "source": [
    "my @cities = city-data().grep({ $_<State> eq 'Florida' && $_<Population> ≥ 50_000 });\n",
    "my @cities = city-data().grep({ $_<Country> eq 'Bulgaria' && $_<Population> ≥ 10_000 });\n",
    "@cities.elems"
   ]
  },
  {
   "cell_type": "code",
   "execution_count": 60,
   "metadata": {},
   "outputs": [
    {
     "data": {
      "text/html": [
       "<table border=\"1\"><thead><tr><th>ID</th><th>Country</th><th>City</th><th>State</th><th>Elevation</th><th>Population</th><th>Longitude</th><th>Latitude</th><th>LocationLink</th></tr></thead><tbody><tr><td>Bulgaria.Sofia_grad.Sofia</td><td>Bulgaria</td><td>Sofia</td><td>Sofia grad</td><td>570</td><td>1260120</td><td>23.31</td><td>42.69</td><td>http://maps.google.com/maps?q=42.69,23.31&amp;z=12&amp;t=h</td></tr><tr><td>Bulgaria.Plovdiv.Plovdiv</td><td>Bulgaria</td><td>Plovdiv</td><td>Plovdiv</td><td>170</td><td>346757</td><td>24.75</td><td>42.15</td><td>http://maps.google.com/maps?q=42.15,24.75&amp;z=12&amp;t=h</td></tr><tr><td>Bulgaria.Varna.Varna</td><td>Bulgaria</td><td>Varna</td><td>Varna</td><td>16</td><td>335177</td><td>27.900000000000002</td><td>43.21</td><td>http://maps.google.com/maps?q=43.21,27.900000000000002&amp;z=12&amp;t=h</td></tr><tr><td>Bulgaria.Burgas.Burgas</td><td>Bulgaria</td><td>Burgas</td><td>Burgas</td><td>30</td><td>206371</td><td>27.47</td><td>42.51</td><td>http://maps.google.com/maps?q=42.51,27.47&amp;z=12&amp;t=h</td></tr></tbody></table>"
      ]
     },
     "execution_count": 60,
     "metadata": {},
     "output_type": "execute_result"
    }
   ],
   "source": [
    "#% html\n",
    "@cities.head(4) ==> to-html"
   ]
  },
  {
   "cell_type": "markdown",
   "metadata": {},
   "source": [
    "Here is the corresponding weighted graph:"
   ]
  },
  {
   "cell_type": "code",
   "execution_count": 61,
   "metadata": {},
   "outputs": [
    {
     "data": {
      "text/plain": [
       "[{from => Sandanski, to => Sandanski, weight => 0} {from => Sandanski, to => Varna, weight => 421128.02915672085} {from => Sandanski, to => Kostinbrod, weight => 140381.3835654189} {from => Sandanski, to => Haskovo, weight => 193206.29735361272} {from => Sandanski, to => Sevlievo, weight => 221326.62179573855} {from => Sandanski, to => Rakovski, weight => 161131.41784987602} {from => Sandanski, to => Dolni Dabnik, weight => 225534.41756830024} {from => Sandanski, to => Smoljan, weight => 117466.4357687397} {from => Sandanski, to => Trojan, weight => 190110.64981253937} {from => Sandanski, to => Velingrad, weight => 78799.96893041863} {from => Sandanski, to => Glavinica, weight => 391784.4341425147} {from => Sandanski, to => Gorna Orjahovica, weight => 264294.2110722536} {from => Sandanski, to => Goce Delcev, weight => 37543.48225932714} {from => Sandanski, to => Blagoevgrad, weight => 54889.951411085836} {from => Sandanski, to => Provadija, weight => 386687.0467047009} {from => Sandanski, to => Radomir, weight => 114417.87431454666} {from => Sandanski, to => Sumen, weight => 355107.7850169916} {from => Sandanski, to => Pernik, weight => 118842.65513391903} {from => Sandanski, to => Pestera, weight => 100098.98028973046} {from => Sandanski, to => Parvomaj, weight => 170997.0337804324} {from => Sandanski, to => Targoviste, weight => 329390.77001434943} {from => Sandanski, to => Asenovgrad, weight => 141552.11572258215} {from => Sandanski, to => Kneza, weight => 225708.0639150895} {from => Sandanski, to => Sliven, weight => 279508.9530320255} {from => Sandanski, to => Elhovo, weight => 280248.25289093744} {from => Sandanski, to => Stara Zagora, weight => 215975.56183054595} {from => Sandanski, to => Jambol, weight => 286823.5513981635} {from => Sandanski, to => Cirpan, weight => 183470.6398499365} {from => Sandanski, to => Pomorie, weight => 376918.6328243124} {from => Sandanski, to => Kardzali, weight => 173420.6200889401} {from => Sandanski, to => Sofia, weight => 125801.92035127443} {from => Sandanski, to => Razgrad, weight => 344484.52343658305} {from => Sandanski, to => Lovec, weight => 212516.55718664132} {from => Sandanski, to => Botevgrad, weight => 156686.99913978373} {from => Sandanski, to => Petric, weight => 18743.471296634398} {from => Sandanski, to => Lom, weight => 252716.54457298393} {from => Sandanski, to => Mezdra, weight => 180497.37875818307} {from => Sandanski, to => Karlovo, weight => 175354.63227750937} {from => Sandanski, to => Veliko Tarnovo, weight => 257077.34317415918} {from => Sandanski, to => Bjala Slatina, weight => 220687.29095040655} {from => Sandanski, to => Dimitrovgrad, weight => 200375.34799008892} {from => Sandanski, to => Guljanci, weight => 259751.92669318238} {from => Sandanski, to => Razlog, weight => 39983.52087824797} {from => Sandanski, to => Dupnica, weight => 80281.56482957359} {from => Sandanski, to => Ruse, weight => 336720.9993627482} {from => Sandanski, to => Berkovica, weight => 187422.79221229756} {from => Sandanski, to => Kozloduj, weight => 250839.77060099287} {from => Sandanski, to => Teteven, weight => 172954.51259008082} {from => Sandanski, to => Dobric, weight => 434753.11814766115} {from => Sandanski, to => Radnevo, weight => 235179.40358530427} {from => Sandanski, to => Novi Pazar, weight => 377871.8074767605} {from => Sandanski, to => Cerven Brjag, weight => 203529.92393139828} {from => Sandanski, to => Vidin, weight => 274881.7601655092} {from => Sandanski, to => Pavlikeni, weight => 250081.4180175001} {from => Sandanski, to => Vraca, weight => 186118.70133042877} {from => Sandanski, to => Novi Iskar, weight => 139188.5350099267} {from => Sandanski, to => Pleven, weight => 234065.73564258788} {from => Sandanski, to => Samokov, weight => 90945.8429015646} {from => Sandanski, to => Kjustendil, weight => 96202.38486982392} {from => Sandanski, to => Montana, weight => 207112.90149679498} {from => Sandanski, to => Bjala, weight => 406021.8478995484} {from => Sandanski, to => Ihtiman, weight => 108677.94069570265} {from => Sandanski, to => Panagjuriste, weight => 128834.22424483583} {from => Sandanski, to => Zavet, weight => 369696.4480328206} {from => Sandanski, to => Ajtos, weight => 352179.6969472281} {from => Sandanski, to => Popovo, weight => 313728.638020322} {from => Sandanski, to => Strazica, weight => 288249.0197072933} {from => Sandanski, to => Bankya, weight => 127589.80507715773} {from => Sandanski, to => Kazanlak, weight => 211094.34008219463} {from => Sandanski, to => Gabrovo, weight => 223536.28159973887} {from => Sandanski, to => Plovdiv, weight => 137721.92921251367} {from => Sandanski, to => Karnobat, weight => 329144.1807563331} {from => Sandanski, to => Svistov, weight => 284740.8620621922} {from => Sandanski, to => Svilengrad, weight => 243202.89325103868} {from => Sandanski, to => Pazardzik, weight => 111827.82396731913} {from => Sandanski, to => Silistra, weight => 431340.83094979945} {from => Sandanski, to => Stambolijski, weight => 122818.58842464323} {from => Sandanski, to => Kavarna, weight => 464197.42815570964} {from => Sandanski, to => Burgas, weight => 361378.7936934912} {from => Sandanski, to => Balcik, weight => 450344.479819028} {from => Sandanski, to => Levski, weight => 252823.85781885273} {from => Sandanski, to => Etropole, weight => 154363.35414563387} {from => Sandanski, to => Harmanli, weight => 221464.09784419948} {from => Sandanski, to => Nova Zagora, weight => 248794.1514661741} {from => Varna, to => Sandanski, weight => 421128.02915672085} {from => Varna, to => Varna, weight => 0} {from => Varna, to => Kostinbrod, weight => 383338.7204969182} {from => Varna, to => Haskovo, weight => 238274.67943821513} {from => Varna, to => Sevlievo, weight => 228383.16125751476} {from => Varna, to => Rakovski, weight => 260468.99685213174} {from => Varna, to => Dolni Dabnik, weight => 281066.4252675956} {from => Varna, to => Smoljan, weight => 318896.5135047083} {from => Varna, to => Trojan, weight => 260939.86583171695} {from => Varna, to => Velingrad, weight => 345377.56555414916} {from => Varna, to => Glavinica, weight => 113155.77847819992} {from => Varna, to => Gorna Orjahovica, weight => 178831.04712368906} {from => Varna, to => Goce Delcev, weight => 387086.653816603} {from => Varna, to => Blagoevgrad, weight => 415259.9360984492} {from => Varna, to => Provadija, weight => 36672.12948412587} {from => Varna, to => Radomir, weight => 408515.23658148036} ...]"
      ]
     },
     "execution_count": 61,
     "metadata": {},
     "output_type": "execute_result"
    }
   ],
   "source": [
    "my %coords = @cities.map({ $_<City> => ($_<Latitude>, $_<Longitude>) });\n",
    "my @dsEdges = (%coords.keys X %coords.keys ).map({ %(from => $_.head, to => $_.tail, weight => geo-distance(|%coords{$_.head}, |%coords{$_.tail} )) })"
   ]
  },
  {
   "cell_type": "code",
   "execution_count": 62,
   "metadata": {},
   "outputs": [
    {
     "data": {
      "text/plain": [
       "Graph(vertexes => 84, edges => 3528, directed => False)"
      ]
     },
     "execution_count": 62,
     "metadata": {},
     "output_type": "execute_result"
    }
   ],
   "source": [
    "my $g = Graph.new(@dsEdges, :!directed)"
   ]
  },
  {
   "cell_type": "code",
   "execution_count": 63,
   "metadata": {},
   "outputs": [
    {
     "data": {
      "text/plain": [
       "Graph(vertexes => 84, edges => 83, directed => False)"
      ]
     },
     "execution_count": 63,
     "metadata": {},
     "output_type": "execute_result"
    }
   ],
   "source": [
    "my $stree = $g.find-spanning-tree"
   ]
  },
  {
   "cell_type": "code",
   "execution_count": 64,
   "metadata": {},
   "outputs": [
    {
     "data": {
      "application/javascript": "(function(element) { require(['d3'], function(d3) {\n\n// set the dimensions and margins of the graph\nvar margin = {\"bottom\":40,\"right\":40,\"top\":40,\"left\":40},\n    width = 1500 - margin.left - margin.right,\n    height = 927.070457 - margin.top - margin.bottom;\n\n// append the svg object to the body of the page\nvar svg = d3\n   .select(element.get(0))\n  .append(\"svg\")\n    .attr(\"width\", width + margin.left + margin.right)\n    .attr(\"height\", height + margin.top + margin.bottom)\n    .style(\"background\", \"1F1F1F\")\n  .append(\"g\")\n    .attr(\"transform\",\n          \"translate(\" + margin.left + \",\" + margin.top + \")\")\n\n// Obtain title\nvar title = \"\"\nvar titleFontSize = 16\n\nif ( title.length > 0 ) {\n    svg.append(\"text\")\n        .attr(\"x\", (width / 2))\n        .attr(\"y\", 0 - (margin.top / 2))\n        .attr(\"text-anchor\", \"middle\")\n        .style(\"font-size\", titleFontSize.toString() + \"px\")\n        .style(\"fill\", \"Silver\")\n        .text(title);\n}\n\nconst edges = [{\"to\":\"Haskovo\",\"weight\":1,\"label\":\"\",\"from\":\"Dimitrovgrad\"},{\"label\":\"\",\"from\":\"Dimitrovgrad\",\"to\":\"Cirpan\",\"weight\":1},{\"label\":\"\",\"from\":\"Dimitrovgrad\",\"to\":\"Harmanli\",\"weight\":1},{\"to\":\"Sofia\",\"weight\":1,\"label\":\"\",\"from\":\"Bankya\"},{\"to\":\"Pernik\",\"label\":\"\",\"weight\":1,\"from\":\"Bankya\"},{\"weight\":1,\"to\":\"Novi Iskar\",\"label\":\"\",\"from\":\"Sofia\"},{\"label\":\"\",\"from\":\"Bjala Slatina\",\"to\":\"Kneza\",\"weight\":1},{\"label\":\"\",\"from\":\"Bjala Slatina\",\"weight\":1,\"to\":\"Kozloduj\"},{\"weight\":1,\"to\":\"Elhovo\",\"from\":\"Jambol\",\"label\":\"\"},{\"from\":\"Jambol\",\"weight\":1,\"to\":\"Sliven\",\"label\":\"\"},{\"to\":\"Montana\",\"label\":\"\",\"weight\":1,\"from\":\"Berkovica\"},{\"from\":\"Berkovica\",\"weight\":1,\"to\":\"Vraca\",\"label\":\"\"},{\"weight\":1,\"to\":\"Targoviste\",\"label\":\"\",\"from\":\"Popovo\"},{\"label\":\"\",\"to\":\"Strazica\",\"weight\":1,\"from\":\"Popovo\"},{\"label\":\"\",\"from\":\"Popovo\",\"weight\":1,\"to\":\"Razgrad\"},{\"from\":\"Provadija\",\"label\":\"\",\"to\":\"Novi Pazar\",\"weight\":1},{\"label\":\"\",\"weight\":1,\"from\":\"Provadija\",\"to\":\"Varna\"},{\"from\":\"Bjala\",\"to\":\"Pomorie\",\"label\":\"\",\"weight\":1},{\"label\":\"\",\"from\":\"Bjala\",\"weight\":1,\"to\":\"Varna\"},{\"to\":\"Teteven\",\"label\":\"\",\"weight\":1,\"from\":\"Trojan\"},{\"label\":\"\",\"weight\":1,\"to\":\"Lovec\",\"from\":\"Trojan\"},{\"weight\":1,\"to\":\"Karlovo\",\"from\":\"Trojan\",\"label\":\"\"},{\"weight\":1,\"from\":\"Novi Pazar\",\"to\":\"Sumen\",\"label\":\"\"},{\"from\":\"Levski\",\"to\":\"Pavlikeni\",\"label\":\"\",\"weight\":1},{\"to\":\"Svistov\",\"from\":\"Levski\",\"label\":\"\",\"weight\":1},{\"label\":\"\",\"to\":\"Mezdra\",\"weight\":1,\"from\":\"Vraca\"},{\"label\":\"\",\"to\":\"Pleven\",\"from\":\"Dolni Dabnik\",\"weight\":1},{\"from\":\"Dolni Dabnik\",\"weight\":1,\"label\":\"\",\"to\":\"Cerven Brjag\"},{\"from\":\"Nova Zagora\",\"weight\":1,\"label\":\"\",\"to\":\"Radnevo\"},{\"weight\":1,\"to\":\"Sliven\",\"label\":\"\",\"from\":\"Nova Zagora\"},{\"label\":\"\",\"from\":\"Pavlikeni\",\"to\":\"Sevlievo\",\"weight\":1},{\"from\":\"Pavlikeni\",\"label\":\"\",\"to\":\"Veliko Tarnovo\",\"weight\":1},{\"label\":\"\",\"weight\":1,\"from\":\"Petric\",\"to\":\"Sandanski\"},{\"label\":\"\",\"to\":\"Harmanli\",\"weight\":1,\"from\":\"Svilengrad\"},{\"from\":\"Razlog\",\"label\":\"\",\"weight\":1,\"to\":\"Blagoevgrad\"},{\"label\":\"\",\"to\":\"Sandanski\",\"weight\":1,\"from\":\"Razlog\"},{\"to\":\"Zavet\",\"label\":\"\",\"from\":\"Razgrad\",\"weight\":1},{\"from\":\"Stambolijski\",\"to\":\"Pazardzik\",\"weight\":1,\"label\":\"\"},{\"weight\":1,\"from\":\"Stambolijski\",\"to\":\"Plovdiv\",\"label\":\"\"},{\"weight\":1,\"to\":\"Lom\",\"from\":\"Vidin\",\"label\":\"\"},{\"label\":\"\",\"to\":\"Sumen\",\"from\":\"Targoviste\",\"weight\":1},{\"from\":\"Ruse\",\"label\":\"\",\"to\":\"Zavet\",\"weight\":1},{\"weight\":1,\"to\":\"Etropole\",\"from\":\"Teteven\",\"label\":\"\"},{\"label\":\"\",\"to\":\"Sandanski\",\"from\":\"Goce Delcev\",\"weight\":1},{\"weight\":1,\"to\":\"Dupnica\",\"label\":\"\",\"from\":\"Kjustendil\"},{\"to\":\"Asenovgrad\",\"label\":\"\",\"from\":\"Smoljan\",\"weight\":1},{\"weight\":1,\"from\":\"Cirpan\",\"label\":\"\",\"to\":\"Stara Zagora\"},{\"weight\":1,\"from\":\"Cirpan\",\"to\":\"Parvomaj\",\"label\":\"\"},{\"label\":\"\",\"from\":\"Radnevo\",\"to\":\"Stara Zagora\",\"weight\":1},{\"from\":\"Stara Zagora\",\"weight\":1,\"label\":\"\",\"to\":\"Kazanlak\"},{\"from\":\"Etropole\",\"label\":\"\",\"weight\":1,\"to\":\"Botevgrad\"},{\"from\":\"Kardzali\",\"to\":\"Haskovo\",\"label\":\"\",\"weight\":1},{\"from\":\"Blagoevgrad\",\"label\":\"\",\"weight\":1,\"to\":\"Dupnica\"},{\"label\":\"\",\"weight\":1,\"from\":\"Strazica\",\"to\":\"Gorna Orjahovica\"},{\"to\":\"Ihtiman\",\"from\":\"Samokov\",\"weight\":1,\"label\":\"\"},{\"from\":\"Samokov\",\"weight\":1,\"label\":\"\",\"to\":\"Dupnica\"},{\"to\":\"Kostinbrod\",\"from\":\"Novi Iskar\",\"label\":\"\",\"weight\":1},{\"to\":\"Glavinica\",\"weight\":1,\"label\":\"\",\"from\":\"Silistra\"},{\"weight\":1,\"label\":\"\",\"to\":\"Rakovski\",\"from\":\"Plovdiv\"},{\"to\":\"Asenovgrad\",\"from\":\"Plovdiv\",\"label\":\"\",\"weight\":1},{\"label\":\"\",\"from\":\"Zavet\",\"to\":\"Glavinica\",\"weight\":1},{\"to\":\"Balcik\",\"label\":\"\",\"from\":\"Kavarna\",\"weight\":1},{\"label\":\"\",\"to\":\"Burgas\",\"weight\":1,\"from\":\"Pomorie\"},{\"from\":\"Burgas\",\"label\":\"\",\"weight\":1,\"to\":\"Ajtos\"},{\"weight\":1,\"to\":\"Radomir\",\"label\":\"\",\"from\":\"Dupnica\"},{\"weight\":1,\"label\":\"\",\"to\":\"Pazardzik\",\"from\":\"Pestera\"},{\"from\":\"Pestera\",\"weight\":1,\"label\":\"\",\"to\":\"Velingrad\"},{\"label\":\"\",\"weight\":1,\"from\":\"Sevlievo\",\"to\":\"Lovec\"},{\"from\":\"Sevlievo\",\"weight\":1,\"to\":\"Gabrovo\",\"label\":\"\"},{\"from\":\"Balcik\",\"to\":\"Varna\",\"label\":\"\",\"weight\":1},{\"label\":\"\",\"from\":\"Balcik\",\"weight\":1,\"to\":\"Dobric\"},{\"label\":\"\",\"to\":\"Cerven Brjag\",\"from\":\"Kneza\",\"weight\":1},{\"to\":\"Botevgrad\",\"label\":\"\",\"weight\":1,\"from\":\"Mezdra\"},{\"from\":\"Kozloduj\",\"label\":\"\",\"to\":\"Lom\",\"weight\":1},{\"to\":\"Panagjuriste\",\"label\":\"\",\"from\":\"Ihtiman\",\"weight\":1},{\"weight\":1,\"from\":\"Asenovgrad\",\"to\":\"Parvomaj\",\"label\":\"\"},{\"to\":\"Karnobat\",\"label\":\"\",\"from\":\"Ajtos\",\"weight\":1},{\"label\":\"\",\"to\":\"Pleven\",\"from\":\"Guljanci\",\"weight\":1},{\"to\":\"Kazanlak\",\"from\":\"Gabrovo\",\"label\":\"\",\"weight\":1},{\"label\":\"\",\"weight\":1,\"from\":\"Pazardzik\",\"to\":\"Panagjuriste\"},{\"from\":\"Veliko Tarnovo\",\"to\":\"Gorna Orjahovica\",\"label\":\"\",\"weight\":1},{\"weight\":1,\"to\":\"Pernik\",\"from\":\"Radomir\",\"label\":\"\"},{\"label\":\"\",\"weight\":1,\"to\":\"Pleven\",\"from\":\"Lovec\"}];\n\nconst nodes = Array.from(new Set(edges.flatMap(e => [e.from, e.to])), id => ({id}));\n\nconst highlightNodes = new Set([]);\n\nconst highlightLinkNodes = new Set([]);\n\nconst links = edges.map(e => ({\n  source: e.from,\n  target: e.to,\n  weight: e.weight,\n  label: e.label,\n  highlight: highlightLinkNodes.has(e.from + \"-\" + e.to)\n}));\n\n//.force(\"link\", d3.forceLink(links).id(d => d.id).distance(d => Math.max(d.weight * 20, 6 * 4)))\nconst simulation = d3.forceSimulation(nodes)\n    .force(\"link\", d3.forceLink(links).id(d => d.id).distance(0).iterations(1))\n    .force(\"charge\", d3.forceManyBody().strength(-160).distanceMin(1).distanceMax(2000))\n    .force(\"x\", d3.forceX())\n    .force(\"y\", d3.forceY())\n    .force(\"collision\", d3.forceCollide().radius(4))\n    .force(\"center\", d3.forceCenter(width / 2, height / 2));\n\nsvg.append('defs').append('marker')\n    .attr(\"id\",'arrowhead')\n    .attr('viewBox','-0 -5 10 10') //the bound of the SVG viewport for the current SVG fragment. defines a coordinate system 10 wide and 10 high starting on (0,-5)\n     .attr('refX', 16) // x coordinate for the reference point of the marker. If circle is bigger, this need to be bigger.\n     .attr('refY',0)\n     .attr('orient','auto')\n        .attr('markerWidth', 5)\n        .attr('markerHeight', 5)\n        .attr('xoverflow','visible')\n    .append('svg:path')\n    .attr('d', 'M 0,-5 L 10 ,0 L 0,5')\n    .attr('fill', \"SteelBlue\")\n    .style('stroke','none');\n\nconst link = svg.append(\"g\")\n    .attr(\"class\", \"links\")\n  .selectAll(\"line\")\n  .data(links)\n  .enter().append(\"line\")\n    .attr(\"class\", \"link\")\n    .attr(\"stroke\", d => d.highlight ? \"Orange\" : \"SteelBlue\")\n    .attr(\"stroke-width\", 3)\n    \n\nconst node = svg.append(\"g\")\n    .attr(\"class\", \"nodes\")\n  .selectAll(\"circle\")\n  .data(nodes)\n  .enter().append(\"circle\")\n    .attr(\"class\", \"node\")\n    .attr(\"r\", 6)\n    .attr(\"stroke\", d => highlightNodes.has(d.id) ? \"Orange\" : \"SteelBlue\")\n    .attr(\"fill\", d => highlightNodes.has(d.id) ?  \"Orange\" : \"SteelBlue\")\n    .call(drag(simulation));\n\nnode.append(\"title\")\n    .text(d => d.id);\n\nconst nodeLabel = svg.append(\"g\")\n    .attr(\"class\", \"node-labels\")\n  .selectAll(\"text\")\n  .data(nodes)\n  .enter().append(\"text\")\n    .attr(\"class\", \"node-label\")\n    .style(\"font-size\", 13)\n    .attr(\"font-family\", \"Courier\")\n    .attr(\"dy\", -10)\n    .attr('fill', \"Silver\")\n    .attr('stroke', \"Silver\")\n    .text(d => d.id);\n\nconst linkLabel = svg.append(\"g\")\n    .attr(\"class\", \"link-labels\")\n  .selectAll(\"text\")\n  .data(links)\n  .enter().append(\"text\")\n    .filter(d => d.label !== \"\")\n    .attr(\"class\", \"link-label\")\n    .style(\"font-size\", 13)\n    .attr(\"font-family\", \"Courier\")\n    .attr('fill', \"Silver\")\n    .attr('stroke', \"Silver\")\n    .text(d => d.label);\n\nsimulation.on(\"tick\", () => {\n  link\n      .attr(\"x1\", d => d.source.x)\n      .attr(\"y1\", d => d.source.y)\n      .attr(\"x2\", d => d.target.x)\n      .attr(\"y2\", d => d.target.y);\n\n  node\n      .attr(\"cx\", d => d.x)\n      .attr(\"cy\", d => d.y);\n\n  nodeLabel\n      .attr(\"x\", d => d.x)\n      .attr(\"y\", d => d.y);\n\n  linkLabel\n      .attr(\"x\", d => (d.source.x + d.target.x) / 2)\n      .attr(\"y\", d => (d.source.y + d.target.y) / 2);\n});\n\nfunction drag(simulation) {\n  function dragstarted(event, d) {\n    if (!event.active) simulation.alphaTarget(0.3).restart();\n    d.fx = d.x;\n    d.fy = d.y;\n  }\n\n  function dragged(event, d) {\n    d.fx = event.x;\n    d.fy = event.y;\n  }\n\n  function dragended(event, d) {\n    if (!event.active) simulation.alphaTarget(0);\n    d.fx = null;\n    d.fy = null;\n  }\n\n  return d3.drag()\n      .on(\"start\", dragstarted)\n      .on(\"drag\", dragged)\n      .on(\"end\", dragended);\n}\n\n}) })(element);\n"
     },
     "execution_count": 64,
     "metadata": {},
     "output_type": "execute_result"
    }
   ],
   "source": [
    "#% js\n",
    "$stree.edges\n",
    "==> js-d3-graph-plot(\n",
    "    width => 1500,\n",
    "    :$background, :$title-color, :$edge-thickness, :$vertex-size,\n",
    "    force => {charge => {strength => -160, iterations => 2}, collision => {radius => 4, iterations => 1}, link => {distance => 0}}\n",
    "    )"
   ]
  },
  {
   "cell_type": "code",
   "execution_count": null,
   "metadata": {},
   "outputs": [],
   "source": []
  }
 ],
 "metadata": {
  "kernelspec": {
   "display_name": "RakuChatbook",
   "language": "raku",
   "name": "raku"
  },
  "language_info": {
   "file_extension": ".raku",
   "mimetype": "text/x-raku",
   "name": "raku",
   "version": "6.d"
  }
 },
 "nbformat": 4,
 "nbformat_minor": 2
}
