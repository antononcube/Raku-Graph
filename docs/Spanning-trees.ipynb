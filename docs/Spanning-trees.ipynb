{
 "cells": [
  {
   "cell_type": "markdown",
   "metadata": {},
   "source": [
    "# Spanning trees\n",
    "\n",
    "Anton Antonov   \n",
    "July 2024"
   ]
  },
  {
   "cell_type": "markdown",
   "metadata": {},
   "source": [
    "----\n",
    "\n",
    "## Setup"
   ]
  },
  {
   "cell_type": "code",
   "execution_count": null,
   "metadata": {},
   "outputs": [],
   "source": [
    "use Graph;\n",
    "\n",
    "use Graph::Circulant;\n",
    "use Graph::Complete;\n",
    "use Graph::CompleteKaryTree;\n",
    "use Graph::Cycle;\n",
    "use Graph::Grid;\n",
    "use Graph::Hypercube;\n",
    "use Graph::KnightTour;\n",
    "use Graph::Star;\n",
    "use Graph::Path;\n",
    "use Graph::Petersen;\n",
    "use Graph::Wheel;\n",
    "\n",
    "use Graph::Distribution;\n",
    "use Graph::Random;\n",
    "\n",
    "use Data::Reshapers;\n",
    "use Data::Summarizers;\n",
    "use Data::TypeSystem;\n",
    "use Data::Translators;\n",
    "use Data::Geographics;\n",
    "use Math::DistanceFunctions;\n",
    "use Math::Nearest;\n",
    "use Hash::Merge;\n",
    "\n",
    "use JavaScript::D3;\n",
    "use WWW::MermaidInk;"
   ]
  },
  {
   "cell_type": "code",
   "execution_count": null,
   "metadata": {},
   "outputs": [],
   "source": [
    "#% javascript\n",
    "require.config({\n",
    "     paths: {\n",
    "     d3: 'https://d3js.org/d3.v7.min'\n",
    "}});\n",
    "\n",
    "require(['d3'], function(d3) {\n",
    "     console.log(d3);\n",
    "});"
   ]
  },
  {
   "cell_type": "code",
   "execution_count": null,
   "metadata": {},
   "outputs": [],
   "source": [
    "#% js\n",
    "js-d3-list-line-plot(10.rand xx 40, background => 'none', stroke-width => 2)"
   ]
  },
  {
   "cell_type": "code",
   "execution_count": null,
   "metadata": {},
   "outputs": [],
   "source": [
    "my $title-color = 'Silver';\n",
    "my $stroke-color = 'SlateGray';\n",
    "my $tooltip-color = 'LightBlue';\n",
    "my $tooltip-background-color = 'none';\n",
    "my $background = '1F1F1F';\n",
    "my $color-scheme = 'schemeTableau10';\n",
    "my $edge-thickness = 3;\n",
    "my $vertex-size = 6;\n",
    "my $mmd-theme = q:to/END/;\n",
    "%%{\n",
    "  init: {\n",
    "    'theme': 'forest',\n",
    "    'themeVariables': {\n",
    "      'lineColor': 'Ivory'\n",
    "    }\n",
    "  }\n",
    "}%%\n",
    "END\n",
    "my %force = collision => {iterations => 0, radius => 10},link => {distance => 180};\n",
    "my %force2 = charge => {strength => -30, iterations => 4}, collision => {radius => 50, iterations => 4}, link => {distance => 30};\n",
    "\n",
    "my %opts = :$background, :$title-color, :$edge-thickness, :$vertex-size;"
   ]
  },
  {
   "cell_type": "markdown",
   "metadata": {},
   "source": [
    "-----\n",
    "\n",
    "## Small Geo-points set"
   ]
  },
  {
   "cell_type": "markdown",
   "metadata": {},
   "source": [
    "A company is planning a fiber network for a number of Chicago suburbs. It only has the right of way for its fiber along certain corridors. Some of those corridors might be more expensive. Find the subgraph of connection corridors that connect every suburb with the lowest total cost:"
   ]
  },
  {
   "cell_type": "code",
   "execution_count": null,
   "metadata": {},
   "outputs": [],
   "source": [
    "my @dsEdges =\n",
    "        %('from'=>'Maywood','to'=>'Downers','weight'=>14),\n",
    "        %('from'=>'Maywood','to'=>'Oakbrook','weight'=>28),\n",
    "        %('from'=>'Maywood','to'=>'Addison','weight'=>10),\n",
    "        %('from'=>'Downers','to'=>'Grove','weight'=>25),\n",
    "        %('from'=>'Downers','to'=>'Stickney','weight'=>23),\n",
    "        %('from'=>'Downers','to'=>'Wheaton','weight'=>20),\n",
    "        %('from'=>'Downers','to'=>'Oakbrook','weight'=>27),\n",
    "        %('from'=>'Oakbrook','to'=>'Stickney','weight'=>11),\n",
    "        %('from'=>'Oakbrook','to'=>'Addison','weight'=>17),\n",
    "        %('from'=>'Addison','to'=>'McCook','weight'=>21),\n",
    "        %('from'=>'Grove','to'=>'Wheaton','weight'=>10),\n",
    "        %('from'=>'Stickney','to'=>'Wheaton','weight'=>15),\n",
    "        %('from'=>'Stickney','to'=>'Bellwood','weight'=>20),\n",
    "        %('from'=>'Wheaton','to'=>'Bellwood','weight'=>10),\n",
    "        %('from'=>'Bellwood','to'=>'McCook','weight'=>28);\n",
    "\n",
    "deduce-type(@dsEdges)"
   ]
  },
  {
   "cell_type": "code",
   "execution_count": null,
   "metadata": {},
   "outputs": [],
   "source": [
    "my $g = Graph.new(@dsEdges)"
   ]
  },
  {
   "cell_type": "code",
   "execution_count": null,
   "metadata": {},
   "outputs": [],
   "source": [
    "#% js\n",
    "$g.edges(:dataset)\n",
    "==> js-d3-graph-plot(\n",
    "    width => 800,\n",
    "    :$background, :$title-color, :$edge-thickness, :$vertex-size,\n",
    "    force => {charge => { strength => -800}, collision => {radius => 50}}\n",
    "    )"
   ]
  },
  {
   "cell_type": "code",
   "execution_count": null,
   "metadata": {},
   "outputs": [],
   "source": [
    "my $stree = $g.find-spanning-tree;"
   ]
  },
  {
   "cell_type": "code",
   "execution_count": null,
   "metadata": {},
   "outputs": [],
   "source": [
    "#% js\n",
    "$g.edges\n",
    "==> js-d3-graph-plot(\n",
    "    highlight => $stree.edges,\n",
    "    width => 800,\n",
    "    :$background, :$title-color, :$edge-thickness, :$vertex-size,\n",
    "    force => {charge => { strength => -800}, collision => {radius => 50}}\n",
    "    )"
   ]
  },
  {
   "cell_type": "markdown",
   "metadata": {},
   "source": [
    "-------\n",
    "\n",
    "## Grid graph"
   ]
  },
  {
   "cell_type": "code",
   "execution_count": null,
   "metadata": {},
   "outputs": [],
   "source": [
    "my $g = Graph::Grid.new(n => 4, m => 6)"
   ]
  },
  {
   "cell_type": "code",
   "execution_count": null,
   "metadata": {},
   "outputs": [],
   "source": [
    "my $stree = $g.find-spanning-tree"
   ]
  },
  {
   "cell_type": "code",
   "execution_count": null,
   "metadata": {},
   "outputs": [],
   "source": [
    "#% js\n",
    "$g.edges\n",
    "==> js-d3-graph-plot(\n",
    "    highlight => [|$stree.vertex-list, |$stree.edges],\n",
    "    width => 500,\n",
    "    :$background, :$title-color, :$edge-thickness, :$vertex-size,\n",
    "    force => {charge => {strength => -160, iterations => 2}, collision => {radius => 4, iterations => 1}, link => {distance => 0}}\n",
    "    )"
   ]
  },
  {
   "cell_type": "markdown",
   "metadata": {},
   "source": [
    "-----\n",
    "\n",
    "## Florida cities"
   ]
  },
  {
   "cell_type": "markdown",
   "metadata": {},
   "source": [
    "Build an interstate highway system joining the cities of the state of Florida, USA."
   ]
  },
  {
   "cell_type": "markdown",
   "metadata": {},
   "source": [
    "Here is a dataset of large enough cities:"
   ]
  },
  {
   "cell_type": "code",
   "execution_count": null,
   "metadata": {},
   "outputs": [],
   "source": [
    "my @cities = city-data().grep({ $_<State> eq 'Florida' && $_<Population> ≥ 50_000 });\n",
    "@cities.elems"
   ]
  },
  {
   "cell_type": "code",
   "execution_count": null,
   "metadata": {},
   "outputs": [],
   "source": [
    "#% html\n",
    "@cities.head(4) ==> to-html"
   ]
  },
  {
   "cell_type": "markdown",
   "metadata": {},
   "source": [
    "Here is the corresponding weighted graph:"
   ]
  },
  {
   "cell_type": "code",
   "execution_count": null,
   "metadata": {},
   "outputs": [],
   "source": [
    "my %coords = @cities.map({ $_<City> => ($_<Latitude>, $_<Longitude>) });\n",
    "my @dsEdges = (%coords.keys X %coords.keys ).map({ %(from => $_.head, to => $_.tail, weight => geo-distance(|%coords{$_.head}, |%coords{$_.tail} )) })"
   ]
  },
  {
   "cell_type": "code",
   "execution_count": null,
   "metadata": {},
   "outputs": [],
   "source": [
    "my $g = Graph.new(@dsEdges, :!directed)"
   ]
  },
  {
   "cell_type": "code",
   "execution_count": null,
   "metadata": {},
   "outputs": [],
   "source": [
    "my $stree = $g.find-spanning-tree(method => 'kruskal')"
   ]
  },
  {
   "cell_type": "code",
   "execution_count": null,
   "metadata": {},
   "outputs": [],
   "source": [
    "my $stree2 = $g.find-spanning-tree(method => 'prim')"
   ]
  },
  {
   "cell_type": "code",
   "execution_count": null,
   "metadata": {},
   "outputs": [],
   "source": [
    "#% js\n",
    "$stree2.edges\n",
    "==> js-d3-graph-plot(\n",
    "    width => 1200,\n",
    "    height => 1000,\n",
    "    :$background, :$title-color, :$edge-thickness, :$vertex-size,\n",
    "    force => {charge => {strength => -300, iterations => 2}, collision => {radius => 4, iterations => 1}, link => {distance => 0}}\n",
    "    )"
   ]
  }
 ],
 "metadata": {
  "kernelspec": {
   "display_name": "RakuChatbook",
   "language": "raku",
   "name": "raku"
  },
  "language_info": {
   "file_extension": ".raku",
   "mimetype": "text/x-raku",
   "name": "raku",
   "version": "6.d"
  }
 },
 "nbformat": 4,
 "nbformat_minor": 2
}
