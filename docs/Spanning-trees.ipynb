{
 "cells": [
  {
   "cell_type": "markdown",
   "metadata": {},
   "source": [
    "# Spanning trees\n",
    "\n",
    "Anton Antonov   \n",
    "July 2024"
   ]
  },
  {
   "cell_type": "markdown",
   "metadata": {},
   "source": [
    "----\n",
    "\n",
    "## Setup"
   ]
  },
  {
   "cell_type": "code",
   "execution_count": 1,
   "metadata": {},
   "outputs": [],
   "source": [
    "use Graph;\n",
    "\n",
    "use Graph::Circulant;\n",
    "use Graph::Complete;\n",
    "use Graph::CompleteKaryTree;\n",
    "use Graph::Cycle;\n",
    "use Graph::Grid;\n",
    "use Graph::Hypercube;\n",
    "use Graph::KnightTour;\n",
    "use Graph::Star;\n",
    "use Graph::Path;\n",
    "use Graph::Petersen;\n",
    "use Graph::Wheel;\n",
    "\n",
    "use Graph::Distribution;\n",
    "use Graph::Random;\n",
    "\n",
    "use Data::Reshapers;\n",
    "use Data::Summarizers;\n",
    "use Data::TypeSystem;\n",
    "use Data::Translators;\n",
    "use Data::Geographics;\n",
    "use Math::DistanceFunctions;\n",
    "use Math::Nearest;\n",
    "use Hash::Merge;\n",
    "\n",
    "use JavaScript::D3;\n",
    "use WWW::MermaidInk;"
   ]
  },
  {
   "cell_type": "code",
   "execution_count": 2,
   "metadata": {},
   "outputs": [
    {
     "data": {
      "application/javascript": "require.config({\n     paths: {\n     d3: 'https://d3js.org/d3.v7.min'\n}});\n\nrequire(['d3'], function(d3) {\n     console.log(d3);\n});"
     },
     "execution_count": 2,
     "metadata": {},
     "output_type": "execute_result"
    }
   ],
   "source": [
    "#% javascript\n",
    "require.config({\n",
    "     paths: {\n",
    "     d3: 'https://d3js.org/d3.v7.min'\n",
    "}});\n",
    "\n",
    "require(['d3'], function(d3) {\n",
    "     console.log(d3);\n",
    "});"
   ]
  },
  {
   "cell_type": "code",
   "execution_count": 3,
   "metadata": {},
   "outputs": [
    {
     "data": {
      "application/javascript": "(function(element) { require(['d3'], function(d3) {\n\n// set the dimensions and margins of the graph\nvar margin = {\"left\":40,\"bottom\":40,\"right\":40,\"top\":40},\n    width = 600 - margin.left - margin.right,\n    height = 400 - margin.top - margin.bottom;\n\n// append the svg object to the body of the page\nvar svg = d3\n   .select(element.get(0))\n  .append(\"svg\")\n    .attr(\"width\", width + margin.left + margin.right)\n    .attr(\"height\", height + margin.top + margin.bottom)\n    .style(\"background\", \"none\")\n  .append(\"g\")\n    .attr(\"transform\",\n          \"translate(\" + margin.left + \",\" + margin.top + \")\")\n\n// Obtain title\nvar title = \"\"\nvar titleFontSize = 16\n\nif ( title.length > 0 ) {\n    svg.append(\"text\")\n        .attr(\"x\", (width / 2))\n        .attr(\"y\", 0 - (margin.top / 2))\n        .attr(\"text-anchor\", \"middle\")\n        .style(\"font-size\", titleFontSize.toString() + \"px\")\n        .style(\"fill\", \"Black\")\n        .text(title);\n}\n\n// Obtain x-axis label\nvar xAxisLabel = \"\"\nvar xAxisLabelFontSize = 12\n\nif ( xAxisLabel.length > 0 ) {\n    svg.append(\"text\")\n        .attr(\"x\", (width / 2))\n        .attr(\"y\", height + margin.bottom - xAxisLabelFontSize/2)\n        .attr(\"text-anchor\", \"middle\")\n        .style(\"font-size\", xAxisLabelFontSize.toString() + \"px\")\n        .style(\"fill\", \"Black\")\n        .text(xAxisLabel);\n}\n\n// Obtain y-axis label\nvar yAxisLabel = \"\"\nvar yAxisLabelFontSize = 12\n\nif ( yAxisLabel.length > 0 ) {\n    svg.append(\"text\")\n        .attr(\"transform\", \"rotate(-90)\")\n        .attr(\"x\", - (height / 2))\n        .attr(\"y\", 0 - margin.left + yAxisLabelFontSize)\n        .attr(\"text-anchor\", \"middle\")\n        .style(\"font-size\", yAxisLabelFontSize.toString() + \"px\")\n        .style(\"fill\", \"Black\")\n        .text(yAxisLabel);\n}\n\n\n// Obtain data\nvar data = [{\"x\":1,\"y\":4.465552391730374e0},{\"x\":2,\"y\":0.33220946531271056e0},{\"y\":6.492659932145479e0,\"x\":3},{\"x\":4,\"y\":5.206178032099366e0},{\"y\":9.86398073315851e0,\"x\":5},{\"x\":6,\"y\":7.052720596984225e0},{\"x\":7,\"y\":5.317713465962758e0},{\"x\":8,\"y\":5.536093829140862e0},{\"y\":8.530193507955403e0,\"x\":9},{\"y\":7.68982775223499e0,\"x\":10},{\"x\":11,\"y\":2.966649490036841e0},{\"y\":1.4332389131283052e0,\"x\":12},{\"y\":5.610642489164691e0,\"x\":13},{\"x\":14,\"y\":7.64993843708935e0},{\"x\":15,\"y\":7.767122529163525e0},{\"x\":16,\"y\":6.841879809052949e0},{\"x\":17,\"y\":6.640484238777238e0},{\"x\":18,\"y\":9.073601731349735e0},{\"y\":7.791262062902499e0,\"x\":19},{\"y\":1.2285536565200506e0,\"x\":20},{\"y\":6.288655933787188e0,\"x\":21},{\"y\":8.294109908973196e0,\"x\":22},{\"x\":23,\"y\":7.88441368686017e0},{\"y\":1.327893324283046e0,\"x\":24},{\"x\":25,\"y\":4.313658266938639e0},{\"x\":26,\"y\":4.4443163199771005e0},{\"x\":27,\"y\":0.2727452177556078e0},{\"y\":3.2631596798081555e0,\"x\":28},{\"y\":4.428553745689419e0,\"x\":29},{\"x\":30,\"y\":9.240351812679323e0},{\"y\":9.53362043740362e0,\"x\":31},{\"x\":32,\"y\":3.411305178342964e0},{\"x\":33,\"y\":7.560482541269474e0},{\"y\":1.2453731287733782e0,\"x\":34},{\"x\":35,\"y\":8.873228616906083e0},{\"y\":5.957257156701244e0,\"x\":36},{\"x\":37,\"y\":7.253035417358722e0},{\"y\":1.6078754602521284e0,\"x\":38},{\"y\":1.2661467640401924e0,\"x\":39},{\"x\":40,\"y\":0.9851908785262542e0}]\n\nvar xMin = Math.min.apply(Math, data.map(function(o) { return o.x; }))\nvar xMax = Math.max.apply(Math, data.map(function(o) { return o.x; }))\n\nvar yMin = Math.min.apply(Math, data.map(function(o) { return o.y; }))\nvar yMax = Math.max.apply(Math, data.map(function(o) { return o.y; }))\n\n// X scale and Axis\nvar x = d3.scaleLinear()\n    .domain([xMin, xMax])\n    .range([0, width]);\n\n// Y scale and Axis\nvar y = d3.scaleLinear()\n    .domain([yMin, yMax])\n    .range([height, 0]);\n\nsvg\n  .append('g')\n  .attr(\"transform\", \"translate(0,\" + height + \")\")\n  .call(d3.axisBottom(x))\n\nsvg\n  .append('g')\n  .call(d3.axisLeft(y));\n\n// prepare a helper function\nvar lineFunc = d3.line()\n  .x(function(d) { return x(d.x) })\n  .y(function(d) { return y(d.y) })\n\n// Add the path using this helper function\nsvg.append('path')\n  .attr('d', lineFunc(data))\n  .attr(\"stroke-width\", 2)\n  .attr('stroke', \"steelblue\")\n  .attr('fill', 'none');\n\n}) })(element);\n"
     },
     "execution_count": 3,
     "metadata": {},
     "output_type": "execute_result"
    }
   ],
   "source": [
    "#% js\n",
    "js-d3-list-line-plot(10.rand xx 40, background => 'none', stroke-width => 2)"
   ]
  },
  {
   "cell_type": "code",
   "execution_count": 4,
   "metadata": {},
   "outputs": [
    {
     "data": {
      "text/plain": [
       "{background => 1F1F1F, edge-thickness => 3, title-color => Silver, vertex-size => 6}"
      ]
     },
     "execution_count": 4,
     "metadata": {},
     "output_type": "execute_result"
    }
   ],
   "source": [
    "my $title-color = 'Silver';\n",
    "my $stroke-color = 'SlateGray';\n",
    "my $tooltip-color = 'LightBlue';\n",
    "my $tooltip-background-color = 'none';\n",
    "my $background = '1F1F1F';\n",
    "my $color-scheme = 'schemeTableau10';\n",
    "my $edge-thickness = 3;\n",
    "my $vertex-size = 6;\n",
    "my $mmd-theme = q:to/END/;\n",
    "%%{\n",
    "  init: {\n",
    "    'theme': 'forest',\n",
    "    'themeVariables': {\n",
    "      'lineColor': 'Ivory'\n",
    "    }\n",
    "  }\n",
    "}%%\n",
    "END\n",
    "my %force = collision => {iterations => 0, radius => 10},link => {distance => 180};\n",
    "my %force2 = charge => {strength => -30, iterations => 4}, collision => {radius => 50, iterations => 4}, link => {distance => 30};\n",
    "\n",
    "my %opts = :$background, :$title-color, :$edge-thickness, :$vertex-size;"
   ]
  },
  {
   "cell_type": "markdown",
   "metadata": {},
   "source": [
    "-----\n",
    "\n",
    "## Small Geo-points set"
   ]
  },
  {
   "cell_type": "markdown",
   "metadata": {},
   "source": [
    "A company is planning a fiber network for a number of Chicago suburbs. It only has the right of way for its fiber along certain corridors. Some of those corridors might be more expensive. Find the subgraph of connection corridors that connect every suburb with the lowest total cost:"
   ]
  },
  {
   "cell_type": "code",
   "execution_count": 5,
   "metadata": {},
   "outputs": [
    {
     "data": {
      "text/plain": [
       "Vector(Struct([from, to, weight], [Str, Str, Int]), 15)"
      ]
     },
     "execution_count": 5,
     "metadata": {},
     "output_type": "execute_result"
    }
   ],
   "source": [
    "my @dsEdges =\n",
    "        %('from'=>'Maywood','to'=>'Downers','weight'=>14),\n",
    "        %('from'=>'Maywood','to'=>'Oakbrook','weight'=>28),\n",
    "        %('from'=>'Maywood','to'=>'Addison','weight'=>10),\n",
    "        %('from'=>'Downers','to'=>'Grove','weight'=>25),\n",
    "        %('from'=>'Downers','to'=>'Stickney','weight'=>23),\n",
    "        %('from'=>'Downers','to'=>'Wheaton','weight'=>20),\n",
    "        %('from'=>'Downers','to'=>'Oakbrook','weight'=>27),\n",
    "        %('from'=>'Oakbrook','to'=>'Stickney','weight'=>11),\n",
    "        %('from'=>'Oakbrook','to'=>'Addison','weight'=>17),\n",
    "        %('from'=>'Addison','to'=>'McCook','weight'=>21),\n",
    "        %('from'=>'Grove','to'=>'Wheaton','weight'=>10),\n",
    "        %('from'=>'Stickney','to'=>'Wheaton','weight'=>15),\n",
    "        %('from'=>'Stickney','to'=>'Bellwood','weight'=>20),\n",
    "        %('from'=>'Wheaton','to'=>'Bellwood','weight'=>10),\n",
    "        %('from'=>'Bellwood','to'=>'McCook','weight'=>28);\n",
    "\n",
    "deduce-type(@dsEdges)"
   ]
  },
  {
   "cell_type": "code",
   "execution_count": 6,
   "metadata": {},
   "outputs": [
    {
     "data": {
      "text/plain": [
       "Graph(vertexes => 9, edges => 15, directed => False)"
      ]
     },
     "execution_count": 6,
     "metadata": {},
     "output_type": "execute_result"
    }
   ],
   "source": [
    "my $g = Graph.new(@dsEdges)"
   ]
  },
  {
   "cell_type": "code",
   "execution_count": 7,
   "metadata": {},
   "outputs": [
    {
     "data": {
      "application/javascript": "(function(element) { require(['d3'], function(d3) {\n\n// set the dimensions and margins of the graph\nvar margin = {\"right\":40,\"top\":40,\"bottom\":40,\"left\":40},\n    width = 800 - margin.left - margin.right,\n    height = 494.437577 - margin.top - margin.bottom;\n\n// append the svg object to the body of the page\nvar svg = d3\n   .select(element.get(0))\n  .append(\"svg\")\n    .attr(\"width\", width + margin.left + margin.right)\n    .attr(\"height\", height + margin.top + margin.bottom)\n    .style(\"background\", \"1F1F1F\")\n  .append(\"g\")\n    .attr(\"transform\",\n          \"translate(\" + margin.left + \",\" + margin.top + \")\")\n\n// Obtain title\nvar title = \"\"\nvar titleFontSize = 16\n\nif ( title.length > 0 ) {\n    svg.append(\"text\")\n        .attr(\"x\", (width / 2))\n        .attr(\"y\", 0 - (margin.top / 2))\n        .attr(\"text-anchor\", \"middle\")\n        .style(\"font-size\", titleFontSize.toString() + \"px\")\n        .style(\"fill\", \"Silver\")\n        .text(title);\n}\n\nconst edges = [{\"weight\":10,\"label\":\"\",\"from\":\"Wheaton\",\"to\":\"Bellwood\"},{\"from\":\"Wheaton\",\"weight\":20,\"to\":\"Downers\",\"label\":\"\"},{\"label\":\"\",\"weight\":10,\"to\":\"Grove\",\"from\":\"Wheaton\"},{\"label\":\"\",\"weight\":15,\"from\":\"Wheaton\",\"to\":\"Stickney\"},{\"from\":\"Downers\",\"label\":\"\",\"weight\":14,\"to\":\"Maywood\"},{\"label\":\"\",\"to\":\"Stickney\",\"from\":\"Downers\",\"weight\":23},{\"to\":\"Oakbrook\",\"label\":\"\",\"from\":\"Downers\",\"weight\":27},{\"from\":\"Downers\",\"to\":\"Grove\",\"weight\":25,\"label\":\"\"},{\"from\":\"Maywood\",\"label\":\"\",\"to\":\"Addison\",\"weight\":10},{\"to\":\"Oakbrook\",\"weight\":28,\"from\":\"Maywood\",\"label\":\"\"},{\"label\":\"\",\"to\":\"Oakbrook\",\"from\":\"Addison\",\"weight\":17},{\"from\":\"Addison\",\"to\":\"McCook\",\"label\":\"\",\"weight\":21},{\"from\":\"Bellwood\",\"to\":\"Stickney\",\"label\":\"\",\"weight\":20},{\"from\":\"Bellwood\",\"label\":\"\",\"weight\":28,\"to\":\"McCook\"},{\"weight\":11,\"label\":\"\",\"from\":\"Oakbrook\",\"to\":\"Stickney\"}];\n\nconst nodes = Array.from(new Set(edges.flatMap(e => [e.from, e.to])), id => ({id}));\n\nconst highlightNodes = new Set([]);\n\nconst highlightLinkNodes = new Set([]);\n\nconst links = edges.map(e => ({\n  source: e.from,\n  target: e.to,\n  weight: e.weight,\n  label: e.label,\n  highlight: highlightLinkNodes.has(e.from + \"-\" + e.to)\n}));\n\n//.force(\"link\", d3.forceLink(links).id(d => d.id).distance(d => Math.max(d.weight * 20, 6 * 4)))\nconst simulation = d3.forceSimulation(nodes)\n    .force(\"link\", d3.forceLink(links).id(d => d.id).iterations(1))\n    .force(\"charge\", d3.forceManyBody().strength(-800).distanceMin(1).distanceMax(2000))\n    .force(\"x\", d3.forceX())\n    .force(\"y\", d3.forceY())\n    .force(\"collision\", d3.forceCollide().radius(50))\n    .force(\"center\", d3.forceCenter(width / 2, height / 2));\n\nsvg.append('defs').append('marker')\n    .attr(\"id\",'arrowhead')\n    .attr('viewBox','-0 -5 10 10') //the bound of the SVG viewport for the current SVG fragment. defines a coordinate system 10 wide and 10 high starting on (0,-5)\n     .attr('refX', 16) // x coordinate for the reference point of the marker. If circle is bigger, this need to be bigger.\n     .attr('refY',0)\n     .attr('orient','auto')\n        .attr('markerWidth', 5)\n        .attr('markerHeight', 5)\n        .attr('xoverflow','visible')\n    .append('svg:path')\n    .attr('d', 'M 0,-5 L 10 ,0 L 0,5')\n    .attr('fill', \"SteelBlue\")\n    .style('stroke','none');\n\nconst link = svg.append(\"g\")\n    .attr(\"class\", \"links\")\n  .selectAll(\"line\")\n  .data(links)\n  .enter().append(\"line\")\n    .attr(\"class\", \"link\")\n    .attr(\"stroke\", d => d.highlight ? \"Orange\" : \"SteelBlue\")\n    .attr(\"stroke-width\", 3)\n    \n\nconst node = svg.append(\"g\")\n    .attr(\"class\", \"nodes\")\n  .selectAll(\"circle\")\n  .data(nodes)\n  .enter().append(\"circle\")\n    .attr(\"class\", \"node\")\n    .attr(\"r\", 6)\n    .attr(\"stroke\", d => highlightNodes.has(d.id) ? \"Orange\" : \"SteelBlue\")\n    .attr(\"fill\", d => highlightNodes.has(d.id) ?  \"Orange\" : \"SteelBlue\")\n    .call(drag(simulation));\n\nnode.append(\"title\")\n    .text(d => d.id);\n\nconst nodeLabel = svg.append(\"g\")\n    .attr(\"class\", \"node-labels\")\n  .selectAll(\"text\")\n  .data(nodes)\n  .enter().append(\"text\")\n    .attr(\"class\", \"node-label\")\n    .style(\"font-size\", 13)\n    .attr(\"font-family\", \"Courier\")\n    .attr(\"dy\", -10)\n    .attr('fill', \"Silver\")\n    .attr('stroke', \"Silver\")\n    .text(d => d.id);\n\nconst linkLabel = svg.append(\"g\")\n    .attr(\"class\", \"link-labels\")\n  .selectAll(\"text\")\n  .data(links)\n  .enter().append(\"text\")\n    .filter(d => d.label !== \"\")\n    .attr(\"class\", \"link-label\")\n    .style(\"font-size\", 13)\n    .attr(\"font-family\", \"Courier\")\n    .attr('fill', \"Silver\")\n    .attr('stroke', \"Silver\")\n    .text(d => d.label);\n\nsimulation.on(\"tick\", () => {\n  link\n      .attr(\"x1\", d => d.source.x)\n      .attr(\"y1\", d => d.source.y)\n      .attr(\"x2\", d => d.target.x)\n      .attr(\"y2\", d => d.target.y);\n\n  node\n      .attr(\"cx\", d => d.x)\n      .attr(\"cy\", d => d.y);\n\n  nodeLabel\n      .attr(\"x\", d => d.x)\n      .attr(\"y\", d => d.y);\n\n  linkLabel\n      .attr(\"x\", d => (d.source.x + d.target.x) / 2)\n      .attr(\"y\", d => (d.source.y + d.target.y) / 2);\n});\n\nfunction drag(simulation) {\n  function dragstarted(event, d) {\n    if (!event.active) simulation.alphaTarget(0.3).restart();\n    d.fx = d.x;\n    d.fy = d.y;\n  }\n\n  function dragged(event, d) {\n    d.fx = event.x;\n    d.fy = event.y;\n  }\n\n  function dragended(event, d) {\n    if (!event.active) simulation.alphaTarget(0);\n    d.fx = null;\n    d.fy = null;\n  }\n\n  return d3.drag()\n      .on(\"start\", dragstarted)\n      .on(\"drag\", dragged)\n      .on(\"end\", dragended);\n}\n\n}) })(element);\n"
     },
     "execution_count": 7,
     "metadata": {},
     "output_type": "execute_result"
    }
   ],
   "source": [
    "#% js\n",
    "$g.edges(:dataset)\n",
    "==> js-d3-graph-plot(\n",
    "    width => 800,\n",
    "    :$background, :$title-color, :$edge-thickness, :$vertex-size,\n",
    "    force => {charge => { strength => -800}, collision => {radius => 50}}\n",
    "    )"
   ]
  },
  {
   "cell_type": "code",
   "execution_count": 8,
   "metadata": {},
   "outputs": [
    {
     "data": {
      "text/plain": [
       "Graph(vertexes => 9, edges => 8, directed => False)"
      ]
     },
     "execution_count": 8,
     "metadata": {},
     "output_type": "execute_result"
    }
   ],
   "source": [
    "my $stree = $g.find-spanning-tree;"
   ]
  },
  {
   "cell_type": "code",
   "execution_count": 9,
   "metadata": {},
   "outputs": [
    {
     "data": {
      "application/javascript": "(function(element) { require(['d3'], function(d3) {\n\n// set the dimensions and margins of the graph\nvar margin = {\"left\":40,\"top\":40,\"bottom\":40,\"right\":40},\n    width = 800 - margin.left - margin.right,\n    height = 494.437577 - margin.top - margin.bottom;\n\n// append the svg object to the body of the page\nvar svg = d3\n   .select(element.get(0))\n  .append(\"svg\")\n    .attr(\"width\", width + margin.left + margin.right)\n    .attr(\"height\", height + margin.top + margin.bottom)\n    .style(\"background\", \"1F1F1F\")\n  .append(\"g\")\n    .attr(\"transform\",\n          \"translate(\" + margin.left + \",\" + margin.top + \")\")\n\n// Obtain title\nvar title = \"\"\nvar titleFontSize = 16\n\nif ( title.length > 0 ) {\n    svg.append(\"text\")\n        .attr(\"x\", (width / 2))\n        .attr(\"y\", 0 - (margin.top / 2))\n        .attr(\"text-anchor\", \"middle\")\n        .style(\"font-size\", titleFontSize.toString() + \"px\")\n        .style(\"fill\", \"Silver\")\n        .text(title);\n}\n\nconst edges = [{\"to\":\"Bellwood\",\"weight\":1,\"label\":\"\",\"from\":\"Wheaton\"},{\"label\":\"\",\"weight\":1,\"from\":\"Wheaton\",\"to\":\"Downers\"},{\"from\":\"Wheaton\",\"weight\":1,\"to\":\"Grove\",\"label\":\"\"},{\"label\":\"\",\"to\":\"Stickney\",\"weight\":1,\"from\":\"Wheaton\"},{\"label\":\"\",\"from\":\"Downers\",\"to\":\"Maywood\",\"weight\":1},{\"label\":\"\",\"weight\":1,\"from\":\"Downers\",\"to\":\"Stickney\"},{\"from\":\"Downers\",\"label\":\"\",\"weight\":1,\"to\":\"Oakbrook\"},{\"weight\":1,\"to\":\"Grove\",\"from\":\"Downers\",\"label\":\"\"},{\"label\":\"\",\"weight\":1,\"to\":\"Addison\",\"from\":\"Maywood\"},{\"to\":\"Oakbrook\",\"from\":\"Maywood\",\"label\":\"\",\"weight\":1},{\"label\":\"\",\"from\":\"Addison\",\"weight\":1,\"to\":\"Oakbrook\"},{\"from\":\"Addison\",\"to\":\"McCook\",\"label\":\"\",\"weight\":1},{\"label\":\"\",\"weight\":1,\"to\":\"Stickney\",\"from\":\"Bellwood\"},{\"from\":\"Bellwood\",\"weight\":1,\"label\":\"\",\"to\":\"McCook\"},{\"weight\":1,\"to\":\"Stickney\",\"from\":\"Oakbrook\",\"label\":\"\"}];\n\nconst nodes = Array.from(new Set(edges.flatMap(e => [e.from, e.to])), id => ({id}));\n\nconst highlightNodes = new Set([]);\n\nconst highlightLinkNodes = new Set([\"Oakbrook-Addison\", \"Oakbrook-Stickney\", \"Wheaton-Stickney\", \"Wheaton-Grove\", \"Wheaton-Bellwood\", \"McCook-Addison\", \"Maywood-Addison\", \"Maywood-Downers\", \"Addison-Oakbrook\", \"Stickney-Oakbrook\", \"Stickney-Wheaton\", \"Grove-Wheaton\", \"Bellwood-Wheaton\", \"Addison-McCook\", \"Addison-Maywood\", \"Downers-Maywood\"]);\n\nconst links = edges.map(e => ({\n  source: e.from,\n  target: e.to,\n  weight: e.weight,\n  label: e.label,\n  highlight: highlightLinkNodes.has(e.from + \"-\" + e.to)\n}));\n\n//.force(\"link\", d3.forceLink(links).id(d => d.id).distance(d => Math.max(d.weight * 20, 6 * 4)))\nconst simulation = d3.forceSimulation(nodes)\n    .force(\"link\", d3.forceLink(links).id(d => d.id).iterations(1))\n    .force(\"charge\", d3.forceManyBody().strength(-800).distanceMin(1).distanceMax(2000))\n    .force(\"x\", d3.forceX())\n    .force(\"y\", d3.forceY())\n    .force(\"collision\", d3.forceCollide().radius(50))\n    .force(\"center\", d3.forceCenter(width / 2, height / 2));\n\nsvg.append('defs').append('marker')\n    .attr(\"id\",'arrowhead')\n    .attr('viewBox','-0 -5 10 10') //the bound of the SVG viewport for the current SVG fragment. defines a coordinate system 10 wide and 10 high starting on (0,-5)\n     .attr('refX', 16) // x coordinate for the reference point of the marker. If circle is bigger, this need to be bigger.\n     .attr('refY',0)\n     .attr('orient','auto')\n        .attr('markerWidth', 5)\n        .attr('markerHeight', 5)\n        .attr('xoverflow','visible')\n    .append('svg:path')\n    .attr('d', 'M 0,-5 L 10 ,0 L 0,5')\n    .attr('fill', \"SteelBlue\")\n    .style('stroke','none');\n\nconst link = svg.append(\"g\")\n    .attr(\"class\", \"links\")\n  .selectAll(\"line\")\n  .data(links)\n  .enter().append(\"line\")\n    .attr(\"class\", \"link\")\n    .attr(\"stroke\", d => d.highlight ? \"Orange\" : \"SteelBlue\")\n    .attr(\"stroke-width\", 3)\n    \n\nconst node = svg.append(\"g\")\n    .attr(\"class\", \"nodes\")\n  .selectAll(\"circle\")\n  .data(nodes)\n  .enter().append(\"circle\")\n    .attr(\"class\", \"node\")\n    .attr(\"r\", 6)\n    .attr(\"stroke\", d => highlightNodes.has(d.id) ? \"Orange\" : \"SteelBlue\")\n    .attr(\"fill\", d => highlightNodes.has(d.id) ?  \"Orange\" : \"SteelBlue\")\n    .call(drag(simulation));\n\nnode.append(\"title\")\n    .text(d => d.id);\n\nconst nodeLabel = svg.append(\"g\")\n    .attr(\"class\", \"node-labels\")\n  .selectAll(\"text\")\n  .data(nodes)\n  .enter().append(\"text\")\n    .attr(\"class\", \"node-label\")\n    .style(\"font-size\", 13)\n    .attr(\"font-family\", \"Courier\")\n    .attr(\"dy\", -10)\n    .attr('fill', \"Silver\")\n    .attr('stroke', \"Silver\")\n    .text(d => d.id);\n\nconst linkLabel = svg.append(\"g\")\n    .attr(\"class\", \"link-labels\")\n  .selectAll(\"text\")\n  .data(links)\n  .enter().append(\"text\")\n    .filter(d => d.label !== \"\")\n    .attr(\"class\", \"link-label\")\n    .style(\"font-size\", 13)\n    .attr(\"font-family\", \"Courier\")\n    .attr('fill', \"Silver\")\n    .attr('stroke', \"Silver\")\n    .text(d => d.label);\n\nsimulation.on(\"tick\", () => {\n  link\n      .attr(\"x1\", d => d.source.x)\n      .attr(\"y1\", d => d.source.y)\n      .attr(\"x2\", d => d.target.x)\n      .attr(\"y2\", d => d.target.y);\n\n  node\n      .attr(\"cx\", d => d.x)\n      .attr(\"cy\", d => d.y);\n\n  nodeLabel\n      .attr(\"x\", d => d.x)\n      .attr(\"y\", d => d.y);\n\n  linkLabel\n      .attr(\"x\", d => (d.source.x + d.target.x) / 2)\n      .attr(\"y\", d => (d.source.y + d.target.y) / 2);\n});\n\nfunction drag(simulation) {\n  function dragstarted(event, d) {\n    if (!event.active) simulation.alphaTarget(0.3).restart();\n    d.fx = d.x;\n    d.fy = d.y;\n  }\n\n  function dragged(event, d) {\n    d.fx = event.x;\n    d.fy = event.y;\n  }\n\n  function dragended(event, d) {\n    if (!event.active) simulation.alphaTarget(0);\n    d.fx = null;\n    d.fy = null;\n  }\n\n  return d3.drag()\n      .on(\"start\", dragstarted)\n      .on(\"drag\", dragged)\n      .on(\"end\", dragended);\n}\n\n}) })(element);\n"
     },
     "execution_count": 9,
     "metadata": {},
     "output_type": "execute_result"
    }
   ],
   "source": [
    "#% js\n",
    "$g.edges\n",
    "==> js-d3-graph-plot(\n",
    "    highlight => $stree.edges,\n",
    "    width => 800,\n",
    "    :$background, :$title-color, :$edge-thickness, :$vertex-size,\n",
    "    force => {charge => { strength => -800}, collision => {radius => 50}}\n",
    "    )"
   ]
  },
  {
   "cell_type": "markdown",
   "metadata": {},
   "source": [
    "-------\n",
    "\n",
    "## Grid graph"
   ]
  },
  {
   "cell_type": "code",
   "execution_count": 10,
   "metadata": {},
   "outputs": [
    {
     "data": {
      "text/plain": [
       "Graph(vertexes => 24, edges => 38, directed => False)"
      ]
     },
     "execution_count": 10,
     "metadata": {},
     "output_type": "execute_result"
    }
   ],
   "source": [
    "my $g = Graph::Grid.new(n => 4, m => 6)"
   ]
  },
  {
   "cell_type": "code",
   "execution_count": 11,
   "metadata": {},
   "outputs": [
    {
     "data": {
      "text/plain": [
       "Graph(vertexes => 24, edges => 23, directed => False)"
      ]
     },
     "execution_count": 11,
     "metadata": {},
     "output_type": "execute_result"
    }
   ],
   "source": [
    "my $stree = $g.find-spanning-tree"
   ]
  },
  {
   "cell_type": "code",
   "execution_count": 12,
   "metadata": {},
   "outputs": [
    {
     "data": {
      "application/javascript": "(function(element) { require(['d3'], function(d3) {\n\n// set the dimensions and margins of the graph\nvar margin = {\"left\":40,\"bottom\":40,\"top\":40,\"right\":40},\n    width = 500 - margin.left - margin.right,\n    height = 309.023486 - margin.top - margin.bottom;\n\n// append the svg object to the body of the page\nvar svg = d3\n   .select(element.get(0))\n  .append(\"svg\")\n    .attr(\"width\", width + margin.left + margin.right)\n    .attr(\"height\", height + margin.top + margin.bottom)\n    .style(\"background\", \"1F1F1F\")\n  .append(\"g\")\n    .attr(\"transform\",\n          \"translate(\" + margin.left + \",\" + margin.top + \")\")\n\n// Obtain title\nvar title = \"\"\nvar titleFontSize = 16\n\nif ( title.length > 0 ) {\n    svg.append(\"text\")\n        .attr(\"x\", (width / 2))\n        .attr(\"y\", 0 - (margin.top / 2))\n        .attr(\"text-anchor\", \"middle\")\n        .style(\"font-size\", titleFontSize.toString() + \"px\")\n        .style(\"fill\", \"Silver\")\n        .text(title);\n}\n\nconst edges = [{\"to\":\"2_0\",\"from\":\"3_0\",\"weight\":1,\"label\":\"\"},{\"to\":\"3_1\",\"weight\":1,\"label\":\"\",\"from\":\"3_0\"},{\"from\":\"3_0\",\"label\":\"\",\"weight\":1,\"to\":\"4_0\"},{\"to\":\"1_1\",\"label\":\"\",\"weight\":1,\"from\":\"1_0\"},{\"to\":\"2_0\",\"from\":\"1_0\",\"weight\":1,\"label\":\"\"},{\"label\":\"\",\"to\":\"0_0\",\"from\":\"1_0\",\"weight\":1},{\"to\":\"2_2\",\"from\":\"2_3\",\"weight\":1,\"label\":\"\"},{\"label\":\"\",\"weight\":1,\"to\":\"3_3\",\"from\":\"2_3\"},{\"from\":\"2_3\",\"label\":\"\",\"weight\":1,\"to\":\"1_3\"},{\"weight\":1,\"label\":\"\",\"to\":\"4_1\",\"from\":\"4_2\"},{\"to\":\"5_2\",\"weight\":1,\"from\":\"4_2\",\"label\":\"\"},{\"to\":\"3_2\",\"label\":\"\",\"from\":\"4_2\",\"weight\":1},{\"label\":\"\",\"from\":\"4_2\",\"to\":\"4_3\",\"weight\":1},{\"to\":\"5_0\",\"label\":\"\",\"weight\":1,\"from\":\"5_1\"},{\"to\":\"5_2\",\"from\":\"5_1\",\"weight\":1,\"label\":\"\"},{\"label\":\"\",\"to\":\"4_1\",\"weight\":1,\"from\":\"5_1\"},{\"weight\":1,\"label\":\"\",\"to\":\"1_2\",\"from\":\"1_1\"},{\"to\":\"2_1\",\"from\":\"1_1\",\"label\":\"\",\"weight\":1},{\"to\":\"0_1\",\"label\":\"\",\"from\":\"1_1\",\"weight\":1},{\"label\":\"\",\"from\":\"4_0\",\"to\":\"4_1\",\"weight\":1},{\"weight\":1,\"label\":\"\",\"from\":\"4_0\",\"to\":\"5_0\"},{\"from\":\"0_3\",\"label\":\"\",\"to\":\"0_2\",\"weight\":1},{\"to\":\"1_3\",\"weight\":1,\"from\":\"0_3\",\"label\":\"\"},{\"label\":\"\",\"to\":\"2_2\",\"weight\":1,\"from\":\"2_1\"},{\"to\":\"3_1\",\"from\":\"2_1\",\"weight\":1,\"label\":\"\"},{\"weight\":1,\"label\":\"\",\"to\":\"2_0\",\"from\":\"2_1\"},{\"from\":\"3_3\",\"label\":\"\",\"weight\":1,\"to\":\"4_3\"},{\"from\":\"3_3\",\"weight\":1,\"to\":\"3_2\",\"label\":\"\"},{\"weight\":1,\"to\":\"1_2\",\"label\":\"\",\"from\":\"2_2\"},{\"label\":\"\",\"to\":\"3_2\",\"weight\":1,\"from\":\"2_2\"},{\"to\":\"3_1\",\"weight\":1,\"from\":\"4_1\",\"label\":\"\"},{\"label\":\"\",\"weight\":1,\"from\":\"0_2\",\"to\":\"1_2\"},{\"from\":\"0_2\",\"to\":\"0_1\",\"weight\":1,\"label\":\"\"},{\"to\":\"3_1\",\"label\":\"\",\"from\":\"3_2\",\"weight\":1},{\"to\":\"1_2\",\"weight\":1,\"label\":\"\",\"from\":\"1_3\"},{\"from\":\"4_3\",\"to\":\"5_3\",\"label\":\"\",\"weight\":1},{\"label\":\"\",\"to\":\"0_0\",\"from\":\"0_1\",\"weight\":1},{\"from\":\"5_2\",\"weight\":1,\"to\":\"5_3\",\"label\":\"\"}];\n\nconst nodes = Array.from(new Set(edges.flatMap(e => [e.from, e.to])), id => ({id}));\n\nconst highlightNodes = new Set([\"0_0\", \"0_1\", \"0_2\", \"0_3\", \"1_0\", \"1_1\", \"1_2\", \"1_3\", \"2_0\", \"2_1\", \"2_2\", \"2_3\", \"3_0\", \"3_1\", \"3_2\", \"3_3\", \"4_0\", \"4_1\", \"4_2\", \"4_3\", \"5_0\", \"5_1\", \"5_2\", \"5_3\"]);\n\nconst highlightLinkNodes = new Set([\"4_3-4_2\", \"4_3-5_3\", \"0_1-1_1\", \"3_0-3_1\", \"3_0-4_0\", \"3_0-2_0\", \"3_3-2_3\", \"4_0-4_1\", \"5_0-5_1\", \"0_2-0_3\", \"1_1-1_2\", \"1_1-2_1\", \"1_1-1_0\", \"2_1-2_2\", \"2_3-2_2\", \"2_3-1_3\", \"1_0-2_0\", \"1_0-0_0\", \"4_2-5_2\", \"4_2-3_2\", \"4_2-4_1\", \"1_3-0_3\", \"5_2-5_1\", \"4_2-4_3\", \"5_3-4_3\", \"1_1-0_1\", \"3_1-3_0\", \"4_0-3_0\", \"2_0-3_0\", \"2_3-3_3\", \"4_1-4_0\", \"5_1-5_0\", \"0_3-0_2\", \"1_2-1_1\", \"2_1-1_1\", \"1_0-1_1\", \"2_2-2_1\", \"2_2-2_3\", \"1_3-2_3\", \"2_0-1_0\", \"0_0-1_0\", \"5_2-4_2\", \"3_2-4_2\", \"4_1-4_2\", \"0_3-1_3\", \"5_1-5_2\"]);\n\nconst links = edges.map(e => ({\n  source: e.from,\n  target: e.to,\n  weight: e.weight,\n  label: e.label,\n  highlight: highlightLinkNodes.has(e.from + \"-\" + e.to)\n}));\n\n//.force(\"link\", d3.forceLink(links).id(d => d.id).distance(d => Math.max(d.weight * 20, 6 * 4)))\nconst simulation = d3.forceSimulation(nodes)\n    .force(\"link\", d3.forceLink(links).id(d => d.id).distance(0).iterations(1))\n    .force(\"charge\", d3.forceManyBody().strength(-160).distanceMin(1).distanceMax(2000))\n    .force(\"x\", d3.forceX())\n    .force(\"y\", d3.forceY())\n    .force(\"collision\", d3.forceCollide().radius(4))\n    .force(\"center\", d3.forceCenter(width / 2, height / 2));\n\nsvg.append('defs').append('marker')\n    .attr(\"id\",'arrowhead')\n    .attr('viewBox','-0 -5 10 10') //the bound of the SVG viewport for the current SVG fragment. defines a coordinate system 10 wide and 10 high starting on (0,-5)\n     .attr('refX', 16) // x coordinate for the reference point of the marker. If circle is bigger, this need to be bigger.\n     .attr('refY',0)\n     .attr('orient','auto')\n        .attr('markerWidth', 5)\n        .attr('markerHeight', 5)\n        .attr('xoverflow','visible')\n    .append('svg:path')\n    .attr('d', 'M 0,-5 L 10 ,0 L 0,5')\n    .attr('fill', \"SteelBlue\")\n    .style('stroke','none');\n\nconst link = svg.append(\"g\")\n    .attr(\"class\", \"links\")\n  .selectAll(\"line\")\n  .data(links)\n  .enter().append(\"line\")\n    .attr(\"class\", \"link\")\n    .attr(\"stroke\", d => d.highlight ? \"Orange\" : \"SteelBlue\")\n    .attr(\"stroke-width\", 3)\n    \n\nconst node = svg.append(\"g\")\n    .attr(\"class\", \"nodes\")\n  .selectAll(\"circle\")\n  .data(nodes)\n  .enter().append(\"circle\")\n    .attr(\"class\", \"node\")\n    .attr(\"r\", 6)\n    .attr(\"stroke\", d => highlightNodes.has(d.id) ? \"Orange\" : \"SteelBlue\")\n    .attr(\"fill\", d => highlightNodes.has(d.id) ?  \"Orange\" : \"SteelBlue\")\n    .call(drag(simulation));\n\nnode.append(\"title\")\n    .text(d => d.id);\n\nconst nodeLabel = svg.append(\"g\")\n    .attr(\"class\", \"node-labels\")\n  .selectAll(\"text\")\n  .data(nodes)\n  .enter().append(\"text\")\n    .attr(\"class\", \"node-label\")\n    .style(\"font-size\", 13)\n    .attr(\"font-family\", \"Courier\")\n    .attr(\"dy\", -10)\n    .attr('fill', \"Silver\")\n    .attr('stroke', \"Silver\")\n    .text(d => d.id);\n\nconst linkLabel = svg.append(\"g\")\n    .attr(\"class\", \"link-labels\")\n  .selectAll(\"text\")\n  .data(links)\n  .enter().append(\"text\")\n    .filter(d => d.label !== \"\")\n    .attr(\"class\", \"link-label\")\n    .style(\"font-size\", 13)\n    .attr(\"font-family\", \"Courier\")\n    .attr('fill', \"Silver\")\n    .attr('stroke', \"Silver\")\n    .text(d => d.label);\n\nsimulation.on(\"tick\", () => {\n  link\n      .attr(\"x1\", d => d.source.x)\n      .attr(\"y1\", d => d.source.y)\n      .attr(\"x2\", d => d.target.x)\n      .attr(\"y2\", d => d.target.y);\n\n  node\n      .attr(\"cx\", d => d.x)\n      .attr(\"cy\", d => d.y);\n\n  nodeLabel\n      .attr(\"x\", d => d.x)\n      .attr(\"y\", d => d.y);\n\n  linkLabel\n      .attr(\"x\", d => (d.source.x + d.target.x) / 2)\n      .attr(\"y\", d => (d.source.y + d.target.y) / 2);\n});\n\nfunction drag(simulation) {\n  function dragstarted(event, d) {\n    if (!event.active) simulation.alphaTarget(0.3).restart();\n    d.fx = d.x;\n    d.fy = d.y;\n  }\n\n  function dragged(event, d) {\n    d.fx = event.x;\n    d.fy = event.y;\n  }\n\n  function dragended(event, d) {\n    if (!event.active) simulation.alphaTarget(0);\n    d.fx = null;\n    d.fy = null;\n  }\n\n  return d3.drag()\n      .on(\"start\", dragstarted)\n      .on(\"drag\", dragged)\n      .on(\"end\", dragended);\n}\n\n}) })(element);\n"
     },
     "execution_count": 12,
     "metadata": {},
     "output_type": "execute_result"
    }
   ],
   "source": [
    "#% js\n",
    "$g.edges\n",
    "==> js-d3-graph-plot(\n",
    "    highlight => [|$stree.vertex-list, |$stree.edges],\n",
    "    width => 500,\n",
    "    :$background, :$title-color, :$edge-thickness, :$vertex-size,\n",
    "    force => {charge => {strength => -160, iterations => 2}, collision => {radius => 4, iterations => 1}, link => {distance => 0}}\n",
    "    )"
   ]
  },
  {
   "cell_type": "markdown",
   "metadata": {},
   "source": [
    "-----\n",
    "\n",
    "## Florida cities"
   ]
  },
  {
   "cell_type": "markdown",
   "metadata": {},
   "source": [
    "Build an interstate highway system joining the cities of the state of Florida, USA."
   ]
  },
  {
   "cell_type": "markdown",
   "metadata": {},
   "source": [
    "Here is a dataset of large enough cities:"
   ]
  },
  {
   "cell_type": "code",
   "execution_count": 13,
   "metadata": {},
   "outputs": [
    {
     "data": {
      "text/plain": [
       "78"
      ]
     },
     "execution_count": 13,
     "metadata": {},
     "output_type": "execute_result"
    }
   ],
   "source": [
    "my @cities = city-data().grep({ $_<State> eq 'Florida' && $_<Population> ≥ 50_000 });\n",
    "@cities.elems"
   ]
  },
  {
   "cell_type": "code",
   "execution_count": 14,
   "metadata": {},
   "outputs": [
    {
     "data": {
      "text/html": [
       "<table border=\"1\"><thead><tr><th>Elevation</th><th>Longitude</th><th>ID</th><th>City</th><th>LocationLink</th><th>Latitude</th><th>State</th><th>Country</th><th>Population</th></tr></thead><tbody><tr><td>5</td><td>-81.6613021</td><td>United_States.Florida.Jacksonville</td><td>Jacksonville</td><td>http://maps.google.com/maps?q=30.3370193,-81.6613021&amp;z=12&amp;t=h</td><td>30.3370193</td><td>Florida</td><td>United States</td><td>949611</td></tr><tr><td>2</td><td>-80.2086152</td><td>United_States.Florida.Miami</td><td>Miami</td><td>http://maps.google.com/maps?q=25.775163,-80.2086152&amp;z=12&amp;t=h</td><td>25.775163</td><td>Florida</td><td>United States</td><td>442241</td></tr><tr><td>1</td><td>-82.4796734</td><td>United_States.Florida.Tampa</td><td>Tampa</td><td>http://maps.google.com/maps?q=27.9700861,-82.4796734&amp;z=12&amp;t=h</td><td>27.9700861</td><td>Florida</td><td>United States</td><td>384959</td></tr><tr><td>30</td><td>-81.375789</td><td>United_States.Florida.Orlando</td><td>Orlando</td><td>http://maps.google.com/maps?q=28.533513,-81.375789&amp;z=12&amp;t=h</td><td>28.533513</td><td>Florida</td><td>United States</td><td>307573</td></tr></tbody></table>"
      ]
     },
     "execution_count": 14,
     "metadata": {},
     "output_type": "execute_result"
    }
   ],
   "source": [
    "#% html\n",
    "@cities.head(4) ==> to-html"
   ]
  },
  {
   "cell_type": "markdown",
   "metadata": {},
   "source": [
    "Here is the corresponding weighted graph:"
   ]
  },
  {
   "cell_type": "code",
   "execution_count": 15,
   "metadata": {},
   "outputs": [
    {
     "data": {
      "text/plain": [
       "[{from => Saint Petersburg, to => Saint Petersburg, weight => 0} {from => Saint Petersburg, to => Hialeah, weight => 313767.95377975825} {from => Saint Petersburg, to => Cape Coral, weight => 140044.59209728107} {from => Saint Petersburg, to => Sunrise, weight => 295578.27396797645} {from => Saint Petersburg, to => Pompano Beach, weight => 301372.28016257304} {from => Saint Petersburg, to => Fountainbleau, weight => 317742.15864710894} {from => Saint Petersburg, to => Palm Beach Gardens, weight => 265251.1719458123} {from => Saint Petersburg, to => Miami, weight => 327866.53706754773} {from => Saint Petersburg, to => Pembroke Pines, weight => 299750.4274562403} {from => Saint Petersburg, to => Homestead, weight => 336305.35833421163} {from => Saint Petersburg, to => Lakeland, weight => 75387.33615757653} {from => Saint Petersburg, to => Deltona, weight => 189497.72008852873} {from => Saint Petersburg, to => Miramar, weight => 307222.44374830154} {from => Saint Petersburg, to => West Palm Beach, weight => 280894.7835243919} {from => Saint Petersburg, to => Wesley Chapel, weight => 58304.32396848607} {from => Saint Petersburg, to => Miami Beach, weight => 329971.6417525757} {from => Saint Petersburg, to => Tamiami, weight => 315402.2082359251} {from => Saint Petersburg, to => Port Orange, weight => 219354.50540680482} {from => Saint Petersburg, to => Daytona Beach, weight => 220694.24304308256} {from => Saint Petersburg, to => Weston, weight => 289324.7015713301} {from => Saint Petersburg, to => Sanford, weight => 176291.1228054899} {from => Saint Petersburg, to => Palm Bay, weight => 196562.08404706002} {from => Saint Petersburg, to => Bradenton, weight => 30935.785293315665} {from => Saint Petersburg, to => Pinellas Park, weight => 12501.191296662013} {from => Saint Petersburg, to => Tallahassee, weight => 338187.141905029} {from => Saint Petersburg, to => Tampa, weight => 28255.87161810052} {from => Saint Petersburg, to => Town 'n' Country, weight => 28408.16877743915} {from => Saint Petersburg, to => Largo, weight => 20389.96105195533} {from => Saint Petersburg, to => Lehigh Acres, weight => 162095.16558103455} {from => Saint Petersburg, to => Jupiter, weight => 267456.6505185671} {from => Saint Petersburg, to => The Hammocks, weight => 319140.63633939845} {from => Saint Petersburg, to => Alafaya, weight => 166636.34921020825} {from => Saint Petersburg, to => Port Saint Lucie, weight => 229472.30889735694} {from => Saint Petersburg, to => Ocala, weight => 165159.07412440222} {from => Saint Petersburg, to => Deerfield Beach, weight => 297358.2138259076} {from => Saint Petersburg, to => Saint Cloud, weight => 143387.09171701802} {from => Saint Petersburg, to => Horizon West, weight => 126262.26474545733} {from => Saint Petersburg, to => Hollywood, weight => 312583.57194185606} {from => Saint Petersburg, to => Apopka, weight => 151353.38040507789} {from => Saint Petersburg, to => Orlando, weight => 151237.29447831897} {from => Saint Petersburg, to => Bonita Springs, weight => 177941.70028875236} {from => Saint Petersburg, to => Doral, weight => 313947.28800038935} {from => Saint Petersburg, to => Palm Harbor, weight => 37624.46084121271} {from => Saint Petersburg, to => Poinciana, weight => 121240.82017297663} {from => Saint Petersburg, to => Carol City, weight => 310851.01739507273} {from => Saint Petersburg, to => Gainesville, weight => 215359.5428863504} {from => Saint Petersburg, to => Tamarac, weight => 293645.1389838334} {from => Saint Petersburg, to => Wellington, weight => 265404.9917158747} {from => Saint Petersburg, to => Port Charlotte, weight => 100718.56722695671} {from => Saint Petersburg, to => Pine Hills, weight => 147012.79024001176} {from => Saint Petersburg, to => Kendall, weight => 325675.4512562334} {from => Saint Petersburg, to => Miami Gardens, weight => 312346.23873292666} {from => Saint Petersburg, to => Fort Myers, weight => 150513.53123448967} {from => Saint Petersburg, to => Kendale Lakes, weight => 318836.1105727673} {from => Saint Petersburg, to => Jacksonville, weight => 302180.7826948391} {from => Saint Petersburg, to => Sarasota, weight => 48155.43137649758} {from => Saint Petersburg, to => Brandon, weight => 39076.53404244671} {from => Saint Petersburg, to => Riverview, weight => 34161.36029759519} {from => Saint Petersburg, to => Margate, weight => 294312.4605649218} {from => Saint Petersburg, to => Clearwater, weight => 27034.203947636357} {from => Saint Petersburg, to => Plantation, weight => 298430.06028301775} {from => Saint Petersburg, to => Fort Lauderdale, weight => 306736.32311341853} {from => Saint Petersburg, to => North Miami, weight => 321520.1275068992} {from => Saint Petersburg, to => Delray Beach, weight => 291765.24991787516} {from => Saint Petersburg, to => North Port, weight => 89894.44014709658} {from => Saint Petersburg, to => Palm Coast, weight => 240240.01391015225} {from => Saint Petersburg, to => Coconut Creek, weight => 294490.3887384585} {from => Saint Petersburg, to => Spring Hill, weight => 80627.95151215508} {from => Saint Petersburg, to => Pensacola, weight => 533265.2501149642} {from => Saint Petersburg, to => Westchester, weight => 320788.9514189295} {from => Saint Petersburg, to => Lauderhill, weight => 299036.459546737} {from => Saint Petersburg, to => Coral Springs, weight => 288931.5214320847} {from => Saint Petersburg, to => Melbourne, weight => 200443.406594972} {from => Saint Petersburg, to => Boca Raton, weight => 295275.1338540934} {from => Saint Petersburg, to => Davie, weight => 299850.47317069373} {from => Saint Petersburg, to => Boynton Beach, weight => 288663.79706012964} {from => Saint Petersburg, to => Kissimmee, weight => 134691.96007034942} {from => Saint Petersburg, to => The Villages, weight => 141650.3181878048} {from => Hialeah, to => Saint Petersburg, weight => 313767.95377975825} {from => Hialeah, to => Hialeah, weight => 0} {from => Hialeah, to => Cape Coral, weight => 189799.02251137208} {from => Hialeah, to => Sunrise, weight => 33690.954767962845} {from => Hialeah, to => Pompano Beach, weight => 44983.2197420201} {from => Hialeah, to => Fountainbleau, weight => 11623.715628382333} {from => Hialeah, to => Palm Beach Gardens, weight => 109802.75034861035} {from => Hialeah, to => Miami, weight => 14160.106366110656} {from => Hialeah, to => Pembroke Pines, weight => 17256.349816544753} {from => Hialeah, to => Homestead, weight => 47054.501518180026} {from => Hialeah, to => Lakeland, weight => 293325.2250668807} {from => Hialeah, to => Deltona, weight => 349589.4872504564} {from => Hialeah, to => Miramar, weight => 12289.98291742847} {from => Hialeah, to => West Palm Beach, weight => 96495.81050710312} {from => Hialeah, to => Wesley Chapel, weight => 328320.2291985953} {from => Hialeah, to => Miami Beach, weight => 17441.393503109197} {from => Hialeah, to => Tamiami, weight => 16117.85741203565} {from => Hialeah, to => Port Orange, weight => 367817.964702301} {from => Hialeah, to => Daytona Beach, weight => 378423.3467646775} {from => Hialeah, to => Weston, weight => 27514.513853620116} {from => Hialeah, to => Sanford, weight => 338929.16204130027} {from => Hialeah, to => Palm Bay, weight => 238207.55221097323} ...]"
      ]
     },
     "execution_count": 15,
     "metadata": {},
     "output_type": "execute_result"
    }
   ],
   "source": [
    "my %coords = @cities.map({ $_<City> => ($_<Latitude>, $_<Longitude>) });\n",
    "my @dsEdges = (%coords.keys X %coords.keys ).map({ %(from => $_.head, to => $_.tail, weight => geo-distance(|%coords{$_.head}, |%coords{$_.tail} )) })"
   ]
  },
  {
   "cell_type": "code",
   "execution_count": 16,
   "metadata": {},
   "outputs": [
    {
     "data": {
      "text/plain": [
       "Graph(vertexes => 78, edges => 3042, directed => False)"
      ]
     },
     "execution_count": 16,
     "metadata": {},
     "output_type": "execute_result"
    }
   ],
   "source": [
    "my $g = Graph.new(@dsEdges, :!directed)"
   ]
  },
  {
   "cell_type": "code",
   "execution_count": 17,
   "metadata": {},
   "outputs": [
    {
     "data": {
      "text/plain": [
       "Graph(vertexes => 78, edges => 77, directed => False)"
      ]
     },
     "execution_count": 17,
     "metadata": {},
     "output_type": "execute_result"
    }
   ],
   "source": [
    "my $stree = $g.find-spanning-tree(method => 'kruskal')"
   ]
  },
  {
   "cell_type": "code",
   "execution_count": 18,
   "metadata": {},
   "outputs": [
    {
     "data": {
      "text/plain": [
       "()"
      ]
     },
     "execution_count": 18,
     "metadata": {},
     "output_type": "execute_result"
    }
   ],
   "source": [
    "#my $stree2 = $g.find-spanning-tree(method => 'prim')"
   ]
  },
  {
   "cell_type": "code",
   "execution_count": 32,
   "metadata": {},
   "outputs": [
    {
     "data": {
      "application/javascript": "(function(element) { require(['d3'], function(d3) {\n\n// set the dimensions and margins of the graph\nvar margin = {\"top\":40,\"bottom\":40,\"left\":40,\"right\":40},\n    width = 1200 - margin.left - margin.right,\n    height = 1000 - margin.top - margin.bottom;\n\n// append the svg object to the body of the page\nvar svg = d3\n   .select(element.get(0))\n  .append(\"svg\")\n    .attr(\"width\", width + margin.left + margin.right)\n    .attr(\"height\", height + margin.top + margin.bottom)\n    .style(\"background\", \"1F1F1F\")\n  .append(\"g\")\n    .attr(\"transform\",\n          \"translate(\" + margin.left + \",\" + margin.top + \")\")\n\n// Obtain title\nvar title = \"\"\nvar titleFontSize = 16\n\nif ( title.length > 0 ) {\n    svg.append(\"text\")\n        .attr(\"x\", (width / 2))\n        .attr(\"y\", 0 - (margin.top / 2))\n        .attr(\"text-anchor\", \"middle\")\n        .style(\"font-size\", titleFontSize.toString() + \"px\")\n        .style(\"fill\", \"Silver\")\n        .text(title);\n}\n\nconst edges = [{\"weight\":1,\"from\":\"Tampa\",\"to\":\"Brandon\",\"label\":\"\"},{\"to\":\"Town 'n' Country\",\"from\":\"Tampa\",\"weight\":1,\"label\":\"\"},{\"weight\":1,\"to\":\"Wesley Chapel\",\"from\":\"Brandon\",\"label\":\"\"},{\"from\":\"Brandon\",\"weight\":1,\"to\":\"Riverview\",\"label\":\"\"},{\"from\":\"Brandon\",\"label\":\"\",\"to\":\"Lakeland\",\"weight\":1},{\"to\":\"Port Saint Lucie\",\"from\":\"Palm Bay\",\"label\":\"\",\"weight\":1},{\"label\":\"\",\"weight\":1,\"to\":\"Melbourne\",\"from\":\"Palm Bay\"},{\"weight\":1,\"label\":\"\",\"from\":\"Orlando\",\"to\":\"Pine Hills\"},{\"to\":\"Alafaya\",\"label\":\"\",\"from\":\"Orlando\",\"weight\":1},{\"label\":\"\",\"from\":\"Port Charlotte\",\"weight\":1,\"to\":\"North Port\"},{\"weight\":1,\"label\":\"\",\"from\":\"Port Charlotte\",\"to\":\"Cape Coral\"},{\"label\":\"\",\"weight\":1,\"from\":\"Palm Harbor\",\"to\":\"Clearwater\"},{\"label\":\"\",\"weight\":1,\"from\":\"Apopka\",\"to\":\"Pine Hills\"},{\"label\":\"\",\"weight\":1,\"from\":\"Apopka\",\"to\":\"The Villages\"},{\"from\":\"Apopka\",\"to\":\"Sanford\",\"label\":\"\",\"weight\":1},{\"label\":\"\",\"weight\":1,\"from\":\"Lakeland\",\"to\":\"Poinciana\"},{\"to\":\"Palm Beach Gardens\",\"from\":\"Jupiter\",\"weight\":1,\"label\":\"\"},{\"weight\":1,\"label\":\"\",\"to\":\"Port Saint Lucie\",\"from\":\"Jupiter\"},{\"label\":\"\",\"weight\":1,\"to\":\"The Hammocks\",\"from\":\"Homestead\"},{\"to\":\"Plantation\",\"from\":\"Sunrise\",\"label\":\"\",\"weight\":1},{\"label\":\"\",\"to\":\"Tamarac\",\"weight\":1,\"from\":\"Sunrise\"},{\"label\":\"\",\"from\":\"Sunrise\",\"weight\":1,\"to\":\"Lauderhill\"},{\"from\":\"Fort Lauderdale\",\"to\":\"Lauderhill\",\"label\":\"\",\"weight\":1},{\"weight\":1,\"label\":\"\",\"from\":\"Margate\",\"to\":\"Tamarac\"},{\"weight\":1,\"label\":\"\",\"from\":\"Margate\",\"to\":\"Coconut Creek\"},{\"to\":\"Coral Springs\",\"weight\":1,\"label\":\"\",\"from\":\"Margate\"},{\"from\":\"Hialeah\",\"to\":\"Carol City\",\"label\":\"\",\"weight\":1},{\"label\":\"\",\"from\":\"Hialeah\",\"to\":\"Doral\",\"weight\":1},{\"weight\":1,\"from\":\"Pensacola\",\"label\":\"\",\"to\":\"Tallahassee\"},{\"label\":\"\",\"to\":\"Ocala\",\"from\":\"Gainesville\",\"weight\":1},{\"to\":\"Tallahassee\",\"from\":\"Gainesville\",\"label\":\"\",\"weight\":1},{\"to\":\"Port Orange\",\"label\":\"\",\"weight\":1,\"from\":\"Daytona Beach\"},{\"to\":\"Palm Coast\",\"label\":\"\",\"from\":\"Daytona Beach\",\"weight\":1},{\"label\":\"\",\"from\":\"The Hammocks\",\"weight\":1,\"to\":\"Kendale Lakes\"},{\"to\":\"Saint Cloud\",\"label\":\"\",\"from\":\"Melbourne\",\"weight\":1},{\"from\":\"The Villages\",\"to\":\"Ocala\",\"weight\":1,\"label\":\"\"},{\"from\":\"Doral\",\"to\":\"Fountainbleau\",\"weight\":1,\"label\":\"\"},{\"label\":\"\",\"to\":\"Miami Beach\",\"weight\":1,\"from\":\"North Miami\"},{\"to\":\"Miami Gardens\",\"from\":\"North Miami\",\"weight\":1,\"label\":\"\"},{\"to\":\"Saint Petersburg\",\"weight\":1,\"label\":\"\",\"from\":\"Pinellas Park\"},{\"to\":\"Largo\",\"label\":\"\",\"weight\":1,\"from\":\"Pinellas Park\"},{\"to\":\"Palm Coast\",\"from\":\"Jacksonville\",\"weight\":1,\"label\":\"\"},{\"from\":\"Poinciana\",\"label\":\"\",\"to\":\"Kissimmee\",\"weight\":1},{\"to\":\"North Port\",\"from\":\"Sarasota\",\"label\":\"\",\"weight\":1},{\"label\":\"\",\"from\":\"Sarasota\",\"weight\":1,\"to\":\"Bradenton\"},{\"to\":\"Saint Petersburg\",\"weight\":1,\"label\":\"\",\"from\":\"Bradenton\"},{\"from\":\"Spring Hill\",\"label\":\"\",\"weight\":1,\"to\":\"Wesley Chapel\"},{\"weight\":1,\"to\":\"Deltona\",\"label\":\"\",\"from\":\"Port Orange\"},{\"label\":\"\",\"from\":\"West Palm Beach\",\"weight\":1,\"to\":\"Palm Beach Gardens\"},{\"weight\":1,\"to\":\"Boynton Beach\",\"label\":\"\",\"from\":\"West Palm Beach\"},{\"label\":\"\",\"weight\":1,\"from\":\"West Palm Beach\",\"to\":\"Wellington\"},{\"label\":\"\",\"weight\":1,\"from\":\"Miami Beach\",\"to\":\"Miami\"},{\"from\":\"Boynton Beach\",\"weight\":1,\"to\":\"Delray Beach\",\"label\":\"\"},{\"from\":\"Saint Cloud\",\"to\":\"Kissimmee\",\"label\":\"\",\"weight\":1},{\"from\":\"Deerfield Beach\",\"label\":\"\",\"weight\":1,\"to\":\"Coconut Creek\"},{\"weight\":1,\"label\":\"\",\"to\":\"Boca Raton\",\"from\":\"Deerfield Beach\"},{\"weight\":1,\"from\":\"Miami Gardens\",\"label\":\"\",\"to\":\"Hollywood\"},{\"weight\":1,\"from\":\"Miami Gardens\",\"to\":\"Carol City\",\"label\":\"\"},{\"to\":\"Horizon West\",\"from\":\"Kissimmee\",\"label\":\"\",\"weight\":1},{\"weight\":1,\"label\":\"\",\"from\":\"Pine Hills\",\"to\":\"Horizon West\"},{\"to\":\"Deltona\",\"label\":\"\",\"from\":\"Sanford\",\"weight\":1},{\"label\":\"\",\"weight\":1,\"to\":\"Miramar\",\"from\":\"Carol City\"},{\"label\":\"\",\"from\":\"Largo\",\"weight\":1,\"to\":\"Clearwater\"},{\"label\":\"\",\"to\":\"Tamiami\",\"weight\":1,\"from\":\"Kendale Lakes\"},{\"from\":\"Kendale Lakes\",\"label\":\"\",\"weight\":1,\"to\":\"Kendall\"},{\"weight\":1,\"from\":\"Davie\",\"to\":\"Plantation\",\"label\":\"\"},{\"from\":\"Davie\",\"weight\":1,\"to\":\"Pembroke Pines\",\"label\":\"\"},{\"weight\":1,\"label\":\"\",\"to\":\"Pembroke Pines\",\"from\":\"Miramar\"},{\"weight\":1,\"from\":\"Coconut Creek\",\"to\":\"Pompano Beach\",\"label\":\"\"},{\"weight\":1,\"to\":\"Pembroke Pines\",\"from\":\"Weston\",\"label\":\"\"},{\"from\":\"Bonita Springs\",\"label\":\"\",\"to\":\"Fort Myers\",\"weight\":1},{\"weight\":1,\"to\":\"Clearwater\",\"from\":\"Town 'n' Country\",\"label\":\"\"},{\"to\":\"Fountainbleau\",\"label\":\"\",\"weight\":1,\"from\":\"Westchester\"},{\"label\":\"\",\"weight\":1,\"from\":\"Tamiami\",\"to\":\"Fountainbleau\"},{\"to\":\"Fort Myers\",\"from\":\"Lehigh Acres\",\"weight\":1,\"label\":\"\"},{\"label\":\"\",\"weight\":1,\"to\":\"Fort Myers\",\"from\":\"Cape Coral\"},{\"to\":\"Boca Raton\",\"weight\":1,\"label\":\"\",\"from\":\"Delray Beach\"}];\n\nconst nodes = Array.from(new Set(edges.flatMap(e => [e.from, e.to])), id => ({id}));\n\nconst highlightNodes = new Set([]);\n\nconst highlightLinkNodes = new Set([]);\n\nconst links = edges.map(e => ({\n  source: e.from,\n  target: e.to,\n  weight: e.weight,\n  label: e.label,\n  highlight: highlightLinkNodes.has(e.from + \"-\" + e.to)\n}));\n\n//.force(\"link\", d3.forceLink(links).id(d => d.id).distance(d => Math.max(d.weight * 20, 6 * 4)))\nconst simulation = d3.forceSimulation(nodes)\n    .force(\"link\", d3.forceLink(links).id(d => d.id).distance(d => d.weight).iterations(1))\n    .force(\"charge\", d3.forceManyBody().strength(-300).distanceMin(1).distanceMax(2000))\n    .force(\"x\", d3.forceX())\n    .force(\"y\", d3.forceY())\n    .force(\"collision\", d3.forceCollide().radius(4))\n    .force(\"center\", d3.forceCenter(width / 2, height / 2));\n\nsvg.append('defs').append('marker')\n    .attr(\"id\",'arrowhead')\n    .attr('viewBox','-0 -5 10 10') //the bound of the SVG viewport for the current SVG fragment. defines a coordinate system 10 wide and 10 high starting on (0,-5)\n     .attr('refX', 16) // x coordinate for the reference point of the marker. If circle is bigger, this need to be bigger.\n     .attr('refY',0)\n     .attr('orient','auto')\n        .attr('markerWidth', 5)\n        .attr('markerHeight', 5)\n        .attr('xoverflow','visible')\n    .append('svg:path')\n    .attr('d', 'M 0,-5 L 10 ,0 L 0,5')\n    .attr('fill', \"SteelBlue\")\n    .style('stroke','none');\n\nconst link = svg.append(\"g\")\n    .attr(\"class\", \"links\")\n  .selectAll(\"line\")\n  .data(links)\n  .enter().append(\"line\")\n    .attr(\"class\", \"link\")\n    .attr(\"stroke\", d => d.highlight ? \"Orange\" : \"SteelBlue\")\n    .attr(\"stroke-width\", 3)\n    \n\nconst node = svg.append(\"g\")\n    .attr(\"class\", \"nodes\")\n  .selectAll(\"circle\")\n  .data(nodes)\n  .enter().append(\"circle\")\n    .attr(\"class\", \"node\")\n    .attr(\"r\", 6)\n    .attr(\"stroke\", d => highlightNodes.has(d.id) ? \"Orange\" : \"SteelBlue\")\n    .attr(\"fill\", d => highlightNodes.has(d.id) ?  \"Orange\" : \"SteelBlue\")\n    .call(drag(simulation));\n\nnode.append(\"title\")\n    .text(d => d.id);\n\nconst nodeLabel = svg.append(\"g\")\n    .attr(\"class\", \"node-labels\")\n  .selectAll(\"text\")\n  .data(nodes)\n  .enter().append(\"text\")\n    .attr(\"class\", \"node-label\")\n    .style(\"font-size\", 13)\n    .attr(\"font-family\", \"Courier\")\n    .attr(\"dy\", -10)\n    .attr('fill', \"Silver\")\n    .attr('stroke', \"Silver\")\n    .text(d => d.id);\n\nconst linkLabel = svg.append(\"g\")\n    .attr(\"class\", \"link-labels\")\n  .selectAll(\"text\")\n  .data(links)\n  .enter().append(\"text\")\n    .filter(d => d.label !== \"\")\n    .attr(\"class\", \"link-label\")\n    .style(\"font-size\", 13)\n    .attr(\"font-family\", \"Courier\")\n    .attr('fill', \"Silver\")\n    .attr('stroke', \"Silver\")\n    .text(d => d.label);\n\nsimulation.on(\"tick\", () => {\n  link\n      .attr(\"x1\", d => d.source.x)\n      .attr(\"y1\", d => d.source.y)\n      .attr(\"x2\", d => d.target.x)\n      .attr(\"y2\", d => d.target.y);\n\n  node\n      .attr(\"cx\", d => d.x)\n      .attr(\"cy\", d => d.y);\n\n  nodeLabel\n      .attr(\"x\", d => d.x)\n      .attr(\"y\", d => d.y);\n\n  linkLabel\n      .attr(\"x\", d => (d.source.x + d.target.x) / 2)\n      .attr(\"y\", d => (d.source.y + d.target.y) / 2);\n});\n\nfunction drag(simulation) {\n  function dragstarted(event, d) {\n    if (!event.active) simulation.alphaTarget(0.3).restart();\n    d.fx = d.x;\n    d.fy = d.y;\n  }\n\n  function dragged(event, d) {\n    d.fx = event.x;\n    d.fy = event.y;\n  }\n\n  function dragended(event, d) {\n    if (!event.active) simulation.alphaTarget(0);\n    d.fx = null;\n    d.fy = null;\n  }\n\n  return d3.drag()\n      .on(\"start\", dragstarted)\n      .on(\"drag\", dragged)\n      .on(\"end\", dragended);\n}\n\n}) })(element);\n"
     },
     "execution_count": 32,
     "metadata": {},
     "output_type": "execute_result"
    }
   ],
   "source": [
    "#% js\n",
    "$stree.edges\n",
    "==> js-d3-graph-plot(\n",
    "    width => 1200,\n",
    "    height => 1000,\n",
    "    :$background, :$title-color, :$edge-thickness, :$vertex-size,\n",
    "    force => {charge => {strength => -300, iterations => 2}, collision => {radius => 4, iterations => 1}, link => {distance => 'EdgeWeight'}}\n",
    "    )"
   ]
  },
  {
   "cell_type": "code",
   "execution_count": null,
   "metadata": {},
   "outputs": [],
   "source": []
  }
 ],
 "metadata": {
  "kernelspec": {
   "display_name": "RakuChatbook",
   "language": "raku",
   "name": "raku"
  },
  "language_info": {
   "file_extension": ".raku",
   "mimetype": "text/x-raku",
   "name": "raku",
   "version": "6.d"
  }
 },
 "nbformat": 4,
 "nbformat_minor": 2
}
