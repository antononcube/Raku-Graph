{
 "cells": [
  {
   "cell_type": "markdown",
   "metadata": {},
   "source": [
    "# Spanning trees\n",
    "\n",
    "Anton Antonov   \n",
    "July 2024"
   ]
  },
  {
   "cell_type": "markdown",
   "metadata": {},
   "source": [
    "----\n",
    "\n",
    "## Setup"
   ]
  },
  {
   "cell_type": "code",
   "execution_count": 1,
   "metadata": {},
   "outputs": [],
   "source": [
    "use Graph;\n",
    "\n",
    "use Graph::Circulant;\n",
    "use Graph::Complete;\n",
    "use Graph::CompleteKaryTree;\n",
    "use Graph::Cycle;\n",
    "use Graph::Grid;\n",
    "use Graph::Hypercube;\n",
    "use Graph::KnightTour;\n",
    "use Graph::Star;\n",
    "use Graph::Path;\n",
    "use Graph::Petersen;\n",
    "use Graph::Wheel;\n",
    "\n",
    "use Graph::Distribution;\n",
    "use Graph::Random;\n",
    "\n",
    "use Data::Reshapers;\n",
    "use Data::Summarizers;\n",
    "use Data::TypeSystem;\n",
    "use Data::Translators;\n",
    "use Data::Geographics;\n",
    "use Math::DistanceFunctions;\n",
    "use Math::Nearest;\n",
    "use Hash::Merge;\n",
    "\n",
    "use JavaScript::D3;\n",
    "use WWW::MermaidInk;"
   ]
  },
  {
   "cell_type": "code",
   "execution_count": 2,
   "metadata": {},
   "outputs": [
    {
     "data": {
      "application/javascript": "require.config({\n     paths: {\n     d3: 'https://d3js.org/d3.v7.min'\n}});\n\nrequire(['d3'], function(d3) {\n     console.log(d3);\n});"
     },
     "execution_count": 2,
     "metadata": {},
     "output_type": "execute_result"
    }
   ],
   "source": [
    "#% javascript\n",
    "require.config({\n",
    "     paths: {\n",
    "     d3: 'https://d3js.org/d3.v7.min'\n",
    "}});\n",
    "\n",
    "require(['d3'], function(d3) {\n",
    "     console.log(d3);\n",
    "});"
   ]
  },
  {
   "cell_type": "code",
   "execution_count": 3,
   "metadata": {},
   "outputs": [
    {
     "data": {
      "application/javascript": "(function(element) { require(['d3'], function(d3) {\n\n// set the dimensions and margins of the graph\nvar margin = {\"top\":40,\"right\":40,\"left\":40,\"bottom\":40},\n    width = 600 - margin.left - margin.right,\n    height = 400 - margin.top - margin.bottom;\n\n// append the svg object to the body of the page\nvar svg = d3\n   .select(element.get(0))\n  .append(\"svg\")\n    .attr(\"width\", width + margin.left + margin.right)\n    .attr(\"height\", height + margin.top + margin.bottom)\n    .style(\"background\", \"none\")\n  .append(\"g\")\n    .attr(\"transform\",\n          \"translate(\" + margin.left + \",\" + margin.top + \")\")\n\n// Obtain title\nvar title = \"\"\nvar titleFontSize = 16\n\nif ( title.length > 0 ) {\n    svg.append(\"text\")\n        .attr(\"x\", (width / 2))\n        .attr(\"y\", 0 - (margin.top / 2))\n        .attr(\"text-anchor\", \"middle\")\n        .style(\"font-size\", titleFontSize.toString() + \"px\")\n        .style(\"fill\", \"Black\")\n        .text(title);\n}\n\n// Obtain x-axis label\nvar xAxisLabel = \"\"\nvar xAxisLabelFontSize = 12\n\nif ( xAxisLabel.length > 0 ) {\n    svg.append(\"text\")\n        .attr(\"x\", (width / 2))\n        .attr(\"y\", height + margin.bottom - xAxisLabelFontSize/2)\n        .attr(\"text-anchor\", \"middle\")\n        .style(\"font-size\", xAxisLabelFontSize.toString() + \"px\")\n        .style(\"fill\", \"Black\")\n        .text(xAxisLabel);\n}\n\n// Obtain y-axis label\nvar yAxisLabel = \"\"\nvar yAxisLabelFontSize = 12\n\nif ( yAxisLabel.length > 0 ) {\n    svg.append(\"text\")\n        .attr(\"transform\", \"rotate(-90)\")\n        .attr(\"x\", - (height / 2))\n        .attr(\"y\", 0 - margin.left + yAxisLabelFontSize)\n        .attr(\"text-anchor\", \"middle\")\n        .style(\"font-size\", yAxisLabelFontSize.toString() + \"px\")\n        .style(\"fill\", \"Black\")\n        .text(yAxisLabel);\n}\n\n\n// Obtain data\nvar data = [{\"y\":4.638423010922703e0,\"x\":1},{\"x\":2,\"y\":8.533636387096577e0},{\"y\":1.7442477914613985e0,\"x\":3},{\"y\":4.308637701807089e0,\"x\":4},{\"y\":3.4123782566564853e0,\"x\":5},{\"x\":6,\"y\":1.288688504022476e0},{\"y\":7.057135379695001e0,\"x\":7},{\"y\":6.598510963122555e0,\"x\":8},{\"y\":0.33917247771435455e0,\"x\":9},{\"x\":10,\"y\":5.088434582697805e0},{\"y\":5.753275529890274e0,\"x\":11},{\"x\":12,\"y\":3.0188200280070876e0},{\"x\":13,\"y\":3.919121836715128e0},{\"y\":4.451864772324599e0,\"x\":14},{\"x\":15,\"y\":4.9898554200699206e0},{\"x\":16,\"y\":5.443323777138599e0},{\"x\":17,\"y\":7.257171716981542e0},{\"x\":18,\"y\":5.3262583058809e0},{\"x\":19,\"y\":6.012874916317083e0},{\"y\":2.7685456208261874e0,\"x\":20},{\"x\":21,\"y\":2.852084391204146e0},{\"y\":4.345173367299794e0,\"x\":22},{\"y\":8.160464119264514e0,\"x\":23},{\"y\":8.127941239648992e0,\"x\":24},{\"x\":25,\"y\":8.177578942115462e0},{\"y\":7.546255941423187e0,\"x\":26},{\"x\":27,\"y\":8.745962027529107e0},{\"x\":28,\"y\":8.112467300120652e0},{\"x\":29,\"y\":6.174664141518559e0},{\"y\":7.672832348816987e0,\"x\":30},{\"x\":31,\"y\":7.513763482891244e0},{\"y\":0.9205303244143725e0,\"x\":32},{\"x\":33,\"y\":0.4546968237571092e0},{\"y\":2.878322663445647e0,\"x\":34},{\"y\":4.735569758690476e0,\"x\":35},{\"y\":7.501531541199676e0,\"x\":36},{\"x\":37,\"y\":5.035610043172495e0},{\"y\":6.760325667369198e0,\"x\":38},{\"x\":39,\"y\":4.1803437558890195e0},{\"x\":40,\"y\":3.2220563219286458e0}]\n\nvar xMin = Math.min.apply(Math, data.map(function(o) { return o.x; }))\nvar xMax = Math.max.apply(Math, data.map(function(o) { return o.x; }))\n\nvar yMin = Math.min.apply(Math, data.map(function(o) { return o.y; }))\nvar yMax = Math.max.apply(Math, data.map(function(o) { return o.y; }))\n\n// X scale and Axis\nvar x = d3.scaleLinear()\n    .domain([xMin, xMax])\n    .range([0, width]);\n\n// Y scale and Axis\nvar y = d3.scaleLinear()\n    .domain([yMin, yMax])\n    .range([height, 0]);\n\nsvg\n  .append('g')\n  .attr(\"transform\", \"translate(0,\" + height + \")\")\n  .call(d3.axisBottom(x))\n\nsvg\n  .append('g')\n  .call(d3.axisLeft(y));\n\n// prepare a helper function\nvar lineFunc = d3.line()\n  .x(function(d) { return x(d.x) })\n  .y(function(d) { return y(d.y) })\n\n// Add the path using this helper function\nsvg.append('path')\n  .attr('d', lineFunc(data))\n  .attr(\"stroke-width\", 2)\n  .attr('stroke', \"steelblue\")\n  .attr('fill', 'none');\n\n}) })(element);\n"
     },
     "execution_count": 3,
     "metadata": {},
     "output_type": "execute_result"
    }
   ],
   "source": [
    "#% js\n",
    "js-d3-list-line-plot(10.rand xx 40, background => 'none', stroke-width => 2)"
   ]
  },
  {
   "cell_type": "code",
   "execution_count": 4,
   "metadata": {},
   "outputs": [
    {
     "data": {
      "text/plain": [
       "{background => 1F1F1F, edge-thickness => 3, title-color => Silver, vertex-size => 6}"
      ]
     },
     "execution_count": 4,
     "metadata": {},
     "output_type": "execute_result"
    }
   ],
   "source": [
    "my $title-color = 'Silver';\n",
    "my $stroke-color = 'SlateGray';\n",
    "my $tooltip-color = 'LightBlue';\n",
    "my $tooltip-background-color = 'none';\n",
    "my $background = '1F1F1F';\n",
    "my $color-scheme = 'schemeTableau10';\n",
    "my $edge-thickness = 3;\n",
    "my $vertex-size = 6;\n",
    "my $mmd-theme = q:to/END/;\n",
    "%%{\n",
    "  init: {\n",
    "    'theme': 'forest',\n",
    "    'themeVariables': {\n",
    "      'lineColor': 'Ivory'\n",
    "    }\n",
    "  }\n",
    "}%%\n",
    "END\n",
    "my %force = collision => {iterations => 0, radius => 10},link => {distance => 180};\n",
    "my %force2 = charge => {strength => -30, iterations => 4}, collision => {radius => 50, iterations => 4}, link => {distance => 30};\n",
    "\n",
    "my %opts = :$background, :$title-color, :$edge-thickness, :$vertex-size;"
   ]
  },
  {
   "cell_type": "markdown",
   "metadata": {},
   "source": [
    "-----\n",
    "\n",
    "## Small Geo-points set"
   ]
  },
  {
   "cell_type": "markdown",
   "metadata": {},
   "source": [
    "A company is planning a fiber network for a number of Chicago suburbs. It only has the right of way for its fiber along certain corridors. Some of those corridors might be more expensive. Find the subgraph of connection corridors that connect every suburb with the lowest total cost:"
   ]
  },
  {
   "cell_type": "code",
   "execution_count": 5,
   "metadata": {},
   "outputs": [
    {
     "data": {
      "text/plain": [
       "Vector(Struct([from, to, weight], [Str, Str, Int]), 15)"
      ]
     },
     "execution_count": 5,
     "metadata": {},
     "output_type": "execute_result"
    }
   ],
   "source": [
    "my @dsEdges =\n",
    "        %('from'=>'Maywood','to'=>'Downers','weight'=>14),\n",
    "        %('from'=>'Maywood','to'=>'Oakbrook','weight'=>28),\n",
    "        %('from'=>'Maywood','to'=>'Addison','weight'=>10),\n",
    "        %('from'=>'Downers','to'=>'Grove','weight'=>25),\n",
    "        %('from'=>'Downers','to'=>'Stickney','weight'=>23),\n",
    "        %('from'=>'Downers','to'=>'Wheaton','weight'=>20),\n",
    "        %('from'=>'Downers','to'=>'Oakbrook','weight'=>27),\n",
    "        %('from'=>'Oakbrook','to'=>'Stickney','weight'=>11),\n",
    "        %('from'=>'Oakbrook','to'=>'Addison','weight'=>17),\n",
    "        %('from'=>'Addison','to'=>'McCook','weight'=>21),\n",
    "        %('from'=>'Grove','to'=>'Wheaton','weight'=>10),\n",
    "        %('from'=>'Stickney','to'=>'Wheaton','weight'=>15),\n",
    "        %('from'=>'Stickney','to'=>'Bellwood','weight'=>20),\n",
    "        %('from'=>'Wheaton','to'=>'Bellwood','weight'=>10),\n",
    "        %('from'=>'Bellwood','to'=>'McCook','weight'=>28);\n",
    "\n",
    "deduce-type(@dsEdges)"
   ]
  },
  {
   "cell_type": "code",
   "execution_count": 6,
   "metadata": {},
   "outputs": [
    {
     "data": {
      "text/plain": [
       "Graph(vertexes => 9, edges => 15, directed => False)"
      ]
     },
     "execution_count": 6,
     "metadata": {},
     "output_type": "execute_result"
    }
   ],
   "source": [
    "my $g = Graph.new(@dsEdges)"
   ]
  },
  {
   "cell_type": "code",
   "execution_count": 7,
   "metadata": {},
   "outputs": [
    {
     "data": {
      "application/javascript": "(function(element) { require(['d3'], function(d3) {\n\n// set the dimensions and margins of the graph\nvar margin = {\"left\":40,\"right\":40,\"bottom\":40,\"top\":40},\n    width = 800 - margin.left - margin.right,\n    height = 494 - margin.top - margin.bottom;\n\n// append the svg object to the body of the page\nvar svg = d3\n   .select(element.get(0))\n  .append(\"svg\")\n    .attr(\"width\", width + margin.left + margin.right)\n    .attr(\"height\", height + margin.top + margin.bottom)\n    .style(\"background\", \"1F1F1F\")\n  .append(\"g\")\n    .attr(\"transform\",\n          \"translate(\" + margin.left + \",\" + margin.top + \")\")\n\n// Obtain title\nvar title = \"\"\nvar titleFontSize = 16\n\nif ( title.length > 0 ) {\n    svg.append(\"text\")\n        .attr(\"x\", (width / 2))\n        .attr(\"y\", 0 - (margin.top / 2))\n        .attr(\"text-anchor\", \"middle\")\n        .style(\"font-size\", titleFontSize.toString() + \"px\")\n        .style(\"fill\", \"Silver\")\n        .text(title);\n}\n\nconst edges = [{\"from\":\"Oakbrook\",\"weight\":28,\"to\":\"Maywood\",\"label\":\"\"},{\"weight\":27,\"to\":\"Downers\",\"from\":\"Oakbrook\",\"label\":\"\"},{\"weight\":17,\"from\":\"Oakbrook\",\"label\":\"\",\"to\":\"Addison\"},{\"from\":\"Oakbrook\",\"to\":\"Stickney\",\"label\":\"\",\"weight\":11},{\"label\":\"\",\"to\":\"Bellwood\",\"weight\":28,\"from\":\"McCook\"},{\"label\":\"\",\"to\":\"Addison\",\"from\":\"McCook\",\"weight\":21},{\"weight\":10,\"to\":\"Wheaton\",\"label\":\"\",\"from\":\"Grove\"},{\"to\":\"Downers\",\"from\":\"Grove\",\"label\":\"\",\"weight\":25},{\"to\":\"Bellwood\",\"weight\":10,\"label\":\"\",\"from\":\"Wheaton\"},{\"weight\":20,\"to\":\"Downers\",\"from\":\"Wheaton\",\"label\":\"\"},{\"weight\":15,\"from\":\"Wheaton\",\"to\":\"Stickney\",\"label\":\"\"},{\"label\":\"\",\"from\":\"Maywood\",\"to\":\"Downers\",\"weight\":14},{\"weight\":10,\"from\":\"Maywood\",\"label\":\"\",\"to\":\"Addison\"},{\"from\":\"Stickney\",\"weight\":23,\"to\":\"Downers\",\"label\":\"\"},{\"label\":\"\",\"from\":\"Stickney\",\"weight\":20,\"to\":\"Bellwood\"}];\n\nconst nodes = Array.from(new Set(edges.flatMap(e => [e.from, e.to])), id => ({id}));\n\nconst highlightSpecs = {};\n\nconst links = edges.map(e => ({\n  source: e.from,\n  target: e.to,\n  weight: e.weight,\n  label: e.label,\n}));\n\n//.force(\"link\", d3.forceLink(links).id(d => d.id).distance(d => Math.max(d.weight * 20, 6 * 4)))\nconst simulation = d3.forceSimulation(nodes)\n    .force(\"link\", d3.forceLink(links).id(d => d.id).iterations(1))\n    .force(\"charge\", d3.forceManyBody().strength(-800).distanceMin(1).distanceMax(2000))\n    .force(\"x\", d3.forceX())\n    .force(\"y\", d3.forceY())\n    .force(\"collision\", d3.forceCollide().radius(50))\n    .force(\"center\", d3.forceCenter(width / 2, height / 2));\n\nsvg.append('defs').append('marker')\n    .attr(\"id\",'arrowhead')\n    .attr('viewBox','-0 -5 10 10') //the bound of the SVG viewport for the current SVG fragment. defines a coordinate system 10 wide and 10 high starting on (0,-5)\n     .attr('refX', 16) // x coordinate for the reference point of the marker. If circle is bigger, this need to be bigger.\n     .attr('refY',0)\n     .attr('orient','auto')\n        .attr('markerWidth', 5)\n        .attr('markerHeight', 5)\n        .attr('xoverflow','visible')\n    .append('svg:path')\n    .attr('d', 'M 0,-5 L 10 ,0 L 0,5')\n    .attr('fill', \"SteelBlue\")\n    .style('stroke','none');\n\nconst link = svg.append(\"g\")\n    .attr(\"class\", \"links\")\n  .selectAll(\"line\")\n  .data(links)\n  .enter().append(\"line\")\n    .attr(\"class\", \"link\")\n    .attr(\"stroke\", d => {\n        for (const [color, items] of Object.entries(highlightSpecs)) {\n            if (items.some(item => Array.isArray(item) && item[0] === d.source.id && item[1] === d.target.id)) {\n                return color;\n            }\n        }\n        return \"SteelBlue\";\n    })\n    .attr(\"stroke-width\", 3)\n    \n\nconst node = svg.append(\"g\")\n    .attr(\"class\", \"nodes\")\n  .selectAll(\"circle\")\n  .data(nodes)\n  .enter().append(\"circle\")\n    .attr(\"class\", \"node\")\n    .attr(\"r\", 6)\n    .attr(\"stroke\", d => {\n       for (const [color, items] of Object.entries(highlightSpecs)) {\n         if (items.includes(d.id)) {\n            return color;\n         }\n       }\n       return \"SteelBlue\";\n    })\n    .attr(\"fill\", d => {\n       for (const [color, items] of Object.entries(highlightSpecs)) {\n         if (items.includes(d.id)) {\n            return color;\n         }\n       }\n       return \"SteelBlue\";\n    })\n    .call(drag(simulation));\n\nnode.append(\"title\")\n    .text(d => d.id);\n\nconst nodeLabel = svg.append(\"g\")\n    .attr(\"class\", \"node-labels\")\n  .selectAll(\"text\")\n  .data(nodes)\n  .enter().append(\"text\")\n    .attr(\"class\", \"node-label\")\n    .style(\"font-size\", 13)\n    .attr(\"font-family\", \"Courier New\")\n    .attr(\"font-weight\", 100)\n    .attr(\"dy\", -10)\n    .attr('fill', \"Silver\")\n    .attr('stroke', \"Silver\")\n    .text(d => d.id);\n\nconst linkLabel = svg.append(\"g\")\n    .attr(\"class\", \"link-labels\")\n  .selectAll(\"text\")\n  .data(links)\n  .enter().append(\"text\")\n    .filter(d => d.label !== \"\")\n    .attr(\"class\", \"link-label\")\n    .style(\"font-size\", 13)\n    .attr(\"font-family\", \"Courier\")\n    .attr('fill', \"Silver\")\n    .attr('stroke', \"Silver\")\n    .text(d => d.label);\n\nsimulation.on(\"tick\", () => {\n  link\n      .attr(\"x1\", d => d.source.x)\n      .attr(\"y1\", d => d.source.y)\n      .attr(\"x2\", d => d.target.x)\n      .attr(\"y2\", d => d.target.y);\n\n  node\n      .attr(\"cx\", d => d.x)\n      .attr(\"cy\", d => d.y);\n\n  nodeLabel\n      .attr(\"x\", d => d.x)\n      .attr(\"y\", d => d.y);\n\n  linkLabel\n      .attr(\"x\", d => (d.source.x + d.target.x) / 2)\n      .attr(\"y\", d => (d.source.y + d.target.y) / 2);\n});\n\nfunction drag(simulation) {\n  function dragstarted(event, d) {\n    if (!event.active) simulation.alphaTarget(0.3).restart();\n    d.fx = d.x;\n    d.fy = d.y;\n  }\n\n  function dragged(event, d) {\n    d.fx = event.x;\n    d.fy = event.y;\n  }\n\n  function dragended(event, d) {\n    if (!event.active) simulation.alphaTarget(0);\n    d.fx = null;\n    d.fy = null;\n  }\n\n  return d3.drag()\n      .on(\"start\", dragstarted)\n      .on(\"drag\", dragged)\n      .on(\"end\", dragended);\n}\n\n}) })(element);\n"
     },
     "execution_count": 7,
     "metadata": {},
     "output_type": "execute_result"
    }
   ],
   "source": [
    "#% js\n",
    "$g.edges(:dataset)\n",
    "==> js-d3-graph-plot(\n",
    "    width => 800,\n",
    "    :$background, :$title-color, :$edge-thickness, :$vertex-size,\n",
    "    force => {charge => { strength => -800}, collision => {radius => 50}}\n",
    "    )"
   ]
  },
  {
   "cell_type": "code",
   "execution_count": 8,
   "metadata": {},
   "outputs": [
    {
     "data": {
      "text/plain": [
       "Graph(vertexes => 9, edges => 8, directed => False)"
      ]
     },
     "execution_count": 8,
     "metadata": {},
     "output_type": "execute_result"
    }
   ],
   "source": [
    "my $stree = $g.find-spanning-tree;"
   ]
  },
  {
   "cell_type": "code",
   "execution_count": 9,
   "metadata": {},
   "outputs": [
    {
     "data": {
      "application/javascript": "(function(element) { require(['d3'], function(d3) {\n\n// set the dimensions and margins of the graph\nvar margin = {\"left\":40,\"right\":40,\"top\":40,\"bottom\":40},\n    width = 800 - margin.left - margin.right,\n    height = 494 - margin.top - margin.bottom;\n\n// append the svg object to the body of the page\nvar svg = d3\n   .select(element.get(0))\n  .append(\"svg\")\n    .attr(\"width\", width + margin.left + margin.right)\n    .attr(\"height\", height + margin.top + margin.bottom)\n    .style(\"background\", \"1F1F1F\")\n  .append(\"g\")\n    .attr(\"transform\",\n          \"translate(\" + margin.left + \",\" + margin.top + \")\")\n\n// Obtain title\nvar title = \"\"\nvar titleFontSize = 16\n\nif ( title.length > 0 ) {\n    svg.append(\"text\")\n        .attr(\"x\", (width / 2))\n        .attr(\"y\", 0 - (margin.top / 2))\n        .attr(\"text-anchor\", \"middle\")\n        .style(\"font-size\", titleFontSize.toString() + \"px\")\n        .style(\"fill\", \"Silver\")\n        .text(title);\n}\n\nconst edges = [{\"weight\":1,\"label\":\"\",\"from\":\"Grove\",\"to\":\"Downers\"},{\"label\":\"\",\"from\":\"Grove\",\"to\":\"Wheaton\",\"weight\":1},{\"to\":\"Addison\",\"label\":\"\",\"weight\":1,\"from\":\"Maywood\"},{\"weight\":1,\"to\":\"Downers\",\"from\":\"Maywood\",\"label\":\"\"},{\"label\":\"\",\"to\":\"Addison\",\"weight\":1,\"from\":\"McCook\"},{\"weight\":1,\"label\":\"\",\"from\":\"McCook\",\"to\":\"Bellwood\"},{\"label\":\"\",\"to\":\"Addison\",\"weight\":1,\"from\":\"Oakbrook\"},{\"label\":\"\",\"to\":\"Downers\",\"from\":\"Oakbrook\",\"weight\":1},{\"from\":\"Oakbrook\",\"to\":\"Maywood\",\"label\":\"\",\"weight\":1},{\"from\":\"Oakbrook\",\"to\":\"Stickney\",\"weight\":1,\"label\":\"\"},{\"weight\":1,\"to\":\"Bellwood\",\"label\":\"\",\"from\":\"Stickney\"},{\"from\":\"Stickney\",\"label\":\"\",\"weight\":1,\"to\":\"Downers\"},{\"label\":\"\",\"from\":\"Wheaton\",\"weight\":1,\"to\":\"Bellwood\"},{\"from\":\"Wheaton\",\"to\":\"Downers\",\"weight\":1,\"label\":\"\"},{\"weight\":1,\"to\":\"Stickney\",\"from\":\"Wheaton\",\"label\":\"\"}];\n\nconst nodes = Array.from(new Set(edges.flatMap(e => [e.from, e.to])), id => ({id}));\n\nconst highlightSpecs = {\"Orange\":[[\"Addison\",\"Maywood\"],[\"Addison\",\"McCook\"],[\"Addison\",\"Oakbrook\"],[\"Bellwood\",\"Wheaton\"],[\"Downers\",\"Maywood\"],[\"Oakbrook\",\"Stickney\"],[\"Wheaton\",\"Grove\"],[\"Wheaton\",\"Stickney\"],[\"Maywood\",\"Addison\"],[\"McCook\",\"Addison\"],[\"Oakbrook\",\"Addison\"],[\"Wheaton\",\"Bellwood\"],[\"Maywood\",\"Downers\"],[\"Stickney\",\"Oakbrook\"],[\"Grove\",\"Wheaton\"],[\"Stickney\",\"Wheaton\"]]};\n\nconst links = edges.map(e => ({\n  source: e.from,\n  target: e.to,\n  weight: e.weight,\n  label: e.label,\n}));\n\n//.force(\"link\", d3.forceLink(links).id(d => d.id).distance(d => Math.max(d.weight * 20, 6 * 4)))\nconst simulation = d3.forceSimulation(nodes)\n    .force(\"link\", d3.forceLink(links).id(d => d.id).iterations(1))\n    .force(\"charge\", d3.forceManyBody().strength(-800).distanceMin(1).distanceMax(2000))\n    .force(\"x\", d3.forceX())\n    .force(\"y\", d3.forceY())\n    .force(\"collision\", d3.forceCollide().radius(50))\n    .force(\"center\", d3.forceCenter(width / 2, height / 2));\n\nsvg.append('defs').append('marker')\n    .attr(\"id\",'arrowhead')\n    .attr('viewBox','-0 -5 10 10') //the bound of the SVG viewport for the current SVG fragment. defines a coordinate system 10 wide and 10 high starting on (0,-5)\n     .attr('refX', 16) // x coordinate for the reference point of the marker. If circle is bigger, this need to be bigger.\n     .attr('refY',0)\n     .attr('orient','auto')\n        .attr('markerWidth', 5)\n        .attr('markerHeight', 5)\n        .attr('xoverflow','visible')\n    .append('svg:path')\n    .attr('d', 'M 0,-5 L 10 ,0 L 0,5')\n    .attr('fill', \"SteelBlue\")\n    .style('stroke','none');\n\nconst link = svg.append(\"g\")\n    .attr(\"class\", \"links\")\n  .selectAll(\"line\")\n  .data(links)\n  .enter().append(\"line\")\n    .attr(\"class\", \"link\")\n    .attr(\"stroke\", d => {\n        for (const [color, items] of Object.entries(highlightSpecs)) {\n            if (items.some(item => Array.isArray(item) && item[0] === d.source.id && item[1] === d.target.id)) {\n                return color;\n            }\n        }\n        return \"SteelBlue\";\n    })\n    .attr(\"stroke-width\", 3)\n    \n\nconst node = svg.append(\"g\")\n    .attr(\"class\", \"nodes\")\n  .selectAll(\"circle\")\n  .data(nodes)\n  .enter().append(\"circle\")\n    .attr(\"class\", \"node\")\n    .attr(\"r\", 6)\n    .attr(\"stroke\", d => {\n       for (const [color, items] of Object.entries(highlightSpecs)) {\n         if (items.includes(d.id)) {\n            return color;\n         }\n       }\n       return \"SteelBlue\";\n    })\n    .attr(\"fill\", d => {\n       for (const [color, items] of Object.entries(highlightSpecs)) {\n         if (items.includes(d.id)) {\n            return color;\n         }\n       }\n       return \"SteelBlue\";\n    })\n    .call(drag(simulation));\n\nnode.append(\"title\")\n    .text(d => d.id);\n\nconst nodeLabel = svg.append(\"g\")\n    .attr(\"class\", \"node-labels\")\n  .selectAll(\"text\")\n  .data(nodes)\n  .enter().append(\"text\")\n    .attr(\"class\", \"node-label\")\n    .style(\"font-size\", 13)\n    .attr(\"font-family\", \"Courier New\")\n    .attr(\"font-weight\", 100)\n    .attr(\"dy\", -10)\n    .attr('fill', \"Silver\")\n    .attr('stroke', \"Silver\")\n    .text(d => d.id);\n\nconst linkLabel = svg.append(\"g\")\n    .attr(\"class\", \"link-labels\")\n  .selectAll(\"text\")\n  .data(links)\n  .enter().append(\"text\")\n    .filter(d => d.label !== \"\")\n    .attr(\"class\", \"link-label\")\n    .style(\"font-size\", 13)\n    .attr(\"font-family\", \"Courier\")\n    .attr('fill', \"Silver\")\n    .attr('stroke', \"Silver\")\n    .text(d => d.label);\n\nsimulation.on(\"tick\", () => {\n  link\n      .attr(\"x1\", d => d.source.x)\n      .attr(\"y1\", d => d.source.y)\n      .attr(\"x2\", d => d.target.x)\n      .attr(\"y2\", d => d.target.y);\n\n  node\n      .attr(\"cx\", d => d.x)\n      .attr(\"cy\", d => d.y);\n\n  nodeLabel\n      .attr(\"x\", d => d.x)\n      .attr(\"y\", d => d.y);\n\n  linkLabel\n      .attr(\"x\", d => (d.source.x + d.target.x) / 2)\n      .attr(\"y\", d => (d.source.y + d.target.y) / 2);\n});\n\nfunction drag(simulation) {\n  function dragstarted(event, d) {\n    if (!event.active) simulation.alphaTarget(0.3).restart();\n    d.fx = d.x;\n    d.fy = d.y;\n  }\n\n  function dragged(event, d) {\n    d.fx = event.x;\n    d.fy = event.y;\n  }\n\n  function dragended(event, d) {\n    if (!event.active) simulation.alphaTarget(0);\n    d.fx = null;\n    d.fy = null;\n  }\n\n  return d3.drag()\n      .on(\"start\", dragstarted)\n      .on(\"drag\", dragged)\n      .on(\"end\", dragended);\n}\n\n}) })(element);\n"
     },
     "execution_count": 9,
     "metadata": {},
     "output_type": "execute_result"
    }
   ],
   "source": [
    "#% js\n",
    "$g.edges\n",
    "==> js-d3-graph-plot(\n",
    "    highlight => $stree.edges,\n",
    "    width => 800,\n",
    "    :$background, :$title-color, :$edge-thickness, :$vertex-size,\n",
    "    force => {charge => { strength => -800}, collision => {radius => 50}}\n",
    "    )"
   ]
  },
  {
   "cell_type": "markdown",
   "metadata": {},
   "source": [
    "-------\n",
    "\n",
    "## Grid graph"
   ]
  },
  {
   "cell_type": "code",
   "execution_count": 10,
   "metadata": {},
   "outputs": [
    {
     "data": {
      "text/plain": [
       "Graph(vertexes => 24, edges => 38, directed => False)"
      ]
     },
     "execution_count": 10,
     "metadata": {},
     "output_type": "execute_result"
    }
   ],
   "source": [
    "my $g = Graph::Grid.new(n => 4, m => 6)"
   ]
  },
  {
   "cell_type": "code",
   "execution_count": 11,
   "metadata": {},
   "outputs": [
    {
     "data": {
      "text/plain": [
       "Graph(vertexes => 24, edges => 23, directed => False)"
      ]
     },
     "execution_count": 11,
     "metadata": {},
     "output_type": "execute_result"
    }
   ],
   "source": [
    "my $stree = $g.find-spanning-tree"
   ]
  },
  {
   "cell_type": "code",
   "execution_count": 12,
   "metadata": {},
   "outputs": [
    {
     "data": {
      "application/javascript": "(function(element) { require(['d3'], function(d3) {\n\n// set the dimensions and margins of the graph\nvar margin = {\"top\":40,\"bottom\":40,\"right\":40,\"left\":40},\n    width = 500 - margin.left - margin.right,\n    height = 309 - margin.top - margin.bottom;\n\n// append the svg object to the body of the page\nvar svg = d3\n   .select(element.get(0))\n  .append(\"svg\")\n    .attr(\"width\", width + margin.left + margin.right)\n    .attr(\"height\", height + margin.top + margin.bottom)\n    .style(\"background\", \"1F1F1F\")\n  .append(\"g\")\n    .attr(\"transform\",\n          \"translate(\" + margin.left + \",\" + margin.top + \")\")\n\n// Obtain title\nvar title = \"\"\nvar titleFontSize = 16\n\nif ( title.length > 0 ) {\n    svg.append(\"text\")\n        .attr(\"x\", (width / 2))\n        .attr(\"y\", 0 - (margin.top / 2))\n        .attr(\"text-anchor\", \"middle\")\n        .style(\"font-size\", titleFontSize.toString() + \"px\")\n        .style(\"fill\", \"Silver\")\n        .text(title);\n}\n\nconst edges = [{\"to\":\"0_1\",\"from\":\"0_0\",\"label\":\"\",\"weight\":1},{\"label\":\"\",\"to\":\"1_0\",\"weight\":1,\"from\":\"0_0\"},{\"label\":\"\",\"from\":\"0_2\",\"to\":\"0_1\",\"weight\":1},{\"label\":\"\",\"weight\":1,\"to\":\"0_3\",\"from\":\"0_2\"},{\"from\":\"0_2\",\"label\":\"\",\"to\":\"1_2\",\"weight\":1},{\"weight\":1,\"to\":\"0_1\",\"label\":\"\",\"from\":\"1_1\"},{\"label\":\"\",\"from\":\"1_1\",\"to\":\"1_0\",\"weight\":1},{\"label\":\"\",\"weight\":1,\"from\":\"1_1\",\"to\":\"2_1\"},{\"weight\":1,\"to\":\"1_1\",\"label\":\"\",\"from\":\"1_2\"},{\"label\":\"\",\"to\":\"0_3\",\"from\":\"1_3\",\"weight\":1},{\"weight\":1,\"from\":\"1_3\",\"label\":\"\",\"to\":\"1_2\"},{\"label\":\"\",\"from\":\"1_3\",\"weight\":1,\"to\":\"2_3\"},{\"from\":\"2_0\",\"label\":\"\",\"to\":\"1_0\",\"weight\":1},{\"to\":\"2_1\",\"label\":\"\",\"from\":\"2_0\",\"weight\":1},{\"weight\":1,\"from\":\"2_0\",\"to\":\"3_0\",\"label\":\"\"},{\"to\":\"1_2\",\"from\":\"2_2\",\"label\":\"\",\"weight\":1},{\"weight\":1,\"from\":\"2_2\",\"label\":\"\",\"to\":\"2_1\"},{\"weight\":1,\"to\":\"2_2\",\"from\":\"2_3\",\"label\":\"\"},{\"to\":\"2_1\",\"label\":\"\",\"weight\":1,\"from\":\"3_1\"},{\"from\":\"3_1\",\"weight\":1,\"label\":\"\",\"to\":\"3_0\"},{\"weight\":1,\"from\":\"3_1\",\"to\":\"4_1\",\"label\":\"\"},{\"from\":\"3_2\",\"label\":\"\",\"to\":\"2_2\",\"weight\":1},{\"label\":\"\",\"from\":\"3_2\",\"to\":\"3_1\",\"weight\":1},{\"to\":\"4_2\",\"from\":\"3_2\",\"weight\":1,\"label\":\"\"},{\"to\":\"2_3\",\"from\":\"3_3\",\"label\":\"\",\"weight\":1},{\"weight\":1,\"label\":\"\",\"from\":\"3_3\",\"to\":\"3_2\"},{\"to\":\"3_0\",\"weight\":1,\"from\":\"4_0\",\"label\":\"\"},{\"from\":\"4_0\",\"weight\":1,\"label\":\"\",\"to\":\"4_1\"},{\"weight\":1,\"label\":\"\",\"from\":\"4_1\",\"to\":\"5_1\"},{\"to\":\"4_1\",\"from\":\"4_2\",\"label\":\"\",\"weight\":1},{\"to\":\"3_3\",\"label\":\"\",\"weight\":1,\"from\":\"4_3\"},{\"from\":\"4_3\",\"weight\":1,\"to\":\"4_2\",\"label\":\"\"},{\"from\":\"4_3\",\"to\":\"5_3\",\"label\":\"\",\"weight\":1},{\"from\":\"5_0\",\"to\":\"4_0\",\"weight\":1,\"label\":\"\"},{\"to\":\"5_1\",\"weight\":1,\"from\":\"5_0\",\"label\":\"\"},{\"weight\":1,\"to\":\"4_2\",\"label\":\"\",\"from\":\"5_2\"},{\"label\":\"\",\"weight\":1,\"to\":\"5_1\",\"from\":\"5_2\"},{\"from\":\"5_2\",\"to\":\"5_3\",\"label\":\"\",\"weight\":1}];\n\nconst nodes = Array.from(new Set(edges.flatMap(e => [e.from, e.to])), id => ({id}));\n\nconst highlightSpecs = {\"Orange\":[\"0_0\",\"0_1\",\"0_2\",\"0_3\",\"1_0\",\"1_1\",\"1_2\",\"1_3\",\"2_0\",\"2_1\",\"2_2\",\"2_3\",\"3_0\",\"3_1\",\"3_2\",\"3_3\",\"4_0\",\"4_1\",\"4_2\",\"4_3\",\"5_0\",\"5_1\",\"5_2\",\"5_3\",[\"0_1\",\"0_0\"],[\"0_1\",\"0_2\"],[\"0_3\",\"0_2\"],[\"1_0\",\"0_0\"],[\"1_0\",\"2_0\"],[\"1_1\",\"1_2\"],[\"1_3\",\"0_3\"],[\"1_3\",\"1_2\"],[\"2_1\",\"2_0\"],[\"2_2\",\"3_2\"],[\"2_3\",\"1_3\"],[\"2_3\",\"3_3\"],[\"3_0\",\"2_0\"],[\"3_2\",\"3_1\"],[\"3_2\",\"3_3\"],[\"4_0\",\"5_0\"],[\"4_1\",\"4_2\"],[\"4_2\",\"5_2\"],[\"4_3\",\"3_3\"],[\"4_3\",\"4_2\"],[\"5_0\",\"5_1\"],[\"5_2\",\"5_1\"],[\"5_2\",\"5_3\"],[\"0_0\",\"0_1\"],[\"0_2\",\"0_1\"],[\"0_2\",\"0_3\"],[\"0_0\",\"1_0\"],[\"2_0\",\"1_0\"],[\"1_2\",\"1_1\"],[\"0_3\",\"1_3\"],[\"1_2\",\"1_3\"],[\"2_0\",\"2_1\"],[\"3_2\",\"2_2\"],[\"1_3\",\"2_3\"],[\"3_3\",\"2_3\"],[\"2_0\",\"3_0\"],[\"3_1\",\"3_2\"],[\"3_3\",\"3_2\"],[\"5_0\",\"4_0\"],[\"4_2\",\"4_1\"],[\"5_2\",\"4_2\"],[\"3_3\",\"4_3\"],[\"4_2\",\"4_3\"],[\"5_1\",\"5_0\"],[\"5_1\",\"5_2\"],[\"5_3\",\"5_2\"]]};\n\nconst links = edges.map(e => ({\n  source: e.from,\n  target: e.to,\n  weight: e.weight,\n  label: e.label,\n}));\n\n//.force(\"link\", d3.forceLink(links).id(d => d.id).distance(d => Math.max(d.weight * 20, 6 * 4)))\nconst simulation = d3.forceSimulation(nodes)\n    .force(\"link\", d3.forceLink(links).id(d => d.id).distance(0).iterations(1))\n    .force(\"charge\", d3.forceManyBody().strength(-160).distanceMin(1).distanceMax(2000))\n    .force(\"x\", d3.forceX())\n    .force(\"y\", d3.forceY())\n    .force(\"collision\", d3.forceCollide().radius(4))\n    .force(\"center\", d3.forceCenter(width / 2, height / 2));\n\nsvg.append('defs').append('marker')\n    .attr(\"id\",'arrowhead')\n    .attr('viewBox','-0 -5 10 10') //the bound of the SVG viewport for the current SVG fragment. defines a coordinate system 10 wide and 10 high starting on (0,-5)\n     .attr('refX', 16) // x coordinate for the reference point of the marker. If circle is bigger, this need to be bigger.\n     .attr('refY',0)\n     .attr('orient','auto')\n        .attr('markerWidth', 5)\n        .attr('markerHeight', 5)\n        .attr('xoverflow','visible')\n    .append('svg:path')\n    .attr('d', 'M 0,-5 L 10 ,0 L 0,5')\n    .attr('fill', \"SteelBlue\")\n    .style('stroke','none');\n\nconst link = svg.append(\"g\")\n    .attr(\"class\", \"links\")\n  .selectAll(\"line\")\n  .data(links)\n  .enter().append(\"line\")\n    .attr(\"class\", \"link\")\n    .attr(\"stroke\", d => {\n        for (const [color, items] of Object.entries(highlightSpecs)) {\n            if (items.some(item => Array.isArray(item) && item[0] === d.source.id && item[1] === d.target.id)) {\n                return color;\n            }\n        }\n        return \"SteelBlue\";\n    })\n    .attr(\"stroke-width\", 3)\n    \n\nconst node = svg.append(\"g\")\n    .attr(\"class\", \"nodes\")\n  .selectAll(\"circle\")\n  .data(nodes)\n  .enter().append(\"circle\")\n    .attr(\"class\", \"node\")\n    .attr(\"r\", 6)\n    .attr(\"stroke\", d => {\n       for (const [color, items] of Object.entries(highlightSpecs)) {\n         if (items.includes(d.id)) {\n            return color;\n         }\n       }\n       return \"SteelBlue\";\n    })\n    .attr(\"fill\", d => {\n       for (const [color, items] of Object.entries(highlightSpecs)) {\n         if (items.includes(d.id)) {\n            return color;\n         }\n       }\n       return \"SteelBlue\";\n    })\n    .call(drag(simulation));\n\nnode.append(\"title\")\n    .text(d => d.id);\n\nconst nodeLabel = svg.append(\"g\")\n    .attr(\"class\", \"node-labels\")\n  .selectAll(\"text\")\n  .data(nodes)\n  .enter().append(\"text\")\n    .attr(\"class\", \"node-label\")\n    .style(\"font-size\", 13)\n    .attr(\"font-family\", \"Courier New\")\n    .attr(\"font-weight\", 100)\n    .attr(\"dy\", -10)\n    .attr('fill', \"Silver\")\n    .attr('stroke', \"Silver\")\n    .text(d => d.id);\n\nconst linkLabel = svg.append(\"g\")\n    .attr(\"class\", \"link-labels\")\n  .selectAll(\"text\")\n  .data(links)\n  .enter().append(\"text\")\n    .filter(d => d.label !== \"\")\n    .attr(\"class\", \"link-label\")\n    .style(\"font-size\", 13)\n    .attr(\"font-family\", \"Courier\")\n    .attr('fill', \"Silver\")\n    .attr('stroke', \"Silver\")\n    .text(d => d.label);\n\nsimulation.on(\"tick\", () => {\n  link\n      .attr(\"x1\", d => d.source.x)\n      .attr(\"y1\", d => d.source.y)\n      .attr(\"x2\", d => d.target.x)\n      .attr(\"y2\", d => d.target.y);\n\n  node\n      .attr(\"cx\", d => d.x)\n      .attr(\"cy\", d => d.y);\n\n  nodeLabel\n      .attr(\"x\", d => d.x)\n      .attr(\"y\", d => d.y);\n\n  linkLabel\n      .attr(\"x\", d => (d.source.x + d.target.x) / 2)\n      .attr(\"y\", d => (d.source.y + d.target.y) / 2);\n});\n\nfunction drag(simulation) {\n  function dragstarted(event, d) {\n    if (!event.active) simulation.alphaTarget(0.3).restart();\n    d.fx = d.x;\n    d.fy = d.y;\n  }\n\n  function dragged(event, d) {\n    d.fx = event.x;\n    d.fy = event.y;\n  }\n\n  function dragended(event, d) {\n    if (!event.active) simulation.alphaTarget(0);\n    d.fx = null;\n    d.fy = null;\n  }\n\n  return d3.drag()\n      .on(\"start\", dragstarted)\n      .on(\"drag\", dragged)\n      .on(\"end\", dragended);\n}\n\n}) })(element);\n"
     },
     "execution_count": 12,
     "metadata": {},
     "output_type": "execute_result"
    }
   ],
   "source": [
    "#% js\n",
    "$g.edges\n",
    "==> js-d3-graph-plot(\n",
    "    highlight => [|$stree.vertex-list, |$stree.edges],\n",
    "    width => 500,\n",
    "    :$background, :$title-color, :$edge-thickness, :$vertex-size,\n",
    "    force => {charge => {strength => -160, iterations => 2}, collision => {radius => 4, iterations => 1}, link => {distance => 0}}\n",
    "    )"
   ]
  },
  {
   "cell_type": "markdown",
   "metadata": {},
   "source": [
    "-----\n",
    "\n",
    "## Florida cities"
   ]
  },
  {
   "cell_type": "markdown",
   "metadata": {},
   "source": [
    "Build an interstate highway system joining the cities of the state of Florida, USA."
   ]
  },
  {
   "cell_type": "markdown",
   "metadata": {},
   "source": [
    "Here is a dataset of large enough cities:"
   ]
  },
  {
   "cell_type": "code",
   "execution_count": 13,
   "metadata": {},
   "outputs": [
    {
     "data": {
      "text/plain": [
       "78"
      ]
     },
     "execution_count": 13,
     "metadata": {},
     "output_type": "execute_result"
    }
   ],
   "source": [
    "my @cities = city-data().grep({ $_<State> eq 'Florida' && $_<Population> ≥ 50_000 });\n",
    "@cities.elems"
   ]
  },
  {
   "cell_type": "code",
   "execution_count": 14,
   "metadata": {},
   "outputs": [
    {
     "data": {
      "text/html": [
       "<table border=\"1\"><thead><tr><th>State</th><th>Elevation</th><th>Longitude</th><th>City</th><th>Country</th><th>Population</th><th>Latitude</th><th>ID</th><th>LocationLink</th></tr></thead><tbody><tr><td>Florida</td><td>5</td><td>-81.6613021</td><td>Jacksonville</td><td>United States</td><td>949611</td><td>30.3370193</td><td>United_States.Florida.Jacksonville</td><td>http://maps.google.com/maps?q=30.3370193,-81.6613021&amp;z=12&amp;t=h</td></tr><tr><td>Florida</td><td>2</td><td>-80.2086152</td><td>Miami</td><td>United States</td><td>442241</td><td>25.775163</td><td>United_States.Florida.Miami</td><td>http://maps.google.com/maps?q=25.775163,-80.2086152&amp;z=12&amp;t=h</td></tr><tr><td>Florida</td><td>1</td><td>-82.4796734</td><td>Tampa</td><td>United States</td><td>384959</td><td>27.9700861</td><td>United_States.Florida.Tampa</td><td>http://maps.google.com/maps?q=27.9700861,-82.4796734&amp;z=12&amp;t=h</td></tr><tr><td>Florida</td><td>30</td><td>-81.375789</td><td>Orlando</td><td>United States</td><td>307573</td><td>28.533513</td><td>United_States.Florida.Orlando</td><td>http://maps.google.com/maps?q=28.533513,-81.375789&amp;z=12&amp;t=h</td></tr></tbody></table>"
      ]
     },
     "execution_count": 14,
     "metadata": {},
     "output_type": "execute_result"
    }
   ],
   "source": [
    "#% html\n",
    "@cities.head(4) ==> to-html"
   ]
  },
  {
   "cell_type": "markdown",
   "metadata": {},
   "source": [
    "Here is the corresponding weighted graph:"
   ]
  },
  {
   "cell_type": "code",
   "execution_count": 15,
   "metadata": {},
   "outputs": [
    {
     "data": {
      "text/plain": [
       "[{from => Poinciana, to => Poinciana, weight => 0} {from => Poinciana, to => Kendall, weight => 294608.235321117} {from => Poinciana, to => Brandon, weight => 83106.88748326803} {from => Poinciana, to => Boca Raton, weight => 237132.94663520565} {from => Poinciana, to => North Miami, weight => 278999.2724277294} {from => Poinciana, to => Weston, weight => 248732.07536148472} {from => Poinciana, to => Lauderhill, weight => 250915.7156946892} {from => Poinciana, to => Sanford, weight => 77275.197816045} {from => Poinciana, to => Coconut Creek, weight => 241586.6061205076} {from => Poinciana, to => Kendale Lakes, weight => 288654.53294163366} {from => Poinciana, to => Port Saint Lucie, weight => 142671.12679341412} {from => Poinciana, to => Pembroke Pines, weight => 259343.74657906033} {from => Poinciana, to => Homestead, weight => 312500.4304670341} {from => Poinciana, to => Miami Gardens, weight => 270836.8914958427} {from => Poinciana, to => North Port, weight => 137723.5839993298} {from => Poinciana, to => Largo, weight => 129178.10896662358} {from => Poinciana, to => Orlando, weight => 47273.099759156015} {from => Poinciana, to => Miramar, weight => 266121.859293363} {from => Poinciana, to => Fort Lauderdale, weight => 256814.82440211688} {from => Poinciana, to => Port Charlotte, weight => 140438.05157196708} {from => Poinciana, to => Bonita Springs, weight => 198410.28234278777} {from => Poinciana, to => Pensacola, weight => 611691.6112692275} {from => Poinciana, to => Wellington, weight => 202531.84695187627} {from => Poinciana, to => Coral Springs, weight => 238549.49840175896} {from => Poinciana, to => Miami, weight => 289749.61663070606} {from => Poinciana, to => Town 'n' Country, weight => 108524.27712576717} {from => Poinciana, to => Deerfield Beach, weight => 241708.10841255847} {from => Poinciana, to => Miami Beach, weight => 288807.31787523604} {from => Poinciana, to => Sunrise, weight => 248295.6561355409} {from => Poinciana, to => Fort Myers, weight => 170550.3671461125} {from => Poinciana, to => Pinellas Park, weight => 124222.14407781392} {from => Poinciana, to => Alafaya, weight => 53912.86782073522} {from => Poinciana, to => Kissimmee, weight => 21362.80890262013} {from => Poinciana, to => Boynton Beach, weight => 224659.0187069075} {from => Poinciana, to => Clearwater, weight => 127389.75336436208} {from => Poinciana, to => Fountainbleau, weight => 284035.99328855885} {from => Poinciana, to => Hialeah, weight => 276187.4590680287} {from => Poinciana, to => Lehigh Acres, weight => 168391.8786308528} {from => Poinciana, to => Davie, weight => 256032.26951997346} {from => Poinciana, to => Apopka, weight => 65321.324944045526} {from => Poinciana, to => West Palm Beach, weight => 210091.7397095494} {from => Poinciana, to => Tallahassee, weight => 374392.021385278} {from => Poinciana, to => Doral, weight => 279515.5848065885} {from => Poinciana, to => Spring Hill, weight => 110500.76831830936} {from => Poinciana, to => Jacksonville, weight => 247571.5169224538} {from => Poinciana, to => Pine Hills, weight => 51557.75194495832} {from => Poinciana, to => Cape Coral, weight => 172061.7268120379} {from => Poinciana, to => Palm Coast, weight => 159833.90022979656} {from => Poinciana, to => Delray Beach, weight => 230432.25352973517} {from => Poinciana, to => Tamiami, weight => 283855.22349373455} {from => Poinciana, to => Palm Bay, weight => 81582.08360753019} {from => Poinciana, to => The Hammocks, weight => 291112.5190341253} {from => Poinciana, to => Wesley Chapel, weight => 83718.02430665951} {from => Poinciana, to => Gainesville, weight => 193116.52768260075} {from => Poinciana, to => Ocala, weight => 135068.35760624343} {from => Poinciana, to => Tamarac, weight => 245208.31740898994} {from => Poinciana, to => Jupiter, weight => 189818.82312077587} {from => Poinciana, to => Melbourne, weight => 81836.93556274608} {from => Poinciana, to => Palm Beach Gardens, weight => 191767.02420892622} {from => Poinciana, to => Plantation, weight => 252535.34616272137} {from => Poinciana, to => Saint Cloud, weight => 22748.09031866087} {from => Poinciana, to => Port Orange, weight => 119733.63352103099} {from => Poinciana, to => Deltona, weight => 91388.82386392214} {from => Poinciana, to => Westchester, weight => 287331.19825091586} {from => Poinciana, to => Daytona Beach, weight => 125999.8243674173} {from => Poinciana, to => Bradenton, weight => 128540.55752596537} {from => Poinciana, to => Lakeland, weight => 47116.246958381395} {from => Poinciana, to => Palm Harbor, weight => 125582.00911924613} {from => Poinciana, to => Riverview, weight => 87478.0791819959} {from => Poinciana, to => The Villages, weight => 100357.99495380587} {from => Poinciana, to => Sarasota, weight => 136353.75157013533} {from => Poinciana, to => Margate, weight => 243168.14985720353} {from => Poinciana, to => Hollywood, weight => 266427.6641120008} {from => Poinciana, to => Saint Petersburg, weight => 121240.82017297663} {from => Poinciana, to => Tampa, weight => 99674.69095292523} {from => Poinciana, to => Carol City, weight => 270342.8489909054} {from => Poinciana, to => Horizon West, weight => 38130.23517050396} {from => Poinciana, to => Pompano Beach, weight => 247976.5501027785} {from => Kendall, to => Poinciana, weight => 294608.235321117} {from => Kendall, to => Kendall, weight => 0} {from => Kendall, to => Brandon, weight => 317765.15911945753} {from => Kendall, to => Boca Raton, weight => 82143.01497773216} {from => Kendall, to => North Miami, weight => 31826.281091176974} {from => Kendall, to => Weston, weight => 48199.31247168035} {from => Kendall, to => Lauderhill, weight => 56267.73709197164} {from => Kendall, to => Sanford, weight => 359061.7303252872} {from => Kendall, to => Coconut Creek, weight => 69955.054894872} {from => Kendall, to => Kendale Lakes, weight => 6915.456604426883} {from => Kendall, to => Port Saint Lucie, weight => 179405.0427702228} {from => Kendall, to => Pembroke Pines, weight => 39177.549488827935} {from => Kendall, to => Homestead, weight => 24293.414619790175} {from => Kendall, to => Miami Gardens, weight => 33032.48256779271} {from => Kendall, to => North Port, weight => 240196.03078779738} {from => Kendall, to => Largo, weight => 345925.1460942896} {from => Kendall, to => Orlando, weight => 334481.5942489268} {from => Kendall, to => Miramar, weight => 35181.21970310469} {from => Kendall, to => Fort Lauderdale, weight => 56601.7979529797} {from => Kendall, to => Port Charlotte, weight => 228873.05956266858} {from => Kendall, to => Bonita Springs, weight => 162459.7888975941} {from => Kendall, to => Pensacola, weight => 855830.3118645577} ...]"
      ]
     },
     "execution_count": 15,
     "metadata": {},
     "output_type": "execute_result"
    }
   ],
   "source": [
    "my %coords = @cities.map({ $_<City> => ($_<Latitude>, $_<Longitude>) });\n",
    "my @dsEdges = (%coords.keys X %coords.keys ).map({ %(from => $_.head, to => $_.tail, weight => geo-distance(|%coords{$_.head}, |%coords{$_.tail} )) })"
   ]
  },
  {
   "cell_type": "code",
   "execution_count": 16,
   "metadata": {},
   "outputs": [
    {
     "data": {
      "text/plain": [
       "Graph(vertexes => 78, edges => 3081, directed => False)"
      ]
     },
     "execution_count": 16,
     "metadata": {},
     "output_type": "execute_result"
    }
   ],
   "source": [
    "my $g = Graph.new(@dsEdges, :!directed)"
   ]
  },
  {
   "cell_type": "code",
   "execution_count": 17,
   "metadata": {},
   "outputs": [
    {
     "data": {
      "text/plain": [
       "Graph(vertexes => 78, edges => 77, directed => False)"
      ]
     },
     "execution_count": 17,
     "metadata": {},
     "output_type": "execute_result"
    }
   ],
   "source": [
    "my $stree = $g.find-spanning-tree(method => 'kruskal')"
   ]
  },
  {
   "cell_type": "code",
   "execution_count": 18,
   "metadata": {},
   "outputs": [
    {
     "data": {
      "text/plain": [
       "()"
      ]
     },
     "execution_count": 18,
     "metadata": {},
     "output_type": "execute_result"
    }
   ],
   "source": [
    "#my $stree2 = $g.find-spanning-tree(method => 'prim')"
   ]
  },
  {
   "cell_type": "code",
   "execution_count": 19,
   "metadata": {},
   "outputs": [
    {
     "data": {
      "text/plain": [
       "{Alafaya => (-81.1857451 28.5283727), Apopka => (-81.5309734 28.7037531), Boca Raton => (-80.1062924 26.3728553), Bonita Springs => (-81.7869289 26.357498), Boynton Beach => (-80.0807345 26.5283266), Bradenton => (-82.5748617 27.4909209), Brandon => (-82.2992552 27.9359851), Cape Coral => (-81.9973306 26.6431192), Carol City => (-80.26992 25.942121), Clearwater => (-82.7662648 27.9794747), Coconut Creek => (-80.1846979 26.2790785), Coral Springs => (-80.2592915 26.2707826), Davie => (-80.2850284 26.0791425), Daytona Beach => (-81.0881451 29.1973282), Deerfield Beach => (-80.1254222 26.3117134), Delray Beach => (-80.0904783 26.4568423), Deltona => (-81.2109776 28.9051205), Doral => (-80.3579892 25.8151765), Fort Lauderdale => (-80.143896 26.141305), Fort Myers => (-81.8319561 26.61901), Fountainbleau => (-80.3494448 25.7743113), Gainesville => (-82.345878 29.6788314), Hialeah => (-80.302865 25.8699408), Hollywood => (-80.1645743 26.0311054), Homestead => (-80.4457729 25.4673459), Horizon West => (-81.6134493 28.4402198), Jacksonville => (-81.6613021 30.3370193), Jupiter => (-80.1101013 26.9214804), Kendale Lakes => (-80.409257 25.7075595), Kendall => (-80.3547406 25.669538), Kissimmee => (-81.4178523 28.3028538), Lakeland => (-81.9536823 28.0559644), Largo => (-82.7714657 27.9063894), Lauderhill => (-80.2236959 26.161065), Lehigh Acres => (-81.6388451 26.6126953), Margate => (-80.211169 26.2480374), Melbourne => (-80.6457133 28.1163261), Miami => (-80.2086152 25.775163), Miami Beach => (-80.1397207 25.8152651), Miami Gardens => (-80.2435855 25.948892), Miramar => (-80.282489 25.978812), North Miami => (-80.1684579 25.9010636), North Port => (-82.1980437 27.0581655), Ocala => (-82.1487866 29.1803143), Orlando => (-81.375789 28.533513), Palm Bay => (-80.6626214 27.9856237), Palm Beach Gardens => (-80.1671239 26.848788), Palm Coast => (-81.2510616 29.5405598), Palm Harbor => (-82.7575459 28.0847433), Pembroke Pines => (-80.3403962 26.0212389), Pensacola => (-87.1899433 30.4412661), Pine Hills => (-81.4695358 28.5818015), Pinellas Park => (-82.7082134 27.8588826), Plantation => (-80.2618132 26.1256114), Poinciana => (-81.479234 28.1187292), Pompano Beach => (-80.1289961 26.242623), Port Charlotte => (-82.1136511 26.9894666), Port Orange => (-81.0132318 29.1134882), Port Saint Lucie => (-80.3837622 27.2809508), Riverview => (-82.3045907 27.8251606), Saint Cloud => (-81.2852283 28.2305837), Saint Petersburg => (-82.644055 27.7619755), Sanford => (-81.275624 28.7894252), Sarasota => (-82.545766 27.3382563), Spring Hill => (-82.5296584 28.479207), Sunrise => (-80.259542 26.1700772), Tallahassee => (-84.2534191 30.4551091), Tamarac => (-80.2553046 26.203932000000002), Tamiami => (-80.4025592 25.7563211), Tampa => (-82.4796734 27.9700861), The Hammocks => (-80.4488333 25.6703538), The Villages => (-81.9940256 28.8985528), Town 'n' Country => (-82.5771669 28.0102276), Wellington => (-80.2743762 26.6471144), Wesley Chapel => (-82.3267097 28.204452), West Palm Beach => (-80.064373 26.709992), Westchester => (-80.336682 25.7470327), Weston => (-80.402222 26.1004072)}"
      ]
     },
     "execution_count": 19,
     "metadata": {},
     "output_type": "execute_result"
    }
   ],
   "source": [
    "%coords.nodemap({.reverse}).Hash"
   ]
  },
  {
   "cell_type": "code",
   "execution_count": 20,
   "metadata": {},
   "outputs": [
    {
     "data": {
      "application/javascript": "(function(element) { require(['d3'], function(d3) {\n\n// set the dimensions and margins of the graph\nvar margin = {\"left\":40,\"bottom\":40,\"right\":200,\"top\":40},\n    width = 700 - margin.left - margin.right,\n    height = 1000 - margin.top - margin.bottom;\n\n// append the svg object to the body of the page\nvar svg = d3\n   .select(element.get(0))\n  .append(\"svg\")\n    .attr(\"width\", width + margin.left + margin.right)\n    .attr(\"height\", height + margin.top + margin.bottom)\n    .style(\"background\", \"1F1F1F\")\n  .append(\"g\")\n    .attr(\"transform\",\n          \"translate(\" + margin.left + \",\" + margin.top + \")\")\n\n// Obtain title\nvar title = \"\"\nvar titleFontSize = 16\n\nif ( title.length > 0 ) {\n    svg.append(\"text\")\n        .attr(\"x\", (width / 2))\n        .attr(\"y\", 0 - (margin.top / 2))\n        .attr(\"text-anchor\", \"middle\")\n        .style(\"font-size\", titleFontSize.toString() + \"px\")\n        .style(\"fill\", \"Silver\")\n        .text(title);\n}\n\nconst edges = [{\"label\":\"\",\"from\":\"Apopka\",\"to\":\"Pine Hills\",\"weight\":1},{\"label\":\"\",\"weight\":1,\"from\":\"Bradenton\",\"to\":\"Sarasota\"},{\"weight\":1,\"from\":\"Brandon\",\"to\":\"Lakeland\",\"label\":\"\"},{\"from\":\"Brandon\",\"to\":\"Tampa\",\"label\":\"\",\"weight\":1},{\"to\":\"Wesley Chapel\",\"weight\":1,\"from\":\"Brandon\",\"label\":\"\"},{\"from\":\"Cape Coral\",\"label\":\"\",\"weight\":1,\"to\":\"Fort Myers\"},{\"from\":\"Cape Coral\",\"weight\":1,\"label\":\"\",\"to\":\"Port Charlotte\"},{\"label\":\"\",\"weight\":1,\"from\":\"Carol City\",\"to\":\"Hialeah\"},{\"weight\":1,\"to\":\"Largo\",\"label\":\"\",\"from\":\"Clearwater\"},{\"to\":\"Margate\",\"weight\":1,\"label\":\"\",\"from\":\"Coconut Creek\"},{\"to\":\"Margate\",\"weight\":1,\"from\":\"Coral Springs\",\"label\":\"\"},{\"to\":\"Palm Coast\",\"from\":\"Daytona Beach\",\"weight\":1,\"label\":\"\"},{\"label\":\"\",\"weight\":1,\"to\":\"Port Orange\",\"from\":\"Daytona Beach\"},{\"from\":\"Deerfield Beach\",\"weight\":1,\"to\":\"Boca Raton\",\"label\":\"\"},{\"label\":\"\",\"from\":\"Deerfield Beach\",\"to\":\"Coconut Creek\",\"weight\":1},{\"to\":\"Boca Raton\",\"weight\":1,\"label\":\"\",\"from\":\"Delray Beach\"},{\"weight\":1,\"to\":\"Boynton Beach\",\"label\":\"\",\"from\":\"Delray Beach\"},{\"to\":\"Hialeah\",\"label\":\"\",\"from\":\"Doral\",\"weight\":1},{\"label\":\"\",\"weight\":1,\"from\":\"Fort Myers\",\"to\":\"Bonita Springs\"},{\"to\":\"Doral\",\"weight\":1,\"from\":\"Fountainbleau\",\"label\":\"\"},{\"weight\":1,\"from\":\"Fountainbleau\",\"to\":\"Tamiami\",\"label\":\"\"},{\"weight\":1,\"label\":\"\",\"from\":\"Fountainbleau\",\"to\":\"Westchester\"},{\"to\":\"Ocala\",\"weight\":1,\"from\":\"Gainesville\",\"label\":\"\"},{\"label\":\"\",\"to\":\"Tallahassee\",\"weight\":1,\"from\":\"Gainesville\"},{\"weight\":1,\"label\":\"\",\"to\":\"The Hammocks\",\"from\":\"Homestead\"},{\"weight\":1,\"from\":\"Jacksonville\",\"to\":\"Palm Coast\",\"label\":\"\"},{\"label\":\"\",\"to\":\"Palm Beach Gardens\",\"from\":\"Jupiter\",\"weight\":1},{\"to\":\"Port Saint Lucie\",\"from\":\"Jupiter\",\"weight\":1,\"label\":\"\"},{\"weight\":1,\"to\":\"Kendall\",\"label\":\"\",\"from\":\"Kendale Lakes\"},{\"from\":\"Kendale Lakes\",\"weight\":1,\"to\":\"Tamiami\",\"label\":\"\"},{\"to\":\"The Hammocks\",\"label\":\"\",\"from\":\"Kendale Lakes\",\"weight\":1},{\"weight\":1,\"from\":\"Kissimmee\",\"to\":\"Horizon West\",\"label\":\"\"},{\"from\":\"Kissimmee\",\"to\":\"Saint Cloud\",\"weight\":1,\"label\":\"\"},{\"from\":\"Largo\",\"to\":\"Pinellas Park\",\"label\":\"\",\"weight\":1},{\"to\":\"Fort Lauderdale\",\"from\":\"Lauderhill\",\"weight\":1,\"label\":\"\"},{\"label\":\"\",\"weight\":1,\"from\":\"Lauderhill\",\"to\":\"Sunrise\"},{\"label\":\"\",\"weight\":1,\"to\":\"Fort Myers\",\"from\":\"Lehigh Acres\"},{\"label\":\"\",\"to\":\"Tamarac\",\"from\":\"Margate\",\"weight\":1},{\"from\":\"Melbourne\",\"weight\":1,\"to\":\"Saint Cloud\",\"label\":\"\"},{\"from\":\"Miami Beach\",\"weight\":1,\"to\":\"Miami\",\"label\":\"\"},{\"from\":\"Miami Gardens\",\"label\":\"\",\"to\":\"Carol City\",\"weight\":1},{\"weight\":1,\"from\":\"Miami Gardens\",\"label\":\"\",\"to\":\"Hollywood\"},{\"label\":\"\",\"to\":\"Carol City\",\"weight\":1,\"from\":\"Miramar\"},{\"weight\":1,\"label\":\"\",\"from\":\"North Miami\",\"to\":\"Miami Beach\"},{\"from\":\"North Miami\",\"to\":\"Miami Gardens\",\"label\":\"\",\"weight\":1},{\"from\":\"North Port\",\"label\":\"\",\"weight\":1,\"to\":\"Port Charlotte\"},{\"label\":\"\",\"to\":\"Sarasota\",\"weight\":1,\"from\":\"North Port\"},{\"from\":\"Orlando\",\"weight\":1,\"label\":\"\",\"to\":\"Alafaya\"},{\"to\":\"Pine Hills\",\"label\":\"\",\"weight\":1,\"from\":\"Orlando\"},{\"label\":\"\",\"weight\":1,\"from\":\"Palm Bay\",\"to\":\"Melbourne\"},{\"to\":\"Port Saint Lucie\",\"label\":\"\",\"weight\":1,\"from\":\"Palm Bay\"},{\"label\":\"\",\"to\":\"Clearwater\",\"weight\":1,\"from\":\"Palm Harbor\"},{\"label\":\"\",\"from\":\"Pembroke Pines\",\"weight\":1,\"to\":\"Davie\"},{\"from\":\"Pembroke Pines\",\"to\":\"Miramar\",\"label\":\"\",\"weight\":1},{\"from\":\"Pembroke Pines\",\"weight\":1,\"label\":\"\",\"to\":\"Weston\"},{\"weight\":1,\"from\":\"Pine Hills\",\"label\":\"\",\"to\":\"Horizon West\"},{\"to\":\"Davie\",\"label\":\"\",\"from\":\"Plantation\",\"weight\":1},{\"to\":\"Sunrise\",\"weight\":1,\"label\":\"\",\"from\":\"Plantation\"},{\"label\":\"\",\"from\":\"Poinciana\",\"weight\":1,\"to\":\"Kissimmee\"},{\"weight\":1,\"from\":\"Poinciana\",\"to\":\"Lakeland\",\"label\":\"\"},{\"from\":\"Pompano Beach\",\"to\":\"Coconut Creek\",\"weight\":1,\"label\":\"\"},{\"label\":\"\",\"from\":\"Port Orange\",\"to\":\"Deltona\",\"weight\":1},{\"weight\":1,\"from\":\"Riverview\",\"to\":\"Brandon\",\"label\":\"\"},{\"from\":\"Saint Petersburg\",\"to\":\"Bradenton\",\"label\":\"\",\"weight\":1},{\"to\":\"Pinellas Park\",\"from\":\"Saint Petersburg\",\"label\":\"\",\"weight\":1},{\"weight\":1,\"from\":\"Sanford\",\"label\":\"\",\"to\":\"Apopka\"},{\"weight\":1,\"to\":\"Deltona\",\"label\":\"\",\"from\":\"Sanford\"},{\"label\":\"\",\"weight\":1,\"to\":\"Wesley Chapel\",\"from\":\"Spring Hill\"},{\"weight\":1,\"from\":\"Sunrise\",\"label\":\"\",\"to\":\"Tamarac\"},{\"label\":\"\",\"weight\":1,\"to\":\"Pensacola\",\"from\":\"Tallahassee\"},{\"label\":\"\",\"to\":\"Apopka\",\"weight\":1,\"from\":\"The Villages\"},{\"from\":\"The Villages\",\"weight\":1,\"label\":\"\",\"to\":\"Ocala\"},{\"label\":\"\",\"to\":\"Clearwater\",\"weight\":1,\"from\":\"Town 'n' Country\"},{\"to\":\"Tampa\",\"weight\":1,\"from\":\"Town 'n' Country\",\"label\":\"\"},{\"to\":\"West Palm Beach\",\"weight\":1,\"label\":\"\",\"from\":\"Wellington\"},{\"label\":\"\",\"to\":\"Boynton Beach\",\"from\":\"West Palm Beach\",\"weight\":1},{\"from\":\"West Palm Beach\",\"weight\":1,\"label\":\"\",\"to\":\"Palm Beach Gardens\"}];\n\nconst vertexCoordinates = {\"Lakeland\":{\"x\":-81.9536823,\"y\":28.0559644},\"Palm Harbor\":{\"x\":-82.7575459,\"y\":28.0847433},\"Homestead\":{\"x\":-80.4457729,\"y\":25.4673459},\"The Hammocks\":{\"y\":25.6703538,\"x\":-80.4488333},\"Palm Bay\":{\"y\":27.9856237,\"x\":-80.6626214},\"Daytona Beach\":{\"x\":-81.0881451,\"y\":29.1973282},\"Jacksonville\":{\"x\":-81.6613021,\"y\":30.3370193},\"Fort Myers\":{\"y\":26.61901,\"x\":-81.8319561},\"Miami Gardens\":{\"x\":-80.2435855,\"y\":25.948892},\"West Palm Beach\":{\"y\":26.709992,\"x\":-80.064373},\"Largo\":{\"y\":27.9063894,\"x\":-82.7714657},\"Port Charlotte\":{\"y\":26.9894666,\"x\":-82.1136511},\"Port Saint Lucie\":{\"x\":-80.3837622,\"y\":27.2809508},\"Tallahassee\":{\"y\":30.4551091,\"x\":-84.2534191},\"North Miami\":{\"y\":25.9010636,\"x\":-80.1684579},\"Pembroke Pines\":{\"y\":26.0212389,\"x\":-80.3403962},\"Coral Springs\":{\"y\":26.2707826,\"x\":-80.2592915},\"Weston\":{\"x\":-80.402222,\"y\":26.1004072},\"Boca Raton\":{\"y\":26.3728553,\"x\":-80.1062924},\"Kissimmee\":{\"y\":28.3028538,\"x\":-81.4178523},\"Tamarac\":{\"y\":26.203932000000002,\"x\":-80.2553046},\"Saint Petersburg\":{\"y\":27.7619755,\"x\":-82.644055},\"Miami\":{\"x\":-80.2086152,\"y\":25.775163},\"Delray Beach\":{\"x\":-80.0904783,\"y\":26.4568423},\"Deerfield Beach\":{\"y\":26.3117134,\"x\":-80.1254222},\"Town 'n' Country\":{\"y\":28.0102276,\"x\":-82.5771669},\"The Villages\":{\"y\":28.8985528,\"x\":-81.9940256},\"Deltona\":{\"y\":28.9051205,\"x\":-81.2109776},\"Poinciana\":{\"y\":28.1187292,\"x\":-81.479234},\"Boynton Beach\":{\"x\":-80.0807345,\"y\":26.5283266},\"Orlando\":{\"y\":28.533513,\"x\":-81.375789},\"Alafaya\":{\"x\":-81.1857451,\"y\":28.5283727},\"Cape Coral\":{\"y\":26.6431192,\"x\":-81.9973306},\"Port Orange\":{\"x\":-81.0132318,\"y\":29.1134882},\"Tamiami\":{\"x\":-80.4025592,\"y\":25.7563211},\"Palm Coast\":{\"x\":-81.2510616,\"y\":29.5405598},\"Lehigh Acres\":{\"x\":-81.6388451,\"y\":26.6126953},\"Margate\":{\"y\":26.2480374,\"x\":-80.211169},\"Miramar\":{\"x\":-80.282489,\"y\":25.978812},\"Sanford\":{\"y\":28.7894252,\"x\":-81.275624},\"Davie\":{\"x\":-80.2850284,\"y\":26.0791425},\"Clearwater\":{\"x\":-82.7662648,\"y\":27.9794747},\"North Port\":{\"x\":-82.1980437,\"y\":27.0581655},\"Jupiter\":{\"x\":-80.1101013,\"y\":26.9214804},\"Gainesville\":{\"x\":-82.345878,\"y\":29.6788314},\"Kendale Lakes\":{\"x\":-80.409257,\"y\":25.7075595},\"Carol City\":{\"x\":-80.26992,\"y\":25.942121},\"Sarasota\":{\"x\":-82.545766,\"y\":27.3382563},\"Plantation\":{\"x\":-80.2618132,\"y\":26.1256114},\"Kendall\":{\"y\":25.669538,\"x\":-80.3547406},\"Pinellas Park\":{\"x\":-82.7082134,\"y\":27.8588826},\"Pompano Beach\":{\"x\":-80.1289961,\"y\":26.242623},\"Westchester\":{\"y\":25.7470327,\"x\":-80.336682},\"Saint Cloud\":{\"x\":-81.2852283,\"y\":28.2305837},\"Bonita Springs\":{\"x\":-81.7869289,\"y\":26.357498},\"Brandon\":{\"y\":27.9359851,\"x\":-82.2992552},\"Tampa\":{\"x\":-82.4796734,\"y\":27.9700861},\"Wellington\":{\"y\":26.6471144,\"x\":-80.2743762},\"Hollywood\":{\"y\":26.0311054,\"x\":-80.1645743},\"Hialeah\":{\"x\":-80.302865,\"y\":25.8699408},\"Pine Hills\":{\"x\":-81.4695358,\"y\":28.5818015},\"Riverview\":{\"x\":-82.3045907,\"y\":27.8251606},\"Fort Lauderdale\":{\"x\":-80.143896,\"y\":26.141305},\"Palm Beach Gardens\":{\"x\":-80.1671239,\"y\":26.848788},\"Sunrise\":{\"x\":-80.259542,\"y\":26.1700772},\"Doral\":{\"y\":25.8151765,\"x\":-80.3579892},\"Fountainbleau\":{\"y\":25.7743113,\"x\":-80.3494448},\"Lauderhill\":{\"y\":26.161065,\"x\":-80.2236959},\"Melbourne\":{\"y\":28.1163261,\"x\":-80.6457133},\"Horizon West\":{\"y\":28.4402198,\"x\":-81.6134493},\"Bradenton\":{\"x\":-82.5748617,\"y\":27.4909209},\"Miami Beach\":{\"y\":25.8152651,\"x\":-80.1397207},\"Spring Hill\":{\"x\":-82.5296584,\"y\":28.479207},\"Wesley Chapel\":{\"y\":28.204452,\"x\":-82.3267097},\"Coconut Creek\":{\"y\":26.2790785,\"x\":-80.1846979},\"Ocala\":{\"y\":29.1803143,\"x\":-82.1487866},\"Pensacola\":{\"x\":-87.1899433,\"y\":30.4412661},\"Apopka\":{\"y\":28.7037531,\"x\":-81.5309734}};\n\nconst highlightSpecs = {};\n\nconst links = edges.map(e => ({\n  source: e.from,\n  target: e.to,\n  weight: e.weight,\n  label: e.label\n}));\n\nconst nodes = Object.keys(vertexCoordinates).map(key => ({\n  id: key,\n  x: vertexCoordinates[key].x,\n  y: vertexCoordinates[key].y\n}));\n\nvar xMin = Math.min.apply(Math, nodes.map(function(o) { return o.x; }))\nvar xMax = Math.max.apply(Math, nodes.map(function(o) { return o.x; }))\n\nvar yMin = Math.min.apply(Math, nodes.map(function(o) { return o.y; }))\nvar yMax = Math.max.apply(Math, nodes.map(function(o) { return o.y; }))\n\n// X scale and Axis\nvar xScale = d3.scaleLinear()\n    .domain([xMin, xMax])\n    .range([0, width]);\n\n// Y scale and Axis\nvar yScale = d3.scaleLinear()\n    .domain([yMin, yMax])\n    .range([height, 0]);\n\nnodes.forEach(node => {\n  node.x = xScale(node.x);\n  node.y = yScale(node.y);\n});\n\nconst link = svg.append(\"g\")\n    .attr(\"class\", \"links\")\n  .selectAll(\"line\")\n  .data(links)\n  .enter().append(\"line\")\n    .attr(\"class\", \"link\")\n    .attr(\"stroke\", d => {\n        for (const [color, items] of Object.entries(highlightSpecs)) {\n            if (items.some(item => Array.isArray(item) && item[0] === d.source && item[1] === d.target)) {\n                return color;\n            }\n        }\n        return \"SteelBlue\";\n    })\n    .attr(\"stroke-width\", 3)\n    .attr(\"x1\", d => nodes.find(n => n.id === d.source).x)\n    .attr(\"y1\", d => nodes.find(n => n.id === d.source).y)\n    .attr(\"x2\", d => nodes.find(n => n.id === d.target).x)\n    .attr(\"y2\", d => nodes.find(n => n.id === d.target).y);\n\nconst node = svg.append(\"g\")\n    .attr(\"class\", \"nodes\")\n  .selectAll(\"circle\")\n  .data(nodes)\n  .enter().append(\"circle\")\n    .attr(\"class\", \"node\")\n    .attr(\"r\", 4)\n    .attr(\"cx\", d => d.x)\n    .attr(\"cy\", d => d.y)\n    .attr(\"stroke\", d => {\n       for (const [color, items] of Object.entries(highlightSpecs)) {\n         if (items.includes(d.id)) {\n            return color;\n         }\n       }\n       return \"SteelBlue\";\n    })\n    .attr(\"fill\", d => {\n       for (const [color, items] of Object.entries(highlightSpecs)) {\n         if (items.includes(d.id)) {\n            return color;\n         }\n       }\n       return \"SteelBlue\";\n    })\n    .call(d3.drag()\n      .on(\"start\", dragstarted)\n      .on(\"drag\", dragged)\n      .on(\"end\", dragended));\n\n\nnode.append(\"title\")\n    .text(d => d.id);\n\nconst nodeLabel = svg.append(\"g\")\n    .attr(\"class\", \"node-labels\")\n  .selectAll(\"text\")\n  .data(nodes)\n  .enter().append(\"text\")\n    .attr(\"class\", \"node-label\")\n    .style(\"font-size\", 9)\n    .attr(\"font-family\", \"Courier New\")\n    .attr(\"font-weight\", 100)\n    .attr(\"dy\", -10)\n    .attr(\"x\", d => d.x)\n    .attr(\"y\", d => d.y)\n    .attr('fill', \"Silver\")\n    .attr('stroke', \"Silver\")\n    .text(d => d.id);\n\nconst linkLabel = svg.append(\"g\")\n    .attr(\"class\", \"link-labels\")\n  .selectAll(\"text\")\n  .data(links)\n  .enter().append(\"text\")\n    .filter(d => d.label !== \"\")\n    .attr(\"class\", \"link-label\")\n    .style(\"font-size\", 9)\n    .attr(\"font-family\", \"Courier New\")\n    .attr('fill', \"Silver\")\n    .attr('stroke', \"Silver\")\n    .attr(\"font-weight\", 100)\n    .attr(\"dy\", -10)\n    .attr(\"x\", d => xScale((vertexCoordinates[d.source].x + vertexCoordinates[d.target].x) / 2))\n    .attr(\"y\", d => yScale((vertexCoordinates[d.source].y + vertexCoordinates[d.target].y) / 2))\n    .text(d => d.label);\n\nfunction dragstarted(event, d) {\n  d3.select(this).raise().attr(\"stroke\", \"SteelBlue\");\n}\n\nfunction dragged(event, d) {\n  d.x = event.x;\n  d.y = event.y;\n  d3.select(this).attr(\"cx\", d.x).attr(\"cy\", d.y);\n  link\n    .attr(\"x1\", l => nodes.find(n => n.id === l.source).x)\n    .attr(\"y1\", l => nodes.find(n => n.id === l.source).y)\n    .attr(\"x2\", l => nodes.find(n => n.id === l.target).x)\n    .attr(\"y2\", l => nodes.find(n => n.id === l.target).y);\n}\n\nfunction dragended(event, d) {\n  d3.select(this).attr(\"stroke\", null);\n}\n\n}) })(element);\n"
     },
     "execution_count": 20,
     "metadata": {},
     "output_type": "execute_result"
    }
   ],
   "source": [
    "#% js\n",
    "$stree.edges\n",
    "==> js-d3-graph-plot(\n",
    "    vertex-coordinates => %coords.nodemap(*.reverse)».List.Hash,\n",
    "    width => 700,\n",
    "    height => 1000,\n",
    "    :$background, :$title-color, :$edge-thickness, \n",
    "    vertex-size => 4,\n",
    "    vertex-label-font-size => 9,\n",
    "    margins => {right => 200}\n",
    "    )"
   ]
  },
  {
   "cell_type": "markdown",
   "metadata": {},
   "source": [
    "--------\n",
    "\n",
    "## Africa routes"
   ]
  },
  {
   "cell_type": "code",
   "execution_count": 21,
   "metadata": {},
   "outputs": [
    {
     "data": {
      "text/plain": [
       "Vector(Struct([from, to, weight], [Str, Str, Int]), 109)"
      ]
     },
     "execution_count": 21,
     "metadata": {},
     "output_type": "execute_result"
    }
   ],
   "source": [
    "my @africaEdges = %('from'=>'Algeria','to'=>'Libya','weight'=>1),%('from'=>'Algeria','to'=>'Mali','weight'=>1),%('from'=>'Algeria','to'=>'Mauritania','weight'=>1),%('from'=>'Algeria','to'=>'Morocco','weight'=>1),%('from'=>'Algeria','to'=>'Niger','weight'=>1),%('from'=>'Algeria','to'=>'Tunisia','weight'=>1),%('from'=>'Algeria','to'=>'WesternSahara','weight'=>1),%('from'=>'Libya','to'=>'Niger','weight'=>1),%('from'=>'Libya','to'=>'Tunisia','weight'=>1),%('from'=>'Libya','to'=>'Chad','weight'=>1),%('from'=>'Libya','to'=>'Egypt','weight'=>1),%('from'=>'Libya','to'=>'Sudan','weight'=>1),%('from'=>'Mali','to'=>'Mauritania','weight'=>1),%('from'=>'Mali','to'=>'Niger','weight'=>1),%('from'=>'Mali','to'=>'BurkinaFaso','weight'=>1),%('from'=>'Mali','to'=>'Guinea','weight'=>1),%('from'=>'Mali','to'=>'IvoryCoast','weight'=>1),%('from'=>'Mali','to'=>'Senegal','weight'=>1),%('from'=>'Mauritania','to'=>'WesternSahara','weight'=>1),%('from'=>'Mauritania','to'=>'Senegal','weight'=>1),%('from'=>'Morocco','to'=>'WesternSahara','weight'=>1),%('from'=>'Niger','to'=>'Chad','weight'=>1),%('from'=>'Niger','to'=>'BurkinaFaso','weight'=>1),%('from'=>'Niger','to'=>'Benin','weight'=>1),%('from'=>'Niger','to'=>'Nigeria','weight'=>1),%('from'=>'Chad','to'=>'Sudan','weight'=>1),%('from'=>'Chad','to'=>'Nigeria','weight'=>1),%('from'=>'Chad','to'=>'Cameroon','weight'=>1),%('from'=>'Chad','to'=>'CentralAfricanRepublic','weight'=>1),%('from'=>'Egypt','to'=>'Sudan','weight'=>1),%('from'=>'Sudan','to'=>'CentralAfricanRepublic','weight'=>1),%('from'=>'Sudan','to'=>'Eritrea','weight'=>1),%('from'=>'Sudan','to'=>'Ethiopia','weight'=>1),%('from'=>'Sudan','to'=>'SouthSudan','weight'=>1),%('from'=>'BurkinaFaso','to'=>'IvoryCoast','weight'=>1),%('from'=>'BurkinaFaso','to'=>'Benin','weight'=>1),%('from'=>'BurkinaFaso','to'=>'Ghana','weight'=>1),%('from'=>'BurkinaFaso','to'=>'Togo','weight'=>1),%('from'=>'Guinea','to'=>'IvoryCoast','weight'=>1),%('from'=>'Guinea','to'=>'Senegal','weight'=>1),%('from'=>'Guinea','to'=>'GuineaBissau','weight'=>1),%('from'=>'Guinea','to'=>'Liberia','weight'=>1),%('from'=>'Guinea','to'=>'SierraLeone','weight'=>1),%('from'=>'IvoryCoast','to'=>'Ghana','weight'=>1),%('from'=>'IvoryCoast','to'=>'Liberia','weight'=>1),%('from'=>'Senegal','to'=>'GuineaBissau','weight'=>1),%('from'=>'Senegal','to'=>'Gambia','weight'=>1),%('from'=>'Benin','to'=>'Nigeria','weight'=>1),%('from'=>'Benin','to'=>'Togo','weight'=>1),%('from'=>'Nigeria','to'=>'Cameroon','weight'=>1),%('from'=>'Cameroon','to'=>'CentralAfricanRepublic','weight'=>1),%('from'=>'Cameroon','to'=>'EquatorialGuinea','weight'=>1),%('from'=>'Cameroon','to'=>'Gabon','weight'=>1),%('from'=>'Cameroon','to'=>'RepublicCongo','weight'=>1),%('from'=>'CentralAfricanRepublic','to'=>'SouthSudan','weight'=>1),%('from'=>'CentralAfricanRepublic','to'=>'RepublicCongo','weight'=>1),%('from'=>'CentralAfricanRepublic','to'=>'DemocraticRepublicCongo','weight'=>1),%('from'=>'Eritrea','to'=>'Ethiopia','weight'=>1),%('from'=>'Eritrea','to'=>'SouthSudan','weight'=>1),%('from'=>'Eritrea','to'=>'Djibouti','weight'=>1),%('from'=>'Ethiopia','to'=>'SouthSudan','weight'=>1),%('from'=>'Ethiopia','to'=>'Djibouti','weight'=>1),%('from'=>'Ethiopia','to'=>'Kenya','weight'=>1),%('from'=>'Ethiopia','to'=>'Somalia','weight'=>1),%('from'=>'SouthSudan','to'=>'DemocraticRepublicCongo','weight'=>1),%('from'=>'SouthSudan','to'=>'Kenya','weight'=>1),%('from'=>'SouthSudan','to'=>'Uganda','weight'=>1),%('from'=>'Ghana','to'=>'Togo','weight'=>1),%('from'=>'Liberia','to'=>'SierraLeone','weight'=>1),%('from'=>'EquatorialGuinea','to'=>'Gabon','weight'=>1),%('from'=>'Gabon','to'=>'RepublicCongo','weight'=>1),%('from'=>'RepublicCongo','to'=>'DemocraticRepublicCongo','weight'=>1),%('from'=>'RepublicCongo','to'=>'Angola','weight'=>1),%('from'=>'DemocraticRepublicCongo','to'=>'Uganda','weight'=>1),%('from'=>'DemocraticRepublicCongo','to'=>'Angola','weight'=>1),%('from'=>'DemocraticRepublicCongo','to'=>'Burundi','weight'=>1),%('from'=>'DemocraticRepublicCongo','to'=>'Rwanda','weight'=>1),%('from'=>'DemocraticRepublicCongo','to'=>'Tanzania','weight'=>1),%('from'=>'DemocraticRepublicCongo','to'=>'Zambia','weight'=>1),%('from'=>'Djibouti','to'=>'Somalia','weight'=>1),%('from'=>'Kenya','to'=>'Somalia','weight'=>1),%('from'=>'Kenya','to'=>'Uganda','weight'=>1),%('from'=>'Kenya','to'=>'Tanzania','weight'=>1),%('from'=>'Uganda','to'=>'Rwanda','weight'=>1),%('from'=>'Uganda','to'=>'Tanzania','weight'=>1),%('from'=>'Angola','to'=>'Zambia','weight'=>1),%('from'=>'Angola','to'=>'Namibia','weight'=>1),%('from'=>'Burundi','to'=>'Rwanda','weight'=>1),%('from'=>'Burundi','to'=>'Tanzania','weight'=>1),%('from'=>'Rwanda','to'=>'Tanzania','weight'=>1),%('from'=>'Tanzania','to'=>'Zambia','weight'=>1),%('from'=>'Tanzania','to'=>'Malawi','weight'=>1),%('from'=>'Tanzania','to'=>'Mozambique','weight'=>1),%('from'=>'Zambia','to'=>'Namibia','weight'=>1),%('from'=>'Zambia','to'=>'Malawi','weight'=>1),%('from'=>'Zambia','to'=>'Mozambique','weight'=>1),%('from'=>'Zambia','to'=>'Botswana','weight'=>1),%('from'=>'Zambia','to'=>'Zimbabwe','weight'=>1),%('from'=>'Namibia','to'=>'Botswana','weight'=>1),%('from'=>'Namibia','to'=>'SouthAfrica','weight'=>1),%('from'=>'Malawi','to'=>'Mozambique','weight'=>1),%('from'=>'Mozambique','to'=>'Zimbabwe','weight'=>1),%('from'=>'Mozambique','to'=>'SouthAfrica','weight'=>1),%('from'=>'Mozambique','to'=>'Swaziland','weight'=>1),%('from'=>'Botswana','to'=>'Zimbabwe','weight'=>1),%('from'=>'Botswana','to'=>'SouthAfrica','weight'=>1),%('from'=>'Zimbabwe','to'=>'SouthAfrica','weight'=>1),%('from'=>'SouthAfrica','to'=>'Swaziland','weight'=>1),%('from'=>'SouthAfrica','to'=>'Lesotho','weight'=>1);\n",
    "\n",
    "deduce-type(@africaEdges)"
   ]
  },
  {
   "cell_type": "code",
   "execution_count": 22,
   "metadata": {},
   "outputs": [
    {
     "name": "stdout",
     "output_type": "stream",
     "text": [
      "+---------------------+-------------------------------+-------------+\n",
      "| to                  | from                          | weight      |\n",
      "+---------------------+-------------------------------+-------------+\n",
      "| Tanzania      => 5  | Algeria                 => 7  | Min    => 1 |\n",
      "| SouthSudan    => 4  | Mali                    => 6  | 1st-Qu => 1 |\n",
      "| SouthAfrica   => 4  | DemocraticRepublicCongo => 6  | Mean   => 1 |\n",
      "| Mozambique    => 3  | Guinea                  => 5  | Median => 1 |\n",
      "| Senegal       => 3  | Zambia                  => 5  | 3rd-Qu => 1 |\n",
      "| RepublicCongo => 3  | Libya                   => 5  | Max    => 1 |\n",
      "| WesternSahara => 3  | Niger                   => 4  |             |\n",
      "| (Other)       => 84 | (Other)                 => 71 |             |\n",
      "+---------------------+-------------------------------+-------------+\n"
     ]
    }
   ],
   "source": [
    "sink records-summary(@africaEdges)"
   ]
  },
  {
   "cell_type": "code",
   "execution_count": 23,
   "metadata": {},
   "outputs": [
    {
     "data": {
      "text/plain": [
       "Assoc(Atom((Str)), Vector(Atom((Rat)), 2), 49)"
      ]
     },
     "execution_count": 23,
     "metadata": {},
     "output_type": "execute_result"
    }
   ],
   "source": [
    "my %africaCoords = 'Algeria'=>[3.0,28.0],'Libya'=>[17.0,25.0],'Mali'=>[-4.0,17.0],'Mauritania'=>[-12.0,20.0],'Morocco'=>[-5.0,32.0],'Niger'=>[8.0,16.0],'Tunisia'=>[9.0,34.0],'WesternSahara'=>[-13.0,24.5],'Chad'=>[19.0,15.0],'Egypt'=>[30.0,27.0],'Sudan'=>[30.0,13.8],'BurkinaFaso'=>[-2.0,13.0],'Guinea'=>[-10.0,11.0],'IvoryCoast'=>[-5.0,8.0],'Senegal'=>[-14.0,14.0],'Benin'=>[2.25,9.5],'Nigeria'=>[8.0,10.0],'Cameroon'=>[12.0,6.0],'CentralAfricanRepublic'=>[21.0,7.0],'Eritrea'=>[39.0,15.0],'Ethiopia'=>[38.0,8.0],'SouthSudan'=>[30.51,6.7],'Ghana'=>[-2.0,8.0],'Togo'=>[1.1667,8.0],'GuineaBissau'=>[-15.0,12.0],'Liberia'=>[-9.5,6.5],'SierraLeone'=>[-11.5,8.5],'Gambia'=>[-16.5667,13.4667],'EquatorialGuinea'=>[10.0,2.0],'Gabon'=>[11.75,-1.0],'RepublicCongo'=>[15.0,-1.0],'DemocraticRepublicCongo'=>[25.0,0.0],'Djibouti'=>[43.0,11.5],'Kenya'=>[38.0,1.0],'Somalia'=>[49.0,10.0],'Uganda'=>[32.0,1.0],'Angola'=>[18.5,-12.5],'Burundi'=>[30.0,-3.5],'Rwanda'=>[30.0,-2.0],'Tanzania'=>[35.0,-6.0],'Zambia'=>[30.0,-15.0],'Namibia'=>[17.0,-22.0],'Malawi'=>[34.0,-13.5],'Mozambique'=>[35.0,-18.25],'Botswana'=>[24.0,-22.0],'Zimbabwe'=>[30.0,-20.0],'SouthAfrica'=>[24.0,-29.0],'Swaziland'=>[31.5,-26.5],'Lesotho'=>[28.5,-29.5];\n",
    "%africaCoords .= deepmap(*.Numeric);\n",
    "deduce-type(%africaCoords)"
   ]
  },
  {
   "cell_type": "code",
   "execution_count": 24,
   "metadata": {},
   "outputs": [
    {
     "name": "stdout",
     "output_type": "stream",
     "text": [
      "+---------------------+---------------------+\n",
      "| 1                   | 0                   |\n",
      "+---------------------+---------------------+\n",
      "| Min    => -29.5     | Min    => -16.5667  |\n",
      "| 1st-Qu => -2.75     | 1st-Qu => -2        |\n",
      "| Mean   => 4.5044224 | Mean   => 15.094082 |\n",
      "| Median => 8         | Median => 17        |\n",
      "| 3rd-Qu => 13.9      | 3rd-Qu => 30        |\n",
      "| Max    => 34        | Max    => 49        |\n",
      "+---------------------+---------------------+\n"
     ]
    }
   ],
   "source": [
    "sink records-summary(%africaCoords.values)"
   ]
  },
  {
   "cell_type": "code",
   "execution_count": 25,
   "metadata": {},
   "outputs": [
    {
     "data": {
      "text/plain": [
       "Graph(vertexes => 49, edges => 109, directed => False)"
      ]
     },
     "execution_count": 25,
     "metadata": {},
     "output_type": "execute_result"
    }
   ],
   "source": [
    "my $africaGraph = Graph.new(@africaEdges);"
   ]
  },
  {
   "cell_type": "code",
   "execution_count": 26,
   "metadata": {},
   "outputs": [
    {
     "data": {
      "text/plain": [
       "Graph(vertexes => 49, edges => 48, directed => False)"
      ]
     },
     "execution_count": 26,
     "metadata": {},
     "output_type": "execute_result"
    }
   ],
   "source": [
    "my $africanTree = $africaGraph.find-spanning-tree"
   ]
  },
  {
   "cell_type": "code",
   "execution_count": 27,
   "metadata": {},
   "outputs": [
    {
     "data": {
      "application/javascript": "(function(element) { require(['d3'], function(d3) {\n\n// set the dimensions and margins of the graph\nvar margin = {\"bottom\":40,\"top\":40,\"left\":40,\"right\":40},\n    width = 600 - margin.left - margin.right,\n    height = 600 - margin.top - margin.bottom;\n\n// append the svg object to the body of the page\nvar svg = d3\n   .select(element.get(0))\n  .append(\"svg\")\n    .attr(\"width\", width + margin.left + margin.right)\n    .attr(\"height\", height + margin.top + margin.bottom)\n    .style(\"background\", \"1F1F1F\")\n  .append(\"g\")\n    .attr(\"transform\",\n          \"translate(\" + margin.left + \",\" + margin.top + \")\")\n\n// Obtain title\nvar title = \"\"\nvar titleFontSize = 16\n\nif ( title.length > 0 ) {\n    svg.append(\"text\")\n        .attr(\"x\", (width / 2))\n        .attr(\"y\", 0 - (margin.top / 2))\n        .attr(\"text-anchor\", \"middle\")\n        .style(\"font-size\", titleFontSize.toString() + \"px\")\n        .style(\"fill\", \"Silver\")\n        .text(title);\n}\n\nconst edges = [{\"weight\":1,\"label\":\"\",\"from\":\"Algeria\",\"to\":\"Niger\"},{\"weight\":1,\"from\":\"Algeria\",\"to\":\"Tunisia\",\"label\":\"\"},{\"label\":\"\",\"from\":\"Angola\",\"to\":\"DemocraticRepublicCongo\",\"weight\":1},{\"to\":\"Namibia\",\"weight\":1,\"from\":\"Angola\",\"label\":\"\"},{\"to\":\"Niger\",\"from\":\"Benin\",\"weight\":1,\"label\":\"\"},{\"label\":\"\",\"weight\":1,\"from\":\"Botswana\",\"to\":\"Namibia\"},{\"weight\":1,\"label\":\"\",\"to\":\"SouthAfrica\",\"from\":\"Botswana\"},{\"weight\":1,\"label\":\"\",\"to\":\"Zimbabwe\",\"from\":\"Botswana\"},{\"weight\":1,\"to\":\"Benin\",\"from\":\"BurkinaFaso\",\"label\":\"\"},{\"from\":\"BurkinaFaso\",\"to\":\"IvoryCoast\",\"weight\":1,\"label\":\"\"},{\"to\":\"Niger\",\"weight\":1,\"label\":\"\",\"from\":\"BurkinaFaso\"},{\"label\":\"\",\"from\":\"Burundi\",\"to\":\"DemocraticRepublicCongo\",\"weight\":1},{\"weight\":1,\"to\":\"Rwanda\",\"label\":\"\",\"from\":\"Burundi\"},{\"weight\":1,\"label\":\"\",\"from\":\"Burundi\",\"to\":\"Tanzania\"},{\"weight\":1,\"to\":\"CentralAfricanRepublic\",\"from\":\"Cameroon\",\"label\":\"\"},{\"label\":\"\",\"from\":\"Cameroon\",\"weight\":1,\"to\":\"Chad\"},{\"label\":\"\",\"from\":\"Cameroon\",\"to\":\"EquatorialGuinea\",\"weight\":1},{\"weight\":1,\"from\":\"Cameroon\",\"label\":\"\",\"to\":\"Gabon\"},{\"label\":\"\",\"from\":\"Cameroon\",\"to\":\"Nigeria\",\"weight\":1},{\"weight\":1,\"label\":\"\",\"to\":\"CentralAfricanRepublic\",\"from\":\"Chad\"},{\"label\":\"\",\"to\":\"Niger\",\"from\":\"Chad\",\"weight\":1},{\"label\":\"\",\"from\":\"Chad\",\"to\":\"Nigeria\",\"weight\":1},{\"from\":\"Chad\",\"to\":\"Sudan\",\"label\":\"\",\"weight\":1},{\"label\":\"\",\"to\":\"CentralAfricanRepublic\",\"from\":\"DemocraticRepublicCongo\",\"weight\":1},{\"to\":\"Rwanda\",\"from\":\"DemocraticRepublicCongo\",\"label\":\"\",\"weight\":1},{\"to\":\"SouthSudan\",\"from\":\"DemocraticRepublicCongo\",\"weight\":1,\"label\":\"\"},{\"label\":\"\",\"weight\":1,\"to\":\"Uganda\",\"from\":\"DemocraticRepublicCongo\"},{\"from\":\"Egypt\",\"weight\":1,\"label\":\"\",\"to\":\"Sudan\"},{\"weight\":1,\"to\":\"Gabon\",\"from\":\"EquatorialGuinea\",\"label\":\"\"},{\"label\":\"\",\"weight\":1,\"from\":\"Eritrea\",\"to\":\"Djibouti\"},{\"to\":\"Ethiopia\",\"from\":\"Eritrea\",\"label\":\"\",\"weight\":1},{\"weight\":1,\"label\":\"\",\"to\":\"SouthSudan\",\"from\":\"Eritrea\"},{\"weight\":1,\"from\":\"Eritrea\",\"label\":\"\",\"to\":\"Sudan\"},{\"to\":\"Djibouti\",\"label\":\"\",\"from\":\"Ethiopia\",\"weight\":1},{\"label\":\"\",\"weight\":1,\"to\":\"Kenya\",\"from\":\"Ethiopia\"},{\"from\":\"Ethiopia\",\"label\":\"\",\"to\":\"SouthSudan\",\"weight\":1},{\"to\":\"Sudan\",\"weight\":1,\"from\":\"Ethiopia\",\"label\":\"\"},{\"label\":\"\",\"from\":\"Gambia\",\"weight\":1,\"to\":\"Senegal\"},{\"weight\":1,\"to\":\"BurkinaFaso\",\"from\":\"Ghana\",\"label\":\"\"},{\"from\":\"Ghana\",\"to\":\"IvoryCoast\",\"weight\":1,\"label\":\"\"},{\"from\":\"Ghana\",\"label\":\"\",\"weight\":1,\"to\":\"Togo\"},{\"label\":\"\",\"to\":\"IvoryCoast\",\"weight\":1,\"from\":\"Guinea\"},{\"label\":\"\",\"weight\":1,\"to\":\"Senegal\",\"from\":\"Guinea\"},{\"from\":\"Guinea\",\"to\":\"SierraLeone\",\"weight\":1,\"label\":\"\"},{\"weight\":1,\"to\":\"Guinea\",\"label\":\"\",\"from\":\"GuineaBissau\"},{\"label\":\"\",\"weight\":1,\"to\":\"Senegal\",\"from\":\"GuineaBissau\"},{\"weight\":1,\"to\":\"SouthAfrica\",\"label\":\"\",\"from\":\"Lesotho\"},{\"to\":\"Guinea\",\"label\":\"\",\"from\":\"Liberia\",\"weight\":1},{\"weight\":1,\"label\":\"\",\"from\":\"Liberia\",\"to\":\"IvoryCoast\"},{\"from\":\"Liberia\",\"to\":\"SierraLeone\",\"weight\":1,\"label\":\"\"},{\"from\":\"Libya\",\"label\":\"\",\"to\":\"Algeria\",\"weight\":1},{\"to\":\"Chad\",\"from\":\"Libya\",\"label\":\"\",\"weight\":1},{\"weight\":1,\"to\":\"Egypt\",\"from\":\"Libya\",\"label\":\"\"},{\"weight\":1,\"label\":\"\",\"from\":\"Libya\",\"to\":\"Niger\"},{\"from\":\"Libya\",\"label\":\"\",\"weight\":1,\"to\":\"Sudan\"},{\"weight\":1,\"from\":\"Libya\",\"label\":\"\",\"to\":\"Tunisia\"},{\"to\":\"Tanzania\",\"weight\":1,\"from\":\"Malawi\",\"label\":\"\"},{\"weight\":1,\"label\":\"\",\"from\":\"Mali\",\"to\":\"Algeria\"},{\"label\":\"\",\"to\":\"BurkinaFaso\",\"weight\":1,\"from\":\"Mali\"},{\"from\":\"Mali\",\"to\":\"Guinea\",\"label\":\"\",\"weight\":1},{\"label\":\"\",\"weight\":1,\"to\":\"IvoryCoast\",\"from\":\"Mali\"},{\"to\":\"Mauritania\",\"label\":\"\",\"from\":\"Mali\",\"weight\":1},{\"label\":\"\",\"weight\":1,\"from\":\"Mali\",\"to\":\"Niger\"},{\"weight\":1,\"to\":\"Senegal\",\"from\":\"Mali\",\"label\":\"\"},{\"weight\":1,\"from\":\"Mauritania\",\"to\":\"Algeria\",\"label\":\"\"},{\"weight\":1,\"to\":\"Senegal\",\"label\":\"\",\"from\":\"Mauritania\"},{\"to\":\"Algeria\",\"from\":\"Morocco\",\"label\":\"\",\"weight\":1},{\"from\":\"Mozambique\",\"label\":\"\",\"to\":\"Malawi\",\"weight\":1},{\"label\":\"\",\"to\":\"SouthAfrica\",\"weight\":1,\"from\":\"Mozambique\"},{\"to\":\"Swaziland\",\"weight\":1,\"from\":\"Mozambique\",\"label\":\"\"},{\"to\":\"Tanzania\",\"from\":\"Mozambique\",\"weight\":1,\"label\":\"\"},{\"label\":\"\",\"to\":\"Zambia\",\"weight\":1,\"from\":\"Mozambique\"},{\"weight\":1,\"to\":\"Zimbabwe\",\"label\":\"\",\"from\":\"Mozambique\"},{\"to\":\"SouthAfrica\",\"label\":\"\",\"weight\":1,\"from\":\"Namibia\"},{\"label\":\"\",\"to\":\"Benin\",\"weight\":1,\"from\":\"Nigeria\"},{\"weight\":1,\"to\":\"Niger\",\"label\":\"\",\"from\":\"Nigeria\"},{\"label\":\"\",\"weight\":1,\"to\":\"Angola\",\"from\":\"RepublicCongo\"},{\"label\":\"\",\"to\":\"Cameroon\",\"from\":\"RepublicCongo\",\"weight\":1},{\"from\":\"RepublicCongo\",\"label\":\"\",\"weight\":1,\"to\":\"CentralAfricanRepublic\"},{\"from\":\"RepublicCongo\",\"label\":\"\",\"to\":\"DemocraticRepublicCongo\",\"weight\":1},{\"from\":\"RepublicCongo\",\"weight\":1,\"to\":\"Gabon\",\"label\":\"\"},{\"label\":\"\",\"from\":\"Somalia\",\"weight\":1,\"to\":\"Djibouti\"},{\"weight\":1,\"label\":\"\",\"from\":\"Somalia\",\"to\":\"Ethiopia\"},{\"label\":\"\",\"weight\":1,\"from\":\"Somalia\",\"to\":\"Kenya\"},{\"label\":\"\",\"from\":\"SouthSudan\",\"weight\":1,\"to\":\"CentralAfricanRepublic\"},{\"to\":\"Kenya\",\"weight\":1,\"from\":\"SouthSudan\",\"label\":\"\"},{\"label\":\"\",\"from\":\"SouthSudan\",\"weight\":1,\"to\":\"Uganda\"},{\"weight\":1,\"label\":\"\",\"to\":\"CentralAfricanRepublic\",\"from\":\"Sudan\"},{\"weight\":1,\"to\":\"SouthSudan\",\"label\":\"\",\"from\":\"Sudan\"},{\"weight\":1,\"to\":\"SouthAfrica\",\"label\":\"\",\"from\":\"Swaziland\"},{\"from\":\"Tanzania\",\"weight\":1,\"label\":\"\",\"to\":\"DemocraticRepublicCongo\"},{\"from\":\"Tanzania\",\"weight\":1,\"label\":\"\",\"to\":\"Kenya\"},{\"weight\":1,\"to\":\"Rwanda\",\"label\":\"\",\"from\":\"Tanzania\"},{\"to\":\"Uganda\",\"weight\":1,\"from\":\"Tanzania\",\"label\":\"\"},{\"weight\":1,\"from\":\"Togo\",\"label\":\"\",\"to\":\"Benin\"},{\"from\":\"Togo\",\"label\":\"\",\"weight\":1,\"to\":\"BurkinaFaso\"},{\"to\":\"Kenya\",\"label\":\"\",\"from\":\"Uganda\",\"weight\":1},{\"from\":\"Uganda\",\"weight\":1,\"to\":\"Rwanda\",\"label\":\"\"},{\"weight\":1,\"label\":\"\",\"to\":\"Algeria\",\"from\":\"WesternSahara\"},{\"label\":\"\",\"to\":\"Mauritania\",\"from\":\"WesternSahara\",\"weight\":1},{\"to\":\"Morocco\",\"label\":\"\",\"from\":\"WesternSahara\",\"weight\":1},{\"from\":\"Zambia\",\"label\":\"\",\"to\":\"Angola\",\"weight\":1},{\"to\":\"Botswana\",\"label\":\"\",\"from\":\"Zambia\",\"weight\":1},{\"label\":\"\",\"from\":\"Zambia\",\"weight\":1,\"to\":\"DemocraticRepublicCongo\"},{\"to\":\"Malawi\",\"weight\":1,\"from\":\"Zambia\",\"label\":\"\"},{\"weight\":1,\"to\":\"Namibia\",\"label\":\"\",\"from\":\"Zambia\"},{\"weight\":1,\"label\":\"\",\"to\":\"Tanzania\",\"from\":\"Zambia\"},{\"label\":\"\",\"weight\":1,\"to\":\"Zimbabwe\",\"from\":\"Zambia\"},{\"from\":\"Zimbabwe\",\"weight\":1,\"label\":\"\",\"to\":\"SouthAfrica\"}];\n\nconst vertexCoordinates = {\"Djibouti\":{\"x\":43.0,\"y\":11.5},\"Chad\":{\"x\":19.0,\"y\":15.0},\"RepublicCongo\":{\"y\":-1.0,\"x\":15.0},\"Gambia\":{\"y\":13.4667,\"x\":-16.5667},\"Sudan\":{\"x\":30.0,\"y\":13.8},\"Mozambique\":{\"y\":-18.25,\"x\":35.0},\"Mauritania\":{\"y\":20.0,\"x\":-12.0},\"Swaziland\":{\"x\":31.5,\"y\":-26.5},\"Cameroon\":{\"x\":12.0,\"y\":6.0},\"GuineaBissau\":{\"x\":-15.0,\"y\":12.0},\"Egypt\":{\"y\":27.0,\"x\":30.0},\"Namibia\":{\"y\":-22.0,\"x\":17.0},\"Gabon\":{\"y\":-1.0,\"x\":11.75},\"Algeria\":{\"y\":28.0,\"x\":3.0},\"Niger\":{\"y\":16.0,\"x\":8.0},\"Ethiopia\":{\"y\":8.0,\"x\":38.0},\"Somalia\":{\"y\":10.0,\"x\":49.0},\"Botswana\":{\"y\":-22.0,\"x\":24.0},\"Mali\":{\"x\":-4.0,\"y\":17.0},\"Guinea\":{\"x\":-10.0,\"y\":11.0},\"Senegal\":{\"x\":-14.0,\"y\":14.0},\"Libya\":{\"x\":17.0,\"y\":25.0},\"Malawi\":{\"y\":-13.5,\"x\":34.0},\"DemocraticRepublicCongo\":{\"x\":25.0,\"y\":0.0},\"SouthAfrica\":{\"x\":24.0,\"y\":-29.0},\"Lesotho\":{\"y\":-29.5,\"x\":28.5},\"BurkinaFaso\":{\"y\":13.0,\"x\":-2.0},\"Liberia\":{\"y\":6.5,\"x\":-9.5},\"WesternSahara\":{\"y\":24.5,\"x\":-13.0},\"Eritrea\":{\"y\":15.0,\"x\":39.0},\"Tunisia\":{\"x\":9.0,\"y\":34.0},\"SouthSudan\":{\"y\":6.7,\"x\":30.51},\"EquatorialGuinea\":{\"y\":2.0,\"x\":10.0},\"Morocco\":{\"x\":-5.0,\"y\":32.0},\"Uganda\":{\"x\":32.0,\"y\":1.0},\"Kenya\":{\"x\":38.0,\"y\":1.0},\"Togo\":{\"x\":1.1667,\"y\":8.0},\"CentralAfricanRepublic\":{\"x\":21.0,\"y\":7.0},\"Burundi\":{\"x\":30.0,\"y\":-3.5},\"Zambia\":{\"y\":-15.0,\"x\":30.0},\"Ghana\":{\"x\":-2.0,\"y\":8.0},\"Benin\":{\"y\":9.5,\"x\":2.25},\"Nigeria\":{\"x\":8.0,\"y\":10.0},\"SierraLeone\":{\"x\":-11.5,\"y\":8.5},\"Angola\":{\"y\":-12.5,\"x\":18.5},\"Tanzania\":{\"x\":35.0,\"y\":-6.0},\"Rwanda\":{\"y\":-2.0,\"x\":30.0},\"IvoryCoast\":{\"x\":-5.0,\"y\":8.0},\"Zimbabwe\":{\"x\":30.0,\"y\":-20.0}};\n\nconst highlightSpecs = {\"Blue\":[\"Algeria\",\"Angola\",\"Benin\",\"Botswana\",\"BurkinaFaso\",\"Burundi\",\"Cameroon\",\"CentralAfricanRepublic\",\"Chad\",\"DemocraticRepublicCongo\",\"Djibouti\",\"Egypt\",\"EquatorialGuinea\",\"Eritrea\",\"Ethiopia\",\"Gabon\",\"Gambia\",\"Ghana\",\"Guinea\",\"GuineaBissau\",\"IvoryCoast\",\"Kenya\",\"Lesotho\",\"Liberia\",\"Libya\",\"Malawi\",\"Mali\",\"Mauritania\",\"Morocco\",\"Mozambique\",\"Namibia\",\"Niger\",\"Nigeria\",\"RepublicCongo\",\"Rwanda\",\"Senegal\",\"SierraLeone\",\"Somalia\",\"SouthAfrica\",\"SouthSudan\",\"Sudan\",\"Swaziland\",\"Tanzania\",\"Togo\",\"Tunisia\",\"Uganda\",\"WesternSahara\",\"Zambia\",\"Zimbabwe\",[\"Algeria\",\"Libya\"],[\"Algeria\",\"WesternSahara\"],[\"Angola\",\"RepublicCongo\"],[\"Cameroon\",\"Chad\"],[\"Cameroon\",\"EquatorialGuinea\"],[\"Cameroon\",\"RepublicCongo\"],[\"CentralAfricanRepublic\",\"RepublicCongo\"],[\"Chad\",\"Libya\"],[\"DemocraticRepublicCongo\",\"Burundi\"],[\"DemocraticRepublicCongo\",\"RepublicCongo\"],[\"Djibouti\",\"Somalia\"],[\"Egypt\",\"Libya\"],[\"Ethiopia\",\"Eritrea\"],[\"Ethiopia\",\"Somalia\"],[\"Gabon\",\"RepublicCongo\"],[\"Ghana\",\"BurkinaFaso\"],[\"Ghana\",\"Togo\"],[\"Guinea\",\"GuineaBissau\"],[\"IvoryCoast\",\"Ghana\"],[\"IvoryCoast\",\"Liberia\"],[\"Liberia\",\"Guinea\"],[\"Mali\",\"Algeria\"],[\"Mali\",\"Guinea\"],[\"Mali\",\"Mauritania\"],[\"Mozambique\",\"Malawi\"],[\"Mozambique\",\"SouthAfrica\"],[\"Mozambique\",\"Tanzania\"],[\"Namibia\",\"Zambia\"],[\"Niger\",\"Libya\"],[\"Nigeria\",\"Cameroon\"],[\"Rwanda\",\"Burundi\"],[\"Senegal\",\"Gambia\"],[\"Senegal\",\"GuineaBissau\"],[\"SierraLeone\",\"Liberia\"],[\"Somalia\",\"Kenya\"],[\"SouthAfrica\",\"Lesotho\"],[\"SouthSudan\",\"Eritrea\"],[\"Sudan\",\"Eritrea\"],[\"Sudan\",\"Libya\"],[\"Swaziland\",\"Mozambique\"],[\"Tanzania\",\"Burundi\"],[\"Tanzania\",\"Uganda\"],[\"Togo\",\"Benin\"],[\"Tunisia\",\"Libya\"],[\"WesternSahara\",\"Morocco\"],[\"Zambia\",\"Botswana\"],[\"Zambia\",\"Mozambique\"],[\"Zimbabwe\",\"Mozambique\"],[\"Libya\",\"Algeria\"],[\"WesternSahara\",\"Algeria\"],[\"RepublicCongo\",\"Angola\"],[\"Chad\",\"Cameroon\"],[\"EquatorialGuinea\",\"Cameroon\"],[\"RepublicCongo\",\"Cameroon\"],[\"RepublicCongo\",\"CentralAfricanRepublic\"],[\"Libya\",\"Chad\"],[\"Burundi\",\"DemocraticRepublicCongo\"],[\"RepublicCongo\",\"DemocraticRepublicCongo\"],[\"Somalia\",\"Djibouti\"],[\"Libya\",\"Egypt\"],[\"Eritrea\",\"Ethiopia\"],[\"Somalia\",\"Ethiopia\"],[\"RepublicCongo\",\"Gabon\"],[\"BurkinaFaso\",\"Ghana\"],[\"Togo\",\"Ghana\"],[\"GuineaBissau\",\"Guinea\"],[\"Ghana\",\"IvoryCoast\"],[\"Liberia\",\"IvoryCoast\"],[\"Guinea\",\"Liberia\"],[\"Algeria\",\"Mali\"],[\"Guinea\",\"Mali\"],[\"Mauritania\",\"Mali\"],[\"Malawi\",\"Mozambique\"],[\"SouthAfrica\",\"Mozambique\"],[\"Tanzania\",\"Mozambique\"],[\"Zambia\",\"Namibia\"],[\"Libya\",\"Niger\"],[\"Cameroon\",\"Nigeria\"],[\"Burundi\",\"Rwanda\"],[\"Gambia\",\"Senegal\"],[\"GuineaBissau\",\"Senegal\"],[\"Liberia\",\"SierraLeone\"],[\"Kenya\",\"Somalia\"],[\"Lesotho\",\"SouthAfrica\"],[\"Eritrea\",\"SouthSudan\"],[\"Eritrea\",\"Sudan\"],[\"Libya\",\"Sudan\"],[\"Mozambique\",\"Swaziland\"],[\"Burundi\",\"Tanzania\"],[\"Uganda\",\"Tanzania\"],[\"Benin\",\"Togo\"],[\"Libya\",\"Tunisia\"],[\"Morocco\",\"WesternSahara\"],[\"Botswana\",\"Zambia\"],[\"Mozambique\",\"Zambia\"],[\"Mozambique\",\"Zimbabwe\"]]};\n\nconst links = edges.map(e => ({\n  source: e.from,\n  target: e.to,\n  weight: e.weight,\n  label: e.label\n}));\n\nconst nodes = Object.keys(vertexCoordinates).map(key => ({\n  id: key,\n  x: vertexCoordinates[key].x,\n  y: vertexCoordinates[key].y\n}));\n\nvar xMin = Math.min.apply(Math, nodes.map(function(o) { return o.x; }))\nvar xMax = Math.max.apply(Math, nodes.map(function(o) { return o.x; }))\n\nvar yMin = Math.min.apply(Math, nodes.map(function(o) { return o.y; }))\nvar yMax = Math.max.apply(Math, nodes.map(function(o) { return o.y; }))\n\n// X scale and Axis\nvar xScale = d3.scaleLinear()\n    .domain([xMin, xMax])\n    .range([0, width]);\n\n// Y scale and Axis\nvar yScale = d3.scaleLinear()\n    .domain([yMin, yMax])\n    .range([height, 0]);\n\nnodes.forEach(node => {\n  node.x = xScale(node.x);\n  node.y = yScale(node.y);\n});\n\nconst link = svg.append(\"g\")\n    .attr(\"class\", \"links\")\n  .selectAll(\"line\")\n  .data(links)\n  .enter().append(\"line\")\n    .attr(\"class\", \"link\")\n    .attr(\"stroke\", d => {\n        for (const [color, items] of Object.entries(highlightSpecs)) {\n            if (items.some(item => Array.isArray(item) && item[0] === d.source && item[1] === d.target)) {\n                return color;\n            }\n        }\n        return \"SteelBlue\";\n    })\n    .attr(\"stroke-width\", 3)\n    .attr(\"x1\", d => nodes.find(n => n.id === d.source).x)\n    .attr(\"y1\", d => nodes.find(n => n.id === d.source).y)\n    .attr(\"x2\", d => nodes.find(n => n.id === d.target).x)\n    .attr(\"y2\", d => nodes.find(n => n.id === d.target).y);\n\nconst node = svg.append(\"g\")\n    .attr(\"class\", \"nodes\")\n  .selectAll(\"circle\")\n  .data(nodes)\n  .enter().append(\"circle\")\n    .attr(\"class\", \"node\")\n    .attr(\"r\", 6)\n    .attr(\"cx\", d => d.x)\n    .attr(\"cy\", d => d.y)\n    .attr(\"stroke\", d => {\n       for (const [color, items] of Object.entries(highlightSpecs)) {\n         if (items.includes(d.id)) {\n            return color;\n         }\n       }\n       return \"SteelBlue\";\n    })\n    .attr(\"fill\", d => {\n       for (const [color, items] of Object.entries(highlightSpecs)) {\n         if (items.includes(d.id)) {\n            return color;\n         }\n       }\n       return \"SteelBlue\";\n    })\n    .call(d3.drag()\n      .on(\"start\", dragstarted)\n      .on(\"drag\", dragged)\n      .on(\"end\", dragended));\n\n\nnode.append(\"title\")\n    .text(d => d.id);\n\nconst nodeLabel = svg.append(\"g\")\n    .attr(\"class\", \"node-labels\")\n  .selectAll(\"text\")\n  .data(nodes)\n  .enter().append(\"text\")\n    .attr(\"class\", \"node-label\")\n    .style(\"font-size\", 13)\n    .attr(\"font-family\", \"Courier New\")\n    .attr(\"font-weight\", 100)\n    .attr(\"dy\", -10)\n    .attr(\"x\", d => d.x)\n    .attr(\"y\", d => d.y)\n    .attr('fill', \"none\")\n    .attr('stroke', \"none\")\n    .text(d => d.id);\n\nconst linkLabel = svg.append(\"g\")\n    .attr(\"class\", \"link-labels\")\n  .selectAll(\"text\")\n  .data(links)\n  .enter().append(\"text\")\n    .filter(d => d.label !== \"\")\n    .attr(\"class\", \"link-label\")\n    .style(\"font-size\", 13)\n    .attr(\"font-family\", \"Courier New\")\n    .attr('fill', \"none\")\n    .attr('stroke', \"none\")\n    .attr(\"font-weight\", 100)\n    .attr(\"dy\", -10)\n    .attr(\"x\", d => xScale((vertexCoordinates[d.source].x + vertexCoordinates[d.target].x) / 2))\n    .attr(\"y\", d => yScale((vertexCoordinates[d.source].y + vertexCoordinates[d.target].y) / 2))\n    .text(d => d.label);\n\nfunction dragstarted(event, d) {\n  d3.select(this).raise().attr(\"stroke\", \"SteelBlue\");\n}\n\nfunction dragged(event, d) {\n  d.x = event.x;\n  d.y = event.y;\n  d3.select(this).attr(\"cx\", d.x).attr(\"cy\", d.y);\n  link\n    .attr(\"x1\", l => nodes.find(n => n.id === l.source).x)\n    .attr(\"y1\", l => nodes.find(n => n.id === l.source).y)\n    .attr(\"x2\", l => nodes.find(n => n.id === l.target).x)\n    .attr(\"y2\", l => nodes.find(n => n.id === l.target).y);\n}\n\nfunction dragended(event, d) {\n  d3.select(this).attr(\"stroke\", null);\n}\n\n}) })(element);\n"
     },
     "execution_count": 27,
     "metadata": {},
     "output_type": "execute_result"
    }
   ],
   "source": [
    "#% js\n",
    "js-d3-graph-plot(\n",
    "    $africaGraph.edges,\n",
    "    highlight => {Blue => [|$africanTree.vertex-list, |$africanTree.edges]},\n",
    "    vertex-coordinates => %africaCoords,\n",
    "    width => 600,\n",
    "    height => 600,\n",
    "    vertex-label-color => 'none',\n",
    "    :$background, :$title-color, :$edge-thickness, :$vertex-size,\n",
    "    )"
   ]
  },
  {
   "cell_type": "code",
   "execution_count": 49,
   "metadata": {},
   "outputs": [
    {
     "data": {
      "text/html": [
       "<?xml version=\"1.0\" encoding=\"UTF-8\" standalone=\"no\"?>\n",
       "<!DOCTYPE svg PUBLIC \"-//W3C//DTD SVG 1.1//EN\"\n",
       " \"http://www.w3.org/Graphics/SVG/1.1/DTD/svg11.dtd\">\n",
       "<!-- Generated by graphviz version 12.1.2 (20240928.0832)\n",
       " -->\n",
       "<!-- Pages: 1 -->\n",
       "<svg width=\"432pt\" height=\"419pt\"\n",
       " viewBox=\"0.00 0.00 432.00 418.81\" xmlns=\"http://www.w3.org/2000/svg\" xmlns:xlink=\"http://www.w3.org/1999/xlink\">\n",
       "<g id=\"graph0\" class=\"graph\" transform=\"scale(0.0886553 0.0886553) rotate(0) translate(4 4720)\">\n",
       "<polygon fill=\"#1f1f1f\" stroke=\"none\" points=\"-4,4 -4,-4720 4868.8,-4720 4868.8,4 -4,4\"/>\n",
       "<!-- Egypt -->\n",
       "<g id=\"node1\" class=\"node\">\n",
       "<title>Egypt</title>\n",
       "<ellipse fill=\"Blue\" stroke=\"Black\" cx=\"3424.8\" cy=\"-4140\" rx=\"72\" ry=\"72\"/>\n",
       "</g>\n",
       "<!-- Libya -->\n",
       "<g id=\"node12\" class=\"node\">\n",
       "<title>Libya</title>\n",
       "<ellipse fill=\"Blue\" stroke=\"Black\" cx=\"2488.8\" cy=\"-3996\" rx=\"72\" ry=\"72\"/>\n",
       "</g>\n",
       "<!-- Egypt&#45;&#45;Libya -->\n",
       "<g id=\"edge73\" class=\"edge\">\n",
       "<title>Egypt&#45;&#45;Libya</title>\n",
       "<path fill=\"none\" stroke=\"Blue\" stroke-width=\"20\" d=\"M3353.3,-4129C3179.15,-4102.21 2734.59,-4033.81 2560.38,-4007.01\"/>\n",
       "</g>\n",
       "<!-- Sudan -->\n",
       "<g id=\"node32\" class=\"node\">\n",
       "<title>Sudan</title>\n",
       "<ellipse fill=\"Blue\" stroke=\"Black\" cx=\"3424.8\" cy=\"-3189.6\" rx=\"72\" ry=\"72\"/>\n",
       "</g>\n",
       "<!-- Egypt&#45;&#45;Sudan -->\n",
       "<g id=\"edge26\" class=\"edge\">\n",
       "<title>Egypt&#45;&#45;Sudan</title>\n",
       "<path fill=\"none\" stroke=\"SteelBlue\" stroke-width=\"20\" d=\"M3424.8,-4067.79C3424.8,-3891.15 3424.8,-3438.88 3424.8,-3262.03\"/>\n",
       "</g>\n",
       "<!-- Guinea -->\n",
       "<g id=\"node2\" class=\"node\">\n",
       "<title>Guinea</title>\n",
       "<ellipse fill=\"Blue\" stroke=\"Black\" cx=\"544.8\" cy=\"-2988\" rx=\"72\" ry=\"72\"/>\n",
       "</g>\n",
       "<!-- Senegal -->\n",
       "<g id=\"node8\" class=\"node\">\n",
       "<title>Senegal</title>\n",
       "<ellipse fill=\"Blue\" stroke=\"Black\" cx=\"256.8\" cy=\"-3204\" rx=\"72\" ry=\"72\"/>\n",
       "</g>\n",
       "<!-- Guinea&#45;&#45;Senegal -->\n",
       "<g id=\"edge44\" class=\"edge\">\n",
       "<title>Guinea&#45;&#45;Senegal</title>\n",
       "<path fill=\"none\" stroke=\"SteelBlue\" stroke-width=\"20\" d=\"M486.87,-3031.45C436.77,-3069.03 364.72,-3123.06 314.64,-3160.62\"/>\n",
       "</g>\n",
       "<!-- SierraLeone -->\n",
       "<g id=\"node10\" class=\"node\">\n",
       "<title>SierraLeone</title>\n",
       "<ellipse fill=\"Blue\" stroke=\"Black\" cx=\"436.8\" cy=\"-2808\" rx=\"72\" ry=\"72\"/>\n",
       "</g>\n",
       "<!-- Guinea&#45;&#45;SierraLeone -->\n",
       "<g id=\"edge56\" class=\"edge\">\n",
       "<title>Guinea&#45;&#45;SierraLeone</title>\n",
       "<path fill=\"none\" stroke=\"SteelBlue\" stroke-width=\"20\" d=\"M507.63,-2926.05C496.77,-2907.95 484.9,-2888.17 474.04,-2870.06\"/>\n",
       "</g>\n",
       "<!-- IvoryCoast -->\n",
       "<g id=\"node11\" class=\"node\">\n",
       "<title>IvoryCoast</title>\n",
       "<ellipse fill=\"Blue\" stroke=\"Black\" cx=\"904.8\" cy=\"-2772\" rx=\"72\" ry=\"72\"/>\n",
       "</g>\n",
       "<!-- Guinea&#45;&#45;IvoryCoast -->\n",
       "<g id=\"edge46\" class=\"edge\">\n",
       "<title>Guinea&#45;&#45;IvoryCoast</title>\n",
       "<path fill=\"none\" stroke=\"SteelBlue\" stroke-width=\"20\" d=\"M606.69,-2950.87C672.73,-2911.24 776.74,-2848.83 842.82,-2809.19\"/>\n",
       "</g>\n",
       "<!-- GuineaBissau -->\n",
       "<g id=\"node49\" class=\"node\">\n",
       "<title>GuineaBissau</title>\n",
       "<ellipse fill=\"Blue\" stroke=\"Black\" cx=\"184.8\" cy=\"-3060\" rx=\"72\" ry=\"72\"/>\n",
       "</g>\n",
       "<!-- Guinea&#45;&#45;GuineaBissau -->\n",
       "<g id=\"edge79\" class=\"edge\">\n",
       "<title>Guinea&#45;&#45;GuineaBissau</title>\n",
       "<path fill=\"none\" stroke=\"Blue\" stroke-width=\"20\" d=\"M474.11,-3002.14C410.94,-3014.77 318.86,-3033.19 255.64,-3045.83\"/>\n",
       "</g>\n",
       "<!-- Rwanda -->\n",
       "<g id=\"node3\" class=\"node\">\n",
       "<title>Rwanda</title>\n",
       "<ellipse fill=\"Blue\" stroke=\"Black\" cx=\"3424.8\" cy=\"-2052\" rx=\"72\" ry=\"72\"/>\n",
       "</g>\n",
       "<!-- Burundi -->\n",
       "<g id=\"node37\" class=\"node\">\n",
       "<title>Burundi</title>\n",
       "<ellipse fill=\"Blue\" stroke=\"Black\" cx=\"3424.8\" cy=\"-1944\" rx=\"72\" ry=\"72\"/>\n",
       "</g>\n",
       "<!-- Rwanda&#45;&#45;Burundi -->\n",
       "<g id=\"edge92\" class=\"edge\">\n",
       "<title>Rwanda&#45;&#45;Burundi</title>\n",
       "<path fill=\"none\" stroke=\"Blue\" stroke-width=\"20\" d=\"M3424.8,-1979.66C3424.8,-1979.51 3424.8,-1979.36 3424.8,-1979.2\"/>\n",
       "</g>\n",
       "<!-- Gambia -->\n",
       "<g id=\"node4\" class=\"node\">\n",
       "<title>Gambia</title>\n",
       "<ellipse fill=\"Blue\" stroke=\"Black\" cx=\"72\" cy=\"-3165.6\" rx=\"72\" ry=\"72\"/>\n",
       "</g>\n",
       "<!-- Botswana -->\n",
       "<g id=\"node5\" class=\"node\">\n",
       "<title>Botswana</title>\n",
       "<ellipse fill=\"Blue\" stroke=\"Black\" cx=\"2992.8\" cy=\"-612\" rx=\"72\" ry=\"72\"/>\n",
       "</g>\n",
       "<!-- SouthAfrica -->\n",
       "<g id=\"node31\" class=\"node\">\n",
       "<title>SouthAfrica</title>\n",
       "<ellipse fill=\"Blue\" stroke=\"Black\" cx=\"2992.8\" cy=\"-108\" rx=\"72\" ry=\"72\"/>\n",
       "</g>\n",
       "<!-- Botswana&#45;&#45;SouthAfrica -->\n",
       "<g id=\"edge35\" class=\"edge\">\n",
       "<title>Botswana&#45;&#45;SouthAfrica</title>\n",
       "<path fill=\"none\" stroke=\"SteelBlue\" stroke-width=\"20\" d=\"M2992.8,-539.52C2992.8,-443.77 2992.8,-276.11 2992.8,-180.4\"/>\n",
       "</g>\n",
       "<!-- Namibia -->\n",
       "<g id=\"node41\" class=\"node\">\n",
       "<title>Namibia</title>\n",
       "<ellipse fill=\"Blue\" stroke=\"Black\" cx=\"2488.8\" cy=\"-612\" rx=\"72\" ry=\"72\"/>\n",
       "</g>\n",
       "<!-- Botswana&#45;&#45;Namibia -->\n",
       "<g id=\"edge12\" class=\"edge\">\n",
       "<title>Botswana&#45;&#45;Namibia</title>\n",
       "<path fill=\"none\" stroke=\"SteelBlue\" stroke-width=\"20\" d=\"M2920.32,-612C2824.58,-612 2656.91,-612 2561.2,-612\"/>\n",
       "</g>\n",
       "<!-- Zimbabwe -->\n",
       "<g id=\"node48\" class=\"node\">\n",
       "<title>Zimbabwe</title>\n",
       "<ellipse fill=\"Blue\" stroke=\"Black\" cx=\"3424.8\" cy=\"-756\" rx=\"72\" ry=\"72\"/>\n",
       "</g>\n",
       "<!-- Botswana&#45;&#45;Zimbabwe -->\n",
       "<g id=\"edge4\" class=\"edge\">\n",
       "<title>Botswana&#45;&#45;Zimbabwe</title>\n",
       "<path fill=\"none\" stroke=\"SteelBlue\" stroke-width=\"20\" d=\"M3061.25,-634.82C3142.03,-661.74 3275.53,-706.24 3356.31,-733.17\"/>\n",
       "</g>\n",
       "<!-- RepublicCongo -->\n",
       "<g id=\"node6\" class=\"node\">\n",
       "<title>RepublicCongo</title>\n",
       "<ellipse fill=\"Blue\" stroke=\"Black\" cx=\"2344.8\" cy=\"-2124\" rx=\"72\" ry=\"72\"/>\n",
       "</g>\n",
       "<!-- Liberia -->\n",
       "<g id=\"node7\" class=\"node\">\n",
       "<title>Liberia</title>\n",
       "<ellipse fill=\"Blue\" stroke=\"Black\" cx=\"580.8\" cy=\"-2664\" rx=\"72\" ry=\"72\"/>\n",
       "</g>\n",
       "<!-- Liberia&#45;&#45;Guinea -->\n",
       "<g id=\"edge82\" class=\"edge\">\n",
       "<title>Liberia&#45;&#45;Guinea</title>\n",
       "<path fill=\"none\" stroke=\"Blue\" stroke-width=\"20\" d=\"M572.81,-2735.91C566.86,-2789.51 558.76,-2862.4 552.8,-2916.02\"/>\n",
       "</g>\n",
       "<!-- Senegal&#45;&#45;Gambia -->\n",
       "<g id=\"edge93\" class=\"edge\">\n",
       "<title>Senegal&#45;&#45;Gambia</title>\n",
       "<path fill=\"none\" stroke=\"Blue\" stroke-width=\"20\" d=\"M185.88,-3189.26C171.73,-3186.32 156.87,-3183.24 142.73,-3180.3\"/>\n",
       "</g>\n",
       "<!-- Senegal&#45;&#45;GuineaBissau -->\n",
       "<g id=\"edge94\" class=\"edge\">\n",
       "<title>Senegal&#45;&#45;GuineaBissau</title>\n",
       "<path fill=\"none\" stroke=\"Blue\" stroke-width=\"20\" d=\"M224.38,-3139.16C221.99,-3134.38 219.58,-3129.56 217.2,-3124.79\"/>\n",
       "</g>\n",
       "<!-- SouthSudan -->\n",
       "<g id=\"node9\" class=\"node\">\n",
       "<title>SouthSudan</title>\n",
       "<ellipse fill=\"Blue\" stroke=\"Black\" cx=\"3461.52\" cy=\"-2678.4\" rx=\"72\" ry=\"72\"/>\n",
       "</g>\n",
       "<!-- Kenya -->\n",
       "<g id=\"node13\" class=\"node\">\n",
       "<title>Kenya</title>\n",
       "<ellipse fill=\"Blue\" stroke=\"Black\" cx=\"4000.8\" cy=\"-2268\" rx=\"72\" ry=\"72\"/>\n",
       "</g>\n",
       "<!-- SouthSudan&#45;&#45;Kenya -->\n",
       "<g id=\"edge58\" class=\"edge\">\n",
       "<title>SouthSudan&#45;&#45;Kenya</title>\n",
       "<path fill=\"none\" stroke=\"SteelBlue\" stroke-width=\"20\" d=\"M3518.98,-2634.67C3622.65,-2555.78 3839.84,-2390.5 3943.44,-2311.65\"/>\n",
       "</g>\n",
       "<!-- CentralAfricanRepublic -->\n",
       "<g id=\"node21\" class=\"node\">\n",
       "<title>CentralAfricanRepublic</title>\n",
       "<ellipse fill=\"Blue\" stroke=\"Black\" cx=\"2776.8\" cy=\"-2700\" rx=\"72\" ry=\"72\"/>\n",
       "</g>\n",
       "<!-- SouthSudan&#45;&#45;CentralAfricanRepublic -->\n",
       "<g id=\"edge40\" class=\"edge\">\n",
       "<title>SouthSudan&#45;&#45;CentralAfricanRepublic</title>\n",
       "<path fill=\"none\" stroke=\"SteelBlue\" stroke-width=\"20\" d=\"M3389.22,-2680.68C3257.64,-2684.83 2980.54,-2693.57 2849.02,-2697.72\"/>\n",
       "</g>\n",
       "<!-- Uganda -->\n",
       "<g id=\"node33\" class=\"node\">\n",
       "<title>Uganda</title>\n",
       "<ellipse fill=\"Blue\" stroke=\"Black\" cx=\"3568.8\" cy=\"-2268\" rx=\"72\" ry=\"72\"/>\n",
       "</g>\n",
       "<!-- SouthSudan&#45;&#45;Uganda -->\n",
       "<g id=\"edge9\" class=\"edge\">\n",
       "<title>SouthSudan&#45;&#45;Uganda</title>\n",
       "<path fill=\"none\" stroke=\"SteelBlue\" stroke-width=\"20\" d=\"M3479.84,-2608.32C3499.56,-2532.88 3530.74,-2413.59 3550.47,-2338.14\"/>\n",
       "</g>\n",
       "<!-- Eritrea -->\n",
       "<g id=\"node36\" class=\"node\">\n",
       "<title>Eritrea</title>\n",
       "<ellipse fill=\"Blue\" stroke=\"Black\" cx=\"4072.8\" cy=\"-3276\" rx=\"72\" ry=\"72\"/>\n",
       "</g>\n",
       "<!-- SouthSudan&#45;&#45;Eritrea -->\n",
       "<g id=\"edge98\" class=\"edge\">\n",
       "<title>SouthSudan&#45;&#45;Eritrea</title>\n",
       "<path fill=\"none\" stroke=\"Blue\" stroke-width=\"20\" d=\"M3513.11,-2728.84C3628.39,-2841.53 3905.78,-3112.72 4021.13,-3225.49\"/>\n",
       "</g>\n",
       "<!-- SierraLeone&#45;&#45;Liberia -->\n",
       "<g id=\"edge95\" class=\"edge\">\n",
       "<title>SierraLeone&#45;&#45;Liberia</title>\n",
       "<path fill=\"none\" stroke=\"Blue\" stroke-width=\"20\" d=\"M487.98,-2756.83C501.56,-2743.24 516.22,-2728.58 529.79,-2715.01\"/>\n",
       "</g>\n",
       "<!-- IvoryCoast&#45;&#45;Liberia -->\n",
       "<g id=\"edge81\" class=\"edge\">\n",
       "<title>IvoryCoast&#45;&#45;Liberia</title>\n",
       "<path fill=\"none\" stroke=\"Blue\" stroke-width=\"20\" d=\"M836.09,-2749.1C781.11,-2730.77 704.37,-2705.19 649.42,-2686.87\"/>\n",
       "</g>\n",
       "<!-- Ghana -->\n",
       "<g id=\"node27\" class=\"node\">\n",
       "<title>Ghana</title>\n",
       "<ellipse fill=\"Blue\" stroke=\"Black\" cx=\"1120.8\" cy=\"-2772\" rx=\"72\" ry=\"72\"/>\n",
       "</g>\n",
       "<!-- IvoryCoast&#45;&#45;Ghana -->\n",
       "<g id=\"edge80\" class=\"edge\">\n",
       "<title>IvoryCoast&#45;&#45;Ghana</title>\n",
       "<path fill=\"none\" stroke=\"Blue\" stroke-width=\"20\" d=\"M977.03,-2772C1000.08,-2772 1025.59,-2772 1048.65,-2772\"/>\n",
       "</g>\n",
       "<!-- Swaziland -->\n",
       "<g id=\"node14\" class=\"node\">\n",
       "<title>Swaziland</title>\n",
       "<ellipse fill=\"Blue\" stroke=\"Black\" cx=\"3532.8\" cy=\"-288\" rx=\"72\" ry=\"72\"/>\n",
       "</g>\n",
       "<!-- Swaziland&#45;&#45;SouthAfrica -->\n",
       "<g id=\"edge13\" class=\"edge\">\n",
       "<title>Swaziland&#45;&#45;SouthAfrica</title>\n",
       "<path fill=\"none\" stroke=\"SteelBlue\" stroke-width=\"20\" d=\"M3464.14,-265.11C3360.45,-230.55 3165.06,-165.42 3061.41,-130.87\"/>\n",
       "</g>\n",
       "<!-- Mozambique -->\n",
       "<g id=\"node45\" class=\"node\">\n",
       "<title>Mozambique</title>\n",
       "<ellipse fill=\"Blue\" stroke=\"Black\" cx=\"3784.8\" cy=\"-882\" rx=\"72\" ry=\"72\"/>\n",
       "</g>\n",
       "<!-- Swaziland&#45;&#45;Mozambique -->\n",
       "<g id=\"edge101\" class=\"edge\">\n",
       "<title>Swaziland&#45;&#45;Mozambique</title>\n",
       "<path fill=\"none\" stroke=\"Blue\" stroke-width=\"20\" d=\"M3561.1,-354.7C3609.64,-469.11 3708.21,-701.46 3756.65,-815.64\"/>\n",
       "</g>\n",
       "<!-- Gabon -->\n",
       "<g id=\"node15\" class=\"node\">\n",
       "<title>Gabon</title>\n",
       "<ellipse fill=\"Blue\" stroke=\"Black\" cx=\"2110.8\" cy=\"-2124\" rx=\"72\" ry=\"72\"/>\n",
       "</g>\n",
       "<!-- Gabon&#45;&#45;RepublicCongo -->\n",
       "<g id=\"edge76\" class=\"edge\">\n",
       "<title>Gabon&#45;&#45;RepublicCongo</title>\n",
       "<path fill=\"none\" stroke=\"Blue\" stroke-width=\"20\" d=\"M2183.24,-2124C2211.56,-2124 2243.98,-2124 2272.31,-2124\"/>\n",
       "</g>\n",
       "<!-- Tanzania -->\n",
       "<g id=\"node16\" class=\"node\">\n",
       "<title>Tanzania</title>\n",
       "<ellipse fill=\"Blue\" stroke=\"Black\" cx=\"3784.8\" cy=\"-1764\" rx=\"72\" ry=\"72\"/>\n",
       "</g>\n",
       "<!-- Tanzania&#45;&#45;Rwanda -->\n",
       "<g id=\"edge6\" class=\"edge\">\n",
       "<title>Tanzania&#45;&#45;Rwanda</title>\n",
       "<path fill=\"none\" stroke=\"SteelBlue\" stroke-width=\"20\" d=\"M3728.55,-1809C3661.12,-1862.95 3548.77,-1952.82 3481.25,-2006.84\"/>\n",
       "</g>\n",
       "<!-- Tanzania&#45;&#45;Kenya -->\n",
       "<g id=\"edge54\" class=\"edge\">\n",
       "<title>Tanzania&#45;&#45;Kenya</title>\n",
       "<path fill=\"none\" stroke=\"SteelBlue\" stroke-width=\"20\" d=\"M3813.26,-1830.41C3854.62,-1926.9 3930.89,-2104.87 3972.28,-2201.45\"/>\n",
       "</g>\n",
       "<!-- DemocraticRepublicCongo -->\n",
       "<g id=\"node20\" class=\"node\">\n",
       "<title>DemocraticRepublicCongo</title>\n",
       "<ellipse fill=\"Blue\" stroke=\"Black\" cx=\"3064.8\" cy=\"-2196\" rx=\"72\" ry=\"72\"/>\n",
       "</g>\n",
       "<!-- Tanzania&#45;&#45;DemocraticRepublicCongo -->\n",
       "<g id=\"edge8\" class=\"edge\">\n",
       "<title>Tanzania&#45;&#45;DemocraticRepublicCongo</title>\n",
       "<path fill=\"none\" stroke=\"SteelBlue\" stroke-width=\"20\" d=\"M3722.79,-1801.21C3586.69,-1882.87 3263.12,-2077.01 3126.92,-2158.73\"/>\n",
       "</g>\n",
       "<!-- Tanzania&#45;&#45;Uganda -->\n",
       "<g id=\"edge103\" class=\"edge\">\n",
       "<title>Tanzania&#45;&#45;Uganda</title>\n",
       "<path fill=\"none\" stroke=\"Blue\" stroke-width=\"20\" d=\"M3756.34,-1830.41C3714.99,-1926.9 3638.72,-2104.87 3597.33,-2201.45\"/>\n",
       "</g>\n",
       "<!-- Tanzania&#45;&#45;Burundi -->\n",
       "<g id=\"edge102\" class=\"edge\">\n",
       "<title>Tanzania&#45;&#45;Burundi</title>\n",
       "<path fill=\"none\" stroke=\"Blue\" stroke-width=\"20\" d=\"M3720.03,-1796.39C3654.74,-1829.03 3554.57,-1879.12 3489.36,-1911.72\"/>\n",
       "</g>\n",
       "<!-- Lesotho -->\n",
       "<g id=\"node17\" class=\"node\">\n",
       "<title>Lesotho</title>\n",
       "<ellipse fill=\"Blue\" stroke=\"Black\" cx=\"3316.8\" cy=\"-72\" rx=\"72\" ry=\"72\"/>\n",
       "</g>\n",
       "<!-- Nigeria -->\n",
       "<g id=\"node18\" class=\"node\">\n",
       "<title>Nigeria</title>\n",
       "<ellipse fill=\"Blue\" stroke=\"Black\" cx=\"1840.8\" cy=\"-2916\" rx=\"72\" ry=\"72\"/>\n",
       "</g>\n",
       "<!-- Benin -->\n",
       "<g id=\"node23\" class=\"node\">\n",
       "<title>Benin</title>\n",
       "<ellipse fill=\"Blue\" stroke=\"Black\" cx=\"1426.8\" cy=\"-2880\" rx=\"72\" ry=\"72\"/>\n",
       "</g>\n",
       "<!-- Nigeria&#45;&#45;Benin -->\n",
       "<g id=\"edge55\" class=\"edge\">\n",
       "<title>Nigeria&#45;&#45;Benin</title>\n",
       "<path fill=\"none\" stroke=\"SteelBlue\" stroke-width=\"20\" d=\"M1768.69,-2909.73C1692.93,-2903.14 1574.49,-2892.84 1498.78,-2886.26\"/>\n",
       "</g>\n",
       "<!-- Niger -->\n",
       "<g id=\"node40\" class=\"node\">\n",
       "<title>Niger</title>\n",
       "<ellipse fill=\"Blue\" stroke=\"Black\" cx=\"1840.8\" cy=\"-3348\" rx=\"72\" ry=\"72\"/>\n",
       "</g>\n",
       "<!-- Nigeria&#45;&#45;Niger -->\n",
       "<g id=\"edge28\" class=\"edge\">\n",
       "<title>Nigeria&#45;&#45;Niger</title>\n",
       "<path fill=\"none\" stroke=\"SteelBlue\" stroke-width=\"20\" d=\"M1840.8,-2988.31C1840.8,-3068.17 1840.8,-3196 1840.8,-3275.82\"/>\n",
       "</g>\n",
       "<!-- Cameroon -->\n",
       "<g id=\"node42\" class=\"node\">\n",
       "<title>Cameroon</title>\n",
       "<ellipse fill=\"Blue\" stroke=\"Black\" cx=\"2128.8\" cy=\"-2628\" rx=\"72\" ry=\"72\"/>\n",
       "</g>\n",
       "<!-- Nigeria&#45;&#45;Cameroon -->\n",
       "<g id=\"edge91\" class=\"edge\">\n",
       "<title>Nigeria&#45;&#45;Cameroon</title>\n",
       "<path fill=\"none\" stroke=\"Blue\" stroke-width=\"20\" d=\"M1891.96,-2864.84C1944.33,-2812.47 2025.26,-2731.54 2077.64,-2679.16\"/>\n",
       "</g>\n",
       "<!-- Mauritania -->\n",
       "<g id=\"node19\" class=\"node\">\n",
       "<title>Mauritania</title>\n",
       "<ellipse fill=\"Blue\" stroke=\"Black\" cx=\"400.8\" cy=\"-3636\" rx=\"72\" ry=\"72\"/>\n",
       "</g>\n",
       "<!-- Mauritania&#45;&#45;Senegal -->\n",
       "<g id=\"edge31\" class=\"edge\">\n",
       "<title>Mauritania&#45;&#45;Senegal</title>\n",
       "<path fill=\"none\" stroke=\"SteelBlue\" stroke-width=\"20\" d=\"M377.99,-3567.55C351.06,-3486.78 306.56,-3353.28 279.63,-3272.49\"/>\n",
       "</g>\n",
       "<!-- Algeria -->\n",
       "<g id=\"node44\" class=\"node\">\n",
       "<title>Algeria</title>\n",
       "<ellipse fill=\"Blue\" stroke=\"Black\" cx=\"1480.8\" cy=\"-4212\" rx=\"72\" ry=\"72\"/>\n",
       "</g>\n",
       "<!-- Mauritania&#45;&#45;Algeria -->\n",
       "<g id=\"edge45\" class=\"edge\">\n",
       "<title>Mauritania&#45;&#45;Algeria</title>\n",
       "<path fill=\"none\" stroke=\"SteelBlue\" stroke-width=\"20\" d=\"M464.73,-3670.09C656.52,-3772.38 1225.57,-4075.88 1417.09,-4178.02\"/>\n",
       "</g>\n",
       "<!-- DemocraticRepublicCongo&#45;&#45;Rwanda -->\n",
       "<g id=\"edge49\" class=\"edge\">\n",
       "<title>DemocraticRepublicCongo&#45;&#45;Rwanda</title>\n",
       "<path fill=\"none\" stroke=\"SteelBlue\" stroke-width=\"20\" d=\"M3132.09,-2169.08C3196.5,-2143.32 3293.13,-2104.67 3357.54,-2078.91\"/>\n",
       "</g>\n",
       "<!-- DemocraticRepublicCongo&#45;&#45;RepublicCongo -->\n",
       "<g id=\"edge71\" class=\"edge\">\n",
       "<title>DemocraticRepublicCongo&#45;&#45;RepublicCongo</title>\n",
       "<path fill=\"none\" stroke=\"Blue\" stroke-width=\"20\" d=\"M2992.8,-2188.8C2854.88,-2175.01 2554.9,-2145.01 2416.9,-2131.21\"/>\n",
       "</g>\n",
       "<!-- DemocraticRepublicCongo&#45;&#45;SouthSudan -->\n",
       "<g id=\"edge11\" class=\"edge\">\n",
       "<title>DemocraticRepublicCongo&#45;&#45;SouthSudan</title>\n",
       "<path fill=\"none\" stroke=\"SteelBlue\" stroke-width=\"20\" d=\"M3110.7,-2251.81C3187.08,-2344.69 3339.42,-2529.93 3415.73,-2622.72\"/>\n",
       "</g>\n",
       "<!-- DemocraticRepublicCongo&#45;&#45;CentralAfricanRepublic -->\n",
       "<g id=\"edge14\" class=\"edge\">\n",
       "<title>DemocraticRepublicCongo&#45;&#45;CentralAfricanRepublic</title>\n",
       "<path fill=\"none\" stroke=\"SteelBlue\" stroke-width=\"20\" d=\"M3028.91,-2258.81C2973.57,-2355.66 2868.03,-2540.35 2812.69,-2637.19\"/>\n",
       "</g>\n",
       "<!-- DemocraticRepublicCongo&#45;&#45;Uganda -->\n",
       "<g id=\"edge18\" class=\"edge\">\n",
       "<title>DemocraticRepublicCongo&#45;&#45;Uganda</title>\n",
       "<path fill=\"none\" stroke=\"SteelBlue\" stroke-width=\"20\" d=\"M3136.48,-2206.24C3232.41,-2219.94 3401.57,-2244.11 3497.37,-2257.8\"/>\n",
       "</g>\n",
       "<!-- DemocraticRepublicCongo&#45;&#45;Burundi -->\n",
       "<g id=\"edge70\" class=\"edge\">\n",
       "<title>DemocraticRepublicCongo&#45;&#45;Burundi</title>\n",
       "<path fill=\"none\" stroke=\"Blue\" stroke-width=\"20\" d=\"M3123.85,-2154.67C3190.57,-2107.96 3298.57,-2032.37 3365.43,-1985.56\"/>\n",
       "</g>\n",
       "<!-- CentralAfricanRepublic&#45;&#45;RepublicCongo -->\n",
       "<g id=\"edge68\" class=\"edge\">\n",
       "<title>CentralAfricanRepublic&#45;&#45;RepublicCongo</title>\n",
       "<path fill=\"none\" stroke=\"Blue\" stroke-width=\"20\" d=\"M2733.4,-2642.13C2650.6,-2531.73 2470.95,-2292.2 2388.17,-2181.83\"/>\n",
       "</g>\n",
       "<!-- Zambia -->\n",
       "<g id=\"node22\" class=\"node\">\n",
       "<title>Zambia</title>\n",
       "<ellipse fill=\"Blue\" stroke=\"Black\" cx=\"3424.8\" cy=\"-1116\" rx=\"72\" ry=\"72\"/>\n",
       "</g>\n",
       "<!-- Zambia&#45;&#45;Botswana -->\n",
       "<g id=\"edge107\" class=\"edge\">\n",
       "<title>Zambia&#45;&#45;Botswana</title>\n",
       "<path fill=\"none\" stroke=\"Blue\" stroke-width=\"20\" d=\"M3377.75,-1061.1C3294.65,-964.15 3122.86,-763.73 3039.8,-666.83\"/>\n",
       "</g>\n",
       "<!-- Zambia&#45;&#45;Tanzania -->\n",
       "<g id=\"edge43\" class=\"edge\">\n",
       "<title>Zambia&#45;&#45;Tanzania</title>\n",
       "<path fill=\"none\" stroke=\"SteelBlue\" stroke-width=\"20\" d=\"M3459.98,-1179.31C3528.89,-1303.35 3680.94,-1577.04 3749.75,-1700.91\"/>\n",
       "</g>\n",
       "<!-- Zambia&#45;&#45;DemocraticRepublicCongo -->\n",
       "<g id=\"edge1\" class=\"edge\">\n",
       "<title>Zambia&#45;&#45;DemocraticRepublicCongo</title>\n",
       "<path fill=\"none\" stroke=\"SteelBlue\" stroke-width=\"20\" d=\"M3402.01,-1184.38C3337.25,-1378.66 3152.65,-1932.45 3087.73,-2127.22\"/>\n",
       "</g>\n",
       "<!-- Angola -->\n",
       "<g id=\"node24\" class=\"node\">\n",
       "<title>Angola</title>\n",
       "<ellipse fill=\"Blue\" stroke=\"Black\" cx=\"2596.8\" cy=\"-1296\" rx=\"72\" ry=\"72\"/>\n",
       "</g>\n",
       "<!-- Zambia&#45;&#45;Angola -->\n",
       "<g id=\"edge42\" class=\"edge\">\n",
       "<title>Zambia&#45;&#45;Angola</title>\n",
       "<path fill=\"none\" stroke=\"SteelBlue\" stroke-width=\"20\" d=\"M3354.21,-1131.35C3197.87,-1165.33 2823.95,-1246.62 2667.51,-1280.63\"/>\n",
       "</g>\n",
       "<!-- Malawi -->\n",
       "<g id=\"node29\" class=\"node\">\n",
       "<title>Malawi</title>\n",
       "<ellipse fill=\"Blue\" stroke=\"Black\" cx=\"3712.8\" cy=\"-1224\" rx=\"72\" ry=\"72\"/>\n",
       "</g>\n",
       "<!-- Zambia&#45;&#45;Malawi -->\n",
       "<g id=\"edge61\" class=\"edge\">\n",
       "<title>Zambia&#45;&#45;Malawi</title>\n",
       "<path fill=\"none\" stroke=\"SteelBlue\" stroke-width=\"20\" d=\"M3492.33,-1141.32C3538.38,-1158.59 3599.13,-1181.37 3645.2,-1198.65\"/>\n",
       "</g>\n",
       "<!-- Zambia&#45;&#45;Mozambique -->\n",
       "<g id=\"edge108\" class=\"edge\">\n",
       "<title>Zambia&#45;&#45;Mozambique</title>\n",
       "<path fill=\"none\" stroke=\"Blue\" stroke-width=\"20\" d=\"M3485.46,-1076.57C3551.89,-1033.39 3657.79,-964.56 3724.19,-921.4\"/>\n",
       "</g>\n",
       "<!-- Zambia&#45;&#45;Zimbabwe -->\n",
       "<g id=\"edge57\" class=\"edge\">\n",
       "<title>Zambia&#45;&#45;Zimbabwe</title>\n",
       "<path fill=\"none\" stroke=\"SteelBlue\" stroke-width=\"20\" d=\"M3424.8,-1043.58C3424.8,-980.96 3424.8,-890.89 3424.8,-828.3\"/>\n",
       "</g>\n",
       "<!-- Benin&#45;&#45;Niger -->\n",
       "<g id=\"edge2\" class=\"edge\">\n",
       "<title>Benin&#45;&#45;Niger</title>\n",
       "<path fill=\"none\" stroke=\"SteelBlue\" stroke-width=\"20\" d=\"M1474.7,-2934.14C1554.41,-3024.25 1713.38,-3203.96 1793.02,-3293.98\"/>\n",
       "</g>\n",
       "<!-- Angola&#45;&#45;RepublicCongo -->\n",
       "<g id=\"edge64\" class=\"edge\">\n",
       "<title>Angola&#45;&#45;RepublicCongo</title>\n",
       "<path fill=\"none\" stroke=\"Blue\" stroke-width=\"20\" d=\"M2575.75,-1365.17C2528.29,-1521.13 2413.37,-1898.69 2365.88,-2054.74\"/>\n",
       "</g>\n",
       "<!-- Angola&#45;&#45;DemocraticRepublicCongo -->\n",
       "<g id=\"edge17\" class=\"edge\">\n",
       "<title>Angola&#45;&#45;DemocraticRepublicCongo</title>\n",
       "<path fill=\"none\" stroke=\"SteelBlue\" stroke-width=\"20\" d=\"M2630.08,-1360C2716.12,-1525.46 2945.18,-1965.96 3031.38,-2131.72\"/>\n",
       "</g>\n",
       "<!-- Angola&#45;&#45;Namibia -->\n",
       "<g id=\"edge7\" class=\"edge\">\n",
       "<title>Angola&#45;&#45;Namibia</title>\n",
       "<path fill=\"none\" stroke=\"SteelBlue\" stroke-width=\"20\" d=\"M2585.5,-1224.41C2564.76,-1093.03 2520.84,-814.88 2500.1,-683.54\"/>\n",
       "</g>\n",
       "<!-- Mali -->\n",
       "<g id=\"node25\" class=\"node\">\n",
       "<title>Mali</title>\n",
       "<ellipse fill=\"Blue\" stroke=\"Black\" cx=\"976.8\" cy=\"-3420\" rx=\"72\" ry=\"72\"/>\n",
       "</g>\n",
       "<!-- Mali&#45;&#45;Guinea -->\n",
       "<g id=\"edge84\" class=\"edge\">\n",
       "<title>Mali&#45;&#45;Guinea</title>\n",
       "<path fill=\"none\" stroke=\"Blue\" stroke-width=\"20\" d=\"M925.55,-3368.75C842.41,-3285.61 679.09,-3122.29 595.99,-3039.19\"/>\n",
       "</g>\n",
       "<!-- Mali&#45;&#45;Senegal -->\n",
       "<g id=\"edge34\" class=\"edge\">\n",
       "<title>Mali&#45;&#45;Senegal</title>\n",
       "<path fill=\"none\" stroke=\"SteelBlue\" stroke-width=\"20\" d=\"M907.44,-3399.19C769.81,-3357.9 463.64,-3266.05 326.08,-3224.78\"/>\n",
       "</g>\n",
       "<!-- Mali&#45;&#45;IvoryCoast -->\n",
       "<g id=\"edge48\" class=\"edge\">\n",
       "<title>Mali&#45;&#45;IvoryCoast</title>\n",
       "<path fill=\"none\" stroke=\"SteelBlue\" stroke-width=\"20\" d=\"M968.82,-3348.18C954.96,-3223.45 926.61,-2968.25 912.76,-2843.65\"/>\n",
       "</g>\n",
       "<!-- Mali&#45;&#45;Mauritania -->\n",
       "<g id=\"edge85\" class=\"edge\">\n",
       "<title>Mali&#45;&#45;Mauritania</title>\n",
       "<path fill=\"none\" stroke=\"Blue\" stroke-width=\"20\" d=\"M909.03,-3445.41C798.11,-3487.01 579.07,-3569.15 468.31,-3610.68\"/>\n",
       "</g>\n",
       "<!-- BurkinaFaso -->\n",
       "<g id=\"node30\" class=\"node\">\n",
       "<title>BurkinaFaso</title>\n",
       "<ellipse fill=\"Blue\" stroke=\"Black\" cx=\"1120.8\" cy=\"-3132\" rx=\"72\" ry=\"72\"/>\n",
       "</g>\n",
       "<!-- Mali&#45;&#45;BurkinaFaso -->\n",
       "<g id=\"edge15\" class=\"edge\">\n",
       "<title>Mali&#45;&#45;BurkinaFaso</title>\n",
       "<path fill=\"none\" stroke=\"SteelBlue\" stroke-width=\"20\" d=\"M1009.12,-3355.37C1032.83,-3307.94 1064.9,-3243.8 1088.59,-3196.42\"/>\n",
       "</g>\n",
       "<!-- Mali&#45;&#45;Niger -->\n",
       "<g id=\"edge25\" class=\"edge\">\n",
       "<title>Mali&#45;&#45;Niger</title>\n",
       "<path fill=\"none\" stroke=\"SteelBlue\" stroke-width=\"20\" d=\"M1048.98,-3413.99C1211.82,-3400.42 1606.19,-3367.55 1768.83,-3354\"/>\n",
       "</g>\n",
       "<!-- Mali&#45;&#45;Algeria -->\n",
       "<g id=\"edge83\" class=\"edge\">\n",
       "<title>Mali&#45;&#45;Algeria</title>\n",
       "<path fill=\"none\" stroke=\"Blue\" stroke-width=\"20\" d=\"M1015.72,-3481.16C1109.7,-3628.83 1348.15,-4003.55 1442,-4151.03\"/>\n",
       "</g>\n",
       "<!-- Tunisia -->\n",
       "<g id=\"node26\" class=\"node\">\n",
       "<title>Tunisia</title>\n",
       "<ellipse fill=\"Blue\" stroke=\"Black\" cx=\"1912.8\" cy=\"-4644\" rx=\"72\" ry=\"72\"/>\n",
       "</g>\n",
       "<!-- Tunisia&#45;&#45;Libya -->\n",
       "<g id=\"edge105\" class=\"edge\">\n",
       "<title>Tunisia&#45;&#45;Libya</title>\n",
       "<path fill=\"none\" stroke=\"Blue\" stroke-width=\"20\" d=\"M1960.92,-4589.87C2069.48,-4467.74 2332.39,-4171.96 2440.82,-4049.98\"/>\n",
       "</g>\n",
       "<!-- Togo -->\n",
       "<g id=\"node28\" class=\"node\">\n",
       "<title>Togo</title>\n",
       "<ellipse fill=\"Blue\" stroke=\"Black\" cx=\"1348.8\" cy=\"-2772\" rx=\"72\" ry=\"72\"/>\n",
       "</g>\n",
       "<!-- Ghana&#45;&#45;Togo -->\n",
       "<g id=\"edge78\" class=\"edge\">\n",
       "<title>Ghana&#45;&#45;Togo</title>\n",
       "<path fill=\"none\" stroke=\"Blue\" stroke-width=\"20\" d=\"M1193.26,-2772C1219.86,-2772 1249.95,-2772 1276.54,-2772\"/>\n",
       "</g>\n",
       "<!-- Ghana&#45;&#45;BurkinaFaso -->\n",
       "<g id=\"edge77\" class=\"edge\">\n",
       "<title>Ghana&#45;&#45;BurkinaFaso</title>\n",
       "<path fill=\"none\" stroke=\"Blue\" stroke-width=\"20\" d=\"M1120.8,-2844.42C1120.8,-2907.04 1120.8,-2997.11 1120.8,-3059.7\"/>\n",
       "</g>\n",
       "<!-- Togo&#45;&#45;Benin -->\n",
       "<g id=\"edge104\" class=\"edge\">\n",
       "<title>Togo&#45;&#45;Benin</title>\n",
       "<path fill=\"none\" stroke=\"Blue\" stroke-width=\"20\" d=\"M1391.23,-2830.74C1391.3,-2830.84 1391.37,-2830.94 1391.44,-2831.04\"/>\n",
       "</g>\n",
       "<!-- Togo&#45;&#45;BurkinaFaso -->\n",
       "<g id=\"edge3\" class=\"edge\">\n",
       "<title>Togo&#45;&#45;BurkinaFaso</title>\n",
       "<path fill=\"none\" stroke=\"SteelBlue\" stroke-width=\"20\" d=\"M1310.13,-2833.07C1268.14,-2899.37 1201.47,-3004.63 1159.48,-3070.93\"/>\n",
       "</g>\n",
       "<!-- Malawi&#45;&#45;Tanzania -->\n",
       "<g id=\"edge21\" class=\"edge\">\n",
       "<title>Malawi&#45;&#45;Tanzania</title>\n",
       "<path fill=\"none\" stroke=\"SteelBlue\" stroke-width=\"20\" d=\"M3722.36,-1295.71C3736.15,-1399.13 3761.48,-1589.07 3775.26,-1692.43\"/>\n",
       "</g>\n",
       "<!-- BurkinaFaso&#45;&#45;IvoryCoast -->\n",
       "<g id=\"edge5\" class=\"edge\">\n",
       "<title>BurkinaFaso&#45;&#45;IvoryCoast</title>\n",
       "<path fill=\"none\" stroke=\"SteelBlue\" stroke-width=\"20\" d=\"M1083.67,-3070.11C1044.05,-3004.07 981.64,-2900.06 941.99,-2833.98\"/>\n",
       "</g>\n",
       "<!-- BurkinaFaso&#45;&#45;Benin -->\n",
       "<g id=\"edge22\" class=\"edge\">\n",
       "<title>BurkinaFaso&#45;&#45;Benin</title>\n",
       "<path fill=\"none\" stroke=\"SteelBlue\" stroke-width=\"20\" d=\"M1176.57,-3086.07C1231.73,-3040.64 1315.69,-2971.5 1370.9,-2926.04\"/>\n",
       "</g>\n",
       "<!-- BurkinaFaso&#45;&#45;Niger -->\n",
       "<g id=\"edge29\" class=\"edge\">\n",
       "<title>BurkinaFaso&#45;&#45;Niger</title>\n",
       "<path fill=\"none\" stroke=\"SteelBlue\" stroke-width=\"20\" d=\"M1190.17,-3152.81C1327.8,-3194.1 1633.96,-3285.95 1771.52,-3327.22\"/>\n",
       "</g>\n",
       "<!-- SouthAfrica&#45;&#45;Lesotho -->\n",
       "<g id=\"edge97\" class=\"edge\">\n",
       "<title>SouthAfrica&#45;&#45;Lesotho</title>\n",
       "<path fill=\"none\" stroke=\"Blue\" stroke-width=\"20\" d=\"M3064.71,-100.01C3118.31,-94.05 3191.2,-85.96 3244.82,-80\"/>\n",
       "</g>\n",
       "<!-- Sudan&#45;&#45;SouthSudan -->\n",
       "<g id=\"edge19\" class=\"edge\">\n",
       "<title>Sudan&#45;&#45;SouthSudan</title>\n",
       "<path fill=\"none\" stroke=\"SteelBlue\" stroke-width=\"20\" d=\"M3429.99,-3117.44C3436.97,-3020.15 3449.35,-2847.92 3456.34,-2750.6\"/>\n",
       "</g>\n",
       "<!-- Sudan&#45;&#45;Libya -->\n",
       "<g id=\"edge100\" class=\"edge\">\n",
       "<title>Sudan&#45;&#45;Libya</title>\n",
       "<path fill=\"none\" stroke=\"Blue\" stroke-width=\"20\" d=\"M3370.09,-3236.74C3204.4,-3379.49 2709.3,-3806.03 2543.56,-3948.83\"/>\n",
       "</g>\n",
       "<!-- Sudan&#45;&#45;CentralAfricanRepublic -->\n",
       "<g id=\"edge39\" class=\"edge\">\n",
       "<title>Sudan&#45;&#45;CentralAfricanRepublic</title>\n",
       "<path fill=\"none\" stroke=\"SteelBlue\" stroke-width=\"20\" d=\"M3367.01,-3145.94C3244.02,-3053.01 2957.56,-2836.57 2834.58,-2743.65\"/>\n",
       "</g>\n",
       "<!-- Sudan&#45;&#45;Eritrea -->\n",
       "<g id=\"edge99\" class=\"edge\">\n",
       "<title>Sudan&#45;&#45;Eritrea</title>\n",
       "<path fill=\"none\" stroke=\"Blue\" stroke-width=\"20\" d=\"M3496.63,-3199.18C3621.35,-3215.81 3876.55,-3249.83 4001.15,-3266.45\"/>\n",
       "</g>\n",
       "<!-- Uganda&#45;&#45;Rwanda -->\n",
       "<g id=\"edge37\" class=\"edge\">\n",
       "<title>Uganda&#45;&#45;Rwanda</title>\n",
       "<path fill=\"none\" stroke=\"SteelBlue\" stroke-width=\"20\" d=\"M3528.69,-2207.83C3508.8,-2178 3484.84,-2142.06 3464.95,-2112.22\"/>\n",
       "</g>\n",
       "<!-- Uganda&#45;&#45;Kenya -->\n",
       "<g id=\"edge60\" class=\"edge\">\n",
       "<title>Uganda&#45;&#45;Kenya</title>\n",
       "<path fill=\"none\" stroke=\"SteelBlue\" stroke-width=\"20\" d=\"M3641.11,-2268C3720.97,-2268 3848.8,-2268 3928.62,-2268\"/>\n",
       "</g>\n",
       "<!-- Morocco -->\n",
       "<g id=\"node34\" class=\"node\">\n",
       "<title>Morocco</title>\n",
       "<ellipse fill=\"Blue\" stroke=\"Black\" cx=\"904.8\" cy=\"-4500\" rx=\"72\" ry=\"72\"/>\n",
       "</g>\n",
       "<!-- Morocco&#45;&#45;Algeria -->\n",
       "<g id=\"edge51\" class=\"edge\">\n",
       "<title>Morocco&#45;&#45;Algeria</title>\n",
       "<path fill=\"none\" stroke=\"SteelBlue\" stroke-width=\"20\" d=\"M969.48,-4467.66C1080.28,-4412.26 1305.14,-4299.83 1416.01,-4244.4\"/>\n",
       "</g>\n",
       "<!-- EquatorialGuinea -->\n",
       "<g id=\"node35\" class=\"node\">\n",
       "<title>EquatorialGuinea</title>\n",
       "<ellipse fill=\"Blue\" stroke=\"Black\" cx=\"1984.8\" cy=\"-2340\" rx=\"72\" ry=\"72\"/>\n",
       "</g>\n",
       "<!-- EquatorialGuinea&#45;&#45;Gabon -->\n",
       "<g id=\"edge24\" class=\"edge\">\n",
       "<title>EquatorialGuinea&#45;&#45;Gabon</title>\n",
       "<path fill=\"none\" stroke=\"SteelBlue\" stroke-width=\"20\" d=\"M2021.25,-2277.52C2037.96,-2248.87 2057.73,-2214.98 2074.44,-2186.34\"/>\n",
       "</g>\n",
       "<!-- Djibouti -->\n",
       "<g id=\"node39\" class=\"node\">\n",
       "<title>Djibouti</title>\n",
       "<ellipse fill=\"Blue\" stroke=\"Black\" cx=\"4360.8\" cy=\"-3024\" rx=\"72\" ry=\"72\"/>\n",
       "</g>\n",
       "<!-- Eritrea&#45;&#45;Djibouti -->\n",
       "<g id=\"edge47\" class=\"edge\">\n",
       "<title>Eritrea&#45;&#45;Djibouti</title>\n",
       "<path fill=\"none\" stroke=\"SteelBlue\" stroke-width=\"20\" d=\"M4127.31,-3228.3C4178.68,-3183.36 4255.22,-3116.38 4306.52,-3071.5\"/>\n",
       "</g>\n",
       "<!-- Chad -->\n",
       "<g id=\"node38\" class=\"node\">\n",
       "<title>Chad</title>\n",
       "<ellipse fill=\"Blue\" stroke=\"Black\" cx=\"2632.8\" cy=\"-3276\" rx=\"72\" ry=\"72\"/>\n",
       "</g>\n",
       "<!-- Chad&#45;&#45;Libya -->\n",
       "<g id=\"edge69\" class=\"edge\">\n",
       "<title>Chad&#45;&#45;Libya</title>\n",
       "<path fill=\"none\" stroke=\"Blue\" stroke-width=\"20\" d=\"M2618.6,-3347.01C2591.03,-3484.84 2530.57,-3787.16 2503,-3924.99\"/>\n",
       "</g>\n",
       "<!-- Chad&#45;&#45;Nigeria -->\n",
       "<g id=\"edge50\" class=\"edge\">\n",
       "<title>Chad&#45;&#45;Nigeria</title>\n",
       "<path fill=\"none\" stroke=\"SteelBlue\" stroke-width=\"20\" d=\"M2566.98,-3246.08C2417.85,-3178.29 2055.65,-3013.66 1906.57,-2945.89\"/>\n",
       "</g>\n",
       "<!-- Chad&#45;&#45;CentralAfricanRepublic -->\n",
       "<g id=\"edge30\" class=\"edge\">\n",
       "<title>Chad&#45;&#45;CentralAfricanRepublic</title>\n",
       "<path fill=\"none\" stroke=\"SteelBlue\" stroke-width=\"20\" d=\"M2650.32,-3205.95C2678.01,-3095.17 2731.61,-2880.77 2759.3,-2770.02\"/>\n",
       "</g>\n",
       "<!-- Chad&#45;&#45;Sudan -->\n",
       "<g id=\"edge32\" class=\"edge\">\n",
       "<title>Chad&#45;&#45;Sudan</title>\n",
       "<path fill=\"none\" stroke=\"SteelBlue\" stroke-width=\"20\" d=\"M2704.83,-3268.14C2855.46,-3251.71 3202.19,-3213.88 3352.79,-3197.46\"/>\n",
       "</g>\n",
       "<!-- Chad&#45;&#45;Niger -->\n",
       "<g id=\"edge20\" class=\"edge\">\n",
       "<title>Chad&#45;&#45;Niger</title>\n",
       "<path fill=\"none\" stroke=\"SteelBlue\" stroke-width=\"20\" d=\"M2560.77,-3282.55C2410.15,-3296.24 2063.41,-3327.76 1912.81,-3341.45\"/>\n",
       "</g>\n",
       "<!-- Somalia -->\n",
       "<g id=\"node43\" class=\"node\">\n",
       "<title>Somalia</title>\n",
       "<ellipse fill=\"Blue\" stroke=\"Black\" cx=\"4792.8\" cy=\"-2916\" rx=\"72\" ry=\"72\"/>\n",
       "</g>\n",
       "<!-- Djibouti&#45;&#45;Somalia -->\n",
       "<g id=\"edge72\" class=\"edge\">\n",
       "<title>Djibouti&#45;&#45;Somalia</title>\n",
       "<path fill=\"none\" stroke=\"Blue\" stroke-width=\"20\" d=\"M4430.69,-3006.53C4511.05,-2986.44 4642.19,-2953.65 4722.66,-2933.54\"/>\n",
       "</g>\n",
       "<!-- Niger&#45;&#45;Libya -->\n",
       "<g id=\"edge90\" class=\"edge\">\n",
       "<title>Niger&#45;&#45;Libya</title>\n",
       "<path fill=\"none\" stroke=\"Blue\" stroke-width=\"20\" d=\"M1891.92,-3399.12C2013.11,-3520.3 2316.73,-3823.93 2437.8,-3945\"/>\n",
       "</g>\n",
       "<!-- Namibia&#45;&#45;Zambia -->\n",
       "<g id=\"edge89\" class=\"edge\">\n",
       "<title>Namibia&#45;&#45;Zambia</title>\n",
       "<path fill=\"none\" stroke=\"Blue\" stroke-width=\"20\" d=\"M2552.4,-646.25C2723.16,-738.19 3190.26,-989.71 3361.12,-1081.71\"/>\n",
       "</g>\n",
       "<!-- Namibia&#45;&#45;SouthAfrica -->\n",
       "<g id=\"edge41\" class=\"edge\">\n",
       "<title>Namibia&#45;&#45;SouthAfrica</title>\n",
       "<path fill=\"none\" stroke=\"SteelBlue\" stroke-width=\"20\" d=\"M2539.9,-560.9C2636.5,-464.3 2844.86,-255.94 2941.57,-159.24\"/>\n",
       "</g>\n",
       "<!-- Cameroon&#45;&#45;RepublicCongo -->\n",
       "<g id=\"edge67\" class=\"edge\">\n",
       "<title>Cameroon&#45;&#45;RepublicCongo</title>\n",
       "<path fill=\"none\" stroke=\"Blue\" stroke-width=\"20\" d=\"M2157.26,-2561.59C2198.62,-2465.1 2274.89,-2287.13 2316.28,-2190.55\"/>\n",
       "</g>\n",
       "<!-- Cameroon&#45;&#45;Gabon -->\n",
       "<g id=\"edge27\" class=\"edge\">\n",
       "<title>Cameroon&#45;&#45;Gabon</title>\n",
       "<path fill=\"none\" stroke=\"SteelBlue\" stroke-width=\"20\" d=\"M2126.22,-2555.79C2122.8,-2459.98 2116.8,-2291.82 2113.38,-2196.08\"/>\n",
       "</g>\n",
       "<!-- Cameroon&#45;&#45;CentralAfricanRepublic -->\n",
       "<g id=\"edge59\" class=\"edge\">\n",
       "<title>Cameroon&#45;&#45;CentralAfricanRepublic</title>\n",
       "<path fill=\"none\" stroke=\"SteelBlue\" stroke-width=\"20\" d=\"M2200.63,-2635.98C2325.35,-2649.84 2580.55,-2678.19 2705.15,-2692.04\"/>\n",
       "</g>\n",
       "<!-- Cameroon&#45;&#45;EquatorialGuinea -->\n",
       "<g id=\"edge66\" class=\"edge\">\n",
       "<title>Cameroon&#45;&#45;EquatorialGuinea</title>\n",
       "<path fill=\"none\" stroke=\"Blue\" stroke-width=\"20\" d=\"M2096.49,-2563.37C2072.77,-2515.94 2040.7,-2451.8 2017.01,-2404.42\"/>\n",
       "</g>\n",
       "<!-- Cameroon&#45;&#45;Chad -->\n",
       "<g id=\"edge65\" class=\"edge\">\n",
       "<title>Cameroon&#45;&#45;Chad</title>\n",
       "<path fill=\"none\" stroke=\"Blue\" stroke-width=\"20\" d=\"M2173.31,-2685.22C2268.93,-2808.16 2493.04,-3096.3 2588.49,-3219.02\"/>\n",
       "</g>\n",
       "<!-- Somalia&#45;&#45;Kenya -->\n",
       "<g id=\"edge96\" class=\"edge\">\n",
       "<title>Somalia&#45;&#45;Kenya</title>\n",
       "<path fill=\"none\" stroke=\"Blue\" stroke-width=\"20\" d=\"M4736.79,-2870.18C4591.29,-2751.12 4202.51,-2433.03 4056.9,-2313.9\"/>\n",
       "</g>\n",
       "<!-- Algeria&#45;&#45;Libya -->\n",
       "<g id=\"edge62\" class=\"edge\">\n",
       "<title>Algeria&#45;&#45;Libya</title>\n",
       "<path fill=\"none\" stroke=\"Blue\" stroke-width=\"20\" d=\"M1551.68,-4196.81C1736.76,-4157.15 2233.01,-4050.81 2418,-4011.17\"/>\n",
       "</g>\n",
       "<!-- Algeria&#45;&#45;Tunisia -->\n",
       "<g id=\"edge38\" class=\"edge\">\n",
       "<title>Algeria&#45;&#45;Tunisia</title>\n",
       "<path fill=\"none\" stroke=\"SteelBlue\" stroke-width=\"20\" d=\"M1532.05,-4263.25C1615.2,-4346.39 1778.52,-4509.71 1861.62,-4592.81\"/>\n",
       "</g>\n",
       "<!-- Algeria&#45;&#45;Niger -->\n",
       "<g id=\"edge16\" class=\"edge\">\n",
       "<title>Algeria&#45;&#45;Niger</title>\n",
       "<path fill=\"none\" stroke=\"SteelBlue\" stroke-width=\"20\" d=\"M1508.6,-4145.28C1575.69,-3984.28 1745.84,-3575.9 1812.96,-3414.81\"/>\n",
       "</g>\n",
       "<!-- WesternSahara -->\n",
       "<g id=\"node47\" class=\"node\">\n",
       "<title>WesternSahara</title>\n",
       "<ellipse fill=\"Blue\" stroke=\"Black\" cx=\"328.8\" cy=\"-3960\" rx=\"72\" ry=\"72\"/>\n",
       "</g>\n",
       "<!-- Algeria&#45;&#45;WesternSahara -->\n",
       "<g id=\"edge63\" class=\"edge\">\n",
       "<title>Algeria&#45;&#45;WesternSahara</title>\n",
       "<path fill=\"none\" stroke=\"Blue\" stroke-width=\"20\" d=\"M1410.04,-4196.52C1203.95,-4151.44 605.73,-4020.58 399.6,-3975.49\"/>\n",
       "</g>\n",
       "<!-- Mozambique&#45;&#45;Tanzania -->\n",
       "<g id=\"edge88\" class=\"edge\">\n",
       "<title>Mozambique&#45;&#45;Tanzania</title>\n",
       "<path fill=\"none\" stroke=\"Blue\" stroke-width=\"20\" d=\"M3784.8,-954.18C3784.8,-1119.88 3784.8,-1525.99 3784.8,-1691.75\"/>\n",
       "</g>\n",
       "<!-- Mozambique&#45;&#45;Malawi -->\n",
       "<g id=\"edge86\" class=\"edge\">\n",
       "<title>Mozambique&#45;&#45;Malawi</title>\n",
       "<path fill=\"none\" stroke=\"Blue\" stroke-width=\"20\" d=\"M3769.88,-952.86C3757.53,-1011.56 3740.05,-1094.56 3727.7,-1153.23\"/>\n",
       "</g>\n",
       "<!-- Mozambique&#45;&#45;SouthAfrica -->\n",
       "<g id=\"edge87\" class=\"edge\">\n",
       "<title>Mozambique&#45;&#45;SouthAfrica</title>\n",
       "<path fill=\"none\" stroke=\"Blue\" stroke-width=\"20\" d=\"M3733.14,-831.51C3589.75,-691.38 3187.94,-298.7 3044.5,-158.52\"/>\n",
       "</g>\n",
       "<!-- Ethiopia -->\n",
       "<g id=\"node46\" class=\"node\">\n",
       "<title>Ethiopia</title>\n",
       "<ellipse fill=\"Blue\" stroke=\"Black\" cx=\"4000.8\" cy=\"-2772\" rx=\"72\" ry=\"72\"/>\n",
       "</g>\n",
       "<!-- Ethiopia&#45;&#45;SouthSudan -->\n",
       "<g id=\"edge36\" class=\"edge\">\n",
       "<title>Ethiopia&#45;&#45;SouthSudan</title>\n",
       "<path fill=\"none\" stroke=\"SteelBlue\" stroke-width=\"20\" d=\"M3929.47,-2759.62C3826.13,-2741.68 3635.88,-2708.66 3532.65,-2690.75\"/>\n",
       "</g>\n",
       "<!-- Ethiopia&#45;&#45;Kenya -->\n",
       "<g id=\"edge33\" class=\"edge\">\n",
       "<title>Ethiopia&#45;&#45;Kenya</title>\n",
       "<path fill=\"none\" stroke=\"SteelBlue\" stroke-width=\"20\" d=\"M4000.8,-2699.52C4000.8,-2603.77 4000.8,-2436.11 4000.8,-2340.4\"/>\n",
       "</g>\n",
       "<!-- Ethiopia&#45;&#45;Sudan -->\n",
       "<g id=\"edge10\" class=\"edge\">\n",
       "<title>Ethiopia&#45;&#45;Sudan</title>\n",
       "<path fill=\"none\" stroke=\"SteelBlue\" stroke-width=\"20\" d=\"M3942.14,-2814.53C3831.6,-2894.67 3593.69,-3067.16 3483.29,-3147.2\"/>\n",
       "</g>\n",
       "<!-- Ethiopia&#45;&#45;Eritrea -->\n",
       "<g id=\"edge74\" class=\"edge\">\n",
       "<title>Ethiopia&#45;&#45;Eritrea</title>\n",
       "<path fill=\"none\" stroke=\"Blue\" stroke-width=\"20\" d=\"M4011.04,-2843.68C4024.75,-2939.61 4048.91,-3108.76 4062.6,-3204.57\"/>\n",
       "</g>\n",
       "<!-- Ethiopia&#45;&#45;Djibouti -->\n",
       "<g id=\"edge23\" class=\"edge\">\n",
       "<title>Ethiopia&#45;&#45;Djibouti</title>\n",
       "<path fill=\"none\" stroke=\"SteelBlue\" stroke-width=\"20\" d=\"M4059.85,-2813.33C4126.57,-2860.04 4234.57,-2935.63 4301.43,-2982.44\"/>\n",
       "</g>\n",
       "<!-- Ethiopia&#45;&#45;Somalia -->\n",
       "<g id=\"edge75\" class=\"edge\">\n",
       "<title>Ethiopia&#45;&#45;Somalia</title>\n",
       "<path fill=\"none\" stroke=\"Blue\" stroke-width=\"20\" d=\"M4071.78,-2784.91C4222.14,-2812.24 4571.23,-2875.71 4721.7,-2903.07\"/>\n",
       "</g>\n",
       "<!-- WesternSahara&#45;&#45;Mauritania -->\n",
       "<g id=\"edge52\" class=\"edge\">\n",
       "<title>WesternSahara&#45;&#45;Mauritania</title>\n",
       "<path fill=\"none\" stroke=\"SteelBlue\" stroke-width=\"20\" d=\"M344.51,-3889.3C356.55,-3835.11 373.09,-3760.7 385.12,-3706.55\"/>\n",
       "</g>\n",
       "<!-- WesternSahara&#45;&#45;Morocco -->\n",
       "<g id=\"edge106\" class=\"edge\">\n",
       "<title>WesternSahara&#45;&#45;Morocco</title>\n",
       "<path fill=\"none\" stroke=\"Blue\" stroke-width=\"20\" d=\"M381.45,-4009.35C491.01,-4112.07 742.44,-4347.78 852.07,-4450.57\"/>\n",
       "</g>\n",
       "<!-- Zimbabwe&#45;&#45;SouthAfrica -->\n",
       "<g id=\"edge53\" class=\"edge\">\n",
       "<title>Zimbabwe&#45;&#45;SouthAfrica</title>\n",
       "<path fill=\"none\" stroke=\"SteelBlue\" stroke-width=\"20\" d=\"M3384.74,-695.91C3302.43,-572.45 3115.13,-291.5 3032.84,-168.06\"/>\n",
       "</g>\n",
       "<!-- Zimbabwe&#45;&#45;Mozambique -->\n",
       "<g id=\"edge109\" class=\"edge\">\n",
       "<title>Zimbabwe&#45;&#45;Mozambique</title>\n",
       "<path fill=\"none\" stroke=\"Blue\" stroke-width=\"20\" d=\"M3492.94,-779.85C3557.05,-802.29 3652.52,-835.7 3716.64,-858.14\"/>\n",
       "</g>\n",
       "</g>\n",
       "</svg>\n"
      ]
     },
     "execution_count": 49,
     "metadata": {},
     "output_type": "execute_result"
    }
   ],
   "source": [
    "#% html\n",
    "$africaGraph.vertex-coordinates = %africaCoords;\n",
    "$africaGraph.dot(\n",
    "    highlight => {Blue => [|$africanTree.vertex-list, |$africanTree.edges]},\n",
    "    graph-size => (6, 6),\n",
    "    edge-thickness => 20,\n",
    "    node-width => 2,\n",
    "    :!node-labels,\n",
    "    engine => 'neato'\n",
    "    ):svg"
   ]
  },
  {
   "cell_type": "markdown",
   "metadata": {},
   "source": [
    "-------\n",
    "\n",
    "## Graph by list-line-plot"
   ]
  },
  {
   "cell_type": "code",
   "execution_count": 28,
   "metadata": {},
   "outputs": [
    {
     "data": {
      "text/plain": [
       "[{group => 0, x => 3, y => 28} {group => 0, x => 17, y => 25} {group => 1, x => 3, y => 28} {group => 1, x => -4, y => 17} {group => 2, x => 3, y => 28} {group => 2, x => -12, y => 20} {group => 3, x => 3, y => 28} {group => 3, x => -5, y => 32} {group => 4, x => 3, y => 28} {group => 4, x => 8, y => 16} {group => 5, x => 3, y => 28} {group => 5, x => 9, y => 34} {group => 6, x => 3, y => 28} {group => 6, x => -13, y => 24.5} {group => 7, x => 17, y => 25} {group => 7, x => 8, y => 16} {group => 8, x => 17, y => 25} {group => 8, x => 9, y => 34} {group => 9, x => 17, y => 25} {group => 9, x => 19, y => 15} {group => 10, x => 17, y => 25} {group => 10, x => 30, y => 27} {group => 11, x => 17, y => 25} {group => 11, x => 30, y => 13.8} {group => 12, x => -4, y => 17} {group => 12, x => -12, y => 20} {group => 13, x => -4, y => 17} {group => 13, x => 8, y => 16} {group => 14, x => -4, y => 17} {group => 14, x => -2, y => 13} {group => 15, x => -4, y => 17} {group => 15, x => -10, y => 11} {group => 16, x => -4, y => 17} {group => 16, x => -5, y => 8} {group => 17, x => -4, y => 17} {group => 17, x => -14, y => 14} {group => 18, x => -12, y => 20} {group => 18, x => -13, y => 24.5} {group => 19, x => -12, y => 20} {group => 19, x => -14, y => 14} {group => 20, x => -5, y => 32} {group => 20, x => -13, y => 24.5} {group => 21, x => 8, y => 16} {group => 21, x => 19, y => 15} {group => 22, x => 8, y => 16} {group => 22, x => -2, y => 13} {group => 23, x => 8, y => 16} {group => 23, x => 2.25, y => 9.5} {group => 24, x => 8, y => 16} {group => 24, x => 8, y => 10} {group => 25, x => 19, y => 15} {group => 25, x => 30, y => 13.8} {group => 26, x => 19, y => 15} {group => 26, x => 8, y => 10} {group => 27, x => 19, y => 15} {group => 27, x => 12, y => 6} {group => 28, x => 19, y => 15} {group => 28, x => 21, y => 7} {group => 29, x => 30, y => 27} {group => 29, x => 30, y => 13.8} {group => 30, x => 30, y => 13.8} {group => 30, x => 21, y => 7} {group => 31, x => 30, y => 13.8} {group => 31, x => 39, y => 15} {group => 32, x => 30, y => 13.8} {group => 32, x => 38, y => 8} {group => 33, x => 30, y => 13.8} {group => 33, x => 30.51, y => 6.7} {group => 34, x => -2, y => 13} {group => 34, x => -5, y => 8} {group => 35, x => -2, y => 13} {group => 35, x => 2.25, y => 9.5} {group => 36, x => -2, y => 13} {group => 36, x => -2, y => 8} {group => 37, x => -2, y => 13} {group => 37, x => 1.1667, y => 8} {group => 38, x => -10, y => 11} {group => 38, x => -5, y => 8} {group => 39, x => -10, y => 11} {group => 39, x => -14, y => 14} {group => 40, x => -10, y => 11} {group => 40, x => -15, y => 12} {group => 41, x => -10, y => 11} {group => 41, x => -9.5, y => 6.5} {group => 42, x => -10, y => 11} {group => 42, x => -11.5, y => 8.5} {group => 43, x => -5, y => 8} {group => 43, x => -2, y => 8} {group => 44, x => -5, y => 8} {group => 44, x => -9.5, y => 6.5} {group => 45, x => -14, y => 14} {group => 45, x => -15, y => 12} {group => 46, x => -14, y => 14} {group => 46, x => -16.5667, y => 13.4667} {group => 47, x => 2.25, y => 9.5} {group => 47, x => 8, y => 10} {group => 48, x => 2.25, y => 9.5} {group => 48, x => 1.1667, y => 8} {group => 49, x => 8, y => 10} {group => 49, x => 12, y => 6} ...]"
      ]
     },
     "execution_count": 28,
     "metadata": {},
     "output_type": "execute_result"
    }
   ],
   "source": [
    "my $k = 0;\n",
    "my @africaEdges2 = @africaEdges.map({ \n",
    "    [\n",
    "        %(x => %africaCoords{$_<from>}.head, y => %africaCoords{$_<from>}.tail, group => ~$k), \n",
    "        %(x => %africaCoords{$_<to>}.head, y => %africaCoords{$_<to>}.tail, group => ~$k++), \n",
    "    ]}).flat"
   ]
  },
  {
   "cell_type": "code",
   "execution_count": 29,
   "metadata": {},
   "outputs": [
    {
     "data": {
      "application/javascript": "(function(element) { require(['d3'], function(d3) {\n\n// set the dimensions and margins of the graph\nvar margin = {\"right\":40,\"bottom\":40,\"top\":40,\"left\":40},\n    width = 600 - margin.left - margin.right,\n    height = 600 - margin.top - margin.bottom;\n\n// append the svg object to the body of the page\nvar svg = d3\n   .select(element.get(0))\n  .append(\"svg\")\n    .attr(\"width\", width + margin.left + margin.right)\n    .attr(\"height\", height + margin.top + margin.bottom)\n    .style(\"background\", \"1F1F1F\")\n  .append(\"g\")\n    .attr(\"transform\",\n          \"translate(\" + margin.left + \",\" + margin.top + \")\")\n\n// Obtain title\nvar title = \"\"\nvar titleFontSize = 16\n\nif ( title.length > 0 ) {\n    svg.append(\"text\")\n        .attr(\"x\", (width / 2))\n        .attr(\"y\", 0 - (margin.top / 2))\n        .attr(\"text-anchor\", \"middle\")\n        .style(\"font-size\", titleFontSize.toString() + \"px\")\n        .style(\"fill\", \"Black\")\n        .text(title);\n}\n\n// Obtain x-axis label\nvar xAxisLabel = \"\"\nvar xAxisLabelFontSize = 12\n\nif ( xAxisLabel.length > 0 ) {\n    svg.append(\"text\")\n        .attr(\"x\", (width / 2))\n        .attr(\"y\", height + margin.bottom - xAxisLabelFontSize/2)\n        .attr(\"text-anchor\", \"middle\")\n        .style(\"font-size\", xAxisLabelFontSize.toString() + \"px\")\n        .style(\"fill\", \"Black\")\n        .text(xAxisLabel);\n}\n\n// Obtain y-axis label\nvar yAxisLabel = \"\"\nvar yAxisLabelFontSize = 12\n\nif ( yAxisLabel.length > 0 ) {\n    svg.append(\"text\")\n        .attr(\"transform\", \"rotate(-90)\")\n        .attr(\"x\", - (height / 2))\n        .attr(\"y\", 0 - margin.left + yAxisLabelFontSize)\n        .attr(\"text-anchor\", \"middle\")\n        .style(\"font-size\", yAxisLabelFontSize.toString() + \"px\")\n        .style(\"fill\", \"Black\")\n        .text(yAxisLabel);\n}\n\n\n// Obtain data\nvar data = [{\"group\":\"0\",\"x\":3.0,\"y\":28.0},{\"group\":\"0\",\"y\":25.0,\"x\":17.0},{\"group\":\"1\",\"y\":28.0,\"x\":3.0},{\"y\":17.0,\"x\":-4.0,\"group\":\"1\"},{\"group\":\"2\",\"x\":3.0,\"y\":28.0},{\"x\":-12.0,\"y\":20.0,\"group\":\"2\"},{\"y\":28.0,\"x\":3.0,\"group\":\"3\"},{\"y\":32.0,\"x\":-5.0,\"group\":\"3\"},{\"group\":\"4\",\"y\":28.0,\"x\":3.0},{\"y\":16.0,\"x\":8.0,\"group\":\"4\"},{\"group\":\"5\",\"y\":28.0,\"x\":3.0},{\"group\":\"5\",\"x\":9.0,\"y\":34.0},{\"group\":\"6\",\"x\":3.0,\"y\":28.0},{\"x\":-13.0,\"group\":\"6\",\"y\":24.5},{\"x\":17.0,\"group\":\"7\",\"y\":25.0},{\"group\":\"7\",\"y\":16.0,\"x\":8.0},{\"group\":\"8\",\"x\":17.0,\"y\":25.0},{\"y\":34.0,\"x\":9.0,\"group\":\"8\"},{\"x\":17.0,\"y\":25.0,\"group\":\"9\"},{\"y\":15.0,\"group\":\"9\",\"x\":19.0},{\"x\":17.0,\"group\":\"10\",\"y\":25.0},{\"y\":27.0,\"x\":30.0,\"group\":\"10\"},{\"group\":\"11\",\"y\":25.0,\"x\":17.0},{\"y\":13.8,\"x\":30.0,\"group\":\"11\"},{\"group\":\"12\",\"y\":17.0,\"x\":-4.0},{\"x\":-12.0,\"group\":\"12\",\"y\":20.0},{\"x\":-4.0,\"group\":\"13\",\"y\":17.0},{\"group\":\"13\",\"x\":8.0,\"y\":16.0},{\"group\":\"14\",\"x\":-4.0,\"y\":17.0},{\"y\":13.0,\"x\":-2.0,\"group\":\"14\"},{\"group\":\"15\",\"x\":-4.0,\"y\":17.0},{\"y\":11.0,\"group\":\"15\",\"x\":-10.0},{\"x\":-4.0,\"group\":\"16\",\"y\":17.0},{\"x\":-5.0,\"y\":8.0,\"group\":\"16\"},{\"x\":-4.0,\"group\":\"17\",\"y\":17.0},{\"y\":14.0,\"x\":-14.0,\"group\":\"17\"},{\"y\":20.0,\"x\":-12.0,\"group\":\"18\"},{\"x\":-13.0,\"y\":24.5,\"group\":\"18\"},{\"x\":-12.0,\"y\":20.0,\"group\":\"19\"},{\"y\":14.0,\"group\":\"19\",\"x\":-14.0},{\"y\":32.0,\"group\":\"20\",\"x\":-5.0},{\"y\":24.5,\"group\":\"20\",\"x\":-13.0},{\"group\":\"21\",\"x\":8.0,\"y\":16.0},{\"x\":19.0,\"group\":\"21\",\"y\":15.0},{\"x\":8.0,\"y\":16.0,\"group\":\"22\"},{\"y\":13.0,\"group\":\"22\",\"x\":-2.0},{\"x\":8.0,\"group\":\"23\",\"y\":16.0},{\"y\":9.5,\"group\":\"23\",\"x\":2.25},{\"y\":16.0,\"group\":\"24\",\"x\":8.0},{\"group\":\"24\",\"y\":10.0,\"x\":8.0},{\"y\":15.0,\"x\":19.0,\"group\":\"25\"},{\"x\":30.0,\"group\":\"25\",\"y\":13.8},{\"group\":\"26\",\"y\":15.0,\"x\":19.0},{\"x\":8.0,\"group\":\"26\",\"y\":10.0},{\"x\":19.0,\"y\":15.0,\"group\":\"27\"},{\"group\":\"27\",\"y\":6.0,\"x\":12.0},{\"group\":\"28\",\"y\":15.0,\"x\":19.0},{\"x\":21.0,\"y\":7.0,\"group\":\"28\"},{\"y\":27.0,\"group\":\"29\",\"x\":30.0},{\"group\":\"29\",\"x\":30.0,\"y\":13.8},{\"group\":\"30\",\"y\":13.8,\"x\":30.0},{\"x\":21.0,\"group\":\"30\",\"y\":7.0},{\"x\":30.0,\"y\":13.8,\"group\":\"31\"},{\"y\":15.0,\"x\":39.0,\"group\":\"31\"},{\"group\":\"32\",\"x\":30.0,\"y\":13.8},{\"x\":38.0,\"y\":8.0,\"group\":\"32\"},{\"group\":\"33\",\"y\":13.8,\"x\":30.0},{\"x\":30.51,\"y\":6.7,\"group\":\"33\"},{\"y\":13.0,\"x\":-2.0,\"group\":\"34\"},{\"x\":-5.0,\"y\":8.0,\"group\":\"34\"},{\"y\":13.0,\"group\":\"35\",\"x\":-2.0},{\"y\":9.5,\"x\":2.25,\"group\":\"35\"},{\"group\":\"36\",\"x\":-2.0,\"y\":13.0},{\"group\":\"36\",\"x\":-2.0,\"y\":8.0},{\"group\":\"37\",\"y\":13.0,\"x\":-2.0},{\"y\":8.0,\"group\":\"37\",\"x\":1.1667},{\"group\":\"38\",\"y\":11.0,\"x\":-10.0},{\"x\":-5.0,\"y\":8.0,\"group\":\"38\"},{\"x\":-10.0,\"y\":11.0,\"group\":\"39\"},{\"y\":14.0,\"x\":-14.0,\"group\":\"39\"},{\"x\":-10.0,\"y\":11.0,\"group\":\"40\"},{\"y\":12.0,\"group\":\"40\",\"x\":-15.0},{\"y\":11.0,\"x\":-10.0,\"group\":\"41\"},{\"group\":\"41\",\"y\":6.5,\"x\":-9.5},{\"y\":11.0,\"x\":-10.0,\"group\":\"42\"},{\"y\":8.5,\"x\":-11.5,\"group\":\"42\"},{\"x\":-5.0,\"group\":\"43\",\"y\":8.0},{\"group\":\"43\",\"y\":8.0,\"x\":-2.0},{\"x\":-5.0,\"group\":\"44\",\"y\":8.0},{\"y\":6.5,\"group\":\"44\",\"x\":-9.5},{\"y\":14.0,\"group\":\"45\",\"x\":-14.0},{\"x\":-15.0,\"group\":\"45\",\"y\":12.0},{\"x\":-14.0,\"group\":\"46\",\"y\":14.0},{\"group\":\"46\",\"x\":-16.5667,\"y\":13.4667},{\"group\":\"47\",\"x\":2.25,\"y\":9.5},{\"group\":\"47\",\"x\":8.0,\"y\":10.0},{\"x\":2.25,\"y\":9.5,\"group\":\"48\"},{\"x\":1.1667,\"y\":8.0,\"group\":\"48\"},{\"group\":\"49\",\"y\":10.0,\"x\":8.0},{\"group\":\"49\",\"x\":12.0,\"y\":6.0},{\"group\":\"50\",\"x\":12.0,\"y\":6.0},{\"x\":21.0,\"y\":7.0,\"group\":\"50\"},{\"group\":\"51\",\"x\":12.0,\"y\":6.0},{\"x\":10.0,\"group\":\"51\",\"y\":2.0},{\"y\":6.0,\"group\":\"52\",\"x\":12.0},{\"group\":\"52\",\"x\":11.75,\"y\":-1.0},{\"x\":12.0,\"group\":\"53\",\"y\":6.0},{\"x\":15.0,\"y\":-1.0,\"group\":\"53\"},{\"y\":7.0,\"x\":21.0,\"group\":\"54\"},{\"x\":30.51,\"group\":\"54\",\"y\":6.7},{\"group\":\"55\",\"x\":21.0,\"y\":7.0},{\"x\":15.0,\"y\":-1.0,\"group\":\"55\"},{\"y\":7.0,\"group\":\"56\",\"x\":21.0},{\"group\":\"56\",\"y\":0.0,\"x\":25.0},{\"group\":\"57\",\"y\":15.0,\"x\":39.0},{\"group\":\"57\",\"y\":8.0,\"x\":38.0},{\"y\":15.0,\"group\":\"58\",\"x\":39.0},{\"group\":\"58\",\"y\":6.7,\"x\":30.51},{\"x\":39.0,\"group\":\"59\",\"y\":15.0},{\"x\":43.0,\"y\":11.5,\"group\":\"59\"},{\"group\":\"60\",\"y\":8.0,\"x\":38.0},{\"group\":\"60\",\"x\":30.51,\"y\":6.7},{\"y\":8.0,\"x\":38.0,\"group\":\"61\"},{\"group\":\"61\",\"y\":11.5,\"x\":43.0},{\"y\":8.0,\"group\":\"62\",\"x\":38.0},{\"y\":1.0,\"x\":38.0,\"group\":\"62\"},{\"y\":8.0,\"x\":38.0,\"group\":\"63\"},{\"x\":49.0,\"group\":\"63\",\"y\":10.0},{\"y\":6.7,\"x\":30.51,\"group\":\"64\"},{\"group\":\"64\",\"y\":0.0,\"x\":25.0},{\"x\":30.51,\"group\":\"65\",\"y\":6.7},{\"group\":\"65\",\"x\":38.0,\"y\":1.0},{\"y\":6.7,\"x\":30.51,\"group\":\"66\"},{\"x\":32.0,\"group\":\"66\",\"y\":1.0},{\"group\":\"67\",\"y\":8.0,\"x\":-2.0},{\"y\":8.0,\"x\":1.1667,\"group\":\"67\"},{\"y\":6.5,\"x\":-9.5,\"group\":\"68\"},{\"x\":-11.5,\"group\":\"68\",\"y\":8.5},{\"group\":\"69\",\"y\":2.0,\"x\":10.0},{\"y\":-1.0,\"x\":11.75,\"group\":\"69\"},{\"x\":11.75,\"y\":-1.0,\"group\":\"70\"},{\"group\":\"70\",\"y\":-1.0,\"x\":15.0},{\"group\":\"71\",\"y\":-1.0,\"x\":15.0},{\"group\":\"71\",\"x\":25.0,\"y\":0.0},{\"group\":\"72\",\"x\":15.0,\"y\":-1.0},{\"y\":-12.5,\"x\":18.5,\"group\":\"72\"},{\"x\":25.0,\"y\":0.0,\"group\":\"73\"},{\"x\":32.0,\"y\":1.0,\"group\":\"73\"},{\"y\":0.0,\"x\":25.0,\"group\":\"74\"},{\"x\":18.5,\"y\":-12.5,\"group\":\"74\"},{\"y\":0.0,\"x\":25.0,\"group\":\"75\"},{\"x\":30.0,\"group\":\"75\",\"y\":-3.5},{\"x\":25.0,\"group\":\"76\",\"y\":0.0},{\"x\":30.0,\"y\":-2.0,\"group\":\"76\"},{\"group\":\"77\",\"y\":0.0,\"x\":25.0},{\"x\":35.0,\"y\":-6.0,\"group\":\"77\"},{\"x\":25.0,\"y\":0.0,\"group\":\"78\"},{\"y\":-15.0,\"group\":\"78\",\"x\":30.0},{\"group\":\"79\",\"x\":43.0,\"y\":11.5},{\"y\":10.0,\"group\":\"79\",\"x\":49.0},{\"x\":38.0,\"y\":1.0,\"group\":\"80\"},{\"y\":10.0,\"x\":49.0,\"group\":\"80\"},{\"y\":1.0,\"group\":\"81\",\"x\":38.0},{\"group\":\"81\",\"y\":1.0,\"x\":32.0},{\"x\":38.0,\"group\":\"82\",\"y\":1.0},{\"y\":-6.0,\"x\":35.0,\"group\":\"82\"},{\"group\":\"83\",\"x\":32.0,\"y\":1.0},{\"y\":-2.0,\"x\":30.0,\"group\":\"83\"},{\"x\":32.0,\"y\":1.0,\"group\":\"84\"},{\"group\":\"84\",\"y\":-6.0,\"x\":35.0},{\"y\":-12.5,\"x\":18.5,\"group\":\"85\"},{\"group\":\"85\",\"x\":30.0,\"y\":-15.0},{\"x\":18.5,\"group\":\"86\",\"y\":-12.5},{\"x\":17.0,\"group\":\"86\",\"y\":-22.0},{\"y\":-3.5,\"x\":30.0,\"group\":\"87\"},{\"group\":\"87\",\"y\":-2.0,\"x\":30.0},{\"y\":-3.5,\"x\":30.0,\"group\":\"88\"},{\"x\":35.0,\"y\":-6.0,\"group\":\"88\"},{\"x\":30.0,\"y\":-2.0,\"group\":\"89\"},{\"y\":-6.0,\"x\":35.0,\"group\":\"89\"},{\"group\":\"90\",\"x\":35.0,\"y\":-6.0},{\"group\":\"90\",\"x\":30.0,\"y\":-15.0},{\"x\":35.0,\"y\":-6.0,\"group\":\"91\"},{\"y\":-13.5,\"group\":\"91\",\"x\":34.0},{\"y\":-6.0,\"group\":\"92\",\"x\":35.0},{\"y\":-18.25,\"x\":35.0,\"group\":\"92\"},{\"group\":\"93\",\"x\":30.0,\"y\":-15.0},{\"x\":17.0,\"group\":\"93\",\"y\":-22.0},{\"x\":30.0,\"group\":\"94\",\"y\":-15.0},{\"y\":-13.5,\"group\":\"94\",\"x\":34.0},{\"group\":\"95\",\"x\":30.0,\"y\":-15.0},{\"y\":-18.25,\"group\":\"95\",\"x\":35.0},{\"y\":-15.0,\"group\":\"96\",\"x\":30.0},{\"y\":-22.0,\"x\":24.0,\"group\":\"96\"},{\"x\":30.0,\"y\":-15.0,\"group\":\"97\"},{\"x\":30.0,\"group\":\"97\",\"y\":-20.0},{\"group\":\"98\",\"y\":-22.0,\"x\":17.0},{\"group\":\"98\",\"x\":24.0,\"y\":-22.0},{\"group\":\"99\",\"y\":-22.0,\"x\":17.0},{\"x\":24.0,\"y\":-29.0,\"group\":\"99\"},{\"group\":\"100\",\"y\":-13.5,\"x\":34.0},{\"group\":\"100\",\"x\":35.0,\"y\":-18.25},{\"x\":35.0,\"group\":\"101\",\"y\":-18.25},{\"group\":\"101\",\"y\":-20.0,\"x\":30.0},{\"x\":35.0,\"y\":-18.25,\"group\":\"102\"},{\"y\":-29.0,\"group\":\"102\",\"x\":24.0},{\"group\":\"103\",\"y\":-18.25,\"x\":35.0},{\"x\":31.5,\"y\":-26.5,\"group\":\"103\"},{\"group\":\"104\",\"y\":-22.0,\"x\":24.0},{\"x\":30.0,\"group\":\"104\",\"y\":-20.0},{\"x\":24.0,\"group\":\"105\",\"y\":-22.0},{\"y\":-29.0,\"x\":24.0,\"group\":\"105\"},{\"y\":-20.0,\"x\":30.0,\"group\":\"106\"},{\"group\":\"106\",\"y\":-29.0,\"x\":24.0},{\"y\":-29.0,\"x\":24.0,\"group\":\"107\"},{\"group\":\"107\",\"y\":-26.5,\"x\":31.5},{\"x\":24.0,\"y\":-29.0,\"group\":\"108\"},{\"group\":\"108\",\"x\":28.5,\"y\":-29.5}]\n\nvar xMin = Math.min.apply(Math, data.map(function(o) { return o.x; }))\nvar xMax = Math.max.apply(Math, data.map(function(o) { return o.x; }))\n\nvar yMin = Math.min.apply(Math, data.map(function(o) { return o.y; }))\nvar yMax = Math.max.apply(Math, data.map(function(o) { return o.y; }))\n\n// X scale and Axis\nvar x = d3.scaleLinear()\n    .domain([xMin, xMax])\n    .range([0, width]);\n\n// Y scale and Axis\nvar y = d3.scaleLinear()\n    .domain([yMin, yMax])\n    .range([height, 0]);\n\nsvg\n  .append('g')\n  .attr(\"transform\", \"translate(0,\" + height + \")\")\n  .call(d3.axisBottom(x).ticks(5).tickSizeInner(-height))\n\nsvg\n  .append('g')\n  .call(d3.axisLeft(y).ticks(5).tickSizeInner(-width));\n\n// group the data: I want to draw one line per group\nvar sumstat = d3.group(data, d => d.group);\n\n// Add a scale for line color\nvar myColor = d3.scaleOrdinal()\n    .domain(data.map(function(o) { return o.group; }))\n    .range([\"SteelBlue\"]);\n\n// Draw the line\nsvg.selectAll(\".line\")\n      .data(sumstat)\n      .join(\"path\")\n        .attr(\"fill\", \"none\")\n        .attr(\"stroke\", function(d){ return myColor(d[0]) })\n        .attr(\"stroke-width\", 3)\n        .attr(\"d\", function(d){\n          return d3.line()\n            .x(function(d) { return x(d.x); })\n            .y(function(d) { return y(+d.y); })\n            (d[1])\n        })\n\n}) })(element);\n"
     },
     "execution_count": 29,
     "metadata": {},
     "output_type": "execute_result"
    }
   ],
   "source": [
    "#%js\n",
    "js-d3-list-line-plot(@africaEdges2,\n",
    "    width => 600,\n",
    "    height => 600,\n",
    "    :grid-lines,\n",
    "    :$background, \n",
    "    color-scheme => 'schemePaired',\n",
    "    stroke-width => 3,\n",
    "    :!legends\n",
    ").subst('.range(d3.schemePaired);', '.range([\"SteelBlue\"]);')"
   ]
  }
 ],
 "metadata": {
  "kernelspec": {
   "display_name": "RakuChatbook",
   "language": "raku",
   "name": "raku"
  },
  "language_info": {
   "file_extension": ".raku",
   "mimetype": "text/x-raku",
   "name": "raku",
   "version": "6.d"
  }
 },
 "nbformat": 4,
 "nbformat_minor": 2
}
