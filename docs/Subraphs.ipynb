{
 "cells": [
  {
   "cell_type": "markdown",
   "metadata": {},
   "source": [
    "# Subgraphs"
   ]
  },
  {
   "cell_type": "markdown",
   "metadata": {},
   "source": [
    "-----\n",
    "\n",
    "## Setup"
   ]
  },
  {
   "cell_type": "markdown",
   "metadata": {},
   "source": [
    "Here are loaded the packages used in the rest of notebook:"
   ]
  },
  {
   "cell_type": "code",
   "execution_count": 1,
   "metadata": {},
   "outputs": [],
   "source": [
    "use Graph;\n",
    "use Graph::Circulant;\n",
    "use Graph::Complete;\n",
    "use Graph::CompleteKaryTree;\n",
    "use Graph::Cycle;\n",
    "use Graph::Grid;\n",
    "use Graph::Hypercube;\n",
    "use Graph::KnightTour;\n",
    "use Graph::Star;\n",
    "use Graph::Wheel;\n",
    "use Graph::Path;\n",
    "use Graph::Petersen;\n",
    "\n",
    "use Graph::Distribution;\n",
    "use Graph::Random;\n",
    "\n",
    "use Data::Reshapers;\n",
    "use Data::Summarizers;\n",
    "\n",
    "use JavaScript::D3;\n",
    "use WWW::MermaidInk;"
   ]
  },
  {
   "cell_type": "markdown",
   "metadata": {},
   "source": [
    "### JavaScript"
   ]
  },
  {
   "cell_type": "markdown",
   "metadata": {},
   "source": [
    "Here we prepare the notebook to visualize with JavaScript:"
   ]
  },
  {
   "cell_type": "code",
   "execution_count": 2,
   "metadata": {},
   "outputs": [
    {
     "data": {
      "application/javascript": "require.config({\n     paths: {\n     d3: 'https://d3js.org/d3.v7.min'\n}});\n\nrequire(['d3'], function(d3) {\n     console.log(d3);\n});"
     },
     "execution_count": 2,
     "metadata": {},
     "output_type": "execute_result"
    }
   ],
   "source": [
    "#% javascript\n",
    "require.config({\n",
    "     paths: {\n",
    "     d3: 'https://d3js.org/d3.v7.min'\n",
    "}});\n",
    "\n",
    "require(['d3'], function(d3) {\n",
    "     console.log(d3);\n",
    "});"
   ]
  },
  {
   "cell_type": "markdown",
   "metadata": {},
   "source": [
    "Verification:"
   ]
  },
  {
   "cell_type": "code",
   "execution_count": 3,
   "metadata": {},
   "outputs": [
    {
     "data": {
      "application/javascript": "(function(element) { require(['d3'], function(d3) {\n\n// set the dimensions and margins of the graph\nvar margin = {\"top\":40,\"bottom\":40,\"right\":40,\"left\":40},\n    width = 600 - margin.left - margin.right,\n    height = 400 - margin.top - margin.bottom;\n\n// append the svg object to the body of the page\nvar svg = d3\n   .select(element.get(0))\n  .append(\"svg\")\n    .attr(\"width\", width + margin.left + margin.right)\n    .attr(\"height\", height + margin.top + margin.bottom)\n    .style(\"background\", \"none\")\n  .append(\"g\")\n    .attr(\"transform\",\n          \"translate(\" + margin.left + \",\" + margin.top + \")\")\n\n// Obtain title\nvar title = \"\"\nvar titleFontSize = 16\n\nif ( title.length > 0 ) {\n    svg.append(\"text\")\n        .attr(\"x\", (width / 2))\n        .attr(\"y\", 0 - (margin.top / 2))\n        .attr(\"text-anchor\", \"middle\")\n        .style(\"font-size\", titleFontSize.toString() + \"px\")\n        .style(\"fill\", \"Black\")\n        .text(title);\n}\n\n// Obtain x-axis label\nvar xAxisLabel = \"\"\nvar xAxisLabelFontSize = 12\n\nif ( xAxisLabel.length > 0 ) {\n    svg.append(\"text\")\n        .attr(\"x\", (width / 2))\n        .attr(\"y\", height + margin.bottom - xAxisLabelFontSize/2)\n        .attr(\"text-anchor\", \"middle\")\n        .style(\"font-size\", xAxisLabelFontSize.toString() + \"px\")\n        .style(\"fill\", \"Black\")\n        .text(xAxisLabel);\n}\n\n// Obtain y-axis label\nvar yAxisLabel = \"\"\nvar yAxisLabelFontSize = 12\n\nif ( yAxisLabel.length > 0 ) {\n    svg.append(\"text\")\n        .attr(\"transform\", \"rotate(-90)\")\n        .attr(\"x\", - (height / 2))\n        .attr(\"y\", 0 - margin.left + yAxisLabelFontSize)\n        .attr(\"text-anchor\", \"middle\")\n        .style(\"font-size\", yAxisLabelFontSize.toString() + \"px\")\n        .style(\"fill\", \"Black\")\n        .text(yAxisLabel);\n}\n\n\n// Obtain data\nvar data = [{\"x\":1,\"y\":9.2763282043385e0},{\"x\":2,\"y\":9.882473050155141e0},{\"x\":3,\"y\":4.467813169633193e0},{\"y\":5.34058777647588e0,\"x\":4},{\"x\":5,\"y\":4.809288360496781e0},{\"x\":6,\"y\":5.940674333888096e0},{\"x\":7,\"y\":3.1438297688042036e0},{\"x\":8,\"y\":0.8501810827355893e0},{\"x\":9,\"y\":9.68407490914734e0},{\"y\":0.05953798596492588e0,\"x\":10},{\"x\":11,\"y\":5.6143309865049815e0},{\"x\":12,\"y\":5.8683555393419145e0},{\"x\":13,\"y\":5.287663959862375e0},{\"y\":3.3681147255017416e0,\"x\":14},{\"y\":9.178565435536425e0,\"x\":15},{\"x\":16,\"y\":3.1627892731923444e0},{\"x\":17,\"y\":2.001276915788867e0},{\"x\":18,\"y\":1.741114242025179e0},{\"x\":19,\"y\":4.433215165372259e0},{\"y\":3.8667804905276792e0,\"x\":20},{\"x\":21,\"y\":9.722100917748177e0},{\"y\":1.006183244834109e0,\"x\":22},{\"y\":4.033137516560799e0,\"x\":23},{\"y\":2.2035444463893015e0,\"x\":24},{\"y\":1.0542556370058198e0,\"x\":25},{\"y\":5.509394106431245e0,\"x\":26},{\"x\":27,\"y\":3.5895291454888922e0},{\"y\":0.5410683161791274e0,\"x\":28},{\"x\":29,\"y\":9.161050385035036e0},{\"x\":30,\"y\":9.925450522752433e0},{\"y\":7.810854496499021e0,\"x\":31},{\"y\":3.3199960166672393e0,\"x\":32},{\"x\":33,\"y\":8.19401798022654e0},{\"y\":9.27187175698337e0,\"x\":34},{\"x\":35,\"y\":1.8169953463985045e0},{\"x\":36,\"y\":9.929146488973224e0},{\"x\":37,\"y\":2.4811376414476563e0},{\"y\":1.0447995846638825e0,\"x\":38},{\"x\":39,\"y\":7.010412817729988e0},{\"y\":4.50745011722239e0,\"x\":40}]\n\nvar xMin = Math.min.apply(Math, data.map(function(o) { return o.x; }))\nvar xMax = Math.max.apply(Math, data.map(function(o) { return o.x; }))\n\nvar yMin = Math.min.apply(Math, data.map(function(o) { return o.y; }))\nvar yMax = Math.max.apply(Math, data.map(function(o) { return o.y; }))\n\n// X scale and Axis\nvar x = d3.scaleLinear()\n    .domain([xMin, xMax])\n    .range([0, width]);\n\n// Y scale and Axis\nvar y = d3.scaleLinear()\n    .domain([yMin, yMax])\n    .range([height, 0]);\n\nsvg\n  .append('g')\n  .attr(\"transform\", \"translate(0,\" + height + \")\")\n  .call(d3.axisBottom(x))\n\nsvg\n  .append('g')\n  .call(d3.axisLeft(y));\n\n// prepare a helper function\nvar lineFunc = d3.line()\n  .x(function(d) { return x(d.x) })\n  .y(function(d) { return y(d.y) })\n\n// Add the path using this helper function\nsvg.append('path')\n  .attr('d', lineFunc(data))\n  .attr(\"stroke-width\", 2)\n  .attr('stroke', \"steelblue\")\n  .attr('fill', 'none');\n\n}) })(element);\n"
     },
     "execution_count": 3,
     "metadata": {},
     "output_type": "execute_result"
    }
   ],
   "source": [
    "#% js\n",
    "js-d3-list-line-plot(10.rand xx 40, background => 'none', stroke-width => 2)"
   ]
  },
  {
   "cell_type": "markdown",
   "metadata": {},
   "source": [
    "Here we set a collection of visualization variables:"
   ]
  },
  {
   "cell_type": "code",
   "execution_count": 4,
   "metadata": {},
   "outputs": [
    {
     "data": {
      "text/plain": [
       "{charge => {iterations => 4, strength => -30}, collision => {iterations => 4, radius => 50}, link => {distance => 30}}"
      ]
     },
     "execution_count": 4,
     "metadata": {},
     "output_type": "execute_result"
    }
   ],
   "source": [
    "my $title-color = 'Ivory';\n",
    "my $stroke-color = 'SlateGray';\n",
    "my $tooltip-color = 'LightBlue';\n",
    "my $tooltip-background-color = 'none';\n",
    "my $background = '1F1F1F';\n",
    "my $color-scheme = 'schemeTableau10';\n",
    "my $edge-thickness = 3;\n",
    "my $vertex-size = 6;\n",
    "my $mmd-theme = q:to/END/;\n",
    "%%{\n",
    "  init: {\n",
    "    'theme': 'forest',\n",
    "    'themeVariables': {\n",
    "      'lineColor': 'Ivory'\n",
    "    }\n",
    "  }\n",
    "}%%\n",
    "END\n",
    "my %force = collision => {iterations => 0, radius => 10},link => {distance => 180};\n",
    "my %force2 = charge => {strength => -30, iterations => 4}, collision => {radius => 50, iterations => 4}, link => {distance => 30};"
   ]
  },
  {
   "cell_type": "markdown",
   "metadata": {},
   "source": [
    "------\n",
    "\n",
    "## Subraphs"
   ]
  },
  {
   "cell_type": "code",
   "execution_count": 5,
   "metadata": {},
   "outputs": [
    {
     "data": {
      "application/javascript": "(function(element) { require(['d3'], function(d3) {\n\n// set the dimensions and margins of the graph\nvar margin = {\"top\":40,\"left\":40,\"right\":40,\"bottom\":40},\n    width = 700 - margin.left - margin.right,\n    height = 433 - margin.top - margin.bottom;\n\n// append the svg object to the body of the page\nvar svg = d3\n   .select(element.get(0))\n  .append(\"svg\")\n    .attr(\"width\", width + margin.left + margin.right)\n    .attr(\"height\", height + margin.top + margin.bottom)\n    .style(\"background\", \"1F1F1F\")\n  .append(\"g\")\n    .attr(\"transform\",\n          \"translate(\" + margin.left + \",\" + margin.top + \")\")\n\n// Obtain title\nvar title = \"\"\nvar titleFontSize = 16\n\nif ( title.length > 0 ) {\n    svg.append(\"text\")\n        .attr(\"x\", (width / 2))\n        .attr(\"y\", 0 - (margin.top / 2))\n        .attr(\"text-anchor\", \"middle\")\n        .style(\"font-size\", titleFontSize.toString() + \"px\")\n        .style(\"fill\", \"Ivory\")\n        .text(title);\n}\n\nconst edges = [{\"weight\":1,\"to\":\"0_2\",\"from\":\"0_1\",\"label\":\"\"},{\"from\":\"0_1\",\"label\":\"\",\"weight\":1,\"to\":\"1_1\"},{\"weight\":1,\"from\":\"0_1\",\"to\":\"0_0\",\"label\":\"\"},{\"weight\":1,\"to\":\"1_1\",\"label\":\"\",\"from\":\"1_2\"},{\"label\":\"\",\"weight\":1,\"to\":\"0_2\",\"from\":\"1_2\"},{\"to\":\"1_3\",\"from\":\"1_2\",\"label\":\"\",\"weight\":1},{\"weight\":1,\"from\":\"1_2\",\"to\":\"2_2\",\"label\":\"\"},{\"label\":\"\",\"to\":\"1_5\",\"weight\":1,\"from\":\"0_5\"},{\"weight\":1,\"from\":\"0_5\",\"to\":\"0_4\",\"label\":\"\"},{\"to\":\"3_5\",\"from\":\"3_4\",\"label\":\"\",\"weight\":1},{\"weight\":1,\"from\":\"3_4\",\"to\":\"3_3\",\"label\":\"\"},{\"weight\":1,\"label\":\"\",\"to\":\"2_4\",\"from\":\"3_4\"},{\"label\":\"\",\"weight\":1,\"from\":\"1_3\",\"to\":\"2_3\"},{\"from\":\"1_3\",\"to\":\"1_4\",\"label\":\"\",\"weight\":1},{\"from\":\"1_3\",\"to\":\"0_3\",\"label\":\"\",\"weight\":1},{\"from\":\"1_5\",\"weight\":1,\"label\":\"\",\"to\":\"1_4\"},{\"weight\":1,\"label\":\"\",\"from\":\"1_5\",\"to\":\"2_5\"},{\"label\":\"\",\"from\":\"1_1\",\"to\":\"2_1\",\"weight\":1},{\"label\":\"\",\"weight\":1,\"to\":\"1_0\",\"from\":\"1_1\"},{\"label\":\"\",\"weight\":1,\"to\":\"2_5\",\"from\":\"2_4\"},{\"weight\":1,\"label\":\"\",\"from\":\"2_4\",\"to\":\"2_3\"},{\"to\":\"1_4\",\"label\":\"\",\"from\":\"2_4\",\"weight\":1},{\"weight\":1,\"from\":\"1_4\",\"to\":\"0_4\",\"label\":\"\"},{\"to\":\"0_3\",\"weight\":1,\"label\":\"\",\"from\":\"0_4\"},{\"to\":\"0_0\",\"label\":\"\",\"from\":\"1_0\",\"weight\":1},{\"to\":\"2_0\",\"from\":\"1_0\",\"label\":\"\",\"weight\":1},{\"from\":\"2_5\",\"weight\":1,\"label\":\"\",\"to\":\"3_5\"},{\"from\":\"2_1\",\"label\":\"\",\"weight\":1,\"to\":\"3_1\"},{\"label\":\"\",\"weight\":1,\"to\":\"2_0\",\"from\":\"2_1\"},{\"from\":\"2_1\",\"label\":\"\",\"to\":\"2_2\",\"weight\":1},{\"label\":\"\",\"to\":\"0_3\",\"from\":\"0_2\",\"weight\":1},{\"from\":\"3_1\",\"to\":\"3_2\",\"label\":\"\",\"weight\":1},{\"from\":\"3_1\",\"weight\":1,\"to\":\"3_0\",\"label\":\"\"},{\"label\":\"\",\"to\":\"3_2\",\"from\":\"2_2\",\"weight\":1},{\"weight\":1,\"label\":\"\",\"from\":\"2_2\",\"to\":\"2_3\"},{\"to\":\"3_3\",\"label\":\"\",\"from\":\"2_3\",\"weight\":1},{\"from\":\"3_3\",\"weight\":1,\"to\":\"3_2\",\"label\":\"\"},{\"weight\":1,\"to\":\"3_0\",\"label\":\"\",\"from\":\"2_0\"}];\n\nconst nodes = Array.from(new Set(edges.flatMap(e => [e.from, e.to])), id => ({id}));\n\nconst highlightSpecs = {};\n\nconst links = edges.map(e => ({\n  source: e.from,\n  target: e.to,\n  weight: e.weight,\n  label: e.label,\n}));\n\n//.force(\"link\", d3.forceLink(links).id(d => d.id).distance(d => Math.max(d.weight * 20, 6 * 4)))\nconst simulation = d3.forceSimulation(nodes)\n    .force(\"link\", d3.forceLink(links).id(d => d.id).iterations(1))\n    .force(\"charge\", d3.forceManyBody().strength(-300).distanceMin(1).distanceMax(2000))\n    .force(\"x\", d3.forceX())\n    .force(\"y\", d3.forceY())\n    .force(\"collision\", d3.forceCollide().radius(10))\n    .force(\"center\", d3.forceCenter(width / 2, height / 2));\n\nsvg.append('defs').append('marker')\n    .attr(\"id\",'arrowhead')\n    .attr('viewBox','-0 -5 10 10') //the bound of the SVG viewport for the current SVG fragment. defines a coordinate system 10 wide and 10 high starting on (0,-5)\n     .attr('refX', 16) // x coordinate for the reference point of the marker. If circle is bigger, this need to be bigger.\n     .attr('refY',0)\n     .attr('orient','auto')\n        .attr('markerWidth', 5)\n        .attr('markerHeight', 5)\n        .attr('xoverflow','visible')\n    .append('svg:path')\n    .attr('d', 'M 0,-5 L 10 ,0 L 0,5')\n    .attr('fill', \"SteelBlue\")\n    .style('stroke','none');\n\nconst link = svg.append(\"g\")\n    .attr(\"class\", \"links\")\n  .selectAll(\"line\")\n  .data(links)\n  .enter().append(\"line\")\n    .attr(\"class\", \"link\")\n    .attr(\"stroke\", d => {\n        for (const [color, items] of Object.entries(highlightSpecs)) {\n            if (items.some(item => Array.isArray(item) && item[0] === d.source.id && item[1] === d.target.id)) {\n                return color;\n            }\n        }\n        return \"SteelBlue\";\n    })\n    .attr(\"stroke-width\", 3)\n    \n\nconst node = svg.append(\"g\")\n    .attr(\"class\", \"nodes\")\n  .selectAll(\"circle\")\n  .data(nodes)\n  .enter().append(\"circle\")\n    .attr(\"class\", \"node\")\n    .attr(\"r\", 6)\n    .attr(\"stroke\", d => {\n       for (const [color, items] of Object.entries(highlightSpecs)) {\n         if (items.includes(d.id)) {\n            return color;\n         }\n       }\n       return \"SteelBlue\";\n    })\n    .attr(\"fill\", d => {\n       for (const [color, items] of Object.entries(highlightSpecs)) {\n         if (items.includes(d.id)) {\n            return color;\n         }\n       }\n       return \"SteelBlue\";\n    })\n    .call(drag(simulation));\n\nnode.append(\"title\")\n    .text(d => d.id);\n\nconst nodeLabel = svg.append(\"g\")\n    .attr(\"class\", \"node-labels\")\n  .selectAll(\"text\")\n  .data(nodes)\n  .enter().append(\"text\")\n    .attr(\"class\", \"node-label\")\n    .style(\"font-size\", 13)\n    .attr(\"font-family\", \"Courier New\")\n    .attr(\"font-weight\", 100)\n    .attr(\"dy\", -10)\n    .attr('fill', \"Ivory\")\n    .attr('stroke', \"Ivory\")\n    .text(d => d.id);\n\nconst linkLabel = svg.append(\"g\")\n    .attr(\"class\", \"link-labels\")\n  .selectAll(\"text\")\n  .data(links)\n  .enter().append(\"text\")\n    .filter(d => d.label !== \"\")\n    .attr(\"class\", \"link-label\")\n    .style(\"font-size\", 13)\n    .attr(\"font-family\", \"Courier\")\n    .attr('fill', \"Ivory\")\n    .attr('stroke', \"Ivory\")\n    .text(d => d.label);\n\nsimulation.on(\"tick\", () => {\n  link\n      .attr(\"x1\", d => d.source.x)\n      .attr(\"y1\", d => d.source.y)\n      .attr(\"x2\", d => d.target.x)\n      .attr(\"y2\", d => d.target.y);\n\n  node\n      .attr(\"cx\", d => d.x)\n      .attr(\"cy\", d => d.y);\n\n  nodeLabel\n      .attr(\"x\", d => d.x)\n      .attr(\"y\", d => d.y);\n\n  linkLabel\n      .attr(\"x\", d => (d.source.x + d.target.x) / 2)\n      .attr(\"y\", d => (d.source.y + d.target.y) / 2);\n});\n\nfunction drag(simulation) {\n  function dragstarted(event, d) {\n    if (!event.active) simulation.alphaTarget(0.3).restart();\n    d.fx = d.x;\n    d.fy = d.y;\n  }\n\n  function dragged(event, d) {\n    d.fx = event.x;\n    d.fy = event.y;\n  }\n\n  function dragended(event, d) {\n    if (!event.active) simulation.alphaTarget(0);\n    d.fx = null;\n    d.fy = null;\n  }\n\n  return d3.drag()\n      .on(\"start\", dragstarted)\n      .on(\"drag\", dragged)\n      .on(\"end\", dragended);\n}\n\n}) })(element);\n"
     },
     "execution_count": 5,
     "metadata": {},
     "output_type": "execute_result"
    }
   ],
   "source": [
    "#% js\n",
    "my $g = Graph::Grid.new(4, 6);\n",
    "\n",
    "$g.edges(:dataset) \n",
    "==> js-d3-graph-plot(\n",
    "        :$background, \n",
    "        :$title-color, \n",
    "        width => 700, \n",
    "        :$edge-thickness,\n",
    "        :$vertex-size, \n",
    "        force => {charge => {strength => -300, iterations => 2}, collision => {radius => 10, iterations => 1}, link => {minDistance => 10}}\n",
    "    )"
   ]
  },
  {
   "cell_type": "code",
   "execution_count": 6,
   "metadata": {},
   "outputs": [
    {
     "data": {
      "text/plain": [
       "(0_0 0_1 1_0 1_1 2_0 2_1)"
      ]
     },
     "execution_count": 6,
     "metadata": {},
     "output_type": "execute_result"
    }
   ],
   "source": [
    "((^3) X (^2)).map({ $_.join('_') })"
   ]
  },
  {
   "cell_type": "code",
   "execution_count": 7,
   "metadata": {},
   "outputs": [
    {
     "data": {
      "text/plain": [
       "Graph(vertexes => 11, edges => 12, directed => False)"
      ]
     },
     "execution_count": 7,
     "metadata": {},
     "output_type": "execute_result"
    }
   ],
   "source": [
    "my @vs = ((^3) X (^2)).map({ $_.join('_') });\n",
    "my $g2 = $g.subgraph(@vs)"
   ]
  },
  {
   "cell_type": "code",
   "execution_count": 8,
   "metadata": {},
   "outputs": [
    {
     "name": "stdout",
     "output_type": "stream",
     "text": [
      "subvertices : [0_0 0_1 1_0 1_1 2_0 2_1]\n",
      "vertex list : (0_0 0_1 0_2 1_0 1_1 1_2 2_0 2_1 2_2 3_0 3_1)\n"
     ]
    }
   ],
   "source": [
    "say 'subvertices : ', @vs;\n",
    "say 'vertex list : ', $g2.vertex-list;"
   ]
  },
  {
   "cell_type": "code",
   "execution_count": 9,
   "metadata": {},
   "outputs": [
    {
     "data": {
      "application/javascript": "(function(element) { require(['d3'], function(d3) {\n\n// set the dimensions and margins of the graph\nvar margin = {\"bottom\":40,\"top\":40,\"right\":40,\"left\":40},\n    width = 700 - margin.left - margin.right,\n    height = 433 - margin.top - margin.bottom;\n\n// append the svg object to the body of the page\nvar svg = d3\n   .select(element.get(0))\n  .append(\"svg\")\n    .attr(\"width\", width + margin.left + margin.right)\n    .attr(\"height\", height + margin.top + margin.bottom)\n    .style(\"background\", \"1F1F1F\")\n  .append(\"g\")\n    .attr(\"transform\",\n          \"translate(\" + margin.left + \",\" + margin.top + \")\")\n\n// Obtain title\nvar title = \"\"\nvar titleFontSize = 16\n\nif ( title.length > 0 ) {\n    svg.append(\"text\")\n        .attr(\"x\", (width / 2))\n        .attr(\"y\", 0 - (margin.top / 2))\n        .attr(\"text-anchor\", \"middle\")\n        .style(\"font-size\", titleFontSize.toString() + \"px\")\n        .style(\"fill\", \"Ivory\")\n        .text(title);\n}\n\nconst edges = [{\"label\":\"\",\"to\":\"0_2\",\"weight\":1,\"from\":\"0_1\"},{\"from\":\"0_1\",\"to\":\"1_1\",\"weight\":1,\"label\":\"\"},{\"weight\":1,\"label\":\"\",\"from\":\"0_1\",\"to\":\"0_0\"},{\"label\":\"\",\"weight\":1,\"to\":\"1_1\",\"from\":\"1_2\"},{\"label\":\"\",\"from\":\"1_2\",\"to\":\"0_2\",\"weight\":1},{\"to\":\"1_3\",\"weight\":1,\"label\":\"\",\"from\":\"1_2\"},{\"from\":\"1_2\",\"weight\":1,\"to\":\"2_2\",\"label\":\"\"},{\"to\":\"1_5\",\"weight\":1,\"label\":\"\",\"from\":\"0_5\"},{\"from\":\"0_5\",\"weight\":1,\"label\":\"\",\"to\":\"0_4\"},{\"from\":\"3_4\",\"to\":\"3_5\",\"weight\":1,\"label\":\"\"},{\"to\":\"3_3\",\"label\":\"\",\"weight\":1,\"from\":\"3_4\"},{\"from\":\"3_4\",\"to\":\"2_4\",\"label\":\"\",\"weight\":1},{\"from\":\"1_3\",\"to\":\"2_3\",\"label\":\"\",\"weight\":1},{\"weight\":1,\"from\":\"1_3\",\"label\":\"\",\"to\":\"1_4\"},{\"to\":\"0_3\",\"weight\":1,\"label\":\"\",\"from\":\"1_3\"},{\"label\":\"\",\"to\":\"1_4\",\"weight\":1,\"from\":\"1_5\"},{\"to\":\"2_5\",\"from\":\"1_5\",\"label\":\"\",\"weight\":1},{\"from\":\"1_1\",\"weight\":1,\"to\":\"2_1\",\"label\":\"\"},{\"to\":\"1_0\",\"label\":\"\",\"weight\":1,\"from\":\"1_1\"},{\"from\":\"2_4\",\"weight\":1,\"to\":\"2_5\",\"label\":\"\"},{\"weight\":1,\"from\":\"2_4\",\"label\":\"\",\"to\":\"2_3\"},{\"weight\":1,\"from\":\"2_4\",\"label\":\"\",\"to\":\"1_4\"},{\"to\":\"0_4\",\"label\":\"\",\"from\":\"1_4\",\"weight\":1},{\"weight\":1,\"to\":\"0_3\",\"from\":\"0_4\",\"label\":\"\"},{\"weight\":1,\"to\":\"0_0\",\"label\":\"\",\"from\":\"1_0\"},{\"from\":\"1_0\",\"weight\":1,\"to\":\"2_0\",\"label\":\"\"},{\"label\":\"\",\"to\":\"3_5\",\"from\":\"2_5\",\"weight\":1},{\"to\":\"3_1\",\"weight\":1,\"from\":\"2_1\",\"label\":\"\"},{\"to\":\"2_0\",\"label\":\"\",\"from\":\"2_1\",\"weight\":1},{\"label\":\"\",\"to\":\"2_2\",\"from\":\"2_1\",\"weight\":1},{\"from\":\"0_2\",\"weight\":1,\"to\":\"0_3\",\"label\":\"\"},{\"weight\":1,\"to\":\"3_2\",\"label\":\"\",\"from\":\"3_1\"},{\"weight\":1,\"from\":\"3_1\",\"to\":\"3_0\",\"label\":\"\"},{\"weight\":1,\"to\":\"3_2\",\"label\":\"\",\"from\":\"2_2\"},{\"to\":\"2_3\",\"label\":\"\",\"from\":\"2_2\",\"weight\":1},{\"to\":\"3_3\",\"label\":\"\",\"from\":\"2_3\",\"weight\":1},{\"label\":\"\",\"to\":\"3_2\",\"weight\":1,\"from\":\"3_3\"},{\"weight\":1,\"from\":\"2_0\",\"label\":\"\",\"to\":\"3_0\"}];\n\nconst nodes = Array.from(new Set(edges.flatMap(e => [e.from, e.to])), id => ({id}));\n\nconst highlightSpecs = {\"Orange\":[[\"0_0\",\"0_1\"],[\"0_1\",\"1_1\"],[\"0_2\",\"0_1\"],[\"1_0\",\"0_0\"],[\"1_0\",\"1_1\"],[\"1_2\",\"1_1\"],[\"2_0\",\"1_0\"],[\"2_0\",\"2_1\"],[\"2_0\",\"3_0\"],[\"2_1\",\"1_1\"],[\"2_2\",\"2_1\"],[\"3_1\",\"2_1\"],[\"0_1\",\"0_0\"],[\"1_1\",\"0_1\"],[\"0_1\",\"0_2\"],[\"0_0\",\"1_0\"],[\"1_1\",\"1_0\"],[\"1_1\",\"1_2\"],[\"1_0\",\"2_0\"],[\"2_1\",\"2_0\"],[\"3_0\",\"2_0\"],[\"1_1\",\"2_1\"],[\"2_1\",\"2_2\"],[\"2_1\",\"3_1\"]]};\n\nconst links = edges.map(e => ({\n  source: e.from,\n  target: e.to,\n  weight: e.weight,\n  label: e.label,\n}));\n\n//.force(\"link\", d3.forceLink(links).id(d => d.id).distance(d => Math.max(d.weight * 20, 6 * 4)))\nconst simulation = d3.forceSimulation(nodes)\n    .force(\"link\", d3.forceLink(links).id(d => d.id).iterations(1))\n    .force(\"charge\", d3.forceManyBody().strength(-300).distanceMin(1).distanceMax(2000))\n    .force(\"x\", d3.forceX())\n    .force(\"y\", d3.forceY())\n    .force(\"collision\", d3.forceCollide().radius(10))\n    .force(\"center\", d3.forceCenter(width / 2, height / 2));\n\nsvg.append('defs').append('marker')\n    .attr(\"id\",'arrowhead')\n    .attr('viewBox','-0 -5 10 10') //the bound of the SVG viewport for the current SVG fragment. defines a coordinate system 10 wide and 10 high starting on (0,-5)\n     .attr('refX', 16) // x coordinate for the reference point of the marker. If circle is bigger, this need to be bigger.\n     .attr('refY',0)\n     .attr('orient','auto')\n        .attr('markerWidth', 5)\n        .attr('markerHeight', 5)\n        .attr('xoverflow','visible')\n    .append('svg:path')\n    .attr('d', 'M 0,-5 L 10 ,0 L 0,5')\n    .attr('fill', \"SteelBlue\")\n    .style('stroke','none');\n\nconst link = svg.append(\"g\")\n    .attr(\"class\", \"links\")\n  .selectAll(\"line\")\n  .data(links)\n  .enter().append(\"line\")\n    .attr(\"class\", \"link\")\n    .attr(\"stroke\", d => {\n        for (const [color, items] of Object.entries(highlightSpecs)) {\n            if (items.some(item => Array.isArray(item) && item[0] === d.source.id && item[1] === d.target.id)) {\n                return color;\n            }\n        }\n        return \"SteelBlue\";\n    })\n    .attr(\"stroke-width\", 3)\n    \n\nconst node = svg.append(\"g\")\n    .attr(\"class\", \"nodes\")\n  .selectAll(\"circle\")\n  .data(nodes)\n  .enter().append(\"circle\")\n    .attr(\"class\", \"node\")\n    .attr(\"r\", 6)\n    .attr(\"stroke\", d => {\n       for (const [color, items] of Object.entries(highlightSpecs)) {\n         if (items.includes(d.id)) {\n            return color;\n         }\n       }\n       return \"SteelBlue\";\n    })\n    .attr(\"fill\", d => {\n       for (const [color, items] of Object.entries(highlightSpecs)) {\n         if (items.includes(d.id)) {\n            return color;\n         }\n       }\n       return \"SteelBlue\";\n    })\n    .call(drag(simulation));\n\nnode.append(\"title\")\n    .text(d => d.id);\n\nconst nodeLabel = svg.append(\"g\")\n    .attr(\"class\", \"node-labels\")\n  .selectAll(\"text\")\n  .data(nodes)\n  .enter().append(\"text\")\n    .attr(\"class\", \"node-label\")\n    .style(\"font-size\", 13)\n    .attr(\"font-family\", \"Courier New\")\n    .attr(\"font-weight\", 100)\n    .attr(\"dy\", -10)\n    .attr('fill', \"Ivory\")\n    .attr('stroke', \"Ivory\")\n    .text(d => d.id);\n\nconst linkLabel = svg.append(\"g\")\n    .attr(\"class\", \"link-labels\")\n  .selectAll(\"text\")\n  .data(links)\n  .enter().append(\"text\")\n    .filter(d => d.label !== \"\")\n    .attr(\"class\", \"link-label\")\n    .style(\"font-size\", 13)\n    .attr(\"font-family\", \"Courier\")\n    .attr('fill', \"Ivory\")\n    .attr('stroke', \"Ivory\")\n    .text(d => d.label);\n\nsimulation.on(\"tick\", () => {\n  link\n      .attr(\"x1\", d => d.source.x)\n      .attr(\"y1\", d => d.source.y)\n      .attr(\"x2\", d => d.target.x)\n      .attr(\"y2\", d => d.target.y);\n\n  node\n      .attr(\"cx\", d => d.x)\n      .attr(\"cy\", d => d.y);\n\n  nodeLabel\n      .attr(\"x\", d => d.x)\n      .attr(\"y\", d => d.y);\n\n  linkLabel\n      .attr(\"x\", d => (d.source.x + d.target.x) / 2)\n      .attr(\"y\", d => (d.source.y + d.target.y) / 2);\n});\n\nfunction drag(simulation) {\n  function dragstarted(event, d) {\n    if (!event.active) simulation.alphaTarget(0.3).restart();\n    d.fx = d.x;\n    d.fy = d.y;\n  }\n\n  function dragged(event, d) {\n    d.fx = event.x;\n    d.fy = event.y;\n  }\n\n  function dragended(event, d) {\n    if (!event.active) simulation.alphaTarget(0);\n    d.fx = null;\n    d.fy = null;\n  }\n\n  return d3.drag()\n      .on(\"start\", dragstarted)\n      .on(\"drag\", dragged)\n      .on(\"end\", dragended);\n}\n\n}) })(element);\n"
     },
     "execution_count": 9,
     "metadata": {},
     "output_type": "execute_result"
    }
   ],
   "source": [
    "#% js\n",
    "$g.edges(:dataset) \n",
    "==> js-d3-graph-plot(\n",
    "        highlight => $g2.edges,\n",
    "        :$background, \n",
    "        :$title-color, \n",
    "        width => 700, \n",
    "        :$edge-thickness,\n",
    "        :$vertex-size, \n",
    "        force => {charge => {strength => -300, iterations => 2}, collision => {radius => 10, iterations => 1}, link => {minDistance => 10}}\n",
    "    )"
   ]
  },
  {
   "cell_type": "code",
   "execution_count": 10,
   "metadata": {},
   "outputs": [
    {
     "data": {
      "text/plain": [
       "[\"0_0\" => \"0_1\", \"0_1\" => \"1_1\", \"0_2\" => \"0_1\", \"1_0\" => \"0_0\", \"1_0\" => \"1_1\", \"1_2\" => \"1_1\", \"2_0\" => \"1_0\", \"2_0\" => \"2_1\", \"2_0\" => \"3_0\", \"2_1\" => \"1_1\", \"2_2\" => \"2_1\", \"3_1\" => \"2_1\"]"
      ]
     },
     "execution_count": 10,
     "metadata": {},
     "output_type": "execute_result"
    }
   ],
   "source": [
    "$g2.edges.raku"
   ]
  },
  {
   "cell_type": "code",
   "execution_count": 11,
   "metadata": {},
   "outputs": [
    {
     "data": {
      "text/plain": [
       "True"
      ]
     },
     "execution_count": 11,
     "metadata": {},
     "output_type": "execute_result"
    }
   ],
   "source": [
    "('0_2' => '0_1').Str ∈ $g2.edges».Str"
   ]
  },
  {
   "cell_type": "code",
   "execution_count": 12,
   "metadata": {},
   "outputs": [
    {
     "data": {
      "text/plain": [
       "Graph(vertexes => 11, edges => 15, directed => False)"
      ]
     },
     "execution_count": 12,
     "metadata": {},
     "output_type": "execute_result"
    }
   ],
   "source": [
    "my $g3 = $g.subgraph($g2.edges.push('1_2' => '2_2'))"
   ]
  },
  {
   "cell_type": "code",
   "execution_count": 13,
   "metadata": {},
   "outputs": [
    {
     "data": {
      "application/javascript": "(function(element) { require(['d3'], function(d3) {\n\n// set the dimensions and margins of the graph\nvar margin = {\"right\":40,\"left\":40,\"bottom\":40,\"top\":40},\n    width = 700 - margin.left - margin.right,\n    height = 433 - margin.top - margin.bottom;\n\n// append the svg object to the body of the page\nvar svg = d3\n   .select(element.get(0))\n  .append(\"svg\")\n    .attr(\"width\", width + margin.left + margin.right)\n    .attr(\"height\", height + margin.top + margin.bottom)\n    .style(\"background\", \"1F1F1F\")\n  .append(\"g\")\n    .attr(\"transform\",\n          \"translate(\" + margin.left + \",\" + margin.top + \")\")\n\n// Obtain title\nvar title = \"\"\nvar titleFontSize = 16\n\nif ( title.length > 0 ) {\n    svg.append(\"text\")\n        .attr(\"x\", (width / 2))\n        .attr(\"y\", 0 - (margin.top / 2))\n        .attr(\"text-anchor\", \"middle\")\n        .style(\"font-size\", titleFontSize.toString() + \"px\")\n        .style(\"fill\", \"Ivory\")\n        .text(title);\n}\n\nconst edges = [{\"to\":\"0_2\",\"weight\":1,\"label\":\"\",\"from\":\"0_1\"},{\"to\":\"1_1\",\"weight\":1,\"label\":\"\",\"from\":\"0_1\"},{\"label\":\"\",\"to\":\"0_0\",\"from\":\"0_1\",\"weight\":1},{\"label\":\"\",\"weight\":1,\"from\":\"1_2\",\"to\":\"1_1\"},{\"weight\":1,\"label\":\"\",\"to\":\"0_2\",\"from\":\"1_2\"},{\"from\":\"1_2\",\"weight\":1,\"label\":\"\",\"to\":\"1_3\"},{\"label\":\"\",\"to\":\"2_2\",\"weight\":1,\"from\":\"1_2\"},{\"from\":\"0_5\",\"label\":\"\",\"to\":\"1_5\",\"weight\":1},{\"from\":\"0_5\",\"to\":\"0_4\",\"label\":\"\",\"weight\":1},{\"label\":\"\",\"weight\":1,\"from\":\"3_4\",\"to\":\"3_5\"},{\"to\":\"3_3\",\"label\":\"\",\"from\":\"3_4\",\"weight\":1},{\"weight\":1,\"from\":\"3_4\",\"label\":\"\",\"to\":\"2_4\"},{\"from\":\"1_3\",\"to\":\"2_3\",\"label\":\"\",\"weight\":1},{\"weight\":1,\"label\":\"\",\"from\":\"1_3\",\"to\":\"1_4\"},{\"from\":\"1_3\",\"to\":\"0_3\",\"weight\":1,\"label\":\"\"},{\"to\":\"1_4\",\"from\":\"1_5\",\"label\":\"\",\"weight\":1},{\"from\":\"1_5\",\"weight\":1,\"label\":\"\",\"to\":\"2_5\"},{\"to\":\"2_1\",\"from\":\"1_1\",\"weight\":1,\"label\":\"\"},{\"label\":\"\",\"from\":\"1_1\",\"to\":\"1_0\",\"weight\":1},{\"to\":\"2_5\",\"label\":\"\",\"weight\":1,\"from\":\"2_4\"},{\"from\":\"2_4\",\"to\":\"2_3\",\"weight\":1,\"label\":\"\"},{\"weight\":1,\"label\":\"\",\"from\":\"2_4\",\"to\":\"1_4\"},{\"label\":\"\",\"to\":\"0_4\",\"weight\":1,\"from\":\"1_4\"},{\"to\":\"0_3\",\"label\":\"\",\"from\":\"0_4\",\"weight\":1},{\"label\":\"\",\"weight\":1,\"from\":\"1_0\",\"to\":\"0_0\"},{\"weight\":1,\"from\":\"1_0\",\"to\":\"2_0\",\"label\":\"\"},{\"to\":\"3_5\",\"from\":\"2_5\",\"label\":\"\",\"weight\":1},{\"from\":\"2_1\",\"weight\":1,\"label\":\"\",\"to\":\"3_1\"},{\"from\":\"2_1\",\"to\":\"2_0\",\"label\":\"\",\"weight\":1},{\"from\":\"2_1\",\"weight\":1,\"label\":\"\",\"to\":\"2_2\"},{\"weight\":1,\"to\":\"0_3\",\"label\":\"\",\"from\":\"0_2\"},{\"to\":\"3_2\",\"weight\":1,\"from\":\"3_1\",\"label\":\"\"},{\"label\":\"\",\"from\":\"3_1\",\"weight\":1,\"to\":\"3_0\"},{\"label\":\"\",\"weight\":1,\"from\":\"2_2\",\"to\":\"3_2\"},{\"to\":\"2_3\",\"label\":\"\",\"from\":\"2_2\",\"weight\":1},{\"weight\":1,\"from\":\"2_3\",\"label\":\"\",\"to\":\"3_3\"},{\"from\":\"3_3\",\"label\":\"\",\"weight\":1,\"to\":\"3_2\"},{\"weight\":1,\"to\":\"3_0\",\"label\":\"\",\"from\":\"2_0\"}];\n\nconst nodes = Array.from(new Set(edges.flatMap(e => [e.from, e.to])), id => ({id}));\n\nconst highlightSpecs = {\"Orange\":[[\"0_0\",\"0_1\"],[\"0_0\",\"1_0\"],[\"0_2\",\"0_1\"],[\"0_2\",\"1_2\"],[\"1_1\",\"0_1\"],[\"1_1\",\"1_0\"],[\"1_1\",\"1_2\"],[\"1_1\",\"2_1\"],[\"2_0\",\"1_0\"],[\"2_0\",\"2_1\"],[\"2_2\",\"1_2\"],[\"2_2\",\"2_1\"],[\"3_0\",\"2_0\"],[\"3_0\",\"3_1\"],[\"3_1\",\"2_1\"],[\"0_1\",\"0_0\"],[\"1_0\",\"0_0\"],[\"0_1\",\"0_2\"],[\"1_2\",\"0_2\"],[\"0_1\",\"1_1\"],[\"1_0\",\"1_1\"],[\"1_2\",\"1_1\"],[\"2_1\",\"1_1\"],[\"1_0\",\"2_0\"],[\"2_1\",\"2_0\"],[\"1_2\",\"2_2\"],[\"2_1\",\"2_2\"],[\"2_0\",\"3_0\"],[\"3_1\",\"3_0\"],[\"2_1\",\"3_1\"]]};\n\nconst links = edges.map(e => ({\n  source: e.from,\n  target: e.to,\n  weight: e.weight,\n  label: e.label,\n}));\n\n//.force(\"link\", d3.forceLink(links).id(d => d.id).distance(d => Math.max(d.weight * 20, 6 * 4)))\nconst simulation = d3.forceSimulation(nodes)\n    .force(\"link\", d3.forceLink(links).id(d => d.id).iterations(1))\n    .force(\"charge\", d3.forceManyBody().strength(-300).distanceMin(1).distanceMax(2000))\n    .force(\"x\", d3.forceX())\n    .force(\"y\", d3.forceY())\n    .force(\"collision\", d3.forceCollide().radius(10))\n    .force(\"center\", d3.forceCenter(width / 2, height / 2));\n\nsvg.append('defs').append('marker')\n    .attr(\"id\",'arrowhead')\n    .attr('viewBox','-0 -5 10 10') //the bound of the SVG viewport for the current SVG fragment. defines a coordinate system 10 wide and 10 high starting on (0,-5)\n     .attr('refX', 16) // x coordinate for the reference point of the marker. If circle is bigger, this need to be bigger.\n     .attr('refY',0)\n     .attr('orient','auto')\n        .attr('markerWidth', 5)\n        .attr('markerHeight', 5)\n        .attr('xoverflow','visible')\n    .append('svg:path')\n    .attr('d', 'M 0,-5 L 10 ,0 L 0,5')\n    .attr('fill', \"SteelBlue\")\n    .style('stroke','none');\n\nconst link = svg.append(\"g\")\n    .attr(\"class\", \"links\")\n  .selectAll(\"line\")\n  .data(links)\n  .enter().append(\"line\")\n    .attr(\"class\", \"link\")\n    .attr(\"stroke\", d => {\n        for (const [color, items] of Object.entries(highlightSpecs)) {\n            if (items.some(item => Array.isArray(item) && item[0] === d.source.id && item[1] === d.target.id)) {\n                return color;\n            }\n        }\n        return \"SteelBlue\";\n    })\n    .attr(\"stroke-width\", 3)\n    \n\nconst node = svg.append(\"g\")\n    .attr(\"class\", \"nodes\")\n  .selectAll(\"circle\")\n  .data(nodes)\n  .enter().append(\"circle\")\n    .attr(\"class\", \"node\")\n    .attr(\"r\", 6)\n    .attr(\"stroke\", d => {\n       for (const [color, items] of Object.entries(highlightSpecs)) {\n         if (items.includes(d.id)) {\n            return color;\n         }\n       }\n       return \"SteelBlue\";\n    })\n    .attr(\"fill\", d => {\n       for (const [color, items] of Object.entries(highlightSpecs)) {\n         if (items.includes(d.id)) {\n            return color;\n         }\n       }\n       return \"SteelBlue\";\n    })\n    .call(drag(simulation));\n\nnode.append(\"title\")\n    .text(d => d.id);\n\nconst nodeLabel = svg.append(\"g\")\n    .attr(\"class\", \"node-labels\")\n  .selectAll(\"text\")\n  .data(nodes)\n  .enter().append(\"text\")\n    .attr(\"class\", \"node-label\")\n    .style(\"font-size\", 13)\n    .attr(\"font-family\", \"Courier New\")\n    .attr(\"font-weight\", 100)\n    .attr(\"dy\", -10)\n    .attr('fill', \"Ivory\")\n    .attr('stroke', \"Ivory\")\n    .text(d => d.id);\n\nconst linkLabel = svg.append(\"g\")\n    .attr(\"class\", \"link-labels\")\n  .selectAll(\"text\")\n  .data(links)\n  .enter().append(\"text\")\n    .filter(d => d.label !== \"\")\n    .attr(\"class\", \"link-label\")\n    .style(\"font-size\", 13)\n    .attr(\"font-family\", \"Courier\")\n    .attr('fill', \"Ivory\")\n    .attr('stroke', \"Ivory\")\n    .text(d => d.label);\n\nsimulation.on(\"tick\", () => {\n  link\n      .attr(\"x1\", d => d.source.x)\n      .attr(\"y1\", d => d.source.y)\n      .attr(\"x2\", d => d.target.x)\n      .attr(\"y2\", d => d.target.y);\n\n  node\n      .attr(\"cx\", d => d.x)\n      .attr(\"cy\", d => d.y);\n\n  nodeLabel\n      .attr(\"x\", d => d.x)\n      .attr(\"y\", d => d.y);\n\n  linkLabel\n      .attr(\"x\", d => (d.source.x + d.target.x) / 2)\n      .attr(\"y\", d => (d.source.y + d.target.y) / 2);\n});\n\nfunction drag(simulation) {\n  function dragstarted(event, d) {\n    if (!event.active) simulation.alphaTarget(0.3).restart();\n    d.fx = d.x;\n    d.fy = d.y;\n  }\n\n  function dragged(event, d) {\n    d.fx = event.x;\n    d.fy = event.y;\n  }\n\n  function dragended(event, d) {\n    if (!event.active) simulation.alphaTarget(0);\n    d.fx = null;\n    d.fy = null;\n  }\n\n  return d3.drag()\n      .on(\"start\", dragstarted)\n      .on(\"drag\", dragged)\n      .on(\"end\", dragended);\n}\n\n}) })(element);\n"
     },
     "execution_count": 13,
     "metadata": {},
     "output_type": "execute_result"
    }
   ],
   "source": [
    "#% js\n",
    "$g.edges(:dataset) \n",
    "==> js-d3-graph-plot(\n",
    "        highlight => $g3.edges,\n",
    "        :$background, \n",
    "        :$title-color, \n",
    "        width => 700, \n",
    "        :$edge-thickness,\n",
    "        :$vertex-size, \n",
    "        force => {charge => {strength => -300, iterations => 2}, collision => {radius => 10, iterations => 1}, link => {minDistance => 10}}\n",
    "    )"
   ]
  },
  {
   "cell_type": "code",
   "execution_count": 22,
   "metadata": {},
   "outputs": [
    {
     "data": {
      "text/html": [
       "<?xml version=\"1.0\" encoding=\"UTF-8\" standalone=\"no\"?>\n",
       "<!DOCTYPE svg PUBLIC \"-//W3C//DTD SVG 1.1//EN\"\n",
       " \"http://www.w3.org/Graphics/SVG/1.1/DTD/svg11.dtd\">\n",
       "<!-- Generated by graphviz version 11.0.0 (20240428.1522)\n",
       " -->\n",
       "<!-- Pages: 1 -->\n",
       "<svg width=\"390pt\" height=\"246pt\"\n",
       " viewBox=\"0.00 0.00 389.60 245.60\" xmlns=\"http://www.w3.org/2000/svg\" xmlns:xlink=\"http://www.w3.org/1999/xlink\">\n",
       "<g id=\"graph0\" class=\"graph\" transform=\"scale(1 1) rotate(0) translate(4 241.6)\">\n",
       "<polygon fill=\"#1f1f1f\" stroke=\"none\" points=\"-4,4 -4,-241.6 385.6,-241.6 385.6,4 -4,4\"/>\n",
       "<!-- 3_1 -->\n",
       "<g id=\"node1\" class=\"node\">\n",
       "<title>3_1</title>\n",
       "<ellipse fill=\"DarkOrange\" stroke=\"Black\" cx=\"82.8\" cy=\"-226.8\" rx=\"10.8\" ry=\"10.8\"/>\n",
       "</g>\n",
       "<!-- 2_1 -->\n",
       "<g id=\"node5\" class=\"node\">\n",
       "<title>2_1</title>\n",
       "<ellipse fill=\"DarkOrange\" stroke=\"Black\" cx=\"82.8\" cy=\"-154.8\" rx=\"10.8\" ry=\"10.8\"/>\n",
       "</g>\n",
       "<!-- 3_1&#45;&#45;2_1 -->\n",
       "<g id=\"edge38\" class=\"edge\">\n",
       "<title>3_1&#45;&#45;2_1</title>\n",
       "<path fill=\"none\" stroke=\"DarkOrange\" stroke-width=\"2\" d=\"M82.8,-215.55C82.8,-201.94 82.8,-179.2 82.8,-165.74\"/>\n",
       "</g>\n",
       "<!-- 3_2 -->\n",
       "<g id=\"node18\" class=\"node\">\n",
       "<title>3_2</title>\n",
       "<ellipse fill=\"SteelBlue\" stroke=\"Black\" cx=\"154.8\" cy=\"-226.8\" rx=\"10.8\" ry=\"10.8\"/>\n",
       "</g>\n",
       "<!-- 3_1&#45;&#45;3_2 -->\n",
       "<g id=\"edge3\" class=\"edge\">\n",
       "<title>3_1&#45;&#45;3_2</title>\n",
       "<path fill=\"none\" stroke=\"SteelBlue\" stroke-width=\"2\" d=\"M94.05,-226.8C107.66,-226.8 130.4,-226.8 143.86,-226.8\"/>\n",
       "</g>\n",
       "<!-- 3_3 -->\n",
       "<g id=\"node2\" class=\"node\">\n",
       "<title>3_3</title>\n",
       "<ellipse fill=\"SteelBlue\" stroke=\"Black\" cx=\"226.8\" cy=\"-226.8\" rx=\"10.8\" ry=\"10.8\"/>\n",
       "</g>\n",
       "<!-- 3_3&#45;&#45;3_2 -->\n",
       "<g id=\"edge15\" class=\"edge\">\n",
       "<title>3_3&#45;&#45;3_2</title>\n",
       "<path fill=\"none\" stroke=\"SteelBlue\" stroke-width=\"2\" d=\"M215.55,-226.8C201.94,-226.8 179.2,-226.8 165.74,-226.8\"/>\n",
       "</g>\n",
       "<!-- 0_2 -->\n",
       "<g id=\"node3\" class=\"node\">\n",
       "<title>0_2</title>\n",
       "<ellipse fill=\"DarkOrange\" stroke=\"Black\" cx=\"154.8\" cy=\"-10.8\" rx=\"10.8\" ry=\"10.8\"/>\n",
       "</g>\n",
       "<!-- 1_2 -->\n",
       "<g id=\"node4\" class=\"node\">\n",
       "<title>1_2</title>\n",
       "<ellipse fill=\"DarkOrange\" stroke=\"Black\" cx=\"154.8\" cy=\"-82.8\" rx=\"10.8\" ry=\"10.8\"/>\n",
       "</g>\n",
       "<!-- 0_2&#45;&#45;1_2 -->\n",
       "<g id=\"edge27\" class=\"edge\">\n",
       "<title>0_2&#45;&#45;1_2</title>\n",
       "<path fill=\"none\" stroke=\"DarkOrange\" stroke-width=\"2\" d=\"M154.8,-22.05C154.8,-35.66 154.8,-58.4 154.8,-71.86\"/>\n",
       "</g>\n",
       "<!-- 0_1 -->\n",
       "<g id=\"node14\" class=\"node\">\n",
       "<title>0_1</title>\n",
       "<ellipse fill=\"DarkOrange\" stroke=\"Black\" cx=\"82.8\" cy=\"-10.8\" rx=\"10.8\" ry=\"10.8\"/>\n",
       "</g>\n",
       "<!-- 0_2&#45;&#45;0_1 -->\n",
       "<g id=\"edge26\" class=\"edge\">\n",
       "<title>0_2&#45;&#45;0_1</title>\n",
       "<path fill=\"none\" stroke=\"DarkOrange\" stroke-width=\"2\" d=\"M143.55,-10.8C129.94,-10.8 107.2,-10.8 93.74,-10.8\"/>\n",
       "</g>\n",
       "<!-- 0_3 -->\n",
       "<g id=\"node15\" class=\"node\">\n",
       "<title>0_3</title>\n",
       "<ellipse fill=\"SteelBlue\" stroke=\"Black\" cx=\"226.8\" cy=\"-10.8\" rx=\"10.8\" ry=\"10.8\"/>\n",
       "</g>\n",
       "<!-- 0_2&#45;&#45;0_3 -->\n",
       "<g id=\"edge6\" class=\"edge\">\n",
       "<title>0_2&#45;&#45;0_3</title>\n",
       "<path fill=\"none\" stroke=\"SteelBlue\" stroke-width=\"2\" d=\"M166.05,-10.8C179.66,-10.8 202.4,-10.8 215.86,-10.8\"/>\n",
       "</g>\n",
       "<!-- 1_3 -->\n",
       "<g id=\"node22\" class=\"node\">\n",
       "<title>1_3</title>\n",
       "<ellipse fill=\"SteelBlue\" stroke=\"Black\" cx=\"226.8\" cy=\"-82.8\" rx=\"10.8\" ry=\"10.8\"/>\n",
       "</g>\n",
       "<!-- 1_2&#45;&#45;1_3 -->\n",
       "<g id=\"edge11\" class=\"edge\">\n",
       "<title>1_2&#45;&#45;1_3</title>\n",
       "<path fill=\"none\" stroke=\"SteelBlue\" stroke-width=\"2\" d=\"M166.05,-82.8C179.66,-82.8 202.4,-82.8 215.86,-82.8\"/>\n",
       "</g>\n",
       "<!-- 0_4 -->\n",
       "<g id=\"node6\" class=\"node\">\n",
       "<title>0_4</title>\n",
       "<ellipse fill=\"SteelBlue\" stroke=\"Black\" cx=\"298.8\" cy=\"-10.8\" rx=\"10.8\" ry=\"10.8\"/>\n",
       "</g>\n",
       "<!-- 0_4&#45;&#45;0_3 -->\n",
       "<g id=\"edge23\" class=\"edge\">\n",
       "<title>0_4&#45;&#45;0_3</title>\n",
       "<path fill=\"none\" stroke=\"SteelBlue\" stroke-width=\"2\" d=\"M287.55,-10.8C273.94,-10.8 251.2,-10.8 237.74,-10.8\"/>\n",
       "</g>\n",
       "<!-- 3_5 -->\n",
       "<g id=\"node7\" class=\"node\">\n",
       "<title>3_5</title>\n",
       "<ellipse fill=\"SteelBlue\" stroke=\"Black\" cx=\"370.8\" cy=\"-226.8\" rx=\"10.8\" ry=\"10.8\"/>\n",
       "</g>\n",
       "<!-- 2_3 -->\n",
       "<g id=\"node8\" class=\"node\">\n",
       "<title>2_3</title>\n",
       "<ellipse fill=\"SteelBlue\" stroke=\"Black\" cx=\"226.8\" cy=\"-154.8\" rx=\"10.8\" ry=\"10.8\"/>\n",
       "</g>\n",
       "<!-- 2_3&#45;&#45;3_3 -->\n",
       "<g id=\"edge5\" class=\"edge\">\n",
       "<title>2_3&#45;&#45;3_3</title>\n",
       "<path fill=\"none\" stroke=\"SteelBlue\" stroke-width=\"2\" d=\"M226.8,-166.05C226.8,-179.66 226.8,-202.4 226.8,-215.86\"/>\n",
       "</g>\n",
       "<!-- 3_0 -->\n",
       "<g id=\"node9\" class=\"node\">\n",
       "<title>3_0</title>\n",
       "<ellipse fill=\"DarkOrange\" stroke=\"Black\" cx=\"10.8\" cy=\"-226.8\" rx=\"10.8\" ry=\"10.8\"/>\n",
       "</g>\n",
       "<!-- 3_0&#45;&#45;3_1 -->\n",
       "<g id=\"edge37\" class=\"edge\">\n",
       "<title>3_0&#45;&#45;3_1</title>\n",
       "<path fill=\"none\" stroke=\"DarkOrange\" stroke-width=\"2\" d=\"M22.05,-226.8C35.66,-226.8 58.4,-226.8 71.86,-226.8\"/>\n",
       "</g>\n",
       "<!-- 2_0 -->\n",
       "<g id=\"node20\" class=\"node\">\n",
       "<title>2_0</title>\n",
       "<ellipse fill=\"DarkOrange\" stroke=\"Black\" cx=\"10.8\" cy=\"-154.8\" rx=\"10.8\" ry=\"10.8\"/>\n",
       "</g>\n",
       "<!-- 3_0&#45;&#45;2_0 -->\n",
       "<g id=\"edge36\" class=\"edge\">\n",
       "<title>3_0&#45;&#45;2_0</title>\n",
       "<path fill=\"none\" stroke=\"DarkOrange\" stroke-width=\"2\" d=\"M10.8,-215.55C10.8,-201.94 10.8,-179.2 10.8,-165.74\"/>\n",
       "</g>\n",
       "<!-- 1_5 -->\n",
       "<g id=\"node10\" class=\"node\">\n",
       "<title>1_5</title>\n",
       "<ellipse fill=\"SteelBlue\" stroke=\"Black\" cx=\"370.8\" cy=\"-82.8\" rx=\"10.8\" ry=\"10.8\"/>\n",
       "</g>\n",
       "<!-- 1_4 -->\n",
       "<g id=\"node17\" class=\"node\">\n",
       "<title>1_4</title>\n",
       "<ellipse fill=\"SteelBlue\" stroke=\"Black\" cx=\"298.8\" cy=\"-82.8\" rx=\"10.8\" ry=\"10.8\"/>\n",
       "</g>\n",
       "<!-- 1_5&#45;&#45;1_4 -->\n",
       "<g id=\"edge17\" class=\"edge\">\n",
       "<title>1_5&#45;&#45;1_4</title>\n",
       "<path fill=\"none\" stroke=\"SteelBlue\" stroke-width=\"2\" d=\"M359.55,-82.8C345.94,-82.8 323.2,-82.8 309.74,-82.8\"/>\n",
       "</g>\n",
       "<!-- 2_5 -->\n",
       "<g id=\"node19\" class=\"node\">\n",
       "<title>2_5</title>\n",
       "<ellipse fill=\"SteelBlue\" stroke=\"Black\" cx=\"370.8\" cy=\"-154.8\" rx=\"10.8\" ry=\"10.8\"/>\n",
       "</g>\n",
       "<!-- 1_5&#45;&#45;2_5 -->\n",
       "<g id=\"edge8\" class=\"edge\">\n",
       "<title>1_5&#45;&#45;2_5</title>\n",
       "<path fill=\"none\" stroke=\"SteelBlue\" stroke-width=\"2\" d=\"M370.8,-94.05C370.8,-107.66 370.8,-130.4 370.8,-143.86\"/>\n",
       "</g>\n",
       "<!-- 0_0 -->\n",
       "<g id=\"node11\" class=\"node\">\n",
       "<title>0_0</title>\n",
       "<ellipse fill=\"DarkOrange\" stroke=\"Black\" cx=\"10.8\" cy=\"-10.8\" rx=\"10.8\" ry=\"10.8\"/>\n",
       "</g>\n",
       "<!-- 0_0&#45;&#45;0_1 -->\n",
       "<g id=\"edge24\" class=\"edge\">\n",
       "<title>0_0&#45;&#45;0_1</title>\n",
       "<path fill=\"none\" stroke=\"DarkOrange\" stroke-width=\"2\" d=\"M22.05,-10.8C35.66,-10.8 58.4,-10.8 71.86,-10.8\"/>\n",
       "</g>\n",
       "<!-- 1_0 -->\n",
       "<g id=\"node23\" class=\"node\">\n",
       "<title>1_0</title>\n",
       "<ellipse fill=\"DarkOrange\" stroke=\"Black\" cx=\"10.8\" cy=\"-82.8\" rx=\"10.8\" ry=\"10.8\"/>\n",
       "</g>\n",
       "<!-- 0_0&#45;&#45;1_0 -->\n",
       "<g id=\"edge25\" class=\"edge\">\n",
       "<title>0_0&#45;&#45;1_0</title>\n",
       "<path fill=\"none\" stroke=\"DarkOrange\" stroke-width=\"2\" d=\"M10.8,-22.05C10.8,-35.66 10.8,-58.4 10.8,-71.86\"/>\n",
       "</g>\n",
       "<!-- 2_2 -->\n",
       "<g id=\"node12\" class=\"node\">\n",
       "<title>2_2</title>\n",
       "<ellipse fill=\"DarkOrange\" stroke=\"Black\" cx=\"154.8\" cy=\"-154.8\" rx=\"10.8\" ry=\"10.8\"/>\n",
       "</g>\n",
       "<!-- 2_2&#45;&#45;1_2 -->\n",
       "<g id=\"edge34\" class=\"edge\">\n",
       "<title>2_2&#45;&#45;1_2</title>\n",
       "<path fill=\"none\" stroke=\"DarkOrange\" stroke-width=\"2\" d=\"M154.8,-143.55C154.8,-129.94 154.8,-107.2 154.8,-93.74\"/>\n",
       "</g>\n",
       "<!-- 2_2&#45;&#45;2_1 -->\n",
       "<g id=\"edge35\" class=\"edge\">\n",
       "<title>2_2&#45;&#45;2_1</title>\n",
       "<path fill=\"none\" stroke=\"DarkOrange\" stroke-width=\"2\" d=\"M143.55,-154.8C129.94,-154.8 107.2,-154.8 93.74,-154.8\"/>\n",
       "</g>\n",
       "<!-- 2_2&#45;&#45;2_3 -->\n",
       "<g id=\"edge18\" class=\"edge\">\n",
       "<title>2_2&#45;&#45;2_3</title>\n",
       "<path fill=\"none\" stroke=\"SteelBlue\" stroke-width=\"2\" d=\"M166.05,-154.8C179.66,-154.8 202.4,-154.8 215.86,-154.8\"/>\n",
       "</g>\n",
       "<!-- 2_2&#45;&#45;3_2 -->\n",
       "<g id=\"edge16\" class=\"edge\">\n",
       "<title>2_2&#45;&#45;3_2</title>\n",
       "<path fill=\"none\" stroke=\"SteelBlue\" stroke-width=\"2\" d=\"M154.8,-166.05C154.8,-179.66 154.8,-202.4 154.8,-215.86\"/>\n",
       "</g>\n",
       "<!-- 3_4 -->\n",
       "<g id=\"node13\" class=\"node\">\n",
       "<title>3_4</title>\n",
       "<ellipse fill=\"SteelBlue\" stroke=\"Black\" cx=\"298.8\" cy=\"-226.8\" rx=\"10.8\" ry=\"10.8\"/>\n",
       "</g>\n",
       "<!-- 3_4&#45;&#45;3_3 -->\n",
       "<g id=\"edge13\" class=\"edge\">\n",
       "<title>3_4&#45;&#45;3_3</title>\n",
       "<path fill=\"none\" stroke=\"SteelBlue\" stroke-width=\"2\" d=\"M287.55,-226.8C273.94,-226.8 251.2,-226.8 237.74,-226.8\"/>\n",
       "</g>\n",
       "<!-- 3_4&#45;&#45;3_5 -->\n",
       "<g id=\"edge7\" class=\"edge\">\n",
       "<title>3_4&#45;&#45;3_5</title>\n",
       "<path fill=\"none\" stroke=\"SteelBlue\" stroke-width=\"2\" d=\"M310.05,-226.8C323.66,-226.8 346.4,-226.8 359.86,-226.8\"/>\n",
       "</g>\n",
       "<!-- 2_4 -->\n",
       "<g id=\"node24\" class=\"node\">\n",
       "<title>2_4</title>\n",
       "<ellipse fill=\"SteelBlue\" stroke=\"Black\" cx=\"298.8\" cy=\"-154.8\" rx=\"10.8\" ry=\"10.8\"/>\n",
       "</g>\n",
       "<!-- 3_4&#45;&#45;2_4 -->\n",
       "<g id=\"edge21\" class=\"edge\">\n",
       "<title>3_4&#45;&#45;2_4</title>\n",
       "<path fill=\"none\" stroke=\"SteelBlue\" stroke-width=\"2\" d=\"M298.8,-215.55C298.8,-201.94 298.8,-179.2 298.8,-165.74\"/>\n",
       "</g>\n",
       "<!-- 1_1 -->\n",
       "<g id=\"node16\" class=\"node\">\n",
       "<title>1_1</title>\n",
       "<ellipse fill=\"DarkOrange\" stroke=\"Black\" cx=\"82.8\" cy=\"-82.8\" rx=\"10.8\" ry=\"10.8\"/>\n",
       "</g>\n",
       "<!-- 1_1&#45;&#45;1_2 -->\n",
       "<g id=\"edge30\" class=\"edge\">\n",
       "<title>1_1&#45;&#45;1_2</title>\n",
       "<path fill=\"none\" stroke=\"DarkOrange\" stroke-width=\"2\" d=\"M94.05,-82.8C107.66,-82.8 130.4,-82.8 143.86,-82.8\"/>\n",
       "</g>\n",
       "<!-- 1_1&#45;&#45;2_1 -->\n",
       "<g id=\"edge31\" class=\"edge\">\n",
       "<title>1_1&#45;&#45;2_1</title>\n",
       "<path fill=\"none\" stroke=\"DarkOrange\" stroke-width=\"2\" d=\"M82.8,-94.05C82.8,-107.66 82.8,-130.4 82.8,-143.86\"/>\n",
       "</g>\n",
       "<!-- 1_1&#45;&#45;0_1 -->\n",
       "<g id=\"edge28\" class=\"edge\">\n",
       "<title>1_1&#45;&#45;0_1</title>\n",
       "<path fill=\"none\" stroke=\"DarkOrange\" stroke-width=\"2\" d=\"M82.8,-71.55C82.8,-57.94 82.8,-35.2 82.8,-21.74\"/>\n",
       "</g>\n",
       "<!-- 1_1&#45;&#45;1_0 -->\n",
       "<g id=\"edge29\" class=\"edge\">\n",
       "<title>1_1&#45;&#45;1_0</title>\n",
       "<path fill=\"none\" stroke=\"DarkOrange\" stroke-width=\"2\" d=\"M71.55,-82.8C57.94,-82.8 35.2,-82.8 21.74,-82.8\"/>\n",
       "</g>\n",
       "<!-- 1_4&#45;&#45;0_4 -->\n",
       "<g id=\"edge12\" class=\"edge\">\n",
       "<title>1_4&#45;&#45;0_4</title>\n",
       "<path fill=\"none\" stroke=\"SteelBlue\" stroke-width=\"2\" d=\"M298.8,-71.55C298.8,-57.94 298.8,-35.2 298.8,-21.74\"/>\n",
       "</g>\n",
       "<!-- 2_5&#45;&#45;3_5 -->\n",
       "<g id=\"edge20\" class=\"edge\">\n",
       "<title>2_5&#45;&#45;3_5</title>\n",
       "<path fill=\"none\" stroke=\"SteelBlue\" stroke-width=\"2\" d=\"M370.8,-166.05C370.8,-179.66 370.8,-202.4 370.8,-215.86\"/>\n",
       "</g>\n",
       "<!-- 2_0&#45;&#45;2_1 -->\n",
       "<g id=\"edge33\" class=\"edge\">\n",
       "<title>2_0&#45;&#45;2_1</title>\n",
       "<path fill=\"none\" stroke=\"DarkOrange\" stroke-width=\"2\" d=\"M22.05,-154.8C35.66,-154.8 58.4,-154.8 71.86,-154.8\"/>\n",
       "</g>\n",
       "<!-- 2_0&#45;&#45;1_0 -->\n",
       "<g id=\"edge32\" class=\"edge\">\n",
       "<title>2_0&#45;&#45;1_0</title>\n",
       "<path fill=\"none\" stroke=\"DarkOrange\" stroke-width=\"2\" d=\"M10.8,-143.55C10.8,-129.94 10.8,-107.2 10.8,-93.74\"/>\n",
       "</g>\n",
       "<!-- 0_5 -->\n",
       "<g id=\"node21\" class=\"node\">\n",
       "<title>0_5</title>\n",
       "<ellipse fill=\"SteelBlue\" stroke=\"Black\" cx=\"370.8\" cy=\"-10.8\" rx=\"10.8\" ry=\"10.8\"/>\n",
       "</g>\n",
       "<!-- 0_5&#45;&#45;0_4 -->\n",
       "<g id=\"edge19\" class=\"edge\">\n",
       "<title>0_5&#45;&#45;0_4</title>\n",
       "<path fill=\"none\" stroke=\"SteelBlue\" stroke-width=\"2\" d=\"M359.55,-10.8C345.94,-10.8 323.2,-10.8 309.74,-10.8\"/>\n",
       "</g>\n",
       "<!-- 0_5&#45;&#45;1_5 -->\n",
       "<g id=\"edge10\" class=\"edge\">\n",
       "<title>0_5&#45;&#45;1_5</title>\n",
       "<path fill=\"none\" stroke=\"SteelBlue\" stroke-width=\"2\" d=\"M370.8,-22.05C370.8,-35.66 370.8,-58.4 370.8,-71.86\"/>\n",
       "</g>\n",
       "<!-- 1_3&#45;&#45;2_3 -->\n",
       "<g id=\"edge14\" class=\"edge\">\n",
       "<title>1_3&#45;&#45;2_3</title>\n",
       "<path fill=\"none\" stroke=\"SteelBlue\" stroke-width=\"2\" d=\"M226.8,-94.05C226.8,-107.66 226.8,-130.4 226.8,-143.86\"/>\n",
       "</g>\n",
       "<!-- 1_3&#45;&#45;0_3 -->\n",
       "<g id=\"edge9\" class=\"edge\">\n",
       "<title>1_3&#45;&#45;0_3</title>\n",
       "<path fill=\"none\" stroke=\"SteelBlue\" stroke-width=\"2\" d=\"M226.8,-71.55C226.8,-57.94 226.8,-35.2 226.8,-21.74\"/>\n",
       "</g>\n",
       "<!-- 1_3&#45;&#45;1_4 -->\n",
       "<g id=\"edge2\" class=\"edge\">\n",
       "<title>1_3&#45;&#45;1_4</title>\n",
       "<path fill=\"none\" stroke=\"SteelBlue\" stroke-width=\"2\" d=\"M238.05,-82.8C251.66,-82.8 274.4,-82.8 287.86,-82.8\"/>\n",
       "</g>\n",
       "<!-- 2_4&#45;&#45;2_3 -->\n",
       "<g id=\"edge22\" class=\"edge\">\n",
       "<title>2_4&#45;&#45;2_3</title>\n",
       "<path fill=\"none\" stroke=\"SteelBlue\" stroke-width=\"2\" d=\"M287.55,-154.8C273.94,-154.8 251.2,-154.8 237.74,-154.8\"/>\n",
       "</g>\n",
       "<!-- 2_4&#45;&#45;1_4 -->\n",
       "<g id=\"edge4\" class=\"edge\">\n",
       "<title>2_4&#45;&#45;1_4</title>\n",
       "<path fill=\"none\" stroke=\"SteelBlue\" stroke-width=\"2\" d=\"M298.8,-143.55C298.8,-129.94 298.8,-107.2 298.8,-93.74\"/>\n",
       "</g>\n",
       "<!-- 2_4&#45;&#45;2_5 -->\n",
       "<g id=\"edge1\" class=\"edge\">\n",
       "<title>2_4&#45;&#45;2_5</title>\n",
       "<path fill=\"none\" stroke=\"SteelBlue\" stroke-width=\"2\" d=\"M310.05,-154.8C323.66,-154.8 346.4,-154.8 359.86,-154.8\"/>\n",
       "</g>\n",
       "</g>\n",
       "</svg>\n"
      ]
     },
     "execution_count": 22,
     "metadata": {},
     "output_type": "execute_result"
    }
   ],
   "source": [
    "#% html\n",
    "$g.dot(highlight => $g3, node-shape => 'point', engine => 'neato'):svg"
   ]
  },
  {
   "cell_type": "code",
   "execution_count": null,
   "metadata": {},
   "outputs": [],
   "source": []
  }
 ],
 "metadata": {
  "kernelspec": {
   "display_name": "RakuChatbook",
   "language": "raku",
   "name": "raku"
  },
  "language_info": {
   "file_extension": ".raku",
   "mimetype": "text/x-raku",
   "name": "raku",
   "version": "6.d"
  }
 },
 "nbformat": 4,
 "nbformat_minor": 2
}
