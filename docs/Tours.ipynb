{
 "cells": [
  {
   "cell_type": "markdown",
   "metadata": {},
   "source": [
    "# Tours"
   ]
  },
  {
   "cell_type": "markdown",
   "metadata": {},
   "source": [
    "-----\n",
    "\n",
    "## Setup"
   ]
  },
  {
   "cell_type": "markdown",
   "metadata": {},
   "source": [
    "Here are loaded the packages used in the rest of notebook:"
   ]
  },
  {
   "cell_type": "code",
   "execution_count": null,
   "metadata": {},
   "outputs": [],
   "source": [
    "use Graph;\n",
    "use Graph::Circulant;\n",
    "use Graph::Complete;\n",
    "use Graph::CompleteKaryTree;\n",
    "use Graph::Cycle;\n",
    "use Graph::Grid;\n",
    "use Graph::Hypercube;\n",
    "use Graph::KnightTour;\n",
    "use Graph::Star;\n",
    "use Graph::Wheel;\n",
    "use Graph::Path;\n",
    "use Graph::Petersen;\n",
    "\n",
    "use Graph::Distribution;\n",
    "use Graph::Random;\n",
    "\n",
    "use Data::Reshapers;\n",
    "use Data::Summarizers;\n",
    "\n",
    "use JavaScript::D3;\n",
    "use WWW::MermaidInk;"
   ]
  },
  {
   "cell_type": "markdown",
   "metadata": {},
   "source": [
    "### JavaScript"
   ]
  },
  {
   "cell_type": "markdown",
   "metadata": {},
   "source": [
    "Here we prepare the notebook to visualize with JavaScript:"
   ]
  },
  {
   "cell_type": "code",
   "execution_count": null,
   "metadata": {},
   "outputs": [],
   "source": [
    "#% javascript\n",
    "require.config({\n",
    "     paths: {\n",
    "     d3: 'https://d3js.org/d3.v7.min'\n",
    "}});\n",
    "\n",
    "require(['d3'], function(d3) {\n",
    "     console.log(d3);\n",
    "});"
   ]
  },
  {
   "cell_type": "markdown",
   "metadata": {},
   "source": [
    "Verification:"
   ]
  },
  {
   "cell_type": "code",
   "execution_count": null,
   "metadata": {},
   "outputs": [],
   "source": [
    "#% js\n",
    "js-d3-list-line-plot(10.rand xx 40, background => 'none', stroke-width => 2)"
   ]
  },
  {
   "cell_type": "markdown",
   "metadata": {},
   "source": [
    "Here we set a collection of visualization variables:"
   ]
  },
  {
   "cell_type": "code",
   "execution_count": null,
   "metadata": {},
   "outputs": [],
   "source": [
    "my $title-color = 'Ivory';\n",
    "my $stroke-color = 'SlateGray';\n",
    "my $tooltip-color = 'LightBlue';\n",
    "my $tooltip-background-color = 'none';\n",
    "my $background = '1F1F1F';\n",
    "my $color-scheme = 'schemeTableau10';\n",
    "my $edge-thickness = 3;\n",
    "my $vertex-size = 6;\n",
    "my $mmd-theme = q:to/END/;\n",
    "%%{\n",
    "  init: {\n",
    "    'theme': 'forest',\n",
    "    'themeVariables': {\n",
    "      'lineColor': 'Ivory'\n",
    "    }\n",
    "  }\n",
    "}%%\n",
    "END\n",
    "my %force = collision => {iterations => 0, radius => 10},link => {distance => 180};\n",
    "my %force2 = charge => {strength => -30, iterations => 4}, collision => {radius => 50, iterations => 4}, link => {distance => 30};"
   ]
  },
  {
   "cell_type": "markdown",
   "metadata": {},
   "source": [
    "-----\n",
    "\n",
    "## Postman tour -- easy graph"
   ]
  },
  {
   "cell_type": "code",
   "execution_count": null,
   "metadata": {},
   "outputs": [],
   "source": [
    "my @edges = '1' => '2', '1' => '3', '2' => '3', '2' => '4', '3' => '5', '2' => '5', '3' => '4', '4' => '5';\n",
    "my $g = Graph.new(@edges);"
   ]
  },
  {
   "cell_type": "code",
   "execution_count": null,
   "metadata": {},
   "outputs": [],
   "source": [
    "my %vertex-coordinates = 1 => (10, 30), 2 => (0, 20), 3 => (20, 20), 4 => (0, 10), 5 => (20, 10)  "
   ]
  },
  {
   "cell_type": "code",
   "execution_count": null,
   "metadata": {},
   "outputs": [],
   "source": [
    "#% js\n",
    "$g.edges(:dataset) \n",
    "==> js-d3-graph-plot(\n",
    "        :%vertex-coordinates,\n",
    "        :$background, \n",
    "        :$title-color, \n",
    "        width => 500, \n",
    "        :$edge-thickness,\n",
    "        :$vertex-size\n",
    "    )"
   ]
  },
  {
   "cell_type": "code",
   "execution_count": null,
   "metadata": {},
   "outputs": [],
   "source": [
    "my @tour = $g.find-postman-tour"
   ]
  },
  {
   "cell_type": "code",
   "execution_count": null,
   "metadata": {},
   "outputs": [],
   "source": [
    "my @dsTourEdges = @tour.rotor(2 => -1).pairs.map({ %(from => $_.value.head, to => $_.value.tail, label => $_.key.Str) })"
   ]
  },
  {
   "cell_type": "code",
   "execution_count": null,
   "metadata": {},
   "outputs": [],
   "source": [
    "#% js\n",
    "@dsTourEdges\n",
    "==> js-d3-graph-plot(\n",
    "        :%vertex-coordinates,\n",
    "        :$background, \n",
    "        :$title-color, \n",
    "        width => 500, \n",
    "        :$edge-thickness,\n",
    "        vertex-label-color => 'Gray',\n",
    "        edge-label-color => 'Ivory',\n",
    "        :$vertex-size, \n",
    "        force => {charge => {strength => -400, iterations => 2}, collision => {radius => 50, iterations => 1}, link => {minDistance => 80}}\n",
    "    )"
   ]
  },
  {
   "cell_type": "markdown",
   "metadata": {},
   "source": [
    "------\n",
    "\n",
    "## Non-even vertex degrees"
   ]
  },
  {
   "cell_type": "code",
   "execution_count": null,
   "metadata": {},
   "outputs": [],
   "source": [
    "#% js\n",
    "my $g = Graph::Wheel.new(6);\n",
    "\n",
    "$g.edges(:dataset) \n",
    "==> js-d3-graph-plot(\n",
    "        :$background, \n",
    "        :$title-color, \n",
    "        width => 500, \n",
    "        :$edge-thickness,\n",
    "        :$vertex-size, \n",
    "        force => {charge => {strength => -800, iterations => 2}, collision => {radius => 10, iterations => 1}, link => {minDistance => 10}}\n",
    "    )"
   ]
  },
  {
   "cell_type": "code",
   "execution_count": null,
   "metadata": {},
   "outputs": [],
   "source": [
    "my @tour = $g.find-postman-tour"
   ]
  },
  {
   "cell_type": "code",
   "execution_count": null,
   "metadata": {},
   "outputs": [],
   "source": [
    "my @dsTourEdges = @tour.rotor(2 => -1).pairs.map({ %(from => $_.value.head, to => $_.value.tail, label => $_.key.Str) })"
   ]
  },
  {
   "cell_type": "code",
   "execution_count": null,
   "metadata": {},
   "outputs": [],
   "source": [
    "my $n = $g.vertex-count - 1;\n",
    "my %vertex-coordinates = (^$n).map({ ($_ + 1).Str => [cos($_ * 2 * pi / $n), sin($_ * 2 * pi / $n)] });\n",
    "%vertex-coordinates.push( '0' => [0, 0])"
   ]
  },
  {
   "cell_type": "code",
   "execution_count": null,
   "metadata": {},
   "outputs": [],
   "source": [
    "#% js\n",
    "@dsTourEdges\n",
    "==> js-d3-graph-plot(\n",
    "        #:%vertex-coordinates,\n",
    "        :$background, \n",
    "        :$title-color, \n",
    "        width => 500, \n",
    "        :$edge-thickness,\n",
    "        edge-label-color => 'Silver',\n",
    "        vertex-label-color => 'Gray',\n",
    "        :$vertex-size, \n",
    "        force => {charge => {strength => -600, iterations => 2}, collision => {radius => 10, iterations => 1}, link => {minDistance => 10}}\n",
    "    )"
   ]
  },
  {
   "cell_type": "code",
   "execution_count": null,
   "metadata": {},
   "outputs": [],
   "source": []
  }
 ],
 "metadata": {
  "kernelspec": {
   "display_name": "RakuChatbook",
   "language": "raku",
   "name": "raku"
  },
  "language_info": {
   "file_extension": ".raku",
   "mimetype": "text/x-raku",
   "name": "raku",
   "version": "6.d"
  }
 },
 "nbformat": 4,
 "nbformat_minor": 2
}
