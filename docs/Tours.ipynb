{
 "cells": [
  {
   "cell_type": "markdown",
   "metadata": {},
   "source": [
    "# Tours"
   ]
  },
  {
   "cell_type": "markdown",
   "metadata": {},
   "source": [
    "-----\n",
    "\n",
    "## Setup"
   ]
  },
  {
   "cell_type": "markdown",
   "metadata": {},
   "source": [
    "Here are loaded the packages used in the rest of notebook:"
   ]
  },
  {
   "cell_type": "code",
   "execution_count": 1,
   "metadata": {},
   "outputs": [],
   "source": [
    "use Graph;\n",
    "use Graph::Circulant;\n",
    "use Graph::Complete;\n",
    "use Graph::CompleteKaryTree;\n",
    "use Graph::Cycle;\n",
    "use Graph::Grid;\n",
    "use Graph::Hypercube;\n",
    "use Graph::KnightTour;\n",
    "use Graph::Star;\n",
    "use Graph::Wheel;\n",
    "use Graph::Path;\n",
    "use Graph::Petersen;\n",
    "\n",
    "use Graph::Distribution;\n",
    "use Graph::Random;\n",
    "\n",
    "use Data::Reshapers;\n",
    "use Data::Summarizers;\n",
    "\n",
    "use JavaScript::D3;\n",
    "use WWW::MermaidInk;"
   ]
  },
  {
   "cell_type": "markdown",
   "metadata": {},
   "source": [
    "### JavaScript"
   ]
  },
  {
   "cell_type": "markdown",
   "metadata": {},
   "source": [
    "Here we prepare the notebook to visualize with JavaScript:"
   ]
  },
  {
   "cell_type": "code",
   "execution_count": 2,
   "metadata": {},
   "outputs": [
    {
     "data": {
      "application/javascript": "require.config({\n     paths: {\n     d3: 'https://d3js.org/d3.v7.min'\n}});\n\nrequire(['d3'], function(d3) {\n     console.log(d3);\n});"
     },
     "execution_count": 2,
     "metadata": {},
     "output_type": "execute_result"
    }
   ],
   "source": [
    "#% javascript\n",
    "require.config({\n",
    "     paths: {\n",
    "     d3: 'https://d3js.org/d3.v7.min'\n",
    "}});\n",
    "\n",
    "require(['d3'], function(d3) {\n",
    "     console.log(d3);\n",
    "});"
   ]
  },
  {
   "cell_type": "markdown",
   "metadata": {},
   "source": [
    "Verification:"
   ]
  },
  {
   "cell_type": "code",
   "execution_count": 3,
   "metadata": {},
   "outputs": [
    {
     "data": {
      "application/javascript": "(function(element) { require(['d3'], function(d3) {\n\n// set the dimensions and margins of the graph\nvar margin = {\"top\":40,\"bottom\":40,\"right\":40,\"left\":40},\n    width = 600 - margin.left - margin.right,\n    height = 400 - margin.top - margin.bottom;\n\n// append the svg object to the body of the page\nvar svg = d3\n   .select(element.get(0))\n  .append(\"svg\")\n    .attr(\"width\", width + margin.left + margin.right)\n    .attr(\"height\", height + margin.top + margin.bottom)\n    .style(\"background\", \"none\")\n  .append(\"g\")\n    .attr(\"transform\",\n          \"translate(\" + margin.left + \",\" + margin.top + \")\")\n\n// Obtain title\nvar title = \"\"\nvar titleFontSize = 16\n\nif ( title.length > 0 ) {\n    svg.append(\"text\")\n        .attr(\"x\", (width / 2))\n        .attr(\"y\", 0 - (margin.top / 2))\n        .attr(\"text-anchor\", \"middle\")\n        .style(\"font-size\", titleFontSize.toString() + \"px\")\n        .style(\"fill\", \"Black\")\n        .text(title);\n}\n\n// Obtain x-axis label\nvar xAxisLabel = \"\"\nvar xAxisLabelFontSize = 12\n\nif ( xAxisLabel.length > 0 ) {\n    svg.append(\"text\")\n        .attr(\"x\", (width / 2))\n        .attr(\"y\", height + margin.bottom - xAxisLabelFontSize/2)\n        .attr(\"text-anchor\", \"middle\")\n        .style(\"font-size\", xAxisLabelFontSize.toString() + \"px\")\n        .style(\"fill\", \"Black\")\n        .text(xAxisLabel);\n}\n\n// Obtain y-axis label\nvar yAxisLabel = \"\"\nvar yAxisLabelFontSize = 12\n\nif ( yAxisLabel.length > 0 ) {\n    svg.append(\"text\")\n        .attr(\"transform\", \"rotate(-90)\")\n        .attr(\"x\", - (height / 2))\n        .attr(\"y\", 0 - margin.left + yAxisLabelFontSize)\n        .attr(\"text-anchor\", \"middle\")\n        .style(\"font-size\", yAxisLabelFontSize.toString() + \"px\")\n        .style(\"fill\", \"Black\")\n        .text(yAxisLabel);\n}\n\n\n// Obtain data\nvar data = [{\"y\":7.496808093426296e0,\"x\":1},{\"x\":2,\"y\":2.75238792777192e0},{\"y\":4.289206925970258e0,\"x\":3},{\"y\":7.832747477228978e0,\"x\":4},{\"y\":8.935343227866602e0,\"x\":5},{\"y\":8.021011116014806e0,\"x\":6},{\"y\":2.586710024332853e0,\"x\":7},{\"y\":5.056966031257923e0,\"x\":8},{\"x\":9,\"y\":0.0560553045036416e0},{\"y\":2.307949340462626e0,\"x\":10},{\"x\":11,\"y\":4.075329222997944e0},{\"y\":8.673251799523184e0,\"x\":12},{\"y\":8.539177816616844e0,\"x\":13},{\"x\":14,\"y\":7.313781464138664e0},{\"y\":0.9748663381181233e0,\"x\":15},{\"y\":3.623781214275489e0,\"x\":16},{\"y\":1.9857912253576349e0,\"x\":17},{\"x\":18,\"y\":7.207813462686367e0},{\"y\":5.060581404888942e0,\"x\":19},{\"x\":20,\"y\":8.52418663826073e0},{\"y\":7.349949523546448e0,\"x\":21},{\"y\":2.404196507218951e0,\"x\":22},{\"y\":8.420689703831478e0,\"x\":23},{\"y\":4.001368927079561e0,\"x\":24},{\"y\":3.048876916570309e0,\"x\":25},{\"y\":2.7969259465240803e0,\"x\":26},{\"x\":27,\"y\":8.133552343716454e0},{\"y\":3.739970826023906e0,\"x\":28},{\"y\":4.1983853860596625e0,\"x\":29},{\"y\":2.1221806755090733e0,\"x\":30},{\"x\":31,\"y\":6.209940671093528e0},{\"x\":32,\"y\":2.1231863771243553e0},{\"y\":4.18447347247323e0,\"x\":33},{\"x\":34,\"y\":2.9151394393001615e0},{\"y\":4.419846200860724e0,\"x\":35},{\"y\":5.777117239709842e0,\"x\":36},{\"x\":37,\"y\":1.5024463295537216e0},{\"x\":38,\"y\":3.1033980810893116e0},{\"y\":6.441287842419715e0,\"x\":39},{\"x\":40,\"y\":9.681638225691913e0}]\n\nvar xMin = Math.min.apply(Math, data.map(function(o) { return o.x; }))\nvar xMax = Math.max.apply(Math, data.map(function(o) { return o.x; }))\n\nvar yMin = Math.min.apply(Math, data.map(function(o) { return o.y; }))\nvar yMax = Math.max.apply(Math, data.map(function(o) { return o.y; }))\n\n// X scale and Axis\nvar x = d3.scaleLinear()\n    .domain([xMin, xMax])\n    .range([0, width]);\n\n// Y scale and Axis\nvar y = d3.scaleLinear()\n    .domain([yMin, yMax])\n    .range([height, 0]);\n\nsvg\n  .append('g')\n  .attr(\"transform\", \"translate(0,\" + height + \")\")\n  .call(d3.axisBottom(x))\n\nsvg\n  .append('g')\n  .call(d3.axisLeft(y));\n\n// prepare a helper function\nvar lineFunc = d3.line()\n  .x(function(d) { return x(d.x) })\n  .y(function(d) { return y(d.y) })\n\n// Add the path using this helper function\nsvg.append('path')\n  .attr('d', lineFunc(data))\n  .attr(\"stroke-width\", 2)\n  .attr('stroke', \"steelblue\")\n  .attr('fill', 'none');\n\n}) })(element);\n"
     },
     "execution_count": 3,
     "metadata": {},
     "output_type": "execute_result"
    }
   ],
   "source": [
    "#% js\n",
    "js-d3-list-line-plot(10.rand xx 40, background => 'none', stroke-width => 2)"
   ]
  },
  {
   "cell_type": "markdown",
   "metadata": {},
   "source": [
    "Here we set a collection of visualization variables:"
   ]
  },
  {
   "cell_type": "code",
   "execution_count": 4,
   "metadata": {},
   "outputs": [
    {
     "data": {
      "text/plain": [
       "{charge => {iterations => 4, strength => -30}, collision => {iterations => 4, radius => 50}, link => {distance => 30}}"
      ]
     },
     "execution_count": 4,
     "metadata": {},
     "output_type": "execute_result"
    }
   ],
   "source": [
    "my $title-color = 'Ivory';\n",
    "my $stroke-color = 'SlateGray';\n",
    "my $tooltip-color = 'LightBlue';\n",
    "my $tooltip-background-color = 'none';\n",
    "my $background = '1F1F1F';\n",
    "my $color-scheme = 'schemeTableau10';\n",
    "my $edge-thickness = 3;\n",
    "my $vertex-size = 6;\n",
    "my $mmd-theme = q:to/END/;\n",
    "%%{\n",
    "  init: {\n",
    "    'theme': 'forest',\n",
    "    'themeVariables': {\n",
    "      'lineColor': 'Ivory'\n",
    "    }\n",
    "  }\n",
    "}%%\n",
    "END\n",
    "my %force = collision => {iterations => 0, radius => 10},link => {distance => 180};\n",
    "my %force2 = charge => {strength => -30, iterations => 4}, collision => {radius => 50, iterations => 4}, link => {distance => 30};"
   ]
  },
  {
   "cell_type": "markdown",
   "metadata": {},
   "source": [
    "-----\n",
    "\n",
    "## Postman tour -- easy graph"
   ]
  },
  {
   "cell_type": "code",
   "execution_count": 5,
   "metadata": {},
   "outputs": [
    {
     "data": {
      "text/plain": [
       "Graph(vertexes => 5, edges => 8, directed => False)"
      ]
     },
     "execution_count": 5,
     "metadata": {},
     "output_type": "execute_result"
    }
   ],
   "source": [
    "my @edges = '1' => '2', '1' => '3', '2' => '3', '2' => '4', '3' => '5', '2' => '5', '3' => '4', '4' => '5';\n",
    "my $g = Graph.new(@edges);"
   ]
  },
  {
   "cell_type": "code",
   "execution_count": 6,
   "metadata": {},
   "outputs": [
    {
     "data": {
      "text/plain": [
       "{1 => (10 30), 2 => (0 20), 3 => (20 20), 4 => (0 10), 5 => (20 10)}"
      ]
     },
     "execution_count": 6,
     "metadata": {},
     "output_type": "execute_result"
    }
   ],
   "source": [
    "my %vertex-coordinates = 1 => (10, 30), 2 => (0, 20), 3 => (20, 20), 4 => (0, 10), 5 => (20, 10)  "
   ]
  },
  {
   "cell_type": "code",
   "execution_count": 7,
   "metadata": {},
   "outputs": [
    {
     "data": {
      "application/javascript": "(function(element) { require(['d3'], function(d3) {\n\n// set the dimensions and margins of the graph\nvar margin = {\"bottom\":40,\"top\":40,\"left\":40,\"right\":40},\n    width = 500 - margin.left - margin.right,\n    height = 309 - margin.top - margin.bottom;\n\n// append the svg object to the body of the page\nvar svg = d3\n   .select(element.get(0))\n  .append(\"svg\")\n    .attr(\"width\", width + margin.left + margin.right)\n    .attr(\"height\", height + margin.top + margin.bottom)\n    .style(\"background\", \"1F1F1F\")\n  .append(\"g\")\n    .attr(\"transform\",\n          \"translate(\" + margin.left + \",\" + margin.top + \")\")\n\n// Obtain title\nvar title = \"\"\nvar titleFontSize = 16\n\nif ( title.length > 0 ) {\n    svg.append(\"text\")\n        .attr(\"x\", (width / 2))\n        .attr(\"y\", 0 - (margin.top / 2))\n        .attr(\"text-anchor\", \"middle\")\n        .style(\"font-size\", titleFontSize.toString() + \"px\")\n        .style(\"fill\", \"Ivory\")\n        .text(title);\n}\n\nconst edges = [{\"weight\":1,\"from\":\"3\",\"label\":\"\",\"to\":\"4\"},{\"label\":\"\",\"to\":\"2\",\"from\":\"3\",\"weight\":1},{\"to\":\"1\",\"weight\":1,\"from\":\"3\",\"label\":\"\"},{\"label\":\"\",\"to\":\"5\",\"weight\":1,\"from\":\"3\"},{\"weight\":1,\"from\":\"1\",\"to\":\"2\",\"label\":\"\"},{\"to\":\"4\",\"from\":\"2\",\"weight\":1,\"label\":\"\"},{\"to\":\"5\",\"label\":\"\",\"weight\":1,\"from\":\"2\"},{\"to\":\"5\",\"from\":\"4\",\"weight\":1,\"label\":\"\"}];\n\nconst vertexCoordinates = {\"3\":{\"y\":20,\"x\":20},\"5\":{\"x\":20,\"y\":10},\"4\":{\"x\":0,\"y\":10},\"2\":{\"x\":0,\"y\":20},\"1\":{\"x\":10,\"y\":30}};\n\nconst highlightSpecs = {};\n\nconst links = edges.map(e => ({\n  source: e.from,\n  target: e.to,\n  weight: e.weight,\n  label: e.label\n}));\n\nconst nodes = Object.keys(vertexCoordinates).map(key => ({\n  id: key,\n  x: vertexCoordinates[key].x,\n  y: vertexCoordinates[key].y\n}));\n\nvar xMin = Math.min.apply(Math, nodes.map(function(o) { return o.x; }))\nvar xMax = Math.max.apply(Math, nodes.map(function(o) { return o.x; }))\n\nvar yMin = Math.min.apply(Math, nodes.map(function(o) { return o.y; }))\nvar yMax = Math.max.apply(Math, nodes.map(function(o) { return o.y; }))\n\n// X scale and Axis\nvar xScale = d3.scaleLinear()\n    .domain([xMin, xMax])\n    .range([0, width]);\n\n// Y scale and Axis\nvar yScale = d3.scaleLinear()\n    .domain([yMin, yMax])\n    .range([height, 0]);\n\nnodes.forEach(node => {\n  node.x = xScale(node.x);\n  node.y = yScale(node.y);\n});\n\nconst link = svg.append(\"g\")\n    .attr(\"class\", \"links\")\n  .selectAll(\"line\")\n  .data(links)\n  .enter().append(\"line\")\n    .attr(\"class\", \"link\")\n    .attr(\"stroke\", d => {\n        for (const [color, items] of Object.entries(highlightSpecs)) {\n            if (items.some(item => Array.isArray(item) && item[0] === d.source && item[1] === d.target)) {\n                return color;\n            }\n        }\n        return \"SteelBlue\";\n    })\n    .attr(\"stroke-width\", 3)\n    .attr(\"x1\", d => nodes.find(n => n.id === d.source).x)\n    .attr(\"y1\", d => nodes.find(n => n.id === d.source).y)\n    .attr(\"x2\", d => nodes.find(n => n.id === d.target).x)\n    .attr(\"y2\", d => nodes.find(n => n.id === d.target).y);\n\nconst node = svg.append(\"g\")\n    .attr(\"class\", \"nodes\")\n  .selectAll(\"circle\")\n  .data(nodes)\n  .enter().append(\"circle\")\n    .attr(\"class\", \"node\")\n    .attr(\"r\", 6)\n    .attr(\"cx\", d => d.x)\n    .attr(\"cy\", d => d.y)\n    .attr(\"stroke\", d => {\n       for (const [color, items] of Object.entries(highlightSpecs)) {\n         if (items.includes(d.id)) {\n            return color;\n         }\n       }\n       return \"SteelBlue\";\n    })\n    .attr(\"fill\", d => {\n       for (const [color, items] of Object.entries(highlightSpecs)) {\n         if (items.includes(d.id)) {\n            return color;\n         }\n       }\n       return \"SteelBlue\";\n    })\n    .call(d3.drag()\n      .on(\"start\", dragstarted)\n      .on(\"drag\", dragged)\n      .on(\"end\", dragended));\n\n\nnode.append(\"title\")\n    .text(d => d.id);\n\nconst nodeLabel = svg.append(\"g\")\n    .attr(\"class\", \"node-labels\")\n  .selectAll(\"text\")\n  .data(nodes)\n  .enter().append(\"text\")\n    .attr(\"class\", \"node-label\")\n    .style(\"font-size\", 13)\n    .attr(\"font-family\", \"Courier New\")\n    .attr(\"font-weight\", 100)\n    .attr(\"dy\", -10)\n    .attr(\"x\", d => d.x)\n    .attr(\"y\", d => d.y)\n    .attr('fill', \"Ivory\")\n    .attr('stroke', \"Ivory\")\n    .text(d => d.id);\n\nconst linkLabel = svg.append(\"g\")\n    .attr(\"class\", \"link-labels\")\n  .selectAll(\"text\")\n  .data(links)\n  .enter().append(\"text\")\n    .filter(d => d.label !== \"\")\n    .attr(\"class\", \"link-label\")\n    .style(\"font-size\", 13)\n    .attr(\"font-family\", \"Courier New\")\n    .attr('fill', \"Ivory\")\n    .attr('stroke', \"Ivory\")\n    .attr(\"font-weight\", 100)\n    .attr(\"dy\", -10)\n    .attr(\"x\", d => xScale((vertexCoordinates[d.source].x + vertexCoordinates[d.target].x) / 2))\n    .attr(\"y\", d => yScale((vertexCoordinates[d.source].y + vertexCoordinates[d.target].y) / 2))\n    .text(d => d.label);\n\nfunction dragstarted(event, d) {\n  d3.select(this).raise().attr(\"stroke\", \"SteelBlue\");\n}\n\nfunction dragged(event, d) {\n  d.x = event.x;\n  d.y = event.y;\n  d3.select(this).attr(\"cx\", d.x).attr(\"cy\", d.y);\n  link\n    .attr(\"x1\", l => nodes.find(n => n.id === l.source).x)\n    .attr(\"y1\", l => nodes.find(n => n.id === l.source).y)\n    .attr(\"x2\", l => nodes.find(n => n.id === l.target).x)\n    .attr(\"y2\", l => nodes.find(n => n.id === l.target).y);\n}\n\nfunction dragended(event, d) {\n  d3.select(this).attr(\"stroke\", null);\n}\n\n}) })(element);\n"
     },
     "execution_count": 7,
     "metadata": {},
     "output_type": "execute_result"
    }
   ],
   "source": [
    "#% js\n",
    "$g.edges(:dataset) \n",
    "==> js-d3-graph-plot(\n",
    "        :%vertex-coordinates,\n",
    "        :$background, \n",
    "        :$title-color, \n",
    "        width => 500, \n",
    "        :$edge-thickness,\n",
    "        :$vertex-size\n",
    "    )"
   ]
  },
  {
   "cell_type": "code",
   "execution_count": 8,
   "metadata": {},
   "outputs": [
    {
     "data": {
      "text/plain": [
       "[4 5 3 1 2 3 5 4 3]"
      ]
     },
     "execution_count": 8,
     "metadata": {},
     "output_type": "execute_result"
    }
   ],
   "source": [
    "my @tour = $g.find-postman-tour"
   ]
  },
  {
   "cell_type": "code",
   "execution_count": 9,
   "metadata": {},
   "outputs": [
    {
     "data": {
      "text/plain": [
       "[{from => 4, label => 0, to => 5} {from => 5, label => 1, to => 3} {from => 3, label => 2, to => 1} {from => 1, label => 3, to => 2} {from => 2, label => 4, to => 3} {from => 3, label => 5, to => 5} {from => 5, label => 6, to => 4} {from => 4, label => 7, to => 3}]"
      ]
     },
     "execution_count": 9,
     "metadata": {},
     "output_type": "execute_result"
    }
   ],
   "source": [
    "my @dsTourEdges = @tour.rotor(2 => -1).pairs.map({ %(from => $_.value.head, to => $_.value.tail, label => $_.key.Str) })"
   ]
  },
  {
   "cell_type": "code",
   "execution_count": 10,
   "metadata": {},
   "outputs": [
    {
     "data": {
      "application/javascript": "(function(element) { require(['d3'], function(d3) {\n\n// set the dimensions and margins of the graph\nvar margin = {\"bottom\":40,\"right\":40,\"left\":40,\"top\":40},\n    width = 500 - margin.left - margin.right,\n    height = 309 - margin.top - margin.bottom;\n\n// append the svg object to the body of the page\nvar svg = d3\n   .select(element.get(0))\n  .append(\"svg\")\n    .attr(\"width\", width + margin.left + margin.right)\n    .attr(\"height\", height + margin.top + margin.bottom)\n    .style(\"background\", \"1F1F1F\")\n  .append(\"g\")\n    .attr(\"transform\",\n          \"translate(\" + margin.left + \",\" + margin.top + \")\")\n\n// Obtain title\nvar title = \"\"\nvar titleFontSize = 16\n\nif ( title.length > 0 ) {\n    svg.append(\"text\")\n        .attr(\"x\", (width / 2))\n        .attr(\"y\", 0 - (margin.top / 2))\n        .attr(\"text-anchor\", \"middle\")\n        .style(\"font-size\", titleFontSize.toString() + \"px\")\n        .style(\"fill\", \"Ivory\")\n        .text(title);\n}\n\nconst edges = [{\"label\":\"0\",\"weight\":1,\"to\":\"5\",\"from\":\"4\"},{\"from\":\"5\",\"weight\":1,\"label\":\"1\",\"to\":\"3\"},{\"label\":\"2\",\"from\":\"3\",\"to\":\"1\",\"weight\":1},{\"label\":\"3\",\"weight\":1,\"from\":\"1\",\"to\":\"2\"},{\"from\":\"2\",\"weight\":1,\"to\":\"3\",\"label\":\"4\"},{\"weight\":1,\"to\":\"5\",\"label\":\"5\",\"from\":\"3\"},{\"from\":\"5\",\"label\":\"6\",\"weight\":1,\"to\":\"4\"},{\"from\":\"4\",\"weight\":1,\"to\":\"3\",\"label\":\"7\"}];\n\nconst vertexCoordinates = {\"1\":{\"x\":10,\"y\":30},\"2\":{\"y\":20,\"x\":0},\"3\":{\"y\":20,\"x\":20},\"5\":{\"y\":10,\"x\":20},\"4\":{\"y\":10,\"x\":0}};\n\nconst highlightSpecs = {};\n\nconst links = edges.map(e => ({\n  source: e.from,\n  target: e.to,\n  weight: e.weight,\n  label: e.label\n}));\n\nconst nodes = Object.keys(vertexCoordinates).map(key => ({\n  id: key,\n  x: vertexCoordinates[key].x,\n  y: vertexCoordinates[key].y\n}));\n\nvar xMin = Math.min.apply(Math, nodes.map(function(o) { return o.x; }))\nvar xMax = Math.max.apply(Math, nodes.map(function(o) { return o.x; }))\n\nvar yMin = Math.min.apply(Math, nodes.map(function(o) { return o.y; }))\nvar yMax = Math.max.apply(Math, nodes.map(function(o) { return o.y; }))\n\n// X scale and Axis\nvar xScale = d3.scaleLinear()\n    .domain([xMin, xMax])\n    .range([0, width]);\n\n// Y scale and Axis\nvar yScale = d3.scaleLinear()\n    .domain([yMin, yMax])\n    .range([height, 0]);\n\nnodes.forEach(node => {\n  node.x = xScale(node.x);\n  node.y = yScale(node.y);\n});\n\nconst link = svg.append(\"g\")\n    .attr(\"class\", \"links\")\n  .selectAll(\"line\")\n  .data(links)\n  .enter().append(\"line\")\n    .attr(\"class\", \"link\")\n    .attr(\"stroke\", d => {\n        for (const [color, items] of Object.entries(highlightSpecs)) {\n            if (items.some(item => Array.isArray(item) && item[0] === d.source && item[1] === d.target)) {\n                return color;\n            }\n        }\n        return \"SteelBlue\";\n    })\n    .attr(\"stroke-width\", 3)\n    .attr(\"x1\", d => nodes.find(n => n.id === d.source).x)\n    .attr(\"y1\", d => nodes.find(n => n.id === d.source).y)\n    .attr(\"x2\", d => nodes.find(n => n.id === d.target).x)\n    .attr(\"y2\", d => nodes.find(n => n.id === d.target).y);\n\nconst node = svg.append(\"g\")\n    .attr(\"class\", \"nodes\")\n  .selectAll(\"circle\")\n  .data(nodes)\n  .enter().append(\"circle\")\n    .attr(\"class\", \"node\")\n    .attr(\"r\", 6)\n    .attr(\"cx\", d => d.x)\n    .attr(\"cy\", d => d.y)\n    .attr(\"stroke\", d => {\n       for (const [color, items] of Object.entries(highlightSpecs)) {\n         if (items.includes(d.id)) {\n            return color;\n         }\n       }\n       return \"SteelBlue\";\n    })\n    .attr(\"fill\", d => {\n       for (const [color, items] of Object.entries(highlightSpecs)) {\n         if (items.includes(d.id)) {\n            return color;\n         }\n       }\n       return \"SteelBlue\";\n    })\n    .call(d3.drag()\n      .on(\"start\", dragstarted)\n      .on(\"drag\", dragged)\n      .on(\"end\", dragended));\n\n\nnode.append(\"title\")\n    .text(d => d.id);\n\nconst nodeLabel = svg.append(\"g\")\n    .attr(\"class\", \"node-labels\")\n  .selectAll(\"text\")\n  .data(nodes)\n  .enter().append(\"text\")\n    .attr(\"class\", \"node-label\")\n    .style(\"font-size\", 13)\n    .attr(\"font-family\", \"Courier New\")\n    .attr(\"font-weight\", 100)\n    .attr(\"dy\", -10)\n    .attr(\"x\", d => d.x)\n    .attr(\"y\", d => d.y)\n    .attr('fill', \"Gray\")\n    .attr('stroke', \"Gray\")\n    .text(d => d.id);\n\nconst linkLabel = svg.append(\"g\")\n    .attr(\"class\", \"link-labels\")\n  .selectAll(\"text\")\n  .data(links)\n  .enter().append(\"text\")\n    .filter(d => d.label !== \"\")\n    .attr(\"class\", \"link-label\")\n    .style(\"font-size\", 13)\n    .attr(\"font-family\", \"Courier New\")\n    .attr('fill', \"Ivory\")\n    .attr('stroke', \"Ivory\")\n    .attr(\"font-weight\", 100)\n    .attr(\"dy\", -10)\n    .attr(\"x\", d => xScale((vertexCoordinates[d.source].x + vertexCoordinates[d.target].x) / 2))\n    .attr(\"y\", d => yScale((vertexCoordinates[d.source].y + vertexCoordinates[d.target].y) / 2))\n    .text(d => d.label);\n\nfunction dragstarted(event, d) {\n  d3.select(this).raise().attr(\"stroke\", \"SteelBlue\");\n}\n\nfunction dragged(event, d) {\n  d.x = event.x;\n  d.y = event.y;\n  d3.select(this).attr(\"cx\", d.x).attr(\"cy\", d.y);\n  link\n    .attr(\"x1\", l => nodes.find(n => n.id === l.source).x)\n    .attr(\"y1\", l => nodes.find(n => n.id === l.source).y)\n    .attr(\"x2\", l => nodes.find(n => n.id === l.target).x)\n    .attr(\"y2\", l => nodes.find(n => n.id === l.target).y);\n}\n\nfunction dragended(event, d) {\n  d3.select(this).attr(\"stroke\", null);\n}\n\n}) })(element);\n"
     },
     "execution_count": 10,
     "metadata": {},
     "output_type": "execute_result"
    }
   ],
   "source": [
    "#% js\n",
    "@dsTourEdges\n",
    "==> js-d3-graph-plot(\n",
    "        :%vertex-coordinates,\n",
    "        :$background, \n",
    "        :$title-color, \n",
    "        width => 500, \n",
    "        :$edge-thickness,\n",
    "        vertex-label-color => 'Gray',\n",
    "        edge-label-color => 'Ivory',\n",
    "        :$vertex-size, \n",
    "        force => {charge => {strength => -400, iterations => 2}, collision => {radius => 50, iterations => 1}, link => {minDistance => 80}}\n",
    "    )"
   ]
  },
  {
   "cell_type": "markdown",
   "metadata": {},
   "source": [
    "------\n",
    "\n",
    "## Non-even vertex degrees"
   ]
  },
  {
   "cell_type": "code",
   "execution_count": 11,
   "metadata": {},
   "outputs": [
    {
     "data": {
      "application/javascript": "(function(element) { require(['d3'], function(d3) {\n\n// set the dimensions and margins of the graph\nvar margin = {\"right\":40,\"left\":40,\"bottom\":40,\"top\":40},\n    width = 500 - margin.left - margin.right,\n    height = 309 - margin.top - margin.bottom;\n\n// append the svg object to the body of the page\nvar svg = d3\n   .select(element.get(0))\n  .append(\"svg\")\n    .attr(\"width\", width + margin.left + margin.right)\n    .attr(\"height\", height + margin.top + margin.bottom)\n    .style(\"background\", \"1F1F1F\")\n  .append(\"g\")\n    .attr(\"transform\",\n          \"translate(\" + margin.left + \",\" + margin.top + \")\")\n\n// Obtain title\nvar title = \"\"\nvar titleFontSize = 16\n\nif ( title.length > 0 ) {\n    svg.append(\"text\")\n        .attr(\"x\", (width / 2))\n        .attr(\"y\", 0 - (margin.top / 2))\n        .attr(\"text-anchor\", \"middle\")\n        .style(\"font-size\", titleFontSize.toString() + \"px\")\n        .style(\"fill\", \"Ivory\")\n        .text(title);\n}\n\nconst edges = [{\"to\":\"5\",\"label\":\"\",\"weight\":1,\"from\":\"4\"},{\"from\":\"4\",\"to\":\"3\",\"label\":\"\",\"weight\":1},{\"from\":\"4\",\"label\":\"\",\"weight\":1,\"to\":\"0\"},{\"weight\":1,\"label\":\"\",\"to\":\"5\",\"from\":\"6\"},{\"to\":\"1\",\"label\":\"\",\"weight\":1,\"from\":\"6\"},{\"from\":\"6\",\"label\":\"\",\"to\":\"0\",\"weight\":1},{\"label\":\"\",\"to\":\"1\",\"weight\":1,\"from\":\"2\"},{\"label\":\"\",\"weight\":1,\"from\":\"2\",\"to\":\"3\"},{\"label\":\"\",\"from\":\"2\",\"weight\":1,\"to\":\"0\"},{\"label\":\"\",\"from\":\"0\",\"to\":\"1\",\"weight\":1},{\"label\":\"\",\"from\":\"0\",\"weight\":1,\"to\":\"3\"},{\"label\":\"\",\"from\":\"0\",\"to\":\"5\",\"weight\":1}];\n\nconst nodes = Array.from(new Set(edges.flatMap(e => [e.from, e.to])), id => ({id}));\n\nconst highlightSpecs = {};\n\nconst links = edges.map(e => ({\n  source: e.from,\n  target: e.to,\n  weight: e.weight,\n  label: e.label,\n}));\n\n//.force(\"link\", d3.forceLink(links).id(d => d.id).distance(d => Math.max(d.weight * 20, 6 * 4)))\nconst simulation = d3.forceSimulation(nodes)\n    .force(\"link\", d3.forceLink(links).id(d => d.id).iterations(1))\n    .force(\"charge\", d3.forceManyBody().strength(-800).distanceMin(1).distanceMax(2000))\n    .force(\"x\", d3.forceX())\n    .force(\"y\", d3.forceY())\n    .force(\"collision\", d3.forceCollide().radius(10))\n    .force(\"center\", d3.forceCenter(width / 2, height / 2));\n\nsvg.append('defs').append('marker')\n    .attr(\"id\",'arrowhead')\n    .attr('viewBox','-0 -5 10 10') //the bound of the SVG viewport for the current SVG fragment. defines a coordinate system 10 wide and 10 high starting on (0,-5)\n     .attr('refX', 16) // x coordinate for the reference point of the marker. If circle is bigger, this need to be bigger.\n     .attr('refY',0)\n     .attr('orient','auto')\n        .attr('markerWidth', 5)\n        .attr('markerHeight', 5)\n        .attr('xoverflow','visible')\n    .append('svg:path')\n    .attr('d', 'M 0,-5 L 10 ,0 L 0,5')\n    .attr('fill', \"SteelBlue\")\n    .style('stroke','none');\n\nconst link = svg.append(\"g\")\n    .attr(\"class\", \"links\")\n  .selectAll(\"line\")\n  .data(links)\n  .enter().append(\"line\")\n    .attr(\"class\", \"link\")\n    .attr(\"stroke\", d => {\n        for (const [color, items] of Object.entries(highlightSpecs)) {\n            if (items.some(item => Array.isArray(item) && item[0] === d.source.id && item[1] === d.target.id)) {\n                return color;\n            }\n        }\n        return \"SteelBlue\";\n    })\n    .attr(\"stroke-width\", 3)\n    \n\nconst node = svg.append(\"g\")\n    .attr(\"class\", \"nodes\")\n  .selectAll(\"circle\")\n  .data(nodes)\n  .enter().append(\"circle\")\n    .attr(\"class\", \"node\")\n    .attr(\"r\", 6)\n    .attr(\"stroke\", d => {\n       for (const [color, items] of Object.entries(highlightSpecs)) {\n         if (items.includes(d.id)) {\n            return color;\n         }\n       }\n       return \"SteelBlue\";\n    })\n    .attr(\"fill\", d => {\n       for (const [color, items] of Object.entries(highlightSpecs)) {\n         if (items.includes(d.id)) {\n            return color;\n         }\n       }\n       return \"SteelBlue\";\n    })\n    .call(drag(simulation));\n\nnode.append(\"title\")\n    .text(d => d.id);\n\nconst nodeLabel = svg.append(\"g\")\n    .attr(\"class\", \"node-labels\")\n  .selectAll(\"text\")\n  .data(nodes)\n  .enter().append(\"text\")\n    .attr(\"class\", \"node-label\")\n    .style(\"font-size\", 13)\n    .attr(\"font-family\", \"Courier New\")\n    .attr(\"font-weight\", 100)\n    .attr(\"dy\", -10)\n    .attr('fill', \"Ivory\")\n    .attr('stroke', \"Ivory\")\n    .text(d => d.id);\n\nconst linkLabel = svg.append(\"g\")\n    .attr(\"class\", \"link-labels\")\n  .selectAll(\"text\")\n  .data(links)\n  .enter().append(\"text\")\n    .filter(d => d.label !== \"\")\n    .attr(\"class\", \"link-label\")\n    .style(\"font-size\", 13)\n    .attr(\"font-family\", \"Courier\")\n    .attr('fill', \"Ivory\")\n    .attr('stroke', \"Ivory\")\n    .text(d => d.label);\n\nsimulation.on(\"tick\", () => {\n  link\n      .attr(\"x1\", d => d.source.x)\n      .attr(\"y1\", d => d.source.y)\n      .attr(\"x2\", d => d.target.x)\n      .attr(\"y2\", d => d.target.y);\n\n  node\n      .attr(\"cx\", d => d.x)\n      .attr(\"cy\", d => d.y);\n\n  nodeLabel\n      .attr(\"x\", d => d.x)\n      .attr(\"y\", d => d.y);\n\n  linkLabel\n      .attr(\"x\", d => (d.source.x + d.target.x) / 2)\n      .attr(\"y\", d => (d.source.y + d.target.y) / 2);\n});\n\nfunction drag(simulation) {\n  function dragstarted(event, d) {\n    if (!event.active) simulation.alphaTarget(0.3).restart();\n    d.fx = d.x;\n    d.fy = d.y;\n  }\n\n  function dragged(event, d) {\n    d.fx = event.x;\n    d.fy = event.y;\n  }\n\n  function dragended(event, d) {\n    if (!event.active) simulation.alphaTarget(0);\n    d.fx = null;\n    d.fy = null;\n  }\n\n  return d3.drag()\n      .on(\"start\", dragstarted)\n      .on(\"drag\", dragged)\n      .on(\"end\", dragended);\n}\n\n}) })(element);\n"
     },
     "execution_count": 11,
     "metadata": {},
     "output_type": "execute_result"
    }
   ],
   "source": [
    "#% js\n",
    "my $g = Graph::Wheel.new(6);\n",
    "\n",
    "$g.edges(:dataset) \n",
    "==> js-d3-graph-plot(\n",
    "        :$background, \n",
    "        :$title-color, \n",
    "        width => 500, \n",
    "        :$edge-thickness,\n",
    "        :$vertex-size, \n",
    "        force => {charge => {strength => -800, iterations => 2}, collision => {radius => 10, iterations => 1}, link => {minDistance => 10}}\n",
    "    )"
   ]
  },
  {
   "cell_type": "code",
   "execution_count": 12,
   "metadata": {},
   "outputs": [
    {
     "data": {
      "text/plain": [
       "The method find-postman-tour only works on Eulerian and semi-Eulerian graphs."
      ]
     },
     "execution_count": 12,
     "metadata": {},
     "output_type": "execute_result"
    }
   ],
   "source": [
    "my @tour = $g.find-postman-tour"
   ]
  },
  {
   "cell_type": "code",
   "execution_count": null,
   "metadata": {},
   "outputs": [],
   "source": [
    "my @dsTourEdges = @tour.rotor(2 => -1).pairs.map({ %(from => $_.value.head, to => $_.value.tail, label => $_.key.Str) })"
   ]
  },
  {
   "cell_type": "code",
   "execution_count": null,
   "metadata": {},
   "outputs": [],
   "source": [
    "my $n = $g.vertex-count - 1;\n",
    "my %vertex-coordinates = (^$n).map({ ($_ + 1).Str => [cos($_ * 2 * pi / $n), sin($_ * 2 * pi / $n)] });\n",
    "%vertex-coordinates.push( '0' => [0, 0])"
   ]
  },
  {
   "cell_type": "code",
   "execution_count": null,
   "metadata": {},
   "outputs": [],
   "source": [
    "#% js\n",
    "@dsTourEdges\n",
    "==> js-d3-graph-plot(\n",
    "        #:%vertex-coordinates,\n",
    "        :$background, \n",
    "        :$title-color, \n",
    "        width => 500, \n",
    "        :$edge-thickness,\n",
    "        edge-label-color => 'Silver',\n",
    "        vertex-label-color => 'Gray',\n",
    "        :$vertex-size, \n",
    "        force => {charge => {strength => -600, iterations => 2}, collision => {radius => 10, iterations => 1}, link => {minDistance => 10}}\n",
    "    )"
   ]
  },
  {
   "cell_type": "code",
   "execution_count": null,
   "metadata": {},
   "outputs": [],
   "source": []
  }
 ],
 "metadata": {
  "kernelspec": {
   "display_name": "RakuChatbook",
   "language": "raku",
   "name": "raku"
  },
  "language_info": {
   "file_extension": ".raku",
   "mimetype": "text/x-raku",
   "name": "raku",
   "version": "6.d"
  }
 },
 "nbformat": 4,
 "nbformat_minor": 2
}
